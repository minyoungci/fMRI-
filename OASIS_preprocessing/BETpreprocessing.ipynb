{
 "cells": [
  {
   "cell_type": "code",
   "execution_count": 3,
   "metadata": {},
   "outputs": [
    {
     "name": "stdout",
     "output_type": "stream",
     "text": [
      "Starting preprocessing...\n",
      "Found functional file: /home/minyoungxi/MINYOUNGXI/XFL/Data/OASISSamples7.1/OAS30033_MR_d0133/func1/NIFTI/sub-OAS30033_ses-d0133_task-rest_run-01_bold.nii.gz\n",
      "Preprocessing fMRI data for subject 30033, session 0133\n",
      "Running BET on /home/minyoungxi/MINYOUNGXI/XFL/Data/OASIS_MNI_to_TRs/first_volume.nii.gz\n"
     ]
    },
    {
     "name": "stderr",
     "output_type": "stream",
     "text": [
      "Processing volumes for subject 30033:   0%|          | 0/164 [00:00<?, ?it/s]"
     ]
    },
    {
     "name": "stdout",
     "output_type": "stream",
     "text": [
      "Applying mask to /home/minyoungxi/MINYOUNGXI/XFL/Data/OASIS_MNI_to_TRs/volume_0.nii.gz\n",
      "Running FLIRT on /home/minyoungxi/MINYOUNGXI/XFL/Data/OASIS_MNI_to_TRs/masked_volume_0.nii.gz\n"
     ]
    },
    {
     "name": "stderr",
     "output_type": "stream",
     "text": [
      "Processing volumes for subject 30033:   1%|          | 1/164 [00:04<13:26,  4.94s/it]"
     ]
    },
    {
     "name": "stdout",
     "output_type": "stream",
     "text": [
      "Applying mask to /home/minyoungxi/MINYOUNGXI/XFL/Data/OASIS_MNI_to_TRs/volume_1.nii.gz\n",
      "Running FLIRT on /home/minyoungxi/MINYOUNGXI/XFL/Data/OASIS_MNI_to_TRs/masked_volume_1.nii.gz\n"
     ]
    },
    {
     "name": "stderr",
     "output_type": "stream",
     "text": [
      "Processing volumes for subject 30033:   1%|          | 2/164 [00:09<13:15,  4.91s/it]"
     ]
    },
    {
     "name": "stdout",
     "output_type": "stream",
     "text": [
      "Applying mask to /home/minyoungxi/MINYOUNGXI/XFL/Data/OASIS_MNI_to_TRs/volume_2.nii.gz\n",
      "Running FLIRT on /home/minyoungxi/MINYOUNGXI/XFL/Data/OASIS_MNI_to_TRs/masked_volume_2.nii.gz\n"
     ]
    },
    {
     "name": "stderr",
     "output_type": "stream",
     "text": [
      "Processing volumes for subject 30033:   2%|▏         | 3/164 [00:14<13:17,  4.95s/it]"
     ]
    },
    {
     "name": "stdout",
     "output_type": "stream",
     "text": [
      "Applying mask to /home/minyoungxi/MINYOUNGXI/XFL/Data/OASIS_MNI_to_TRs/volume_3.nii.gz\n",
      "Running FLIRT on /home/minyoungxi/MINYOUNGXI/XFL/Data/OASIS_MNI_to_TRs/masked_volume_3.nii.gz\n"
     ]
    },
    {
     "name": "stderr",
     "output_type": "stream",
     "text": [
      "Processing volumes for subject 30033:   2%|▏         | 4/164 [00:19<13:14,  4.96s/it]"
     ]
    },
    {
     "name": "stdout",
     "output_type": "stream",
     "text": [
      "Applying mask to /home/minyoungxi/MINYOUNGXI/XFL/Data/OASIS_MNI_to_TRs/volume_4.nii.gz\n",
      "Running FLIRT on /home/minyoungxi/MINYOUNGXI/XFL/Data/OASIS_MNI_to_TRs/masked_volume_4.nii.gz\n"
     ]
    },
    {
     "name": "stderr",
     "output_type": "stream",
     "text": [
      "Processing volumes for subject 30033:   3%|▎         | 5/164 [00:24<13:09,  4.96s/it]"
     ]
    },
    {
     "name": "stdout",
     "output_type": "stream",
     "text": [
      "Applying mask to /home/minyoungxi/MINYOUNGXI/XFL/Data/OASIS_MNI_to_TRs/volume_5.nii.gz\n",
      "Running FLIRT on /home/minyoungxi/MINYOUNGXI/XFL/Data/OASIS_MNI_to_TRs/masked_volume_5.nii.gz\n"
     ]
    },
    {
     "name": "stderr",
     "output_type": "stream",
     "text": [
      "Processing volumes for subject 30033:   4%|▎         | 6/164 [00:29<13:01,  4.94s/it]"
     ]
    },
    {
     "name": "stdout",
     "output_type": "stream",
     "text": [
      "Applying mask to /home/minyoungxi/MINYOUNGXI/XFL/Data/OASIS_MNI_to_TRs/volume_6.nii.gz\n",
      "Running FLIRT on /home/minyoungxi/MINYOUNGXI/XFL/Data/OASIS_MNI_to_TRs/masked_volume_6.nii.gz\n"
     ]
    },
    {
     "name": "stderr",
     "output_type": "stream",
     "text": [
      "Processing volumes for subject 30033:   4%|▍         | 7/164 [00:34<12:59,  4.97s/it]"
     ]
    },
    {
     "name": "stdout",
     "output_type": "stream",
     "text": [
      "Applying mask to /home/minyoungxi/MINYOUNGXI/XFL/Data/OASIS_MNI_to_TRs/volume_7.nii.gz\n",
      "Running FLIRT on /home/minyoungxi/MINYOUNGXI/XFL/Data/OASIS_MNI_to_TRs/masked_volume_7.nii.gz\n"
     ]
    },
    {
     "name": "stderr",
     "output_type": "stream",
     "text": [
      "Processing volumes for subject 30033:   5%|▍         | 8/164 [00:39<12:54,  4.97s/it]"
     ]
    },
    {
     "name": "stdout",
     "output_type": "stream",
     "text": [
      "Applying mask to /home/minyoungxi/MINYOUNGXI/XFL/Data/OASIS_MNI_to_TRs/volume_8.nii.gz\n",
      "Running FLIRT on /home/minyoungxi/MINYOUNGXI/XFL/Data/OASIS_MNI_to_TRs/masked_volume_8.nii.gz\n"
     ]
    },
    {
     "name": "stderr",
     "output_type": "stream",
     "text": [
      "Processing volumes for subject 30033:   5%|▌         | 9/164 [00:44<12:49,  4.97s/it]"
     ]
    },
    {
     "name": "stdout",
     "output_type": "stream",
     "text": [
      "Applying mask to /home/minyoungxi/MINYOUNGXI/XFL/Data/OASIS_MNI_to_TRs/volume_9.nii.gz\n",
      "Running FLIRT on /home/minyoungxi/MINYOUNGXI/XFL/Data/OASIS_MNI_to_TRs/masked_volume_9.nii.gz\n"
     ]
    },
    {
     "name": "stderr",
     "output_type": "stream",
     "text": [
      "Processing volumes for subject 30033:   6%|▌         | 10/164 [00:49<12:47,  4.98s/it]"
     ]
    },
    {
     "name": "stdout",
     "output_type": "stream",
     "text": [
      "Applying mask to /home/minyoungxi/MINYOUNGXI/XFL/Data/OASIS_MNI_to_TRs/volume_10.nii.gz\n",
      "Running FLIRT on /home/minyoungxi/MINYOUNGXI/XFL/Data/OASIS_MNI_to_TRs/masked_volume_10.nii.gz\n"
     ]
    },
    {
     "name": "stderr",
     "output_type": "stream",
     "text": [
      "Processing volumes for subject 30033:   7%|▋         | 11/164 [00:54<12:41,  4.98s/it]"
     ]
    },
    {
     "name": "stdout",
     "output_type": "stream",
     "text": [
      "Applying mask to /home/minyoungxi/MINYOUNGXI/XFL/Data/OASIS_MNI_to_TRs/volume_11.nii.gz\n",
      "Running FLIRT on /home/minyoungxi/MINYOUNGXI/XFL/Data/OASIS_MNI_to_TRs/masked_volume_11.nii.gz\n"
     ]
    },
    {
     "name": "stderr",
     "output_type": "stream",
     "text": [
      "Processing volumes for subject 30033:   7%|▋         | 12/164 [00:59<12:37,  4.98s/it]"
     ]
    },
    {
     "name": "stdout",
     "output_type": "stream",
     "text": [
      "Applying mask to /home/minyoungxi/MINYOUNGXI/XFL/Data/OASIS_MNI_to_TRs/volume_12.nii.gz\n",
      "Running FLIRT on /home/minyoungxi/MINYOUNGXI/XFL/Data/OASIS_MNI_to_TRs/masked_volume_12.nii.gz\n"
     ]
    },
    {
     "name": "stderr",
     "output_type": "stream",
     "text": [
      "Processing volumes for subject 30033:   8%|▊         | 13/164 [01:04<12:31,  4.98s/it]"
     ]
    },
    {
     "name": "stdout",
     "output_type": "stream",
     "text": [
      "Applying mask to /home/minyoungxi/MINYOUNGXI/XFL/Data/OASIS_MNI_to_TRs/volume_13.nii.gz\n",
      "Running FLIRT on /home/minyoungxi/MINYOUNGXI/XFL/Data/OASIS_MNI_to_TRs/masked_volume_13.nii.gz\n"
     ]
    },
    {
     "name": "stderr",
     "output_type": "stream",
     "text": [
      "Processing volumes for subject 30033:   9%|▊         | 14/164 [01:09<12:24,  4.96s/it]"
     ]
    },
    {
     "name": "stdout",
     "output_type": "stream",
     "text": [
      "Applying mask to /home/minyoungxi/MINYOUNGXI/XFL/Data/OASIS_MNI_to_TRs/volume_14.nii.gz\n",
      "Running FLIRT on /home/minyoungxi/MINYOUNGXI/XFL/Data/OASIS_MNI_to_TRs/masked_volume_14.nii.gz\n"
     ]
    },
    {
     "name": "stderr",
     "output_type": "stream",
     "text": [
      "Processing volumes for subject 30033:   9%|▉         | 15/164 [01:14<12:17,  4.95s/it]"
     ]
    },
    {
     "name": "stdout",
     "output_type": "stream",
     "text": [
      "Applying mask to /home/minyoungxi/MINYOUNGXI/XFL/Data/OASIS_MNI_to_TRs/volume_15.nii.gz\n",
      "Running FLIRT on /home/minyoungxi/MINYOUNGXI/XFL/Data/OASIS_MNI_to_TRs/masked_volume_15.nii.gz\n"
     ]
    },
    {
     "name": "stderr",
     "output_type": "stream",
     "text": [
      "Processing volumes for subject 30033:  10%|▉         | 16/164 [01:19<12:11,  4.94s/it]"
     ]
    },
    {
     "name": "stdout",
     "output_type": "stream",
     "text": [
      "Applying mask to /home/minyoungxi/MINYOUNGXI/XFL/Data/OASIS_MNI_to_TRs/volume_16.nii.gz\n",
      "Running FLIRT on /home/minyoungxi/MINYOUNGXI/XFL/Data/OASIS_MNI_to_TRs/masked_volume_16.nii.gz\n"
     ]
    },
    {
     "name": "stderr",
     "output_type": "stream",
     "text": [
      "Processing volumes for subject 30033:  10%|█         | 17/164 [01:24<12:07,  4.95s/it]"
     ]
    },
    {
     "name": "stdout",
     "output_type": "stream",
     "text": [
      "Applying mask to /home/minyoungxi/MINYOUNGXI/XFL/Data/OASIS_MNI_to_TRs/volume_17.nii.gz\n",
      "Running FLIRT on /home/minyoungxi/MINYOUNGXI/XFL/Data/OASIS_MNI_to_TRs/masked_volume_17.nii.gz\n"
     ]
    },
    {
     "name": "stderr",
     "output_type": "stream",
     "text": [
      "Processing volumes for subject 30033:  11%|█         | 18/164 [01:29<12:02,  4.95s/it]"
     ]
    },
    {
     "name": "stdout",
     "output_type": "stream",
     "text": [
      "Applying mask to /home/minyoungxi/MINYOUNGXI/XFL/Data/OASIS_MNI_to_TRs/volume_18.nii.gz\n",
      "Running FLIRT on /home/minyoungxi/MINYOUNGXI/XFL/Data/OASIS_MNI_to_TRs/masked_volume_18.nii.gz\n"
     ]
    },
    {
     "name": "stderr",
     "output_type": "stream",
     "text": [
      "Processing volumes for subject 30033:  12%|█▏        | 19/164 [01:34<11:56,  4.94s/it]"
     ]
    },
    {
     "name": "stdout",
     "output_type": "stream",
     "text": [
      "Applying mask to /home/minyoungxi/MINYOUNGXI/XFL/Data/OASIS_MNI_to_TRs/volume_19.nii.gz\n",
      "Running FLIRT on /home/minyoungxi/MINYOUNGXI/XFL/Data/OASIS_MNI_to_TRs/masked_volume_19.nii.gz\n"
     ]
    },
    {
     "name": "stderr",
     "output_type": "stream",
     "text": [
      "Processing volumes for subject 30033:  12%|█▏        | 20/164 [01:39<11:49,  4.93s/it]"
     ]
    },
    {
     "name": "stdout",
     "output_type": "stream",
     "text": [
      "Applying mask to /home/minyoungxi/MINYOUNGXI/XFL/Data/OASIS_MNI_to_TRs/volume_20.nii.gz\n",
      "Running FLIRT on /home/minyoungxi/MINYOUNGXI/XFL/Data/OASIS_MNI_to_TRs/masked_volume_20.nii.gz\n"
     ]
    },
    {
     "name": "stderr",
     "output_type": "stream",
     "text": [
      "Processing volumes for subject 30033:  13%|█▎        | 21/164 [01:44<11:45,  4.94s/it]"
     ]
    },
    {
     "name": "stdout",
     "output_type": "stream",
     "text": [
      "Applying mask to /home/minyoungxi/MINYOUNGXI/XFL/Data/OASIS_MNI_to_TRs/volume_21.nii.gz\n",
      "Running FLIRT on /home/minyoungxi/MINYOUNGXI/XFL/Data/OASIS_MNI_to_TRs/masked_volume_21.nii.gz\n"
     ]
    },
    {
     "name": "stderr",
     "output_type": "stream",
     "text": [
      "Processing volumes for subject 30033:  13%|█▎        | 22/164 [01:48<11:40,  4.93s/it]"
     ]
    },
    {
     "name": "stdout",
     "output_type": "stream",
     "text": [
      "Applying mask to /home/minyoungxi/MINYOUNGXI/XFL/Data/OASIS_MNI_to_TRs/volume_22.nii.gz\n",
      "Running FLIRT on /home/minyoungxi/MINYOUNGXI/XFL/Data/OASIS_MNI_to_TRs/masked_volume_22.nii.gz\n"
     ]
    },
    {
     "name": "stderr",
     "output_type": "stream",
     "text": [
      "Processing volumes for subject 30033:  14%|█▍        | 23/164 [01:54<11:42,  4.98s/it]"
     ]
    },
    {
     "name": "stdout",
     "output_type": "stream",
     "text": [
      "Applying mask to /home/minyoungxi/MINYOUNGXI/XFL/Data/OASIS_MNI_to_TRs/volume_23.nii.gz\n",
      "Running FLIRT on /home/minyoungxi/MINYOUNGXI/XFL/Data/OASIS_MNI_to_TRs/masked_volume_23.nii.gz\n"
     ]
    },
    {
     "name": "stderr",
     "output_type": "stream",
     "text": [
      "Processing volumes for subject 30033:  15%|█▍        | 24/164 [01:58<11:32,  4.95s/it]"
     ]
    },
    {
     "name": "stdout",
     "output_type": "stream",
     "text": [
      "Applying mask to /home/minyoungxi/MINYOUNGXI/XFL/Data/OASIS_MNI_to_TRs/volume_24.nii.gz\n",
      "Running FLIRT on /home/minyoungxi/MINYOUNGXI/XFL/Data/OASIS_MNI_to_TRs/masked_volume_24.nii.gz\n"
     ]
    },
    {
     "name": "stderr",
     "output_type": "stream",
     "text": [
      "Processing volumes for subject 30033:  15%|█▌        | 25/164 [02:03<11:29,  4.96s/it]"
     ]
    },
    {
     "name": "stdout",
     "output_type": "stream",
     "text": [
      "Applying mask to /home/minyoungxi/MINYOUNGXI/XFL/Data/OASIS_MNI_to_TRs/volume_25.nii.gz\n",
      "Running FLIRT on /home/minyoungxi/MINYOUNGXI/XFL/Data/OASIS_MNI_to_TRs/masked_volume_25.nii.gz\n"
     ]
    },
    {
     "name": "stderr",
     "output_type": "stream",
     "text": [
      "Processing volumes for subject 30033:  16%|█▌        | 26/164 [02:08<11:25,  4.97s/it]"
     ]
    },
    {
     "name": "stdout",
     "output_type": "stream",
     "text": [
      "Applying mask to /home/minyoungxi/MINYOUNGXI/XFL/Data/OASIS_MNI_to_TRs/volume_26.nii.gz\n",
      "Running FLIRT on /home/minyoungxi/MINYOUNGXI/XFL/Data/OASIS_MNI_to_TRs/masked_volume_26.nii.gz\n"
     ]
    },
    {
     "name": "stderr",
     "output_type": "stream",
     "text": [
      "Processing volumes for subject 30033:  16%|█▋        | 27/164 [02:13<11:25,  5.00s/it]"
     ]
    },
    {
     "name": "stdout",
     "output_type": "stream",
     "text": [
      "Applying mask to /home/minyoungxi/MINYOUNGXI/XFL/Data/OASIS_MNI_to_TRs/volume_27.nii.gz\n",
      "Running FLIRT on /home/minyoungxi/MINYOUNGXI/XFL/Data/OASIS_MNI_to_TRs/masked_volume_27.nii.gz\n"
     ]
    },
    {
     "name": "stderr",
     "output_type": "stream",
     "text": [
      "Processing volumes for subject 30033:  17%|█▋        | 28/164 [02:18<11:19,  4.99s/it]"
     ]
    },
    {
     "name": "stdout",
     "output_type": "stream",
     "text": [
      "Applying mask to /home/minyoungxi/MINYOUNGXI/XFL/Data/OASIS_MNI_to_TRs/volume_28.nii.gz\n",
      "Running FLIRT on /home/minyoungxi/MINYOUNGXI/XFL/Data/OASIS_MNI_to_TRs/masked_volume_28.nii.gz\n"
     ]
    },
    {
     "name": "stderr",
     "output_type": "stream",
     "text": [
      "Processing volumes for subject 30033:  18%|█▊        | 29/164 [02:23<11:10,  4.97s/it]"
     ]
    },
    {
     "name": "stdout",
     "output_type": "stream",
     "text": [
      "Applying mask to /home/minyoungxi/MINYOUNGXI/XFL/Data/OASIS_MNI_to_TRs/volume_29.nii.gz\n",
      "Running FLIRT on /home/minyoungxi/MINYOUNGXI/XFL/Data/OASIS_MNI_to_TRs/masked_volume_29.nii.gz\n"
     ]
    },
    {
     "name": "stderr",
     "output_type": "stream",
     "text": [
      "Processing volumes for subject 30033:  18%|█▊        | 30/164 [02:28<11:04,  4.96s/it]"
     ]
    },
    {
     "name": "stdout",
     "output_type": "stream",
     "text": [
      "Applying mask to /home/minyoungxi/MINYOUNGXI/XFL/Data/OASIS_MNI_to_TRs/volume_30.nii.gz\n",
      "Running FLIRT on /home/minyoungxi/MINYOUNGXI/XFL/Data/OASIS_MNI_to_TRs/masked_volume_30.nii.gz\n"
     ]
    },
    {
     "name": "stderr",
     "output_type": "stream",
     "text": [
      "Processing volumes for subject 30033:  19%|█▉        | 31/164 [02:33<10:58,  4.95s/it]"
     ]
    },
    {
     "name": "stdout",
     "output_type": "stream",
     "text": [
      "Applying mask to /home/minyoungxi/MINYOUNGXI/XFL/Data/OASIS_MNI_to_TRs/volume_31.nii.gz\n",
      "Running FLIRT on /home/minyoungxi/MINYOUNGXI/XFL/Data/OASIS_MNI_to_TRs/masked_volume_31.nii.gz\n"
     ]
    },
    {
     "name": "stderr",
     "output_type": "stream",
     "text": [
      "Processing volumes for subject 30033:  20%|█▉        | 32/164 [02:38<10:53,  4.95s/it]"
     ]
    },
    {
     "name": "stdout",
     "output_type": "stream",
     "text": [
      "Applying mask to /home/minyoungxi/MINYOUNGXI/XFL/Data/OASIS_MNI_to_TRs/volume_32.nii.gz\n",
      "Running FLIRT on /home/minyoungxi/MINYOUNGXI/XFL/Data/OASIS_MNI_to_TRs/masked_volume_32.nii.gz\n"
     ]
    },
    {
     "name": "stderr",
     "output_type": "stream",
     "text": [
      "Processing volumes for subject 30033:  20%|██        | 33/164 [02:43<10:48,  4.95s/it]"
     ]
    },
    {
     "name": "stdout",
     "output_type": "stream",
     "text": [
      "Applying mask to /home/minyoungxi/MINYOUNGXI/XFL/Data/OASIS_MNI_to_TRs/volume_33.nii.gz\n",
      "Running FLIRT on /home/minyoungxi/MINYOUNGXI/XFL/Data/OASIS_MNI_to_TRs/masked_volume_33.nii.gz\n"
     ]
    },
    {
     "name": "stderr",
     "output_type": "stream",
     "text": [
      "Processing volumes for subject 30033:  21%|██        | 34/164 [02:48<10:43,  4.95s/it]"
     ]
    },
    {
     "name": "stdout",
     "output_type": "stream",
     "text": [
      "Applying mask to /home/minyoungxi/MINYOUNGXI/XFL/Data/OASIS_MNI_to_TRs/volume_34.nii.gz\n",
      "Running FLIRT on /home/minyoungxi/MINYOUNGXI/XFL/Data/OASIS_MNI_to_TRs/masked_volume_34.nii.gz\n"
     ]
    },
    {
     "name": "stderr",
     "output_type": "stream",
     "text": [
      "Processing volumes for subject 30033:  21%|██▏       | 35/164 [02:53<10:38,  4.95s/it]"
     ]
    },
    {
     "name": "stdout",
     "output_type": "stream",
     "text": [
      "Applying mask to /home/minyoungxi/MINYOUNGXI/XFL/Data/OASIS_MNI_to_TRs/volume_35.nii.gz\n",
      "Running FLIRT on /home/minyoungxi/MINYOUNGXI/XFL/Data/OASIS_MNI_to_TRs/masked_volume_35.nii.gz\n"
     ]
    },
    {
     "name": "stderr",
     "output_type": "stream",
     "text": [
      "Processing volumes for subject 30033:  22%|██▏       | 36/164 [02:58<10:33,  4.95s/it]"
     ]
    },
    {
     "name": "stdout",
     "output_type": "stream",
     "text": [
      "Applying mask to /home/minyoungxi/MINYOUNGXI/XFL/Data/OASIS_MNI_to_TRs/volume_36.nii.gz\n",
      "Running FLIRT on /home/minyoungxi/MINYOUNGXI/XFL/Data/OASIS_MNI_to_TRs/masked_volume_36.nii.gz\n"
     ]
    },
    {
     "name": "stderr",
     "output_type": "stream",
     "text": [
      "Processing volumes for subject 30033:  23%|██▎       | 37/164 [03:03<10:26,  4.94s/it]"
     ]
    },
    {
     "name": "stdout",
     "output_type": "stream",
     "text": [
      "Applying mask to /home/minyoungxi/MINYOUNGXI/XFL/Data/OASIS_MNI_to_TRs/volume_37.nii.gz\n",
      "Running FLIRT on /home/minyoungxi/MINYOUNGXI/XFL/Data/OASIS_MNI_to_TRs/masked_volume_37.nii.gz\n"
     ]
    },
    {
     "name": "stderr",
     "output_type": "stream",
     "text": [
      "Processing volumes for subject 30033:  23%|██▎       | 38/164 [03:08<10:21,  4.93s/it]"
     ]
    },
    {
     "name": "stdout",
     "output_type": "stream",
     "text": [
      "Applying mask to /home/minyoungxi/MINYOUNGXI/XFL/Data/OASIS_MNI_to_TRs/volume_38.nii.gz\n",
      "Running FLIRT on /home/minyoungxi/MINYOUNGXI/XFL/Data/OASIS_MNI_to_TRs/masked_volume_38.nii.gz\n"
     ]
    },
    {
     "name": "stderr",
     "output_type": "stream",
     "text": [
      "Processing volumes for subject 30033:  24%|██▍       | 39/164 [03:13<10:15,  4.93s/it]"
     ]
    },
    {
     "name": "stdout",
     "output_type": "stream",
     "text": [
      "Applying mask to /home/minyoungxi/MINYOUNGXI/XFL/Data/OASIS_MNI_to_TRs/volume_39.nii.gz\n",
      "Running FLIRT on /home/minyoungxi/MINYOUNGXI/XFL/Data/OASIS_MNI_to_TRs/masked_volume_39.nii.gz\n"
     ]
    },
    {
     "name": "stderr",
     "output_type": "stream",
     "text": [
      "Processing volumes for subject 30033:  24%|██▍       | 40/164 [03:18<10:12,  4.94s/it]"
     ]
    },
    {
     "name": "stdout",
     "output_type": "stream",
     "text": [
      "Applying mask to /home/minyoungxi/MINYOUNGXI/XFL/Data/OASIS_MNI_to_TRs/volume_40.nii.gz\n",
      "Running FLIRT on /home/minyoungxi/MINYOUNGXI/XFL/Data/OASIS_MNI_to_TRs/masked_volume_40.nii.gz\n"
     ]
    },
    {
     "name": "stderr",
     "output_type": "stream",
     "text": [
      "Processing volumes for subject 30033:  25%|██▌       | 41/164 [03:23<10:10,  4.96s/it]"
     ]
    },
    {
     "name": "stdout",
     "output_type": "stream",
     "text": [
      "Applying mask to /home/minyoungxi/MINYOUNGXI/XFL/Data/OASIS_MNI_to_TRs/volume_41.nii.gz\n",
      "Running FLIRT on /home/minyoungxi/MINYOUNGXI/XFL/Data/OASIS_MNI_to_TRs/masked_volume_41.nii.gz\n"
     ]
    },
    {
     "name": "stderr",
     "output_type": "stream",
     "text": [
      "Processing volumes for subject 30033:  26%|██▌       | 42/164 [03:28<10:04,  4.96s/it]"
     ]
    },
    {
     "name": "stdout",
     "output_type": "stream",
     "text": [
      "Applying mask to /home/minyoungxi/MINYOUNGXI/XFL/Data/OASIS_MNI_to_TRs/volume_42.nii.gz\n",
      "Running FLIRT on /home/minyoungxi/MINYOUNGXI/XFL/Data/OASIS_MNI_to_TRs/masked_volume_42.nii.gz\n"
     ]
    },
    {
     "name": "stderr",
     "output_type": "stream",
     "text": [
      "Processing volumes for subject 30033:  26%|██▌       | 43/164 [03:33<09:59,  4.95s/it]"
     ]
    },
    {
     "name": "stdout",
     "output_type": "stream",
     "text": [
      "Applying mask to /home/minyoungxi/MINYOUNGXI/XFL/Data/OASIS_MNI_to_TRs/volume_43.nii.gz\n",
      "Running FLIRT on /home/minyoungxi/MINYOUNGXI/XFL/Data/OASIS_MNI_to_TRs/masked_volume_43.nii.gz\n"
     ]
    },
    {
     "name": "stderr",
     "output_type": "stream",
     "text": [
      "Processing volumes for subject 30033:  27%|██▋       | 44/164 [03:38<09:53,  4.95s/it]"
     ]
    },
    {
     "name": "stdout",
     "output_type": "stream",
     "text": [
      "Applying mask to /home/minyoungxi/MINYOUNGXI/XFL/Data/OASIS_MNI_to_TRs/volume_44.nii.gz\n",
      "Running FLIRT on /home/minyoungxi/MINYOUNGXI/XFL/Data/OASIS_MNI_to_TRs/masked_volume_44.nii.gz\n"
     ]
    },
    {
     "name": "stderr",
     "output_type": "stream",
     "text": [
      "Processing volumes for subject 30033:  27%|██▋       | 45/164 [03:42<09:49,  4.95s/it]"
     ]
    },
    {
     "name": "stdout",
     "output_type": "stream",
     "text": [
      "Applying mask to /home/minyoungxi/MINYOUNGXI/XFL/Data/OASIS_MNI_to_TRs/volume_45.nii.gz\n",
      "Running FLIRT on /home/minyoungxi/MINYOUNGXI/XFL/Data/OASIS_MNI_to_TRs/masked_volume_45.nii.gz\n"
     ]
    },
    {
     "name": "stderr",
     "output_type": "stream",
     "text": [
      "Processing volumes for subject 30033:  28%|██▊       | 46/164 [03:47<09:44,  4.95s/it]"
     ]
    },
    {
     "name": "stdout",
     "output_type": "stream",
     "text": [
      "Applying mask to /home/minyoungxi/MINYOUNGXI/XFL/Data/OASIS_MNI_to_TRs/volume_46.nii.gz\n",
      "Running FLIRT on /home/minyoungxi/MINYOUNGXI/XFL/Data/OASIS_MNI_to_TRs/masked_volume_46.nii.gz\n"
     ]
    },
    {
     "name": "stderr",
     "output_type": "stream",
     "text": [
      "Processing volumes for subject 30033:  29%|██▊       | 47/164 [03:52<09:37,  4.93s/it]"
     ]
    },
    {
     "name": "stdout",
     "output_type": "stream",
     "text": [
      "Applying mask to /home/minyoungxi/MINYOUNGXI/XFL/Data/OASIS_MNI_to_TRs/volume_47.nii.gz\n",
      "Running FLIRT on /home/minyoungxi/MINYOUNGXI/XFL/Data/OASIS_MNI_to_TRs/masked_volume_47.nii.gz\n"
     ]
    },
    {
     "name": "stderr",
     "output_type": "stream",
     "text": [
      "Processing volumes for subject 30033:  29%|██▉       | 48/164 [03:57<09:31,  4.93s/it]"
     ]
    },
    {
     "name": "stdout",
     "output_type": "stream",
     "text": [
      "Applying mask to /home/minyoungxi/MINYOUNGXI/XFL/Data/OASIS_MNI_to_TRs/volume_48.nii.gz\n",
      "Running FLIRT on /home/minyoungxi/MINYOUNGXI/XFL/Data/OASIS_MNI_to_TRs/masked_volume_48.nii.gz\n"
     ]
    },
    {
     "name": "stderr",
     "output_type": "stream",
     "text": [
      "Processing volumes for subject 30033:  30%|██▉       | 49/164 [04:02<09:27,  4.93s/it]"
     ]
    },
    {
     "name": "stdout",
     "output_type": "stream",
     "text": [
      "Applying mask to /home/minyoungxi/MINYOUNGXI/XFL/Data/OASIS_MNI_to_TRs/volume_49.nii.gz\n",
      "Running FLIRT on /home/minyoungxi/MINYOUNGXI/XFL/Data/OASIS_MNI_to_TRs/masked_volume_49.nii.gz\n"
     ]
    },
    {
     "name": "stderr",
     "output_type": "stream",
     "text": [
      "Processing volumes for subject 30033:  30%|███       | 50/164 [04:07<09:23,  4.94s/it]"
     ]
    },
    {
     "name": "stdout",
     "output_type": "stream",
     "text": [
      "Applying mask to /home/minyoungxi/MINYOUNGXI/XFL/Data/OASIS_MNI_to_TRs/volume_50.nii.gz\n",
      "Running FLIRT on /home/minyoungxi/MINYOUNGXI/XFL/Data/OASIS_MNI_to_TRs/masked_volume_50.nii.gz\n"
     ]
    },
    {
     "name": "stderr",
     "output_type": "stream",
     "text": [
      "Processing volumes for subject 30033:  31%|███       | 51/164 [04:12<09:19,  4.95s/it]"
     ]
    },
    {
     "name": "stdout",
     "output_type": "stream",
     "text": [
      "Applying mask to /home/minyoungxi/MINYOUNGXI/XFL/Data/OASIS_MNI_to_TRs/volume_51.nii.gz\n",
      "Running FLIRT on /home/minyoungxi/MINYOUNGXI/XFL/Data/OASIS_MNI_to_TRs/masked_volume_51.nii.gz\n"
     ]
    },
    {
     "name": "stderr",
     "output_type": "stream",
     "text": [
      "Processing volumes for subject 30033:  32%|███▏      | 52/164 [04:17<09:14,  4.95s/it]"
     ]
    },
    {
     "name": "stdout",
     "output_type": "stream",
     "text": [
      "Applying mask to /home/minyoungxi/MINYOUNGXI/XFL/Data/OASIS_MNI_to_TRs/volume_52.nii.gz\n",
      "Running FLIRT on /home/minyoungxi/MINYOUNGXI/XFL/Data/OASIS_MNI_to_TRs/masked_volume_52.nii.gz\n"
     ]
    },
    {
     "name": "stderr",
     "output_type": "stream",
     "text": [
      "Processing volumes for subject 30033:  32%|███▏      | 53/164 [04:22<09:10,  4.96s/it]"
     ]
    },
    {
     "name": "stdout",
     "output_type": "stream",
     "text": [
      "Applying mask to /home/minyoungxi/MINYOUNGXI/XFL/Data/OASIS_MNI_to_TRs/volume_53.nii.gz\n",
      "Running FLIRT on /home/minyoungxi/MINYOUNGXI/XFL/Data/OASIS_MNI_to_TRs/masked_volume_53.nii.gz\n"
     ]
    },
    {
     "name": "stderr",
     "output_type": "stream",
     "text": [
      "Processing volumes for subject 30033:  33%|███▎      | 54/164 [04:27<09:04,  4.95s/it]"
     ]
    },
    {
     "name": "stdout",
     "output_type": "stream",
     "text": [
      "Applying mask to /home/minyoungxi/MINYOUNGXI/XFL/Data/OASIS_MNI_to_TRs/volume_54.nii.gz\n",
      "Running FLIRT on /home/minyoungxi/MINYOUNGXI/XFL/Data/OASIS_MNI_to_TRs/masked_volume_54.nii.gz\n"
     ]
    },
    {
     "name": "stderr",
     "output_type": "stream",
     "text": [
      "Processing volumes for subject 30033:  34%|███▎      | 55/164 [04:32<09:01,  4.97s/it]"
     ]
    },
    {
     "name": "stdout",
     "output_type": "stream",
     "text": [
      "Applying mask to /home/minyoungxi/MINYOUNGXI/XFL/Data/OASIS_MNI_to_TRs/volume_55.nii.gz\n",
      "Running FLIRT on /home/minyoungxi/MINYOUNGXI/XFL/Data/OASIS_MNI_to_TRs/masked_volume_55.nii.gz\n"
     ]
    },
    {
     "name": "stderr",
     "output_type": "stream",
     "text": [
      "Processing volumes for subject 30033:  34%|███▍      | 56/164 [04:37<08:57,  4.98s/it]"
     ]
    },
    {
     "name": "stdout",
     "output_type": "stream",
     "text": [
      "Applying mask to /home/minyoungxi/MINYOUNGXI/XFL/Data/OASIS_MNI_to_TRs/volume_56.nii.gz\n",
      "Running FLIRT on /home/minyoungxi/MINYOUNGXI/XFL/Data/OASIS_MNI_to_TRs/masked_volume_56.nii.gz\n"
     ]
    },
    {
     "name": "stderr",
     "output_type": "stream",
     "text": [
      "Processing volumes for subject 30033:  35%|███▍      | 57/164 [04:42<08:54,  5.00s/it]"
     ]
    },
    {
     "name": "stdout",
     "output_type": "stream",
     "text": [
      "Applying mask to /home/minyoungxi/MINYOUNGXI/XFL/Data/OASIS_MNI_to_TRs/volume_57.nii.gz\n",
      "Running FLIRT on /home/minyoungxi/MINYOUNGXI/XFL/Data/OASIS_MNI_to_TRs/masked_volume_57.nii.gz\n"
     ]
    },
    {
     "name": "stderr",
     "output_type": "stream",
     "text": [
      "Processing volumes for subject 30033:  35%|███▌      | 58/164 [04:47<08:53,  5.03s/it]"
     ]
    },
    {
     "name": "stdout",
     "output_type": "stream",
     "text": [
      "Applying mask to /home/minyoungxi/MINYOUNGXI/XFL/Data/OASIS_MNI_to_TRs/volume_58.nii.gz\n",
      "Running FLIRT on /home/minyoungxi/MINYOUNGXI/XFL/Data/OASIS_MNI_to_TRs/masked_volume_58.nii.gz\n"
     ]
    },
    {
     "name": "stderr",
     "output_type": "stream",
     "text": [
      "Processing volumes for subject 30033:  36%|███▌      | 59/164 [04:52<08:49,  5.04s/it]"
     ]
    },
    {
     "name": "stdout",
     "output_type": "stream",
     "text": [
      "Applying mask to /home/minyoungxi/MINYOUNGXI/XFL/Data/OASIS_MNI_to_TRs/volume_59.nii.gz\n",
      "Running FLIRT on /home/minyoungxi/MINYOUNGXI/XFL/Data/OASIS_MNI_to_TRs/masked_volume_59.nii.gz\n"
     ]
    },
    {
     "name": "stderr",
     "output_type": "stream",
     "text": [
      "Processing volumes for subject 30033:  37%|███▋      | 60/164 [04:57<08:41,  5.02s/it]"
     ]
    },
    {
     "name": "stdout",
     "output_type": "stream",
     "text": [
      "Applying mask to /home/minyoungxi/MINYOUNGXI/XFL/Data/OASIS_MNI_to_TRs/volume_60.nii.gz\n",
      "Running FLIRT on /home/minyoungxi/MINYOUNGXI/XFL/Data/OASIS_MNI_to_TRs/masked_volume_60.nii.gz\n"
     ]
    },
    {
     "name": "stderr",
     "output_type": "stream",
     "text": [
      "Processing volumes for subject 30033:  37%|███▋      | 61/164 [05:02<08:34,  5.00s/it]"
     ]
    },
    {
     "name": "stdout",
     "output_type": "stream",
     "text": [
      "Applying mask to /home/minyoungxi/MINYOUNGXI/XFL/Data/OASIS_MNI_to_TRs/volume_61.nii.gz\n",
      "Running FLIRT on /home/minyoungxi/MINYOUNGXI/XFL/Data/OASIS_MNI_to_TRs/masked_volume_61.nii.gz\n"
     ]
    },
    {
     "name": "stderr",
     "output_type": "stream",
     "text": [
      "Processing volumes for subject 30033:  38%|███▊      | 62/164 [05:07<08:29,  4.99s/it]"
     ]
    },
    {
     "name": "stdout",
     "output_type": "stream",
     "text": [
      "Applying mask to /home/minyoungxi/MINYOUNGXI/XFL/Data/OASIS_MNI_to_TRs/volume_62.nii.gz\n",
      "Running FLIRT on /home/minyoungxi/MINYOUNGXI/XFL/Data/OASIS_MNI_to_TRs/masked_volume_62.nii.gz\n"
     ]
    },
    {
     "name": "stderr",
     "output_type": "stream",
     "text": [
      "Processing volumes for subject 30033:  38%|███▊      | 63/164 [05:12<08:23,  4.99s/it]"
     ]
    },
    {
     "name": "stdout",
     "output_type": "stream",
     "text": [
      "Applying mask to /home/minyoungxi/MINYOUNGXI/XFL/Data/OASIS_MNI_to_TRs/volume_63.nii.gz\n",
      "Running FLIRT on /home/minyoungxi/MINYOUNGXI/XFL/Data/OASIS_MNI_to_TRs/masked_volume_63.nii.gz\n"
     ]
    },
    {
     "name": "stderr",
     "output_type": "stream",
     "text": [
      "Processing volumes for subject 30033:  39%|███▉      | 64/164 [05:17<08:19,  5.00s/it]"
     ]
    },
    {
     "name": "stdout",
     "output_type": "stream",
     "text": [
      "Applying mask to /home/minyoungxi/MINYOUNGXI/XFL/Data/OASIS_MNI_to_TRs/volume_64.nii.gz\n",
      "Running FLIRT on /home/minyoungxi/MINYOUNGXI/XFL/Data/OASIS_MNI_to_TRs/masked_volume_64.nii.gz\n"
     ]
    },
    {
     "name": "stderr",
     "output_type": "stream",
     "text": [
      "Processing volumes for subject 30033:  40%|███▉      | 65/164 [05:22<08:13,  4.99s/it]"
     ]
    },
    {
     "name": "stdout",
     "output_type": "stream",
     "text": [
      "Applying mask to /home/minyoungxi/MINYOUNGXI/XFL/Data/OASIS_MNI_to_TRs/volume_65.nii.gz\n",
      "Running FLIRT on /home/minyoungxi/MINYOUNGXI/XFL/Data/OASIS_MNI_to_TRs/masked_volume_65.nii.gz\n"
     ]
    },
    {
     "name": "stderr",
     "output_type": "stream",
     "text": [
      "Processing volumes for subject 30033:  40%|████      | 66/164 [05:27<08:07,  4.97s/it]"
     ]
    },
    {
     "name": "stdout",
     "output_type": "stream",
     "text": [
      "Applying mask to /home/minyoungxi/MINYOUNGXI/XFL/Data/OASIS_MNI_to_TRs/volume_66.nii.gz\n",
      "Running FLIRT on /home/minyoungxi/MINYOUNGXI/XFL/Data/OASIS_MNI_to_TRs/masked_volume_66.nii.gz\n"
     ]
    },
    {
     "name": "stderr",
     "output_type": "stream",
     "text": [
      "Processing volumes for subject 30033:  41%|████      | 67/164 [05:32<08:03,  4.99s/it]"
     ]
    },
    {
     "name": "stdout",
     "output_type": "stream",
     "text": [
      "Applying mask to /home/minyoungxi/MINYOUNGXI/XFL/Data/OASIS_MNI_to_TRs/volume_67.nii.gz\n",
      "Running FLIRT on /home/minyoungxi/MINYOUNGXI/XFL/Data/OASIS_MNI_to_TRs/masked_volume_67.nii.gz\n"
     ]
    },
    {
     "name": "stderr",
     "output_type": "stream",
     "text": [
      "Processing volumes for subject 30033:  41%|████▏     | 68/164 [05:37<07:57,  4.98s/it]"
     ]
    },
    {
     "name": "stdout",
     "output_type": "stream",
     "text": [
      "Applying mask to /home/minyoungxi/MINYOUNGXI/XFL/Data/OASIS_MNI_to_TRs/volume_68.nii.gz\n",
      "Running FLIRT on /home/minyoungxi/MINYOUNGXI/XFL/Data/OASIS_MNI_to_TRs/masked_volume_68.nii.gz\n"
     ]
    },
    {
     "name": "stderr",
     "output_type": "stream",
     "text": [
      "Processing volumes for subject 30033:  42%|████▏     | 69/164 [05:42<07:53,  4.99s/it]"
     ]
    },
    {
     "name": "stdout",
     "output_type": "stream",
     "text": [
      "Applying mask to /home/minyoungxi/MINYOUNGXI/XFL/Data/OASIS_MNI_to_TRs/volume_69.nii.gz\n",
      "Running FLIRT on /home/minyoungxi/MINYOUNGXI/XFL/Data/OASIS_MNI_to_TRs/masked_volume_69.nii.gz\n"
     ]
    },
    {
     "name": "stderr",
     "output_type": "stream",
     "text": [
      "Processing volumes for subject 30033:  43%|████▎     | 70/164 [05:47<07:50,  5.01s/it]"
     ]
    },
    {
     "name": "stdout",
     "output_type": "stream",
     "text": [
      "Applying mask to /home/minyoungxi/MINYOUNGXI/XFL/Data/OASIS_MNI_to_TRs/volume_70.nii.gz\n",
      "Running FLIRT on /home/minyoungxi/MINYOUNGXI/XFL/Data/OASIS_MNI_to_TRs/masked_volume_70.nii.gz\n"
     ]
    },
    {
     "name": "stderr",
     "output_type": "stream",
     "text": [
      "Processing volumes for subject 30033:  43%|████▎     | 71/164 [05:52<07:45,  5.00s/it]"
     ]
    },
    {
     "name": "stdout",
     "output_type": "stream",
     "text": [
      "Applying mask to /home/minyoungxi/MINYOUNGXI/XFL/Data/OASIS_MNI_to_TRs/volume_71.nii.gz\n",
      "Running FLIRT on /home/minyoungxi/MINYOUNGXI/XFL/Data/OASIS_MNI_to_TRs/masked_volume_71.nii.gz\n"
     ]
    },
    {
     "name": "stderr",
     "output_type": "stream",
     "text": [
      "Processing volumes for subject 30033:  44%|████▍     | 72/164 [05:57<07:40,  5.00s/it]"
     ]
    },
    {
     "name": "stdout",
     "output_type": "stream",
     "text": [
      "Applying mask to /home/minyoungxi/MINYOUNGXI/XFL/Data/OASIS_MNI_to_TRs/volume_72.nii.gz\n",
      "Running FLIRT on /home/minyoungxi/MINYOUNGXI/XFL/Data/OASIS_MNI_to_TRs/masked_volume_72.nii.gz\n"
     ]
    },
    {
     "name": "stderr",
     "output_type": "stream",
     "text": [
      "Processing volumes for subject 30033:  45%|████▍     | 73/164 [06:02<07:34,  4.99s/it]"
     ]
    },
    {
     "name": "stdout",
     "output_type": "stream",
     "text": [
      "Applying mask to /home/minyoungxi/MINYOUNGXI/XFL/Data/OASIS_MNI_to_TRs/volume_73.nii.gz\n",
      "Running FLIRT on /home/minyoungxi/MINYOUNGXI/XFL/Data/OASIS_MNI_to_TRs/masked_volume_73.nii.gz\n"
     ]
    },
    {
     "name": "stderr",
     "output_type": "stream",
     "text": [
      "Processing volumes for subject 30033:  45%|████▌     | 74/164 [06:07<07:28,  4.98s/it]"
     ]
    },
    {
     "name": "stdout",
     "output_type": "stream",
     "text": [
      "Applying mask to /home/minyoungxi/MINYOUNGXI/XFL/Data/OASIS_MNI_to_TRs/volume_74.nii.gz\n",
      "Running FLIRT on /home/minyoungxi/MINYOUNGXI/XFL/Data/OASIS_MNI_to_TRs/masked_volume_74.nii.gz\n"
     ]
    },
    {
     "name": "stderr",
     "output_type": "stream",
     "text": [
      "Processing volumes for subject 30033:  46%|████▌     | 75/164 [06:12<07:22,  4.97s/it]"
     ]
    },
    {
     "name": "stdout",
     "output_type": "stream",
     "text": [
      "Applying mask to /home/minyoungxi/MINYOUNGXI/XFL/Data/OASIS_MNI_to_TRs/volume_75.nii.gz\n",
      "Running FLIRT on /home/minyoungxi/MINYOUNGXI/XFL/Data/OASIS_MNI_to_TRs/masked_volume_75.nii.gz\n"
     ]
    },
    {
     "name": "stderr",
     "output_type": "stream",
     "text": [
      "Processing volumes for subject 30033:  46%|████▋     | 76/164 [06:17<07:20,  5.00s/it]"
     ]
    },
    {
     "name": "stdout",
     "output_type": "stream",
     "text": [
      "Applying mask to /home/minyoungxi/MINYOUNGXI/XFL/Data/OASIS_MNI_to_TRs/volume_76.nii.gz\n",
      "Running FLIRT on /home/minyoungxi/MINYOUNGXI/XFL/Data/OASIS_MNI_to_TRs/masked_volume_76.nii.gz\n"
     ]
    },
    {
     "name": "stderr",
     "output_type": "stream",
     "text": [
      "Processing volumes for subject 30033:  47%|████▋     | 77/164 [06:22<07:14,  5.00s/it]"
     ]
    },
    {
     "name": "stdout",
     "output_type": "stream",
     "text": [
      "Applying mask to /home/minyoungxi/MINYOUNGXI/XFL/Data/OASIS_MNI_to_TRs/volume_77.nii.gz\n",
      "Running FLIRT on /home/minyoungxi/MINYOUNGXI/XFL/Data/OASIS_MNI_to_TRs/masked_volume_77.nii.gz\n"
     ]
    },
    {
     "name": "stderr",
     "output_type": "stream",
     "text": [
      "Processing volumes for subject 30033:  48%|████▊     | 78/164 [06:27<07:11,  5.01s/it]"
     ]
    },
    {
     "name": "stdout",
     "output_type": "stream",
     "text": [
      "Applying mask to /home/minyoungxi/MINYOUNGXI/XFL/Data/OASIS_MNI_to_TRs/volume_78.nii.gz\n",
      "Running FLIRT on /home/minyoungxi/MINYOUNGXI/XFL/Data/OASIS_MNI_to_TRs/masked_volume_78.nii.gz\n"
     ]
    },
    {
     "name": "stderr",
     "output_type": "stream",
     "text": [
      "Processing volumes for subject 30033:  48%|████▊     | 79/164 [06:32<07:07,  5.03s/it]"
     ]
    },
    {
     "name": "stdout",
     "output_type": "stream",
     "text": [
      "Applying mask to /home/minyoungxi/MINYOUNGXI/XFL/Data/OASIS_MNI_to_TRs/volume_79.nii.gz\n",
      "Running FLIRT on /home/minyoungxi/MINYOUNGXI/XFL/Data/OASIS_MNI_to_TRs/masked_volume_79.nii.gz\n"
     ]
    },
    {
     "name": "stderr",
     "output_type": "stream",
     "text": [
      "Processing volumes for subject 30033:  49%|████▉     | 80/164 [06:37<07:01,  5.02s/it]"
     ]
    },
    {
     "name": "stdout",
     "output_type": "stream",
     "text": [
      "Applying mask to /home/minyoungxi/MINYOUNGXI/XFL/Data/OASIS_MNI_to_TRs/volume_80.nii.gz\n",
      "Running FLIRT on /home/minyoungxi/MINYOUNGXI/XFL/Data/OASIS_MNI_to_TRs/masked_volume_80.nii.gz\n"
     ]
    },
    {
     "name": "stderr",
     "output_type": "stream",
     "text": [
      "Processing volumes for subject 30033:  49%|████▉     | 81/164 [06:42<06:56,  5.02s/it]"
     ]
    },
    {
     "name": "stdout",
     "output_type": "stream",
     "text": [
      "Applying mask to /home/minyoungxi/MINYOUNGXI/XFL/Data/OASIS_MNI_to_TRs/volume_81.nii.gz\n",
      "Running FLIRT on /home/minyoungxi/MINYOUNGXI/XFL/Data/OASIS_MNI_to_TRs/masked_volume_81.nii.gz\n"
     ]
    },
    {
     "name": "stderr",
     "output_type": "stream",
     "text": [
      "Processing volumes for subject 30033:  50%|█████     | 82/164 [06:47<06:56,  5.08s/it]"
     ]
    },
    {
     "name": "stdout",
     "output_type": "stream",
     "text": [
      "Applying mask to /home/minyoungxi/MINYOUNGXI/XFL/Data/OASIS_MNI_to_TRs/volume_82.nii.gz\n",
      "Running FLIRT on /home/minyoungxi/MINYOUNGXI/XFL/Data/OASIS_MNI_to_TRs/masked_volume_82.nii.gz\n"
     ]
    },
    {
     "name": "stderr",
     "output_type": "stream",
     "text": [
      "Processing volumes for subject 30033:  51%|█████     | 83/164 [06:52<06:50,  5.07s/it]"
     ]
    },
    {
     "name": "stdout",
     "output_type": "stream",
     "text": [
      "Applying mask to /home/minyoungxi/MINYOUNGXI/XFL/Data/OASIS_MNI_to_TRs/volume_83.nii.gz\n",
      "Running FLIRT on /home/minyoungxi/MINYOUNGXI/XFL/Data/OASIS_MNI_to_TRs/masked_volume_83.nii.gz\n"
     ]
    },
    {
     "name": "stderr",
     "output_type": "stream",
     "text": [
      "Processing volumes for subject 30033:  51%|█████     | 84/164 [06:57<06:46,  5.08s/it]"
     ]
    },
    {
     "name": "stdout",
     "output_type": "stream",
     "text": [
      "Applying mask to /home/minyoungxi/MINYOUNGXI/XFL/Data/OASIS_MNI_to_TRs/volume_84.nii.gz\n",
      "Running FLIRT on /home/minyoungxi/MINYOUNGXI/XFL/Data/OASIS_MNI_to_TRs/masked_volume_84.nii.gz\n"
     ]
    },
    {
     "name": "stderr",
     "output_type": "stream",
     "text": [
      "Processing volumes for subject 30033:  52%|█████▏    | 85/164 [07:03<06:41,  5.08s/it]"
     ]
    },
    {
     "name": "stdout",
     "output_type": "stream",
     "text": [
      "Applying mask to /home/minyoungxi/MINYOUNGXI/XFL/Data/OASIS_MNI_to_TRs/volume_85.nii.gz\n",
      "Running FLIRT on /home/minyoungxi/MINYOUNGXI/XFL/Data/OASIS_MNI_to_TRs/masked_volume_85.nii.gz\n"
     ]
    },
    {
     "name": "stderr",
     "output_type": "stream",
     "text": [
      "Processing volumes for subject 30033:  52%|█████▏    | 86/164 [07:08<06:34,  5.06s/it]"
     ]
    },
    {
     "name": "stdout",
     "output_type": "stream",
     "text": [
      "Applying mask to /home/minyoungxi/MINYOUNGXI/XFL/Data/OASIS_MNI_to_TRs/volume_86.nii.gz\n",
      "Running FLIRT on /home/minyoungxi/MINYOUNGXI/XFL/Data/OASIS_MNI_to_TRs/masked_volume_86.nii.gz\n"
     ]
    },
    {
     "name": "stderr",
     "output_type": "stream",
     "text": [
      "Processing volumes for subject 30033:  53%|█████▎    | 87/164 [07:13<06:29,  5.05s/it]"
     ]
    },
    {
     "name": "stdout",
     "output_type": "stream",
     "text": [
      "Applying mask to /home/minyoungxi/MINYOUNGXI/XFL/Data/OASIS_MNI_to_TRs/volume_87.nii.gz\n",
      "Running FLIRT on /home/minyoungxi/MINYOUNGXI/XFL/Data/OASIS_MNI_to_TRs/masked_volume_87.nii.gz\n"
     ]
    },
    {
     "name": "stderr",
     "output_type": "stream",
     "text": [
      "Processing volumes for subject 30033:  54%|█████▎    | 88/164 [07:18<06:21,  5.02s/it]"
     ]
    },
    {
     "name": "stdout",
     "output_type": "stream",
     "text": [
      "Applying mask to /home/minyoungxi/MINYOUNGXI/XFL/Data/OASIS_MNI_to_TRs/volume_88.nii.gz\n",
      "Running FLIRT on /home/minyoungxi/MINYOUNGXI/XFL/Data/OASIS_MNI_to_TRs/masked_volume_88.nii.gz\n"
     ]
    },
    {
     "name": "stderr",
     "output_type": "stream",
     "text": [
      "Processing volumes for subject 30033:  54%|█████▍    | 89/164 [07:23<06:17,  5.03s/it]"
     ]
    },
    {
     "name": "stdout",
     "output_type": "stream",
     "text": [
      "Applying mask to /home/minyoungxi/MINYOUNGXI/XFL/Data/OASIS_MNI_to_TRs/volume_89.nii.gz\n",
      "Running FLIRT on /home/minyoungxi/MINYOUNGXI/XFL/Data/OASIS_MNI_to_TRs/masked_volume_89.nii.gz\n"
     ]
    },
    {
     "name": "stderr",
     "output_type": "stream",
     "text": [
      "Processing volumes for subject 30033:  55%|█████▍    | 90/164 [07:28<06:13,  5.05s/it]"
     ]
    },
    {
     "name": "stdout",
     "output_type": "stream",
     "text": [
      "Applying mask to /home/minyoungxi/MINYOUNGXI/XFL/Data/OASIS_MNI_to_TRs/volume_90.nii.gz\n",
      "Running FLIRT on /home/minyoungxi/MINYOUNGXI/XFL/Data/OASIS_MNI_to_TRs/masked_volume_90.nii.gz\n"
     ]
    },
    {
     "name": "stderr",
     "output_type": "stream",
     "text": [
      "Processing volumes for subject 30033:  55%|█████▌    | 91/164 [07:33<06:11,  5.08s/it]"
     ]
    },
    {
     "name": "stdout",
     "output_type": "stream",
     "text": [
      "Applying mask to /home/minyoungxi/MINYOUNGXI/XFL/Data/OASIS_MNI_to_TRs/volume_91.nii.gz\n",
      "Running FLIRT on /home/minyoungxi/MINYOUNGXI/XFL/Data/OASIS_MNI_to_TRs/masked_volume_91.nii.gz\n"
     ]
    },
    {
     "name": "stderr",
     "output_type": "stream",
     "text": [
      "Processing volumes for subject 30033:  56%|█████▌    | 92/164 [07:38<06:06,  5.09s/it]"
     ]
    },
    {
     "name": "stdout",
     "output_type": "stream",
     "text": [
      "Applying mask to /home/minyoungxi/MINYOUNGXI/XFL/Data/OASIS_MNI_to_TRs/volume_92.nii.gz\n",
      "Running FLIRT on /home/minyoungxi/MINYOUNGXI/XFL/Data/OASIS_MNI_to_TRs/masked_volume_92.nii.gz\n"
     ]
    },
    {
     "name": "stderr",
     "output_type": "stream",
     "text": [
      "Processing volumes for subject 30033:  57%|█████▋    | 93/164 [07:43<06:02,  5.10s/it]"
     ]
    },
    {
     "name": "stdout",
     "output_type": "stream",
     "text": [
      "Applying mask to /home/minyoungxi/MINYOUNGXI/XFL/Data/OASIS_MNI_to_TRs/volume_93.nii.gz\n",
      "Running FLIRT on /home/minyoungxi/MINYOUNGXI/XFL/Data/OASIS_MNI_to_TRs/masked_volume_93.nii.gz\n"
     ]
    },
    {
     "name": "stderr",
     "output_type": "stream",
     "text": [
      "Processing volumes for subject 30033:  57%|█████▋    | 94/164 [07:48<05:57,  5.11s/it]"
     ]
    },
    {
     "name": "stdout",
     "output_type": "stream",
     "text": [
      "Applying mask to /home/minyoungxi/MINYOUNGXI/XFL/Data/OASIS_MNI_to_TRs/volume_94.nii.gz\n",
      "Running FLIRT on /home/minyoungxi/MINYOUNGXI/XFL/Data/OASIS_MNI_to_TRs/masked_volume_94.nii.gz\n"
     ]
    },
    {
     "name": "stderr",
     "output_type": "stream",
     "text": [
      "Processing volumes for subject 30033:  58%|█████▊    | 95/164 [07:53<05:51,  5.10s/it]"
     ]
    },
    {
     "name": "stdout",
     "output_type": "stream",
     "text": [
      "Applying mask to /home/minyoungxi/MINYOUNGXI/XFL/Data/OASIS_MNI_to_TRs/volume_95.nii.gz\n",
      "Running FLIRT on /home/minyoungxi/MINYOUNGXI/XFL/Data/OASIS_MNI_to_TRs/masked_volume_95.nii.gz\n"
     ]
    },
    {
     "name": "stderr",
     "output_type": "stream",
     "text": [
      "Processing volumes for subject 30033:  59%|█████▊    | 96/164 [07:58<05:47,  5.11s/it]"
     ]
    },
    {
     "name": "stdout",
     "output_type": "stream",
     "text": [
      "Applying mask to /home/minyoungxi/MINYOUNGXI/XFL/Data/OASIS_MNI_to_TRs/volume_96.nii.gz\n",
      "Running FLIRT on /home/minyoungxi/MINYOUNGXI/XFL/Data/OASIS_MNI_to_TRs/masked_volume_96.nii.gz\n"
     ]
    },
    {
     "name": "stderr",
     "output_type": "stream",
     "text": [
      "Processing volumes for subject 30033:  59%|█████▉    | 97/164 [08:04<05:43,  5.13s/it]"
     ]
    },
    {
     "name": "stdout",
     "output_type": "stream",
     "text": [
      "Applying mask to /home/minyoungxi/MINYOUNGXI/XFL/Data/OASIS_MNI_to_TRs/volume_97.nii.gz\n",
      "Running FLIRT on /home/minyoungxi/MINYOUNGXI/XFL/Data/OASIS_MNI_to_TRs/masked_volume_97.nii.gz\n"
     ]
    },
    {
     "name": "stderr",
     "output_type": "stream",
     "text": [
      "Processing volumes for subject 30033:  60%|█████▉    | 98/164 [08:09<05:37,  5.11s/it]"
     ]
    },
    {
     "name": "stdout",
     "output_type": "stream",
     "text": [
      "Applying mask to /home/minyoungxi/MINYOUNGXI/XFL/Data/OASIS_MNI_to_TRs/volume_98.nii.gz\n",
      "Running FLIRT on /home/minyoungxi/MINYOUNGXI/XFL/Data/OASIS_MNI_to_TRs/masked_volume_98.nii.gz\n"
     ]
    },
    {
     "name": "stderr",
     "output_type": "stream",
     "text": [
      "Processing volumes for subject 30033:  60%|██████    | 99/164 [08:14<05:31,  5.10s/it]"
     ]
    },
    {
     "name": "stdout",
     "output_type": "stream",
     "text": [
      "Applying mask to /home/minyoungxi/MINYOUNGXI/XFL/Data/OASIS_MNI_to_TRs/volume_99.nii.gz\n",
      "Running FLIRT on /home/minyoungxi/MINYOUNGXI/XFL/Data/OASIS_MNI_to_TRs/masked_volume_99.nii.gz\n"
     ]
    },
    {
     "name": "stderr",
     "output_type": "stream",
     "text": [
      "Processing volumes for subject 30033:  61%|██████    | 100/164 [08:19<05:26,  5.10s/it]"
     ]
    },
    {
     "name": "stdout",
     "output_type": "stream",
     "text": [
      "Applying mask to /home/minyoungxi/MINYOUNGXI/XFL/Data/OASIS_MNI_to_TRs/volume_100.nii.gz\n",
      "Running FLIRT on /home/minyoungxi/MINYOUNGXI/XFL/Data/OASIS_MNI_to_TRs/masked_volume_100.nii.gz\n"
     ]
    },
    {
     "name": "stderr",
     "output_type": "stream",
     "text": [
      "Processing volumes for subject 30033:  62%|██████▏   | 101/164 [08:24<05:21,  5.10s/it]"
     ]
    },
    {
     "name": "stdout",
     "output_type": "stream",
     "text": [
      "Applying mask to /home/minyoungxi/MINYOUNGXI/XFL/Data/OASIS_MNI_to_TRs/volume_101.nii.gz\n",
      "Running FLIRT on /home/minyoungxi/MINYOUNGXI/XFL/Data/OASIS_MNI_to_TRs/masked_volume_101.nii.gz\n"
     ]
    },
    {
     "name": "stderr",
     "output_type": "stream",
     "text": [
      "Processing volumes for subject 30033:  62%|██████▏   | 102/164 [08:29<05:15,  5.08s/it]"
     ]
    },
    {
     "name": "stdout",
     "output_type": "stream",
     "text": [
      "Applying mask to /home/minyoungxi/MINYOUNGXI/XFL/Data/OASIS_MNI_to_TRs/volume_102.nii.gz\n",
      "Running FLIRT on /home/minyoungxi/MINYOUNGXI/XFL/Data/OASIS_MNI_to_TRs/masked_volume_102.nii.gz\n"
     ]
    },
    {
     "name": "stderr",
     "output_type": "stream",
     "text": [
      "Processing volumes for subject 30033:  63%|██████▎   | 103/164 [08:34<05:11,  5.10s/it]"
     ]
    },
    {
     "name": "stdout",
     "output_type": "stream",
     "text": [
      "Applying mask to /home/minyoungxi/MINYOUNGXI/XFL/Data/OASIS_MNI_to_TRs/volume_103.nii.gz\n",
      "Running FLIRT on /home/minyoungxi/MINYOUNGXI/XFL/Data/OASIS_MNI_to_TRs/masked_volume_103.nii.gz\n"
     ]
    },
    {
     "name": "stderr",
     "output_type": "stream",
     "text": [
      "Processing volumes for subject 30033:  63%|██████▎   | 104/164 [08:39<05:06,  5.11s/it]"
     ]
    },
    {
     "name": "stdout",
     "output_type": "stream",
     "text": [
      "Applying mask to /home/minyoungxi/MINYOUNGXI/XFL/Data/OASIS_MNI_to_TRs/volume_104.nii.gz\n",
      "Running FLIRT on /home/minyoungxi/MINYOUNGXI/XFL/Data/OASIS_MNI_to_TRs/masked_volume_104.nii.gz\n"
     ]
    },
    {
     "name": "stderr",
     "output_type": "stream",
     "text": [
      "Processing volumes for subject 30033:  64%|██████▍   | 105/164 [08:44<05:01,  5.11s/it]"
     ]
    },
    {
     "name": "stdout",
     "output_type": "stream",
     "text": [
      "Applying mask to /home/minyoungxi/MINYOUNGXI/XFL/Data/OASIS_MNI_to_TRs/volume_105.nii.gz\n",
      "Running FLIRT on /home/minyoungxi/MINYOUNGXI/XFL/Data/OASIS_MNI_to_TRs/masked_volume_105.nii.gz\n"
     ]
    },
    {
     "name": "stderr",
     "output_type": "stream",
     "text": [
      "Processing volumes for subject 30033:  65%|██████▍   | 106/164 [08:49<04:55,  5.10s/it]"
     ]
    },
    {
     "name": "stdout",
     "output_type": "stream",
     "text": [
      "Applying mask to /home/minyoungxi/MINYOUNGXI/XFL/Data/OASIS_MNI_to_TRs/volume_106.nii.gz\n",
      "Running FLIRT on /home/minyoungxi/MINYOUNGXI/XFL/Data/OASIS_MNI_to_TRs/masked_volume_106.nii.gz\n"
     ]
    },
    {
     "name": "stderr",
     "output_type": "stream",
     "text": [
      "Processing volumes for subject 30033:  65%|██████▌   | 107/164 [08:54<04:48,  5.07s/it]"
     ]
    },
    {
     "name": "stdout",
     "output_type": "stream",
     "text": [
      "Applying mask to /home/minyoungxi/MINYOUNGXI/XFL/Data/OASIS_MNI_to_TRs/volume_107.nii.gz\n",
      "Running FLIRT on /home/minyoungxi/MINYOUNGXI/XFL/Data/OASIS_MNI_to_TRs/masked_volume_107.nii.gz\n"
     ]
    },
    {
     "name": "stderr",
     "output_type": "stream",
     "text": [
      "Processing volumes for subject 30033:  66%|██████▌   | 108/164 [08:59<04:42,  5.04s/it]"
     ]
    },
    {
     "name": "stdout",
     "output_type": "stream",
     "text": [
      "Applying mask to /home/minyoungxi/MINYOUNGXI/XFL/Data/OASIS_MNI_to_TRs/volume_108.nii.gz\n",
      "Running FLIRT on /home/minyoungxi/MINYOUNGXI/XFL/Data/OASIS_MNI_to_TRs/masked_volume_108.nii.gz\n"
     ]
    },
    {
     "name": "stderr",
     "output_type": "stream",
     "text": [
      "Processing volumes for subject 30033:  66%|██████▋   | 109/164 [09:05<04:38,  5.06s/it]"
     ]
    },
    {
     "name": "stdout",
     "output_type": "stream",
     "text": [
      "Applying mask to /home/minyoungxi/MINYOUNGXI/XFL/Data/OASIS_MNI_to_TRs/volume_109.nii.gz\n",
      "Running FLIRT on /home/minyoungxi/MINYOUNGXI/XFL/Data/OASIS_MNI_to_TRs/masked_volume_109.nii.gz\n"
     ]
    },
    {
     "name": "stderr",
     "output_type": "stream",
     "text": [
      "Processing volumes for subject 30033:  67%|██████▋   | 110/164 [09:10<04:35,  5.10s/it]"
     ]
    },
    {
     "name": "stdout",
     "output_type": "stream",
     "text": [
      "Applying mask to /home/minyoungxi/MINYOUNGXI/XFL/Data/OASIS_MNI_to_TRs/volume_110.nii.gz\n",
      "Running FLIRT on /home/minyoungxi/MINYOUNGXI/XFL/Data/OASIS_MNI_to_TRs/masked_volume_110.nii.gz\n"
     ]
    },
    {
     "name": "stderr",
     "output_type": "stream",
     "text": [
      "Processing volumes for subject 30033:  68%|██████▊   | 111/164 [09:15<04:30,  5.10s/it]"
     ]
    },
    {
     "name": "stdout",
     "output_type": "stream",
     "text": [
      "Applying mask to /home/minyoungxi/MINYOUNGXI/XFL/Data/OASIS_MNI_to_TRs/volume_111.nii.gz\n",
      "Running FLIRT on /home/minyoungxi/MINYOUNGXI/XFL/Data/OASIS_MNI_to_TRs/masked_volume_111.nii.gz\n"
     ]
    },
    {
     "name": "stderr",
     "output_type": "stream",
     "text": [
      "Processing volumes for subject 30033:  68%|██████▊   | 112/164 [09:20<04:25,  5.10s/it]"
     ]
    },
    {
     "name": "stdout",
     "output_type": "stream",
     "text": [
      "Applying mask to /home/minyoungxi/MINYOUNGXI/XFL/Data/OASIS_MNI_to_TRs/volume_112.nii.gz\n",
      "Running FLIRT on /home/minyoungxi/MINYOUNGXI/XFL/Data/OASIS_MNI_to_TRs/masked_volume_112.nii.gz\n"
     ]
    },
    {
     "name": "stderr",
     "output_type": "stream",
     "text": [
      "Processing volumes for subject 30033:  69%|██████▉   | 113/164 [09:25<04:18,  5.07s/it]"
     ]
    },
    {
     "name": "stdout",
     "output_type": "stream",
     "text": [
      "Applying mask to /home/minyoungxi/MINYOUNGXI/XFL/Data/OASIS_MNI_to_TRs/volume_113.nii.gz\n",
      "Running FLIRT on /home/minyoungxi/MINYOUNGXI/XFL/Data/OASIS_MNI_to_TRs/masked_volume_113.nii.gz\n"
     ]
    },
    {
     "name": "stderr",
     "output_type": "stream",
     "text": [
      "Processing volumes for subject 30033:  70%|██████▉   | 114/164 [09:30<04:13,  5.07s/it]"
     ]
    },
    {
     "name": "stdout",
     "output_type": "stream",
     "text": [
      "Applying mask to /home/minyoungxi/MINYOUNGXI/XFL/Data/OASIS_MNI_to_TRs/volume_114.nii.gz\n",
      "Running FLIRT on /home/minyoungxi/MINYOUNGXI/XFL/Data/OASIS_MNI_to_TRs/masked_volume_114.nii.gz\n"
     ]
    },
    {
     "name": "stderr",
     "output_type": "stream",
     "text": [
      "Processing volumes for subject 30033:  70%|███████   | 115/164 [09:35<04:08,  5.07s/it]"
     ]
    },
    {
     "name": "stdout",
     "output_type": "stream",
     "text": [
      "Applying mask to /home/minyoungxi/MINYOUNGXI/XFL/Data/OASIS_MNI_to_TRs/volume_115.nii.gz\n",
      "Running FLIRT on /home/minyoungxi/MINYOUNGXI/XFL/Data/OASIS_MNI_to_TRs/masked_volume_115.nii.gz\n"
     ]
    },
    {
     "name": "stderr",
     "output_type": "stream",
     "text": [
      "Processing volumes for subject 30033:  71%|███████   | 116/164 [09:40<04:03,  5.07s/it]"
     ]
    },
    {
     "name": "stdout",
     "output_type": "stream",
     "text": [
      "Applying mask to /home/minyoungxi/MINYOUNGXI/XFL/Data/OASIS_MNI_to_TRs/volume_116.nii.gz\n",
      "Running FLIRT on /home/minyoungxi/MINYOUNGXI/XFL/Data/OASIS_MNI_to_TRs/masked_volume_116.nii.gz\n"
     ]
    },
    {
     "name": "stderr",
     "output_type": "stream",
     "text": [
      "Processing volumes for subject 30033:  71%|███████▏  | 117/164 [09:45<03:58,  5.08s/it]"
     ]
    },
    {
     "name": "stdout",
     "output_type": "stream",
     "text": [
      "Applying mask to /home/minyoungxi/MINYOUNGXI/XFL/Data/OASIS_MNI_to_TRs/volume_117.nii.gz\n",
      "Running FLIRT on /home/minyoungxi/MINYOUNGXI/XFL/Data/OASIS_MNI_to_TRs/masked_volume_117.nii.gz\n"
     ]
    },
    {
     "name": "stderr",
     "output_type": "stream",
     "text": [
      "Processing volumes for subject 30033:  72%|███████▏  | 118/164 [09:50<03:53,  5.07s/it]"
     ]
    },
    {
     "name": "stdout",
     "output_type": "stream",
     "text": [
      "Applying mask to /home/minyoungxi/MINYOUNGXI/XFL/Data/OASIS_MNI_to_TRs/volume_118.nii.gz\n",
      "Running FLIRT on /home/minyoungxi/MINYOUNGXI/XFL/Data/OASIS_MNI_to_TRs/masked_volume_118.nii.gz\n"
     ]
    },
    {
     "name": "stderr",
     "output_type": "stream",
     "text": [
      "Processing volumes for subject 30033:  73%|███████▎  | 119/164 [09:55<03:47,  5.07s/it]"
     ]
    },
    {
     "name": "stdout",
     "output_type": "stream",
     "text": [
      "Applying mask to /home/minyoungxi/MINYOUNGXI/XFL/Data/OASIS_MNI_to_TRs/volume_119.nii.gz\n",
      "Running FLIRT on /home/minyoungxi/MINYOUNGXI/XFL/Data/OASIS_MNI_to_TRs/masked_volume_119.nii.gz\n"
     ]
    },
    {
     "name": "stderr",
     "output_type": "stream",
     "text": [
      "Processing volumes for subject 30033:  73%|███████▎  | 120/164 [10:00<03:42,  5.06s/it]"
     ]
    },
    {
     "name": "stdout",
     "output_type": "stream",
     "text": [
      "Applying mask to /home/minyoungxi/MINYOUNGXI/XFL/Data/OASIS_MNI_to_TRs/volume_120.nii.gz\n",
      "Running FLIRT on /home/minyoungxi/MINYOUNGXI/XFL/Data/OASIS_MNI_to_TRs/masked_volume_120.nii.gz\n"
     ]
    },
    {
     "name": "stderr",
     "output_type": "stream",
     "text": [
      "Processing volumes for subject 30033:  74%|███████▍  | 121/164 [10:05<03:37,  5.06s/it]"
     ]
    },
    {
     "name": "stdout",
     "output_type": "stream",
     "text": [
      "Applying mask to /home/minyoungxi/MINYOUNGXI/XFL/Data/OASIS_MNI_to_TRs/volume_121.nii.gz\n",
      "Running FLIRT on /home/minyoungxi/MINYOUNGXI/XFL/Data/OASIS_MNI_to_TRs/masked_volume_121.nii.gz\n"
     ]
    },
    {
     "name": "stderr",
     "output_type": "stream",
     "text": [
      "Processing volumes for subject 30033:  74%|███████▍  | 122/164 [10:11<03:33,  5.09s/it]"
     ]
    },
    {
     "name": "stdout",
     "output_type": "stream",
     "text": [
      "Applying mask to /home/minyoungxi/MINYOUNGXI/XFL/Data/OASIS_MNI_to_TRs/volume_122.nii.gz\n",
      "Running FLIRT on /home/minyoungxi/MINYOUNGXI/XFL/Data/OASIS_MNI_to_TRs/masked_volume_122.nii.gz\n"
     ]
    },
    {
     "name": "stderr",
     "output_type": "stream",
     "text": [
      "Processing volumes for subject 30033:  75%|███████▌  | 123/164 [10:16<03:28,  5.08s/it]"
     ]
    },
    {
     "name": "stdout",
     "output_type": "stream",
     "text": [
      "Applying mask to /home/minyoungxi/MINYOUNGXI/XFL/Data/OASIS_MNI_to_TRs/volume_123.nii.gz\n",
      "Running FLIRT on /home/minyoungxi/MINYOUNGXI/XFL/Data/OASIS_MNI_to_TRs/masked_volume_123.nii.gz\n"
     ]
    },
    {
     "name": "stderr",
     "output_type": "stream",
     "text": [
      "Processing volumes for subject 30033:  76%|███████▌  | 124/164 [10:21<03:23,  5.09s/it]"
     ]
    },
    {
     "name": "stdout",
     "output_type": "stream",
     "text": [
      "Applying mask to /home/minyoungxi/MINYOUNGXI/XFL/Data/OASIS_MNI_to_TRs/volume_124.nii.gz\n",
      "Running FLIRT on /home/minyoungxi/MINYOUNGXI/XFL/Data/OASIS_MNI_to_TRs/masked_volume_124.nii.gz\n"
     ]
    },
    {
     "name": "stderr",
     "output_type": "stream",
     "text": [
      "Processing volumes for subject 30033:  76%|███████▌  | 125/164 [10:26<03:18,  5.09s/it]"
     ]
    },
    {
     "name": "stdout",
     "output_type": "stream",
     "text": [
      "Applying mask to /home/minyoungxi/MINYOUNGXI/XFL/Data/OASIS_MNI_to_TRs/volume_125.nii.gz\n",
      "Running FLIRT on /home/minyoungxi/MINYOUNGXI/XFL/Data/OASIS_MNI_to_TRs/masked_volume_125.nii.gz\n"
     ]
    },
    {
     "name": "stderr",
     "output_type": "stream",
     "text": [
      "Processing volumes for subject 30033:  77%|███████▋  | 126/164 [10:31<03:13,  5.09s/it]"
     ]
    },
    {
     "name": "stdout",
     "output_type": "stream",
     "text": [
      "Applying mask to /home/minyoungxi/MINYOUNGXI/XFL/Data/OASIS_MNI_to_TRs/volume_126.nii.gz\n",
      "Running FLIRT on /home/minyoungxi/MINYOUNGXI/XFL/Data/OASIS_MNI_to_TRs/masked_volume_126.nii.gz\n"
     ]
    },
    {
     "name": "stderr",
     "output_type": "stream",
     "text": [
      "Processing volumes for subject 30033:  77%|███████▋  | 127/164 [10:36<03:08,  5.09s/it]"
     ]
    },
    {
     "name": "stdout",
     "output_type": "stream",
     "text": [
      "Applying mask to /home/minyoungxi/MINYOUNGXI/XFL/Data/OASIS_MNI_to_TRs/volume_127.nii.gz\n",
      "Running FLIRT on /home/minyoungxi/MINYOUNGXI/XFL/Data/OASIS_MNI_to_TRs/masked_volume_127.nii.gz\n"
     ]
    },
    {
     "name": "stderr",
     "output_type": "stream",
     "text": [
      "Processing volumes for subject 30033:  78%|███████▊  | 128/164 [10:41<03:03,  5.10s/it]"
     ]
    },
    {
     "name": "stdout",
     "output_type": "stream",
     "text": [
      "Applying mask to /home/minyoungxi/MINYOUNGXI/XFL/Data/OASIS_MNI_to_TRs/volume_128.nii.gz\n",
      "Running FLIRT on /home/minyoungxi/MINYOUNGXI/XFL/Data/OASIS_MNI_to_TRs/masked_volume_128.nii.gz\n"
     ]
    },
    {
     "name": "stderr",
     "output_type": "stream",
     "text": [
      "Processing volumes for subject 30033:  79%|███████▊  | 129/164 [10:46<02:57,  5.07s/it]"
     ]
    },
    {
     "name": "stdout",
     "output_type": "stream",
     "text": [
      "Applying mask to /home/minyoungxi/MINYOUNGXI/XFL/Data/OASIS_MNI_to_TRs/volume_129.nii.gz\n",
      "Running FLIRT on /home/minyoungxi/MINYOUNGXI/XFL/Data/OASIS_MNI_to_TRs/masked_volume_129.nii.gz\n"
     ]
    },
    {
     "name": "stderr",
     "output_type": "stream",
     "text": [
      "Processing volumes for subject 30033:  79%|███████▉  | 130/164 [10:51<02:51,  5.06s/it]"
     ]
    },
    {
     "name": "stdout",
     "output_type": "stream",
     "text": [
      "Applying mask to /home/minyoungxi/MINYOUNGXI/XFL/Data/OASIS_MNI_to_TRs/volume_130.nii.gz\n",
      "Running FLIRT on /home/minyoungxi/MINYOUNGXI/XFL/Data/OASIS_MNI_to_TRs/masked_volume_130.nii.gz\n"
     ]
    },
    {
     "name": "stderr",
     "output_type": "stream",
     "text": [
      "Processing volumes for subject 30033:  80%|███████▉  | 131/164 [10:56<02:46,  5.06s/it]"
     ]
    },
    {
     "name": "stdout",
     "output_type": "stream",
     "text": [
      "Applying mask to /home/minyoungxi/MINYOUNGXI/XFL/Data/OASIS_MNI_to_TRs/volume_131.nii.gz\n",
      "Running FLIRT on /home/minyoungxi/MINYOUNGXI/XFL/Data/OASIS_MNI_to_TRs/masked_volume_131.nii.gz\n"
     ]
    },
    {
     "name": "stderr",
     "output_type": "stream",
     "text": [
      "Processing volumes for subject 30033:  80%|████████  | 132/164 [11:01<02:41,  5.04s/it]"
     ]
    },
    {
     "name": "stdout",
     "output_type": "stream",
     "text": [
      "Applying mask to /home/minyoungxi/MINYOUNGXI/XFL/Data/OASIS_MNI_to_TRs/volume_132.nii.gz\n",
      "Running FLIRT on /home/minyoungxi/MINYOUNGXI/XFL/Data/OASIS_MNI_to_TRs/masked_volume_132.nii.gz\n"
     ]
    },
    {
     "name": "stderr",
     "output_type": "stream",
     "text": [
      "Processing volumes for subject 30033:  81%|████████  | 133/164 [11:06<02:36,  5.05s/it]"
     ]
    },
    {
     "name": "stdout",
     "output_type": "stream",
     "text": [
      "Applying mask to /home/minyoungxi/MINYOUNGXI/XFL/Data/OASIS_MNI_to_TRs/volume_133.nii.gz\n",
      "Running FLIRT on /home/minyoungxi/MINYOUNGXI/XFL/Data/OASIS_MNI_to_TRs/masked_volume_133.nii.gz\n"
     ]
    },
    {
     "name": "stderr",
     "output_type": "stream",
     "text": [
      "Processing volumes for subject 30033:  82%|████████▏ | 134/164 [11:11<02:31,  5.04s/it]"
     ]
    },
    {
     "name": "stdout",
     "output_type": "stream",
     "text": [
      "Applying mask to /home/minyoungxi/MINYOUNGXI/XFL/Data/OASIS_MNI_to_TRs/volume_134.nii.gz\n",
      "Running FLIRT on /home/minyoungxi/MINYOUNGXI/XFL/Data/OASIS_MNI_to_TRs/masked_volume_134.nii.gz\n"
     ]
    },
    {
     "name": "stderr",
     "output_type": "stream",
     "text": [
      "Processing volumes for subject 30033:  82%|████████▏ | 135/164 [11:17<02:27,  5.07s/it]"
     ]
    },
    {
     "name": "stdout",
     "output_type": "stream",
     "text": [
      "Applying mask to /home/minyoungxi/MINYOUNGXI/XFL/Data/OASIS_MNI_to_TRs/volume_135.nii.gz\n",
      "Running FLIRT on /home/minyoungxi/MINYOUNGXI/XFL/Data/OASIS_MNI_to_TRs/masked_volume_135.nii.gz\n"
     ]
    },
    {
     "name": "stderr",
     "output_type": "stream",
     "text": [
      "Processing volumes for subject 30033:  83%|████████▎ | 136/164 [11:22<02:22,  5.11s/it]"
     ]
    },
    {
     "name": "stdout",
     "output_type": "stream",
     "text": [
      "Applying mask to /home/minyoungxi/MINYOUNGXI/XFL/Data/OASIS_MNI_to_TRs/volume_136.nii.gz\n",
      "Running FLIRT on /home/minyoungxi/MINYOUNGXI/XFL/Data/OASIS_MNI_to_TRs/masked_volume_136.nii.gz\n"
     ]
    },
    {
     "name": "stderr",
     "output_type": "stream",
     "text": [
      "Processing volumes for subject 30033:  84%|████████▎ | 137/164 [11:27<02:18,  5.12s/it]"
     ]
    },
    {
     "name": "stdout",
     "output_type": "stream",
     "text": [
      "Applying mask to /home/minyoungxi/MINYOUNGXI/XFL/Data/OASIS_MNI_to_TRs/volume_137.nii.gz\n",
      "Running FLIRT on /home/minyoungxi/MINYOUNGXI/XFL/Data/OASIS_MNI_to_TRs/masked_volume_137.nii.gz\n"
     ]
    },
    {
     "name": "stderr",
     "output_type": "stream",
     "text": [
      "Processing volumes for subject 30033:  84%|████████▍ | 138/164 [11:32<02:12,  5.11s/it]"
     ]
    },
    {
     "name": "stdout",
     "output_type": "stream",
     "text": [
      "Applying mask to /home/minyoungxi/MINYOUNGXI/XFL/Data/OASIS_MNI_to_TRs/volume_138.nii.gz\n",
      "Running FLIRT on /home/minyoungxi/MINYOUNGXI/XFL/Data/OASIS_MNI_to_TRs/masked_volume_138.nii.gz\n"
     ]
    },
    {
     "name": "stderr",
     "output_type": "stream",
     "text": [
      "Processing volumes for subject 30033:  85%|████████▍ | 139/164 [11:37<02:07,  5.08s/it]"
     ]
    },
    {
     "name": "stdout",
     "output_type": "stream",
     "text": [
      "Applying mask to /home/minyoungxi/MINYOUNGXI/XFL/Data/OASIS_MNI_to_TRs/volume_139.nii.gz\n",
      "Running FLIRT on /home/minyoungxi/MINYOUNGXI/XFL/Data/OASIS_MNI_to_TRs/masked_volume_139.nii.gz\n"
     ]
    },
    {
     "name": "stderr",
     "output_type": "stream",
     "text": [
      "Processing volumes for subject 30033:  85%|████████▌ | 140/164 [11:42<02:01,  5.08s/it]"
     ]
    },
    {
     "name": "stdout",
     "output_type": "stream",
     "text": [
      "Applying mask to /home/minyoungxi/MINYOUNGXI/XFL/Data/OASIS_MNI_to_TRs/volume_140.nii.gz\n",
      "Running FLIRT on /home/minyoungxi/MINYOUNGXI/XFL/Data/OASIS_MNI_to_TRs/masked_volume_140.nii.gz\n"
     ]
    },
    {
     "name": "stderr",
     "output_type": "stream",
     "text": [
      "Processing volumes for subject 30033:  86%|████████▌ | 141/164 [11:47<01:56,  5.07s/it]"
     ]
    },
    {
     "name": "stdout",
     "output_type": "stream",
     "text": [
      "Applying mask to /home/minyoungxi/MINYOUNGXI/XFL/Data/OASIS_MNI_to_TRs/volume_141.nii.gz\n",
      "Running FLIRT on /home/minyoungxi/MINYOUNGXI/XFL/Data/OASIS_MNI_to_TRs/masked_volume_141.nii.gz\n"
     ]
    },
    {
     "name": "stderr",
     "output_type": "stream",
     "text": [
      "Processing volumes for subject 30033:  87%|████████▋ | 142/164 [11:52<01:51,  5.08s/it]"
     ]
    },
    {
     "name": "stdout",
     "output_type": "stream",
     "text": [
      "Applying mask to /home/minyoungxi/MINYOUNGXI/XFL/Data/OASIS_MNI_to_TRs/volume_142.nii.gz\n",
      "Running FLIRT on /home/minyoungxi/MINYOUNGXI/XFL/Data/OASIS_MNI_to_TRs/masked_volume_142.nii.gz\n"
     ]
    },
    {
     "name": "stderr",
     "output_type": "stream",
     "text": [
      "Processing volumes for subject 30033:  87%|████████▋ | 143/164 [11:57<01:46,  5.06s/it]"
     ]
    },
    {
     "name": "stdout",
     "output_type": "stream",
     "text": [
      "Applying mask to /home/minyoungxi/MINYOUNGXI/XFL/Data/OASIS_MNI_to_TRs/volume_143.nii.gz\n",
      "Running FLIRT on /home/minyoungxi/MINYOUNGXI/XFL/Data/OASIS_MNI_to_TRs/masked_volume_143.nii.gz\n"
     ]
    },
    {
     "name": "stderr",
     "output_type": "stream",
     "text": [
      "Processing volumes for subject 30033:  88%|████████▊ | 144/164 [12:02<01:41,  5.08s/it]"
     ]
    },
    {
     "name": "stdout",
     "output_type": "stream",
     "text": [
      "Applying mask to /home/minyoungxi/MINYOUNGXI/XFL/Data/OASIS_MNI_to_TRs/volume_144.nii.gz\n",
      "Running FLIRT on /home/minyoungxi/MINYOUNGXI/XFL/Data/OASIS_MNI_to_TRs/masked_volume_144.nii.gz\n"
     ]
    },
    {
     "name": "stderr",
     "output_type": "stream",
     "text": [
      "Processing volumes for subject 30033:  88%|████████▊ | 145/164 [12:07<01:36,  5.06s/it]"
     ]
    },
    {
     "name": "stdout",
     "output_type": "stream",
     "text": [
      "Applying mask to /home/minyoungxi/MINYOUNGXI/XFL/Data/OASIS_MNI_to_TRs/volume_145.nii.gz\n",
      "Running FLIRT on /home/minyoungxi/MINYOUNGXI/XFL/Data/OASIS_MNI_to_TRs/masked_volume_145.nii.gz\n"
     ]
    },
    {
     "name": "stderr",
     "output_type": "stream",
     "text": [
      "Processing volumes for subject 30033:  89%|████████▉ | 146/164 [12:12<01:31,  5.07s/it]"
     ]
    },
    {
     "name": "stdout",
     "output_type": "stream",
     "text": [
      "Applying mask to /home/minyoungxi/MINYOUNGXI/XFL/Data/OASIS_MNI_to_TRs/volume_146.nii.gz\n",
      "Running FLIRT on /home/minyoungxi/MINYOUNGXI/XFL/Data/OASIS_MNI_to_TRs/masked_volume_146.nii.gz\n"
     ]
    },
    {
     "name": "stderr",
     "output_type": "stream",
     "text": [
      "Processing volumes for subject 30033:  90%|████████▉ | 147/164 [12:18<01:26,  5.08s/it]"
     ]
    },
    {
     "name": "stdout",
     "output_type": "stream",
     "text": [
      "Applying mask to /home/minyoungxi/MINYOUNGXI/XFL/Data/OASIS_MNI_to_TRs/volume_147.nii.gz\n",
      "Running FLIRT on /home/minyoungxi/MINYOUNGXI/XFL/Data/OASIS_MNI_to_TRs/masked_volume_147.nii.gz\n"
     ]
    },
    {
     "name": "stderr",
     "output_type": "stream",
     "text": [
      "Processing volumes for subject 30033:  90%|█████████ | 148/164 [12:23<01:21,  5.07s/it]"
     ]
    },
    {
     "name": "stdout",
     "output_type": "stream",
     "text": [
      "Applying mask to /home/minyoungxi/MINYOUNGXI/XFL/Data/OASIS_MNI_to_TRs/volume_148.nii.gz\n",
      "Running FLIRT on /home/minyoungxi/MINYOUNGXI/XFL/Data/OASIS_MNI_to_TRs/masked_volume_148.nii.gz\n"
     ]
    },
    {
     "name": "stderr",
     "output_type": "stream",
     "text": [
      "Processing volumes for subject 30033:  91%|█████████ | 149/164 [12:28<01:16,  5.08s/it]"
     ]
    },
    {
     "name": "stdout",
     "output_type": "stream",
     "text": [
      "Applying mask to /home/minyoungxi/MINYOUNGXI/XFL/Data/OASIS_MNI_to_TRs/volume_149.nii.gz\n",
      "Running FLIRT on /home/minyoungxi/MINYOUNGXI/XFL/Data/OASIS_MNI_to_TRs/masked_volume_149.nii.gz\n"
     ]
    },
    {
     "name": "stderr",
     "output_type": "stream",
     "text": [
      "Processing volumes for subject 30033:  91%|█████████▏| 150/164 [12:33<01:11,  5.09s/it]"
     ]
    },
    {
     "name": "stdout",
     "output_type": "stream",
     "text": [
      "Applying mask to /home/minyoungxi/MINYOUNGXI/XFL/Data/OASIS_MNI_to_TRs/volume_150.nii.gz\n",
      "Running FLIRT on /home/minyoungxi/MINYOUNGXI/XFL/Data/OASIS_MNI_to_TRs/masked_volume_150.nii.gz\n"
     ]
    },
    {
     "name": "stderr",
     "output_type": "stream",
     "text": [
      "Processing volumes for subject 30033:  92%|█████████▏| 151/164 [12:38<01:05,  5.08s/it]"
     ]
    },
    {
     "name": "stdout",
     "output_type": "stream",
     "text": [
      "Applying mask to /home/minyoungxi/MINYOUNGXI/XFL/Data/OASIS_MNI_to_TRs/volume_151.nii.gz\n",
      "Running FLIRT on /home/minyoungxi/MINYOUNGXI/XFL/Data/OASIS_MNI_to_TRs/masked_volume_151.nii.gz\n"
     ]
    },
    {
     "name": "stderr",
     "output_type": "stream",
     "text": [
      "Processing volumes for subject 30033:  93%|█████████▎| 152/164 [12:43<01:01,  5.09s/it]"
     ]
    },
    {
     "name": "stdout",
     "output_type": "stream",
     "text": [
      "Applying mask to /home/minyoungxi/MINYOUNGXI/XFL/Data/OASIS_MNI_to_TRs/volume_152.nii.gz\n",
      "Running FLIRT on /home/minyoungxi/MINYOUNGXI/XFL/Data/OASIS_MNI_to_TRs/masked_volume_152.nii.gz\n"
     ]
    },
    {
     "name": "stderr",
     "output_type": "stream",
     "text": [
      "Processing volumes for subject 30033:  93%|█████████▎| 153/164 [12:48<00:55,  5.07s/it]"
     ]
    },
    {
     "name": "stdout",
     "output_type": "stream",
     "text": [
      "Applying mask to /home/minyoungxi/MINYOUNGXI/XFL/Data/OASIS_MNI_to_TRs/volume_153.nii.gz\n",
      "Running FLIRT on /home/minyoungxi/MINYOUNGXI/XFL/Data/OASIS_MNI_to_TRs/masked_volume_153.nii.gz\n"
     ]
    },
    {
     "name": "stderr",
     "output_type": "stream",
     "text": [
      "Processing volumes for subject 30033:  94%|█████████▍| 154/164 [12:53<00:50,  5.05s/it]"
     ]
    },
    {
     "name": "stdout",
     "output_type": "stream",
     "text": [
      "Applying mask to /home/minyoungxi/MINYOUNGXI/XFL/Data/OASIS_MNI_to_TRs/volume_154.nii.gz\n",
      "Running FLIRT on /home/minyoungxi/MINYOUNGXI/XFL/Data/OASIS_MNI_to_TRs/masked_volume_154.nii.gz\n"
     ]
    },
    {
     "name": "stderr",
     "output_type": "stream",
     "text": [
      "Processing volumes for subject 30033:  95%|█████████▍| 155/164 [12:58<00:45,  5.06s/it]"
     ]
    },
    {
     "name": "stdout",
     "output_type": "stream",
     "text": [
      "Applying mask to /home/minyoungxi/MINYOUNGXI/XFL/Data/OASIS_MNI_to_TRs/volume_155.nii.gz\n",
      "Running FLIRT on /home/minyoungxi/MINYOUNGXI/XFL/Data/OASIS_MNI_to_TRs/masked_volume_155.nii.gz\n"
     ]
    },
    {
     "name": "stderr",
     "output_type": "stream",
     "text": [
      "Processing volumes for subject 30033:  95%|█████████▌| 156/164 [13:03<00:40,  5.06s/it]"
     ]
    },
    {
     "name": "stdout",
     "output_type": "stream",
     "text": [
      "Applying mask to /home/minyoungxi/MINYOUNGXI/XFL/Data/OASIS_MNI_to_TRs/volume_156.nii.gz\n",
      "Running FLIRT on /home/minyoungxi/MINYOUNGXI/XFL/Data/OASIS_MNI_to_TRs/masked_volume_156.nii.gz\n"
     ]
    },
    {
     "name": "stderr",
     "output_type": "stream",
     "text": [
      "Processing volumes for subject 30033:  96%|█████████▌| 157/164 [13:08<00:35,  5.05s/it]"
     ]
    },
    {
     "name": "stdout",
     "output_type": "stream",
     "text": [
      "Applying mask to /home/minyoungxi/MINYOUNGXI/XFL/Data/OASIS_MNI_to_TRs/volume_157.nii.gz\n",
      "Running FLIRT on /home/minyoungxi/MINYOUNGXI/XFL/Data/OASIS_MNI_to_TRs/masked_volume_157.nii.gz\n"
     ]
    },
    {
     "name": "stderr",
     "output_type": "stream",
     "text": [
      "Processing volumes for subject 30033:  96%|█████████▋| 158/164 [13:13<00:30,  5.04s/it]"
     ]
    },
    {
     "name": "stdout",
     "output_type": "stream",
     "text": [
      "Applying mask to /home/minyoungxi/MINYOUNGXI/XFL/Data/OASIS_MNI_to_TRs/volume_158.nii.gz\n",
      "Running FLIRT on /home/minyoungxi/MINYOUNGXI/XFL/Data/OASIS_MNI_to_TRs/masked_volume_158.nii.gz\n"
     ]
    },
    {
     "name": "stderr",
     "output_type": "stream",
     "text": [
      "Processing volumes for subject 30033:  97%|█████████▋| 159/164 [13:18<00:25,  5.04s/it]"
     ]
    },
    {
     "name": "stdout",
     "output_type": "stream",
     "text": [
      "Applying mask to /home/minyoungxi/MINYOUNGXI/XFL/Data/OASIS_MNI_to_TRs/volume_159.nii.gz\n",
      "Running FLIRT on /home/minyoungxi/MINYOUNGXI/XFL/Data/OASIS_MNI_to_TRs/masked_volume_159.nii.gz\n"
     ]
    },
    {
     "name": "stderr",
     "output_type": "stream",
     "text": [
      "Processing volumes for subject 30033:  98%|█████████▊| 160/164 [13:23<00:20,  5.08s/it]"
     ]
    },
    {
     "name": "stdout",
     "output_type": "stream",
     "text": [
      "Applying mask to /home/minyoungxi/MINYOUNGXI/XFL/Data/OASIS_MNI_to_TRs/volume_160.nii.gz\n",
      "Running FLIRT on /home/minyoungxi/MINYOUNGXI/XFL/Data/OASIS_MNI_to_TRs/masked_volume_160.nii.gz\n"
     ]
    },
    {
     "name": "stderr",
     "output_type": "stream",
     "text": [
      "Processing volumes for subject 30033:  98%|█████████▊| 161/164 [13:28<00:15,  5.07s/it]"
     ]
    },
    {
     "name": "stdout",
     "output_type": "stream",
     "text": [
      "Applying mask to /home/minyoungxi/MINYOUNGXI/XFL/Data/OASIS_MNI_to_TRs/volume_161.nii.gz\n",
      "Running FLIRT on /home/minyoungxi/MINYOUNGXI/XFL/Data/OASIS_MNI_to_TRs/masked_volume_161.nii.gz\n"
     ]
    },
    {
     "name": "stderr",
     "output_type": "stream",
     "text": [
      "Processing volumes for subject 30033:  99%|█████████▉| 162/164 [13:34<00:10,  5.10s/it]"
     ]
    },
    {
     "name": "stdout",
     "output_type": "stream",
     "text": [
      "Applying mask to /home/minyoungxi/MINYOUNGXI/XFL/Data/OASIS_MNI_to_TRs/volume_162.nii.gz\n",
      "Running FLIRT on /home/minyoungxi/MINYOUNGXI/XFL/Data/OASIS_MNI_to_TRs/masked_volume_162.nii.gz\n"
     ]
    },
    {
     "name": "stderr",
     "output_type": "stream",
     "text": [
      "Processing volumes for subject 30033:  99%|█████████▉| 163/164 [13:39<00:05,  5.07s/it]"
     ]
    },
    {
     "name": "stdout",
     "output_type": "stream",
     "text": [
      "Applying mask to /home/minyoungxi/MINYOUNGXI/XFL/Data/OASIS_MNI_to_TRs/volume_163.nii.gz\n",
      "Running FLIRT on /home/minyoungxi/MINYOUNGXI/XFL/Data/OASIS_MNI_to_TRs/masked_volume_163.nii.gz\n"
     ]
    },
    {
     "name": "stderr",
     "output_type": "stream",
     "text": [
      "Processing volumes for subject 30033: 100%|██████████| 164/164 [13:44<00:00,  5.03s/it]\n"
     ]
    },
    {
     "name": "stdout",
     "output_type": "stream",
     "text": [
      "Found functional file: /home/minyoungxi/MINYOUNGXI/XFL/Data/OASISSamples7.1/OAS30124_MR_d0046/func1/NIFTI/sub-OAS30124_ses-d0046_task-rest_run-01_bold.nii.gz\n",
      "Preprocessing fMRI data for subject 30124, session 0046\n",
      "Running BET on /home/minyoungxi/MINYOUNGXI/XFL/Data/OASIS_MNI_to_TRs/first_volume.nii.gz\n"
     ]
    },
    {
     "name": "stderr",
     "output_type": "stream",
     "text": [
      "Processing volumes for subject 30124:   0%|          | 0/164 [00:00<?, ?it/s]"
     ]
    },
    {
     "name": "stdout",
     "output_type": "stream",
     "text": [
      "Applying mask to /home/minyoungxi/MINYOUNGXI/XFL/Data/OASIS_MNI_to_TRs/volume_0.nii.gz\n",
      "Running FLIRT on /home/minyoungxi/MINYOUNGXI/XFL/Data/OASIS_MNI_to_TRs/masked_volume_0.nii.gz\n"
     ]
    },
    {
     "name": "stderr",
     "output_type": "stream",
     "text": [
      "Processing volumes for subject 30124:   1%|          | 1/164 [00:04<13:21,  4.92s/it]"
     ]
    },
    {
     "name": "stdout",
     "output_type": "stream",
     "text": [
      "Applying mask to /home/minyoungxi/MINYOUNGXI/XFL/Data/OASIS_MNI_to_TRs/volume_1.nii.gz\n",
      "Running FLIRT on /home/minyoungxi/MINYOUNGXI/XFL/Data/OASIS_MNI_to_TRs/masked_volume_1.nii.gz\n"
     ]
    },
    {
     "name": "stderr",
     "output_type": "stream",
     "text": [
      "Processing volumes for subject 30124:   1%|          | 2/164 [00:09<13:17,  4.92s/it]"
     ]
    },
    {
     "name": "stdout",
     "output_type": "stream",
     "text": [
      "Applying mask to /home/minyoungxi/MINYOUNGXI/XFL/Data/OASIS_MNI_to_TRs/volume_2.nii.gz\n",
      "Running FLIRT on /home/minyoungxi/MINYOUNGXI/XFL/Data/OASIS_MNI_to_TRs/masked_volume_2.nii.gz\n"
     ]
    },
    {
     "name": "stderr",
     "output_type": "stream",
     "text": [
      "Processing volumes for subject 30124:   2%|▏         | 3/164 [00:14<13:09,  4.90s/it]"
     ]
    },
    {
     "name": "stdout",
     "output_type": "stream",
     "text": [
      "Applying mask to /home/minyoungxi/MINYOUNGXI/XFL/Data/OASIS_MNI_to_TRs/volume_3.nii.gz\n",
      "Running FLIRT on /home/minyoungxi/MINYOUNGXI/XFL/Data/OASIS_MNI_to_TRs/masked_volume_3.nii.gz\n"
     ]
    },
    {
     "name": "stderr",
     "output_type": "stream",
     "text": [
      "Processing volumes for subject 30124:   2%|▏         | 4/164 [00:19<13:06,  4.92s/it]"
     ]
    },
    {
     "name": "stdout",
     "output_type": "stream",
     "text": [
      "Applying mask to /home/minyoungxi/MINYOUNGXI/XFL/Data/OASIS_MNI_to_TRs/volume_4.nii.gz\n",
      "Running FLIRT on /home/minyoungxi/MINYOUNGXI/XFL/Data/OASIS_MNI_to_TRs/masked_volume_4.nii.gz\n"
     ]
    },
    {
     "name": "stderr",
     "output_type": "stream",
     "text": [
      "Processing volumes for subject 30124:   3%|▎         | 5/164 [00:24<13:00,  4.91s/it]"
     ]
    },
    {
     "name": "stdout",
     "output_type": "stream",
     "text": [
      "Applying mask to /home/minyoungxi/MINYOUNGXI/XFL/Data/OASIS_MNI_to_TRs/volume_5.nii.gz\n",
      "Running FLIRT on /home/minyoungxi/MINYOUNGXI/XFL/Data/OASIS_MNI_to_TRs/masked_volume_5.nii.gz\n"
     ]
    },
    {
     "name": "stderr",
     "output_type": "stream",
     "text": [
      "Processing volumes for subject 30124:   4%|▎         | 6/164 [00:29<12:55,  4.91s/it]"
     ]
    },
    {
     "name": "stdout",
     "output_type": "stream",
     "text": [
      "Applying mask to /home/minyoungxi/MINYOUNGXI/XFL/Data/OASIS_MNI_to_TRs/volume_6.nii.gz\n",
      "Running FLIRT on /home/minyoungxi/MINYOUNGXI/XFL/Data/OASIS_MNI_to_TRs/masked_volume_6.nii.gz\n"
     ]
    },
    {
     "name": "stderr",
     "output_type": "stream",
     "text": [
      "Processing volumes for subject 30124:   4%|▍         | 7/164 [00:34<12:50,  4.91s/it]"
     ]
    },
    {
     "name": "stdout",
     "output_type": "stream",
     "text": [
      "Applying mask to /home/minyoungxi/MINYOUNGXI/XFL/Data/OASIS_MNI_to_TRs/volume_7.nii.gz\n",
      "Running FLIRT on /home/minyoungxi/MINYOUNGXI/XFL/Data/OASIS_MNI_to_TRs/masked_volume_7.nii.gz\n"
     ]
    },
    {
     "name": "stderr",
     "output_type": "stream",
     "text": [
      "Processing volumes for subject 30124:   5%|▍         | 8/164 [00:39<12:43,  4.89s/it]"
     ]
    },
    {
     "name": "stdout",
     "output_type": "stream",
     "text": [
      "Applying mask to /home/minyoungxi/MINYOUNGXI/XFL/Data/OASIS_MNI_to_TRs/volume_8.nii.gz\n",
      "Running FLIRT on /home/minyoungxi/MINYOUNGXI/XFL/Data/OASIS_MNI_to_TRs/masked_volume_8.nii.gz\n"
     ]
    },
    {
     "name": "stderr",
     "output_type": "stream",
     "text": [
      "Processing volumes for subject 30124:   5%|▌         | 9/164 [00:44<12:40,  4.90s/it]"
     ]
    },
    {
     "name": "stdout",
     "output_type": "stream",
     "text": [
      "Applying mask to /home/minyoungxi/MINYOUNGXI/XFL/Data/OASIS_MNI_to_TRs/volume_9.nii.gz\n",
      "Running FLIRT on /home/minyoungxi/MINYOUNGXI/XFL/Data/OASIS_MNI_to_TRs/masked_volume_9.nii.gz\n"
     ]
    },
    {
     "name": "stderr",
     "output_type": "stream",
     "text": [
      "Processing volumes for subject 30124:   6%|▌         | 10/164 [00:49<12:38,  4.92s/it]"
     ]
    },
    {
     "name": "stdout",
     "output_type": "stream",
     "text": [
      "Applying mask to /home/minyoungxi/MINYOUNGXI/XFL/Data/OASIS_MNI_to_TRs/volume_10.nii.gz\n",
      "Running FLIRT on /home/minyoungxi/MINYOUNGXI/XFL/Data/OASIS_MNI_to_TRs/masked_volume_10.nii.gz\n"
     ]
    },
    {
     "name": "stderr",
     "output_type": "stream",
     "text": [
      "Processing volumes for subject 30124:   7%|▋         | 11/164 [00:54<12:31,  4.91s/it]"
     ]
    },
    {
     "name": "stdout",
     "output_type": "stream",
     "text": [
      "Applying mask to /home/minyoungxi/MINYOUNGXI/XFL/Data/OASIS_MNI_to_TRs/volume_11.nii.gz\n",
      "Running FLIRT on /home/minyoungxi/MINYOUNGXI/XFL/Data/OASIS_MNI_to_TRs/masked_volume_11.nii.gz\n"
     ]
    },
    {
     "name": "stderr",
     "output_type": "stream",
     "text": [
      "Processing volumes for subject 30124:   7%|▋         | 12/164 [00:58<12:26,  4.91s/it]"
     ]
    },
    {
     "name": "stdout",
     "output_type": "stream",
     "text": [
      "Applying mask to /home/minyoungxi/MINYOUNGXI/XFL/Data/OASIS_MNI_to_TRs/volume_12.nii.gz\n",
      "Running FLIRT on /home/minyoungxi/MINYOUNGXI/XFL/Data/OASIS_MNI_to_TRs/masked_volume_12.nii.gz\n"
     ]
    },
    {
     "name": "stderr",
     "output_type": "stream",
     "text": [
      "Processing volumes for subject 30124:   8%|▊         | 13/164 [01:03<12:22,  4.92s/it]"
     ]
    },
    {
     "name": "stdout",
     "output_type": "stream",
     "text": [
      "Applying mask to /home/minyoungxi/MINYOUNGXI/XFL/Data/OASIS_MNI_to_TRs/volume_13.nii.gz\n",
      "Running FLIRT on /home/minyoungxi/MINYOUNGXI/XFL/Data/OASIS_MNI_to_TRs/masked_volume_13.nii.gz\n"
     ]
    },
    {
     "name": "stderr",
     "output_type": "stream",
     "text": [
      "Processing volumes for subject 30124:   9%|▊         | 14/164 [01:08<12:18,  4.92s/it]"
     ]
    },
    {
     "name": "stdout",
     "output_type": "stream",
     "text": [
      "Applying mask to /home/minyoungxi/MINYOUNGXI/XFL/Data/OASIS_MNI_to_TRs/volume_14.nii.gz\n",
      "Running FLIRT on /home/minyoungxi/MINYOUNGXI/XFL/Data/OASIS_MNI_to_TRs/masked_volume_14.nii.gz\n"
     ]
    },
    {
     "name": "stderr",
     "output_type": "stream",
     "text": [
      "Processing volumes for subject 30124:   9%|▉         | 15/164 [01:13<12:13,  4.93s/it]"
     ]
    },
    {
     "name": "stdout",
     "output_type": "stream",
     "text": [
      "Applying mask to /home/minyoungxi/MINYOUNGXI/XFL/Data/OASIS_MNI_to_TRs/volume_15.nii.gz\n",
      "Running FLIRT on /home/minyoungxi/MINYOUNGXI/XFL/Data/OASIS_MNI_to_TRs/masked_volume_15.nii.gz\n"
     ]
    },
    {
     "name": "stderr",
     "output_type": "stream",
     "text": [
      "Processing volumes for subject 30124:  10%|▉         | 16/164 [01:18<12:07,  4.92s/it]"
     ]
    },
    {
     "name": "stdout",
     "output_type": "stream",
     "text": [
      "Applying mask to /home/minyoungxi/MINYOUNGXI/XFL/Data/OASIS_MNI_to_TRs/volume_16.nii.gz\n",
      "Running FLIRT on /home/minyoungxi/MINYOUNGXI/XFL/Data/OASIS_MNI_to_TRs/masked_volume_16.nii.gz\n"
     ]
    },
    {
     "name": "stderr",
     "output_type": "stream",
     "text": [
      "Processing volumes for subject 30124:  10%|█         | 17/164 [01:23<12:00,  4.90s/it]"
     ]
    },
    {
     "name": "stdout",
     "output_type": "stream",
     "text": [
      "Applying mask to /home/minyoungxi/MINYOUNGXI/XFL/Data/OASIS_MNI_to_TRs/volume_17.nii.gz\n",
      "Running FLIRT on /home/minyoungxi/MINYOUNGXI/XFL/Data/OASIS_MNI_to_TRs/masked_volume_17.nii.gz\n"
     ]
    },
    {
     "name": "stderr",
     "output_type": "stream",
     "text": [
      "Processing volumes for subject 30124:  11%|█         | 18/164 [01:28<11:51,  4.87s/it]"
     ]
    },
    {
     "name": "stdout",
     "output_type": "stream",
     "text": [
      "Applying mask to /home/minyoungxi/MINYOUNGXI/XFL/Data/OASIS_MNI_to_TRs/volume_18.nii.gz\n",
      "Running FLIRT on /home/minyoungxi/MINYOUNGXI/XFL/Data/OASIS_MNI_to_TRs/masked_volume_18.nii.gz\n"
     ]
    },
    {
     "name": "stderr",
     "output_type": "stream",
     "text": [
      "Processing volumes for subject 30124:  12%|█▏        | 19/164 [01:33<11:45,  4.86s/it]"
     ]
    },
    {
     "name": "stdout",
     "output_type": "stream",
     "text": [
      "Applying mask to /home/minyoungxi/MINYOUNGXI/XFL/Data/OASIS_MNI_to_TRs/volume_19.nii.gz\n",
      "Running FLIRT on /home/minyoungxi/MINYOUNGXI/XFL/Data/OASIS_MNI_to_TRs/masked_volume_19.nii.gz\n"
     ]
    },
    {
     "name": "stderr",
     "output_type": "stream",
     "text": [
      "Processing volumes for subject 30124:  12%|█▏        | 20/164 [01:38<11:41,  4.87s/it]"
     ]
    },
    {
     "name": "stdout",
     "output_type": "stream",
     "text": [
      "Applying mask to /home/minyoungxi/MINYOUNGXI/XFL/Data/OASIS_MNI_to_TRs/volume_20.nii.gz\n",
      "Running FLIRT on /home/minyoungxi/MINYOUNGXI/XFL/Data/OASIS_MNI_to_TRs/masked_volume_20.nii.gz\n"
     ]
    },
    {
     "name": "stderr",
     "output_type": "stream",
     "text": [
      "Processing volumes for subject 30124:  13%|█▎        | 21/164 [01:42<11:37,  4.87s/it]"
     ]
    },
    {
     "name": "stdout",
     "output_type": "stream",
     "text": [
      "Applying mask to /home/minyoungxi/MINYOUNGXI/XFL/Data/OASIS_MNI_to_TRs/volume_21.nii.gz\n",
      "Running FLIRT on /home/minyoungxi/MINYOUNGXI/XFL/Data/OASIS_MNI_to_TRs/masked_volume_21.nii.gz\n"
     ]
    },
    {
     "name": "stderr",
     "output_type": "stream",
     "text": [
      "Processing volumes for subject 30124:  13%|█▎        | 22/164 [01:47<11:30,  4.86s/it]"
     ]
    },
    {
     "name": "stdout",
     "output_type": "stream",
     "text": [
      "Applying mask to /home/minyoungxi/MINYOUNGXI/XFL/Data/OASIS_MNI_to_TRs/volume_22.nii.gz\n",
      "Running FLIRT on /home/minyoungxi/MINYOUNGXI/XFL/Data/OASIS_MNI_to_TRs/masked_volume_22.nii.gz\n"
     ]
    },
    {
     "name": "stderr",
     "output_type": "stream",
     "text": [
      "Processing volumes for subject 30124:  14%|█▍        | 23/164 [01:52<11:30,  4.90s/it]"
     ]
    },
    {
     "name": "stdout",
     "output_type": "stream",
     "text": [
      "Applying mask to /home/minyoungxi/MINYOUNGXI/XFL/Data/OASIS_MNI_to_TRs/volume_23.nii.gz\n",
      "Running FLIRT on /home/minyoungxi/MINYOUNGXI/XFL/Data/OASIS_MNI_to_TRs/masked_volume_23.nii.gz\n"
     ]
    },
    {
     "name": "stderr",
     "output_type": "stream",
     "text": [
      "Processing volumes for subject 30124:  15%|█▍        | 24/164 [01:57<11:25,  4.89s/it]"
     ]
    },
    {
     "name": "stdout",
     "output_type": "stream",
     "text": [
      "Applying mask to /home/minyoungxi/MINYOUNGXI/XFL/Data/OASIS_MNI_to_TRs/volume_24.nii.gz\n",
      "Running FLIRT on /home/minyoungxi/MINYOUNGXI/XFL/Data/OASIS_MNI_to_TRs/masked_volume_24.nii.gz\n"
     ]
    },
    {
     "name": "stderr",
     "output_type": "stream",
     "text": [
      "Processing volumes for subject 30124:  15%|█▌        | 25/164 [02:02<11:21,  4.90s/it]"
     ]
    },
    {
     "name": "stdout",
     "output_type": "stream",
     "text": [
      "Applying mask to /home/minyoungxi/MINYOUNGXI/XFL/Data/OASIS_MNI_to_TRs/volume_25.nii.gz\n",
      "Running FLIRT on /home/minyoungxi/MINYOUNGXI/XFL/Data/OASIS_MNI_to_TRs/masked_volume_25.nii.gz\n"
     ]
    },
    {
     "name": "stderr",
     "output_type": "stream",
     "text": [
      "Processing volumes for subject 30124:  16%|█▌        | 26/164 [02:07<11:13,  4.88s/it]"
     ]
    },
    {
     "name": "stdout",
     "output_type": "stream",
     "text": [
      "Applying mask to /home/minyoungxi/MINYOUNGXI/XFL/Data/OASIS_MNI_to_TRs/volume_26.nii.gz\n",
      "Running FLIRT on /home/minyoungxi/MINYOUNGXI/XFL/Data/OASIS_MNI_to_TRs/masked_volume_26.nii.gz\n"
     ]
    },
    {
     "name": "stderr",
     "output_type": "stream",
     "text": [
      "Processing volumes for subject 30124:  16%|█▋        | 27/164 [02:12<11:05,  4.86s/it]"
     ]
    },
    {
     "name": "stdout",
     "output_type": "stream",
     "text": [
      "Applying mask to /home/minyoungxi/MINYOUNGXI/XFL/Data/OASIS_MNI_to_TRs/volume_27.nii.gz\n",
      "Running FLIRT on /home/minyoungxi/MINYOUNGXI/XFL/Data/OASIS_MNI_to_TRs/masked_volume_27.nii.gz\n"
     ]
    },
    {
     "name": "stderr",
     "output_type": "stream",
     "text": [
      "Processing volumes for subject 30124:  17%|█▋        | 28/164 [02:17<11:07,  4.91s/it]"
     ]
    },
    {
     "name": "stdout",
     "output_type": "stream",
     "text": [
      "Applying mask to /home/minyoungxi/MINYOUNGXI/XFL/Data/OASIS_MNI_to_TRs/volume_28.nii.gz\n",
      "Running FLIRT on /home/minyoungxi/MINYOUNGXI/XFL/Data/OASIS_MNI_to_TRs/masked_volume_28.nii.gz\n"
     ]
    },
    {
     "name": "stderr",
     "output_type": "stream",
     "text": [
      "Processing volumes for subject 30124:  18%|█▊        | 29/164 [02:22<10:59,  4.88s/it]"
     ]
    },
    {
     "name": "stdout",
     "output_type": "stream",
     "text": [
      "Applying mask to /home/minyoungxi/MINYOUNGXI/XFL/Data/OASIS_MNI_to_TRs/volume_29.nii.gz\n",
      "Running FLIRT on /home/minyoungxi/MINYOUNGXI/XFL/Data/OASIS_MNI_to_TRs/masked_volume_29.nii.gz\n"
     ]
    },
    {
     "name": "stderr",
     "output_type": "stream",
     "text": [
      "Processing volumes for subject 30124:  18%|█▊        | 30/164 [02:26<10:51,  4.86s/it]"
     ]
    },
    {
     "name": "stdout",
     "output_type": "stream",
     "text": [
      "Applying mask to /home/minyoungxi/MINYOUNGXI/XFL/Data/OASIS_MNI_to_TRs/volume_30.nii.gz\n",
      "Running FLIRT on /home/minyoungxi/MINYOUNGXI/XFL/Data/OASIS_MNI_to_TRs/masked_volume_30.nii.gz\n"
     ]
    },
    {
     "name": "stderr",
     "output_type": "stream",
     "text": [
      "Processing volumes for subject 30124:  19%|█▉        | 31/164 [02:31<10:45,  4.85s/it]"
     ]
    },
    {
     "name": "stdout",
     "output_type": "stream",
     "text": [
      "Applying mask to /home/minyoungxi/MINYOUNGXI/XFL/Data/OASIS_MNI_to_TRs/volume_31.nii.gz\n",
      "Running FLIRT on /home/minyoungxi/MINYOUNGXI/XFL/Data/OASIS_MNI_to_TRs/masked_volume_31.nii.gz\n"
     ]
    },
    {
     "name": "stderr",
     "output_type": "stream",
     "text": [
      "Processing volumes for subject 30124:  20%|█▉        | 32/164 [02:36<10:40,  4.86s/it]"
     ]
    },
    {
     "name": "stdout",
     "output_type": "stream",
     "text": [
      "Applying mask to /home/minyoungxi/MINYOUNGXI/XFL/Data/OASIS_MNI_to_TRs/volume_32.nii.gz\n",
      "Running FLIRT on /home/minyoungxi/MINYOUNGXI/XFL/Data/OASIS_MNI_to_TRs/masked_volume_32.nii.gz\n"
     ]
    },
    {
     "name": "stderr",
     "output_type": "stream",
     "text": [
      "Processing volumes for subject 30124:  20%|██        | 33/164 [02:41<10:36,  4.86s/it]"
     ]
    },
    {
     "name": "stdout",
     "output_type": "stream",
     "text": [
      "Applying mask to /home/minyoungxi/MINYOUNGXI/XFL/Data/OASIS_MNI_to_TRs/volume_33.nii.gz\n",
      "Running FLIRT on /home/minyoungxi/MINYOUNGXI/XFL/Data/OASIS_MNI_to_TRs/masked_volume_33.nii.gz\n"
     ]
    },
    {
     "name": "stderr",
     "output_type": "stream",
     "text": [
      "Processing volumes for subject 30124:  21%|██        | 34/164 [02:46<10:31,  4.85s/it]"
     ]
    },
    {
     "name": "stdout",
     "output_type": "stream",
     "text": [
      "Applying mask to /home/minyoungxi/MINYOUNGXI/XFL/Data/OASIS_MNI_to_TRs/volume_34.nii.gz\n",
      "Running FLIRT on /home/minyoungxi/MINYOUNGXI/XFL/Data/OASIS_MNI_to_TRs/masked_volume_34.nii.gz\n"
     ]
    },
    {
     "name": "stderr",
     "output_type": "stream",
     "text": [
      "Processing volumes for subject 30124:  21%|██▏       | 35/164 [02:51<10:26,  4.86s/it]"
     ]
    },
    {
     "name": "stdout",
     "output_type": "stream",
     "text": [
      "Applying mask to /home/minyoungxi/MINYOUNGXI/XFL/Data/OASIS_MNI_to_TRs/volume_35.nii.gz\n",
      "Running FLIRT on /home/minyoungxi/MINYOUNGXI/XFL/Data/OASIS_MNI_to_TRs/masked_volume_35.nii.gz\n"
     ]
    },
    {
     "name": "stderr",
     "output_type": "stream",
     "text": [
      "Processing volumes for subject 30124:  22%|██▏       | 36/164 [02:55<10:21,  4.86s/it]"
     ]
    },
    {
     "name": "stdout",
     "output_type": "stream",
     "text": [
      "Applying mask to /home/minyoungxi/MINYOUNGXI/XFL/Data/OASIS_MNI_to_TRs/volume_36.nii.gz\n",
      "Running FLIRT on /home/minyoungxi/MINYOUNGXI/XFL/Data/OASIS_MNI_to_TRs/masked_volume_36.nii.gz\n"
     ]
    },
    {
     "name": "stderr",
     "output_type": "stream",
     "text": [
      "Processing volumes for subject 30124:  23%|██▎       | 37/164 [03:00<10:17,  4.86s/it]"
     ]
    },
    {
     "name": "stdout",
     "output_type": "stream",
     "text": [
      "Applying mask to /home/minyoungxi/MINYOUNGXI/XFL/Data/OASIS_MNI_to_TRs/volume_37.nii.gz\n",
      "Running FLIRT on /home/minyoungxi/MINYOUNGXI/XFL/Data/OASIS_MNI_to_TRs/masked_volume_37.nii.gz\n"
     ]
    },
    {
     "name": "stderr",
     "output_type": "stream",
     "text": [
      "Processing volumes for subject 30124:  23%|██▎       | 38/164 [03:05<10:10,  4.84s/it]"
     ]
    },
    {
     "name": "stdout",
     "output_type": "stream",
     "text": [
      "Applying mask to /home/minyoungxi/MINYOUNGXI/XFL/Data/OASIS_MNI_to_TRs/volume_38.nii.gz\n",
      "Running FLIRT on /home/minyoungxi/MINYOUNGXI/XFL/Data/OASIS_MNI_to_TRs/masked_volume_38.nii.gz\n"
     ]
    },
    {
     "name": "stderr",
     "output_type": "stream",
     "text": [
      "Processing volumes for subject 30124:  24%|██▍       | 39/164 [03:10<10:04,  4.84s/it]"
     ]
    },
    {
     "name": "stdout",
     "output_type": "stream",
     "text": [
      "Applying mask to /home/minyoungxi/MINYOUNGXI/XFL/Data/OASIS_MNI_to_TRs/volume_39.nii.gz\n",
      "Running FLIRT on /home/minyoungxi/MINYOUNGXI/XFL/Data/OASIS_MNI_to_TRs/masked_volume_39.nii.gz\n"
     ]
    },
    {
     "name": "stderr",
     "output_type": "stream",
     "text": [
      "Processing volumes for subject 30124:  24%|██▍       | 40/164 [03:15<10:00,  4.84s/it]"
     ]
    },
    {
     "name": "stdout",
     "output_type": "stream",
     "text": [
      "Applying mask to /home/minyoungxi/MINYOUNGXI/XFL/Data/OASIS_MNI_to_TRs/volume_40.nii.gz\n",
      "Running FLIRT on /home/minyoungxi/MINYOUNGXI/XFL/Data/OASIS_MNI_to_TRs/masked_volume_40.nii.gz\n"
     ]
    },
    {
     "name": "stderr",
     "output_type": "stream",
     "text": [
      "Processing volumes for subject 30124:  25%|██▌       | 41/164 [03:20<09:54,  4.83s/it]"
     ]
    },
    {
     "name": "stdout",
     "output_type": "stream",
     "text": [
      "Applying mask to /home/minyoungxi/MINYOUNGXI/XFL/Data/OASIS_MNI_to_TRs/volume_41.nii.gz\n",
      "Running FLIRT on /home/minyoungxi/MINYOUNGXI/XFL/Data/OASIS_MNI_to_TRs/masked_volume_41.nii.gz\n"
     ]
    },
    {
     "name": "stderr",
     "output_type": "stream",
     "text": [
      "Processing volumes for subject 30124:  26%|██▌       | 42/164 [03:24<09:51,  4.85s/it]"
     ]
    },
    {
     "name": "stdout",
     "output_type": "stream",
     "text": [
      "Applying mask to /home/minyoungxi/MINYOUNGXI/XFL/Data/OASIS_MNI_to_TRs/volume_42.nii.gz\n",
      "Running FLIRT on /home/minyoungxi/MINYOUNGXI/XFL/Data/OASIS_MNI_to_TRs/masked_volume_42.nii.gz\n"
     ]
    },
    {
     "name": "stderr",
     "output_type": "stream",
     "text": [
      "Processing volumes for subject 30124:  26%|██▌       | 43/164 [03:29<09:46,  4.85s/it]"
     ]
    },
    {
     "name": "stdout",
     "output_type": "stream",
     "text": [
      "Applying mask to /home/minyoungxi/MINYOUNGXI/XFL/Data/OASIS_MNI_to_TRs/volume_43.nii.gz\n",
      "Running FLIRT on /home/minyoungxi/MINYOUNGXI/XFL/Data/OASIS_MNI_to_TRs/masked_volume_43.nii.gz\n"
     ]
    },
    {
     "name": "stderr",
     "output_type": "stream",
     "text": [
      "Processing volumes for subject 30124:  27%|██▋       | 44/164 [03:34<09:40,  4.84s/it]"
     ]
    },
    {
     "name": "stdout",
     "output_type": "stream",
     "text": [
      "Applying mask to /home/minyoungxi/MINYOUNGXI/XFL/Data/OASIS_MNI_to_TRs/volume_44.nii.gz\n",
      "Running FLIRT on /home/minyoungxi/MINYOUNGXI/XFL/Data/OASIS_MNI_to_TRs/masked_volume_44.nii.gz\n"
     ]
    },
    {
     "name": "stderr",
     "output_type": "stream",
     "text": [
      "Processing volumes for subject 30124:  27%|██▋       | 45/164 [03:39<09:36,  4.84s/it]"
     ]
    },
    {
     "name": "stdout",
     "output_type": "stream",
     "text": [
      "Applying mask to /home/minyoungxi/MINYOUNGXI/XFL/Data/OASIS_MNI_to_TRs/volume_45.nii.gz\n",
      "Running FLIRT on /home/minyoungxi/MINYOUNGXI/XFL/Data/OASIS_MNI_to_TRs/masked_volume_45.nii.gz\n"
     ]
    },
    {
     "name": "stderr",
     "output_type": "stream",
     "text": [
      "Processing volumes for subject 30124:  28%|██▊       | 46/164 [03:44<09:31,  4.84s/it]"
     ]
    },
    {
     "name": "stdout",
     "output_type": "stream",
     "text": [
      "Applying mask to /home/minyoungxi/MINYOUNGXI/XFL/Data/OASIS_MNI_to_TRs/volume_46.nii.gz\n",
      "Running FLIRT on /home/minyoungxi/MINYOUNGXI/XFL/Data/OASIS_MNI_to_TRs/masked_volume_46.nii.gz\n"
     ]
    },
    {
     "name": "stderr",
     "output_type": "stream",
     "text": [
      "Processing volumes for subject 30124:  29%|██▊       | 47/164 [03:49<09:25,  4.84s/it]"
     ]
    },
    {
     "name": "stdout",
     "output_type": "stream",
     "text": [
      "Applying mask to /home/minyoungxi/MINYOUNGXI/XFL/Data/OASIS_MNI_to_TRs/volume_47.nii.gz\n",
      "Running FLIRT on /home/minyoungxi/MINYOUNGXI/XFL/Data/OASIS_MNI_to_TRs/masked_volume_47.nii.gz\n"
     ]
    },
    {
     "name": "stderr",
     "output_type": "stream",
     "text": [
      "Processing volumes for subject 30124:  29%|██▉       | 48/164 [03:53<09:21,  4.84s/it]"
     ]
    },
    {
     "name": "stdout",
     "output_type": "stream",
     "text": [
      "Applying mask to /home/minyoungxi/MINYOUNGXI/XFL/Data/OASIS_MNI_to_TRs/volume_48.nii.gz\n",
      "Running FLIRT on /home/minyoungxi/MINYOUNGXI/XFL/Data/OASIS_MNI_to_TRs/masked_volume_48.nii.gz\n"
     ]
    },
    {
     "name": "stderr",
     "output_type": "stream",
     "text": [
      "Processing volumes for subject 30124:  30%|██▉       | 49/164 [03:58<09:18,  4.85s/it]"
     ]
    },
    {
     "name": "stdout",
     "output_type": "stream",
     "text": [
      "Applying mask to /home/minyoungxi/MINYOUNGXI/XFL/Data/OASIS_MNI_to_TRs/volume_49.nii.gz\n",
      "Running FLIRT on /home/minyoungxi/MINYOUNGXI/XFL/Data/OASIS_MNI_to_TRs/masked_volume_49.nii.gz\n"
     ]
    },
    {
     "name": "stderr",
     "output_type": "stream",
     "text": [
      "Processing volumes for subject 30124:  30%|███       | 50/164 [04:03<09:13,  4.85s/it]"
     ]
    },
    {
     "name": "stdout",
     "output_type": "stream",
     "text": [
      "Applying mask to /home/minyoungxi/MINYOUNGXI/XFL/Data/OASIS_MNI_to_TRs/volume_50.nii.gz\n",
      "Running FLIRT on /home/minyoungxi/MINYOUNGXI/XFL/Data/OASIS_MNI_to_TRs/masked_volume_50.nii.gz\n"
     ]
    },
    {
     "name": "stderr",
     "output_type": "stream",
     "text": [
      "Processing volumes for subject 30124:  31%|███       | 51/164 [04:08<09:11,  4.88s/it]"
     ]
    },
    {
     "name": "stdout",
     "output_type": "stream",
     "text": [
      "Applying mask to /home/minyoungxi/MINYOUNGXI/XFL/Data/OASIS_MNI_to_TRs/volume_51.nii.gz\n",
      "Running FLIRT on /home/minyoungxi/MINYOUNGXI/XFL/Data/OASIS_MNI_to_TRs/masked_volume_51.nii.gz\n"
     ]
    },
    {
     "name": "stderr",
     "output_type": "stream",
     "text": [
      "Processing volumes for subject 30124:  32%|███▏      | 52/164 [04:13<09:06,  4.88s/it]"
     ]
    },
    {
     "name": "stdout",
     "output_type": "stream",
     "text": [
      "Applying mask to /home/minyoungxi/MINYOUNGXI/XFL/Data/OASIS_MNI_to_TRs/volume_52.nii.gz\n",
      "Running FLIRT on /home/minyoungxi/MINYOUNGXI/XFL/Data/OASIS_MNI_to_TRs/masked_volume_52.nii.gz\n"
     ]
    },
    {
     "name": "stderr",
     "output_type": "stream",
     "text": [
      "Processing volumes for subject 30124:  32%|███▏      | 53/164 [04:18<09:05,  4.91s/it]"
     ]
    },
    {
     "name": "stdout",
     "output_type": "stream",
     "text": [
      "Applying mask to /home/minyoungxi/MINYOUNGXI/XFL/Data/OASIS_MNI_to_TRs/volume_53.nii.gz\n",
      "Running FLIRT on /home/minyoungxi/MINYOUNGXI/XFL/Data/OASIS_MNI_to_TRs/masked_volume_53.nii.gz\n"
     ]
    },
    {
     "name": "stderr",
     "output_type": "stream",
     "text": [
      "Processing volumes for subject 30124:  33%|███▎      | 54/164 [04:23<09:01,  4.92s/it]"
     ]
    },
    {
     "name": "stdout",
     "output_type": "stream",
     "text": [
      "Applying mask to /home/minyoungxi/MINYOUNGXI/XFL/Data/OASIS_MNI_to_TRs/volume_54.nii.gz\n",
      "Running FLIRT on /home/minyoungxi/MINYOUNGXI/XFL/Data/OASIS_MNI_to_TRs/masked_volume_54.nii.gz\n"
     ]
    },
    {
     "name": "stderr",
     "output_type": "stream",
     "text": [
      "Processing volumes for subject 30124:  34%|███▎      | 55/164 [04:28<08:55,  4.91s/it]"
     ]
    },
    {
     "name": "stdout",
     "output_type": "stream",
     "text": [
      "Applying mask to /home/minyoungxi/MINYOUNGXI/XFL/Data/OASIS_MNI_to_TRs/volume_55.nii.gz\n",
      "Running FLIRT on /home/minyoungxi/MINYOUNGXI/XFL/Data/OASIS_MNI_to_TRs/masked_volume_55.nii.gz\n"
     ]
    },
    {
     "name": "stderr",
     "output_type": "stream",
     "text": [
      "Processing volumes for subject 30124:  34%|███▍      | 56/164 [04:33<08:49,  4.90s/it]"
     ]
    },
    {
     "name": "stdout",
     "output_type": "stream",
     "text": [
      "Applying mask to /home/minyoungxi/MINYOUNGXI/XFL/Data/OASIS_MNI_to_TRs/volume_56.nii.gz\n",
      "Running FLIRT on /home/minyoungxi/MINYOUNGXI/XFL/Data/OASIS_MNI_to_TRs/masked_volume_56.nii.gz\n"
     ]
    },
    {
     "name": "stderr",
     "output_type": "stream",
     "text": [
      "Processing volumes for subject 30124:  35%|███▍      | 57/164 [04:38<08:45,  4.91s/it]"
     ]
    },
    {
     "name": "stdout",
     "output_type": "stream",
     "text": [
      "Applying mask to /home/minyoungxi/MINYOUNGXI/XFL/Data/OASIS_MNI_to_TRs/volume_57.nii.gz\n",
      "Running FLIRT on /home/minyoungxi/MINYOUNGXI/XFL/Data/OASIS_MNI_to_TRs/masked_volume_57.nii.gz\n"
     ]
    },
    {
     "name": "stderr",
     "output_type": "stream",
     "text": [
      "Processing volumes for subject 30124:  35%|███▌      | 58/164 [04:43<08:42,  4.93s/it]"
     ]
    },
    {
     "name": "stdout",
     "output_type": "stream",
     "text": [
      "Applying mask to /home/minyoungxi/MINYOUNGXI/XFL/Data/OASIS_MNI_to_TRs/volume_58.nii.gz\n",
      "Running FLIRT on /home/minyoungxi/MINYOUNGXI/XFL/Data/OASIS_MNI_to_TRs/masked_volume_58.nii.gz\n"
     ]
    },
    {
     "name": "stderr",
     "output_type": "stream",
     "text": [
      "Processing volumes for subject 30124:  36%|███▌      | 59/164 [04:48<08:36,  4.92s/it]"
     ]
    },
    {
     "name": "stdout",
     "output_type": "stream",
     "text": [
      "Applying mask to /home/minyoungxi/MINYOUNGXI/XFL/Data/OASIS_MNI_to_TRs/volume_59.nii.gz\n",
      "Running FLIRT on /home/minyoungxi/MINYOUNGXI/XFL/Data/OASIS_MNI_to_TRs/masked_volume_59.nii.gz\n"
     ]
    },
    {
     "name": "stderr",
     "output_type": "stream",
     "text": [
      "Processing volumes for subject 30124:  37%|███▋      | 60/164 [04:53<08:33,  4.94s/it]"
     ]
    },
    {
     "name": "stdout",
     "output_type": "stream",
     "text": [
      "Applying mask to /home/minyoungxi/MINYOUNGXI/XFL/Data/OASIS_MNI_to_TRs/volume_60.nii.gz\n",
      "Running FLIRT on /home/minyoungxi/MINYOUNGXI/XFL/Data/OASIS_MNI_to_TRs/masked_volume_60.nii.gz\n"
     ]
    },
    {
     "name": "stderr",
     "output_type": "stream",
     "text": [
      "Processing volumes for subject 30124:  37%|███▋      | 61/164 [04:58<08:29,  4.94s/it]"
     ]
    },
    {
     "name": "stdout",
     "output_type": "stream",
     "text": [
      "Applying mask to /home/minyoungxi/MINYOUNGXI/XFL/Data/OASIS_MNI_to_TRs/volume_61.nii.gz\n",
      "Running FLIRT on /home/minyoungxi/MINYOUNGXI/XFL/Data/OASIS_MNI_to_TRs/masked_volume_61.nii.gz\n"
     ]
    },
    {
     "name": "stderr",
     "output_type": "stream",
     "text": [
      "Processing volumes for subject 30124:  38%|███▊      | 62/164 [05:02<08:21,  4.92s/it]"
     ]
    },
    {
     "name": "stdout",
     "output_type": "stream",
     "text": [
      "Applying mask to /home/minyoungxi/MINYOUNGXI/XFL/Data/OASIS_MNI_to_TRs/volume_62.nii.gz\n",
      "Running FLIRT on /home/minyoungxi/MINYOUNGXI/XFL/Data/OASIS_MNI_to_TRs/masked_volume_62.nii.gz\n"
     ]
    },
    {
     "name": "stderr",
     "output_type": "stream",
     "text": [
      "Processing volumes for subject 30124:  38%|███▊      | 63/164 [05:07<08:16,  4.92s/it]"
     ]
    },
    {
     "name": "stdout",
     "output_type": "stream",
     "text": [
      "Applying mask to /home/minyoungxi/MINYOUNGXI/XFL/Data/OASIS_MNI_to_TRs/volume_63.nii.gz\n",
      "Running FLIRT on /home/minyoungxi/MINYOUNGXI/XFL/Data/OASIS_MNI_to_TRs/masked_volume_63.nii.gz\n"
     ]
    },
    {
     "name": "stderr",
     "output_type": "stream",
     "text": [
      "Processing volumes for subject 30124:  39%|███▉      | 64/164 [05:12<08:11,  4.91s/it]"
     ]
    },
    {
     "name": "stdout",
     "output_type": "stream",
     "text": [
      "Applying mask to /home/minyoungxi/MINYOUNGXI/XFL/Data/OASIS_MNI_to_TRs/volume_64.nii.gz\n",
      "Running FLIRT on /home/minyoungxi/MINYOUNGXI/XFL/Data/OASIS_MNI_to_TRs/masked_volume_64.nii.gz\n"
     ]
    },
    {
     "name": "stderr",
     "output_type": "stream",
     "text": [
      "Processing volumes for subject 30124:  40%|███▉      | 65/164 [05:17<08:05,  4.90s/it]"
     ]
    },
    {
     "name": "stdout",
     "output_type": "stream",
     "text": [
      "Applying mask to /home/minyoungxi/MINYOUNGXI/XFL/Data/OASIS_MNI_to_TRs/volume_65.nii.gz\n",
      "Running FLIRT on /home/minyoungxi/MINYOUNGXI/XFL/Data/OASIS_MNI_to_TRs/masked_volume_65.nii.gz\n"
     ]
    },
    {
     "name": "stderr",
     "output_type": "stream",
     "text": [
      "Processing volumes for subject 30124:  40%|████      | 66/164 [05:22<08:00,  4.90s/it]"
     ]
    },
    {
     "name": "stdout",
     "output_type": "stream",
     "text": [
      "Applying mask to /home/minyoungxi/MINYOUNGXI/XFL/Data/OASIS_MNI_to_TRs/volume_66.nii.gz\n",
      "Running FLIRT on /home/minyoungxi/MINYOUNGXI/XFL/Data/OASIS_MNI_to_TRs/masked_volume_66.nii.gz\n"
     ]
    },
    {
     "name": "stderr",
     "output_type": "stream",
     "text": [
      "Processing volumes for subject 30124:  41%|████      | 67/164 [05:27<07:55,  4.90s/it]"
     ]
    },
    {
     "name": "stdout",
     "output_type": "stream",
     "text": [
      "Applying mask to /home/minyoungxi/MINYOUNGXI/XFL/Data/OASIS_MNI_to_TRs/volume_67.nii.gz\n",
      "Running FLIRT on /home/minyoungxi/MINYOUNGXI/XFL/Data/OASIS_MNI_to_TRs/masked_volume_67.nii.gz\n"
     ]
    },
    {
     "name": "stderr",
     "output_type": "stream",
     "text": [
      "Processing volumes for subject 30124:  41%|████▏     | 68/164 [05:32<07:48,  4.88s/it]"
     ]
    },
    {
     "name": "stdout",
     "output_type": "stream",
     "text": [
      "Applying mask to /home/minyoungxi/MINYOUNGXI/XFL/Data/OASIS_MNI_to_TRs/volume_68.nii.gz\n",
      "Running FLIRT on /home/minyoungxi/MINYOUNGXI/XFL/Data/OASIS_MNI_to_TRs/masked_volume_68.nii.gz\n"
     ]
    },
    {
     "name": "stderr",
     "output_type": "stream",
     "text": [
      "Processing volumes for subject 30124:  42%|████▏     | 69/164 [05:37<07:43,  4.88s/it]"
     ]
    },
    {
     "name": "stdout",
     "output_type": "stream",
     "text": [
      "Applying mask to /home/minyoungxi/MINYOUNGXI/XFL/Data/OASIS_MNI_to_TRs/volume_69.nii.gz\n",
      "Running FLIRT on /home/minyoungxi/MINYOUNGXI/XFL/Data/OASIS_MNI_to_TRs/masked_volume_69.nii.gz\n"
     ]
    },
    {
     "name": "stderr",
     "output_type": "stream",
     "text": [
      "Processing volumes for subject 30124:  43%|████▎     | 70/164 [05:41<07:38,  4.88s/it]"
     ]
    },
    {
     "name": "stdout",
     "output_type": "stream",
     "text": [
      "Applying mask to /home/minyoungxi/MINYOUNGXI/XFL/Data/OASIS_MNI_to_TRs/volume_70.nii.gz\n",
      "Running FLIRT on /home/minyoungxi/MINYOUNGXI/XFL/Data/OASIS_MNI_to_TRs/masked_volume_70.nii.gz\n"
     ]
    },
    {
     "name": "stderr",
     "output_type": "stream",
     "text": [
      "Processing volumes for subject 30124:  43%|████▎     | 71/164 [05:46<07:32,  4.87s/it]"
     ]
    },
    {
     "name": "stdout",
     "output_type": "stream",
     "text": [
      "Applying mask to /home/minyoungxi/MINYOUNGXI/XFL/Data/OASIS_MNI_to_TRs/volume_71.nii.gz\n",
      "Running FLIRT on /home/minyoungxi/MINYOUNGXI/XFL/Data/OASIS_MNI_to_TRs/masked_volume_71.nii.gz\n"
     ]
    },
    {
     "name": "stderr",
     "output_type": "stream",
     "text": [
      "Processing volumes for subject 30124:  44%|████▍     | 72/164 [05:51<07:27,  4.87s/it]"
     ]
    },
    {
     "name": "stdout",
     "output_type": "stream",
     "text": [
      "Applying mask to /home/minyoungxi/MINYOUNGXI/XFL/Data/OASIS_MNI_to_TRs/volume_72.nii.gz\n",
      "Running FLIRT on /home/minyoungxi/MINYOUNGXI/XFL/Data/OASIS_MNI_to_TRs/masked_volume_72.nii.gz\n"
     ]
    },
    {
     "name": "stderr",
     "output_type": "stream",
     "text": [
      "Processing volumes for subject 30124:  45%|████▍     | 73/164 [05:56<07:22,  4.86s/it]"
     ]
    },
    {
     "name": "stdout",
     "output_type": "stream",
     "text": [
      "Applying mask to /home/minyoungxi/MINYOUNGXI/XFL/Data/OASIS_MNI_to_TRs/volume_73.nii.gz\n",
      "Running FLIRT on /home/minyoungxi/MINYOUNGXI/XFL/Data/OASIS_MNI_to_TRs/masked_volume_73.nii.gz\n"
     ]
    },
    {
     "name": "stderr",
     "output_type": "stream",
     "text": [
      "Processing volumes for subject 30124:  45%|████▌     | 74/164 [06:01<07:16,  4.85s/it]"
     ]
    },
    {
     "name": "stdout",
     "output_type": "stream",
     "text": [
      "Applying mask to /home/minyoungxi/MINYOUNGXI/XFL/Data/OASIS_MNI_to_TRs/volume_74.nii.gz\n",
      "Running FLIRT on /home/minyoungxi/MINYOUNGXI/XFL/Data/OASIS_MNI_to_TRs/masked_volume_74.nii.gz\n"
     ]
    },
    {
     "name": "stderr",
     "output_type": "stream",
     "text": [
      "Processing volumes for subject 30124:  46%|████▌     | 75/164 [06:06<07:11,  4.84s/it]"
     ]
    },
    {
     "name": "stdout",
     "output_type": "stream",
     "text": [
      "Applying mask to /home/minyoungxi/MINYOUNGXI/XFL/Data/OASIS_MNI_to_TRs/volume_75.nii.gz\n",
      "Running FLIRT on /home/minyoungxi/MINYOUNGXI/XFL/Data/OASIS_MNI_to_TRs/masked_volume_75.nii.gz\n"
     ]
    },
    {
     "name": "stderr",
     "output_type": "stream",
     "text": [
      "Processing volumes for subject 30124:  46%|████▋     | 76/164 [06:10<07:06,  4.84s/it]"
     ]
    },
    {
     "name": "stdout",
     "output_type": "stream",
     "text": [
      "Applying mask to /home/minyoungxi/MINYOUNGXI/XFL/Data/OASIS_MNI_to_TRs/volume_76.nii.gz\n",
      "Running FLIRT on /home/minyoungxi/MINYOUNGXI/XFL/Data/OASIS_MNI_to_TRs/masked_volume_76.nii.gz\n"
     ]
    },
    {
     "name": "stderr",
     "output_type": "stream",
     "text": [
      "Processing volumes for subject 30124:  47%|████▋     | 77/164 [06:15<07:02,  4.85s/it]"
     ]
    },
    {
     "name": "stdout",
     "output_type": "stream",
     "text": [
      "Applying mask to /home/minyoungxi/MINYOUNGXI/XFL/Data/OASIS_MNI_to_TRs/volume_77.nii.gz\n",
      "Running FLIRT on /home/minyoungxi/MINYOUNGXI/XFL/Data/OASIS_MNI_to_TRs/masked_volume_77.nii.gz\n"
     ]
    },
    {
     "name": "stderr",
     "output_type": "stream",
     "text": [
      "Processing volumes for subject 30124:  48%|████▊     | 78/164 [06:20<06:58,  4.87s/it]"
     ]
    },
    {
     "name": "stdout",
     "output_type": "stream",
     "text": [
      "Applying mask to /home/minyoungxi/MINYOUNGXI/XFL/Data/OASIS_MNI_to_TRs/volume_78.nii.gz\n",
      "Running FLIRT on /home/minyoungxi/MINYOUNGXI/XFL/Data/OASIS_MNI_to_TRs/masked_volume_78.nii.gz\n"
     ]
    },
    {
     "name": "stderr",
     "output_type": "stream",
     "text": [
      "Processing volumes for subject 30124:  48%|████▊     | 79/164 [06:25<06:55,  4.89s/it]"
     ]
    },
    {
     "name": "stdout",
     "output_type": "stream",
     "text": [
      "Applying mask to /home/minyoungxi/MINYOUNGXI/XFL/Data/OASIS_MNI_to_TRs/volume_79.nii.gz\n",
      "Running FLIRT on /home/minyoungxi/MINYOUNGXI/XFL/Data/OASIS_MNI_to_TRs/masked_volume_79.nii.gz\n"
     ]
    },
    {
     "name": "stderr",
     "output_type": "stream",
     "text": [
      "Processing volumes for subject 30124:  49%|████▉     | 80/164 [06:30<06:53,  4.92s/it]"
     ]
    },
    {
     "name": "stdout",
     "output_type": "stream",
     "text": [
      "Applying mask to /home/minyoungxi/MINYOUNGXI/XFL/Data/OASIS_MNI_to_TRs/volume_80.nii.gz\n",
      "Running FLIRT on /home/minyoungxi/MINYOUNGXI/XFL/Data/OASIS_MNI_to_TRs/masked_volume_80.nii.gz\n"
     ]
    },
    {
     "name": "stderr",
     "output_type": "stream",
     "text": [
      "Processing volumes for subject 30124:  49%|████▉     | 81/164 [06:35<06:49,  4.93s/it]"
     ]
    },
    {
     "name": "stdout",
     "output_type": "stream",
     "text": [
      "Applying mask to /home/minyoungxi/MINYOUNGXI/XFL/Data/OASIS_MNI_to_TRs/volume_81.nii.gz\n",
      "Running FLIRT on /home/minyoungxi/MINYOUNGXI/XFL/Data/OASIS_MNI_to_TRs/masked_volume_81.nii.gz\n"
     ]
    },
    {
     "name": "stderr",
     "output_type": "stream",
     "text": [
      "Processing volumes for subject 30124:  50%|█████     | 82/164 [06:40<06:46,  4.96s/it]"
     ]
    },
    {
     "name": "stdout",
     "output_type": "stream",
     "text": [
      "Applying mask to /home/minyoungxi/MINYOUNGXI/XFL/Data/OASIS_MNI_to_TRs/volume_82.nii.gz\n",
      "Running FLIRT on /home/minyoungxi/MINYOUNGXI/XFL/Data/OASIS_MNI_to_TRs/masked_volume_82.nii.gz\n"
     ]
    },
    {
     "name": "stderr",
     "output_type": "stream",
     "text": [
      "Processing volumes for subject 30124:  51%|█████     | 83/164 [06:45<06:43,  4.98s/it]"
     ]
    },
    {
     "name": "stdout",
     "output_type": "stream",
     "text": [
      "Applying mask to /home/minyoungxi/MINYOUNGXI/XFL/Data/OASIS_MNI_to_TRs/volume_83.nii.gz\n",
      "Running FLIRT on /home/minyoungxi/MINYOUNGXI/XFL/Data/OASIS_MNI_to_TRs/masked_volume_83.nii.gz\n"
     ]
    },
    {
     "name": "stderr",
     "output_type": "stream",
     "text": [
      "Processing volumes for subject 30124:  51%|█████     | 84/164 [06:50<06:39,  4.99s/it]"
     ]
    },
    {
     "name": "stdout",
     "output_type": "stream",
     "text": [
      "Applying mask to /home/minyoungxi/MINYOUNGXI/XFL/Data/OASIS_MNI_to_TRs/volume_84.nii.gz\n",
      "Running FLIRT on /home/minyoungxi/MINYOUNGXI/XFL/Data/OASIS_MNI_to_TRs/masked_volume_84.nii.gz\n"
     ]
    },
    {
     "name": "stderr",
     "output_type": "stream",
     "text": [
      "Processing volumes for subject 30124:  52%|█████▏    | 85/164 [06:55<06:35,  5.01s/it]"
     ]
    },
    {
     "name": "stdout",
     "output_type": "stream",
     "text": [
      "Applying mask to /home/minyoungxi/MINYOUNGXI/XFL/Data/OASIS_MNI_to_TRs/volume_85.nii.gz\n",
      "Running FLIRT on /home/minyoungxi/MINYOUNGXI/XFL/Data/OASIS_MNI_to_TRs/masked_volume_85.nii.gz\n"
     ]
    },
    {
     "name": "stderr",
     "output_type": "stream",
     "text": [
      "Processing volumes for subject 30124:  52%|█████▏    | 86/164 [07:00<06:29,  4.99s/it]"
     ]
    },
    {
     "name": "stdout",
     "output_type": "stream",
     "text": [
      "Applying mask to /home/minyoungxi/MINYOUNGXI/XFL/Data/OASIS_MNI_to_TRs/volume_86.nii.gz\n",
      "Running FLIRT on /home/minyoungxi/MINYOUNGXI/XFL/Data/OASIS_MNI_to_TRs/masked_volume_86.nii.gz\n"
     ]
    },
    {
     "name": "stderr",
     "output_type": "stream",
     "text": [
      "Processing volumes for subject 30124:  53%|█████▎    | 87/164 [07:05<06:25,  5.01s/it]"
     ]
    },
    {
     "name": "stdout",
     "output_type": "stream",
     "text": [
      "Applying mask to /home/minyoungxi/MINYOUNGXI/XFL/Data/OASIS_MNI_to_TRs/volume_87.nii.gz\n",
      "Running FLIRT on /home/minyoungxi/MINYOUNGXI/XFL/Data/OASIS_MNI_to_TRs/masked_volume_87.nii.gz\n"
     ]
    },
    {
     "name": "stderr",
     "output_type": "stream",
     "text": [
      "Processing volumes for subject 30124:  54%|█████▎    | 88/164 [07:10<06:20,  5.01s/it]"
     ]
    },
    {
     "name": "stdout",
     "output_type": "stream",
     "text": [
      "Applying mask to /home/minyoungxi/MINYOUNGXI/XFL/Data/OASIS_MNI_to_TRs/volume_88.nii.gz\n",
      "Running FLIRT on /home/minyoungxi/MINYOUNGXI/XFL/Data/OASIS_MNI_to_TRs/masked_volume_88.nii.gz\n"
     ]
    },
    {
     "name": "stderr",
     "output_type": "stream",
     "text": [
      "Processing volumes for subject 30124:  54%|█████▍    | 89/164 [07:15<06:13,  4.98s/it]"
     ]
    },
    {
     "name": "stdout",
     "output_type": "stream",
     "text": [
      "Applying mask to /home/minyoungxi/MINYOUNGXI/XFL/Data/OASIS_MNI_to_TRs/volume_89.nii.gz\n",
      "Running FLIRT on /home/minyoungxi/MINYOUNGXI/XFL/Data/OASIS_MNI_to_TRs/masked_volume_89.nii.gz\n"
     ]
    },
    {
     "name": "stderr",
     "output_type": "stream",
     "text": [
      "Processing volumes for subject 30124:  55%|█████▍    | 90/164 [07:20<06:08,  4.98s/it]"
     ]
    },
    {
     "name": "stdout",
     "output_type": "stream",
     "text": [
      "Applying mask to /home/minyoungxi/MINYOUNGXI/XFL/Data/OASIS_MNI_to_TRs/volume_90.nii.gz\n",
      "Running FLIRT on /home/minyoungxi/MINYOUNGXI/XFL/Data/OASIS_MNI_to_TRs/masked_volume_90.nii.gz\n"
     ]
    },
    {
     "name": "stderr",
     "output_type": "stream",
     "text": [
      "Processing volumes for subject 30124:  55%|█████▌    | 91/164 [07:25<06:03,  4.98s/it]"
     ]
    },
    {
     "name": "stdout",
     "output_type": "stream",
     "text": [
      "Applying mask to /home/minyoungxi/MINYOUNGXI/XFL/Data/OASIS_MNI_to_TRs/volume_91.nii.gz\n",
      "Running FLIRT on /home/minyoungxi/MINYOUNGXI/XFL/Data/OASIS_MNI_to_TRs/masked_volume_91.nii.gz\n"
     ]
    },
    {
     "name": "stderr",
     "output_type": "stream",
     "text": [
      "Processing volumes for subject 30124:  56%|█████▌    | 92/164 [07:30<05:58,  4.98s/it]"
     ]
    },
    {
     "name": "stdout",
     "output_type": "stream",
     "text": [
      "Applying mask to /home/minyoungxi/MINYOUNGXI/XFL/Data/OASIS_MNI_to_TRs/volume_92.nii.gz\n",
      "Running FLIRT on /home/minyoungxi/MINYOUNGXI/XFL/Data/OASIS_MNI_to_TRs/masked_volume_92.nii.gz\n"
     ]
    },
    {
     "name": "stderr",
     "output_type": "stream",
     "text": [
      "Processing volumes for subject 30124:  57%|█████▋    | 93/164 [07:35<05:53,  4.98s/it]"
     ]
    },
    {
     "name": "stdout",
     "output_type": "stream",
     "text": [
      "Applying mask to /home/minyoungxi/MINYOUNGXI/XFL/Data/OASIS_MNI_to_TRs/volume_93.nii.gz\n",
      "Running FLIRT on /home/minyoungxi/MINYOUNGXI/XFL/Data/OASIS_MNI_to_TRs/masked_volume_93.nii.gz\n"
     ]
    },
    {
     "name": "stderr",
     "output_type": "stream",
     "text": [
      "Processing volumes for subject 30124:  57%|█████▋    | 94/164 [07:40<05:48,  4.98s/it]"
     ]
    },
    {
     "name": "stdout",
     "output_type": "stream",
     "text": [
      "Applying mask to /home/minyoungxi/MINYOUNGXI/XFL/Data/OASIS_MNI_to_TRs/volume_94.nii.gz\n",
      "Running FLIRT on /home/minyoungxi/MINYOUNGXI/XFL/Data/OASIS_MNI_to_TRs/masked_volume_94.nii.gz\n"
     ]
    },
    {
     "name": "stderr",
     "output_type": "stream",
     "text": [
      "Processing volumes for subject 30124:  58%|█████▊    | 95/164 [07:45<05:42,  4.97s/it]"
     ]
    },
    {
     "name": "stdout",
     "output_type": "stream",
     "text": [
      "Applying mask to /home/minyoungxi/MINYOUNGXI/XFL/Data/OASIS_MNI_to_TRs/volume_95.nii.gz\n",
      "Running FLIRT on /home/minyoungxi/MINYOUNGXI/XFL/Data/OASIS_MNI_to_TRs/masked_volume_95.nii.gz\n"
     ]
    },
    {
     "name": "stderr",
     "output_type": "stream",
     "text": [
      "Processing volumes for subject 30124:  59%|█████▊    | 96/164 [07:50<05:37,  4.96s/it]"
     ]
    },
    {
     "name": "stdout",
     "output_type": "stream",
     "text": [
      "Applying mask to /home/minyoungxi/MINYOUNGXI/XFL/Data/OASIS_MNI_to_TRs/volume_96.nii.gz\n",
      "Running FLIRT on /home/minyoungxi/MINYOUNGXI/XFL/Data/OASIS_MNI_to_TRs/masked_volume_96.nii.gz\n"
     ]
    },
    {
     "name": "stderr",
     "output_type": "stream",
     "text": [
      "Processing volumes for subject 30124:  59%|█████▉    | 97/164 [07:55<05:30,  4.93s/it]"
     ]
    },
    {
     "name": "stdout",
     "output_type": "stream",
     "text": [
      "Applying mask to /home/minyoungxi/MINYOUNGXI/XFL/Data/OASIS_MNI_to_TRs/volume_97.nii.gz\n",
      "Running FLIRT on /home/minyoungxi/MINYOUNGXI/XFL/Data/OASIS_MNI_to_TRs/masked_volume_97.nii.gz\n"
     ]
    },
    {
     "name": "stderr",
     "output_type": "stream",
     "text": [
      "Processing volumes for subject 30124:  60%|█████▉    | 98/164 [08:00<05:24,  4.92s/it]"
     ]
    },
    {
     "name": "stdout",
     "output_type": "stream",
     "text": [
      "Applying mask to /home/minyoungxi/MINYOUNGXI/XFL/Data/OASIS_MNI_to_TRs/volume_98.nii.gz\n",
      "Running FLIRT on /home/minyoungxi/MINYOUNGXI/XFL/Data/OASIS_MNI_to_TRs/masked_volume_98.nii.gz\n"
     ]
    },
    {
     "name": "stderr",
     "output_type": "stream",
     "text": [
      "Processing volumes for subject 30124:  60%|██████    | 99/164 [08:05<05:19,  4.91s/it]"
     ]
    },
    {
     "name": "stdout",
     "output_type": "stream",
     "text": [
      "Applying mask to /home/minyoungxi/MINYOUNGXI/XFL/Data/OASIS_MNI_to_TRs/volume_99.nii.gz\n",
      "Running FLIRT on /home/minyoungxi/MINYOUNGXI/XFL/Data/OASIS_MNI_to_TRs/masked_volume_99.nii.gz\n"
     ]
    },
    {
     "name": "stderr",
     "output_type": "stream",
     "text": [
      "Processing volumes for subject 30124:  61%|██████    | 100/164 [08:10<05:14,  4.92s/it]"
     ]
    },
    {
     "name": "stdout",
     "output_type": "stream",
     "text": [
      "Applying mask to /home/minyoungxi/MINYOUNGXI/XFL/Data/OASIS_MNI_to_TRs/volume_100.nii.gz\n",
      "Running FLIRT on /home/minyoungxi/MINYOUNGXI/XFL/Data/OASIS_MNI_to_TRs/masked_volume_100.nii.gz\n"
     ]
    },
    {
     "name": "stderr",
     "output_type": "stream",
     "text": [
      "Processing volumes for subject 30124:  62%|██████▏   | 101/164 [08:14<05:08,  4.89s/it]"
     ]
    },
    {
     "name": "stdout",
     "output_type": "stream",
     "text": [
      "Applying mask to /home/minyoungxi/MINYOUNGXI/XFL/Data/OASIS_MNI_to_TRs/volume_101.nii.gz\n",
      "Running FLIRT on /home/minyoungxi/MINYOUNGXI/XFL/Data/OASIS_MNI_to_TRs/masked_volume_101.nii.gz\n"
     ]
    },
    {
     "name": "stderr",
     "output_type": "stream",
     "text": [
      "Processing volumes for subject 30124:  62%|██████▏   | 102/164 [08:19<05:03,  4.90s/it]"
     ]
    },
    {
     "name": "stdout",
     "output_type": "stream",
     "text": [
      "Applying mask to /home/minyoungxi/MINYOUNGXI/XFL/Data/OASIS_MNI_to_TRs/volume_102.nii.gz\n",
      "Running FLIRT on /home/minyoungxi/MINYOUNGXI/XFL/Data/OASIS_MNI_to_TRs/masked_volume_102.nii.gz\n"
     ]
    },
    {
     "name": "stderr",
     "output_type": "stream",
     "text": [
      "Processing volumes for subject 30124:  63%|██████▎   | 103/164 [08:24<04:58,  4.89s/it]"
     ]
    },
    {
     "name": "stdout",
     "output_type": "stream",
     "text": [
      "Applying mask to /home/minyoungxi/MINYOUNGXI/XFL/Data/OASIS_MNI_to_TRs/volume_103.nii.gz\n",
      "Running FLIRT on /home/minyoungxi/MINYOUNGXI/XFL/Data/OASIS_MNI_to_TRs/masked_volume_103.nii.gz\n"
     ]
    },
    {
     "name": "stderr",
     "output_type": "stream",
     "text": [
      "Processing volumes for subject 30124:  63%|██████▎   | 104/164 [08:29<04:52,  4.87s/it]"
     ]
    },
    {
     "name": "stdout",
     "output_type": "stream",
     "text": [
      "Applying mask to /home/minyoungxi/MINYOUNGXI/XFL/Data/OASIS_MNI_to_TRs/volume_104.nii.gz\n",
      "Running FLIRT on /home/minyoungxi/MINYOUNGXI/XFL/Data/OASIS_MNI_to_TRs/masked_volume_104.nii.gz\n"
     ]
    },
    {
     "name": "stderr",
     "output_type": "stream",
     "text": [
      "Processing volumes for subject 30124:  64%|██████▍   | 105/164 [08:34<04:47,  4.86s/it]"
     ]
    },
    {
     "name": "stdout",
     "output_type": "stream",
     "text": [
      "Applying mask to /home/minyoungxi/MINYOUNGXI/XFL/Data/OASIS_MNI_to_TRs/volume_105.nii.gz\n",
      "Running FLIRT on /home/minyoungxi/MINYOUNGXI/XFL/Data/OASIS_MNI_to_TRs/masked_volume_105.nii.gz\n"
     ]
    },
    {
     "name": "stderr",
     "output_type": "stream",
     "text": [
      "Processing volumes for subject 30124:  65%|██████▍   | 106/164 [08:39<04:41,  4.85s/it]"
     ]
    },
    {
     "name": "stdout",
     "output_type": "stream",
     "text": [
      "Applying mask to /home/minyoungxi/MINYOUNGXI/XFL/Data/OASIS_MNI_to_TRs/volume_106.nii.gz\n",
      "Running FLIRT on /home/minyoungxi/MINYOUNGXI/XFL/Data/OASIS_MNI_to_TRs/masked_volume_106.nii.gz\n"
     ]
    },
    {
     "name": "stderr",
     "output_type": "stream",
     "text": [
      "Processing volumes for subject 30124:  65%|██████▌   | 107/164 [08:44<04:36,  4.85s/it]"
     ]
    },
    {
     "name": "stdout",
     "output_type": "stream",
     "text": [
      "Applying mask to /home/minyoungxi/MINYOUNGXI/XFL/Data/OASIS_MNI_to_TRs/volume_107.nii.gz\n",
      "Running FLIRT on /home/minyoungxi/MINYOUNGXI/XFL/Data/OASIS_MNI_to_TRs/masked_volume_107.nii.gz\n"
     ]
    },
    {
     "name": "stderr",
     "output_type": "stream",
     "text": [
      "Processing volumes for subject 30124:  66%|██████▌   | 108/164 [08:48<04:32,  4.86s/it]"
     ]
    },
    {
     "name": "stdout",
     "output_type": "stream",
     "text": [
      "Applying mask to /home/minyoungxi/MINYOUNGXI/XFL/Data/OASIS_MNI_to_TRs/volume_108.nii.gz\n",
      "Running FLIRT on /home/minyoungxi/MINYOUNGXI/XFL/Data/OASIS_MNI_to_TRs/masked_volume_108.nii.gz\n"
     ]
    },
    {
     "name": "stderr",
     "output_type": "stream",
     "text": [
      "Processing volumes for subject 30124:  66%|██████▋   | 109/164 [08:53<04:27,  4.86s/it]"
     ]
    },
    {
     "name": "stdout",
     "output_type": "stream",
     "text": [
      "Applying mask to /home/minyoungxi/MINYOUNGXI/XFL/Data/OASIS_MNI_to_TRs/volume_109.nii.gz\n",
      "Running FLIRT on /home/minyoungxi/MINYOUNGXI/XFL/Data/OASIS_MNI_to_TRs/masked_volume_109.nii.gz\n"
     ]
    },
    {
     "name": "stderr",
     "output_type": "stream",
     "text": [
      "Processing volumes for subject 30124:  67%|██████▋   | 110/164 [08:58<04:22,  4.86s/it]"
     ]
    },
    {
     "name": "stdout",
     "output_type": "stream",
     "text": [
      "Applying mask to /home/minyoungxi/MINYOUNGXI/XFL/Data/OASIS_MNI_to_TRs/volume_110.nii.gz\n",
      "Running FLIRT on /home/minyoungxi/MINYOUNGXI/XFL/Data/OASIS_MNI_to_TRs/masked_volume_110.nii.gz\n"
     ]
    },
    {
     "name": "stderr",
     "output_type": "stream",
     "text": [
      "Processing volumes for subject 30124:  68%|██████▊   | 111/164 [09:03<04:17,  4.86s/it]"
     ]
    },
    {
     "name": "stdout",
     "output_type": "stream",
     "text": [
      "Applying mask to /home/minyoungxi/MINYOUNGXI/XFL/Data/OASIS_MNI_to_TRs/volume_111.nii.gz\n",
      "Running FLIRT on /home/minyoungxi/MINYOUNGXI/XFL/Data/OASIS_MNI_to_TRs/masked_volume_111.nii.gz\n"
     ]
    },
    {
     "name": "stderr",
     "output_type": "stream",
     "text": [
      "Processing volumes for subject 30124:  68%|██████▊   | 112/164 [09:08<04:12,  4.86s/it]"
     ]
    },
    {
     "name": "stdout",
     "output_type": "stream",
     "text": [
      "Applying mask to /home/minyoungxi/MINYOUNGXI/XFL/Data/OASIS_MNI_to_TRs/volume_112.nii.gz\n",
      "Running FLIRT on /home/minyoungxi/MINYOUNGXI/XFL/Data/OASIS_MNI_to_TRs/masked_volume_112.nii.gz\n"
     ]
    },
    {
     "name": "stderr",
     "output_type": "stream",
     "text": [
      "Processing volumes for subject 30124:  69%|██████▉   | 113/164 [09:13<04:07,  4.85s/it]"
     ]
    },
    {
     "name": "stdout",
     "output_type": "stream",
     "text": [
      "Applying mask to /home/minyoungxi/MINYOUNGXI/XFL/Data/OASIS_MNI_to_TRs/volume_113.nii.gz\n",
      "Running FLIRT on /home/minyoungxi/MINYOUNGXI/XFL/Data/OASIS_MNI_to_TRs/masked_volume_113.nii.gz\n"
     ]
    },
    {
     "name": "stderr",
     "output_type": "stream",
     "text": [
      "Processing volumes for subject 30124:  70%|██████▉   | 114/164 [09:17<04:01,  4.84s/it]"
     ]
    },
    {
     "name": "stdout",
     "output_type": "stream",
     "text": [
      "Applying mask to /home/minyoungxi/MINYOUNGXI/XFL/Data/OASIS_MNI_to_TRs/volume_114.nii.gz\n",
      "Running FLIRT on /home/minyoungxi/MINYOUNGXI/XFL/Data/OASIS_MNI_to_TRs/masked_volume_114.nii.gz\n"
     ]
    },
    {
     "name": "stderr",
     "output_type": "stream",
     "text": [
      "Processing volumes for subject 30124:  70%|███████   | 115/164 [09:22<03:57,  4.85s/it]"
     ]
    },
    {
     "name": "stdout",
     "output_type": "stream",
     "text": [
      "Applying mask to /home/minyoungxi/MINYOUNGXI/XFL/Data/OASIS_MNI_to_TRs/volume_115.nii.gz\n",
      "Running FLIRT on /home/minyoungxi/MINYOUNGXI/XFL/Data/OASIS_MNI_to_TRs/masked_volume_115.nii.gz\n"
     ]
    },
    {
     "name": "stderr",
     "output_type": "stream",
     "text": [
      "Processing volumes for subject 30124:  71%|███████   | 116/164 [09:27<03:53,  4.86s/it]"
     ]
    },
    {
     "name": "stdout",
     "output_type": "stream",
     "text": [
      "Applying mask to /home/minyoungxi/MINYOUNGXI/XFL/Data/OASIS_MNI_to_TRs/volume_116.nii.gz\n",
      "Running FLIRT on /home/minyoungxi/MINYOUNGXI/XFL/Data/OASIS_MNI_to_TRs/masked_volume_116.nii.gz\n"
     ]
    },
    {
     "name": "stderr",
     "output_type": "stream",
     "text": [
      "Processing volumes for subject 30124:  71%|███████▏  | 117/164 [09:32<03:48,  4.86s/it]"
     ]
    },
    {
     "name": "stdout",
     "output_type": "stream",
     "text": [
      "Applying mask to /home/minyoungxi/MINYOUNGXI/XFL/Data/OASIS_MNI_to_TRs/volume_117.nii.gz\n",
      "Running FLIRT on /home/minyoungxi/MINYOUNGXI/XFL/Data/OASIS_MNI_to_TRs/masked_volume_117.nii.gz\n"
     ]
    },
    {
     "name": "stderr",
     "output_type": "stream",
     "text": [
      "Processing volumes for subject 30124:  72%|███████▏  | 118/164 [09:37<03:44,  4.87s/it]"
     ]
    },
    {
     "name": "stdout",
     "output_type": "stream",
     "text": [
      "Applying mask to /home/minyoungxi/MINYOUNGXI/XFL/Data/OASIS_MNI_to_TRs/volume_118.nii.gz\n",
      "Running FLIRT on /home/minyoungxi/MINYOUNGXI/XFL/Data/OASIS_MNI_to_TRs/masked_volume_118.nii.gz\n"
     ]
    },
    {
     "name": "stderr",
     "output_type": "stream",
     "text": [
      "Processing volumes for subject 30124:  73%|███████▎  | 119/164 [09:42<03:39,  4.88s/it]"
     ]
    },
    {
     "name": "stdout",
     "output_type": "stream",
     "text": [
      "Applying mask to /home/minyoungxi/MINYOUNGXI/XFL/Data/OASIS_MNI_to_TRs/volume_119.nii.gz\n",
      "Running FLIRT on /home/minyoungxi/MINYOUNGXI/XFL/Data/OASIS_MNI_to_TRs/masked_volume_119.nii.gz\n"
     ]
    },
    {
     "name": "stderr",
     "output_type": "stream",
     "text": [
      "Processing volumes for subject 30124:  73%|███████▎  | 120/164 [09:47<03:34,  4.87s/it]"
     ]
    },
    {
     "name": "stdout",
     "output_type": "stream",
     "text": [
      "Applying mask to /home/minyoungxi/MINYOUNGXI/XFL/Data/OASIS_MNI_to_TRs/volume_120.nii.gz\n",
      "Running FLIRT on /home/minyoungxi/MINYOUNGXI/XFL/Data/OASIS_MNI_to_TRs/masked_volume_120.nii.gz\n"
     ]
    },
    {
     "name": "stderr",
     "output_type": "stream",
     "text": [
      "Processing volumes for subject 30124:  74%|███████▍  | 121/164 [09:52<03:30,  4.89s/it]"
     ]
    },
    {
     "name": "stdout",
     "output_type": "stream",
     "text": [
      "Applying mask to /home/minyoungxi/MINYOUNGXI/XFL/Data/OASIS_MNI_to_TRs/volume_121.nii.gz\n",
      "Running FLIRT on /home/minyoungxi/MINYOUNGXI/XFL/Data/OASIS_MNI_to_TRs/masked_volume_121.nii.gz\n"
     ]
    },
    {
     "name": "stderr",
     "output_type": "stream",
     "text": [
      "Processing volumes for subject 30124:  74%|███████▍  | 122/164 [09:57<03:24,  4.87s/it]"
     ]
    },
    {
     "name": "stdout",
     "output_type": "stream",
     "text": [
      "Applying mask to /home/minyoungxi/MINYOUNGXI/XFL/Data/OASIS_MNI_to_TRs/volume_122.nii.gz\n",
      "Running FLIRT on /home/minyoungxi/MINYOUNGXI/XFL/Data/OASIS_MNI_to_TRs/masked_volume_122.nii.gz\n"
     ]
    },
    {
     "name": "stderr",
     "output_type": "stream",
     "text": [
      "Processing volumes for subject 30124:  75%|███████▌  | 123/164 [10:01<03:20,  4.89s/it]"
     ]
    },
    {
     "name": "stdout",
     "output_type": "stream",
     "text": [
      "Applying mask to /home/minyoungxi/MINYOUNGXI/XFL/Data/OASIS_MNI_to_TRs/volume_123.nii.gz\n",
      "Running FLIRT on /home/minyoungxi/MINYOUNGXI/XFL/Data/OASIS_MNI_to_TRs/masked_volume_123.nii.gz\n"
     ]
    },
    {
     "name": "stderr",
     "output_type": "stream",
     "text": [
      "Processing volumes for subject 30124:  76%|███████▌  | 124/164 [10:06<03:15,  4.89s/it]"
     ]
    },
    {
     "name": "stdout",
     "output_type": "stream",
     "text": [
      "Applying mask to /home/minyoungxi/MINYOUNGXI/XFL/Data/OASIS_MNI_to_TRs/volume_124.nii.gz\n",
      "Running FLIRT on /home/minyoungxi/MINYOUNGXI/XFL/Data/OASIS_MNI_to_TRs/masked_volume_124.nii.gz\n"
     ]
    },
    {
     "name": "stderr",
     "output_type": "stream",
     "text": [
      "Processing volumes for subject 30124:  76%|███████▌  | 125/164 [10:11<03:11,  4.90s/it]"
     ]
    },
    {
     "name": "stdout",
     "output_type": "stream",
     "text": [
      "Applying mask to /home/minyoungxi/MINYOUNGXI/XFL/Data/OASIS_MNI_to_TRs/volume_125.nii.gz\n",
      "Running FLIRT on /home/minyoungxi/MINYOUNGXI/XFL/Data/OASIS_MNI_to_TRs/masked_volume_125.nii.gz\n"
     ]
    },
    {
     "name": "stderr",
     "output_type": "stream",
     "text": [
      "Processing volumes for subject 30124:  77%|███████▋  | 126/164 [10:16<03:05,  4.89s/it]"
     ]
    },
    {
     "name": "stdout",
     "output_type": "stream",
     "text": [
      "Applying mask to /home/minyoungxi/MINYOUNGXI/XFL/Data/OASIS_MNI_to_TRs/volume_126.nii.gz\n",
      "Running FLIRT on /home/minyoungxi/MINYOUNGXI/XFL/Data/OASIS_MNI_to_TRs/masked_volume_126.nii.gz\n"
     ]
    },
    {
     "name": "stderr",
     "output_type": "stream",
     "text": [
      "Processing volumes for subject 30124:  77%|███████▋  | 127/164 [10:21<03:00,  4.88s/it]"
     ]
    },
    {
     "name": "stdout",
     "output_type": "stream",
     "text": [
      "Applying mask to /home/minyoungxi/MINYOUNGXI/XFL/Data/OASIS_MNI_to_TRs/volume_127.nii.gz\n",
      "Running FLIRT on /home/minyoungxi/MINYOUNGXI/XFL/Data/OASIS_MNI_to_TRs/masked_volume_127.nii.gz\n"
     ]
    },
    {
     "name": "stderr",
     "output_type": "stream",
     "text": [
      "Processing volumes for subject 30124:  78%|███████▊  | 128/164 [10:26<02:55,  4.88s/it]"
     ]
    },
    {
     "name": "stdout",
     "output_type": "stream",
     "text": [
      "Applying mask to /home/minyoungxi/MINYOUNGXI/XFL/Data/OASIS_MNI_to_TRs/volume_128.nii.gz\n",
      "Running FLIRT on /home/minyoungxi/MINYOUNGXI/XFL/Data/OASIS_MNI_to_TRs/masked_volume_128.nii.gz\n"
     ]
    },
    {
     "name": "stderr",
     "output_type": "stream",
     "text": [
      "Processing volumes for subject 30124:  79%|███████▊  | 129/164 [10:31<02:52,  4.92s/it]"
     ]
    },
    {
     "name": "stdout",
     "output_type": "stream",
     "text": [
      "Applying mask to /home/minyoungxi/MINYOUNGXI/XFL/Data/OASIS_MNI_to_TRs/volume_129.nii.gz\n",
      "Running FLIRT on /home/minyoungxi/MINYOUNGXI/XFL/Data/OASIS_MNI_to_TRs/masked_volume_129.nii.gz\n"
     ]
    },
    {
     "name": "stderr",
     "output_type": "stream",
     "text": [
      "Processing volumes for subject 30124:  79%|███████▉  | 130/164 [10:36<02:46,  4.91s/it]"
     ]
    },
    {
     "name": "stdout",
     "output_type": "stream",
     "text": [
      "Applying mask to /home/minyoungxi/MINYOUNGXI/XFL/Data/OASIS_MNI_to_TRs/volume_130.nii.gz\n",
      "Running FLIRT on /home/minyoungxi/MINYOUNGXI/XFL/Data/OASIS_MNI_to_TRs/masked_volume_130.nii.gz\n"
     ]
    },
    {
     "name": "stderr",
     "output_type": "stream",
     "text": [
      "Processing volumes for subject 30124:  80%|███████▉  | 131/164 [10:41<02:41,  4.90s/it]"
     ]
    },
    {
     "name": "stdout",
     "output_type": "stream",
     "text": [
      "Applying mask to /home/minyoungxi/MINYOUNGXI/XFL/Data/OASIS_MNI_to_TRs/volume_131.nii.gz\n",
      "Running FLIRT on /home/minyoungxi/MINYOUNGXI/XFL/Data/OASIS_MNI_to_TRs/masked_volume_131.nii.gz\n"
     ]
    },
    {
     "name": "stderr",
     "output_type": "stream",
     "text": [
      "Processing volumes for subject 30124:  80%|████████  | 132/164 [10:45<02:35,  4.87s/it]"
     ]
    },
    {
     "name": "stdout",
     "output_type": "stream",
     "text": [
      "Applying mask to /home/minyoungxi/MINYOUNGXI/XFL/Data/OASIS_MNI_to_TRs/volume_132.nii.gz\n",
      "Running FLIRT on /home/minyoungxi/MINYOUNGXI/XFL/Data/OASIS_MNI_to_TRs/masked_volume_132.nii.gz\n"
     ]
    },
    {
     "name": "stderr",
     "output_type": "stream",
     "text": [
      "Processing volumes for subject 30124:  81%|████████  | 133/164 [10:50<02:30,  4.87s/it]"
     ]
    },
    {
     "name": "stdout",
     "output_type": "stream",
     "text": [
      "Applying mask to /home/minyoungxi/MINYOUNGXI/XFL/Data/OASIS_MNI_to_TRs/volume_133.nii.gz\n",
      "Running FLIRT on /home/minyoungxi/MINYOUNGXI/XFL/Data/OASIS_MNI_to_TRs/masked_volume_133.nii.gz\n"
     ]
    },
    {
     "name": "stderr",
     "output_type": "stream",
     "text": [
      "Processing volumes for subject 30124:  82%|████████▏ | 134/164 [10:55<02:26,  4.88s/it]"
     ]
    },
    {
     "name": "stdout",
     "output_type": "stream",
     "text": [
      "Applying mask to /home/minyoungxi/MINYOUNGXI/XFL/Data/OASIS_MNI_to_TRs/volume_134.nii.gz\n",
      "Running FLIRT on /home/minyoungxi/MINYOUNGXI/XFL/Data/OASIS_MNI_to_TRs/masked_volume_134.nii.gz\n"
     ]
    },
    {
     "name": "stderr",
     "output_type": "stream",
     "text": [
      "Processing volumes for subject 30124:  82%|████████▏ | 135/164 [11:00<02:21,  4.88s/it]"
     ]
    },
    {
     "name": "stdout",
     "output_type": "stream",
     "text": [
      "Applying mask to /home/minyoungxi/MINYOUNGXI/XFL/Data/OASIS_MNI_to_TRs/volume_135.nii.gz\n",
      "Running FLIRT on /home/minyoungxi/MINYOUNGXI/XFL/Data/OASIS_MNI_to_TRs/masked_volume_135.nii.gz\n"
     ]
    },
    {
     "name": "stderr",
     "output_type": "stream",
     "text": [
      "Processing volumes for subject 30124:  83%|████████▎ | 136/164 [11:05<02:16,  4.88s/it]"
     ]
    },
    {
     "name": "stdout",
     "output_type": "stream",
     "text": [
      "Applying mask to /home/minyoungxi/MINYOUNGXI/XFL/Data/OASIS_MNI_to_TRs/volume_136.nii.gz\n",
      "Running FLIRT on /home/minyoungxi/MINYOUNGXI/XFL/Data/OASIS_MNI_to_TRs/masked_volume_136.nii.gz\n"
     ]
    },
    {
     "name": "stderr",
     "output_type": "stream",
     "text": [
      "Processing volumes for subject 30124:  84%|████████▎ | 137/164 [11:10<02:11,  4.89s/it]"
     ]
    },
    {
     "name": "stdout",
     "output_type": "stream",
     "text": [
      "Applying mask to /home/minyoungxi/MINYOUNGXI/XFL/Data/OASIS_MNI_to_TRs/volume_137.nii.gz\n",
      "Running FLIRT on /home/minyoungxi/MINYOUNGXI/XFL/Data/OASIS_MNI_to_TRs/masked_volume_137.nii.gz\n"
     ]
    },
    {
     "name": "stderr",
     "output_type": "stream",
     "text": [
      "Processing volumes for subject 30124:  84%|████████▍ | 138/164 [11:15<02:06,  4.88s/it]"
     ]
    },
    {
     "name": "stdout",
     "output_type": "stream",
     "text": [
      "Applying mask to /home/minyoungxi/MINYOUNGXI/XFL/Data/OASIS_MNI_to_TRs/volume_138.nii.gz\n",
      "Running FLIRT on /home/minyoungxi/MINYOUNGXI/XFL/Data/OASIS_MNI_to_TRs/masked_volume_138.nii.gz\n"
     ]
    },
    {
     "name": "stderr",
     "output_type": "stream",
     "text": [
      "Processing volumes for subject 30124:  85%|████████▍ | 139/164 [11:20<02:02,  4.89s/it]"
     ]
    },
    {
     "name": "stdout",
     "output_type": "stream",
     "text": [
      "Applying mask to /home/minyoungxi/MINYOUNGXI/XFL/Data/OASIS_MNI_to_TRs/volume_139.nii.gz\n",
      "Running FLIRT on /home/minyoungxi/MINYOUNGXI/XFL/Data/OASIS_MNI_to_TRs/masked_volume_139.nii.gz\n"
     ]
    },
    {
     "name": "stderr",
     "output_type": "stream",
     "text": [
      "Processing volumes for subject 30124:  85%|████████▌ | 140/164 [11:25<01:57,  4.90s/it]"
     ]
    },
    {
     "name": "stdout",
     "output_type": "stream",
     "text": [
      "Applying mask to /home/minyoungxi/MINYOUNGXI/XFL/Data/OASIS_MNI_to_TRs/volume_140.nii.gz\n",
      "Running FLIRT on /home/minyoungxi/MINYOUNGXI/XFL/Data/OASIS_MNI_to_TRs/masked_volume_140.nii.gz\n"
     ]
    },
    {
     "name": "stderr",
     "output_type": "stream",
     "text": [
      "Processing volumes for subject 30124:  86%|████████▌ | 141/164 [11:29<01:52,  4.90s/it]"
     ]
    },
    {
     "name": "stdout",
     "output_type": "stream",
     "text": [
      "Applying mask to /home/minyoungxi/MINYOUNGXI/XFL/Data/OASIS_MNI_to_TRs/volume_141.nii.gz\n",
      "Running FLIRT on /home/minyoungxi/MINYOUNGXI/XFL/Data/OASIS_MNI_to_TRs/masked_volume_141.nii.gz\n"
     ]
    },
    {
     "name": "stderr",
     "output_type": "stream",
     "text": [
      "Processing volumes for subject 30124:  87%|████████▋ | 142/164 [11:34<01:47,  4.90s/it]"
     ]
    },
    {
     "name": "stdout",
     "output_type": "stream",
     "text": [
      "Applying mask to /home/minyoungxi/MINYOUNGXI/XFL/Data/OASIS_MNI_to_TRs/volume_142.nii.gz\n",
      "Running FLIRT on /home/minyoungxi/MINYOUNGXI/XFL/Data/OASIS_MNI_to_TRs/masked_volume_142.nii.gz\n"
     ]
    },
    {
     "name": "stderr",
     "output_type": "stream",
     "text": [
      "Processing volumes for subject 30124:  87%|████████▋ | 143/164 [11:39<01:43,  4.92s/it]"
     ]
    },
    {
     "name": "stdout",
     "output_type": "stream",
     "text": [
      "Applying mask to /home/minyoungxi/MINYOUNGXI/XFL/Data/OASIS_MNI_to_TRs/volume_143.nii.gz\n",
      "Running FLIRT on /home/minyoungxi/MINYOUNGXI/XFL/Data/OASIS_MNI_to_TRs/masked_volume_143.nii.gz\n"
     ]
    },
    {
     "name": "stderr",
     "output_type": "stream",
     "text": [
      "Processing volumes for subject 30124:  88%|████████▊ | 144/164 [11:44<01:39,  4.96s/it]"
     ]
    },
    {
     "name": "stdout",
     "output_type": "stream",
     "text": [
      "Applying mask to /home/minyoungxi/MINYOUNGXI/XFL/Data/OASIS_MNI_to_TRs/volume_144.nii.gz\n",
      "Running FLIRT on /home/minyoungxi/MINYOUNGXI/XFL/Data/OASIS_MNI_to_TRs/masked_volume_144.nii.gz\n"
     ]
    },
    {
     "name": "stderr",
     "output_type": "stream",
     "text": [
      "Processing volumes for subject 30124:  88%|████████▊ | 145/164 [11:49<01:34,  5.00s/it]"
     ]
    },
    {
     "name": "stdout",
     "output_type": "stream",
     "text": [
      "Applying mask to /home/minyoungxi/MINYOUNGXI/XFL/Data/OASIS_MNI_to_TRs/volume_145.nii.gz\n",
      "Running FLIRT on /home/minyoungxi/MINYOUNGXI/XFL/Data/OASIS_MNI_to_TRs/masked_volume_145.nii.gz\n"
     ]
    },
    {
     "name": "stderr",
     "output_type": "stream",
     "text": [
      "Processing volumes for subject 30124:  89%|████████▉ | 146/164 [11:55<01:30,  5.01s/it]"
     ]
    },
    {
     "name": "stdout",
     "output_type": "stream",
     "text": [
      "Applying mask to /home/minyoungxi/MINYOUNGXI/XFL/Data/OASIS_MNI_to_TRs/volume_146.nii.gz\n",
      "Running FLIRT on /home/minyoungxi/MINYOUNGXI/XFL/Data/OASIS_MNI_to_TRs/masked_volume_146.nii.gz\n"
     ]
    },
    {
     "name": "stderr",
     "output_type": "stream",
     "text": [
      "Processing volumes for subject 30124:  90%|████████▉ | 147/164 [12:00<01:25,  5.02s/it]"
     ]
    },
    {
     "name": "stdout",
     "output_type": "stream",
     "text": [
      "Applying mask to /home/minyoungxi/MINYOUNGXI/XFL/Data/OASIS_MNI_to_TRs/volume_147.nii.gz\n",
      "Running FLIRT on /home/minyoungxi/MINYOUNGXI/XFL/Data/OASIS_MNI_to_TRs/masked_volume_147.nii.gz\n"
     ]
    },
    {
     "name": "stderr",
     "output_type": "stream",
     "text": [
      "Processing volumes for subject 30124:  90%|█████████ | 148/164 [12:05<01:20,  5.02s/it]"
     ]
    },
    {
     "name": "stdout",
     "output_type": "stream",
     "text": [
      "Applying mask to /home/minyoungxi/MINYOUNGXI/XFL/Data/OASIS_MNI_to_TRs/volume_148.nii.gz\n",
      "Running FLIRT on /home/minyoungxi/MINYOUNGXI/XFL/Data/OASIS_MNI_to_TRs/masked_volume_148.nii.gz\n"
     ]
    },
    {
     "name": "stderr",
     "output_type": "stream",
     "text": [
      "Processing volumes for subject 30124:  91%|█████████ | 149/164 [12:10<01:15,  5.00s/it]"
     ]
    },
    {
     "name": "stdout",
     "output_type": "stream",
     "text": [
      "Applying mask to /home/minyoungxi/MINYOUNGXI/XFL/Data/OASIS_MNI_to_TRs/volume_149.nii.gz\n",
      "Running FLIRT on /home/minyoungxi/MINYOUNGXI/XFL/Data/OASIS_MNI_to_TRs/masked_volume_149.nii.gz\n"
     ]
    },
    {
     "name": "stderr",
     "output_type": "stream",
     "text": [
      "Processing volumes for subject 30124:  91%|█████████▏| 150/164 [12:14<01:09,  4.99s/it]"
     ]
    },
    {
     "name": "stdout",
     "output_type": "stream",
     "text": [
      "Applying mask to /home/minyoungxi/MINYOUNGXI/XFL/Data/OASIS_MNI_to_TRs/volume_150.nii.gz\n",
      "Running FLIRT on /home/minyoungxi/MINYOUNGXI/XFL/Data/OASIS_MNI_to_TRs/masked_volume_150.nii.gz\n"
     ]
    },
    {
     "name": "stderr",
     "output_type": "stream",
     "text": [
      "Processing volumes for subject 30124:  92%|█████████▏| 151/164 [12:19<01:04,  4.99s/it]"
     ]
    },
    {
     "name": "stdout",
     "output_type": "stream",
     "text": [
      "Applying mask to /home/minyoungxi/MINYOUNGXI/XFL/Data/OASIS_MNI_to_TRs/volume_151.nii.gz\n",
      "Running FLIRT on /home/minyoungxi/MINYOUNGXI/XFL/Data/OASIS_MNI_to_TRs/masked_volume_151.nii.gz\n"
     ]
    },
    {
     "name": "stderr",
     "output_type": "stream",
     "text": [
      "Processing volumes for subject 30124:  93%|█████████▎| 152/164 [12:24<00:59,  4.97s/it]"
     ]
    },
    {
     "name": "stdout",
     "output_type": "stream",
     "text": [
      "Applying mask to /home/minyoungxi/MINYOUNGXI/XFL/Data/OASIS_MNI_to_TRs/volume_152.nii.gz\n",
      "Running FLIRT on /home/minyoungxi/MINYOUNGXI/XFL/Data/OASIS_MNI_to_TRs/masked_volume_152.nii.gz\n"
     ]
    },
    {
     "name": "stderr",
     "output_type": "stream",
     "text": [
      "Processing volumes for subject 30124:  93%|█████████▎| 153/164 [12:29<00:54,  4.96s/it]"
     ]
    },
    {
     "name": "stdout",
     "output_type": "stream",
     "text": [
      "Applying mask to /home/minyoungxi/MINYOUNGXI/XFL/Data/OASIS_MNI_to_TRs/volume_153.nii.gz\n",
      "Running FLIRT on /home/minyoungxi/MINYOUNGXI/XFL/Data/OASIS_MNI_to_TRs/masked_volume_153.nii.gz\n"
     ]
    },
    {
     "name": "stderr",
     "output_type": "stream",
     "text": [
      "Processing volumes for subject 30124:  94%|█████████▍| 154/164 [12:34<00:49,  4.98s/it]"
     ]
    },
    {
     "name": "stdout",
     "output_type": "stream",
     "text": [
      "Applying mask to /home/minyoungxi/MINYOUNGXI/XFL/Data/OASIS_MNI_to_TRs/volume_154.nii.gz\n",
      "Running FLIRT on /home/minyoungxi/MINYOUNGXI/XFL/Data/OASIS_MNI_to_TRs/masked_volume_154.nii.gz\n"
     ]
    },
    {
     "name": "stderr",
     "output_type": "stream",
     "text": [
      "Processing volumes for subject 30124:  95%|█████████▍| 155/164 [12:39<00:44,  4.96s/it]"
     ]
    },
    {
     "name": "stdout",
     "output_type": "stream",
     "text": [
      "Applying mask to /home/minyoungxi/MINYOUNGXI/XFL/Data/OASIS_MNI_to_TRs/volume_155.nii.gz\n",
      "Running FLIRT on /home/minyoungxi/MINYOUNGXI/XFL/Data/OASIS_MNI_to_TRs/masked_volume_155.nii.gz\n"
     ]
    },
    {
     "name": "stderr",
     "output_type": "stream",
     "text": [
      "Processing volumes for subject 30124:  95%|█████████▌| 156/164 [12:44<00:39,  4.93s/it]"
     ]
    },
    {
     "name": "stdout",
     "output_type": "stream",
     "text": [
      "Applying mask to /home/minyoungxi/MINYOUNGXI/XFL/Data/OASIS_MNI_to_TRs/volume_156.nii.gz\n",
      "Running FLIRT on /home/minyoungxi/MINYOUNGXI/XFL/Data/OASIS_MNI_to_TRs/masked_volume_156.nii.gz\n"
     ]
    },
    {
     "name": "stderr",
     "output_type": "stream",
     "text": [
      "Processing volumes for subject 30124:  96%|█████████▌| 157/164 [12:49<00:34,  4.91s/it]"
     ]
    },
    {
     "name": "stdout",
     "output_type": "stream",
     "text": [
      "Applying mask to /home/minyoungxi/MINYOUNGXI/XFL/Data/OASIS_MNI_to_TRs/volume_157.nii.gz\n",
      "Running FLIRT on /home/minyoungxi/MINYOUNGXI/XFL/Data/OASIS_MNI_to_TRs/masked_volume_157.nii.gz\n"
     ]
    },
    {
     "name": "stderr",
     "output_type": "stream",
     "text": [
      "Processing volumes for subject 30124:  96%|█████████▋| 158/164 [12:54<00:29,  4.89s/it]"
     ]
    },
    {
     "name": "stdout",
     "output_type": "stream",
     "text": [
      "Applying mask to /home/minyoungxi/MINYOUNGXI/XFL/Data/OASIS_MNI_to_TRs/volume_158.nii.gz\n",
      "Running FLIRT on /home/minyoungxi/MINYOUNGXI/XFL/Data/OASIS_MNI_to_TRs/masked_volume_158.nii.gz\n"
     ]
    },
    {
     "name": "stderr",
     "output_type": "stream",
     "text": [
      "Processing volumes for subject 30124:  97%|█████████▋| 159/164 [12:59<00:24,  4.88s/it]"
     ]
    },
    {
     "name": "stdout",
     "output_type": "stream",
     "text": [
      "Applying mask to /home/minyoungxi/MINYOUNGXI/XFL/Data/OASIS_MNI_to_TRs/volume_159.nii.gz\n",
      "Running FLIRT on /home/minyoungxi/MINYOUNGXI/XFL/Data/OASIS_MNI_to_TRs/masked_volume_159.nii.gz\n"
     ]
    },
    {
     "name": "stderr",
     "output_type": "stream",
     "text": [
      "Processing volumes for subject 30124:  98%|█████████▊| 160/164 [13:04<00:19,  4.86s/it]"
     ]
    },
    {
     "name": "stdout",
     "output_type": "stream",
     "text": [
      "Applying mask to /home/minyoungxi/MINYOUNGXI/XFL/Data/OASIS_MNI_to_TRs/volume_160.nii.gz\n",
      "Running FLIRT on /home/minyoungxi/MINYOUNGXI/XFL/Data/OASIS_MNI_to_TRs/masked_volume_160.nii.gz\n"
     ]
    },
    {
     "name": "stderr",
     "output_type": "stream",
     "text": [
      "Processing volumes for subject 30124:  98%|█████████▊| 161/164 [13:08<00:14,  4.84s/it]"
     ]
    },
    {
     "name": "stdout",
     "output_type": "stream",
     "text": [
      "Applying mask to /home/minyoungxi/MINYOUNGXI/XFL/Data/OASIS_MNI_to_TRs/volume_161.nii.gz\n",
      "Running FLIRT on /home/minyoungxi/MINYOUNGXI/XFL/Data/OASIS_MNI_to_TRs/masked_volume_161.nii.gz\n"
     ]
    },
    {
     "name": "stderr",
     "output_type": "stream",
     "text": [
      "Processing volumes for subject 30124:  99%|█████████▉| 162/164 [13:13<00:09,  4.85s/it]"
     ]
    },
    {
     "name": "stdout",
     "output_type": "stream",
     "text": [
      "Applying mask to /home/minyoungxi/MINYOUNGXI/XFL/Data/OASIS_MNI_to_TRs/volume_162.nii.gz\n",
      "Running FLIRT on /home/minyoungxi/MINYOUNGXI/XFL/Data/OASIS_MNI_to_TRs/masked_volume_162.nii.gz\n"
     ]
    },
    {
     "name": "stderr",
     "output_type": "stream",
     "text": [
      "Processing volumes for subject 30124:  99%|█████████▉| 163/164 [13:18<00:04,  4.85s/it]"
     ]
    },
    {
     "name": "stdout",
     "output_type": "stream",
     "text": [
      "Applying mask to /home/minyoungxi/MINYOUNGXI/XFL/Data/OASIS_MNI_to_TRs/volume_163.nii.gz\n",
      "Running FLIRT on /home/minyoungxi/MINYOUNGXI/XFL/Data/OASIS_MNI_to_TRs/masked_volume_163.nii.gz\n"
     ]
    },
    {
     "name": "stderr",
     "output_type": "stream",
     "text": [
      "Processing volumes for subject 30124: 100%|██████████| 164/164 [13:23<00:00,  4.90s/it]\n"
     ]
    },
    {
     "name": "stdout",
     "output_type": "stream",
     "text": [
      "Found functional file: /home/minyoungxi/MINYOUNGXI/XFL/Data/OASISSamples7.1/OAS30064_MR_d0687/func1/NIFTI/sub-OAS30064_ses-d0687_task-rest_run-01_bold.nii.gz\n",
      "Preprocessing fMRI data for subject 30064, session 0687\n",
      "Running BET on /home/minyoungxi/MINYOUNGXI/XFL/Data/OASIS_MNI_to_TRs/first_volume.nii.gz\n"
     ]
    },
    {
     "name": "stderr",
     "output_type": "stream",
     "text": [
      "Processing volumes for subject 30064:   0%|          | 0/164 [00:00<?, ?it/s]"
     ]
    },
    {
     "name": "stdout",
     "output_type": "stream",
     "text": [
      "Applying mask to /home/minyoungxi/MINYOUNGXI/XFL/Data/OASIS_MNI_to_TRs/volume_0.nii.gz\n",
      "Running FLIRT on /home/minyoungxi/MINYOUNGXI/XFL/Data/OASIS_MNI_to_TRs/masked_volume_0.nii.gz\n"
     ]
    },
    {
     "name": "stderr",
     "output_type": "stream",
     "text": [
      "Processing volumes for subject 30064:   1%|          | 1/164 [00:04<13:22,  4.92s/it]"
     ]
    },
    {
     "name": "stdout",
     "output_type": "stream",
     "text": [
      "Applying mask to /home/minyoungxi/MINYOUNGXI/XFL/Data/OASIS_MNI_to_TRs/volume_1.nii.gz\n",
      "Running FLIRT on /home/minyoungxi/MINYOUNGXI/XFL/Data/OASIS_MNI_to_TRs/masked_volume_1.nii.gz\n"
     ]
    },
    {
     "name": "stderr",
     "output_type": "stream",
     "text": [
      "Processing volumes for subject 30064:   1%|          | 2/164 [00:09<13:22,  4.95s/it]"
     ]
    },
    {
     "name": "stdout",
     "output_type": "stream",
     "text": [
      "Applying mask to /home/minyoungxi/MINYOUNGXI/XFL/Data/OASIS_MNI_to_TRs/volume_2.nii.gz\n",
      "Running FLIRT on /home/minyoungxi/MINYOUNGXI/XFL/Data/OASIS_MNI_to_TRs/masked_volume_2.nii.gz\n"
     ]
    },
    {
     "name": "stderr",
     "output_type": "stream",
     "text": [
      "Processing volumes for subject 30064:   2%|▏         | 3/164 [00:14<13:19,  4.97s/it]"
     ]
    },
    {
     "name": "stdout",
     "output_type": "stream",
     "text": [
      "Applying mask to /home/minyoungxi/MINYOUNGXI/XFL/Data/OASIS_MNI_to_TRs/volume_3.nii.gz\n",
      "Running FLIRT on /home/minyoungxi/MINYOUNGXI/XFL/Data/OASIS_MNI_to_TRs/masked_volume_3.nii.gz\n"
     ]
    },
    {
     "name": "stderr",
     "output_type": "stream",
     "text": [
      "Processing volumes for subject 30064:   2%|▏         | 4/164 [00:19<13:13,  4.96s/it]"
     ]
    },
    {
     "name": "stdout",
     "output_type": "stream",
     "text": [
      "Applying mask to /home/minyoungxi/MINYOUNGXI/XFL/Data/OASIS_MNI_to_TRs/volume_4.nii.gz\n",
      "Running FLIRT on /home/minyoungxi/MINYOUNGXI/XFL/Data/OASIS_MNI_to_TRs/masked_volume_4.nii.gz\n"
     ]
    },
    {
     "name": "stderr",
     "output_type": "stream",
     "text": [
      "Processing volumes for subject 30064:   3%|▎         | 5/164 [00:24<13:08,  4.96s/it]"
     ]
    },
    {
     "name": "stdout",
     "output_type": "stream",
     "text": [
      "Applying mask to /home/minyoungxi/MINYOUNGXI/XFL/Data/OASIS_MNI_to_TRs/volume_5.nii.gz\n",
      "Running FLIRT on /home/minyoungxi/MINYOUNGXI/XFL/Data/OASIS_MNI_to_TRs/masked_volume_5.nii.gz\n"
     ]
    },
    {
     "name": "stderr",
     "output_type": "stream",
     "text": [
      "Processing volumes for subject 30064:   4%|▎         | 6/164 [00:29<13:02,  4.95s/it]"
     ]
    },
    {
     "name": "stdout",
     "output_type": "stream",
     "text": [
      "Applying mask to /home/minyoungxi/MINYOUNGXI/XFL/Data/OASIS_MNI_to_TRs/volume_6.nii.gz\n",
      "Running FLIRT on /home/minyoungxi/MINYOUNGXI/XFL/Data/OASIS_MNI_to_TRs/masked_volume_6.nii.gz\n"
     ]
    },
    {
     "name": "stderr",
     "output_type": "stream",
     "text": [
      "Processing volumes for subject 30064:   4%|▍         | 7/164 [00:34<13:00,  4.97s/it]"
     ]
    },
    {
     "name": "stdout",
     "output_type": "stream",
     "text": [
      "Applying mask to /home/minyoungxi/MINYOUNGXI/XFL/Data/OASIS_MNI_to_TRs/volume_7.nii.gz\n",
      "Running FLIRT on /home/minyoungxi/MINYOUNGXI/XFL/Data/OASIS_MNI_to_TRs/masked_volume_7.nii.gz\n"
     ]
    },
    {
     "name": "stderr",
     "output_type": "stream",
     "text": [
      "Processing volumes for subject 30064:   5%|▍         | 8/164 [00:39<12:52,  4.95s/it]"
     ]
    },
    {
     "name": "stdout",
     "output_type": "stream",
     "text": [
      "Applying mask to /home/minyoungxi/MINYOUNGXI/XFL/Data/OASIS_MNI_to_TRs/volume_8.nii.gz\n",
      "Running FLIRT on /home/minyoungxi/MINYOUNGXI/XFL/Data/OASIS_MNI_to_TRs/masked_volume_8.nii.gz\n"
     ]
    },
    {
     "name": "stderr",
     "output_type": "stream",
     "text": [
      "Processing volumes for subject 30064:   5%|▌         | 9/164 [00:44<12:50,  4.97s/it]"
     ]
    },
    {
     "name": "stdout",
     "output_type": "stream",
     "text": [
      "Applying mask to /home/minyoungxi/MINYOUNGXI/XFL/Data/OASIS_MNI_to_TRs/volume_9.nii.gz\n",
      "Running FLIRT on /home/minyoungxi/MINYOUNGXI/XFL/Data/OASIS_MNI_to_TRs/masked_volume_9.nii.gz\n"
     ]
    },
    {
     "name": "stderr",
     "output_type": "stream",
     "text": [
      "Processing volumes for subject 30064:   6%|▌         | 10/164 [00:49<12:45,  4.97s/it]"
     ]
    },
    {
     "name": "stdout",
     "output_type": "stream",
     "text": [
      "Applying mask to /home/minyoungxi/MINYOUNGXI/XFL/Data/OASIS_MNI_to_TRs/volume_10.nii.gz\n",
      "Running FLIRT on /home/minyoungxi/MINYOUNGXI/XFL/Data/OASIS_MNI_to_TRs/masked_volume_10.nii.gz\n"
     ]
    },
    {
     "name": "stderr",
     "output_type": "stream",
     "text": [
      "Processing volumes for subject 30064:   7%|▋         | 11/164 [00:54<12:38,  4.96s/it]"
     ]
    },
    {
     "name": "stdout",
     "output_type": "stream",
     "text": [
      "Applying mask to /home/minyoungxi/MINYOUNGXI/XFL/Data/OASIS_MNI_to_TRs/volume_11.nii.gz\n",
      "Running FLIRT on /home/minyoungxi/MINYOUNGXI/XFL/Data/OASIS_MNI_to_TRs/masked_volume_11.nii.gz\n"
     ]
    },
    {
     "name": "stderr",
     "output_type": "stream",
     "text": [
      "Processing volumes for subject 30064:   7%|▋         | 12/164 [00:59<12:35,  4.97s/it]"
     ]
    },
    {
     "name": "stdout",
     "output_type": "stream",
     "text": [
      "Applying mask to /home/minyoungxi/MINYOUNGXI/XFL/Data/OASIS_MNI_to_TRs/volume_12.nii.gz\n",
      "Running FLIRT on /home/minyoungxi/MINYOUNGXI/XFL/Data/OASIS_MNI_to_TRs/masked_volume_12.nii.gz\n"
     ]
    },
    {
     "name": "stderr",
     "output_type": "stream",
     "text": [
      "Processing volumes for subject 30064:   8%|▊         | 13/164 [01:04<12:31,  4.98s/it]"
     ]
    },
    {
     "name": "stdout",
     "output_type": "stream",
     "text": [
      "Applying mask to /home/minyoungxi/MINYOUNGXI/XFL/Data/OASIS_MNI_to_TRs/volume_13.nii.gz\n",
      "Running FLIRT on /home/minyoungxi/MINYOUNGXI/XFL/Data/OASIS_MNI_to_TRs/masked_volume_13.nii.gz\n"
     ]
    },
    {
     "name": "stderr",
     "output_type": "stream",
     "text": [
      "Processing volumes for subject 30064:   9%|▊         | 14/164 [01:09<12:25,  4.97s/it]"
     ]
    },
    {
     "name": "stdout",
     "output_type": "stream",
     "text": [
      "Applying mask to /home/minyoungxi/MINYOUNGXI/XFL/Data/OASIS_MNI_to_TRs/volume_14.nii.gz\n",
      "Running FLIRT on /home/minyoungxi/MINYOUNGXI/XFL/Data/OASIS_MNI_to_TRs/masked_volume_14.nii.gz\n"
     ]
    },
    {
     "name": "stderr",
     "output_type": "stream",
     "text": [
      "Processing volumes for subject 30064:   9%|▉         | 15/164 [01:14<12:20,  4.97s/it]"
     ]
    },
    {
     "name": "stdout",
     "output_type": "stream",
     "text": [
      "Applying mask to /home/minyoungxi/MINYOUNGXI/XFL/Data/OASIS_MNI_to_TRs/volume_15.nii.gz\n",
      "Running FLIRT on /home/minyoungxi/MINYOUNGXI/XFL/Data/OASIS_MNI_to_TRs/masked_volume_15.nii.gz\n"
     ]
    },
    {
     "name": "stderr",
     "output_type": "stream",
     "text": [
      "Processing volumes for subject 30064:  10%|▉         | 16/164 [01:19<12:15,  4.97s/it]"
     ]
    },
    {
     "name": "stdout",
     "output_type": "stream",
     "text": [
      "Applying mask to /home/minyoungxi/MINYOUNGXI/XFL/Data/OASIS_MNI_to_TRs/volume_16.nii.gz\n",
      "Running FLIRT on /home/minyoungxi/MINYOUNGXI/XFL/Data/OASIS_MNI_to_TRs/masked_volume_16.nii.gz\n"
     ]
    },
    {
     "name": "stderr",
     "output_type": "stream",
     "text": [
      "Processing volumes for subject 30064:  10%|█         | 17/164 [01:24<12:11,  4.97s/it]"
     ]
    },
    {
     "name": "stdout",
     "output_type": "stream",
     "text": [
      "Applying mask to /home/minyoungxi/MINYOUNGXI/XFL/Data/OASIS_MNI_to_TRs/volume_17.nii.gz\n",
      "Running FLIRT on /home/minyoungxi/MINYOUNGXI/XFL/Data/OASIS_MNI_to_TRs/masked_volume_17.nii.gz\n"
     ]
    },
    {
     "name": "stderr",
     "output_type": "stream",
     "text": [
      "Processing volumes for subject 30064:  11%|█         | 18/164 [01:29<12:09,  5.00s/it]"
     ]
    },
    {
     "name": "stdout",
     "output_type": "stream",
     "text": [
      "Applying mask to /home/minyoungxi/MINYOUNGXI/XFL/Data/OASIS_MNI_to_TRs/volume_18.nii.gz\n",
      "Running FLIRT on /home/minyoungxi/MINYOUNGXI/XFL/Data/OASIS_MNI_to_TRs/masked_volume_18.nii.gz\n"
     ]
    },
    {
     "name": "stderr",
     "output_type": "stream",
     "text": [
      "Processing volumes for subject 30064:  12%|█▏        | 19/164 [01:34<12:04,  5.00s/it]"
     ]
    },
    {
     "name": "stdout",
     "output_type": "stream",
     "text": [
      "Applying mask to /home/minyoungxi/MINYOUNGXI/XFL/Data/OASIS_MNI_to_TRs/volume_19.nii.gz\n",
      "Running FLIRT on /home/minyoungxi/MINYOUNGXI/XFL/Data/OASIS_MNI_to_TRs/masked_volume_19.nii.gz\n"
     ]
    },
    {
     "name": "stderr",
     "output_type": "stream",
     "text": [
      "Processing volumes for subject 30064:  12%|█▏        | 20/164 [01:39<11:57,  4.98s/it]"
     ]
    },
    {
     "name": "stdout",
     "output_type": "stream",
     "text": [
      "Applying mask to /home/minyoungxi/MINYOUNGXI/XFL/Data/OASIS_MNI_to_TRs/volume_20.nii.gz\n",
      "Running FLIRT on /home/minyoungxi/MINYOUNGXI/XFL/Data/OASIS_MNI_to_TRs/masked_volume_20.nii.gz\n"
     ]
    },
    {
     "name": "stderr",
     "output_type": "stream",
     "text": [
      "Processing volumes for subject 30064:  13%|█▎        | 21/164 [01:44<11:50,  4.97s/it]"
     ]
    },
    {
     "name": "stdout",
     "output_type": "stream",
     "text": [
      "Applying mask to /home/minyoungxi/MINYOUNGXI/XFL/Data/OASIS_MNI_to_TRs/volume_21.nii.gz\n",
      "Running FLIRT on /home/minyoungxi/MINYOUNGXI/XFL/Data/OASIS_MNI_to_TRs/masked_volume_21.nii.gz\n"
     ]
    },
    {
     "name": "stderr",
     "output_type": "stream",
     "text": [
      "Processing volumes for subject 30064:  13%|█▎        | 22/164 [01:49<11:47,  4.98s/it]"
     ]
    },
    {
     "name": "stdout",
     "output_type": "stream",
     "text": [
      "Applying mask to /home/minyoungxi/MINYOUNGXI/XFL/Data/OASIS_MNI_to_TRs/volume_22.nii.gz\n",
      "Running FLIRT on /home/minyoungxi/MINYOUNGXI/XFL/Data/OASIS_MNI_to_TRs/masked_volume_22.nii.gz\n"
     ]
    },
    {
     "name": "stderr",
     "output_type": "stream",
     "text": [
      "Processing volumes for subject 30064:  14%|█▍        | 23/164 [01:54<11:39,  4.96s/it]"
     ]
    },
    {
     "name": "stdout",
     "output_type": "stream",
     "text": [
      "Applying mask to /home/minyoungxi/MINYOUNGXI/XFL/Data/OASIS_MNI_to_TRs/volume_23.nii.gz\n",
      "Running FLIRT on /home/minyoungxi/MINYOUNGXI/XFL/Data/OASIS_MNI_to_TRs/masked_volume_23.nii.gz\n"
     ]
    },
    {
     "name": "stderr",
     "output_type": "stream",
     "text": [
      "Processing volumes for subject 30064:  15%|█▍        | 24/164 [01:59<11:37,  4.98s/it]"
     ]
    },
    {
     "name": "stdout",
     "output_type": "stream",
     "text": [
      "Applying mask to /home/minyoungxi/MINYOUNGXI/XFL/Data/OASIS_MNI_to_TRs/volume_24.nii.gz\n",
      "Running FLIRT on /home/minyoungxi/MINYOUNGXI/XFL/Data/OASIS_MNI_to_TRs/masked_volume_24.nii.gz\n"
     ]
    },
    {
     "name": "stderr",
     "output_type": "stream",
     "text": [
      "Processing volumes for subject 30064:  15%|█▌        | 25/164 [02:04<11:30,  4.97s/it]"
     ]
    },
    {
     "name": "stdout",
     "output_type": "stream",
     "text": [
      "Applying mask to /home/minyoungxi/MINYOUNGXI/XFL/Data/OASIS_MNI_to_TRs/volume_25.nii.gz\n",
      "Running FLIRT on /home/minyoungxi/MINYOUNGXI/XFL/Data/OASIS_MNI_to_TRs/masked_volume_25.nii.gz\n"
     ]
    },
    {
     "name": "stderr",
     "output_type": "stream",
     "text": [
      "Processing volumes for subject 30064:  16%|█▌        | 26/164 [02:09<11:25,  4.97s/it]"
     ]
    },
    {
     "name": "stdout",
     "output_type": "stream",
     "text": [
      "Applying mask to /home/minyoungxi/MINYOUNGXI/XFL/Data/OASIS_MNI_to_TRs/volume_26.nii.gz\n",
      "Running FLIRT on /home/minyoungxi/MINYOUNGXI/XFL/Data/OASIS_MNI_to_TRs/masked_volume_26.nii.gz\n"
     ]
    },
    {
     "name": "stderr",
     "output_type": "stream",
     "text": [
      "Processing volumes for subject 30064:  16%|█▋        | 27/164 [02:14<11:20,  4.97s/it]"
     ]
    },
    {
     "name": "stdout",
     "output_type": "stream",
     "text": [
      "Applying mask to /home/minyoungxi/MINYOUNGXI/XFL/Data/OASIS_MNI_to_TRs/volume_27.nii.gz\n",
      "Running FLIRT on /home/minyoungxi/MINYOUNGXI/XFL/Data/OASIS_MNI_to_TRs/masked_volume_27.nii.gz\n"
     ]
    },
    {
     "name": "stderr",
     "output_type": "stream",
     "text": [
      "Processing volumes for subject 30064:  17%|█▋        | 28/164 [02:19<11:16,  4.97s/it]"
     ]
    },
    {
     "name": "stdout",
     "output_type": "stream",
     "text": [
      "Applying mask to /home/minyoungxi/MINYOUNGXI/XFL/Data/OASIS_MNI_to_TRs/volume_28.nii.gz\n",
      "Running FLIRT on /home/minyoungxi/MINYOUNGXI/XFL/Data/OASIS_MNI_to_TRs/masked_volume_28.nii.gz\n"
     ]
    },
    {
     "name": "stderr",
     "output_type": "stream",
     "text": [
      "Processing volumes for subject 30064:  18%|█▊        | 29/164 [02:24<11:09,  4.96s/it]"
     ]
    },
    {
     "name": "stdout",
     "output_type": "stream",
     "text": [
      "Applying mask to /home/minyoungxi/MINYOUNGXI/XFL/Data/OASIS_MNI_to_TRs/volume_29.nii.gz\n",
      "Running FLIRT on /home/minyoungxi/MINYOUNGXI/XFL/Data/OASIS_MNI_to_TRs/masked_volume_29.nii.gz\n"
     ]
    },
    {
     "name": "stderr",
     "output_type": "stream",
     "text": [
      "Processing volumes for subject 30064:  18%|█▊        | 30/164 [02:29<11:06,  4.98s/it]"
     ]
    },
    {
     "name": "stdout",
     "output_type": "stream",
     "text": [
      "Applying mask to /home/minyoungxi/MINYOUNGXI/XFL/Data/OASIS_MNI_to_TRs/volume_30.nii.gz\n",
      "Running FLIRT on /home/minyoungxi/MINYOUNGXI/XFL/Data/OASIS_MNI_to_TRs/masked_volume_30.nii.gz\n"
     ]
    },
    {
     "name": "stderr",
     "output_type": "stream",
     "text": [
      "Processing volumes for subject 30064:  19%|█▉        | 31/164 [02:34<11:03,  4.99s/it]"
     ]
    },
    {
     "name": "stdout",
     "output_type": "stream",
     "text": [
      "Applying mask to /home/minyoungxi/MINYOUNGXI/XFL/Data/OASIS_MNI_to_TRs/volume_31.nii.gz\n",
      "Running FLIRT on /home/minyoungxi/MINYOUNGXI/XFL/Data/OASIS_MNI_to_TRs/masked_volume_31.nii.gz\n"
     ]
    },
    {
     "name": "stderr",
     "output_type": "stream",
     "text": [
      "Processing volumes for subject 30064:  20%|█▉        | 32/164 [02:39<10:56,  4.98s/it]"
     ]
    },
    {
     "name": "stdout",
     "output_type": "stream",
     "text": [
      "Applying mask to /home/minyoungxi/MINYOUNGXI/XFL/Data/OASIS_MNI_to_TRs/volume_32.nii.gz\n",
      "Running FLIRT on /home/minyoungxi/MINYOUNGXI/XFL/Data/OASIS_MNI_to_TRs/masked_volume_32.nii.gz\n"
     ]
    },
    {
     "name": "stderr",
     "output_type": "stream",
     "text": [
      "Processing volumes for subject 30064:  20%|██        | 33/164 [02:44<10:54,  4.99s/it]"
     ]
    },
    {
     "name": "stdout",
     "output_type": "stream",
     "text": [
      "Applying mask to /home/minyoungxi/MINYOUNGXI/XFL/Data/OASIS_MNI_to_TRs/volume_33.nii.gz\n",
      "Running FLIRT on /home/minyoungxi/MINYOUNGXI/XFL/Data/OASIS_MNI_to_TRs/masked_volume_33.nii.gz\n"
     ]
    },
    {
     "name": "stderr",
     "output_type": "stream",
     "text": [
      "Processing volumes for subject 30064:  21%|██        | 34/164 [02:49<10:50,  5.00s/it]"
     ]
    },
    {
     "name": "stdout",
     "output_type": "stream",
     "text": [
      "Applying mask to /home/minyoungxi/MINYOUNGXI/XFL/Data/OASIS_MNI_to_TRs/volume_34.nii.gz\n",
      "Running FLIRT on /home/minyoungxi/MINYOUNGXI/XFL/Data/OASIS_MNI_to_TRs/masked_volume_34.nii.gz\n"
     ]
    },
    {
     "name": "stderr",
     "output_type": "stream",
     "text": [
      "Processing volumes for subject 30064:  21%|██▏       | 35/164 [02:54<10:43,  4.99s/it]"
     ]
    },
    {
     "name": "stdout",
     "output_type": "stream",
     "text": [
      "Applying mask to /home/minyoungxi/MINYOUNGXI/XFL/Data/OASIS_MNI_to_TRs/volume_35.nii.gz\n",
      "Running FLIRT on /home/minyoungxi/MINYOUNGXI/XFL/Data/OASIS_MNI_to_TRs/masked_volume_35.nii.gz\n"
     ]
    },
    {
     "name": "stderr",
     "output_type": "stream",
     "text": [
      "Processing volumes for subject 30064:  22%|██▏       | 36/164 [02:59<10:38,  4.99s/it]"
     ]
    },
    {
     "name": "stdout",
     "output_type": "stream",
     "text": [
      "Applying mask to /home/minyoungxi/MINYOUNGXI/XFL/Data/OASIS_MNI_to_TRs/volume_36.nii.gz\n",
      "Running FLIRT on /home/minyoungxi/MINYOUNGXI/XFL/Data/OASIS_MNI_to_TRs/masked_volume_36.nii.gz\n"
     ]
    },
    {
     "name": "stderr",
     "output_type": "stream",
     "text": [
      "Processing volumes for subject 30064:  23%|██▎       | 37/164 [03:04<10:34,  4.99s/it]"
     ]
    },
    {
     "name": "stdout",
     "output_type": "stream",
     "text": [
      "Applying mask to /home/minyoungxi/MINYOUNGXI/XFL/Data/OASIS_MNI_to_TRs/volume_37.nii.gz\n",
      "Running FLIRT on /home/minyoungxi/MINYOUNGXI/XFL/Data/OASIS_MNI_to_TRs/masked_volume_37.nii.gz\n"
     ]
    },
    {
     "name": "stderr",
     "output_type": "stream",
     "text": [
      "Processing volumes for subject 30064:  23%|██▎       | 38/164 [03:09<10:27,  4.98s/it]"
     ]
    },
    {
     "name": "stdout",
     "output_type": "stream",
     "text": [
      "Applying mask to /home/minyoungxi/MINYOUNGXI/XFL/Data/OASIS_MNI_to_TRs/volume_38.nii.gz\n",
      "Running FLIRT on /home/minyoungxi/MINYOUNGXI/XFL/Data/OASIS_MNI_to_TRs/masked_volume_38.nii.gz\n"
     ]
    },
    {
     "name": "stderr",
     "output_type": "stream",
     "text": [
      "Processing volumes for subject 30064:  24%|██▍       | 39/164 [03:14<10:29,  5.03s/it]"
     ]
    },
    {
     "name": "stdout",
     "output_type": "stream",
     "text": [
      "Applying mask to /home/minyoungxi/MINYOUNGXI/XFL/Data/OASIS_MNI_to_TRs/volume_39.nii.gz\n",
      "Running FLIRT on /home/minyoungxi/MINYOUNGXI/XFL/Data/OASIS_MNI_to_TRs/masked_volume_39.nii.gz\n"
     ]
    },
    {
     "name": "stderr",
     "output_type": "stream",
     "text": [
      "Processing volumes for subject 30064:  24%|██▍       | 40/164 [03:19<10:21,  5.01s/it]"
     ]
    },
    {
     "name": "stdout",
     "output_type": "stream",
     "text": [
      "Applying mask to /home/minyoungxi/MINYOUNGXI/XFL/Data/OASIS_MNI_to_TRs/volume_40.nii.gz\n",
      "Running FLIRT on /home/minyoungxi/MINYOUNGXI/XFL/Data/OASIS_MNI_to_TRs/masked_volume_40.nii.gz\n"
     ]
    },
    {
     "name": "stderr",
     "output_type": "stream",
     "text": [
      "Processing volumes for subject 30064:  25%|██▌       | 41/164 [03:24<10:13,  4.99s/it]"
     ]
    },
    {
     "name": "stdout",
     "output_type": "stream",
     "text": [
      "Applying mask to /home/minyoungxi/MINYOUNGXI/XFL/Data/OASIS_MNI_to_TRs/volume_41.nii.gz\n",
      "Running FLIRT on /home/minyoungxi/MINYOUNGXI/XFL/Data/OASIS_MNI_to_TRs/masked_volume_41.nii.gz\n"
     ]
    },
    {
     "name": "stderr",
     "output_type": "stream",
     "text": [
      "Processing volumes for subject 30064:  26%|██▌       | 42/164 [03:29<10:05,  4.97s/it]"
     ]
    },
    {
     "name": "stdout",
     "output_type": "stream",
     "text": [
      "Applying mask to /home/minyoungxi/MINYOUNGXI/XFL/Data/OASIS_MNI_to_TRs/volume_42.nii.gz\n",
      "Running FLIRT on /home/minyoungxi/MINYOUNGXI/XFL/Data/OASIS_MNI_to_TRs/masked_volume_42.nii.gz\n"
     ]
    },
    {
     "name": "stderr",
     "output_type": "stream",
     "text": [
      "Processing volumes for subject 30064:  26%|██▌       | 43/164 [03:34<10:01,  4.97s/it]"
     ]
    },
    {
     "name": "stdout",
     "output_type": "stream",
     "text": [
      "Applying mask to /home/minyoungxi/MINYOUNGXI/XFL/Data/OASIS_MNI_to_TRs/volume_43.nii.gz\n",
      "Running FLIRT on /home/minyoungxi/MINYOUNGXI/XFL/Data/OASIS_MNI_to_TRs/masked_volume_43.nii.gz\n"
     ]
    },
    {
     "name": "stderr",
     "output_type": "stream",
     "text": [
      "Processing volumes for subject 30064:  27%|██▋       | 44/164 [03:39<09:57,  4.98s/it]"
     ]
    },
    {
     "name": "stdout",
     "output_type": "stream",
     "text": [
      "Applying mask to /home/minyoungxi/MINYOUNGXI/XFL/Data/OASIS_MNI_to_TRs/volume_44.nii.gz\n",
      "Running FLIRT on /home/minyoungxi/MINYOUNGXI/XFL/Data/OASIS_MNI_to_TRs/masked_volume_44.nii.gz\n"
     ]
    },
    {
     "name": "stderr",
     "output_type": "stream",
     "text": [
      "Processing volumes for subject 30064:  27%|██▋       | 45/164 [03:43<09:52,  4.98s/it]"
     ]
    },
    {
     "name": "stdout",
     "output_type": "stream",
     "text": [
      "Applying mask to /home/minyoungxi/MINYOUNGXI/XFL/Data/OASIS_MNI_to_TRs/volume_45.nii.gz\n",
      "Running FLIRT on /home/minyoungxi/MINYOUNGXI/XFL/Data/OASIS_MNI_to_TRs/masked_volume_45.nii.gz\n"
     ]
    },
    {
     "name": "stderr",
     "output_type": "stream",
     "text": [
      "Processing volumes for subject 30064:  28%|██▊       | 46/164 [03:48<09:46,  4.97s/it]"
     ]
    },
    {
     "name": "stdout",
     "output_type": "stream",
     "text": [
      "Applying mask to /home/minyoungxi/MINYOUNGXI/XFL/Data/OASIS_MNI_to_TRs/volume_46.nii.gz\n",
      "Running FLIRT on /home/minyoungxi/MINYOUNGXI/XFL/Data/OASIS_MNI_to_TRs/masked_volume_46.nii.gz\n"
     ]
    },
    {
     "name": "stderr",
     "output_type": "stream",
     "text": [
      "Processing volumes for subject 30064:  29%|██▊       | 47/164 [03:53<09:42,  4.98s/it]"
     ]
    },
    {
     "name": "stdout",
     "output_type": "stream",
     "text": [
      "Applying mask to /home/minyoungxi/MINYOUNGXI/XFL/Data/OASIS_MNI_to_TRs/volume_47.nii.gz\n",
      "Running FLIRT on /home/minyoungxi/MINYOUNGXI/XFL/Data/OASIS_MNI_to_TRs/masked_volume_47.nii.gz\n"
     ]
    },
    {
     "name": "stderr",
     "output_type": "stream",
     "text": [
      "Processing volumes for subject 30064:  29%|██▉       | 48/164 [03:58<09:37,  4.98s/it]"
     ]
    },
    {
     "name": "stdout",
     "output_type": "stream",
     "text": [
      "Applying mask to /home/minyoungxi/MINYOUNGXI/XFL/Data/OASIS_MNI_to_TRs/volume_48.nii.gz\n",
      "Running FLIRT on /home/minyoungxi/MINYOUNGXI/XFL/Data/OASIS_MNI_to_TRs/masked_volume_48.nii.gz\n"
     ]
    },
    {
     "name": "stderr",
     "output_type": "stream",
     "text": [
      "Processing volumes for subject 30064:  30%|██▉       | 49/164 [04:03<09:31,  4.97s/it]"
     ]
    },
    {
     "name": "stdout",
     "output_type": "stream",
     "text": [
      "Applying mask to /home/minyoungxi/MINYOUNGXI/XFL/Data/OASIS_MNI_to_TRs/volume_49.nii.gz\n",
      "Running FLIRT on /home/minyoungxi/MINYOUNGXI/XFL/Data/OASIS_MNI_to_TRs/masked_volume_49.nii.gz\n"
     ]
    },
    {
     "name": "stderr",
     "output_type": "stream",
     "text": [
      "Processing volumes for subject 30064:  30%|███       | 50/164 [04:08<09:28,  4.99s/it]"
     ]
    },
    {
     "name": "stdout",
     "output_type": "stream",
     "text": [
      "Applying mask to /home/minyoungxi/MINYOUNGXI/XFL/Data/OASIS_MNI_to_TRs/volume_50.nii.gz\n",
      "Running FLIRT on /home/minyoungxi/MINYOUNGXI/XFL/Data/OASIS_MNI_to_TRs/masked_volume_50.nii.gz\n"
     ]
    },
    {
     "name": "stderr",
     "output_type": "stream",
     "text": [
      "Processing volumes for subject 30064:  31%|███       | 51/164 [04:13<09:23,  4.98s/it]"
     ]
    },
    {
     "name": "stdout",
     "output_type": "stream",
     "text": [
      "Applying mask to /home/minyoungxi/MINYOUNGXI/XFL/Data/OASIS_MNI_to_TRs/volume_51.nii.gz\n",
      "Running FLIRT on /home/minyoungxi/MINYOUNGXI/XFL/Data/OASIS_MNI_to_TRs/masked_volume_51.nii.gz\n"
     ]
    },
    {
     "name": "stderr",
     "output_type": "stream",
     "text": [
      "Processing volumes for subject 30064:  32%|███▏      | 52/164 [04:18<09:17,  4.97s/it]"
     ]
    },
    {
     "name": "stdout",
     "output_type": "stream",
     "text": [
      "Applying mask to /home/minyoungxi/MINYOUNGXI/XFL/Data/OASIS_MNI_to_TRs/volume_52.nii.gz\n",
      "Running FLIRT on /home/minyoungxi/MINYOUNGXI/XFL/Data/OASIS_MNI_to_TRs/masked_volume_52.nii.gz\n"
     ]
    },
    {
     "name": "stderr",
     "output_type": "stream",
     "text": [
      "Processing volumes for subject 30064:  32%|███▏      | 53/164 [04:23<09:10,  4.96s/it]"
     ]
    },
    {
     "name": "stdout",
     "output_type": "stream",
     "text": [
      "Applying mask to /home/minyoungxi/MINYOUNGXI/XFL/Data/OASIS_MNI_to_TRs/volume_53.nii.gz\n",
      "Running FLIRT on /home/minyoungxi/MINYOUNGXI/XFL/Data/OASIS_MNI_to_TRs/masked_volume_53.nii.gz\n"
     ]
    },
    {
     "name": "stderr",
     "output_type": "stream",
     "text": [
      "Processing volumes for subject 30064:  33%|███▎      | 54/164 [04:28<09:06,  4.96s/it]"
     ]
    },
    {
     "name": "stdout",
     "output_type": "stream",
     "text": [
      "Applying mask to /home/minyoungxi/MINYOUNGXI/XFL/Data/OASIS_MNI_to_TRs/volume_54.nii.gz\n",
      "Running FLIRT on /home/minyoungxi/MINYOUNGXI/XFL/Data/OASIS_MNI_to_TRs/masked_volume_54.nii.gz\n"
     ]
    },
    {
     "name": "stderr",
     "output_type": "stream",
     "text": [
      "Processing volumes for subject 30064:  34%|███▎      | 55/164 [04:33<09:00,  4.96s/it]"
     ]
    },
    {
     "name": "stdout",
     "output_type": "stream",
     "text": [
      "Applying mask to /home/minyoungxi/MINYOUNGXI/XFL/Data/OASIS_MNI_to_TRs/volume_55.nii.gz\n",
      "Running FLIRT on /home/minyoungxi/MINYOUNGXI/XFL/Data/OASIS_MNI_to_TRs/masked_volume_55.nii.gz\n"
     ]
    },
    {
     "name": "stderr",
     "output_type": "stream",
     "text": [
      "Processing volumes for subject 30064:  34%|███▍      | 56/164 [04:38<08:55,  4.96s/it]"
     ]
    },
    {
     "name": "stdout",
     "output_type": "stream",
     "text": [
      "Applying mask to /home/minyoungxi/MINYOUNGXI/XFL/Data/OASIS_MNI_to_TRs/volume_56.nii.gz\n",
      "Running FLIRT on /home/minyoungxi/MINYOUNGXI/XFL/Data/OASIS_MNI_to_TRs/masked_volume_56.nii.gz\n"
     ]
    },
    {
     "name": "stderr",
     "output_type": "stream",
     "text": [
      "Processing volumes for subject 30064:  35%|███▍      | 57/164 [04:43<08:51,  4.96s/it]"
     ]
    },
    {
     "name": "stdout",
     "output_type": "stream",
     "text": [
      "Applying mask to /home/minyoungxi/MINYOUNGXI/XFL/Data/OASIS_MNI_to_TRs/volume_57.nii.gz\n",
      "Running FLIRT on /home/minyoungxi/MINYOUNGXI/XFL/Data/OASIS_MNI_to_TRs/masked_volume_57.nii.gz\n"
     ]
    },
    {
     "name": "stderr",
     "output_type": "stream",
     "text": [
      "Processing volumes for subject 30064:  35%|███▌      | 58/164 [04:48<08:48,  4.98s/it]"
     ]
    },
    {
     "name": "stdout",
     "output_type": "stream",
     "text": [
      "Applying mask to /home/minyoungxi/MINYOUNGXI/XFL/Data/OASIS_MNI_to_TRs/volume_58.nii.gz\n",
      "Running FLIRT on /home/minyoungxi/MINYOUNGXI/XFL/Data/OASIS_MNI_to_TRs/masked_volume_58.nii.gz\n"
     ]
    },
    {
     "name": "stderr",
     "output_type": "stream",
     "text": [
      "Processing volumes for subject 30064:  36%|███▌      | 59/164 [04:53<08:42,  4.98s/it]"
     ]
    },
    {
     "name": "stdout",
     "output_type": "stream",
     "text": [
      "Applying mask to /home/minyoungxi/MINYOUNGXI/XFL/Data/OASIS_MNI_to_TRs/volume_59.nii.gz\n",
      "Running FLIRT on /home/minyoungxi/MINYOUNGXI/XFL/Data/OASIS_MNI_to_TRs/masked_volume_59.nii.gz\n"
     ]
    },
    {
     "name": "stderr",
     "output_type": "stream",
     "text": [
      "Processing volumes for subject 30064:  37%|███▋      | 60/164 [04:58<08:37,  4.97s/it]"
     ]
    },
    {
     "name": "stdout",
     "output_type": "stream",
     "text": [
      "Applying mask to /home/minyoungxi/MINYOUNGXI/XFL/Data/OASIS_MNI_to_TRs/volume_60.nii.gz\n",
      "Running FLIRT on /home/minyoungxi/MINYOUNGXI/XFL/Data/OASIS_MNI_to_TRs/masked_volume_60.nii.gz\n"
     ]
    },
    {
     "name": "stderr",
     "output_type": "stream",
     "text": [
      "Processing volumes for subject 30064:  37%|███▋      | 61/164 [05:03<08:31,  4.97s/it]"
     ]
    },
    {
     "name": "stdout",
     "output_type": "stream",
     "text": [
      "Applying mask to /home/minyoungxi/MINYOUNGXI/XFL/Data/OASIS_MNI_to_TRs/volume_61.nii.gz\n",
      "Running FLIRT on /home/minyoungxi/MINYOUNGXI/XFL/Data/OASIS_MNI_to_TRs/masked_volume_61.nii.gz\n"
     ]
    },
    {
     "name": "stderr",
     "output_type": "stream",
     "text": [
      "Processing volumes for subject 30064:  38%|███▊      | 62/164 [05:08<08:27,  4.97s/it]"
     ]
    },
    {
     "name": "stdout",
     "output_type": "stream",
     "text": [
      "Applying mask to /home/minyoungxi/MINYOUNGXI/XFL/Data/OASIS_MNI_to_TRs/volume_62.nii.gz\n",
      "Running FLIRT on /home/minyoungxi/MINYOUNGXI/XFL/Data/OASIS_MNI_to_TRs/masked_volume_62.nii.gz\n"
     ]
    },
    {
     "name": "stderr",
     "output_type": "stream",
     "text": [
      "Processing volumes for subject 30064:  38%|███▊      | 63/164 [05:13<08:21,  4.96s/it]"
     ]
    },
    {
     "name": "stdout",
     "output_type": "stream",
     "text": [
      "Applying mask to /home/minyoungxi/MINYOUNGXI/XFL/Data/OASIS_MNI_to_TRs/volume_63.nii.gz\n",
      "Running FLIRT on /home/minyoungxi/MINYOUNGXI/XFL/Data/OASIS_MNI_to_TRs/masked_volume_63.nii.gz\n"
     ]
    },
    {
     "name": "stderr",
     "output_type": "stream",
     "text": [
      "Processing volumes for subject 30064:  39%|███▉      | 64/164 [05:18<08:18,  4.98s/it]"
     ]
    },
    {
     "name": "stdout",
     "output_type": "stream",
     "text": [
      "Applying mask to /home/minyoungxi/MINYOUNGXI/XFL/Data/OASIS_MNI_to_TRs/volume_64.nii.gz\n",
      "Running FLIRT on /home/minyoungxi/MINYOUNGXI/XFL/Data/OASIS_MNI_to_TRs/masked_volume_64.nii.gz\n"
     ]
    },
    {
     "name": "stderr",
     "output_type": "stream",
     "text": [
      "Processing volumes for subject 30064:  40%|███▉      | 65/164 [05:23<08:13,  4.99s/it]"
     ]
    },
    {
     "name": "stdout",
     "output_type": "stream",
     "text": [
      "Applying mask to /home/minyoungxi/MINYOUNGXI/XFL/Data/OASIS_MNI_to_TRs/volume_65.nii.gz\n",
      "Running FLIRT on /home/minyoungxi/MINYOUNGXI/XFL/Data/OASIS_MNI_to_TRs/masked_volume_65.nii.gz\n"
     ]
    },
    {
     "name": "stderr",
     "output_type": "stream",
     "text": [
      "Processing volumes for subject 30064:  40%|████      | 66/164 [05:28<08:08,  4.99s/it]"
     ]
    },
    {
     "name": "stdout",
     "output_type": "stream",
     "text": [
      "Applying mask to /home/minyoungxi/MINYOUNGXI/XFL/Data/OASIS_MNI_to_TRs/volume_66.nii.gz\n",
      "Running FLIRT on /home/minyoungxi/MINYOUNGXI/XFL/Data/OASIS_MNI_to_TRs/masked_volume_66.nii.gz\n"
     ]
    },
    {
     "name": "stderr",
     "output_type": "stream",
     "text": [
      "Processing volumes for subject 30064:  41%|████      | 67/164 [05:33<08:04,  4.99s/it]"
     ]
    },
    {
     "name": "stdout",
     "output_type": "stream",
     "text": [
      "Applying mask to /home/minyoungxi/MINYOUNGXI/XFL/Data/OASIS_MNI_to_TRs/volume_67.nii.gz\n",
      "Running FLIRT on /home/minyoungxi/MINYOUNGXI/XFL/Data/OASIS_MNI_to_TRs/masked_volume_67.nii.gz\n"
     ]
    },
    {
     "name": "stderr",
     "output_type": "stream",
     "text": [
      "Processing volumes for subject 30064:  41%|████▏     | 68/164 [05:38<07:58,  4.99s/it]"
     ]
    },
    {
     "name": "stdout",
     "output_type": "stream",
     "text": [
      "Applying mask to /home/minyoungxi/MINYOUNGXI/XFL/Data/OASIS_MNI_to_TRs/volume_68.nii.gz\n",
      "Running FLIRT on /home/minyoungxi/MINYOUNGXI/XFL/Data/OASIS_MNI_to_TRs/masked_volume_68.nii.gz\n"
     ]
    },
    {
     "name": "stderr",
     "output_type": "stream",
     "text": [
      "Processing volumes for subject 30064:  42%|████▏     | 69/164 [05:43<07:52,  4.97s/it]"
     ]
    },
    {
     "name": "stdout",
     "output_type": "stream",
     "text": [
      "Applying mask to /home/minyoungxi/MINYOUNGXI/XFL/Data/OASIS_MNI_to_TRs/volume_69.nii.gz\n",
      "Running FLIRT on /home/minyoungxi/MINYOUNGXI/XFL/Data/OASIS_MNI_to_TRs/masked_volume_69.nii.gz\n"
     ]
    },
    {
     "name": "stderr",
     "output_type": "stream",
     "text": [
      "Processing volumes for subject 30064:  43%|████▎     | 70/164 [05:48<07:47,  4.97s/it]"
     ]
    },
    {
     "name": "stdout",
     "output_type": "stream",
     "text": [
      "Applying mask to /home/minyoungxi/MINYOUNGXI/XFL/Data/OASIS_MNI_to_TRs/volume_70.nii.gz\n",
      "Running FLIRT on /home/minyoungxi/MINYOUNGXI/XFL/Data/OASIS_MNI_to_TRs/masked_volume_70.nii.gz\n"
     ]
    },
    {
     "name": "stderr",
     "output_type": "stream",
     "text": [
      "Processing volumes for subject 30064:  43%|████▎     | 71/164 [05:53<07:41,  4.97s/it]"
     ]
    },
    {
     "name": "stdout",
     "output_type": "stream",
     "text": [
      "Applying mask to /home/minyoungxi/MINYOUNGXI/XFL/Data/OASIS_MNI_to_TRs/volume_71.nii.gz\n",
      "Running FLIRT on /home/minyoungxi/MINYOUNGXI/XFL/Data/OASIS_MNI_to_TRs/masked_volume_71.nii.gz\n"
     ]
    },
    {
     "name": "stderr",
     "output_type": "stream",
     "text": [
      "Processing volumes for subject 30064:  44%|████▍     | 72/164 [05:58<07:36,  4.96s/it]"
     ]
    },
    {
     "name": "stdout",
     "output_type": "stream",
     "text": [
      "Applying mask to /home/minyoungxi/MINYOUNGXI/XFL/Data/OASIS_MNI_to_TRs/volume_72.nii.gz\n",
      "Running FLIRT on /home/minyoungxi/MINYOUNGXI/XFL/Data/OASIS_MNI_to_TRs/masked_volume_72.nii.gz\n"
     ]
    },
    {
     "name": "stderr",
     "output_type": "stream",
     "text": [
      "Processing volumes for subject 30064:  45%|████▍     | 73/164 [06:03<07:30,  4.95s/it]"
     ]
    },
    {
     "name": "stdout",
     "output_type": "stream",
     "text": [
      "Applying mask to /home/minyoungxi/MINYOUNGXI/XFL/Data/OASIS_MNI_to_TRs/volume_73.nii.gz\n",
      "Running FLIRT on /home/minyoungxi/MINYOUNGXI/XFL/Data/OASIS_MNI_to_TRs/masked_volume_73.nii.gz\n"
     ]
    },
    {
     "name": "stderr",
     "output_type": "stream",
     "text": [
      "Processing volumes for subject 30064:  45%|████▌     | 74/164 [06:08<07:26,  4.96s/it]"
     ]
    },
    {
     "name": "stdout",
     "output_type": "stream",
     "text": [
      "Applying mask to /home/minyoungxi/MINYOUNGXI/XFL/Data/OASIS_MNI_to_TRs/volume_74.nii.gz\n",
      "Running FLIRT on /home/minyoungxi/MINYOUNGXI/XFL/Data/OASIS_MNI_to_TRs/masked_volume_74.nii.gz\n"
     ]
    },
    {
     "name": "stderr",
     "output_type": "stream",
     "text": [
      "Processing volumes for subject 30064:  46%|████▌     | 75/164 [06:13<07:21,  4.96s/it]"
     ]
    },
    {
     "name": "stdout",
     "output_type": "stream",
     "text": [
      "Applying mask to /home/minyoungxi/MINYOUNGXI/XFL/Data/OASIS_MNI_to_TRs/volume_75.nii.gz\n",
      "Running FLIRT on /home/minyoungxi/MINYOUNGXI/XFL/Data/OASIS_MNI_to_TRs/masked_volume_75.nii.gz\n"
     ]
    },
    {
     "name": "stderr",
     "output_type": "stream",
     "text": [
      "Processing volumes for subject 30064:  46%|████▋     | 76/164 [06:18<07:16,  4.96s/it]"
     ]
    },
    {
     "name": "stdout",
     "output_type": "stream",
     "text": [
      "Applying mask to /home/minyoungxi/MINYOUNGXI/XFL/Data/OASIS_MNI_to_TRs/volume_76.nii.gz\n",
      "Running FLIRT on /home/minyoungxi/MINYOUNGXI/XFL/Data/OASIS_MNI_to_TRs/masked_volume_76.nii.gz\n"
     ]
    },
    {
     "name": "stderr",
     "output_type": "stream",
     "text": [
      "Processing volumes for subject 30064:  47%|████▋     | 77/164 [06:22<07:10,  4.95s/it]"
     ]
    },
    {
     "name": "stdout",
     "output_type": "stream",
     "text": [
      "Applying mask to /home/minyoungxi/MINYOUNGXI/XFL/Data/OASIS_MNI_to_TRs/volume_77.nii.gz\n",
      "Running FLIRT on /home/minyoungxi/MINYOUNGXI/XFL/Data/OASIS_MNI_to_TRs/masked_volume_77.nii.gz\n"
     ]
    },
    {
     "name": "stderr",
     "output_type": "stream",
     "text": [
      "Processing volumes for subject 30064:  48%|████▊     | 78/164 [06:27<07:05,  4.95s/it]"
     ]
    },
    {
     "name": "stdout",
     "output_type": "stream",
     "text": [
      "Applying mask to /home/minyoungxi/MINYOUNGXI/XFL/Data/OASIS_MNI_to_TRs/volume_78.nii.gz\n",
      "Running FLIRT on /home/minyoungxi/MINYOUNGXI/XFL/Data/OASIS_MNI_to_TRs/masked_volume_78.nii.gz\n"
     ]
    },
    {
     "name": "stderr",
     "output_type": "stream",
     "text": [
      "Processing volumes for subject 30064:  48%|████▊     | 79/164 [06:32<07:02,  4.97s/it]"
     ]
    },
    {
     "name": "stdout",
     "output_type": "stream",
     "text": [
      "Applying mask to /home/minyoungxi/MINYOUNGXI/XFL/Data/OASIS_MNI_to_TRs/volume_79.nii.gz\n",
      "Running FLIRT on /home/minyoungxi/MINYOUNGXI/XFL/Data/OASIS_MNI_to_TRs/masked_volume_79.nii.gz\n"
     ]
    },
    {
     "name": "stderr",
     "output_type": "stream",
     "text": [
      "Processing volumes for subject 30064:  49%|████▉     | 80/164 [06:37<06:57,  4.97s/it]"
     ]
    },
    {
     "name": "stdout",
     "output_type": "stream",
     "text": [
      "Applying mask to /home/minyoungxi/MINYOUNGXI/XFL/Data/OASIS_MNI_to_TRs/volume_80.nii.gz\n",
      "Running FLIRT on /home/minyoungxi/MINYOUNGXI/XFL/Data/OASIS_MNI_to_TRs/masked_volume_80.nii.gz\n"
     ]
    },
    {
     "name": "stderr",
     "output_type": "stream",
     "text": [
      "Processing volumes for subject 30064:  49%|████▉     | 81/164 [06:42<06:52,  4.97s/it]"
     ]
    },
    {
     "name": "stdout",
     "output_type": "stream",
     "text": [
      "Applying mask to /home/minyoungxi/MINYOUNGXI/XFL/Data/OASIS_MNI_to_TRs/volume_81.nii.gz\n",
      "Running FLIRT on /home/minyoungxi/MINYOUNGXI/XFL/Data/OASIS_MNI_to_TRs/masked_volume_81.nii.gz\n"
     ]
    },
    {
     "name": "stderr",
     "output_type": "stream",
     "text": [
      "Processing volumes for subject 30064:  50%|█████     | 82/164 [06:47<06:46,  4.96s/it]"
     ]
    },
    {
     "name": "stdout",
     "output_type": "stream",
     "text": [
      "Applying mask to /home/minyoungxi/MINYOUNGXI/XFL/Data/OASIS_MNI_to_TRs/volume_82.nii.gz\n",
      "Running FLIRT on /home/minyoungxi/MINYOUNGXI/XFL/Data/OASIS_MNI_to_TRs/masked_volume_82.nii.gz\n"
     ]
    },
    {
     "name": "stderr",
     "output_type": "stream",
     "text": [
      "Processing volumes for subject 30064:  51%|█████     | 83/164 [06:52<06:42,  4.96s/it]"
     ]
    },
    {
     "name": "stdout",
     "output_type": "stream",
     "text": [
      "Applying mask to /home/minyoungxi/MINYOUNGXI/XFL/Data/OASIS_MNI_to_TRs/volume_83.nii.gz\n",
      "Running FLIRT on /home/minyoungxi/MINYOUNGXI/XFL/Data/OASIS_MNI_to_TRs/masked_volume_83.nii.gz\n"
     ]
    },
    {
     "name": "stderr",
     "output_type": "stream",
     "text": [
      "Processing volumes for subject 30064:  51%|█████     | 84/164 [06:57<06:36,  4.96s/it]"
     ]
    },
    {
     "name": "stdout",
     "output_type": "stream",
     "text": [
      "Applying mask to /home/minyoungxi/MINYOUNGXI/XFL/Data/OASIS_MNI_to_TRs/volume_84.nii.gz\n",
      "Running FLIRT on /home/minyoungxi/MINYOUNGXI/XFL/Data/OASIS_MNI_to_TRs/masked_volume_84.nii.gz\n"
     ]
    },
    {
     "name": "stderr",
     "output_type": "stream",
     "text": [
      "Processing volumes for subject 30064:  52%|█████▏    | 85/164 [07:02<06:30,  4.95s/it]"
     ]
    },
    {
     "name": "stdout",
     "output_type": "stream",
     "text": [
      "Applying mask to /home/minyoungxi/MINYOUNGXI/XFL/Data/OASIS_MNI_to_TRs/volume_85.nii.gz\n",
      "Running FLIRT on /home/minyoungxi/MINYOUNGXI/XFL/Data/OASIS_MNI_to_TRs/masked_volume_85.nii.gz\n"
     ]
    },
    {
     "name": "stderr",
     "output_type": "stream",
     "text": [
      "Processing volumes for subject 30064:  52%|█████▏    | 86/164 [07:07<06:25,  4.95s/it]"
     ]
    },
    {
     "name": "stdout",
     "output_type": "stream",
     "text": [
      "Applying mask to /home/minyoungxi/MINYOUNGXI/XFL/Data/OASIS_MNI_to_TRs/volume_86.nii.gz\n",
      "Running FLIRT on /home/minyoungxi/MINYOUNGXI/XFL/Data/OASIS_MNI_to_TRs/masked_volume_86.nii.gz\n"
     ]
    },
    {
     "name": "stderr",
     "output_type": "stream",
     "text": [
      "Processing volumes for subject 30064:  53%|█████▎    | 87/164 [07:12<06:20,  4.94s/it]"
     ]
    },
    {
     "name": "stdout",
     "output_type": "stream",
     "text": [
      "Applying mask to /home/minyoungxi/MINYOUNGXI/XFL/Data/OASIS_MNI_to_TRs/volume_87.nii.gz\n",
      "Running FLIRT on /home/minyoungxi/MINYOUNGXI/XFL/Data/OASIS_MNI_to_TRs/masked_volume_87.nii.gz\n"
     ]
    },
    {
     "name": "stderr",
     "output_type": "stream",
     "text": [
      "Processing volumes for subject 30064:  54%|█████▎    | 88/164 [07:17<06:15,  4.94s/it]"
     ]
    },
    {
     "name": "stdout",
     "output_type": "stream",
     "text": [
      "Applying mask to /home/minyoungxi/MINYOUNGXI/XFL/Data/OASIS_MNI_to_TRs/volume_88.nii.gz\n",
      "Running FLIRT on /home/minyoungxi/MINYOUNGXI/XFL/Data/OASIS_MNI_to_TRs/masked_volume_88.nii.gz\n"
     ]
    },
    {
     "name": "stderr",
     "output_type": "stream",
     "text": [
      "Processing volumes for subject 30064:  54%|█████▍    | 89/164 [07:22<06:10,  4.94s/it]"
     ]
    },
    {
     "name": "stdout",
     "output_type": "stream",
     "text": [
      "Applying mask to /home/minyoungxi/MINYOUNGXI/XFL/Data/OASIS_MNI_to_TRs/volume_89.nii.gz\n",
      "Running FLIRT on /home/minyoungxi/MINYOUNGXI/XFL/Data/OASIS_MNI_to_TRs/masked_volume_89.nii.gz\n"
     ]
    },
    {
     "name": "stderr",
     "output_type": "stream",
     "text": [
      "Processing volumes for subject 30064:  55%|█████▍    | 90/164 [07:27<06:05,  4.94s/it]"
     ]
    },
    {
     "name": "stdout",
     "output_type": "stream",
     "text": [
      "Applying mask to /home/minyoungxi/MINYOUNGXI/XFL/Data/OASIS_MNI_to_TRs/volume_90.nii.gz\n",
      "Running FLIRT on /home/minyoungxi/MINYOUNGXI/XFL/Data/OASIS_MNI_to_TRs/masked_volume_90.nii.gz\n"
     ]
    },
    {
     "name": "stderr",
     "output_type": "stream",
     "text": [
      "Processing volumes for subject 30064:  55%|█████▌    | 91/164 [07:32<06:00,  4.94s/it]"
     ]
    },
    {
     "name": "stdout",
     "output_type": "stream",
     "text": [
      "Applying mask to /home/minyoungxi/MINYOUNGXI/XFL/Data/OASIS_MNI_to_TRs/volume_91.nii.gz\n",
      "Running FLIRT on /home/minyoungxi/MINYOUNGXI/XFL/Data/OASIS_MNI_to_TRs/masked_volume_91.nii.gz\n"
     ]
    },
    {
     "name": "stderr",
     "output_type": "stream",
     "text": [
      "Processing volumes for subject 30064:  56%|█████▌    | 92/164 [07:37<05:56,  4.95s/it]"
     ]
    },
    {
     "name": "stdout",
     "output_type": "stream",
     "text": [
      "Applying mask to /home/minyoungxi/MINYOUNGXI/XFL/Data/OASIS_MNI_to_TRs/volume_92.nii.gz\n",
      "Running FLIRT on /home/minyoungxi/MINYOUNGXI/XFL/Data/OASIS_MNI_to_TRs/masked_volume_92.nii.gz\n"
     ]
    },
    {
     "name": "stderr",
     "output_type": "stream",
     "text": [
      "Processing volumes for subject 30064:  57%|█████▋    | 93/164 [07:42<05:50,  4.94s/it]"
     ]
    },
    {
     "name": "stdout",
     "output_type": "stream",
     "text": [
      "Applying mask to /home/minyoungxi/MINYOUNGXI/XFL/Data/OASIS_MNI_to_TRs/volume_93.nii.gz\n",
      "Running FLIRT on /home/minyoungxi/MINYOUNGXI/XFL/Data/OASIS_MNI_to_TRs/masked_volume_93.nii.gz\n"
     ]
    },
    {
     "name": "stderr",
     "output_type": "stream",
     "text": [
      "Processing volumes for subject 30064:  57%|█████▋    | 94/164 [07:47<05:45,  4.93s/it]"
     ]
    },
    {
     "name": "stdout",
     "output_type": "stream",
     "text": [
      "Applying mask to /home/minyoungxi/MINYOUNGXI/XFL/Data/OASIS_MNI_to_TRs/volume_94.nii.gz\n",
      "Running FLIRT on /home/minyoungxi/MINYOUNGXI/XFL/Data/OASIS_MNI_to_TRs/masked_volume_94.nii.gz\n"
     ]
    },
    {
     "name": "stderr",
     "output_type": "stream",
     "text": [
      "Processing volumes for subject 30064:  58%|█████▊    | 95/164 [07:52<05:41,  4.95s/it]"
     ]
    },
    {
     "name": "stdout",
     "output_type": "stream",
     "text": [
      "Applying mask to /home/minyoungxi/MINYOUNGXI/XFL/Data/OASIS_MNI_to_TRs/volume_95.nii.gz\n",
      "Running FLIRT on /home/minyoungxi/MINYOUNGXI/XFL/Data/OASIS_MNI_to_TRs/masked_volume_95.nii.gz\n"
     ]
    },
    {
     "name": "stderr",
     "output_type": "stream",
     "text": [
      "Processing volumes for subject 30064:  59%|█████▊    | 96/164 [07:57<05:36,  4.95s/it]"
     ]
    },
    {
     "name": "stdout",
     "output_type": "stream",
     "text": [
      "Applying mask to /home/minyoungxi/MINYOUNGXI/XFL/Data/OASIS_MNI_to_TRs/volume_96.nii.gz\n",
      "Running FLIRT on /home/minyoungxi/MINYOUNGXI/XFL/Data/OASIS_MNI_to_TRs/masked_volume_96.nii.gz\n"
     ]
    },
    {
     "name": "stderr",
     "output_type": "stream",
     "text": [
      "Processing volumes for subject 30064:  59%|█████▉    | 97/164 [08:02<05:32,  4.97s/it]"
     ]
    },
    {
     "name": "stdout",
     "output_type": "stream",
     "text": [
      "Applying mask to /home/minyoungxi/MINYOUNGXI/XFL/Data/OASIS_MNI_to_TRs/volume_97.nii.gz\n",
      "Running FLIRT on /home/minyoungxi/MINYOUNGXI/XFL/Data/OASIS_MNI_to_TRs/masked_volume_97.nii.gz\n"
     ]
    },
    {
     "name": "stderr",
     "output_type": "stream",
     "text": [
      "Processing volumes for subject 30064:  60%|█████▉    | 98/164 [08:07<05:27,  4.96s/it]"
     ]
    },
    {
     "name": "stdout",
     "output_type": "stream",
     "text": [
      "Applying mask to /home/minyoungxi/MINYOUNGXI/XFL/Data/OASIS_MNI_to_TRs/volume_98.nii.gz\n",
      "Running FLIRT on /home/minyoungxi/MINYOUNGXI/XFL/Data/OASIS_MNI_to_TRs/masked_volume_98.nii.gz\n"
     ]
    },
    {
     "name": "stderr",
     "output_type": "stream",
     "text": [
      "Processing volumes for subject 30064:  60%|██████    | 99/164 [08:11<05:21,  4.95s/it]"
     ]
    },
    {
     "name": "stdout",
     "output_type": "stream",
     "text": [
      "Applying mask to /home/minyoungxi/MINYOUNGXI/XFL/Data/OASIS_MNI_to_TRs/volume_99.nii.gz\n",
      "Running FLIRT on /home/minyoungxi/MINYOUNGXI/XFL/Data/OASIS_MNI_to_TRs/masked_volume_99.nii.gz\n"
     ]
    },
    {
     "name": "stderr",
     "output_type": "stream",
     "text": [
      "Processing volumes for subject 30064:  61%|██████    | 100/164 [08:16<05:17,  4.96s/it]"
     ]
    },
    {
     "name": "stdout",
     "output_type": "stream",
     "text": [
      "Applying mask to /home/minyoungxi/MINYOUNGXI/XFL/Data/OASIS_MNI_to_TRs/volume_100.nii.gz\n",
      "Running FLIRT on /home/minyoungxi/MINYOUNGXI/XFL/Data/OASIS_MNI_to_TRs/masked_volume_100.nii.gz\n"
     ]
    },
    {
     "name": "stderr",
     "output_type": "stream",
     "text": [
      "Processing volumes for subject 30064:  62%|██████▏   | 101/164 [08:21<05:14,  4.99s/it]"
     ]
    },
    {
     "name": "stdout",
     "output_type": "stream",
     "text": [
      "Applying mask to /home/minyoungxi/MINYOUNGXI/XFL/Data/OASIS_MNI_to_TRs/volume_101.nii.gz\n",
      "Running FLIRT on /home/minyoungxi/MINYOUNGXI/XFL/Data/OASIS_MNI_to_TRs/masked_volume_101.nii.gz\n"
     ]
    },
    {
     "name": "stderr",
     "output_type": "stream",
     "text": [
      "Processing volumes for subject 30064:  62%|██████▏   | 102/164 [08:26<05:07,  4.97s/it]"
     ]
    },
    {
     "name": "stdout",
     "output_type": "stream",
     "text": [
      "Applying mask to /home/minyoungxi/MINYOUNGXI/XFL/Data/OASIS_MNI_to_TRs/volume_102.nii.gz\n",
      "Running FLIRT on /home/minyoungxi/MINYOUNGXI/XFL/Data/OASIS_MNI_to_TRs/masked_volume_102.nii.gz\n"
     ]
    },
    {
     "name": "stderr",
     "output_type": "stream",
     "text": [
      "Processing volumes for subject 30064:  63%|██████▎   | 103/164 [08:31<05:04,  4.99s/it]"
     ]
    },
    {
     "name": "stdout",
     "output_type": "stream",
     "text": [
      "Applying mask to /home/minyoungxi/MINYOUNGXI/XFL/Data/OASIS_MNI_to_TRs/volume_103.nii.gz\n",
      "Running FLIRT on /home/minyoungxi/MINYOUNGXI/XFL/Data/OASIS_MNI_to_TRs/masked_volume_103.nii.gz\n"
     ]
    },
    {
     "name": "stderr",
     "output_type": "stream",
     "text": [
      "Processing volumes for subject 30064:  63%|██████▎   | 104/164 [08:36<04:58,  4.97s/it]"
     ]
    },
    {
     "name": "stdout",
     "output_type": "stream",
     "text": [
      "Applying mask to /home/minyoungxi/MINYOUNGXI/XFL/Data/OASIS_MNI_to_TRs/volume_104.nii.gz\n",
      "Running FLIRT on /home/minyoungxi/MINYOUNGXI/XFL/Data/OASIS_MNI_to_TRs/masked_volume_104.nii.gz\n"
     ]
    },
    {
     "name": "stderr",
     "output_type": "stream",
     "text": [
      "Processing volumes for subject 30064:  64%|██████▍   | 105/164 [08:41<04:53,  4.98s/it]"
     ]
    },
    {
     "name": "stdout",
     "output_type": "stream",
     "text": [
      "Applying mask to /home/minyoungxi/MINYOUNGXI/XFL/Data/OASIS_MNI_to_TRs/volume_105.nii.gz\n",
      "Running FLIRT on /home/minyoungxi/MINYOUNGXI/XFL/Data/OASIS_MNI_to_TRs/masked_volume_105.nii.gz\n"
     ]
    },
    {
     "name": "stderr",
     "output_type": "stream",
     "text": [
      "Processing volumes for subject 30064:  65%|██████▍   | 106/164 [08:46<04:48,  4.97s/it]"
     ]
    },
    {
     "name": "stdout",
     "output_type": "stream",
     "text": [
      "Applying mask to /home/minyoungxi/MINYOUNGXI/XFL/Data/OASIS_MNI_to_TRs/volume_106.nii.gz\n",
      "Running FLIRT on /home/minyoungxi/MINYOUNGXI/XFL/Data/OASIS_MNI_to_TRs/masked_volume_106.nii.gz\n"
     ]
    },
    {
     "name": "stderr",
     "output_type": "stream",
     "text": [
      "Processing volumes for subject 30064:  65%|██████▌   | 107/164 [08:51<04:42,  4.96s/it]"
     ]
    },
    {
     "name": "stdout",
     "output_type": "stream",
     "text": [
      "Applying mask to /home/minyoungxi/MINYOUNGXI/XFL/Data/OASIS_MNI_to_TRs/volume_107.nii.gz\n",
      "Running FLIRT on /home/minyoungxi/MINYOUNGXI/XFL/Data/OASIS_MNI_to_TRs/masked_volume_107.nii.gz\n"
     ]
    },
    {
     "name": "stderr",
     "output_type": "stream",
     "text": [
      "Processing volumes for subject 30064:  66%|██████▌   | 108/164 [08:56<04:37,  4.96s/it]"
     ]
    },
    {
     "name": "stdout",
     "output_type": "stream",
     "text": [
      "Applying mask to /home/minyoungxi/MINYOUNGXI/XFL/Data/OASIS_MNI_to_TRs/volume_108.nii.gz\n",
      "Running FLIRT on /home/minyoungxi/MINYOUNGXI/XFL/Data/OASIS_MNI_to_TRs/masked_volume_108.nii.gz\n"
     ]
    },
    {
     "name": "stderr",
     "output_type": "stream",
     "text": [
      "Processing volumes for subject 30064:  66%|██████▋   | 109/164 [09:01<04:32,  4.96s/it]"
     ]
    },
    {
     "name": "stdout",
     "output_type": "stream",
     "text": [
      "Applying mask to /home/minyoungxi/MINYOUNGXI/XFL/Data/OASIS_MNI_to_TRs/volume_109.nii.gz\n",
      "Running FLIRT on /home/minyoungxi/MINYOUNGXI/XFL/Data/OASIS_MNI_to_TRs/masked_volume_109.nii.gz\n"
     ]
    },
    {
     "name": "stderr",
     "output_type": "stream",
     "text": [
      "Processing volumes for subject 30064:  67%|██████▋   | 110/164 [09:06<04:28,  4.97s/it]"
     ]
    },
    {
     "name": "stdout",
     "output_type": "stream",
     "text": [
      "Applying mask to /home/minyoungxi/MINYOUNGXI/XFL/Data/OASIS_MNI_to_TRs/volume_110.nii.gz\n",
      "Running FLIRT on /home/minyoungxi/MINYOUNGXI/XFL/Data/OASIS_MNI_to_TRs/masked_volume_110.nii.gz\n"
     ]
    },
    {
     "name": "stderr",
     "output_type": "stream",
     "text": [
      "Processing volumes for subject 30064:  68%|██████▊   | 111/164 [09:11<04:22,  4.96s/it]"
     ]
    },
    {
     "name": "stdout",
     "output_type": "stream",
     "text": [
      "Applying mask to /home/minyoungxi/MINYOUNGXI/XFL/Data/OASIS_MNI_to_TRs/volume_111.nii.gz\n",
      "Running FLIRT on /home/minyoungxi/MINYOUNGXI/XFL/Data/OASIS_MNI_to_TRs/masked_volume_111.nii.gz\n"
     ]
    },
    {
     "name": "stderr",
     "output_type": "stream",
     "text": [
      "Processing volumes for subject 30064:  68%|██████▊   | 112/164 [09:16<04:17,  4.96s/it]"
     ]
    },
    {
     "name": "stdout",
     "output_type": "stream",
     "text": [
      "Applying mask to /home/minyoungxi/MINYOUNGXI/XFL/Data/OASIS_MNI_to_TRs/volume_112.nii.gz\n",
      "Running FLIRT on /home/minyoungxi/MINYOUNGXI/XFL/Data/OASIS_MNI_to_TRs/masked_volume_112.nii.gz\n"
     ]
    },
    {
     "name": "stderr",
     "output_type": "stream",
     "text": [
      "Processing volumes for subject 30064:  69%|██████▉   | 113/164 [09:21<04:13,  4.96s/it]"
     ]
    },
    {
     "name": "stdout",
     "output_type": "stream",
     "text": [
      "Applying mask to /home/minyoungxi/MINYOUNGXI/XFL/Data/OASIS_MNI_to_TRs/volume_113.nii.gz\n",
      "Running FLIRT on /home/minyoungxi/MINYOUNGXI/XFL/Data/OASIS_MNI_to_TRs/masked_volume_113.nii.gz\n"
     ]
    },
    {
     "name": "stderr",
     "output_type": "stream",
     "text": [
      "Processing volumes for subject 30064:  70%|██████▉   | 114/164 [09:26<04:08,  4.97s/it]"
     ]
    },
    {
     "name": "stdout",
     "output_type": "stream",
     "text": [
      "Applying mask to /home/minyoungxi/MINYOUNGXI/XFL/Data/OASIS_MNI_to_TRs/volume_114.nii.gz\n",
      "Running FLIRT on /home/minyoungxi/MINYOUNGXI/XFL/Data/OASIS_MNI_to_TRs/masked_volume_114.nii.gz\n"
     ]
    },
    {
     "name": "stderr",
     "output_type": "stream",
     "text": [
      "Processing volumes for subject 30064:  70%|███████   | 115/164 [09:31<04:03,  4.98s/it]"
     ]
    },
    {
     "name": "stdout",
     "output_type": "stream",
     "text": [
      "Applying mask to /home/minyoungxi/MINYOUNGXI/XFL/Data/OASIS_MNI_to_TRs/volume_115.nii.gz\n",
      "Running FLIRT on /home/minyoungxi/MINYOUNGXI/XFL/Data/OASIS_MNI_to_TRs/masked_volume_115.nii.gz\n"
     ]
    },
    {
     "name": "stderr",
     "output_type": "stream",
     "text": [
      "Processing volumes for subject 30064:  71%|███████   | 116/164 [09:36<04:00,  5.00s/it]"
     ]
    },
    {
     "name": "stdout",
     "output_type": "stream",
     "text": [
      "Applying mask to /home/minyoungxi/MINYOUNGXI/XFL/Data/OASIS_MNI_to_TRs/volume_116.nii.gz\n",
      "Running FLIRT on /home/minyoungxi/MINYOUNGXI/XFL/Data/OASIS_MNI_to_TRs/masked_volume_116.nii.gz\n"
     ]
    },
    {
     "name": "stderr",
     "output_type": "stream",
     "text": [
      "Processing volumes for subject 30064:  71%|███████▏  | 117/164 [09:41<03:54,  4.99s/it]"
     ]
    },
    {
     "name": "stdout",
     "output_type": "stream",
     "text": [
      "Applying mask to /home/minyoungxi/MINYOUNGXI/XFL/Data/OASIS_MNI_to_TRs/volume_117.nii.gz\n",
      "Running FLIRT on /home/minyoungxi/MINYOUNGXI/XFL/Data/OASIS_MNI_to_TRs/masked_volume_117.nii.gz\n"
     ]
    },
    {
     "name": "stderr",
     "output_type": "stream",
     "text": [
      "Processing volumes for subject 30064:  72%|███████▏  | 118/164 [09:46<03:49,  4.98s/it]"
     ]
    },
    {
     "name": "stdout",
     "output_type": "stream",
     "text": [
      "Applying mask to /home/minyoungxi/MINYOUNGXI/XFL/Data/OASIS_MNI_to_TRs/volume_118.nii.gz\n",
      "Running FLIRT on /home/minyoungxi/MINYOUNGXI/XFL/Data/OASIS_MNI_to_TRs/masked_volume_118.nii.gz\n"
     ]
    },
    {
     "name": "stderr",
     "output_type": "stream",
     "text": [
      "Processing volumes for subject 30064:  73%|███████▎  | 119/164 [09:51<03:45,  5.01s/it]"
     ]
    },
    {
     "name": "stdout",
     "output_type": "stream",
     "text": [
      "Applying mask to /home/minyoungxi/MINYOUNGXI/XFL/Data/OASIS_MNI_to_TRs/volume_119.nii.gz\n",
      "Running FLIRT on /home/minyoungxi/MINYOUNGXI/XFL/Data/OASIS_MNI_to_TRs/masked_volume_119.nii.gz\n"
     ]
    },
    {
     "name": "stderr",
     "output_type": "stream",
     "text": [
      "Processing volumes for subject 30064:  73%|███████▎  | 120/164 [09:56<03:40,  5.02s/it]"
     ]
    },
    {
     "name": "stdout",
     "output_type": "stream",
     "text": [
      "Applying mask to /home/minyoungxi/MINYOUNGXI/XFL/Data/OASIS_MNI_to_TRs/volume_120.nii.gz\n",
      "Running FLIRT on /home/minyoungxi/MINYOUNGXI/XFL/Data/OASIS_MNI_to_TRs/masked_volume_120.nii.gz\n"
     ]
    },
    {
     "name": "stderr",
     "output_type": "stream",
     "text": [
      "Processing volumes for subject 30064:  74%|███████▍  | 121/164 [10:01<03:36,  5.03s/it]"
     ]
    },
    {
     "name": "stdout",
     "output_type": "stream",
     "text": [
      "Applying mask to /home/minyoungxi/MINYOUNGXI/XFL/Data/OASIS_MNI_to_TRs/volume_121.nii.gz\n",
      "Running FLIRT on /home/minyoungxi/MINYOUNGXI/XFL/Data/OASIS_MNI_to_TRs/masked_volume_121.nii.gz\n"
     ]
    },
    {
     "name": "stderr",
     "output_type": "stream",
     "text": [
      "Processing volumes for subject 30064:  74%|███████▍  | 122/164 [10:06<03:31,  5.03s/it]"
     ]
    },
    {
     "name": "stdout",
     "output_type": "stream",
     "text": [
      "Applying mask to /home/minyoungxi/MINYOUNGXI/XFL/Data/OASIS_MNI_to_TRs/volume_122.nii.gz\n",
      "Running FLIRT on /home/minyoungxi/MINYOUNGXI/XFL/Data/OASIS_MNI_to_TRs/masked_volume_122.nii.gz\n"
     ]
    },
    {
     "name": "stderr",
     "output_type": "stream",
     "text": [
      "Processing volumes for subject 30064:  75%|███████▌  | 123/164 [10:11<03:26,  5.04s/it]"
     ]
    },
    {
     "name": "stdout",
     "output_type": "stream",
     "text": [
      "Applying mask to /home/minyoungxi/MINYOUNGXI/XFL/Data/OASIS_MNI_to_TRs/volume_123.nii.gz\n",
      "Running FLIRT on /home/minyoungxi/MINYOUNGXI/XFL/Data/OASIS_MNI_to_TRs/masked_volume_123.nii.gz\n"
     ]
    },
    {
     "name": "stderr",
     "output_type": "stream",
     "text": [
      "Processing volumes for subject 30064:  76%|███████▌  | 124/164 [10:16<03:20,  5.01s/it]"
     ]
    },
    {
     "name": "stdout",
     "output_type": "stream",
     "text": [
      "Applying mask to /home/minyoungxi/MINYOUNGXI/XFL/Data/OASIS_MNI_to_TRs/volume_124.nii.gz\n",
      "Running FLIRT on /home/minyoungxi/MINYOUNGXI/XFL/Data/OASIS_MNI_to_TRs/masked_volume_124.nii.gz\n"
     ]
    },
    {
     "name": "stderr",
     "output_type": "stream",
     "text": [
      "Processing volumes for subject 30064:  76%|███████▌  | 125/164 [10:21<03:16,  5.03s/it]"
     ]
    },
    {
     "name": "stdout",
     "output_type": "stream",
     "text": [
      "Applying mask to /home/minyoungxi/MINYOUNGXI/XFL/Data/OASIS_MNI_to_TRs/volume_125.nii.gz\n",
      "Running FLIRT on /home/minyoungxi/MINYOUNGXI/XFL/Data/OASIS_MNI_to_TRs/masked_volume_125.nii.gz\n"
     ]
    },
    {
     "name": "stderr",
     "output_type": "stream",
     "text": [
      "Processing volumes for subject 30064:  77%|███████▋  | 126/164 [10:26<03:10,  5.02s/it]"
     ]
    },
    {
     "name": "stdout",
     "output_type": "stream",
     "text": [
      "Applying mask to /home/minyoungxi/MINYOUNGXI/XFL/Data/OASIS_MNI_to_TRs/volume_126.nii.gz\n",
      "Running FLIRT on /home/minyoungxi/MINYOUNGXI/XFL/Data/OASIS_MNI_to_TRs/masked_volume_126.nii.gz\n"
     ]
    },
    {
     "name": "stderr",
     "output_type": "stream",
     "text": [
      "Processing volumes for subject 30064:  77%|███████▋  | 127/164 [10:31<03:06,  5.05s/it]"
     ]
    },
    {
     "name": "stdout",
     "output_type": "stream",
     "text": [
      "Applying mask to /home/minyoungxi/MINYOUNGXI/XFL/Data/OASIS_MNI_to_TRs/volume_127.nii.gz\n",
      "Running FLIRT on /home/minyoungxi/MINYOUNGXI/XFL/Data/OASIS_MNI_to_TRs/masked_volume_127.nii.gz\n"
     ]
    },
    {
     "name": "stderr",
     "output_type": "stream",
     "text": [
      "Processing volumes for subject 30064:  78%|███████▊  | 128/164 [10:36<03:01,  5.04s/it]"
     ]
    },
    {
     "name": "stdout",
     "output_type": "stream",
     "text": [
      "Applying mask to /home/minyoungxi/MINYOUNGXI/XFL/Data/OASIS_MNI_to_TRs/volume_128.nii.gz\n",
      "Running FLIRT on /home/minyoungxi/MINYOUNGXI/XFL/Data/OASIS_MNI_to_TRs/masked_volume_128.nii.gz\n"
     ]
    },
    {
     "name": "stderr",
     "output_type": "stream",
     "text": [
      "Processing volumes for subject 30064:  79%|███████▊  | 129/164 [10:41<02:55,  5.02s/it]"
     ]
    },
    {
     "name": "stdout",
     "output_type": "stream",
     "text": [
      "Applying mask to /home/minyoungxi/MINYOUNGXI/XFL/Data/OASIS_MNI_to_TRs/volume_129.nii.gz\n",
      "Running FLIRT on /home/minyoungxi/MINYOUNGXI/XFL/Data/OASIS_MNI_to_TRs/masked_volume_129.nii.gz\n"
     ]
    },
    {
     "name": "stderr",
     "output_type": "stream",
     "text": [
      "Processing volumes for subject 30064:  79%|███████▉  | 130/164 [10:46<02:50,  5.03s/it]"
     ]
    },
    {
     "name": "stdout",
     "output_type": "stream",
     "text": [
      "Applying mask to /home/minyoungxi/MINYOUNGXI/XFL/Data/OASIS_MNI_to_TRs/volume_130.nii.gz\n",
      "Running FLIRT on /home/minyoungxi/MINYOUNGXI/XFL/Data/OASIS_MNI_to_TRs/masked_volume_130.nii.gz\n"
     ]
    },
    {
     "name": "stderr",
     "output_type": "stream",
     "text": [
      "Processing volumes for subject 30064:  80%|███████▉  | 131/164 [10:51<02:46,  5.04s/it]"
     ]
    },
    {
     "name": "stdout",
     "output_type": "stream",
     "text": [
      "Applying mask to /home/minyoungxi/MINYOUNGXI/XFL/Data/OASIS_MNI_to_TRs/volume_131.nii.gz\n",
      "Running FLIRT on /home/minyoungxi/MINYOUNGXI/XFL/Data/OASIS_MNI_to_TRs/masked_volume_131.nii.gz\n"
     ]
    },
    {
     "name": "stderr",
     "output_type": "stream",
     "text": [
      "Processing volumes for subject 30064:  80%|████████  | 132/164 [10:57<02:41,  5.06s/it]"
     ]
    },
    {
     "name": "stdout",
     "output_type": "stream",
     "text": [
      "Applying mask to /home/minyoungxi/MINYOUNGXI/XFL/Data/OASIS_MNI_to_TRs/volume_132.nii.gz\n",
      "Running FLIRT on /home/minyoungxi/MINYOUNGXI/XFL/Data/OASIS_MNI_to_TRs/masked_volume_132.nii.gz\n"
     ]
    },
    {
     "name": "stderr",
     "output_type": "stream",
     "text": [
      "Processing volumes for subject 30064:  81%|████████  | 133/164 [11:02<02:36,  5.06s/it]"
     ]
    },
    {
     "name": "stdout",
     "output_type": "stream",
     "text": [
      "Applying mask to /home/minyoungxi/MINYOUNGXI/XFL/Data/OASIS_MNI_to_TRs/volume_133.nii.gz\n",
      "Running FLIRT on /home/minyoungxi/MINYOUNGXI/XFL/Data/OASIS_MNI_to_TRs/masked_volume_133.nii.gz\n"
     ]
    },
    {
     "name": "stderr",
     "output_type": "stream",
     "text": [
      "Processing volumes for subject 30064:  82%|████████▏ | 134/164 [11:07<02:31,  5.04s/it]"
     ]
    },
    {
     "name": "stdout",
     "output_type": "stream",
     "text": [
      "Applying mask to /home/minyoungxi/MINYOUNGXI/XFL/Data/OASIS_MNI_to_TRs/volume_134.nii.gz\n",
      "Running FLIRT on /home/minyoungxi/MINYOUNGXI/XFL/Data/OASIS_MNI_to_TRs/masked_volume_134.nii.gz\n"
     ]
    },
    {
     "name": "stderr",
     "output_type": "stream",
     "text": [
      "Processing volumes for subject 30064:  82%|████████▏ | 135/164 [11:12<02:25,  5.03s/it]"
     ]
    },
    {
     "name": "stdout",
     "output_type": "stream",
     "text": [
      "Applying mask to /home/minyoungxi/MINYOUNGXI/XFL/Data/OASIS_MNI_to_TRs/volume_135.nii.gz\n",
      "Running FLIRT on /home/minyoungxi/MINYOUNGXI/XFL/Data/OASIS_MNI_to_TRs/masked_volume_135.nii.gz\n"
     ]
    },
    {
     "name": "stderr",
     "output_type": "stream",
     "text": [
      "Processing volumes for subject 30064:  83%|████████▎ | 136/164 [11:17<02:20,  5.02s/it]"
     ]
    },
    {
     "name": "stdout",
     "output_type": "stream",
     "text": [
      "Applying mask to /home/minyoungxi/MINYOUNGXI/XFL/Data/OASIS_MNI_to_TRs/volume_136.nii.gz\n",
      "Running FLIRT on /home/minyoungxi/MINYOUNGXI/XFL/Data/OASIS_MNI_to_TRs/masked_volume_136.nii.gz\n"
     ]
    },
    {
     "name": "stderr",
     "output_type": "stream",
     "text": [
      "Processing volumes for subject 30064:  84%|████████▎ | 137/164 [11:22<02:15,  5.00s/it]"
     ]
    },
    {
     "name": "stdout",
     "output_type": "stream",
     "text": [
      "Applying mask to /home/minyoungxi/MINYOUNGXI/XFL/Data/OASIS_MNI_to_TRs/volume_137.nii.gz\n",
      "Running FLIRT on /home/minyoungxi/MINYOUNGXI/XFL/Data/OASIS_MNI_to_TRs/masked_volume_137.nii.gz\n"
     ]
    },
    {
     "name": "stderr",
     "output_type": "stream",
     "text": [
      "Processing volumes for subject 30064:  84%|████████▍ | 138/164 [11:27<02:09,  4.99s/it]"
     ]
    },
    {
     "name": "stdout",
     "output_type": "stream",
     "text": [
      "Applying mask to /home/minyoungxi/MINYOUNGXI/XFL/Data/OASIS_MNI_to_TRs/volume_138.nii.gz\n",
      "Running FLIRT on /home/minyoungxi/MINYOUNGXI/XFL/Data/OASIS_MNI_to_TRs/masked_volume_138.nii.gz\n"
     ]
    },
    {
     "name": "stderr",
     "output_type": "stream",
     "text": [
      "Processing volumes for subject 30064:  85%|████████▍ | 139/164 [11:31<02:04,  4.98s/it]"
     ]
    },
    {
     "name": "stdout",
     "output_type": "stream",
     "text": [
      "Applying mask to /home/minyoungxi/MINYOUNGXI/XFL/Data/OASIS_MNI_to_TRs/volume_139.nii.gz\n",
      "Running FLIRT on /home/minyoungxi/MINYOUNGXI/XFL/Data/OASIS_MNI_to_TRs/masked_volume_139.nii.gz\n"
     ]
    },
    {
     "name": "stderr",
     "output_type": "stream",
     "text": [
      "Processing volumes for subject 30064:  85%|████████▌ | 140/164 [11:36<01:59,  4.97s/it]"
     ]
    },
    {
     "name": "stdout",
     "output_type": "stream",
     "text": [
      "Applying mask to /home/minyoungxi/MINYOUNGXI/XFL/Data/OASIS_MNI_to_TRs/volume_140.nii.gz\n",
      "Running FLIRT on /home/minyoungxi/MINYOUNGXI/XFL/Data/OASIS_MNI_to_TRs/masked_volume_140.nii.gz\n"
     ]
    },
    {
     "name": "stderr",
     "output_type": "stream",
     "text": [
      "Processing volumes for subject 30064:  86%|████████▌ | 141/164 [11:41<01:54,  4.97s/it]"
     ]
    },
    {
     "name": "stdout",
     "output_type": "stream",
     "text": [
      "Applying mask to /home/minyoungxi/MINYOUNGXI/XFL/Data/OASIS_MNI_to_TRs/volume_141.nii.gz\n",
      "Running FLIRT on /home/minyoungxi/MINYOUNGXI/XFL/Data/OASIS_MNI_to_TRs/masked_volume_141.nii.gz\n"
     ]
    },
    {
     "name": "stderr",
     "output_type": "stream",
     "text": [
      "Processing volumes for subject 30064:  87%|████████▋ | 142/164 [11:46<01:49,  4.98s/it]"
     ]
    },
    {
     "name": "stdout",
     "output_type": "stream",
     "text": [
      "Applying mask to /home/minyoungxi/MINYOUNGXI/XFL/Data/OASIS_MNI_to_TRs/volume_142.nii.gz\n",
      "Running FLIRT on /home/minyoungxi/MINYOUNGXI/XFL/Data/OASIS_MNI_to_TRs/masked_volume_142.nii.gz\n"
     ]
    },
    {
     "name": "stderr",
     "output_type": "stream",
     "text": [
      "Processing volumes for subject 30064:  87%|████████▋ | 143/164 [11:51<01:44,  4.96s/it]"
     ]
    },
    {
     "name": "stdout",
     "output_type": "stream",
     "text": [
      "Applying mask to /home/minyoungxi/MINYOUNGXI/XFL/Data/OASIS_MNI_to_TRs/volume_143.nii.gz\n",
      "Running FLIRT on /home/minyoungxi/MINYOUNGXI/XFL/Data/OASIS_MNI_to_TRs/masked_volume_143.nii.gz\n"
     ]
    },
    {
     "name": "stderr",
     "output_type": "stream",
     "text": [
      "Processing volumes for subject 30064:  88%|████████▊ | 144/164 [11:56<01:38,  4.95s/it]"
     ]
    },
    {
     "name": "stdout",
     "output_type": "stream",
     "text": [
      "Applying mask to /home/minyoungxi/MINYOUNGXI/XFL/Data/OASIS_MNI_to_TRs/volume_144.nii.gz\n",
      "Running FLIRT on /home/minyoungxi/MINYOUNGXI/XFL/Data/OASIS_MNI_to_TRs/masked_volume_144.nii.gz\n"
     ]
    },
    {
     "name": "stderr",
     "output_type": "stream",
     "text": [
      "Processing volumes for subject 30064:  88%|████████▊ | 145/164 [12:01<01:33,  4.95s/it]"
     ]
    },
    {
     "name": "stdout",
     "output_type": "stream",
     "text": [
      "Applying mask to /home/minyoungxi/MINYOUNGXI/XFL/Data/OASIS_MNI_to_TRs/volume_145.nii.gz\n",
      "Running FLIRT on /home/minyoungxi/MINYOUNGXI/XFL/Data/OASIS_MNI_to_TRs/masked_volume_145.nii.gz\n"
     ]
    },
    {
     "name": "stderr",
     "output_type": "stream",
     "text": [
      "Processing volumes for subject 30064:  89%|████████▉ | 146/164 [12:06<01:29,  4.95s/it]"
     ]
    },
    {
     "name": "stdout",
     "output_type": "stream",
     "text": [
      "Applying mask to /home/minyoungxi/MINYOUNGXI/XFL/Data/OASIS_MNI_to_TRs/volume_146.nii.gz\n",
      "Running FLIRT on /home/minyoungxi/MINYOUNGXI/XFL/Data/OASIS_MNI_to_TRs/masked_volume_146.nii.gz\n"
     ]
    },
    {
     "name": "stderr",
     "output_type": "stream",
     "text": [
      "Processing volumes for subject 30064:  90%|████████▉ | 147/164 [12:11<01:24,  4.95s/it]"
     ]
    },
    {
     "name": "stdout",
     "output_type": "stream",
     "text": [
      "Applying mask to /home/minyoungxi/MINYOUNGXI/XFL/Data/OASIS_MNI_to_TRs/volume_147.nii.gz\n",
      "Running FLIRT on /home/minyoungxi/MINYOUNGXI/XFL/Data/OASIS_MNI_to_TRs/masked_volume_147.nii.gz\n"
     ]
    },
    {
     "name": "stderr",
     "output_type": "stream",
     "text": [
      "Processing volumes for subject 30064:  90%|█████████ | 148/164 [12:16<01:19,  4.97s/it]"
     ]
    },
    {
     "name": "stdout",
     "output_type": "stream",
     "text": [
      "Applying mask to /home/minyoungxi/MINYOUNGXI/XFL/Data/OASIS_MNI_to_TRs/volume_148.nii.gz\n",
      "Running FLIRT on /home/minyoungxi/MINYOUNGXI/XFL/Data/OASIS_MNI_to_TRs/masked_volume_148.nii.gz\n"
     ]
    },
    {
     "name": "stderr",
     "output_type": "stream",
     "text": [
      "Processing volumes for subject 30064:  91%|█████████ | 149/164 [12:21<01:14,  4.98s/it]"
     ]
    },
    {
     "name": "stdout",
     "output_type": "stream",
     "text": [
      "Applying mask to /home/minyoungxi/MINYOUNGXI/XFL/Data/OASIS_MNI_to_TRs/volume_149.nii.gz\n",
      "Running FLIRT on /home/minyoungxi/MINYOUNGXI/XFL/Data/OASIS_MNI_to_TRs/masked_volume_149.nii.gz\n"
     ]
    },
    {
     "name": "stderr",
     "output_type": "stream",
     "text": [
      "Processing volumes for subject 30064:  91%|█████████▏| 150/164 [12:26<01:09,  4.98s/it]"
     ]
    },
    {
     "name": "stdout",
     "output_type": "stream",
     "text": [
      "Applying mask to /home/minyoungxi/MINYOUNGXI/XFL/Data/OASIS_MNI_to_TRs/volume_150.nii.gz\n",
      "Running FLIRT on /home/minyoungxi/MINYOUNGXI/XFL/Data/OASIS_MNI_to_TRs/masked_volume_150.nii.gz\n"
     ]
    },
    {
     "name": "stderr",
     "output_type": "stream",
     "text": [
      "Processing volumes for subject 30064:  92%|█████████▏| 151/164 [12:31<01:05,  5.00s/it]"
     ]
    },
    {
     "name": "stdout",
     "output_type": "stream",
     "text": [
      "Applying mask to /home/minyoungxi/MINYOUNGXI/XFL/Data/OASIS_MNI_to_TRs/volume_151.nii.gz\n",
      "Running FLIRT on /home/minyoungxi/MINYOUNGXI/XFL/Data/OASIS_MNI_to_TRs/masked_volume_151.nii.gz\n"
     ]
    },
    {
     "name": "stderr",
     "output_type": "stream",
     "text": [
      "Processing volumes for subject 30064:  93%|█████████▎| 152/164 [12:36<01:00,  5.01s/it]"
     ]
    },
    {
     "name": "stdout",
     "output_type": "stream",
     "text": [
      "Applying mask to /home/minyoungxi/MINYOUNGXI/XFL/Data/OASIS_MNI_to_TRs/volume_152.nii.gz\n",
      "Running FLIRT on /home/minyoungxi/MINYOUNGXI/XFL/Data/OASIS_MNI_to_TRs/masked_volume_152.nii.gz\n"
     ]
    },
    {
     "name": "stderr",
     "output_type": "stream",
     "text": [
      "Processing volumes for subject 30064:  93%|█████████▎| 153/164 [12:41<00:55,  5.02s/it]"
     ]
    },
    {
     "name": "stdout",
     "output_type": "stream",
     "text": [
      "Applying mask to /home/minyoungxi/MINYOUNGXI/XFL/Data/OASIS_MNI_to_TRs/volume_153.nii.gz\n",
      "Running FLIRT on /home/minyoungxi/MINYOUNGXI/XFL/Data/OASIS_MNI_to_TRs/masked_volume_153.nii.gz\n"
     ]
    },
    {
     "name": "stderr",
     "output_type": "stream",
     "text": [
      "Processing volumes for subject 30064:  94%|█████████▍| 154/164 [12:46<00:50,  5.01s/it]"
     ]
    },
    {
     "name": "stdout",
     "output_type": "stream",
     "text": [
      "Applying mask to /home/minyoungxi/MINYOUNGXI/XFL/Data/OASIS_MNI_to_TRs/volume_154.nii.gz\n",
      "Running FLIRT on /home/minyoungxi/MINYOUNGXI/XFL/Data/OASIS_MNI_to_TRs/masked_volume_154.nii.gz\n"
     ]
    },
    {
     "name": "stderr",
     "output_type": "stream",
     "text": [
      "Processing volumes for subject 30064:  95%|█████████▍| 155/164 [12:51<00:45,  5.02s/it]"
     ]
    },
    {
     "name": "stdout",
     "output_type": "stream",
     "text": [
      "Applying mask to /home/minyoungxi/MINYOUNGXI/XFL/Data/OASIS_MNI_to_TRs/volume_155.nii.gz\n",
      "Running FLIRT on /home/minyoungxi/MINYOUNGXI/XFL/Data/OASIS_MNI_to_TRs/masked_volume_155.nii.gz\n"
     ]
    },
    {
     "name": "stderr",
     "output_type": "stream",
     "text": [
      "Processing volumes for subject 30064:  95%|█████████▌| 156/164 [12:56<00:40,  5.03s/it]"
     ]
    },
    {
     "name": "stdout",
     "output_type": "stream",
     "text": [
      "Applying mask to /home/minyoungxi/MINYOUNGXI/XFL/Data/OASIS_MNI_to_TRs/volume_156.nii.gz\n",
      "Running FLIRT on /home/minyoungxi/MINYOUNGXI/XFL/Data/OASIS_MNI_to_TRs/masked_volume_156.nii.gz\n"
     ]
    },
    {
     "name": "stderr",
     "output_type": "stream",
     "text": [
      "Processing volumes for subject 30064:  96%|█████████▌| 157/164 [13:01<00:35,  5.01s/it]"
     ]
    },
    {
     "name": "stdout",
     "output_type": "stream",
     "text": [
      "Applying mask to /home/minyoungxi/MINYOUNGXI/XFL/Data/OASIS_MNI_to_TRs/volume_157.nii.gz\n",
      "Running FLIRT on /home/minyoungxi/MINYOUNGXI/XFL/Data/OASIS_MNI_to_TRs/masked_volume_157.nii.gz\n"
     ]
    },
    {
     "name": "stderr",
     "output_type": "stream",
     "text": [
      "Processing volumes for subject 30064:  96%|█████████▋| 158/164 [13:06<00:30,  5.04s/it]"
     ]
    },
    {
     "name": "stdout",
     "output_type": "stream",
     "text": [
      "Applying mask to /home/minyoungxi/MINYOUNGXI/XFL/Data/OASIS_MNI_to_TRs/volume_158.nii.gz\n",
      "Running FLIRT on /home/minyoungxi/MINYOUNGXI/XFL/Data/OASIS_MNI_to_TRs/masked_volume_158.nii.gz\n"
     ]
    },
    {
     "name": "stderr",
     "output_type": "stream",
     "text": [
      "Processing volumes for subject 30064:  97%|█████████▋| 159/164 [13:11<00:25,  5.06s/it]"
     ]
    },
    {
     "name": "stdout",
     "output_type": "stream",
     "text": [
      "Applying mask to /home/minyoungxi/MINYOUNGXI/XFL/Data/OASIS_MNI_to_TRs/volume_159.nii.gz\n",
      "Running FLIRT on /home/minyoungxi/MINYOUNGXI/XFL/Data/OASIS_MNI_to_TRs/masked_volume_159.nii.gz\n"
     ]
    },
    {
     "name": "stderr",
     "output_type": "stream",
     "text": [
      "Processing volumes for subject 30064:  98%|█████████▊| 160/164 [13:17<00:20,  5.04s/it]"
     ]
    },
    {
     "name": "stdout",
     "output_type": "stream",
     "text": [
      "Applying mask to /home/minyoungxi/MINYOUNGXI/XFL/Data/OASIS_MNI_to_TRs/volume_160.nii.gz\n",
      "Running FLIRT on /home/minyoungxi/MINYOUNGXI/XFL/Data/OASIS_MNI_to_TRs/masked_volume_160.nii.gz\n"
     ]
    },
    {
     "name": "stderr",
     "output_type": "stream",
     "text": [
      "Processing volumes for subject 30064:  98%|█████████▊| 161/164 [13:22<00:15,  5.06s/it]"
     ]
    },
    {
     "name": "stdout",
     "output_type": "stream",
     "text": [
      "Applying mask to /home/minyoungxi/MINYOUNGXI/XFL/Data/OASIS_MNI_to_TRs/volume_161.nii.gz\n",
      "Running FLIRT on /home/minyoungxi/MINYOUNGXI/XFL/Data/OASIS_MNI_to_TRs/masked_volume_161.nii.gz\n"
     ]
    },
    {
     "name": "stderr",
     "output_type": "stream",
     "text": [
      "Processing volumes for subject 30064:  99%|█████████▉| 162/164 [13:27<00:10,  5.08s/it]"
     ]
    },
    {
     "name": "stdout",
     "output_type": "stream",
     "text": [
      "Applying mask to /home/minyoungxi/MINYOUNGXI/XFL/Data/OASIS_MNI_to_TRs/volume_162.nii.gz\n",
      "Running FLIRT on /home/minyoungxi/MINYOUNGXI/XFL/Data/OASIS_MNI_to_TRs/masked_volume_162.nii.gz\n"
     ]
    },
    {
     "name": "stderr",
     "output_type": "stream",
     "text": [
      "Processing volumes for subject 30064:  99%|█████████▉| 163/164 [13:32<00:05,  5.11s/it]"
     ]
    },
    {
     "name": "stdout",
     "output_type": "stream",
     "text": [
      "Applying mask to /home/minyoungxi/MINYOUNGXI/XFL/Data/OASIS_MNI_to_TRs/volume_163.nii.gz\n",
      "Running FLIRT on /home/minyoungxi/MINYOUNGXI/XFL/Data/OASIS_MNI_to_TRs/masked_volume_163.nii.gz\n"
     ]
    },
    {
     "name": "stderr",
     "output_type": "stream",
     "text": [
      "Processing volumes for subject 30064: 100%|██████████| 164/164 [13:37<00:00,  4.99s/it]\n"
     ]
    },
    {
     "name": "stdout",
     "output_type": "stream",
     "text": [
      "No matching functional file found for subject 30024, session 0084\n",
      "Found functional file: /home/minyoungxi/MINYOUNGXI/XFL/Data/OASISSamples7.1/OAS30084_MR_d0470/func1/NIFTI/sub-OAS30084_ses-d0470_task-rest_run-01_bold.nii.gz\n",
      "Preprocessing fMRI data for subject 30084, session 0470\n",
      "Running BET on /home/minyoungxi/MINYOUNGXI/XFL/Data/OASIS_MNI_to_TRs/first_volume.nii.gz\n"
     ]
    },
    {
     "name": "stderr",
     "output_type": "stream",
     "text": [
      "Processing volumes for subject 30084:   0%|          | 0/164 [00:00<?, ?it/s]"
     ]
    },
    {
     "name": "stdout",
     "output_type": "stream",
     "text": [
      "Applying mask to /home/minyoungxi/MINYOUNGXI/XFL/Data/OASIS_MNI_to_TRs/volume_0.nii.gz\n",
      "Running FLIRT on /home/minyoungxi/MINYOUNGXI/XFL/Data/OASIS_MNI_to_TRs/masked_volume_0.nii.gz\n"
     ]
    },
    {
     "name": "stderr",
     "output_type": "stream",
     "text": [
      "Processing volumes for subject 30084:   1%|          | 1/164 [00:05<13:38,  5.02s/it]"
     ]
    },
    {
     "name": "stdout",
     "output_type": "stream",
     "text": [
      "Applying mask to /home/minyoungxi/MINYOUNGXI/XFL/Data/OASIS_MNI_to_TRs/volume_1.nii.gz\n",
      "Running FLIRT on /home/minyoungxi/MINYOUNGXI/XFL/Data/OASIS_MNI_to_TRs/masked_volume_1.nii.gz\n"
     ]
    },
    {
     "name": "stderr",
     "output_type": "stream",
     "text": [
      "Processing volumes for subject 30084:   1%|          | 2/164 [00:10<13:43,  5.08s/it]"
     ]
    },
    {
     "name": "stdout",
     "output_type": "stream",
     "text": [
      "Applying mask to /home/minyoungxi/MINYOUNGXI/XFL/Data/OASIS_MNI_to_TRs/volume_2.nii.gz\n",
      "Running FLIRT on /home/minyoungxi/MINYOUNGXI/XFL/Data/OASIS_MNI_to_TRs/masked_volume_2.nii.gz\n"
     ]
    },
    {
     "name": "stderr",
     "output_type": "stream",
     "text": [
      "Processing volumes for subject 30084:   2%|▏         | 3/164 [00:15<13:42,  5.11s/it]"
     ]
    },
    {
     "name": "stdout",
     "output_type": "stream",
     "text": [
      "Applying mask to /home/minyoungxi/MINYOUNGXI/XFL/Data/OASIS_MNI_to_TRs/volume_3.nii.gz\n",
      "Running FLIRT on /home/minyoungxi/MINYOUNGXI/XFL/Data/OASIS_MNI_to_TRs/masked_volume_3.nii.gz\n"
     ]
    },
    {
     "name": "stderr",
     "output_type": "stream",
     "text": [
      "Processing volumes for subject 30084:   2%|▏         | 4/164 [00:20<13:42,  5.14s/it]"
     ]
    },
    {
     "name": "stdout",
     "output_type": "stream",
     "text": [
      "Applying mask to /home/minyoungxi/MINYOUNGXI/XFL/Data/OASIS_MNI_to_TRs/volume_4.nii.gz\n",
      "Running FLIRT on /home/minyoungxi/MINYOUNGXI/XFL/Data/OASIS_MNI_to_TRs/masked_volume_4.nii.gz\n"
     ]
    },
    {
     "name": "stderr",
     "output_type": "stream",
     "text": [
      "Processing volumes for subject 30084:   3%|▎         | 5/164 [00:25<13:36,  5.13s/it]"
     ]
    },
    {
     "name": "stdout",
     "output_type": "stream",
     "text": [
      "Applying mask to /home/minyoungxi/MINYOUNGXI/XFL/Data/OASIS_MNI_to_TRs/volume_5.nii.gz\n",
      "Running FLIRT on /home/minyoungxi/MINYOUNGXI/XFL/Data/OASIS_MNI_to_TRs/masked_volume_5.nii.gz\n"
     ]
    },
    {
     "name": "stderr",
     "output_type": "stream",
     "text": [
      "Processing volumes for subject 30084:   4%|▎         | 6/164 [00:30<13:25,  5.10s/it]"
     ]
    },
    {
     "name": "stdout",
     "output_type": "stream",
     "text": [
      "Applying mask to /home/minyoungxi/MINYOUNGXI/XFL/Data/OASIS_MNI_to_TRs/volume_6.nii.gz\n",
      "Running FLIRT on /home/minyoungxi/MINYOUNGXI/XFL/Data/OASIS_MNI_to_TRs/masked_volume_6.nii.gz\n"
     ]
    },
    {
     "name": "stderr",
     "output_type": "stream",
     "text": [
      "Processing volumes for subject 30084:   4%|▍         | 7/164 [00:35<13:24,  5.13s/it]"
     ]
    },
    {
     "name": "stdout",
     "output_type": "stream",
     "text": [
      "Applying mask to /home/minyoungxi/MINYOUNGXI/XFL/Data/OASIS_MNI_to_TRs/volume_7.nii.gz\n",
      "Running FLIRT on /home/minyoungxi/MINYOUNGXI/XFL/Data/OASIS_MNI_to_TRs/masked_volume_7.nii.gz\n"
     ]
    },
    {
     "name": "stderr",
     "output_type": "stream",
     "text": [
      "Processing volumes for subject 30084:   5%|▍         | 8/164 [00:40<13:15,  5.10s/it]"
     ]
    },
    {
     "name": "stdout",
     "output_type": "stream",
     "text": [
      "Applying mask to /home/minyoungxi/MINYOUNGXI/XFL/Data/OASIS_MNI_to_TRs/volume_8.nii.gz\n",
      "Running FLIRT on /home/minyoungxi/MINYOUNGXI/XFL/Data/OASIS_MNI_to_TRs/masked_volume_8.nii.gz\n"
     ]
    },
    {
     "name": "stderr",
     "output_type": "stream",
     "text": [
      "Processing volumes for subject 30084:   5%|▌         | 9/164 [00:45<13:09,  5.09s/it]"
     ]
    },
    {
     "name": "stdout",
     "output_type": "stream",
     "text": [
      "Applying mask to /home/minyoungxi/MINYOUNGXI/XFL/Data/OASIS_MNI_to_TRs/volume_9.nii.gz\n",
      "Running FLIRT on /home/minyoungxi/MINYOUNGXI/XFL/Data/OASIS_MNI_to_TRs/masked_volume_9.nii.gz\n"
     ]
    },
    {
     "name": "stderr",
     "output_type": "stream",
     "text": [
      "Processing volumes for subject 30084:   6%|▌         | 10/164 [00:51<13:06,  5.11s/it]"
     ]
    },
    {
     "name": "stdout",
     "output_type": "stream",
     "text": [
      "Applying mask to /home/minyoungxi/MINYOUNGXI/XFL/Data/OASIS_MNI_to_TRs/volume_10.nii.gz\n",
      "Running FLIRT on /home/minyoungxi/MINYOUNGXI/XFL/Data/OASIS_MNI_to_TRs/masked_volume_10.nii.gz\n"
     ]
    },
    {
     "name": "stderr",
     "output_type": "stream",
     "text": [
      "Processing volumes for subject 30084:   7%|▋         | 11/164 [00:56<13:03,  5.12s/it]"
     ]
    },
    {
     "name": "stdout",
     "output_type": "stream",
     "text": [
      "Applying mask to /home/minyoungxi/MINYOUNGXI/XFL/Data/OASIS_MNI_to_TRs/volume_11.nii.gz\n",
      "Running FLIRT on /home/minyoungxi/MINYOUNGXI/XFL/Data/OASIS_MNI_to_TRs/masked_volume_11.nii.gz\n"
     ]
    },
    {
     "name": "stderr",
     "output_type": "stream",
     "text": [
      "Processing volumes for subject 30084:   7%|▋         | 12/164 [01:01<12:54,  5.10s/it]"
     ]
    },
    {
     "name": "stdout",
     "output_type": "stream",
     "text": [
      "Applying mask to /home/minyoungxi/MINYOUNGXI/XFL/Data/OASIS_MNI_to_TRs/volume_12.nii.gz\n",
      "Running FLIRT on /home/minyoungxi/MINYOUNGXI/XFL/Data/OASIS_MNI_to_TRs/masked_volume_12.nii.gz\n"
     ]
    },
    {
     "name": "stderr",
     "output_type": "stream",
     "text": [
      "Processing volumes for subject 30084:   8%|▊         | 13/164 [01:06<12:48,  5.09s/it]"
     ]
    },
    {
     "name": "stdout",
     "output_type": "stream",
     "text": [
      "Applying mask to /home/minyoungxi/MINYOUNGXI/XFL/Data/OASIS_MNI_to_TRs/volume_13.nii.gz\n",
      "Running FLIRT on /home/minyoungxi/MINYOUNGXI/XFL/Data/OASIS_MNI_to_TRs/masked_volume_13.nii.gz\n"
     ]
    },
    {
     "name": "stderr",
     "output_type": "stream",
     "text": [
      "Processing volumes for subject 30084:   9%|▊         | 14/164 [01:11<12:38,  5.06s/it]"
     ]
    },
    {
     "name": "stdout",
     "output_type": "stream",
     "text": [
      "Applying mask to /home/minyoungxi/MINYOUNGXI/XFL/Data/OASIS_MNI_to_TRs/volume_14.nii.gz\n",
      "Running FLIRT on /home/minyoungxi/MINYOUNGXI/XFL/Data/OASIS_MNI_to_TRs/masked_volume_14.nii.gz\n"
     ]
    },
    {
     "name": "stderr",
     "output_type": "stream",
     "text": [
      "Processing volumes for subject 30084:   9%|▉         | 15/164 [01:16<12:35,  5.07s/it]"
     ]
    },
    {
     "name": "stdout",
     "output_type": "stream",
     "text": [
      "Applying mask to /home/minyoungxi/MINYOUNGXI/XFL/Data/OASIS_MNI_to_TRs/volume_15.nii.gz\n",
      "Running FLIRT on /home/minyoungxi/MINYOUNGXI/XFL/Data/OASIS_MNI_to_TRs/masked_volume_15.nii.gz\n"
     ]
    },
    {
     "name": "stderr",
     "output_type": "stream",
     "text": [
      "Processing volumes for subject 30084:  10%|▉         | 16/164 [01:21<12:30,  5.07s/it]"
     ]
    },
    {
     "name": "stdout",
     "output_type": "stream",
     "text": [
      "Applying mask to /home/minyoungxi/MINYOUNGXI/XFL/Data/OASIS_MNI_to_TRs/volume_16.nii.gz\n",
      "Running FLIRT on /home/minyoungxi/MINYOUNGXI/XFL/Data/OASIS_MNI_to_TRs/masked_volume_16.nii.gz\n"
     ]
    },
    {
     "name": "stderr",
     "output_type": "stream",
     "text": [
      "Processing volumes for subject 30084:  10%|█         | 17/164 [01:26<12:27,  5.08s/it]"
     ]
    },
    {
     "name": "stdout",
     "output_type": "stream",
     "text": [
      "Applying mask to /home/minyoungxi/MINYOUNGXI/XFL/Data/OASIS_MNI_to_TRs/volume_17.nii.gz\n",
      "Running FLIRT on /home/minyoungxi/MINYOUNGXI/XFL/Data/OASIS_MNI_to_TRs/masked_volume_17.nii.gz\n"
     ]
    },
    {
     "name": "stderr",
     "output_type": "stream",
     "text": [
      "Processing volumes for subject 30084:  11%|█         | 18/164 [01:31<12:20,  5.07s/it]"
     ]
    },
    {
     "name": "stdout",
     "output_type": "stream",
     "text": [
      "Applying mask to /home/minyoungxi/MINYOUNGXI/XFL/Data/OASIS_MNI_to_TRs/volume_18.nii.gz\n",
      "Running FLIRT on /home/minyoungxi/MINYOUNGXI/XFL/Data/OASIS_MNI_to_TRs/masked_volume_18.nii.gz\n"
     ]
    },
    {
     "name": "stderr",
     "output_type": "stream",
     "text": [
      "Processing volumes for subject 30084:  12%|█▏        | 19/164 [01:36<12:21,  5.11s/it]"
     ]
    },
    {
     "name": "stdout",
     "output_type": "stream",
     "text": [
      "Applying mask to /home/minyoungxi/MINYOUNGXI/XFL/Data/OASIS_MNI_to_TRs/volume_19.nii.gz\n",
      "Running FLIRT on /home/minyoungxi/MINYOUNGXI/XFL/Data/OASIS_MNI_to_TRs/masked_volume_19.nii.gz\n"
     ]
    },
    {
     "name": "stderr",
     "output_type": "stream",
     "text": [
      "Processing volumes for subject 30084:  12%|█▏        | 20/164 [01:41<12:16,  5.11s/it]"
     ]
    },
    {
     "name": "stdout",
     "output_type": "stream",
     "text": [
      "Applying mask to /home/minyoungxi/MINYOUNGXI/XFL/Data/OASIS_MNI_to_TRs/volume_20.nii.gz\n",
      "Running FLIRT on /home/minyoungxi/MINYOUNGXI/XFL/Data/OASIS_MNI_to_TRs/masked_volume_20.nii.gz\n"
     ]
    },
    {
     "name": "stderr",
     "output_type": "stream",
     "text": [
      "Processing volumes for subject 30084:  13%|█▎        | 21/164 [01:47<12:08,  5.10s/it]"
     ]
    },
    {
     "name": "stdout",
     "output_type": "stream",
     "text": [
      "Applying mask to /home/minyoungxi/MINYOUNGXI/XFL/Data/OASIS_MNI_to_TRs/volume_21.nii.gz\n",
      "Running FLIRT on /home/minyoungxi/MINYOUNGXI/XFL/Data/OASIS_MNI_to_TRs/masked_volume_21.nii.gz\n"
     ]
    },
    {
     "name": "stderr",
     "output_type": "stream",
     "text": [
      "Processing volumes for subject 30084:  13%|█▎        | 22/164 [01:52<12:04,  5.10s/it]"
     ]
    },
    {
     "name": "stdout",
     "output_type": "stream",
     "text": [
      "Applying mask to /home/minyoungxi/MINYOUNGXI/XFL/Data/OASIS_MNI_to_TRs/volume_22.nii.gz\n",
      "Running FLIRT on /home/minyoungxi/MINYOUNGXI/XFL/Data/OASIS_MNI_to_TRs/masked_volume_22.nii.gz\n"
     ]
    },
    {
     "name": "stderr",
     "output_type": "stream",
     "text": [
      "Processing volumes for subject 30084:  14%|█▍        | 23/164 [01:57<12:00,  5.11s/it]"
     ]
    },
    {
     "name": "stdout",
     "output_type": "stream",
     "text": [
      "Applying mask to /home/minyoungxi/MINYOUNGXI/XFL/Data/OASIS_MNI_to_TRs/volume_23.nii.gz\n",
      "Running FLIRT on /home/minyoungxi/MINYOUNGXI/XFL/Data/OASIS_MNI_to_TRs/masked_volume_23.nii.gz\n"
     ]
    },
    {
     "name": "stderr",
     "output_type": "stream",
     "text": [
      "Processing volumes for subject 30084:  15%|█▍        | 24/164 [02:02<11:56,  5.12s/it]"
     ]
    },
    {
     "name": "stdout",
     "output_type": "stream",
     "text": [
      "Applying mask to /home/minyoungxi/MINYOUNGXI/XFL/Data/OASIS_MNI_to_TRs/volume_24.nii.gz\n",
      "Running FLIRT on /home/minyoungxi/MINYOUNGXI/XFL/Data/OASIS_MNI_to_TRs/masked_volume_24.nii.gz\n"
     ]
    },
    {
     "name": "stderr",
     "output_type": "stream",
     "text": [
      "Processing volumes for subject 30084:  15%|█▌        | 25/164 [02:07<11:51,  5.12s/it]"
     ]
    },
    {
     "name": "stdout",
     "output_type": "stream",
     "text": [
      "Applying mask to /home/minyoungxi/MINYOUNGXI/XFL/Data/OASIS_MNI_to_TRs/volume_25.nii.gz\n",
      "Running FLIRT on /home/minyoungxi/MINYOUNGXI/XFL/Data/OASIS_MNI_to_TRs/masked_volume_25.nii.gz\n"
     ]
    },
    {
     "name": "stderr",
     "output_type": "stream",
     "text": [
      "Processing volumes for subject 30084:  16%|█▌        | 26/164 [02:12<11:45,  5.11s/it]"
     ]
    },
    {
     "name": "stdout",
     "output_type": "stream",
     "text": [
      "Applying mask to /home/minyoungxi/MINYOUNGXI/XFL/Data/OASIS_MNI_to_TRs/volume_26.nii.gz\n",
      "Running FLIRT on /home/minyoungxi/MINYOUNGXI/XFL/Data/OASIS_MNI_to_TRs/masked_volume_26.nii.gz\n"
     ]
    },
    {
     "name": "stderr",
     "output_type": "stream",
     "text": [
      "Processing volumes for subject 30084:  16%|█▋        | 27/164 [02:17<11:36,  5.09s/it]"
     ]
    },
    {
     "name": "stdout",
     "output_type": "stream",
     "text": [
      "Applying mask to /home/minyoungxi/MINYOUNGXI/XFL/Data/OASIS_MNI_to_TRs/volume_27.nii.gz\n",
      "Running FLIRT on /home/minyoungxi/MINYOUNGXI/XFL/Data/OASIS_MNI_to_TRs/masked_volume_27.nii.gz\n"
     ]
    },
    {
     "name": "stderr",
     "output_type": "stream",
     "text": [
      "Processing volumes for subject 30084:  17%|█▋        | 28/164 [02:22<11:32,  5.09s/it]"
     ]
    },
    {
     "name": "stdout",
     "output_type": "stream",
     "text": [
      "Applying mask to /home/minyoungxi/MINYOUNGXI/XFL/Data/OASIS_MNI_to_TRs/volume_28.nii.gz\n",
      "Running FLIRT on /home/minyoungxi/MINYOUNGXI/XFL/Data/OASIS_MNI_to_TRs/masked_volume_28.nii.gz\n"
     ]
    },
    {
     "name": "stderr",
     "output_type": "stream",
     "text": [
      "Processing volumes for subject 30084:  18%|█▊        | 29/164 [02:27<11:26,  5.08s/it]"
     ]
    },
    {
     "name": "stdout",
     "output_type": "stream",
     "text": [
      "Applying mask to /home/minyoungxi/MINYOUNGXI/XFL/Data/OASIS_MNI_to_TRs/volume_29.nii.gz\n",
      "Running FLIRT on /home/minyoungxi/MINYOUNGXI/XFL/Data/OASIS_MNI_to_TRs/masked_volume_29.nii.gz\n"
     ]
    },
    {
     "name": "stderr",
     "output_type": "stream",
     "text": [
      "Processing volumes for subject 30084:  18%|█▊        | 30/164 [02:32<11:17,  5.06s/it]"
     ]
    },
    {
     "name": "stdout",
     "output_type": "stream",
     "text": [
      "Applying mask to /home/minyoungxi/MINYOUNGXI/XFL/Data/OASIS_MNI_to_TRs/volume_30.nii.gz\n",
      "Running FLIRT on /home/minyoungxi/MINYOUNGXI/XFL/Data/OASIS_MNI_to_TRs/masked_volume_30.nii.gz\n"
     ]
    },
    {
     "name": "stderr",
     "output_type": "stream",
     "text": [
      "Processing volumes for subject 30084:  19%|█▉        | 31/164 [02:37<11:11,  5.05s/it]"
     ]
    },
    {
     "name": "stdout",
     "output_type": "stream",
     "text": [
      "Applying mask to /home/minyoungxi/MINYOUNGXI/XFL/Data/OASIS_MNI_to_TRs/volume_31.nii.gz\n",
      "Running FLIRT on /home/minyoungxi/MINYOUNGXI/XFL/Data/OASIS_MNI_to_TRs/masked_volume_31.nii.gz\n"
     ]
    },
    {
     "name": "stderr",
     "output_type": "stream",
     "text": [
      "Processing volumes for subject 30084:  20%|█▉        | 32/164 [02:42<11:07,  5.06s/it]"
     ]
    },
    {
     "name": "stdout",
     "output_type": "stream",
     "text": [
      "Applying mask to /home/minyoungxi/MINYOUNGXI/XFL/Data/OASIS_MNI_to_TRs/volume_32.nii.gz\n",
      "Running FLIRT on /home/minyoungxi/MINYOUNGXI/XFL/Data/OASIS_MNI_to_TRs/masked_volume_32.nii.gz\n"
     ]
    },
    {
     "name": "stderr",
     "output_type": "stream",
     "text": [
      "Processing volumes for subject 30084:  20%|██        | 33/164 [02:48<11:03,  5.06s/it]"
     ]
    },
    {
     "name": "stdout",
     "output_type": "stream",
     "text": [
      "Applying mask to /home/minyoungxi/MINYOUNGXI/XFL/Data/OASIS_MNI_to_TRs/volume_33.nii.gz\n",
      "Running FLIRT on /home/minyoungxi/MINYOUNGXI/XFL/Data/OASIS_MNI_to_TRs/masked_volume_33.nii.gz\n"
     ]
    },
    {
     "name": "stderr",
     "output_type": "stream",
     "text": [
      "Processing volumes for subject 30084:  21%|██        | 34/164 [02:53<10:59,  5.07s/it]"
     ]
    },
    {
     "name": "stdout",
     "output_type": "stream",
     "text": [
      "Applying mask to /home/minyoungxi/MINYOUNGXI/XFL/Data/OASIS_MNI_to_TRs/volume_34.nii.gz\n",
      "Running FLIRT on /home/minyoungxi/MINYOUNGXI/XFL/Data/OASIS_MNI_to_TRs/masked_volume_34.nii.gz\n"
     ]
    },
    {
     "name": "stderr",
     "output_type": "stream",
     "text": [
      "Processing volumes for subject 30084:  21%|██▏       | 35/164 [02:58<10:54,  5.07s/it]"
     ]
    },
    {
     "name": "stdout",
     "output_type": "stream",
     "text": [
      "Applying mask to /home/minyoungxi/MINYOUNGXI/XFL/Data/OASIS_MNI_to_TRs/volume_35.nii.gz\n",
      "Running FLIRT on /home/minyoungxi/MINYOUNGXI/XFL/Data/OASIS_MNI_to_TRs/masked_volume_35.nii.gz\n"
     ]
    },
    {
     "name": "stderr",
     "output_type": "stream",
     "text": [
      "Processing volumes for subject 30084:  22%|██▏       | 36/164 [03:03<10:46,  5.05s/it]"
     ]
    },
    {
     "name": "stdout",
     "output_type": "stream",
     "text": [
      "Applying mask to /home/minyoungxi/MINYOUNGXI/XFL/Data/OASIS_MNI_to_TRs/volume_36.nii.gz\n",
      "Running FLIRT on /home/minyoungxi/MINYOUNGXI/XFL/Data/OASIS_MNI_to_TRs/masked_volume_36.nii.gz\n"
     ]
    },
    {
     "name": "stderr",
     "output_type": "stream",
     "text": [
      "Processing volumes for subject 30084:  23%|██▎       | 37/164 [03:08<10:43,  5.07s/it]"
     ]
    },
    {
     "name": "stdout",
     "output_type": "stream",
     "text": [
      "Applying mask to /home/minyoungxi/MINYOUNGXI/XFL/Data/OASIS_MNI_to_TRs/volume_37.nii.gz\n",
      "Running FLIRT on /home/minyoungxi/MINYOUNGXI/XFL/Data/OASIS_MNI_to_TRs/masked_volume_37.nii.gz\n"
     ]
    },
    {
     "name": "stderr",
     "output_type": "stream",
     "text": [
      "Processing volumes for subject 30084:  23%|██▎       | 38/164 [03:13<10:40,  5.08s/it]"
     ]
    },
    {
     "name": "stdout",
     "output_type": "stream",
     "text": [
      "Applying mask to /home/minyoungxi/MINYOUNGXI/XFL/Data/OASIS_MNI_to_TRs/volume_38.nii.gz\n",
      "Running FLIRT on /home/minyoungxi/MINYOUNGXI/XFL/Data/OASIS_MNI_to_TRs/masked_volume_38.nii.gz\n"
     ]
    },
    {
     "name": "stderr",
     "output_type": "stream",
     "text": [
      "Processing volumes for subject 30084:  24%|██▍       | 39/164 [03:18<10:38,  5.11s/it]"
     ]
    },
    {
     "name": "stdout",
     "output_type": "stream",
     "text": [
      "Applying mask to /home/minyoungxi/MINYOUNGXI/XFL/Data/OASIS_MNI_to_TRs/volume_39.nii.gz\n",
      "Running FLIRT on /home/minyoungxi/MINYOUNGXI/XFL/Data/OASIS_MNI_to_TRs/masked_volume_39.nii.gz\n"
     ]
    },
    {
     "name": "stderr",
     "output_type": "stream",
     "text": [
      "Processing volumes for subject 30084:  24%|██▍       | 40/164 [03:23<10:37,  5.14s/it]"
     ]
    },
    {
     "name": "stdout",
     "output_type": "stream",
     "text": [
      "Applying mask to /home/minyoungxi/MINYOUNGXI/XFL/Data/OASIS_MNI_to_TRs/volume_40.nii.gz\n",
      "Running FLIRT on /home/minyoungxi/MINYOUNGXI/XFL/Data/OASIS_MNI_to_TRs/masked_volume_40.nii.gz\n"
     ]
    },
    {
     "name": "stderr",
     "output_type": "stream",
     "text": [
      "Processing volumes for subject 30084:  25%|██▌       | 41/164 [03:28<10:32,  5.14s/it]"
     ]
    },
    {
     "name": "stdout",
     "output_type": "stream",
     "text": [
      "Applying mask to /home/minyoungxi/MINYOUNGXI/XFL/Data/OASIS_MNI_to_TRs/volume_41.nii.gz\n",
      "Running FLIRT on /home/minyoungxi/MINYOUNGXI/XFL/Data/OASIS_MNI_to_TRs/masked_volume_41.nii.gz\n"
     ]
    },
    {
     "name": "stderr",
     "output_type": "stream",
     "text": [
      "Processing volumes for subject 30084:  26%|██▌       | 42/164 [03:34<10:26,  5.13s/it]"
     ]
    },
    {
     "name": "stdout",
     "output_type": "stream",
     "text": [
      "Applying mask to /home/minyoungxi/MINYOUNGXI/XFL/Data/OASIS_MNI_to_TRs/volume_42.nii.gz\n",
      "Running FLIRT on /home/minyoungxi/MINYOUNGXI/XFL/Data/OASIS_MNI_to_TRs/masked_volume_42.nii.gz\n"
     ]
    },
    {
     "name": "stderr",
     "output_type": "stream",
     "text": [
      "Processing volumes for subject 30084:  26%|██▌       | 43/164 [03:39<10:21,  5.14s/it]"
     ]
    },
    {
     "name": "stdout",
     "output_type": "stream",
     "text": [
      "Applying mask to /home/minyoungxi/MINYOUNGXI/XFL/Data/OASIS_MNI_to_TRs/volume_43.nii.gz\n",
      "Running FLIRT on /home/minyoungxi/MINYOUNGXI/XFL/Data/OASIS_MNI_to_TRs/masked_volume_43.nii.gz\n"
     ]
    },
    {
     "name": "stderr",
     "output_type": "stream",
     "text": [
      "Processing volumes for subject 30084:  27%|██▋       | 44/164 [03:44<10:18,  5.16s/it]"
     ]
    },
    {
     "name": "stdout",
     "output_type": "stream",
     "text": [
      "Applying mask to /home/minyoungxi/MINYOUNGXI/XFL/Data/OASIS_MNI_to_TRs/volume_44.nii.gz\n",
      "Running FLIRT on /home/minyoungxi/MINYOUNGXI/XFL/Data/OASIS_MNI_to_TRs/masked_volume_44.nii.gz\n"
     ]
    },
    {
     "name": "stderr",
     "output_type": "stream",
     "text": [
      "Processing volumes for subject 30084:  27%|██▋       | 45/164 [03:49<10:07,  5.10s/it]"
     ]
    },
    {
     "name": "stdout",
     "output_type": "stream",
     "text": [
      "Applying mask to /home/minyoungxi/MINYOUNGXI/XFL/Data/OASIS_MNI_to_TRs/volume_45.nii.gz\n",
      "Running FLIRT on /home/minyoungxi/MINYOUNGXI/XFL/Data/OASIS_MNI_to_TRs/masked_volume_45.nii.gz\n"
     ]
    },
    {
     "name": "stderr",
     "output_type": "stream",
     "text": [
      "Processing volumes for subject 30084:  28%|██▊       | 46/164 [03:54<09:56,  5.06s/it]"
     ]
    },
    {
     "name": "stdout",
     "output_type": "stream",
     "text": [
      "Applying mask to /home/minyoungxi/MINYOUNGXI/XFL/Data/OASIS_MNI_to_TRs/volume_46.nii.gz\n",
      "Running FLIRT on /home/minyoungxi/MINYOUNGXI/XFL/Data/OASIS_MNI_to_TRs/masked_volume_46.nii.gz\n"
     ]
    },
    {
     "name": "stderr",
     "output_type": "stream",
     "text": [
      "Processing volumes for subject 30084:  29%|██▊       | 47/164 [03:59<09:50,  5.05s/it]"
     ]
    },
    {
     "name": "stdout",
     "output_type": "stream",
     "text": [
      "Applying mask to /home/minyoungxi/MINYOUNGXI/XFL/Data/OASIS_MNI_to_TRs/volume_47.nii.gz\n",
      "Running FLIRT on /home/minyoungxi/MINYOUNGXI/XFL/Data/OASIS_MNI_to_TRs/masked_volume_47.nii.gz\n"
     ]
    },
    {
     "name": "stderr",
     "output_type": "stream",
     "text": [
      "Processing volumes for subject 30084:  29%|██▉       | 48/164 [04:04<09:39,  5.00s/it]"
     ]
    },
    {
     "name": "stdout",
     "output_type": "stream",
     "text": [
      "Applying mask to /home/minyoungxi/MINYOUNGXI/XFL/Data/OASIS_MNI_to_TRs/volume_48.nii.gz\n",
      "Running FLIRT on /home/minyoungxi/MINYOUNGXI/XFL/Data/OASIS_MNI_to_TRs/masked_volume_48.nii.gz\n"
     ]
    },
    {
     "name": "stderr",
     "output_type": "stream",
     "text": [
      "Processing volumes for subject 30084:  30%|██▉       | 49/164 [04:09<09:34,  5.00s/it]"
     ]
    },
    {
     "name": "stdout",
     "output_type": "stream",
     "text": [
      "Applying mask to /home/minyoungxi/MINYOUNGXI/XFL/Data/OASIS_MNI_to_TRs/volume_49.nii.gz\n",
      "Running FLIRT on /home/minyoungxi/MINYOUNGXI/XFL/Data/OASIS_MNI_to_TRs/masked_volume_49.nii.gz\n"
     ]
    },
    {
     "name": "stderr",
     "output_type": "stream",
     "text": [
      "Processing volumes for subject 30084:  30%|███       | 50/164 [04:14<09:28,  4.99s/it]"
     ]
    },
    {
     "name": "stdout",
     "output_type": "stream",
     "text": [
      "Applying mask to /home/minyoungxi/MINYOUNGXI/XFL/Data/OASIS_MNI_to_TRs/volume_50.nii.gz\n",
      "Running FLIRT on /home/minyoungxi/MINYOUNGXI/XFL/Data/OASIS_MNI_to_TRs/masked_volume_50.nii.gz\n"
     ]
    },
    {
     "name": "stderr",
     "output_type": "stream",
     "text": [
      "Processing volumes for subject 30084:  31%|███       | 51/164 [04:19<09:22,  4.98s/it]"
     ]
    },
    {
     "name": "stdout",
     "output_type": "stream",
     "text": [
      "Applying mask to /home/minyoungxi/MINYOUNGXI/XFL/Data/OASIS_MNI_to_TRs/volume_51.nii.gz\n",
      "Running FLIRT on /home/minyoungxi/MINYOUNGXI/XFL/Data/OASIS_MNI_to_TRs/masked_volume_51.nii.gz\n"
     ]
    },
    {
     "name": "stderr",
     "output_type": "stream",
     "text": [
      "Processing volumes for subject 30084:  32%|███▏      | 52/164 [04:24<09:17,  4.98s/it]"
     ]
    },
    {
     "name": "stdout",
     "output_type": "stream",
     "text": [
      "Applying mask to /home/minyoungxi/MINYOUNGXI/XFL/Data/OASIS_MNI_to_TRs/volume_52.nii.gz\n",
      "Running FLIRT on /home/minyoungxi/MINYOUNGXI/XFL/Data/OASIS_MNI_to_TRs/masked_volume_52.nii.gz\n"
     ]
    },
    {
     "name": "stderr",
     "output_type": "stream",
     "text": [
      "Processing volumes for subject 30084:  32%|███▏      | 53/164 [04:29<09:10,  4.96s/it]"
     ]
    },
    {
     "name": "stdout",
     "output_type": "stream",
     "text": [
      "Applying mask to /home/minyoungxi/MINYOUNGXI/XFL/Data/OASIS_MNI_to_TRs/volume_53.nii.gz\n",
      "Running FLIRT on /home/minyoungxi/MINYOUNGXI/XFL/Data/OASIS_MNI_to_TRs/masked_volume_53.nii.gz\n"
     ]
    },
    {
     "name": "stderr",
     "output_type": "stream",
     "text": [
      "Processing volumes for subject 30084:  33%|███▎      | 54/164 [04:33<09:03,  4.94s/it]"
     ]
    },
    {
     "name": "stdout",
     "output_type": "stream",
     "text": [
      "Applying mask to /home/minyoungxi/MINYOUNGXI/XFL/Data/OASIS_MNI_to_TRs/volume_54.nii.gz\n",
      "Running FLIRT on /home/minyoungxi/MINYOUNGXI/XFL/Data/OASIS_MNI_to_TRs/masked_volume_54.nii.gz\n"
     ]
    },
    {
     "name": "stderr",
     "output_type": "stream",
     "text": [
      "Processing volumes for subject 30084:  34%|███▎      | 55/164 [04:38<08:56,  4.92s/it]"
     ]
    },
    {
     "name": "stdout",
     "output_type": "stream",
     "text": [
      "Applying mask to /home/minyoungxi/MINYOUNGXI/XFL/Data/OASIS_MNI_to_TRs/volume_55.nii.gz\n",
      "Running FLIRT on /home/minyoungxi/MINYOUNGXI/XFL/Data/OASIS_MNI_to_TRs/masked_volume_55.nii.gz\n"
     ]
    },
    {
     "name": "stderr",
     "output_type": "stream",
     "text": [
      "Processing volumes for subject 30084:  34%|███▍      | 56/164 [04:43<08:51,  4.92s/it]"
     ]
    },
    {
     "name": "stdout",
     "output_type": "stream",
     "text": [
      "Applying mask to /home/minyoungxi/MINYOUNGXI/XFL/Data/OASIS_MNI_to_TRs/volume_56.nii.gz\n",
      "Running FLIRT on /home/minyoungxi/MINYOUNGXI/XFL/Data/OASIS_MNI_to_TRs/masked_volume_56.nii.gz\n"
     ]
    },
    {
     "name": "stderr",
     "output_type": "stream",
     "text": [
      "Processing volumes for subject 30084:  35%|███▍      | 57/164 [04:48<08:46,  4.93s/it]"
     ]
    },
    {
     "name": "stdout",
     "output_type": "stream",
     "text": [
      "Applying mask to /home/minyoungxi/MINYOUNGXI/XFL/Data/OASIS_MNI_to_TRs/volume_57.nii.gz\n",
      "Running FLIRT on /home/minyoungxi/MINYOUNGXI/XFL/Data/OASIS_MNI_to_TRs/masked_volume_57.nii.gz\n"
     ]
    },
    {
     "name": "stderr",
     "output_type": "stream",
     "text": [
      "Processing volumes for subject 30084:  35%|███▌      | 58/164 [04:53<08:42,  4.93s/it]"
     ]
    },
    {
     "name": "stdout",
     "output_type": "stream",
     "text": [
      "Applying mask to /home/minyoungxi/MINYOUNGXI/XFL/Data/OASIS_MNI_to_TRs/volume_58.nii.gz\n",
      "Running FLIRT on /home/minyoungxi/MINYOUNGXI/XFL/Data/OASIS_MNI_to_TRs/masked_volume_58.nii.gz\n"
     ]
    },
    {
     "name": "stderr",
     "output_type": "stream",
     "text": [
      "Processing volumes for subject 30084:  36%|███▌      | 59/164 [04:58<08:38,  4.94s/it]"
     ]
    },
    {
     "name": "stdout",
     "output_type": "stream",
     "text": [
      "Applying mask to /home/minyoungxi/MINYOUNGXI/XFL/Data/OASIS_MNI_to_TRs/volume_59.nii.gz\n",
      "Running FLIRT on /home/minyoungxi/MINYOUNGXI/XFL/Data/OASIS_MNI_to_TRs/masked_volume_59.nii.gz\n"
     ]
    },
    {
     "name": "stderr",
     "output_type": "stream",
     "text": [
      "Processing volumes for subject 30084:  37%|███▋      | 60/164 [05:03<08:32,  4.93s/it]"
     ]
    },
    {
     "name": "stdout",
     "output_type": "stream",
     "text": [
      "Applying mask to /home/minyoungxi/MINYOUNGXI/XFL/Data/OASIS_MNI_to_TRs/volume_60.nii.gz\n",
      "Running FLIRT on /home/minyoungxi/MINYOUNGXI/XFL/Data/OASIS_MNI_to_TRs/masked_volume_60.nii.gz\n"
     ]
    },
    {
     "name": "stderr",
     "output_type": "stream",
     "text": [
      "Processing volumes for subject 30084:  37%|███▋      | 61/164 [05:08<08:28,  4.93s/it]"
     ]
    },
    {
     "name": "stdout",
     "output_type": "stream",
     "text": [
      "Applying mask to /home/minyoungxi/MINYOUNGXI/XFL/Data/OASIS_MNI_to_TRs/volume_61.nii.gz\n",
      "Running FLIRT on /home/minyoungxi/MINYOUNGXI/XFL/Data/OASIS_MNI_to_TRs/masked_volume_61.nii.gz\n"
     ]
    },
    {
     "name": "stderr",
     "output_type": "stream",
     "text": [
      "Processing volumes for subject 30084:  38%|███▊      | 62/164 [05:13<08:27,  4.97s/it]"
     ]
    },
    {
     "name": "stdout",
     "output_type": "stream",
     "text": [
      "Applying mask to /home/minyoungxi/MINYOUNGXI/XFL/Data/OASIS_MNI_to_TRs/volume_62.nii.gz\n",
      "Running FLIRT on /home/minyoungxi/MINYOUNGXI/XFL/Data/OASIS_MNI_to_TRs/masked_volume_62.nii.gz\n"
     ]
    },
    {
     "name": "stderr",
     "output_type": "stream",
     "text": [
      "Processing volumes for subject 30084:  38%|███▊      | 63/164 [05:18<08:20,  4.95s/it]"
     ]
    },
    {
     "name": "stdout",
     "output_type": "stream",
     "text": [
      "Applying mask to /home/minyoungxi/MINYOUNGXI/XFL/Data/OASIS_MNI_to_TRs/volume_63.nii.gz\n",
      "Running FLIRT on /home/minyoungxi/MINYOUNGXI/XFL/Data/OASIS_MNI_to_TRs/masked_volume_63.nii.gz\n"
     ]
    },
    {
     "name": "stderr",
     "output_type": "stream",
     "text": [
      "Processing volumes for subject 30084:  39%|███▉      | 64/164 [05:23<08:12,  4.93s/it]"
     ]
    },
    {
     "name": "stdout",
     "output_type": "stream",
     "text": [
      "Applying mask to /home/minyoungxi/MINYOUNGXI/XFL/Data/OASIS_MNI_to_TRs/volume_64.nii.gz\n",
      "Running FLIRT on /home/minyoungxi/MINYOUNGXI/XFL/Data/OASIS_MNI_to_TRs/masked_volume_64.nii.gz\n"
     ]
    },
    {
     "name": "stderr",
     "output_type": "stream",
     "text": [
      "Processing volumes for subject 30084:  40%|███▉      | 65/164 [05:28<08:08,  4.93s/it]"
     ]
    },
    {
     "name": "stdout",
     "output_type": "stream",
     "text": [
      "Applying mask to /home/minyoungxi/MINYOUNGXI/XFL/Data/OASIS_MNI_to_TRs/volume_65.nii.gz\n",
      "Running FLIRT on /home/minyoungxi/MINYOUNGXI/XFL/Data/OASIS_MNI_to_TRs/masked_volume_65.nii.gz\n"
     ]
    },
    {
     "name": "stderr",
     "output_type": "stream",
     "text": [
      "Processing volumes for subject 30084:  40%|████      | 66/164 [05:33<08:03,  4.93s/it]"
     ]
    },
    {
     "name": "stdout",
     "output_type": "stream",
     "text": [
      "Applying mask to /home/minyoungxi/MINYOUNGXI/XFL/Data/OASIS_MNI_to_TRs/volume_66.nii.gz\n",
      "Running FLIRT on /home/minyoungxi/MINYOUNGXI/XFL/Data/OASIS_MNI_to_TRs/masked_volume_66.nii.gz\n"
     ]
    },
    {
     "name": "stderr",
     "output_type": "stream",
     "text": [
      "Processing volumes for subject 30084:  41%|████      | 67/164 [05:38<07:58,  4.94s/it]"
     ]
    },
    {
     "name": "stdout",
     "output_type": "stream",
     "text": [
      "Applying mask to /home/minyoungxi/MINYOUNGXI/XFL/Data/OASIS_MNI_to_TRs/volume_67.nii.gz\n",
      "Running FLIRT on /home/minyoungxi/MINYOUNGXI/XFL/Data/OASIS_MNI_to_TRs/masked_volume_67.nii.gz\n"
     ]
    },
    {
     "name": "stderr",
     "output_type": "stream",
     "text": [
      "Processing volumes for subject 30084:  41%|████▏     | 68/164 [05:43<07:55,  4.95s/it]"
     ]
    },
    {
     "name": "stdout",
     "output_type": "stream",
     "text": [
      "Applying mask to /home/minyoungxi/MINYOUNGXI/XFL/Data/OASIS_MNI_to_TRs/volume_68.nii.gz\n",
      "Running FLIRT on /home/minyoungxi/MINYOUNGXI/XFL/Data/OASIS_MNI_to_TRs/masked_volume_68.nii.gz\n"
     ]
    },
    {
     "name": "stderr",
     "output_type": "stream",
     "text": [
      "Processing volumes for subject 30084:  42%|████▏     | 69/164 [05:48<07:50,  4.95s/it]"
     ]
    },
    {
     "name": "stdout",
     "output_type": "stream",
     "text": [
      "Applying mask to /home/minyoungxi/MINYOUNGXI/XFL/Data/OASIS_MNI_to_TRs/volume_69.nii.gz\n",
      "Running FLIRT on /home/minyoungxi/MINYOUNGXI/XFL/Data/OASIS_MNI_to_TRs/masked_volume_69.nii.gz\n"
     ]
    },
    {
     "name": "stderr",
     "output_type": "stream",
     "text": [
      "Processing volumes for subject 30084:  43%|████▎     | 70/164 [05:52<07:44,  4.94s/it]"
     ]
    },
    {
     "name": "stdout",
     "output_type": "stream",
     "text": [
      "Applying mask to /home/minyoungxi/MINYOUNGXI/XFL/Data/OASIS_MNI_to_TRs/volume_70.nii.gz\n",
      "Running FLIRT on /home/minyoungxi/MINYOUNGXI/XFL/Data/OASIS_MNI_to_TRs/masked_volume_70.nii.gz\n"
     ]
    },
    {
     "name": "stderr",
     "output_type": "stream",
     "text": [
      "Processing volumes for subject 30084:  43%|████▎     | 71/164 [05:58<07:44,  4.99s/it]"
     ]
    },
    {
     "name": "stdout",
     "output_type": "stream",
     "text": [
      "Applying mask to /home/minyoungxi/MINYOUNGXI/XFL/Data/OASIS_MNI_to_TRs/volume_71.nii.gz\n",
      "Running FLIRT on /home/minyoungxi/MINYOUNGXI/XFL/Data/OASIS_MNI_to_TRs/masked_volume_71.nii.gz\n"
     ]
    },
    {
     "name": "stderr",
     "output_type": "stream",
     "text": [
      "Processing volumes for subject 30084:  44%|████▍     | 72/164 [06:02<07:37,  4.97s/it]"
     ]
    },
    {
     "name": "stdout",
     "output_type": "stream",
     "text": [
      "Applying mask to /home/minyoungxi/MINYOUNGXI/XFL/Data/OASIS_MNI_to_TRs/volume_72.nii.gz\n",
      "Running FLIRT on /home/minyoungxi/MINYOUNGXI/XFL/Data/OASIS_MNI_to_TRs/masked_volume_72.nii.gz\n"
     ]
    },
    {
     "name": "stderr",
     "output_type": "stream",
     "text": [
      "Processing volumes for subject 30084:  45%|████▍     | 73/164 [06:07<07:32,  4.97s/it]"
     ]
    },
    {
     "name": "stdout",
     "output_type": "stream",
     "text": [
      "Applying mask to /home/minyoungxi/MINYOUNGXI/XFL/Data/OASIS_MNI_to_TRs/volume_73.nii.gz\n",
      "Running FLIRT on /home/minyoungxi/MINYOUNGXI/XFL/Data/OASIS_MNI_to_TRs/masked_volume_73.nii.gz\n"
     ]
    },
    {
     "name": "stderr",
     "output_type": "stream",
     "text": [
      "Processing volumes for subject 30084:  45%|████▌     | 74/164 [06:12<07:26,  4.96s/it]"
     ]
    },
    {
     "name": "stdout",
     "output_type": "stream",
     "text": [
      "Applying mask to /home/minyoungxi/MINYOUNGXI/XFL/Data/OASIS_MNI_to_TRs/volume_74.nii.gz\n",
      "Running FLIRT on /home/minyoungxi/MINYOUNGXI/XFL/Data/OASIS_MNI_to_TRs/masked_volume_74.nii.gz\n"
     ]
    },
    {
     "name": "stderr",
     "output_type": "stream",
     "text": [
      "Processing volumes for subject 30084:  46%|████▌     | 75/164 [06:17<07:20,  4.95s/it]"
     ]
    },
    {
     "name": "stdout",
     "output_type": "stream",
     "text": [
      "Applying mask to /home/minyoungxi/MINYOUNGXI/XFL/Data/OASIS_MNI_to_TRs/volume_75.nii.gz\n",
      "Running FLIRT on /home/minyoungxi/MINYOUNGXI/XFL/Data/OASIS_MNI_to_TRs/masked_volume_75.nii.gz\n"
     ]
    },
    {
     "name": "stderr",
     "output_type": "stream",
     "text": [
      "Processing volumes for subject 30084:  46%|████▋     | 76/164 [06:22<07:15,  4.95s/it]"
     ]
    },
    {
     "name": "stdout",
     "output_type": "stream",
     "text": [
      "Applying mask to /home/minyoungxi/MINYOUNGXI/XFL/Data/OASIS_MNI_to_TRs/volume_76.nii.gz\n",
      "Running FLIRT on /home/minyoungxi/MINYOUNGXI/XFL/Data/OASIS_MNI_to_TRs/masked_volume_76.nii.gz\n"
     ]
    },
    {
     "name": "stderr",
     "output_type": "stream",
     "text": [
      "Processing volumes for subject 30084:  47%|████▋     | 77/164 [06:27<07:10,  4.95s/it]"
     ]
    },
    {
     "name": "stdout",
     "output_type": "stream",
     "text": [
      "Applying mask to /home/minyoungxi/MINYOUNGXI/XFL/Data/OASIS_MNI_to_TRs/volume_77.nii.gz\n",
      "Running FLIRT on /home/minyoungxi/MINYOUNGXI/XFL/Data/OASIS_MNI_to_TRs/masked_volume_77.nii.gz\n"
     ]
    },
    {
     "name": "stderr",
     "output_type": "stream",
     "text": [
      "Processing volumes for subject 30084:  48%|████▊     | 78/164 [06:32<07:07,  4.98s/it]"
     ]
    },
    {
     "name": "stdout",
     "output_type": "stream",
     "text": [
      "Applying mask to /home/minyoungxi/MINYOUNGXI/XFL/Data/OASIS_MNI_to_TRs/volume_78.nii.gz\n",
      "Running FLIRT on /home/minyoungxi/MINYOUNGXI/XFL/Data/OASIS_MNI_to_TRs/masked_volume_78.nii.gz\n"
     ]
    },
    {
     "name": "stderr",
     "output_type": "stream",
     "text": [
      "Processing volumes for subject 30084:  48%|████▊     | 79/164 [06:37<07:01,  4.96s/it]"
     ]
    },
    {
     "name": "stdout",
     "output_type": "stream",
     "text": [
      "Applying mask to /home/minyoungxi/MINYOUNGXI/XFL/Data/OASIS_MNI_to_TRs/volume_79.nii.gz\n",
      "Running FLIRT on /home/minyoungxi/MINYOUNGXI/XFL/Data/OASIS_MNI_to_TRs/masked_volume_79.nii.gz\n"
     ]
    },
    {
     "name": "stderr",
     "output_type": "stream",
     "text": [
      "Processing volumes for subject 30084:  49%|████▉     | 80/164 [06:42<06:57,  4.97s/it]"
     ]
    },
    {
     "name": "stdout",
     "output_type": "stream",
     "text": [
      "Applying mask to /home/minyoungxi/MINYOUNGXI/XFL/Data/OASIS_MNI_to_TRs/volume_80.nii.gz\n",
      "Running FLIRT on /home/minyoungxi/MINYOUNGXI/XFL/Data/OASIS_MNI_to_TRs/masked_volume_80.nii.gz\n"
     ]
    },
    {
     "name": "stderr",
     "output_type": "stream",
     "text": [
      "Processing volumes for subject 30084:  49%|████▉     | 81/164 [06:47<06:52,  4.97s/it]"
     ]
    },
    {
     "name": "stdout",
     "output_type": "stream",
     "text": [
      "Applying mask to /home/minyoungxi/MINYOUNGXI/XFL/Data/OASIS_MNI_to_TRs/volume_81.nii.gz\n",
      "Running FLIRT on /home/minyoungxi/MINYOUNGXI/XFL/Data/OASIS_MNI_to_TRs/masked_volume_81.nii.gz\n"
     ]
    },
    {
     "name": "stderr",
     "output_type": "stream",
     "text": [
      "Processing volumes for subject 30084:  50%|█████     | 82/164 [06:52<06:47,  4.96s/it]"
     ]
    },
    {
     "name": "stdout",
     "output_type": "stream",
     "text": [
      "Applying mask to /home/minyoungxi/MINYOUNGXI/XFL/Data/OASIS_MNI_to_TRs/volume_82.nii.gz\n",
      "Running FLIRT on /home/minyoungxi/MINYOUNGXI/XFL/Data/OASIS_MNI_to_TRs/masked_volume_82.nii.gz\n"
     ]
    },
    {
     "name": "stderr",
     "output_type": "stream",
     "text": [
      "Processing volumes for subject 30084:  51%|█████     | 83/164 [06:57<06:45,  5.00s/it]"
     ]
    },
    {
     "name": "stdout",
     "output_type": "stream",
     "text": [
      "Applying mask to /home/minyoungxi/MINYOUNGXI/XFL/Data/OASIS_MNI_to_TRs/volume_83.nii.gz\n",
      "Running FLIRT on /home/minyoungxi/MINYOUNGXI/XFL/Data/OASIS_MNI_to_TRs/masked_volume_83.nii.gz\n"
     ]
    },
    {
     "name": "stderr",
     "output_type": "stream",
     "text": [
      "Processing volumes for subject 30084:  51%|█████     | 84/164 [07:02<06:38,  4.99s/it]"
     ]
    },
    {
     "name": "stdout",
     "output_type": "stream",
     "text": [
      "Applying mask to /home/minyoungxi/MINYOUNGXI/XFL/Data/OASIS_MNI_to_TRs/volume_84.nii.gz\n",
      "Running FLIRT on /home/minyoungxi/MINYOUNGXI/XFL/Data/OASIS_MNI_to_TRs/masked_volume_84.nii.gz\n"
     ]
    },
    {
     "name": "stderr",
     "output_type": "stream",
     "text": [
      "Processing volumes for subject 30084:  52%|█████▏    | 85/164 [07:07<06:33,  4.99s/it]"
     ]
    },
    {
     "name": "stdout",
     "output_type": "stream",
     "text": [
      "Applying mask to /home/minyoungxi/MINYOUNGXI/XFL/Data/OASIS_MNI_to_TRs/volume_85.nii.gz\n",
      "Running FLIRT on /home/minyoungxi/MINYOUNGXI/XFL/Data/OASIS_MNI_to_TRs/masked_volume_85.nii.gz\n"
     ]
    },
    {
     "name": "stderr",
     "output_type": "stream",
     "text": [
      "Processing volumes for subject 30084:  52%|█████▏    | 86/164 [07:12<06:28,  4.98s/it]"
     ]
    },
    {
     "name": "stdout",
     "output_type": "stream",
     "text": [
      "Applying mask to /home/minyoungxi/MINYOUNGXI/XFL/Data/OASIS_MNI_to_TRs/volume_86.nii.gz\n",
      "Running FLIRT on /home/minyoungxi/MINYOUNGXI/XFL/Data/OASIS_MNI_to_TRs/masked_volume_86.nii.gz\n"
     ]
    },
    {
     "name": "stderr",
     "output_type": "stream",
     "text": [
      "Processing volumes for subject 30084:  53%|█████▎    | 87/164 [07:17<06:25,  5.00s/it]"
     ]
    },
    {
     "name": "stdout",
     "output_type": "stream",
     "text": [
      "Applying mask to /home/minyoungxi/MINYOUNGXI/XFL/Data/OASIS_MNI_to_TRs/volume_87.nii.gz\n",
      "Running FLIRT on /home/minyoungxi/MINYOUNGXI/XFL/Data/OASIS_MNI_to_TRs/masked_volume_87.nii.gz\n"
     ]
    },
    {
     "name": "stderr",
     "output_type": "stream",
     "text": [
      "Processing volumes for subject 30084:  54%|█████▎    | 88/164 [07:22<06:20,  5.01s/it]"
     ]
    },
    {
     "name": "stdout",
     "output_type": "stream",
     "text": [
      "Applying mask to /home/minyoungxi/MINYOUNGXI/XFL/Data/OASIS_MNI_to_TRs/volume_88.nii.gz\n",
      "Running FLIRT on /home/minyoungxi/MINYOUNGXI/XFL/Data/OASIS_MNI_to_TRs/masked_volume_88.nii.gz\n"
     ]
    },
    {
     "name": "stderr",
     "output_type": "stream",
     "text": [
      "Processing volumes for subject 30084:  54%|█████▍    | 89/164 [07:27<06:19,  5.06s/it]"
     ]
    },
    {
     "name": "stdout",
     "output_type": "stream",
     "text": [
      "Applying mask to /home/minyoungxi/MINYOUNGXI/XFL/Data/OASIS_MNI_to_TRs/volume_89.nii.gz\n",
      "Running FLIRT on /home/minyoungxi/MINYOUNGXI/XFL/Data/OASIS_MNI_to_TRs/masked_volume_89.nii.gz\n"
     ]
    },
    {
     "name": "stderr",
     "output_type": "stream",
     "text": [
      "Processing volumes for subject 30084:  55%|█████▍    | 90/164 [07:33<06:18,  5.11s/it]"
     ]
    },
    {
     "name": "stdout",
     "output_type": "stream",
     "text": [
      "Applying mask to /home/minyoungxi/MINYOUNGXI/XFL/Data/OASIS_MNI_to_TRs/volume_90.nii.gz\n",
      "Running FLIRT on /home/minyoungxi/MINYOUNGXI/XFL/Data/OASIS_MNI_to_TRs/masked_volume_90.nii.gz\n"
     ]
    },
    {
     "name": "stderr",
     "output_type": "stream",
     "text": [
      "Processing volumes for subject 30084:  55%|█████▌    | 91/164 [07:38<06:13,  5.12s/it]"
     ]
    },
    {
     "name": "stdout",
     "output_type": "stream",
     "text": [
      "Applying mask to /home/minyoungxi/MINYOUNGXI/XFL/Data/OASIS_MNI_to_TRs/volume_91.nii.gz\n",
      "Running FLIRT on /home/minyoungxi/MINYOUNGXI/XFL/Data/OASIS_MNI_to_TRs/masked_volume_91.nii.gz\n"
     ]
    },
    {
     "name": "stderr",
     "output_type": "stream",
     "text": [
      "Processing volumes for subject 30084:  56%|█████▌    | 92/164 [07:43<06:06,  5.09s/it]"
     ]
    },
    {
     "name": "stdout",
     "output_type": "stream",
     "text": [
      "Applying mask to /home/minyoungxi/MINYOUNGXI/XFL/Data/OASIS_MNI_to_TRs/volume_92.nii.gz\n",
      "Running FLIRT on /home/minyoungxi/MINYOUNGXI/XFL/Data/OASIS_MNI_to_TRs/masked_volume_92.nii.gz\n"
     ]
    },
    {
     "name": "stderr",
     "output_type": "stream",
     "text": [
      "Processing volumes for subject 30084:  57%|█████▋    | 93/164 [07:48<06:00,  5.08s/it]"
     ]
    },
    {
     "name": "stdout",
     "output_type": "stream",
     "text": [
      "Applying mask to /home/minyoungxi/MINYOUNGXI/XFL/Data/OASIS_MNI_to_TRs/volume_93.nii.gz\n",
      "Running FLIRT on /home/minyoungxi/MINYOUNGXI/XFL/Data/OASIS_MNI_to_TRs/masked_volume_93.nii.gz\n"
     ]
    },
    {
     "name": "stderr",
     "output_type": "stream",
     "text": [
      "Processing volumes for subject 30084:  57%|█████▋    | 94/164 [07:53<05:55,  5.08s/it]"
     ]
    },
    {
     "name": "stdout",
     "output_type": "stream",
     "text": [
      "Applying mask to /home/minyoungxi/MINYOUNGXI/XFL/Data/OASIS_MNI_to_TRs/volume_94.nii.gz\n",
      "Running FLIRT on /home/minyoungxi/MINYOUNGXI/XFL/Data/OASIS_MNI_to_TRs/masked_volume_94.nii.gz\n"
     ]
    },
    {
     "name": "stderr",
     "output_type": "stream",
     "text": [
      "Processing volumes for subject 30084:  58%|█████▊    | 95/164 [07:58<05:50,  5.08s/it]"
     ]
    },
    {
     "name": "stdout",
     "output_type": "stream",
     "text": [
      "Applying mask to /home/minyoungxi/MINYOUNGXI/XFL/Data/OASIS_MNI_to_TRs/volume_95.nii.gz\n",
      "Running FLIRT on /home/minyoungxi/MINYOUNGXI/XFL/Data/OASIS_MNI_to_TRs/masked_volume_95.nii.gz\n"
     ]
    },
    {
     "name": "stderr",
     "output_type": "stream",
     "text": [
      "Processing volumes for subject 30084:  59%|█████▊    | 96/164 [08:03<05:48,  5.12s/it]"
     ]
    },
    {
     "name": "stdout",
     "output_type": "stream",
     "text": [
      "Applying mask to /home/minyoungxi/MINYOUNGXI/XFL/Data/OASIS_MNI_to_TRs/volume_96.nii.gz\n",
      "Running FLIRT on /home/minyoungxi/MINYOUNGXI/XFL/Data/OASIS_MNI_to_TRs/masked_volume_96.nii.gz\n"
     ]
    },
    {
     "name": "stderr",
     "output_type": "stream",
     "text": [
      "Processing volumes for subject 30084:  59%|█████▉    | 97/164 [08:08<05:41,  5.10s/it]"
     ]
    },
    {
     "name": "stdout",
     "output_type": "stream",
     "text": [
      "Applying mask to /home/minyoungxi/MINYOUNGXI/XFL/Data/OASIS_MNI_to_TRs/volume_97.nii.gz\n",
      "Running FLIRT on /home/minyoungxi/MINYOUNGXI/XFL/Data/OASIS_MNI_to_TRs/masked_volume_97.nii.gz\n"
     ]
    },
    {
     "name": "stderr",
     "output_type": "stream",
     "text": [
      "Processing volumes for subject 30084:  60%|█████▉    | 98/164 [08:13<05:35,  5.09s/it]"
     ]
    },
    {
     "name": "stdout",
     "output_type": "stream",
     "text": [
      "Applying mask to /home/minyoungxi/MINYOUNGXI/XFL/Data/OASIS_MNI_to_TRs/volume_98.nii.gz\n",
      "Running FLIRT on /home/minyoungxi/MINYOUNGXI/XFL/Data/OASIS_MNI_to_TRs/masked_volume_98.nii.gz\n"
     ]
    },
    {
     "name": "stderr",
     "output_type": "stream",
     "text": [
      "Processing volumes for subject 30084:  60%|██████    | 99/164 [08:18<05:29,  5.07s/it]"
     ]
    },
    {
     "name": "stdout",
     "output_type": "stream",
     "text": [
      "Applying mask to /home/minyoungxi/MINYOUNGXI/XFL/Data/OASIS_MNI_to_TRs/volume_99.nii.gz\n",
      "Running FLIRT on /home/minyoungxi/MINYOUNGXI/XFL/Data/OASIS_MNI_to_TRs/masked_volume_99.nii.gz\n"
     ]
    },
    {
     "name": "stderr",
     "output_type": "stream",
     "text": [
      "Processing volumes for subject 30084:  61%|██████    | 100/164 [08:23<05:23,  5.05s/it]"
     ]
    },
    {
     "name": "stdout",
     "output_type": "stream",
     "text": [
      "Applying mask to /home/minyoungxi/MINYOUNGXI/XFL/Data/OASIS_MNI_to_TRs/volume_100.nii.gz\n",
      "Running FLIRT on /home/minyoungxi/MINYOUNGXI/XFL/Data/OASIS_MNI_to_TRs/masked_volume_100.nii.gz\n"
     ]
    },
    {
     "name": "stderr",
     "output_type": "stream",
     "text": [
      "Processing volumes for subject 30084:  62%|██████▏   | 101/164 [08:28<05:17,  5.05s/it]"
     ]
    },
    {
     "name": "stdout",
     "output_type": "stream",
     "text": [
      "Applying mask to /home/minyoungxi/MINYOUNGXI/XFL/Data/OASIS_MNI_to_TRs/volume_101.nii.gz\n",
      "Running FLIRT on /home/minyoungxi/MINYOUNGXI/XFL/Data/OASIS_MNI_to_TRs/masked_volume_101.nii.gz\n"
     ]
    },
    {
     "name": "stderr",
     "output_type": "stream",
     "text": [
      "Processing volumes for subject 30084:  62%|██████▏   | 102/164 [08:33<05:14,  5.07s/it]"
     ]
    },
    {
     "name": "stdout",
     "output_type": "stream",
     "text": [
      "Applying mask to /home/minyoungxi/MINYOUNGXI/XFL/Data/OASIS_MNI_to_TRs/volume_102.nii.gz\n",
      "Running FLIRT on /home/minyoungxi/MINYOUNGXI/XFL/Data/OASIS_MNI_to_TRs/masked_volume_102.nii.gz\n"
     ]
    },
    {
     "name": "stderr",
     "output_type": "stream",
     "text": [
      "Processing volumes for subject 30084:  63%|██████▎   | 103/164 [08:38<05:08,  5.05s/it]"
     ]
    },
    {
     "name": "stdout",
     "output_type": "stream",
     "text": [
      "Applying mask to /home/minyoungxi/MINYOUNGXI/XFL/Data/OASIS_MNI_to_TRs/volume_103.nii.gz\n",
      "Running FLIRT on /home/minyoungxi/MINYOUNGXI/XFL/Data/OASIS_MNI_to_TRs/masked_volume_103.nii.gz\n"
     ]
    },
    {
     "name": "stderr",
     "output_type": "stream",
     "text": [
      "Processing volumes for subject 30084:  63%|██████▎   | 104/164 [08:44<05:02,  5.05s/it]"
     ]
    },
    {
     "name": "stdout",
     "output_type": "stream",
     "text": [
      "Applying mask to /home/minyoungxi/MINYOUNGXI/XFL/Data/OASIS_MNI_to_TRs/volume_104.nii.gz\n",
      "Running FLIRT on /home/minyoungxi/MINYOUNGXI/XFL/Data/OASIS_MNI_to_TRs/masked_volume_104.nii.gz\n"
     ]
    },
    {
     "name": "stderr",
     "output_type": "stream",
     "text": [
      "Processing volumes for subject 30084:  64%|██████▍   | 105/164 [08:49<04:58,  5.06s/it]"
     ]
    },
    {
     "name": "stdout",
     "output_type": "stream",
     "text": [
      "Applying mask to /home/minyoungxi/MINYOUNGXI/XFL/Data/OASIS_MNI_to_TRs/volume_105.nii.gz\n",
      "Running FLIRT on /home/minyoungxi/MINYOUNGXI/XFL/Data/OASIS_MNI_to_TRs/masked_volume_105.nii.gz\n"
     ]
    },
    {
     "name": "stderr",
     "output_type": "stream",
     "text": [
      "Processing volumes for subject 30084:  65%|██████▍   | 106/164 [08:54<04:53,  5.06s/it]"
     ]
    },
    {
     "name": "stdout",
     "output_type": "stream",
     "text": [
      "Applying mask to /home/minyoungxi/MINYOUNGXI/XFL/Data/OASIS_MNI_to_TRs/volume_106.nii.gz\n",
      "Running FLIRT on /home/minyoungxi/MINYOUNGXI/XFL/Data/OASIS_MNI_to_TRs/masked_volume_106.nii.gz\n"
     ]
    },
    {
     "name": "stderr",
     "output_type": "stream",
     "text": [
      "Processing volumes for subject 30084:  65%|██████▌   | 107/164 [08:59<04:50,  5.10s/it]"
     ]
    },
    {
     "name": "stdout",
     "output_type": "stream",
     "text": [
      "Applying mask to /home/minyoungxi/MINYOUNGXI/XFL/Data/OASIS_MNI_to_TRs/volume_107.nii.gz\n",
      "Running FLIRT on /home/minyoungxi/MINYOUNGXI/XFL/Data/OASIS_MNI_to_TRs/masked_volume_107.nii.gz\n"
     ]
    },
    {
     "name": "stderr",
     "output_type": "stream",
     "text": [
      "Processing volumes for subject 30084:  66%|██████▌   | 108/164 [09:04<04:43,  5.07s/it]"
     ]
    },
    {
     "name": "stdout",
     "output_type": "stream",
     "text": [
      "Applying mask to /home/minyoungxi/MINYOUNGXI/XFL/Data/OASIS_MNI_to_TRs/volume_108.nii.gz\n",
      "Running FLIRT on /home/minyoungxi/MINYOUNGXI/XFL/Data/OASIS_MNI_to_TRs/masked_volume_108.nii.gz\n"
     ]
    },
    {
     "name": "stderr",
     "output_type": "stream",
     "text": [
      "Processing volumes for subject 30084:  66%|██████▋   | 109/164 [09:09<04:38,  5.07s/it]"
     ]
    },
    {
     "name": "stdout",
     "output_type": "stream",
     "text": [
      "Applying mask to /home/minyoungxi/MINYOUNGXI/XFL/Data/OASIS_MNI_to_TRs/volume_109.nii.gz\n",
      "Running FLIRT on /home/minyoungxi/MINYOUNGXI/XFL/Data/OASIS_MNI_to_TRs/masked_volume_109.nii.gz\n"
     ]
    },
    {
     "name": "stderr",
     "output_type": "stream",
     "text": [
      "Processing volumes for subject 30084:  67%|██████▋   | 110/164 [09:14<04:33,  5.07s/it]"
     ]
    },
    {
     "name": "stdout",
     "output_type": "stream",
     "text": [
      "Applying mask to /home/minyoungxi/MINYOUNGXI/XFL/Data/OASIS_MNI_to_TRs/volume_110.nii.gz\n",
      "Running FLIRT on /home/minyoungxi/MINYOUNGXI/XFL/Data/OASIS_MNI_to_TRs/masked_volume_110.nii.gz\n"
     ]
    },
    {
     "name": "stderr",
     "output_type": "stream",
     "text": [
      "Processing volumes for subject 30084:  68%|██████▊   | 111/164 [09:19<04:27,  5.05s/it]"
     ]
    },
    {
     "name": "stdout",
     "output_type": "stream",
     "text": [
      "Applying mask to /home/minyoungxi/MINYOUNGXI/XFL/Data/OASIS_MNI_to_TRs/volume_111.nii.gz\n",
      "Running FLIRT on /home/minyoungxi/MINYOUNGXI/XFL/Data/OASIS_MNI_to_TRs/masked_volume_111.nii.gz\n"
     ]
    },
    {
     "name": "stderr",
     "output_type": "stream",
     "text": [
      "Processing volumes for subject 30084:  68%|██████▊   | 112/164 [09:24<04:23,  5.07s/it]"
     ]
    },
    {
     "name": "stdout",
     "output_type": "stream",
     "text": [
      "Applying mask to /home/minyoungxi/MINYOUNGXI/XFL/Data/OASIS_MNI_to_TRs/volume_112.nii.gz\n",
      "Running FLIRT on /home/minyoungxi/MINYOUNGXI/XFL/Data/OASIS_MNI_to_TRs/masked_volume_112.nii.gz\n"
     ]
    },
    {
     "name": "stderr",
     "output_type": "stream",
     "text": [
      "Processing volumes for subject 30084:  69%|██████▉   | 113/164 [09:29<04:18,  5.07s/it]"
     ]
    },
    {
     "name": "stdout",
     "output_type": "stream",
     "text": [
      "Applying mask to /home/minyoungxi/MINYOUNGXI/XFL/Data/OASIS_MNI_to_TRs/volume_113.nii.gz\n",
      "Running FLIRT on /home/minyoungxi/MINYOUNGXI/XFL/Data/OASIS_MNI_to_TRs/masked_volume_113.nii.gz\n"
     ]
    },
    {
     "name": "stderr",
     "output_type": "stream",
     "text": [
      "Processing volumes for subject 30084:  70%|██████▉   | 114/164 [09:34<04:12,  5.05s/it]"
     ]
    },
    {
     "name": "stdout",
     "output_type": "stream",
     "text": [
      "Applying mask to /home/minyoungxi/MINYOUNGXI/XFL/Data/OASIS_MNI_to_TRs/volume_114.nii.gz\n",
      "Running FLIRT on /home/minyoungxi/MINYOUNGXI/XFL/Data/OASIS_MNI_to_TRs/masked_volume_114.nii.gz\n"
     ]
    },
    {
     "name": "stderr",
     "output_type": "stream",
     "text": [
      "Processing volumes for subject 30084:  70%|███████   | 115/164 [09:39<04:07,  5.06s/it]"
     ]
    },
    {
     "name": "stdout",
     "output_type": "stream",
     "text": [
      "Applying mask to /home/minyoungxi/MINYOUNGXI/XFL/Data/OASIS_MNI_to_TRs/volume_115.nii.gz\n",
      "Running FLIRT on /home/minyoungxi/MINYOUNGXI/XFL/Data/OASIS_MNI_to_TRs/masked_volume_115.nii.gz\n"
     ]
    },
    {
     "name": "stderr",
     "output_type": "stream",
     "text": [
      "Processing volumes for subject 30084:  71%|███████   | 116/164 [09:44<04:01,  5.03s/it]"
     ]
    },
    {
     "name": "stdout",
     "output_type": "stream",
     "text": [
      "Applying mask to /home/minyoungxi/MINYOUNGXI/XFL/Data/OASIS_MNI_to_TRs/volume_116.nii.gz\n",
      "Running FLIRT on /home/minyoungxi/MINYOUNGXI/XFL/Data/OASIS_MNI_to_TRs/masked_volume_116.nii.gz\n"
     ]
    },
    {
     "name": "stderr",
     "output_type": "stream",
     "text": [
      "Processing volumes for subject 30084:  71%|███████▏  | 117/164 [09:49<03:55,  5.02s/it]"
     ]
    },
    {
     "name": "stdout",
     "output_type": "stream",
     "text": [
      "Applying mask to /home/minyoungxi/MINYOUNGXI/XFL/Data/OASIS_MNI_to_TRs/volume_117.nii.gz\n",
      "Running FLIRT on /home/minyoungxi/MINYOUNGXI/XFL/Data/OASIS_MNI_to_TRs/masked_volume_117.nii.gz\n"
     ]
    },
    {
     "name": "stderr",
     "output_type": "stream",
     "text": [
      "Processing volumes for subject 30084:  72%|███████▏  | 118/164 [09:54<03:51,  5.04s/it]"
     ]
    },
    {
     "name": "stdout",
     "output_type": "stream",
     "text": [
      "Applying mask to /home/minyoungxi/MINYOUNGXI/XFL/Data/OASIS_MNI_to_TRs/volume_118.nii.gz\n",
      "Running FLIRT on /home/minyoungxi/MINYOUNGXI/XFL/Data/OASIS_MNI_to_TRs/masked_volume_118.nii.gz\n"
     ]
    },
    {
     "name": "stderr",
     "output_type": "stream",
     "text": [
      "Processing volumes for subject 30084:  73%|███████▎  | 119/164 [09:59<03:46,  5.04s/it]"
     ]
    },
    {
     "name": "stdout",
     "output_type": "stream",
     "text": [
      "Applying mask to /home/minyoungxi/MINYOUNGXI/XFL/Data/OASIS_MNI_to_TRs/volume_119.nii.gz\n",
      "Running FLIRT on /home/minyoungxi/MINYOUNGXI/XFL/Data/OASIS_MNI_to_TRs/masked_volume_119.nii.gz\n"
     ]
    },
    {
     "name": "stderr",
     "output_type": "stream",
     "text": [
      "Processing volumes for subject 30084:  73%|███████▎  | 120/164 [10:04<03:41,  5.03s/it]"
     ]
    },
    {
     "name": "stdout",
     "output_type": "stream",
     "text": [
      "Applying mask to /home/minyoungxi/MINYOUNGXI/XFL/Data/OASIS_MNI_to_TRs/volume_120.nii.gz\n",
      "Running FLIRT on /home/minyoungxi/MINYOUNGXI/XFL/Data/OASIS_MNI_to_TRs/masked_volume_120.nii.gz\n"
     ]
    },
    {
     "name": "stderr",
     "output_type": "stream",
     "text": [
      "Processing volumes for subject 30084:  74%|███████▍  | 121/164 [10:09<03:36,  5.03s/it]"
     ]
    },
    {
     "name": "stdout",
     "output_type": "stream",
     "text": [
      "Applying mask to /home/minyoungxi/MINYOUNGXI/XFL/Data/OASIS_MNI_to_TRs/volume_121.nii.gz\n",
      "Running FLIRT on /home/minyoungxi/MINYOUNGXI/XFL/Data/OASIS_MNI_to_TRs/masked_volume_121.nii.gz\n"
     ]
    },
    {
     "name": "stderr",
     "output_type": "stream",
     "text": [
      "Processing volumes for subject 30084:  74%|███████▍  | 122/164 [10:14<03:30,  5.02s/it]"
     ]
    },
    {
     "name": "stdout",
     "output_type": "stream",
     "text": [
      "Applying mask to /home/minyoungxi/MINYOUNGXI/XFL/Data/OASIS_MNI_to_TRs/volume_122.nii.gz\n",
      "Running FLIRT on /home/minyoungxi/MINYOUNGXI/XFL/Data/OASIS_MNI_to_TRs/masked_volume_122.nii.gz\n"
     ]
    },
    {
     "name": "stderr",
     "output_type": "stream",
     "text": [
      "Processing volumes for subject 30084:  75%|███████▌  | 123/164 [10:19<03:26,  5.04s/it]"
     ]
    },
    {
     "name": "stdout",
     "output_type": "stream",
     "text": [
      "Applying mask to /home/minyoungxi/MINYOUNGXI/XFL/Data/OASIS_MNI_to_TRs/volume_123.nii.gz\n",
      "Running FLIRT on /home/minyoungxi/MINYOUNGXI/XFL/Data/OASIS_MNI_to_TRs/masked_volume_123.nii.gz\n"
     ]
    },
    {
     "name": "stderr",
     "output_type": "stream",
     "text": [
      "Processing volumes for subject 30084:  76%|███████▌  | 124/164 [10:24<03:21,  5.03s/it]"
     ]
    },
    {
     "name": "stdout",
     "output_type": "stream",
     "text": [
      "Applying mask to /home/minyoungxi/MINYOUNGXI/XFL/Data/OASIS_MNI_to_TRs/volume_124.nii.gz\n",
      "Running FLIRT on /home/minyoungxi/MINYOUNGXI/XFL/Data/OASIS_MNI_to_TRs/masked_volume_124.nii.gz\n"
     ]
    },
    {
     "name": "stderr",
     "output_type": "stream",
     "text": [
      "Processing volumes for subject 30084:  76%|███████▌  | 125/164 [10:29<03:15,  5.02s/it]"
     ]
    },
    {
     "name": "stdout",
     "output_type": "stream",
     "text": [
      "Applying mask to /home/minyoungxi/MINYOUNGXI/XFL/Data/OASIS_MNI_to_TRs/volume_125.nii.gz\n",
      "Running FLIRT on /home/minyoungxi/MINYOUNGXI/XFL/Data/OASIS_MNI_to_TRs/masked_volume_125.nii.gz\n"
     ]
    },
    {
     "name": "stderr",
     "output_type": "stream",
     "text": [
      "Processing volumes for subject 30084:  77%|███████▋  | 126/164 [10:35<03:11,  5.03s/it]"
     ]
    },
    {
     "name": "stdout",
     "output_type": "stream",
     "text": [
      "Applying mask to /home/minyoungxi/MINYOUNGXI/XFL/Data/OASIS_MNI_to_TRs/volume_126.nii.gz\n",
      "Running FLIRT on /home/minyoungxi/MINYOUNGXI/XFL/Data/OASIS_MNI_to_TRs/masked_volume_126.nii.gz\n"
     ]
    },
    {
     "name": "stderr",
     "output_type": "stream",
     "text": [
      "Processing volumes for subject 30084:  77%|███████▋  | 127/164 [10:40<03:05,  5.02s/it]"
     ]
    },
    {
     "name": "stdout",
     "output_type": "stream",
     "text": [
      "Applying mask to /home/minyoungxi/MINYOUNGXI/XFL/Data/OASIS_MNI_to_TRs/volume_127.nii.gz\n",
      "Running FLIRT on /home/minyoungxi/MINYOUNGXI/XFL/Data/OASIS_MNI_to_TRs/masked_volume_127.nii.gz\n"
     ]
    },
    {
     "name": "stderr",
     "output_type": "stream",
     "text": [
      "Processing volumes for subject 30084:  78%|███████▊  | 128/164 [10:45<03:00,  5.03s/it]"
     ]
    },
    {
     "name": "stdout",
     "output_type": "stream",
     "text": [
      "Applying mask to /home/minyoungxi/MINYOUNGXI/XFL/Data/OASIS_MNI_to_TRs/volume_128.nii.gz\n",
      "Running FLIRT on /home/minyoungxi/MINYOUNGXI/XFL/Data/OASIS_MNI_to_TRs/masked_volume_128.nii.gz\n"
     ]
    },
    {
     "name": "stderr",
     "output_type": "stream",
     "text": [
      "Processing volumes for subject 30084:  79%|███████▊  | 129/164 [10:50<02:55,  5.03s/it]"
     ]
    },
    {
     "name": "stdout",
     "output_type": "stream",
     "text": [
      "Applying mask to /home/minyoungxi/MINYOUNGXI/XFL/Data/OASIS_MNI_to_TRs/volume_129.nii.gz\n",
      "Running FLIRT on /home/minyoungxi/MINYOUNGXI/XFL/Data/OASIS_MNI_to_TRs/masked_volume_129.nii.gz\n"
     ]
    },
    {
     "name": "stderr",
     "output_type": "stream",
     "text": [
      "Processing volumes for subject 30084:  79%|███████▉  | 130/164 [10:55<02:51,  5.03s/it]"
     ]
    },
    {
     "name": "stdout",
     "output_type": "stream",
     "text": [
      "Applying mask to /home/minyoungxi/MINYOUNGXI/XFL/Data/OASIS_MNI_to_TRs/volume_130.nii.gz\n",
      "Running FLIRT on /home/minyoungxi/MINYOUNGXI/XFL/Data/OASIS_MNI_to_TRs/masked_volume_130.nii.gz\n"
     ]
    },
    {
     "name": "stderr",
     "output_type": "stream",
     "text": [
      "Processing volumes for subject 30084:  80%|███████▉  | 131/164 [11:00<02:45,  5.02s/it]"
     ]
    },
    {
     "name": "stdout",
     "output_type": "stream",
     "text": [
      "Applying mask to /home/minyoungxi/MINYOUNGXI/XFL/Data/OASIS_MNI_to_TRs/volume_131.nii.gz\n",
      "Running FLIRT on /home/minyoungxi/MINYOUNGXI/XFL/Data/OASIS_MNI_to_TRs/masked_volume_131.nii.gz\n"
     ]
    },
    {
     "name": "stderr",
     "output_type": "stream",
     "text": [
      "Processing volumes for subject 30084:  80%|████████  | 132/164 [11:05<02:40,  5.02s/it]"
     ]
    },
    {
     "name": "stdout",
     "output_type": "stream",
     "text": [
      "Applying mask to /home/minyoungxi/MINYOUNGXI/XFL/Data/OASIS_MNI_to_TRs/volume_132.nii.gz\n",
      "Running FLIRT on /home/minyoungxi/MINYOUNGXI/XFL/Data/OASIS_MNI_to_TRs/masked_volume_132.nii.gz\n"
     ]
    },
    {
     "name": "stderr",
     "output_type": "stream",
     "text": [
      "Processing volumes for subject 30084:  81%|████████  | 133/164 [11:10<02:35,  5.02s/it]"
     ]
    },
    {
     "name": "stdout",
     "output_type": "stream",
     "text": [
      "Applying mask to /home/minyoungxi/MINYOUNGXI/XFL/Data/OASIS_MNI_to_TRs/volume_133.nii.gz\n",
      "Running FLIRT on /home/minyoungxi/MINYOUNGXI/XFL/Data/OASIS_MNI_to_TRs/masked_volume_133.nii.gz\n"
     ]
    },
    {
     "name": "stderr",
     "output_type": "stream",
     "text": [
      "Processing volumes for subject 30084:  82%|████████▏ | 134/164 [11:15<02:30,  5.02s/it]"
     ]
    },
    {
     "name": "stdout",
     "output_type": "stream",
     "text": [
      "Applying mask to /home/minyoungxi/MINYOUNGXI/XFL/Data/OASIS_MNI_to_TRs/volume_134.nii.gz\n",
      "Running FLIRT on /home/minyoungxi/MINYOUNGXI/XFL/Data/OASIS_MNI_to_TRs/masked_volume_134.nii.gz\n"
     ]
    },
    {
     "name": "stderr",
     "output_type": "stream",
     "text": [
      "Processing volumes for subject 30084:  82%|████████▏ | 135/164 [11:20<02:25,  5.02s/it]"
     ]
    },
    {
     "name": "stdout",
     "output_type": "stream",
     "text": [
      "Applying mask to /home/minyoungxi/MINYOUNGXI/XFL/Data/OASIS_MNI_to_TRs/volume_135.nii.gz\n",
      "Running FLIRT on /home/minyoungxi/MINYOUNGXI/XFL/Data/OASIS_MNI_to_TRs/masked_volume_135.nii.gz\n"
     ]
    },
    {
     "name": "stderr",
     "output_type": "stream",
     "text": [
      "Processing volumes for subject 30084:  83%|████████▎ | 136/164 [11:25<02:20,  5.01s/it]"
     ]
    },
    {
     "name": "stdout",
     "output_type": "stream",
     "text": [
      "Applying mask to /home/minyoungxi/MINYOUNGXI/XFL/Data/OASIS_MNI_to_TRs/volume_136.nii.gz\n",
      "Running FLIRT on /home/minyoungxi/MINYOUNGXI/XFL/Data/OASIS_MNI_to_TRs/masked_volume_136.nii.gz\n"
     ]
    },
    {
     "name": "stderr",
     "output_type": "stream",
     "text": [
      "Processing volumes for subject 30084:  84%|████████▎ | 137/164 [11:30<02:15,  5.03s/it]"
     ]
    },
    {
     "name": "stdout",
     "output_type": "stream",
     "text": [
      "Applying mask to /home/minyoungxi/MINYOUNGXI/XFL/Data/OASIS_MNI_to_TRs/volume_137.nii.gz\n",
      "Running FLIRT on /home/minyoungxi/MINYOUNGXI/XFL/Data/OASIS_MNI_to_TRs/masked_volume_137.nii.gz\n"
     ]
    },
    {
     "name": "stderr",
     "output_type": "stream",
     "text": [
      "Processing volumes for subject 30084:  84%|████████▍ | 138/164 [11:35<02:10,  5.00s/it]"
     ]
    },
    {
     "name": "stdout",
     "output_type": "stream",
     "text": [
      "Applying mask to /home/minyoungxi/MINYOUNGXI/XFL/Data/OASIS_MNI_to_TRs/volume_138.nii.gz\n",
      "Running FLIRT on /home/minyoungxi/MINYOUNGXI/XFL/Data/OASIS_MNI_to_TRs/masked_volume_138.nii.gz\n"
     ]
    },
    {
     "name": "stderr",
     "output_type": "stream",
     "text": [
      "Processing volumes for subject 30084:  85%|████████▍ | 139/164 [11:40<02:05,  5.02s/it]"
     ]
    },
    {
     "name": "stdout",
     "output_type": "stream",
     "text": [
      "Applying mask to /home/minyoungxi/MINYOUNGXI/XFL/Data/OASIS_MNI_to_TRs/volume_139.nii.gz\n",
      "Running FLIRT on /home/minyoungxi/MINYOUNGXI/XFL/Data/OASIS_MNI_to_TRs/masked_volume_139.nii.gz\n"
     ]
    },
    {
     "name": "stderr",
     "output_type": "stream",
     "text": [
      "Processing volumes for subject 30084:  85%|████████▌ | 140/164 [11:45<02:00,  5.02s/it]"
     ]
    },
    {
     "name": "stdout",
     "output_type": "stream",
     "text": [
      "Applying mask to /home/minyoungxi/MINYOUNGXI/XFL/Data/OASIS_MNI_to_TRs/volume_140.nii.gz\n",
      "Running FLIRT on /home/minyoungxi/MINYOUNGXI/XFL/Data/OASIS_MNI_to_TRs/masked_volume_140.nii.gz\n"
     ]
    },
    {
     "name": "stderr",
     "output_type": "stream",
     "text": [
      "Processing volumes for subject 30084:  86%|████████▌ | 141/164 [11:50<01:55,  5.02s/it]"
     ]
    },
    {
     "name": "stdout",
     "output_type": "stream",
     "text": [
      "Applying mask to /home/minyoungxi/MINYOUNGXI/XFL/Data/OASIS_MNI_to_TRs/volume_141.nii.gz\n",
      "Running FLIRT on /home/minyoungxi/MINYOUNGXI/XFL/Data/OASIS_MNI_to_TRs/masked_volume_141.nii.gz\n"
     ]
    },
    {
     "name": "stderr",
     "output_type": "stream",
     "text": [
      "Processing volumes for subject 30084:  87%|████████▋ | 142/164 [11:55<01:50,  5.03s/it]"
     ]
    },
    {
     "name": "stdout",
     "output_type": "stream",
     "text": [
      "Applying mask to /home/minyoungxi/MINYOUNGXI/XFL/Data/OASIS_MNI_to_TRs/volume_142.nii.gz\n",
      "Running FLIRT on /home/minyoungxi/MINYOUNGXI/XFL/Data/OASIS_MNI_to_TRs/masked_volume_142.nii.gz\n"
     ]
    },
    {
     "name": "stderr",
     "output_type": "stream",
     "text": [
      "Processing volumes for subject 30084:  87%|████████▋ | 143/164 [12:00<01:45,  5.02s/it]"
     ]
    },
    {
     "name": "stdout",
     "output_type": "stream",
     "text": [
      "Applying mask to /home/minyoungxi/MINYOUNGXI/XFL/Data/OASIS_MNI_to_TRs/volume_143.nii.gz\n",
      "Running FLIRT on /home/minyoungxi/MINYOUNGXI/XFL/Data/OASIS_MNI_to_TRs/masked_volume_143.nii.gz\n"
     ]
    },
    {
     "name": "stderr",
     "output_type": "stream",
     "text": [
      "Processing volumes for subject 30084:  88%|████████▊ | 144/164 [12:05<01:40,  5.02s/it]"
     ]
    },
    {
     "name": "stdout",
     "output_type": "stream",
     "text": [
      "Applying mask to /home/minyoungxi/MINYOUNGXI/XFL/Data/OASIS_MNI_to_TRs/volume_144.nii.gz\n",
      "Running FLIRT on /home/minyoungxi/MINYOUNGXI/XFL/Data/OASIS_MNI_to_TRs/masked_volume_144.nii.gz\n"
     ]
    },
    {
     "name": "stderr",
     "output_type": "stream",
     "text": [
      "Processing volumes for subject 30084:  88%|████████▊ | 145/164 [12:10<01:35,  5.02s/it]"
     ]
    },
    {
     "name": "stdout",
     "output_type": "stream",
     "text": [
      "Applying mask to /home/minyoungxi/MINYOUNGXI/XFL/Data/OASIS_MNI_to_TRs/volume_145.nii.gz\n",
      "Running FLIRT on /home/minyoungxi/MINYOUNGXI/XFL/Data/OASIS_MNI_to_TRs/masked_volume_145.nii.gz\n"
     ]
    },
    {
     "name": "stderr",
     "output_type": "stream",
     "text": [
      "Processing volumes for subject 30084:  89%|████████▉ | 146/164 [12:15<01:30,  5.02s/it]"
     ]
    },
    {
     "name": "stdout",
     "output_type": "stream",
     "text": [
      "Applying mask to /home/minyoungxi/MINYOUNGXI/XFL/Data/OASIS_MNI_to_TRs/volume_146.nii.gz\n",
      "Running FLIRT on /home/minyoungxi/MINYOUNGXI/XFL/Data/OASIS_MNI_to_TRs/masked_volume_146.nii.gz\n"
     ]
    },
    {
     "name": "stderr",
     "output_type": "stream",
     "text": [
      "Processing volumes for subject 30084:  90%|████████▉ | 147/164 [12:20<01:25,  5.01s/it]"
     ]
    },
    {
     "name": "stdout",
     "output_type": "stream",
     "text": [
      "Applying mask to /home/minyoungxi/MINYOUNGXI/XFL/Data/OASIS_MNI_to_TRs/volume_147.nii.gz\n",
      "Running FLIRT on /home/minyoungxi/MINYOUNGXI/XFL/Data/OASIS_MNI_to_TRs/masked_volume_147.nii.gz\n"
     ]
    },
    {
     "name": "stderr",
     "output_type": "stream",
     "text": [
      "Processing volumes for subject 30084:  90%|█████████ | 148/164 [12:25<01:20,  5.03s/it]"
     ]
    },
    {
     "name": "stdout",
     "output_type": "stream",
     "text": [
      "Applying mask to /home/minyoungxi/MINYOUNGXI/XFL/Data/OASIS_MNI_to_TRs/volume_148.nii.gz\n",
      "Running FLIRT on /home/minyoungxi/MINYOUNGXI/XFL/Data/OASIS_MNI_to_TRs/masked_volume_148.nii.gz\n"
     ]
    },
    {
     "name": "stderr",
     "output_type": "stream",
     "text": [
      "Processing volumes for subject 30084:  91%|█████████ | 149/164 [12:30<01:15,  5.02s/it]"
     ]
    },
    {
     "name": "stdout",
     "output_type": "stream",
     "text": [
      "Applying mask to /home/minyoungxi/MINYOUNGXI/XFL/Data/OASIS_MNI_to_TRs/volume_149.nii.gz\n",
      "Running FLIRT on /home/minyoungxi/MINYOUNGXI/XFL/Data/OASIS_MNI_to_TRs/masked_volume_149.nii.gz\n"
     ]
    },
    {
     "name": "stderr",
     "output_type": "stream",
     "text": [
      "Processing volumes for subject 30084:  91%|█████████▏| 150/164 [12:35<01:10,  5.01s/it]"
     ]
    },
    {
     "name": "stdout",
     "output_type": "stream",
     "text": [
      "Applying mask to /home/minyoungxi/MINYOUNGXI/XFL/Data/OASIS_MNI_to_TRs/volume_150.nii.gz\n",
      "Running FLIRT on /home/minyoungxi/MINYOUNGXI/XFL/Data/OASIS_MNI_to_TRs/masked_volume_150.nii.gz\n"
     ]
    },
    {
     "name": "stderr",
     "output_type": "stream",
     "text": [
      "Processing volumes for subject 30084:  92%|█████████▏| 151/164 [12:40<01:05,  5.00s/it]"
     ]
    },
    {
     "name": "stdout",
     "output_type": "stream",
     "text": [
      "Applying mask to /home/minyoungxi/MINYOUNGXI/XFL/Data/OASIS_MNI_to_TRs/volume_151.nii.gz\n",
      "Running FLIRT on /home/minyoungxi/MINYOUNGXI/XFL/Data/OASIS_MNI_to_TRs/masked_volume_151.nii.gz\n"
     ]
    },
    {
     "name": "stderr",
     "output_type": "stream",
     "text": [
      "Processing volumes for subject 30084:  93%|█████████▎| 152/164 [12:45<01:00,  5.01s/it]"
     ]
    },
    {
     "name": "stdout",
     "output_type": "stream",
     "text": [
      "Applying mask to /home/minyoungxi/MINYOUNGXI/XFL/Data/OASIS_MNI_to_TRs/volume_152.nii.gz\n",
      "Running FLIRT on /home/minyoungxi/MINYOUNGXI/XFL/Data/OASIS_MNI_to_TRs/masked_volume_152.nii.gz\n"
     ]
    },
    {
     "name": "stderr",
     "output_type": "stream",
     "text": [
      "Processing volumes for subject 30084:  93%|█████████▎| 153/164 [12:50<00:54,  5.00s/it]"
     ]
    },
    {
     "name": "stdout",
     "output_type": "stream",
     "text": [
      "Applying mask to /home/minyoungxi/MINYOUNGXI/XFL/Data/OASIS_MNI_to_TRs/volume_153.nii.gz\n",
      "Running FLIRT on /home/minyoungxi/MINYOUNGXI/XFL/Data/OASIS_MNI_to_TRs/masked_volume_153.nii.gz\n"
     ]
    },
    {
     "name": "stderr",
     "output_type": "stream",
     "text": [
      "Processing volumes for subject 30084:  94%|█████████▍| 154/164 [12:55<00:50,  5.04s/it]"
     ]
    },
    {
     "name": "stdout",
     "output_type": "stream",
     "text": [
      "Applying mask to /home/minyoungxi/MINYOUNGXI/XFL/Data/OASIS_MNI_to_TRs/volume_154.nii.gz\n",
      "Running FLIRT on /home/minyoungxi/MINYOUNGXI/XFL/Data/OASIS_MNI_to_TRs/masked_volume_154.nii.gz\n"
     ]
    },
    {
     "name": "stderr",
     "output_type": "stream",
     "text": [
      "Processing volumes for subject 30084:  95%|█████████▍| 155/164 [13:00<00:45,  5.01s/it]"
     ]
    },
    {
     "name": "stdout",
     "output_type": "stream",
     "text": [
      "Applying mask to /home/minyoungxi/MINYOUNGXI/XFL/Data/OASIS_MNI_to_TRs/volume_155.nii.gz\n",
      "Running FLIRT on /home/minyoungxi/MINYOUNGXI/XFL/Data/OASIS_MNI_to_TRs/masked_volume_155.nii.gz\n"
     ]
    },
    {
     "name": "stderr",
     "output_type": "stream",
     "text": [
      "Processing volumes for subject 30084:  95%|█████████▌| 156/164 [13:05<00:40,  5.02s/it]"
     ]
    },
    {
     "name": "stdout",
     "output_type": "stream",
     "text": [
      "Applying mask to /home/minyoungxi/MINYOUNGXI/XFL/Data/OASIS_MNI_to_TRs/volume_156.nii.gz\n",
      "Running FLIRT on /home/minyoungxi/MINYOUNGXI/XFL/Data/OASIS_MNI_to_TRs/masked_volume_156.nii.gz\n"
     ]
    },
    {
     "name": "stderr",
     "output_type": "stream",
     "text": [
      "Processing volumes for subject 30084:  96%|█████████▌| 157/164 [13:10<00:35,  5.01s/it]"
     ]
    },
    {
     "name": "stdout",
     "output_type": "stream",
     "text": [
      "Applying mask to /home/minyoungxi/MINYOUNGXI/XFL/Data/OASIS_MNI_to_TRs/volume_157.nii.gz\n",
      "Running FLIRT on /home/minyoungxi/MINYOUNGXI/XFL/Data/OASIS_MNI_to_TRs/masked_volume_157.nii.gz\n"
     ]
    },
    {
     "name": "stderr",
     "output_type": "stream",
     "text": [
      "Processing volumes for subject 30084:  96%|█████████▋| 158/164 [13:15<00:30,  5.03s/it]"
     ]
    },
    {
     "name": "stdout",
     "output_type": "stream",
     "text": [
      "Applying mask to /home/minyoungxi/MINYOUNGXI/XFL/Data/OASIS_MNI_to_TRs/volume_158.nii.gz\n",
      "Running FLIRT on /home/minyoungxi/MINYOUNGXI/XFL/Data/OASIS_MNI_to_TRs/masked_volume_158.nii.gz\n"
     ]
    },
    {
     "name": "stderr",
     "output_type": "stream",
     "text": [
      "Processing volumes for subject 30084:  97%|█████████▋| 159/164 [13:20<00:25,  5.02s/it]"
     ]
    },
    {
     "name": "stdout",
     "output_type": "stream",
     "text": [
      "Applying mask to /home/minyoungxi/MINYOUNGXI/XFL/Data/OASIS_MNI_to_TRs/volume_159.nii.gz\n",
      "Running FLIRT on /home/minyoungxi/MINYOUNGXI/XFL/Data/OASIS_MNI_to_TRs/masked_volume_159.nii.gz\n"
     ]
    },
    {
     "name": "stderr",
     "output_type": "stream",
     "text": [
      "Processing volumes for subject 30084:  98%|█████████▊| 160/164 [13:25<00:20,  5.05s/it]"
     ]
    },
    {
     "name": "stdout",
     "output_type": "stream",
     "text": [
      "Applying mask to /home/minyoungxi/MINYOUNGXI/XFL/Data/OASIS_MNI_to_TRs/volume_160.nii.gz\n",
      "Running FLIRT on /home/minyoungxi/MINYOUNGXI/XFL/Data/OASIS_MNI_to_TRs/masked_volume_160.nii.gz\n"
     ]
    },
    {
     "name": "stderr",
     "output_type": "stream",
     "text": [
      "Processing volumes for subject 30084:  98%|█████████▊| 161/164 [13:30<00:15,  5.09s/it]"
     ]
    },
    {
     "name": "stdout",
     "output_type": "stream",
     "text": [
      "Applying mask to /home/minyoungxi/MINYOUNGXI/XFL/Data/OASIS_MNI_to_TRs/volume_161.nii.gz\n",
      "Running FLIRT on /home/minyoungxi/MINYOUNGXI/XFL/Data/OASIS_MNI_to_TRs/masked_volume_161.nii.gz\n"
     ]
    },
    {
     "name": "stderr",
     "output_type": "stream",
     "text": [
      "Processing volumes for subject 30084:  99%|█████████▉| 162/164 [13:35<00:10,  5.08s/it]"
     ]
    },
    {
     "name": "stdout",
     "output_type": "stream",
     "text": [
      "Applying mask to /home/minyoungxi/MINYOUNGXI/XFL/Data/OASIS_MNI_to_TRs/volume_162.nii.gz\n",
      "Running FLIRT on /home/minyoungxi/MINYOUNGXI/XFL/Data/OASIS_MNI_to_TRs/masked_volume_162.nii.gz\n"
     ]
    },
    {
     "name": "stderr",
     "output_type": "stream",
     "text": [
      "Processing volumes for subject 30084:  99%|█████████▉| 163/164 [13:41<00:05,  5.09s/it]"
     ]
    },
    {
     "name": "stdout",
     "output_type": "stream",
     "text": [
      "Applying mask to /home/minyoungxi/MINYOUNGXI/XFL/Data/OASIS_MNI_to_TRs/volume_163.nii.gz\n",
      "Running FLIRT on /home/minyoungxi/MINYOUNGXI/XFL/Data/OASIS_MNI_to_TRs/masked_volume_163.nii.gz\n"
     ]
    },
    {
     "name": "stderr",
     "output_type": "stream",
     "text": [
      "Processing volumes for subject 30084: 100%|██████████| 164/164 [13:46<00:00,  5.04s/it]\n"
     ]
    },
    {
     "name": "stdout",
     "output_type": "stream",
     "text": [
      "Found functional file: /home/minyoungxi/MINYOUNGXI/XFL/Data/OASISSamples7.1/OAS30088_MR_d0093/func1/NIFTI/sub-OAS30088_ses-d0093_task-rest_run-01_bold.nii.gz\n",
      "Preprocessing fMRI data for subject 30088, session 0093\n",
      "Running BET on /home/minyoungxi/MINYOUNGXI/XFL/Data/OASIS_MNI_to_TRs/first_volume.nii.gz\n"
     ]
    },
    {
     "name": "stderr",
     "output_type": "stream",
     "text": [
      "Processing volumes for subject 30088:   0%|          | 0/164 [00:00<?, ?it/s]"
     ]
    },
    {
     "name": "stdout",
     "output_type": "stream",
     "text": [
      "Applying mask to /home/minyoungxi/MINYOUNGXI/XFL/Data/OASIS_MNI_to_TRs/volume_0.nii.gz\n",
      "Running FLIRT on /home/minyoungxi/MINYOUNGXI/XFL/Data/OASIS_MNI_to_TRs/masked_volume_0.nii.gz\n"
     ]
    },
    {
     "name": "stderr",
     "output_type": "stream",
     "text": [
      "Processing volumes for subject 30088:   1%|          | 1/164 [00:04<13:32,  4.99s/it]"
     ]
    },
    {
     "name": "stdout",
     "output_type": "stream",
     "text": [
      "Applying mask to /home/minyoungxi/MINYOUNGXI/XFL/Data/OASIS_MNI_to_TRs/volume_1.nii.gz\n",
      "Running FLIRT on /home/minyoungxi/MINYOUNGXI/XFL/Data/OASIS_MNI_to_TRs/masked_volume_1.nii.gz\n"
     ]
    },
    {
     "name": "stderr",
     "output_type": "stream",
     "text": [
      "Processing volumes for subject 30088:   1%|          | 2/164 [00:09<13:26,  4.98s/it]"
     ]
    },
    {
     "name": "stdout",
     "output_type": "stream",
     "text": [
      "Applying mask to /home/minyoungxi/MINYOUNGXI/XFL/Data/OASIS_MNI_to_TRs/volume_2.nii.gz\n",
      "Running FLIRT on /home/minyoungxi/MINYOUNGXI/XFL/Data/OASIS_MNI_to_TRs/masked_volume_2.nii.gz\n"
     ]
    },
    {
     "name": "stderr",
     "output_type": "stream",
     "text": [
      "Processing volumes for subject 30088:   2%|▏         | 3/164 [00:14<13:20,  4.97s/it]"
     ]
    },
    {
     "name": "stdout",
     "output_type": "stream",
     "text": [
      "Applying mask to /home/minyoungxi/MINYOUNGXI/XFL/Data/OASIS_MNI_to_TRs/volume_3.nii.gz\n",
      "Running FLIRT on /home/minyoungxi/MINYOUNGXI/XFL/Data/OASIS_MNI_to_TRs/masked_volume_3.nii.gz\n"
     ]
    },
    {
     "name": "stderr",
     "output_type": "stream",
     "text": [
      "Processing volumes for subject 30088:   2%|▏         | 4/164 [00:19<13:13,  4.96s/it]"
     ]
    },
    {
     "name": "stdout",
     "output_type": "stream",
     "text": [
      "Applying mask to /home/minyoungxi/MINYOUNGXI/XFL/Data/OASIS_MNI_to_TRs/volume_4.nii.gz\n",
      "Running FLIRT on /home/minyoungxi/MINYOUNGXI/XFL/Data/OASIS_MNI_to_TRs/masked_volume_4.nii.gz\n"
     ]
    },
    {
     "name": "stderr",
     "output_type": "stream",
     "text": [
      "Processing volumes for subject 30088:   3%|▎         | 5/164 [00:24<13:07,  4.96s/it]"
     ]
    },
    {
     "name": "stdout",
     "output_type": "stream",
     "text": [
      "Applying mask to /home/minyoungxi/MINYOUNGXI/XFL/Data/OASIS_MNI_to_TRs/volume_5.nii.gz\n",
      "Running FLIRT on /home/minyoungxi/MINYOUNGXI/XFL/Data/OASIS_MNI_to_TRs/masked_volume_5.nii.gz\n"
     ]
    },
    {
     "name": "stderr",
     "output_type": "stream",
     "text": [
      "Processing volumes for subject 30088:   4%|▎         | 6/164 [00:29<13:02,  4.95s/it]"
     ]
    },
    {
     "name": "stdout",
     "output_type": "stream",
     "text": [
      "Applying mask to /home/minyoungxi/MINYOUNGXI/XFL/Data/OASIS_MNI_to_TRs/volume_6.nii.gz\n",
      "Running FLIRT on /home/minyoungxi/MINYOUNGXI/XFL/Data/OASIS_MNI_to_TRs/masked_volume_6.nii.gz\n"
     ]
    },
    {
     "name": "stderr",
     "output_type": "stream",
     "text": [
      "Processing volumes for subject 30088:   4%|▍         | 7/164 [00:34<13:04,  4.99s/it]"
     ]
    },
    {
     "name": "stdout",
     "output_type": "stream",
     "text": [
      "Applying mask to /home/minyoungxi/MINYOUNGXI/XFL/Data/OASIS_MNI_to_TRs/volume_7.nii.gz\n",
      "Running FLIRT on /home/minyoungxi/MINYOUNGXI/XFL/Data/OASIS_MNI_to_TRs/masked_volume_7.nii.gz\n"
     ]
    },
    {
     "name": "stderr",
     "output_type": "stream",
     "text": [
      "Processing volumes for subject 30088:   5%|▍         | 8/164 [00:39<12:58,  4.99s/it]"
     ]
    },
    {
     "name": "stdout",
     "output_type": "stream",
     "text": [
      "Applying mask to /home/minyoungxi/MINYOUNGXI/XFL/Data/OASIS_MNI_to_TRs/volume_8.nii.gz\n",
      "Running FLIRT on /home/minyoungxi/MINYOUNGXI/XFL/Data/OASIS_MNI_to_TRs/masked_volume_8.nii.gz\n"
     ]
    },
    {
     "name": "stderr",
     "output_type": "stream",
     "text": [
      "Processing volumes for subject 30088:   5%|▌         | 9/164 [00:44<12:54,  5.00s/it]"
     ]
    },
    {
     "name": "stdout",
     "output_type": "stream",
     "text": [
      "Applying mask to /home/minyoungxi/MINYOUNGXI/XFL/Data/OASIS_MNI_to_TRs/volume_9.nii.gz\n",
      "Running FLIRT on /home/minyoungxi/MINYOUNGXI/XFL/Data/OASIS_MNI_to_TRs/masked_volume_9.nii.gz\n"
     ]
    },
    {
     "name": "stderr",
     "output_type": "stream",
     "text": [
      "Processing volumes for subject 30088:   6%|▌         | 10/164 [00:49<12:51,  5.01s/it]"
     ]
    },
    {
     "name": "stdout",
     "output_type": "stream",
     "text": [
      "Applying mask to /home/minyoungxi/MINYOUNGXI/XFL/Data/OASIS_MNI_to_TRs/volume_10.nii.gz\n",
      "Running FLIRT on /home/minyoungxi/MINYOUNGXI/XFL/Data/OASIS_MNI_to_TRs/masked_volume_10.nii.gz\n"
     ]
    },
    {
     "name": "stderr",
     "output_type": "stream",
     "text": [
      "Processing volumes for subject 30088:   7%|▋         | 11/164 [00:54<12:47,  5.02s/it]"
     ]
    },
    {
     "name": "stdout",
     "output_type": "stream",
     "text": [
      "Applying mask to /home/minyoungxi/MINYOUNGXI/XFL/Data/OASIS_MNI_to_TRs/volume_11.nii.gz\n",
      "Running FLIRT on /home/minyoungxi/MINYOUNGXI/XFL/Data/OASIS_MNI_to_TRs/masked_volume_11.nii.gz\n"
     ]
    },
    {
     "name": "stderr",
     "output_type": "stream",
     "text": [
      "Processing volumes for subject 30088:   7%|▋         | 12/164 [00:59<12:42,  5.02s/it]"
     ]
    },
    {
     "name": "stdout",
     "output_type": "stream",
     "text": [
      "Applying mask to /home/minyoungxi/MINYOUNGXI/XFL/Data/OASIS_MNI_to_TRs/volume_12.nii.gz\n",
      "Running FLIRT on /home/minyoungxi/MINYOUNGXI/XFL/Data/OASIS_MNI_to_TRs/masked_volume_12.nii.gz\n"
     ]
    },
    {
     "name": "stderr",
     "output_type": "stream",
     "text": [
      "Processing volumes for subject 30088:   8%|▊         | 13/164 [01:04<12:39,  5.03s/it]"
     ]
    },
    {
     "name": "stdout",
     "output_type": "stream",
     "text": [
      "Applying mask to /home/minyoungxi/MINYOUNGXI/XFL/Data/OASIS_MNI_to_TRs/volume_13.nii.gz\n",
      "Running FLIRT on /home/minyoungxi/MINYOUNGXI/XFL/Data/OASIS_MNI_to_TRs/masked_volume_13.nii.gz\n"
     ]
    },
    {
     "name": "stderr",
     "output_type": "stream",
     "text": [
      "Processing volumes for subject 30088:   9%|▊         | 14/164 [01:10<12:34,  5.03s/it]"
     ]
    },
    {
     "name": "stdout",
     "output_type": "stream",
     "text": [
      "Applying mask to /home/minyoungxi/MINYOUNGXI/XFL/Data/OASIS_MNI_to_TRs/volume_14.nii.gz\n",
      "Running FLIRT on /home/minyoungxi/MINYOUNGXI/XFL/Data/OASIS_MNI_to_TRs/masked_volume_14.nii.gz\n"
     ]
    },
    {
     "name": "stderr",
     "output_type": "stream",
     "text": [
      "Processing volumes for subject 30088:   9%|▉         | 15/164 [01:15<12:30,  5.04s/it]"
     ]
    },
    {
     "name": "stdout",
     "output_type": "stream",
     "text": [
      "Applying mask to /home/minyoungxi/MINYOUNGXI/XFL/Data/OASIS_MNI_to_TRs/volume_15.nii.gz\n",
      "Running FLIRT on /home/minyoungxi/MINYOUNGXI/XFL/Data/OASIS_MNI_to_TRs/masked_volume_15.nii.gz\n"
     ]
    },
    {
     "name": "stderr",
     "output_type": "stream",
     "text": [
      "Processing volumes for subject 30088:  10%|▉         | 16/164 [01:20<12:33,  5.09s/it]"
     ]
    },
    {
     "name": "stdout",
     "output_type": "stream",
     "text": [
      "Applying mask to /home/minyoungxi/MINYOUNGXI/XFL/Data/OASIS_MNI_to_TRs/volume_16.nii.gz\n",
      "Running FLIRT on /home/minyoungxi/MINYOUNGXI/XFL/Data/OASIS_MNI_to_TRs/masked_volume_16.nii.gz\n"
     ]
    },
    {
     "name": "stderr",
     "output_type": "stream",
     "text": [
      "Processing volumes for subject 30088:  10%|█         | 17/164 [01:25<12:27,  5.08s/it]"
     ]
    },
    {
     "name": "stdout",
     "output_type": "stream",
     "text": [
      "Applying mask to /home/minyoungxi/MINYOUNGXI/XFL/Data/OASIS_MNI_to_TRs/volume_17.nii.gz\n",
      "Running FLIRT on /home/minyoungxi/MINYOUNGXI/XFL/Data/OASIS_MNI_to_TRs/masked_volume_17.nii.gz\n"
     ]
    },
    {
     "name": "stderr",
     "output_type": "stream",
     "text": [
      "Processing volumes for subject 30088:  11%|█         | 18/164 [01:30<12:23,  5.09s/it]"
     ]
    },
    {
     "name": "stdout",
     "output_type": "stream",
     "text": [
      "Applying mask to /home/minyoungxi/MINYOUNGXI/XFL/Data/OASIS_MNI_to_TRs/volume_18.nii.gz\n",
      "Running FLIRT on /home/minyoungxi/MINYOUNGXI/XFL/Data/OASIS_MNI_to_TRs/masked_volume_18.nii.gz\n"
     ]
    },
    {
     "name": "stderr",
     "output_type": "stream",
     "text": [
      "Processing volumes for subject 30088:  12%|█▏        | 19/164 [01:35<12:17,  5.08s/it]"
     ]
    },
    {
     "name": "stdout",
     "output_type": "stream",
     "text": [
      "Applying mask to /home/minyoungxi/MINYOUNGXI/XFL/Data/OASIS_MNI_to_TRs/volume_19.nii.gz\n",
      "Running FLIRT on /home/minyoungxi/MINYOUNGXI/XFL/Data/OASIS_MNI_to_TRs/masked_volume_19.nii.gz\n"
     ]
    },
    {
     "name": "stderr",
     "output_type": "stream",
     "text": [
      "Processing volumes for subject 30088:  12%|█▏        | 20/164 [01:40<12:12,  5.08s/it]"
     ]
    },
    {
     "name": "stdout",
     "output_type": "stream",
     "text": [
      "Applying mask to /home/minyoungxi/MINYOUNGXI/XFL/Data/OASIS_MNI_to_TRs/volume_20.nii.gz\n",
      "Running FLIRT on /home/minyoungxi/MINYOUNGXI/XFL/Data/OASIS_MNI_to_TRs/masked_volume_20.nii.gz\n"
     ]
    },
    {
     "name": "stderr",
     "output_type": "stream",
     "text": [
      "Processing volumes for subject 30088:  13%|█▎        | 21/164 [01:45<12:05,  5.07s/it]"
     ]
    },
    {
     "name": "stdout",
     "output_type": "stream",
     "text": [
      "Applying mask to /home/minyoungxi/MINYOUNGXI/XFL/Data/OASIS_MNI_to_TRs/volume_21.nii.gz\n",
      "Running FLIRT on /home/minyoungxi/MINYOUNGXI/XFL/Data/OASIS_MNI_to_TRs/masked_volume_21.nii.gz\n"
     ]
    },
    {
     "name": "stderr",
     "output_type": "stream",
     "text": [
      "Processing volumes for subject 30088:  13%|█▎        | 22/164 [01:50<11:59,  5.07s/it]"
     ]
    },
    {
     "name": "stdout",
     "output_type": "stream",
     "text": [
      "Applying mask to /home/minyoungxi/MINYOUNGXI/XFL/Data/OASIS_MNI_to_TRs/volume_22.nii.gz\n",
      "Running FLIRT on /home/minyoungxi/MINYOUNGXI/XFL/Data/OASIS_MNI_to_TRs/masked_volume_22.nii.gz\n"
     ]
    },
    {
     "name": "stderr",
     "output_type": "stream",
     "text": [
      "Processing volumes for subject 30088:  14%|█▍        | 23/164 [01:57<13:03,  5.56s/it]"
     ]
    },
    {
     "name": "stdout",
     "output_type": "stream",
     "text": [
      "Applying mask to /home/minyoungxi/MINYOUNGXI/XFL/Data/OASIS_MNI_to_TRs/volume_23.nii.gz\n",
      "Running FLIRT on /home/minyoungxi/MINYOUNGXI/XFL/Data/OASIS_MNI_to_TRs/masked_volume_23.nii.gz\n"
     ]
    },
    {
     "name": "stderr",
     "output_type": "stream",
     "text": [
      "Processing volumes for subject 30088:  15%|█▍        | 24/164 [02:02<12:36,  5.40s/it]"
     ]
    },
    {
     "name": "stdout",
     "output_type": "stream",
     "text": [
      "Applying mask to /home/minyoungxi/MINYOUNGXI/XFL/Data/OASIS_MNI_to_TRs/volume_24.nii.gz\n",
      "Running FLIRT on /home/minyoungxi/MINYOUNGXI/XFL/Data/OASIS_MNI_to_TRs/masked_volume_24.nii.gz\n"
     ]
    },
    {
     "name": "stderr",
     "output_type": "stream",
     "text": [
      "Processing volumes for subject 30088:  15%|█▌        | 25/164 [02:07<12:14,  5.28s/it]"
     ]
    },
    {
     "name": "stdout",
     "output_type": "stream",
     "text": [
      "Applying mask to /home/minyoungxi/MINYOUNGXI/XFL/Data/OASIS_MNI_to_TRs/volume_25.nii.gz\n",
      "Running FLIRT on /home/minyoungxi/MINYOUNGXI/XFL/Data/OASIS_MNI_to_TRs/masked_volume_25.nii.gz\n"
     ]
    },
    {
     "name": "stderr",
     "output_type": "stream",
     "text": [
      "Processing volumes for subject 30088:  16%|█▌        | 26/164 [02:12<11:59,  5.21s/it]"
     ]
    },
    {
     "name": "stdout",
     "output_type": "stream",
     "text": [
      "Applying mask to /home/minyoungxi/MINYOUNGXI/XFL/Data/OASIS_MNI_to_TRs/volume_26.nii.gz\n",
      "Running FLIRT on /home/minyoungxi/MINYOUNGXI/XFL/Data/OASIS_MNI_to_TRs/masked_volume_26.nii.gz\n"
     ]
    },
    {
     "name": "stderr",
     "output_type": "stream",
     "text": [
      "Processing volumes for subject 30088:  16%|█▋        | 27/164 [02:17<11:47,  5.16s/it]"
     ]
    },
    {
     "name": "stdout",
     "output_type": "stream",
     "text": [
      "Applying mask to /home/minyoungxi/MINYOUNGXI/XFL/Data/OASIS_MNI_to_TRs/volume_27.nii.gz\n",
      "Running FLIRT on /home/minyoungxi/MINYOUNGXI/XFL/Data/OASIS_MNI_to_TRs/masked_volume_27.nii.gz\n"
     ]
    },
    {
     "name": "stderr",
     "output_type": "stream",
     "text": [
      "Processing volumes for subject 30088:  17%|█▋        | 28/164 [02:22<11:37,  5.13s/it]"
     ]
    },
    {
     "name": "stdout",
     "output_type": "stream",
     "text": [
      "Applying mask to /home/minyoungxi/MINYOUNGXI/XFL/Data/OASIS_MNI_to_TRs/volume_28.nii.gz\n",
      "Running FLIRT on /home/minyoungxi/MINYOUNGXI/XFL/Data/OASIS_MNI_to_TRs/masked_volume_28.nii.gz\n"
     ]
    },
    {
     "name": "stderr",
     "output_type": "stream",
     "text": [
      "Processing volumes for subject 30088:  18%|█▊        | 29/164 [02:27<11:26,  5.09s/it]"
     ]
    },
    {
     "name": "stdout",
     "output_type": "stream",
     "text": [
      "Applying mask to /home/minyoungxi/MINYOUNGXI/XFL/Data/OASIS_MNI_to_TRs/volume_29.nii.gz\n",
      "Running FLIRT on /home/minyoungxi/MINYOUNGXI/XFL/Data/OASIS_MNI_to_TRs/masked_volume_29.nii.gz\n"
     ]
    },
    {
     "name": "stderr",
     "output_type": "stream",
     "text": [
      "Processing volumes for subject 30088:  18%|█▊        | 30/164 [02:32<11:17,  5.06s/it]"
     ]
    },
    {
     "name": "stdout",
     "output_type": "stream",
     "text": [
      "Applying mask to /home/minyoungxi/MINYOUNGXI/XFL/Data/OASIS_MNI_to_TRs/volume_30.nii.gz\n",
      "Running FLIRT on /home/minyoungxi/MINYOUNGXI/XFL/Data/OASIS_MNI_to_TRs/masked_volume_30.nii.gz\n"
     ]
    },
    {
     "name": "stderr",
     "output_type": "stream",
     "text": [
      "Processing volumes for subject 30088:  19%|█▉        | 31/164 [02:37<11:10,  5.04s/it]"
     ]
    },
    {
     "name": "stdout",
     "output_type": "stream",
     "text": [
      "Applying mask to /home/minyoungxi/MINYOUNGXI/XFL/Data/OASIS_MNI_to_TRs/volume_31.nii.gz\n",
      "Running FLIRT on /home/minyoungxi/MINYOUNGXI/XFL/Data/OASIS_MNI_to_TRs/masked_volume_31.nii.gz\n"
     ]
    },
    {
     "name": "stderr",
     "output_type": "stream",
     "text": [
      "Processing volumes for subject 30088:  20%|█▉        | 32/164 [02:42<11:04,  5.04s/it]"
     ]
    },
    {
     "name": "stdout",
     "output_type": "stream",
     "text": [
      "Applying mask to /home/minyoungxi/MINYOUNGXI/XFL/Data/OASIS_MNI_to_TRs/volume_32.nii.gz\n",
      "Running FLIRT on /home/minyoungxi/MINYOUNGXI/XFL/Data/OASIS_MNI_to_TRs/masked_volume_32.nii.gz\n"
     ]
    },
    {
     "name": "stderr",
     "output_type": "stream",
     "text": [
      "Processing volumes for subject 30088:  20%|██        | 33/164 [02:47<10:59,  5.03s/it]"
     ]
    },
    {
     "name": "stdout",
     "output_type": "stream",
     "text": [
      "Applying mask to /home/minyoungxi/MINYOUNGXI/XFL/Data/OASIS_MNI_to_TRs/volume_33.nii.gz\n",
      "Running FLIRT on /home/minyoungxi/MINYOUNGXI/XFL/Data/OASIS_MNI_to_TRs/masked_volume_33.nii.gz\n"
     ]
    },
    {
     "name": "stderr",
     "output_type": "stream",
     "text": [
      "Processing volumes for subject 30088:  21%|██        | 34/164 [02:52<10:54,  5.04s/it]"
     ]
    },
    {
     "name": "stdout",
     "output_type": "stream",
     "text": [
      "Applying mask to /home/minyoungxi/MINYOUNGXI/XFL/Data/OASIS_MNI_to_TRs/volume_34.nii.gz\n",
      "Running FLIRT on /home/minyoungxi/MINYOUNGXI/XFL/Data/OASIS_MNI_to_TRs/masked_volume_34.nii.gz\n"
     ]
    },
    {
     "name": "stderr",
     "output_type": "stream",
     "text": [
      "Processing volumes for subject 30088:  21%|██▏       | 35/164 [02:57<10:48,  5.03s/it]"
     ]
    },
    {
     "name": "stdout",
     "output_type": "stream",
     "text": [
      "Applying mask to /home/minyoungxi/MINYOUNGXI/XFL/Data/OASIS_MNI_to_TRs/volume_35.nii.gz\n",
      "Running FLIRT on /home/minyoungxi/MINYOUNGXI/XFL/Data/OASIS_MNI_to_TRs/masked_volume_35.nii.gz\n"
     ]
    },
    {
     "name": "stderr",
     "output_type": "stream",
     "text": [
      "Processing volumes for subject 30088:  22%|██▏       | 36/164 [03:02<10:43,  5.03s/it]"
     ]
    },
    {
     "name": "stdout",
     "output_type": "stream",
     "text": [
      "Applying mask to /home/minyoungxi/MINYOUNGXI/XFL/Data/OASIS_MNI_to_TRs/volume_36.nii.gz\n",
      "Running FLIRT on /home/minyoungxi/MINYOUNGXI/XFL/Data/OASIS_MNI_to_TRs/masked_volume_36.nii.gz\n"
     ]
    },
    {
     "name": "stderr",
     "output_type": "stream",
     "text": [
      "Processing volumes for subject 30088:  23%|██▎       | 37/164 [03:07<10:37,  5.02s/it]"
     ]
    },
    {
     "name": "stdout",
     "output_type": "stream",
     "text": [
      "Applying mask to /home/minyoungxi/MINYOUNGXI/XFL/Data/OASIS_MNI_to_TRs/volume_37.nii.gz\n",
      "Running FLIRT on /home/minyoungxi/MINYOUNGXI/XFL/Data/OASIS_MNI_to_TRs/masked_volume_37.nii.gz\n"
     ]
    },
    {
     "name": "stderr",
     "output_type": "stream",
     "text": [
      "Processing volumes for subject 30088:  23%|██▎       | 38/164 [03:12<10:28,  4.99s/it]"
     ]
    },
    {
     "name": "stdout",
     "output_type": "stream",
     "text": [
      "Applying mask to /home/minyoungxi/MINYOUNGXI/XFL/Data/OASIS_MNI_to_TRs/volume_38.nii.gz\n",
      "Running FLIRT on /home/minyoungxi/MINYOUNGXI/XFL/Data/OASIS_MNI_to_TRs/masked_volume_38.nii.gz\n"
     ]
    },
    {
     "name": "stderr",
     "output_type": "stream",
     "text": [
      "Processing volumes for subject 30088:  24%|██▍       | 39/164 [03:17<10:21,  4.97s/it]"
     ]
    },
    {
     "name": "stdout",
     "output_type": "stream",
     "text": [
      "Applying mask to /home/minyoungxi/MINYOUNGXI/XFL/Data/OASIS_MNI_to_TRs/volume_39.nii.gz\n",
      "Running FLIRT on /home/minyoungxi/MINYOUNGXI/XFL/Data/OASIS_MNI_to_TRs/masked_volume_39.nii.gz\n"
     ]
    },
    {
     "name": "stderr",
     "output_type": "stream",
     "text": [
      "Processing volumes for subject 30088:  24%|██▍       | 40/164 [03:22<10:13,  4.95s/it]"
     ]
    },
    {
     "name": "stdout",
     "output_type": "stream",
     "text": [
      "Applying mask to /home/minyoungxi/MINYOUNGXI/XFL/Data/OASIS_MNI_to_TRs/volume_40.nii.gz\n",
      "Running FLIRT on /home/minyoungxi/MINYOUNGXI/XFL/Data/OASIS_MNI_to_TRs/masked_volume_40.nii.gz\n"
     ]
    },
    {
     "name": "stderr",
     "output_type": "stream",
     "text": [
      "Processing volumes for subject 30088:  25%|██▌       | 41/164 [03:27<10:06,  4.93s/it]"
     ]
    },
    {
     "name": "stdout",
     "output_type": "stream",
     "text": [
      "Applying mask to /home/minyoungxi/MINYOUNGXI/XFL/Data/OASIS_MNI_to_TRs/volume_41.nii.gz\n",
      "Running FLIRT on /home/minyoungxi/MINYOUNGXI/XFL/Data/OASIS_MNI_to_TRs/masked_volume_41.nii.gz\n"
     ]
    },
    {
     "name": "stderr",
     "output_type": "stream",
     "text": [
      "Processing volumes for subject 30088:  26%|██▌       | 42/164 [03:32<09:59,  4.91s/it]"
     ]
    },
    {
     "name": "stdout",
     "output_type": "stream",
     "text": [
      "Applying mask to /home/minyoungxi/MINYOUNGXI/XFL/Data/OASIS_MNI_to_TRs/volume_42.nii.gz\n",
      "Running FLIRT on /home/minyoungxi/MINYOUNGXI/XFL/Data/OASIS_MNI_to_TRs/masked_volume_42.nii.gz\n"
     ]
    },
    {
     "name": "stderr",
     "output_type": "stream",
     "text": [
      "Processing volumes for subject 30088:  26%|██▌       | 43/164 [03:37<09:52,  4.90s/it]"
     ]
    },
    {
     "name": "stdout",
     "output_type": "stream",
     "text": [
      "Applying mask to /home/minyoungxi/MINYOUNGXI/XFL/Data/OASIS_MNI_to_TRs/volume_43.nii.gz\n",
      "Running FLIRT on /home/minyoungxi/MINYOUNGXI/XFL/Data/OASIS_MNI_to_TRs/masked_volume_43.nii.gz\n"
     ]
    },
    {
     "name": "stderr",
     "output_type": "stream",
     "text": [
      "Processing volumes for subject 30088:  27%|██▋       | 44/164 [03:42<09:51,  4.93s/it]"
     ]
    },
    {
     "name": "stdout",
     "output_type": "stream",
     "text": [
      "Applying mask to /home/minyoungxi/MINYOUNGXI/XFL/Data/OASIS_MNI_to_TRs/volume_44.nii.gz\n",
      "Running FLIRT on /home/minyoungxi/MINYOUNGXI/XFL/Data/OASIS_MNI_to_TRs/masked_volume_44.nii.gz\n"
     ]
    },
    {
     "name": "stderr",
     "output_type": "stream",
     "text": [
      "Processing volumes for subject 30088:  27%|██▋       | 45/164 [03:47<09:46,  4.93s/it]"
     ]
    },
    {
     "name": "stdout",
     "output_type": "stream",
     "text": [
      "Applying mask to /home/minyoungxi/MINYOUNGXI/XFL/Data/OASIS_MNI_to_TRs/volume_45.nii.gz\n",
      "Running FLIRT on /home/minyoungxi/MINYOUNGXI/XFL/Data/OASIS_MNI_to_TRs/masked_volume_45.nii.gz\n"
     ]
    },
    {
     "name": "stderr",
     "output_type": "stream",
     "text": [
      "Processing volumes for subject 30088:  28%|██▊       | 46/164 [03:51<09:38,  4.91s/it]"
     ]
    },
    {
     "name": "stdout",
     "output_type": "stream",
     "text": [
      "Applying mask to /home/minyoungxi/MINYOUNGXI/XFL/Data/OASIS_MNI_to_TRs/volume_46.nii.gz\n",
      "Running FLIRT on /home/minyoungxi/MINYOUNGXI/XFL/Data/OASIS_MNI_to_TRs/masked_volume_46.nii.gz\n"
     ]
    },
    {
     "name": "stderr",
     "output_type": "stream",
     "text": [
      "Processing volumes for subject 30088:  29%|██▊       | 47/164 [03:56<09:34,  4.91s/it]"
     ]
    },
    {
     "name": "stdout",
     "output_type": "stream",
     "text": [
      "Applying mask to /home/minyoungxi/MINYOUNGXI/XFL/Data/OASIS_MNI_to_TRs/volume_47.nii.gz\n",
      "Running FLIRT on /home/minyoungxi/MINYOUNGXI/XFL/Data/OASIS_MNI_to_TRs/masked_volume_47.nii.gz\n"
     ]
    },
    {
     "name": "stderr",
     "output_type": "stream",
     "text": [
      "Processing volumes for subject 30088:  29%|██▉       | 48/164 [04:01<09:27,  4.89s/it]"
     ]
    },
    {
     "name": "stdout",
     "output_type": "stream",
     "text": [
      "Applying mask to /home/minyoungxi/MINYOUNGXI/XFL/Data/OASIS_MNI_to_TRs/volume_48.nii.gz\n",
      "Running FLIRT on /home/minyoungxi/MINYOUNGXI/XFL/Data/OASIS_MNI_to_TRs/masked_volume_48.nii.gz\n"
     ]
    },
    {
     "name": "stderr",
     "output_type": "stream",
     "text": [
      "Processing volumes for subject 30088:  30%|██▉       | 49/164 [04:06<09:24,  4.91s/it]"
     ]
    },
    {
     "name": "stdout",
     "output_type": "stream",
     "text": [
      "Applying mask to /home/minyoungxi/MINYOUNGXI/XFL/Data/OASIS_MNI_to_TRs/volume_49.nii.gz\n",
      "Running FLIRT on /home/minyoungxi/MINYOUNGXI/XFL/Data/OASIS_MNI_to_TRs/masked_volume_49.nii.gz\n"
     ]
    },
    {
     "name": "stderr",
     "output_type": "stream",
     "text": [
      "Processing volumes for subject 30088:  30%|███       | 50/164 [04:11<09:19,  4.91s/it]"
     ]
    },
    {
     "name": "stdout",
     "output_type": "stream",
     "text": [
      "Applying mask to /home/minyoungxi/MINYOUNGXI/XFL/Data/OASIS_MNI_to_TRs/volume_50.nii.gz\n",
      "Running FLIRT on /home/minyoungxi/MINYOUNGXI/XFL/Data/OASIS_MNI_to_TRs/masked_volume_50.nii.gz\n"
     ]
    },
    {
     "name": "stderr",
     "output_type": "stream",
     "text": [
      "Processing volumes for subject 30088:  31%|███       | 51/164 [04:16<09:14,  4.91s/it]"
     ]
    },
    {
     "name": "stdout",
     "output_type": "stream",
     "text": [
      "Applying mask to /home/minyoungxi/MINYOUNGXI/XFL/Data/OASIS_MNI_to_TRs/volume_51.nii.gz\n",
      "Running FLIRT on /home/minyoungxi/MINYOUNGXI/XFL/Data/OASIS_MNI_to_TRs/masked_volume_51.nii.gz\n"
     ]
    },
    {
     "name": "stderr",
     "output_type": "stream",
     "text": [
      "Processing volumes for subject 30088:  32%|███▏      | 52/164 [04:21<09:07,  4.89s/it]"
     ]
    },
    {
     "name": "stdout",
     "output_type": "stream",
     "text": [
      "Applying mask to /home/minyoungxi/MINYOUNGXI/XFL/Data/OASIS_MNI_to_TRs/volume_52.nii.gz\n",
      "Running FLIRT on /home/minyoungxi/MINYOUNGXI/XFL/Data/OASIS_MNI_to_TRs/masked_volume_52.nii.gz\n"
     ]
    },
    {
     "name": "stderr",
     "output_type": "stream",
     "text": [
      "Processing volumes for subject 30088:  32%|███▏      | 53/164 [04:26<09:03,  4.90s/it]"
     ]
    },
    {
     "name": "stdout",
     "output_type": "stream",
     "text": [
      "Applying mask to /home/minyoungxi/MINYOUNGXI/XFL/Data/OASIS_MNI_to_TRs/volume_53.nii.gz\n",
      "Running FLIRT on /home/minyoungxi/MINYOUNGXI/XFL/Data/OASIS_MNI_to_TRs/masked_volume_53.nii.gz\n"
     ]
    },
    {
     "name": "stderr",
     "output_type": "stream",
     "text": [
      "Processing volumes for subject 30088:  33%|███▎      | 54/164 [04:31<08:59,  4.91s/it]"
     ]
    },
    {
     "name": "stdout",
     "output_type": "stream",
     "text": [
      "Applying mask to /home/minyoungxi/MINYOUNGXI/XFL/Data/OASIS_MNI_to_TRs/volume_54.nii.gz\n",
      "Running FLIRT on /home/minyoungxi/MINYOUNGXI/XFL/Data/OASIS_MNI_to_TRs/masked_volume_54.nii.gz\n"
     ]
    },
    {
     "name": "stderr",
     "output_type": "stream",
     "text": [
      "Processing volumes for subject 30088:  34%|███▎      | 55/164 [04:35<08:53,  4.90s/it]"
     ]
    },
    {
     "name": "stdout",
     "output_type": "stream",
     "text": [
      "Applying mask to /home/minyoungxi/MINYOUNGXI/XFL/Data/OASIS_MNI_to_TRs/volume_55.nii.gz\n",
      "Running FLIRT on /home/minyoungxi/MINYOUNGXI/XFL/Data/OASIS_MNI_to_TRs/masked_volume_55.nii.gz\n"
     ]
    },
    {
     "name": "stderr",
     "output_type": "stream",
     "text": [
      "Processing volumes for subject 30088:  34%|███▍      | 56/164 [04:40<08:50,  4.91s/it]"
     ]
    },
    {
     "name": "stdout",
     "output_type": "stream",
     "text": [
      "Applying mask to /home/minyoungxi/MINYOUNGXI/XFL/Data/OASIS_MNI_to_TRs/volume_56.nii.gz\n",
      "Running FLIRT on /home/minyoungxi/MINYOUNGXI/XFL/Data/OASIS_MNI_to_TRs/masked_volume_56.nii.gz\n"
     ]
    },
    {
     "name": "stderr",
     "output_type": "stream",
     "text": [
      "Processing volumes for subject 30088:  35%|███▍      | 57/164 [04:45<08:45,  4.91s/it]"
     ]
    },
    {
     "name": "stdout",
     "output_type": "stream",
     "text": [
      "Applying mask to /home/minyoungxi/MINYOUNGXI/XFL/Data/OASIS_MNI_to_TRs/volume_57.nii.gz\n",
      "Running FLIRT on /home/minyoungxi/MINYOUNGXI/XFL/Data/OASIS_MNI_to_TRs/masked_volume_57.nii.gz\n"
     ]
    },
    {
     "name": "stderr",
     "output_type": "stream",
     "text": [
      "Processing volumes for subject 30088:  35%|███▌      | 58/164 [04:50<08:40,  4.91s/it]"
     ]
    },
    {
     "name": "stdout",
     "output_type": "stream",
     "text": [
      "Applying mask to /home/minyoungxi/MINYOUNGXI/XFL/Data/OASIS_MNI_to_TRs/volume_58.nii.gz\n",
      "Running FLIRT on /home/minyoungxi/MINYOUNGXI/XFL/Data/OASIS_MNI_to_TRs/masked_volume_58.nii.gz\n"
     ]
    },
    {
     "name": "stderr",
     "output_type": "stream",
     "text": [
      "Processing volumes for subject 30088:  36%|███▌      | 59/164 [04:55<08:33,  4.89s/it]"
     ]
    },
    {
     "name": "stdout",
     "output_type": "stream",
     "text": [
      "Applying mask to /home/minyoungxi/MINYOUNGXI/XFL/Data/OASIS_MNI_to_TRs/volume_59.nii.gz\n",
      "Running FLIRT on /home/minyoungxi/MINYOUNGXI/XFL/Data/OASIS_MNI_to_TRs/masked_volume_59.nii.gz\n"
     ]
    },
    {
     "name": "stderr",
     "output_type": "stream",
     "text": [
      "Processing volumes for subject 30088:  37%|███▋      | 60/164 [05:00<08:28,  4.89s/it]"
     ]
    },
    {
     "name": "stdout",
     "output_type": "stream",
     "text": [
      "Applying mask to /home/minyoungxi/MINYOUNGXI/XFL/Data/OASIS_MNI_to_TRs/volume_60.nii.gz\n",
      "Running FLIRT on /home/minyoungxi/MINYOUNGXI/XFL/Data/OASIS_MNI_to_TRs/masked_volume_60.nii.gz\n"
     ]
    },
    {
     "name": "stderr",
     "output_type": "stream",
     "text": [
      "Processing volumes for subject 30088:  37%|███▋      | 61/164 [05:05<08:23,  4.89s/it]"
     ]
    },
    {
     "name": "stdout",
     "output_type": "stream",
     "text": [
      "Applying mask to /home/minyoungxi/MINYOUNGXI/XFL/Data/OASIS_MNI_to_TRs/volume_61.nii.gz\n",
      "Running FLIRT on /home/minyoungxi/MINYOUNGXI/XFL/Data/OASIS_MNI_to_TRs/masked_volume_61.nii.gz\n"
     ]
    },
    {
     "name": "stderr",
     "output_type": "stream",
     "text": [
      "Processing volumes for subject 30088:  38%|███▊      | 62/164 [05:10<08:21,  4.91s/it]"
     ]
    },
    {
     "name": "stdout",
     "output_type": "stream",
     "text": [
      "Applying mask to /home/minyoungxi/MINYOUNGXI/XFL/Data/OASIS_MNI_to_TRs/volume_62.nii.gz\n",
      "Running FLIRT on /home/minyoungxi/MINYOUNGXI/XFL/Data/OASIS_MNI_to_TRs/masked_volume_62.nii.gz\n"
     ]
    },
    {
     "name": "stderr",
     "output_type": "stream",
     "text": [
      "Processing volumes for subject 30088:  38%|███▊      | 63/164 [05:15<08:13,  4.89s/it]"
     ]
    },
    {
     "name": "stdout",
     "output_type": "stream",
     "text": [
      "Applying mask to /home/minyoungxi/MINYOUNGXI/XFL/Data/OASIS_MNI_to_TRs/volume_63.nii.gz\n",
      "Running FLIRT on /home/minyoungxi/MINYOUNGXI/XFL/Data/OASIS_MNI_to_TRs/masked_volume_63.nii.gz\n"
     ]
    },
    {
     "name": "stderr",
     "output_type": "stream",
     "text": [
      "Processing volumes for subject 30088:  39%|███▉      | 64/164 [05:20<08:10,  4.90s/it]"
     ]
    },
    {
     "name": "stdout",
     "output_type": "stream",
     "text": [
      "Applying mask to /home/minyoungxi/MINYOUNGXI/XFL/Data/OASIS_MNI_to_TRs/volume_64.nii.gz\n",
      "Running FLIRT on /home/minyoungxi/MINYOUNGXI/XFL/Data/OASIS_MNI_to_TRs/masked_volume_64.nii.gz\n"
     ]
    },
    {
     "name": "stderr",
     "output_type": "stream",
     "text": [
      "Processing volumes for subject 30088:  40%|███▉      | 65/164 [05:25<08:07,  4.92s/it]"
     ]
    },
    {
     "name": "stdout",
     "output_type": "stream",
     "text": [
      "Applying mask to /home/minyoungxi/MINYOUNGXI/XFL/Data/OASIS_MNI_to_TRs/volume_65.nii.gz\n",
      "Running FLIRT on /home/minyoungxi/MINYOUNGXI/XFL/Data/OASIS_MNI_to_TRs/masked_volume_65.nii.gz\n"
     ]
    },
    {
     "name": "stderr",
     "output_type": "stream",
     "text": [
      "Processing volumes for subject 30088:  40%|████      | 66/164 [05:29<08:02,  4.92s/it]"
     ]
    },
    {
     "name": "stdout",
     "output_type": "stream",
     "text": [
      "Applying mask to /home/minyoungxi/MINYOUNGXI/XFL/Data/OASIS_MNI_to_TRs/volume_66.nii.gz\n",
      "Running FLIRT on /home/minyoungxi/MINYOUNGXI/XFL/Data/OASIS_MNI_to_TRs/masked_volume_66.nii.gz\n"
     ]
    },
    {
     "name": "stderr",
     "output_type": "stream",
     "text": [
      "Processing volumes for subject 30088:  41%|████      | 67/164 [05:34<07:58,  4.93s/it]"
     ]
    },
    {
     "name": "stdout",
     "output_type": "stream",
     "text": [
      "Applying mask to /home/minyoungxi/MINYOUNGXI/XFL/Data/OASIS_MNI_to_TRs/volume_67.nii.gz\n",
      "Running FLIRT on /home/minyoungxi/MINYOUNGXI/XFL/Data/OASIS_MNI_to_TRs/masked_volume_67.nii.gz\n"
     ]
    },
    {
     "name": "stderr",
     "output_type": "stream",
     "text": [
      "Processing volumes for subject 30088:  41%|████▏     | 68/164 [05:39<07:55,  4.95s/it]"
     ]
    },
    {
     "name": "stdout",
     "output_type": "stream",
     "text": [
      "Applying mask to /home/minyoungxi/MINYOUNGXI/XFL/Data/OASIS_MNI_to_TRs/volume_68.nii.gz\n",
      "Running FLIRT on /home/minyoungxi/MINYOUNGXI/XFL/Data/OASIS_MNI_to_TRs/masked_volume_68.nii.gz\n"
     ]
    },
    {
     "name": "stderr",
     "output_type": "stream",
     "text": [
      "Processing volumes for subject 30088:  42%|████▏     | 69/164 [05:44<07:51,  4.96s/it]"
     ]
    },
    {
     "name": "stdout",
     "output_type": "stream",
     "text": [
      "Applying mask to /home/minyoungxi/MINYOUNGXI/XFL/Data/OASIS_MNI_to_TRs/volume_69.nii.gz\n",
      "Running FLIRT on /home/minyoungxi/MINYOUNGXI/XFL/Data/OASIS_MNI_to_TRs/masked_volume_69.nii.gz\n"
     ]
    },
    {
     "name": "stderr",
     "output_type": "stream",
     "text": [
      "Processing volumes for subject 30088:  43%|████▎     | 70/164 [05:49<07:49,  5.00s/it]"
     ]
    },
    {
     "name": "stdout",
     "output_type": "stream",
     "text": [
      "Applying mask to /home/minyoungxi/MINYOUNGXI/XFL/Data/OASIS_MNI_to_TRs/volume_70.nii.gz\n",
      "Running FLIRT on /home/minyoungxi/MINYOUNGXI/XFL/Data/OASIS_MNI_to_TRs/masked_volume_70.nii.gz\n"
     ]
    },
    {
     "name": "stderr",
     "output_type": "stream",
     "text": [
      "Processing volumes for subject 30088:  43%|████▎     | 71/164 [05:55<07:46,  5.02s/it]"
     ]
    },
    {
     "name": "stdout",
     "output_type": "stream",
     "text": [
      "Applying mask to /home/minyoungxi/MINYOUNGXI/XFL/Data/OASIS_MNI_to_TRs/volume_71.nii.gz\n",
      "Running FLIRT on /home/minyoungxi/MINYOUNGXI/XFL/Data/OASIS_MNI_to_TRs/masked_volume_71.nii.gz\n"
     ]
    },
    {
     "name": "stderr",
     "output_type": "stream",
     "text": [
      "Processing volumes for subject 30088:  44%|████▍     | 72/164 [06:00<07:42,  5.02s/it]"
     ]
    },
    {
     "name": "stdout",
     "output_type": "stream",
     "text": [
      "Applying mask to /home/minyoungxi/MINYOUNGXI/XFL/Data/OASIS_MNI_to_TRs/volume_72.nii.gz\n",
      "Running FLIRT on /home/minyoungxi/MINYOUNGXI/XFL/Data/OASIS_MNI_to_TRs/masked_volume_72.nii.gz\n"
     ]
    },
    {
     "name": "stderr",
     "output_type": "stream",
     "text": [
      "Processing volumes for subject 30088:  45%|████▍     | 73/164 [06:05<07:37,  5.03s/it]"
     ]
    },
    {
     "name": "stdout",
     "output_type": "stream",
     "text": [
      "Applying mask to /home/minyoungxi/MINYOUNGXI/XFL/Data/OASIS_MNI_to_TRs/volume_73.nii.gz\n",
      "Running FLIRT on /home/minyoungxi/MINYOUNGXI/XFL/Data/OASIS_MNI_to_TRs/masked_volume_73.nii.gz\n"
     ]
    },
    {
     "name": "stderr",
     "output_type": "stream",
     "text": [
      "Processing volumes for subject 30088:  45%|████▌     | 74/164 [06:10<07:35,  5.06s/it]"
     ]
    },
    {
     "name": "stdout",
     "output_type": "stream",
     "text": [
      "Applying mask to /home/minyoungxi/MINYOUNGXI/XFL/Data/OASIS_MNI_to_TRs/volume_74.nii.gz\n",
      "Running FLIRT on /home/minyoungxi/MINYOUNGXI/XFL/Data/OASIS_MNI_to_TRs/masked_volume_74.nii.gz\n"
     ]
    },
    {
     "name": "stderr",
     "output_type": "stream",
     "text": [
      "Processing volumes for subject 30088:  46%|████▌     | 75/164 [06:15<07:29,  5.05s/it]"
     ]
    },
    {
     "name": "stdout",
     "output_type": "stream",
     "text": [
      "Applying mask to /home/minyoungxi/MINYOUNGXI/XFL/Data/OASIS_MNI_to_TRs/volume_75.nii.gz\n",
      "Running FLIRT on /home/minyoungxi/MINYOUNGXI/XFL/Data/OASIS_MNI_to_TRs/masked_volume_75.nii.gz\n"
     ]
    },
    {
     "name": "stderr",
     "output_type": "stream",
     "text": [
      "Processing volumes for subject 30088:  46%|████▋     | 76/164 [06:20<07:24,  5.05s/it]"
     ]
    },
    {
     "name": "stdout",
     "output_type": "stream",
     "text": [
      "Applying mask to /home/minyoungxi/MINYOUNGXI/XFL/Data/OASIS_MNI_to_TRs/volume_76.nii.gz\n",
      "Running FLIRT on /home/minyoungxi/MINYOUNGXI/XFL/Data/OASIS_MNI_to_TRs/masked_volume_76.nii.gz\n"
     ]
    },
    {
     "name": "stderr",
     "output_type": "stream",
     "text": [
      "Processing volumes for subject 30088:  47%|████▋     | 77/164 [06:25<07:18,  5.04s/it]"
     ]
    },
    {
     "name": "stdout",
     "output_type": "stream",
     "text": [
      "Applying mask to /home/minyoungxi/MINYOUNGXI/XFL/Data/OASIS_MNI_to_TRs/volume_77.nii.gz\n",
      "Running FLIRT on /home/minyoungxi/MINYOUNGXI/XFL/Data/OASIS_MNI_to_TRs/masked_volume_77.nii.gz\n"
     ]
    },
    {
     "name": "stderr",
     "output_type": "stream",
     "text": [
      "Processing volumes for subject 30088:  48%|████▊     | 78/164 [06:30<07:14,  5.05s/it]"
     ]
    },
    {
     "name": "stdout",
     "output_type": "stream",
     "text": [
      "Applying mask to /home/minyoungxi/MINYOUNGXI/XFL/Data/OASIS_MNI_to_TRs/volume_78.nii.gz\n",
      "Running FLIRT on /home/minyoungxi/MINYOUNGXI/XFL/Data/OASIS_MNI_to_TRs/masked_volume_78.nii.gz\n"
     ]
    },
    {
     "name": "stderr",
     "output_type": "stream",
     "text": [
      "Processing volumes for subject 30088:  48%|████▊     | 79/164 [06:35<07:11,  5.08s/it]"
     ]
    },
    {
     "name": "stdout",
     "output_type": "stream",
     "text": [
      "Applying mask to /home/minyoungxi/MINYOUNGXI/XFL/Data/OASIS_MNI_to_TRs/volume_79.nii.gz\n",
      "Running FLIRT on /home/minyoungxi/MINYOUNGXI/XFL/Data/OASIS_MNI_to_TRs/masked_volume_79.nii.gz\n"
     ]
    },
    {
     "name": "stderr",
     "output_type": "stream",
     "text": [
      "Processing volumes for subject 30088:  49%|████▉     | 80/164 [06:40<07:07,  5.09s/it]"
     ]
    },
    {
     "name": "stdout",
     "output_type": "stream",
     "text": [
      "Applying mask to /home/minyoungxi/MINYOUNGXI/XFL/Data/OASIS_MNI_to_TRs/volume_80.nii.gz\n",
      "Running FLIRT on /home/minyoungxi/MINYOUNGXI/XFL/Data/OASIS_MNI_to_TRs/masked_volume_80.nii.gz\n"
     ]
    },
    {
     "name": "stderr",
     "output_type": "stream",
     "text": [
      "Processing volumes for subject 30088:  49%|████▉     | 81/164 [06:45<07:02,  5.09s/it]"
     ]
    },
    {
     "name": "stdout",
     "output_type": "stream",
     "text": [
      "Applying mask to /home/minyoungxi/MINYOUNGXI/XFL/Data/OASIS_MNI_to_TRs/volume_81.nii.gz\n",
      "Running FLIRT on /home/minyoungxi/MINYOUNGXI/XFL/Data/OASIS_MNI_to_TRs/masked_volume_81.nii.gz\n"
     ]
    },
    {
     "name": "stderr",
     "output_type": "stream",
     "text": [
      "Processing volumes for subject 30088:  50%|█████     | 82/164 [06:50<06:57,  5.10s/it]"
     ]
    },
    {
     "name": "stdout",
     "output_type": "stream",
     "text": [
      "Applying mask to /home/minyoungxi/MINYOUNGXI/XFL/Data/OASIS_MNI_to_TRs/volume_82.nii.gz\n",
      "Running FLIRT on /home/minyoungxi/MINYOUNGXI/XFL/Data/OASIS_MNI_to_TRs/masked_volume_82.nii.gz\n"
     ]
    },
    {
     "name": "stderr",
     "output_type": "stream",
     "text": [
      "Processing volumes for subject 30088:  51%|█████     | 83/164 [06:55<06:51,  5.08s/it]"
     ]
    },
    {
     "name": "stdout",
     "output_type": "stream",
     "text": [
      "Applying mask to /home/minyoungxi/MINYOUNGXI/XFL/Data/OASIS_MNI_to_TRs/volume_83.nii.gz\n",
      "Running FLIRT on /home/minyoungxi/MINYOUNGXI/XFL/Data/OASIS_MNI_to_TRs/masked_volume_83.nii.gz\n"
     ]
    },
    {
     "name": "stderr",
     "output_type": "stream",
     "text": [
      "Processing volumes for subject 30088:  51%|█████     | 84/164 [07:01<06:46,  5.09s/it]"
     ]
    },
    {
     "name": "stdout",
     "output_type": "stream",
     "text": [
      "Applying mask to /home/minyoungxi/MINYOUNGXI/XFL/Data/OASIS_MNI_to_TRs/volume_84.nii.gz\n",
      "Running FLIRT on /home/minyoungxi/MINYOUNGXI/XFL/Data/OASIS_MNI_to_TRs/masked_volume_84.nii.gz\n"
     ]
    },
    {
     "name": "stderr",
     "output_type": "stream",
     "text": [
      "Processing volumes for subject 30088:  52%|█████▏    | 85/164 [07:06<06:41,  5.08s/it]"
     ]
    },
    {
     "name": "stdout",
     "output_type": "stream",
     "text": [
      "Applying mask to /home/minyoungxi/MINYOUNGXI/XFL/Data/OASIS_MNI_to_TRs/volume_85.nii.gz\n",
      "Running FLIRT on /home/minyoungxi/MINYOUNGXI/XFL/Data/OASIS_MNI_to_TRs/masked_volume_85.nii.gz\n"
     ]
    },
    {
     "name": "stderr",
     "output_type": "stream",
     "text": [
      "Processing volumes for subject 30088:  52%|█████▏    | 86/164 [07:11<06:36,  5.08s/it]"
     ]
    },
    {
     "name": "stdout",
     "output_type": "stream",
     "text": [
      "Applying mask to /home/minyoungxi/MINYOUNGXI/XFL/Data/OASIS_MNI_to_TRs/volume_86.nii.gz\n",
      "Running FLIRT on /home/minyoungxi/MINYOUNGXI/XFL/Data/OASIS_MNI_to_TRs/masked_volume_86.nii.gz\n"
     ]
    },
    {
     "name": "stderr",
     "output_type": "stream",
     "text": [
      "Processing volumes for subject 30088:  53%|█████▎    | 87/164 [07:16<06:31,  5.08s/it]"
     ]
    },
    {
     "name": "stdout",
     "output_type": "stream",
     "text": [
      "Applying mask to /home/minyoungxi/MINYOUNGXI/XFL/Data/OASIS_MNI_to_TRs/volume_87.nii.gz\n",
      "Running FLIRT on /home/minyoungxi/MINYOUNGXI/XFL/Data/OASIS_MNI_to_TRs/masked_volume_87.nii.gz\n"
     ]
    },
    {
     "name": "stderr",
     "output_type": "stream",
     "text": [
      "Processing volumes for subject 30088:  54%|█████▎    | 88/164 [07:21<06:26,  5.09s/it]"
     ]
    },
    {
     "name": "stdout",
     "output_type": "stream",
     "text": [
      "Applying mask to /home/minyoungxi/MINYOUNGXI/XFL/Data/OASIS_MNI_to_TRs/volume_88.nii.gz\n",
      "Running FLIRT on /home/minyoungxi/MINYOUNGXI/XFL/Data/OASIS_MNI_to_TRs/masked_volume_88.nii.gz\n"
     ]
    },
    {
     "name": "stderr",
     "output_type": "stream",
     "text": [
      "Processing volumes for subject 30088:  54%|█████▍    | 89/164 [07:26<06:21,  5.08s/it]"
     ]
    },
    {
     "name": "stdout",
     "output_type": "stream",
     "text": [
      "Applying mask to /home/minyoungxi/MINYOUNGXI/XFL/Data/OASIS_MNI_to_TRs/volume_89.nii.gz\n",
      "Running FLIRT on /home/minyoungxi/MINYOUNGXI/XFL/Data/OASIS_MNI_to_TRs/masked_volume_89.nii.gz\n"
     ]
    },
    {
     "name": "stderr",
     "output_type": "stream",
     "text": [
      "Processing volumes for subject 30088:  55%|█████▍    | 90/164 [07:31<06:15,  5.07s/it]"
     ]
    },
    {
     "name": "stdout",
     "output_type": "stream",
     "text": [
      "Applying mask to /home/minyoungxi/MINYOUNGXI/XFL/Data/OASIS_MNI_to_TRs/volume_90.nii.gz\n",
      "Running FLIRT on /home/minyoungxi/MINYOUNGXI/XFL/Data/OASIS_MNI_to_TRs/masked_volume_90.nii.gz\n"
     ]
    },
    {
     "name": "stderr",
     "output_type": "stream",
     "text": [
      "Processing volumes for subject 30088:  55%|█████▌    | 91/164 [07:36<06:10,  5.07s/it]"
     ]
    },
    {
     "name": "stdout",
     "output_type": "stream",
     "text": [
      "Applying mask to /home/minyoungxi/MINYOUNGXI/XFL/Data/OASIS_MNI_to_TRs/volume_91.nii.gz\n",
      "Running FLIRT on /home/minyoungxi/MINYOUNGXI/XFL/Data/OASIS_MNI_to_TRs/masked_volume_91.nii.gz\n"
     ]
    },
    {
     "name": "stderr",
     "output_type": "stream",
     "text": [
      "Processing volumes for subject 30088:  56%|█████▌    | 92/164 [07:41<06:04,  5.06s/it]"
     ]
    },
    {
     "name": "stdout",
     "output_type": "stream",
     "text": [
      "Applying mask to /home/minyoungxi/MINYOUNGXI/XFL/Data/OASIS_MNI_to_TRs/volume_92.nii.gz\n",
      "Running FLIRT on /home/minyoungxi/MINYOUNGXI/XFL/Data/OASIS_MNI_to_TRs/masked_volume_92.nii.gz\n"
     ]
    },
    {
     "name": "stderr",
     "output_type": "stream",
     "text": [
      "Processing volumes for subject 30088:  57%|█████▋    | 93/164 [07:46<05:59,  5.06s/it]"
     ]
    },
    {
     "name": "stdout",
     "output_type": "stream",
     "text": [
      "Applying mask to /home/minyoungxi/MINYOUNGXI/XFL/Data/OASIS_MNI_to_TRs/volume_93.nii.gz\n",
      "Running FLIRT on /home/minyoungxi/MINYOUNGXI/XFL/Data/OASIS_MNI_to_TRs/masked_volume_93.nii.gz\n"
     ]
    },
    {
     "name": "stderr",
     "output_type": "stream",
     "text": [
      "Processing volumes for subject 30088:  57%|█████▋    | 94/164 [07:51<05:53,  5.05s/it]"
     ]
    },
    {
     "name": "stdout",
     "output_type": "stream",
     "text": [
      "Applying mask to /home/minyoungxi/MINYOUNGXI/XFL/Data/OASIS_MNI_to_TRs/volume_94.nii.gz\n",
      "Running FLIRT on /home/minyoungxi/MINYOUNGXI/XFL/Data/OASIS_MNI_to_TRs/masked_volume_94.nii.gz\n"
     ]
    },
    {
     "name": "stderr",
     "output_type": "stream",
     "text": [
      "Processing volumes for subject 30088:  58%|█████▊    | 95/164 [07:56<05:48,  5.05s/it]"
     ]
    },
    {
     "name": "stdout",
     "output_type": "stream",
     "text": [
      "Applying mask to /home/minyoungxi/MINYOUNGXI/XFL/Data/OASIS_MNI_to_TRs/volume_95.nii.gz\n",
      "Running FLIRT on /home/minyoungxi/MINYOUNGXI/XFL/Data/OASIS_MNI_to_TRs/masked_volume_95.nii.gz\n"
     ]
    },
    {
     "name": "stderr",
     "output_type": "stream",
     "text": [
      "Processing volumes for subject 30088:  59%|█████▊    | 96/164 [08:01<05:43,  5.05s/it]"
     ]
    },
    {
     "name": "stdout",
     "output_type": "stream",
     "text": [
      "Applying mask to /home/minyoungxi/MINYOUNGXI/XFL/Data/OASIS_MNI_to_TRs/volume_96.nii.gz\n",
      "Running FLIRT on /home/minyoungxi/MINYOUNGXI/XFL/Data/OASIS_MNI_to_TRs/masked_volume_96.nii.gz\n"
     ]
    },
    {
     "name": "stderr",
     "output_type": "stream",
     "text": [
      "Processing volumes for subject 30088:  59%|█████▉    | 97/164 [08:06<05:39,  5.07s/it]"
     ]
    },
    {
     "name": "stdout",
     "output_type": "stream",
     "text": [
      "Applying mask to /home/minyoungxi/MINYOUNGXI/XFL/Data/OASIS_MNI_to_TRs/volume_97.nii.gz\n",
      "Running FLIRT on /home/minyoungxi/MINYOUNGXI/XFL/Data/OASIS_MNI_to_TRs/masked_volume_97.nii.gz\n"
     ]
    },
    {
     "name": "stderr",
     "output_type": "stream",
     "text": [
      "Processing volumes for subject 30088:  60%|█████▉    | 98/164 [08:11<05:35,  5.08s/it]"
     ]
    },
    {
     "name": "stdout",
     "output_type": "stream",
     "text": [
      "Applying mask to /home/minyoungxi/MINYOUNGXI/XFL/Data/OASIS_MNI_to_TRs/volume_98.nii.gz\n",
      "Running FLIRT on /home/minyoungxi/MINYOUNGXI/XFL/Data/OASIS_MNI_to_TRs/masked_volume_98.nii.gz\n"
     ]
    },
    {
     "name": "stderr",
     "output_type": "stream",
     "text": [
      "Processing volumes for subject 30088:  60%|██████    | 99/164 [08:17<05:30,  5.09s/it]"
     ]
    },
    {
     "name": "stdout",
     "output_type": "stream",
     "text": [
      "Applying mask to /home/minyoungxi/MINYOUNGXI/XFL/Data/OASIS_MNI_to_TRs/volume_99.nii.gz\n",
      "Running FLIRT on /home/minyoungxi/MINYOUNGXI/XFL/Data/OASIS_MNI_to_TRs/masked_volume_99.nii.gz\n"
     ]
    },
    {
     "name": "stderr",
     "output_type": "stream",
     "text": [
      "Processing volumes for subject 30088:  61%|██████    | 100/164 [08:22<05:24,  5.07s/it]"
     ]
    },
    {
     "name": "stdout",
     "output_type": "stream",
     "text": [
      "Applying mask to /home/minyoungxi/MINYOUNGXI/XFL/Data/OASIS_MNI_to_TRs/volume_100.nii.gz\n",
      "Running FLIRT on /home/minyoungxi/MINYOUNGXI/XFL/Data/OASIS_MNI_to_TRs/masked_volume_100.nii.gz\n"
     ]
    },
    {
     "name": "stderr",
     "output_type": "stream",
     "text": [
      "Processing volumes for subject 30088:  62%|██████▏   | 101/164 [08:27<05:18,  5.06s/it]"
     ]
    },
    {
     "name": "stdout",
     "output_type": "stream",
     "text": [
      "Applying mask to /home/minyoungxi/MINYOUNGXI/XFL/Data/OASIS_MNI_to_TRs/volume_101.nii.gz\n",
      "Running FLIRT on /home/minyoungxi/MINYOUNGXI/XFL/Data/OASIS_MNI_to_TRs/masked_volume_101.nii.gz\n"
     ]
    },
    {
     "name": "stderr",
     "output_type": "stream",
     "text": [
      "Processing volumes for subject 30088:  62%|██████▏   | 102/164 [08:32<05:12,  5.04s/it]"
     ]
    },
    {
     "name": "stdout",
     "output_type": "stream",
     "text": [
      "Applying mask to /home/minyoungxi/MINYOUNGXI/XFL/Data/OASIS_MNI_to_TRs/volume_102.nii.gz\n",
      "Running FLIRT on /home/minyoungxi/MINYOUNGXI/XFL/Data/OASIS_MNI_to_TRs/masked_volume_102.nii.gz\n"
     ]
    },
    {
     "name": "stderr",
     "output_type": "stream",
     "text": [
      "Processing volumes for subject 30088:  63%|██████▎   | 103/164 [08:37<05:07,  5.04s/it]"
     ]
    },
    {
     "name": "stdout",
     "output_type": "stream",
     "text": [
      "Applying mask to /home/minyoungxi/MINYOUNGXI/XFL/Data/OASIS_MNI_to_TRs/volume_103.nii.gz\n",
      "Running FLIRT on /home/minyoungxi/MINYOUNGXI/XFL/Data/OASIS_MNI_to_TRs/masked_volume_103.nii.gz\n"
     ]
    },
    {
     "name": "stderr",
     "output_type": "stream",
     "text": [
      "Processing volumes for subject 30088:  63%|██████▎   | 104/164 [08:42<05:02,  5.04s/it]"
     ]
    },
    {
     "name": "stdout",
     "output_type": "stream",
     "text": [
      "Applying mask to /home/minyoungxi/MINYOUNGXI/XFL/Data/OASIS_MNI_to_TRs/volume_104.nii.gz\n",
      "Running FLIRT on /home/minyoungxi/MINYOUNGXI/XFL/Data/OASIS_MNI_to_TRs/masked_volume_104.nii.gz\n"
     ]
    },
    {
     "name": "stderr",
     "output_type": "stream",
     "text": [
      "Processing volumes for subject 30088:  64%|██████▍   | 105/164 [08:47<04:57,  5.05s/it]"
     ]
    },
    {
     "name": "stdout",
     "output_type": "stream",
     "text": [
      "Applying mask to /home/minyoungxi/MINYOUNGXI/XFL/Data/OASIS_MNI_to_TRs/volume_105.nii.gz\n",
      "Running FLIRT on /home/minyoungxi/MINYOUNGXI/XFL/Data/OASIS_MNI_to_TRs/masked_volume_105.nii.gz\n"
     ]
    },
    {
     "name": "stderr",
     "output_type": "stream",
     "text": [
      "Processing volumes for subject 30088:  65%|██████▍   | 106/164 [08:52<04:55,  5.09s/it]"
     ]
    },
    {
     "name": "stdout",
     "output_type": "stream",
     "text": [
      "Applying mask to /home/minyoungxi/MINYOUNGXI/XFL/Data/OASIS_MNI_to_TRs/volume_106.nii.gz\n",
      "Running FLIRT on /home/minyoungxi/MINYOUNGXI/XFL/Data/OASIS_MNI_to_TRs/masked_volume_106.nii.gz\n"
     ]
    },
    {
     "name": "stderr",
     "output_type": "stream",
     "text": [
      "Processing volumes for subject 30088:  65%|██████▌   | 107/164 [08:57<04:49,  5.07s/it]"
     ]
    },
    {
     "name": "stdout",
     "output_type": "stream",
     "text": [
      "Applying mask to /home/minyoungxi/MINYOUNGXI/XFL/Data/OASIS_MNI_to_TRs/volume_107.nii.gz\n",
      "Running FLIRT on /home/minyoungxi/MINYOUNGXI/XFL/Data/OASIS_MNI_to_TRs/masked_volume_107.nii.gz\n"
     ]
    },
    {
     "name": "stderr",
     "output_type": "stream",
     "text": [
      "Processing volumes for subject 30088:  66%|██████▌   | 108/164 [09:02<04:47,  5.13s/it]"
     ]
    },
    {
     "name": "stdout",
     "output_type": "stream",
     "text": [
      "Applying mask to /home/minyoungxi/MINYOUNGXI/XFL/Data/OASIS_MNI_to_TRs/volume_108.nii.gz\n",
      "Running FLIRT on /home/minyoungxi/MINYOUNGXI/XFL/Data/OASIS_MNI_to_TRs/masked_volume_108.nii.gz\n"
     ]
    },
    {
     "name": "stderr",
     "output_type": "stream",
     "text": [
      "Processing volumes for subject 30088:  66%|██████▋   | 109/164 [09:07<04:40,  5.10s/it]"
     ]
    },
    {
     "name": "stdout",
     "output_type": "stream",
     "text": [
      "Applying mask to /home/minyoungxi/MINYOUNGXI/XFL/Data/OASIS_MNI_to_TRs/volume_109.nii.gz\n",
      "Running FLIRT on /home/minyoungxi/MINYOUNGXI/XFL/Data/OASIS_MNI_to_TRs/masked_volume_109.nii.gz\n"
     ]
    },
    {
     "name": "stderr",
     "output_type": "stream",
     "text": [
      "Processing volumes for subject 30088:  67%|██████▋   | 110/164 [09:12<04:35,  5.09s/it]"
     ]
    },
    {
     "name": "stdout",
     "output_type": "stream",
     "text": [
      "Applying mask to /home/minyoungxi/MINYOUNGXI/XFL/Data/OASIS_MNI_to_TRs/volume_110.nii.gz\n",
      "Running FLIRT on /home/minyoungxi/MINYOUNGXI/XFL/Data/OASIS_MNI_to_TRs/masked_volume_110.nii.gz\n"
     ]
    },
    {
     "name": "stderr",
     "output_type": "stream",
     "text": [
      "Processing volumes for subject 30088:  68%|██████▊   | 111/164 [09:18<04:31,  5.11s/it]"
     ]
    },
    {
     "name": "stdout",
     "output_type": "stream",
     "text": [
      "Applying mask to /home/minyoungxi/MINYOUNGXI/XFL/Data/OASIS_MNI_to_TRs/volume_111.nii.gz\n",
      "Running FLIRT on /home/minyoungxi/MINYOUNGXI/XFL/Data/OASIS_MNI_to_TRs/masked_volume_111.nii.gz\n"
     ]
    },
    {
     "name": "stderr",
     "output_type": "stream",
     "text": [
      "Processing volumes for subject 30088:  68%|██████▊   | 112/164 [09:23<04:23,  5.08s/it]"
     ]
    },
    {
     "name": "stdout",
     "output_type": "stream",
     "text": [
      "Applying mask to /home/minyoungxi/MINYOUNGXI/XFL/Data/OASIS_MNI_to_TRs/volume_112.nii.gz\n",
      "Running FLIRT on /home/minyoungxi/MINYOUNGXI/XFL/Data/OASIS_MNI_to_TRs/masked_volume_112.nii.gz\n"
     ]
    },
    {
     "name": "stderr",
     "output_type": "stream",
     "text": [
      "Processing volumes for subject 30088:  69%|██████▉   | 113/164 [09:28<04:17,  5.04s/it]"
     ]
    },
    {
     "name": "stdout",
     "output_type": "stream",
     "text": [
      "Applying mask to /home/minyoungxi/MINYOUNGXI/XFL/Data/OASIS_MNI_to_TRs/volume_113.nii.gz\n",
      "Running FLIRT on /home/minyoungxi/MINYOUNGXI/XFL/Data/OASIS_MNI_to_TRs/masked_volume_113.nii.gz\n"
     ]
    },
    {
     "name": "stderr",
     "output_type": "stream",
     "text": [
      "Processing volumes for subject 30088:  70%|██████▉   | 114/164 [09:32<04:10,  5.02s/it]"
     ]
    },
    {
     "name": "stdout",
     "output_type": "stream",
     "text": [
      "Applying mask to /home/minyoungxi/MINYOUNGXI/XFL/Data/OASIS_MNI_to_TRs/volume_114.nii.gz\n",
      "Running FLIRT on /home/minyoungxi/MINYOUNGXI/XFL/Data/OASIS_MNI_to_TRs/masked_volume_114.nii.gz\n"
     ]
    },
    {
     "name": "stderr",
     "output_type": "stream",
     "text": [
      "Processing volumes for subject 30088:  70%|███████   | 115/164 [09:38<04:07,  5.04s/it]"
     ]
    },
    {
     "name": "stdout",
     "output_type": "stream",
     "text": [
      "Applying mask to /home/minyoungxi/MINYOUNGXI/XFL/Data/OASIS_MNI_to_TRs/volume_115.nii.gz\n",
      "Running FLIRT on /home/minyoungxi/MINYOUNGXI/XFL/Data/OASIS_MNI_to_TRs/masked_volume_115.nii.gz\n"
     ]
    },
    {
     "name": "stderr",
     "output_type": "stream",
     "text": [
      "Processing volumes for subject 30088:  71%|███████   | 116/164 [09:43<04:02,  5.04s/it]"
     ]
    },
    {
     "name": "stdout",
     "output_type": "stream",
     "text": [
      "Applying mask to /home/minyoungxi/MINYOUNGXI/XFL/Data/OASIS_MNI_to_TRs/volume_116.nii.gz\n",
      "Running FLIRT on /home/minyoungxi/MINYOUNGXI/XFL/Data/OASIS_MNI_to_TRs/masked_volume_116.nii.gz\n"
     ]
    },
    {
     "name": "stderr",
     "output_type": "stream",
     "text": [
      "Processing volumes for subject 30088:  71%|███████▏  | 117/164 [09:48<03:58,  5.06s/it]"
     ]
    },
    {
     "name": "stdout",
     "output_type": "stream",
     "text": [
      "Applying mask to /home/minyoungxi/MINYOUNGXI/XFL/Data/OASIS_MNI_to_TRs/volume_117.nii.gz\n",
      "Running FLIRT on /home/minyoungxi/MINYOUNGXI/XFL/Data/OASIS_MNI_to_TRs/masked_volume_117.nii.gz\n"
     ]
    },
    {
     "name": "stderr",
     "output_type": "stream",
     "text": [
      "Processing volumes for subject 30088:  72%|███████▏  | 118/164 [09:53<03:53,  5.07s/it]"
     ]
    },
    {
     "name": "stdout",
     "output_type": "stream",
     "text": [
      "Applying mask to /home/minyoungxi/MINYOUNGXI/XFL/Data/OASIS_MNI_to_TRs/volume_118.nii.gz\n",
      "Running FLIRT on /home/minyoungxi/MINYOUNGXI/XFL/Data/OASIS_MNI_to_TRs/masked_volume_118.nii.gz\n"
     ]
    },
    {
     "name": "stderr",
     "output_type": "stream",
     "text": [
      "Processing volumes for subject 30088:  73%|███████▎  | 119/164 [09:58<03:47,  5.07s/it]"
     ]
    },
    {
     "name": "stdout",
     "output_type": "stream",
     "text": [
      "Applying mask to /home/minyoungxi/MINYOUNGXI/XFL/Data/OASIS_MNI_to_TRs/volume_119.nii.gz\n",
      "Running FLIRT on /home/minyoungxi/MINYOUNGXI/XFL/Data/OASIS_MNI_to_TRs/masked_volume_119.nii.gz\n"
     ]
    },
    {
     "name": "stderr",
     "output_type": "stream",
     "text": [
      "Processing volumes for subject 30088:  73%|███████▎  | 120/164 [10:03<03:43,  5.09s/it]"
     ]
    },
    {
     "name": "stdout",
     "output_type": "stream",
     "text": [
      "Applying mask to /home/minyoungxi/MINYOUNGXI/XFL/Data/OASIS_MNI_to_TRs/volume_120.nii.gz\n",
      "Running FLIRT on /home/minyoungxi/MINYOUNGXI/XFL/Data/OASIS_MNI_to_TRs/masked_volume_120.nii.gz\n"
     ]
    },
    {
     "name": "stderr",
     "output_type": "stream",
     "text": [
      "Processing volumes for subject 30088:  74%|███████▍  | 121/164 [10:08<03:39,  5.10s/it]"
     ]
    },
    {
     "name": "stdout",
     "output_type": "stream",
     "text": [
      "Applying mask to /home/minyoungxi/MINYOUNGXI/XFL/Data/OASIS_MNI_to_TRs/volume_121.nii.gz\n",
      "Running FLIRT on /home/minyoungxi/MINYOUNGXI/XFL/Data/OASIS_MNI_to_TRs/masked_volume_121.nii.gz\n"
     ]
    },
    {
     "name": "stderr",
     "output_type": "stream",
     "text": [
      "Processing volumes for subject 30088:  74%|███████▍  | 122/164 [10:13<03:33,  5.08s/it]"
     ]
    },
    {
     "name": "stdout",
     "output_type": "stream",
     "text": [
      "Applying mask to /home/minyoungxi/MINYOUNGXI/XFL/Data/OASIS_MNI_to_TRs/volume_122.nii.gz\n",
      "Running FLIRT on /home/minyoungxi/MINYOUNGXI/XFL/Data/OASIS_MNI_to_TRs/masked_volume_122.nii.gz\n"
     ]
    },
    {
     "name": "stderr",
     "output_type": "stream",
     "text": [
      "Processing volumes for subject 30088:  75%|███████▌  | 123/164 [10:18<03:27,  5.06s/it]"
     ]
    },
    {
     "name": "stdout",
     "output_type": "stream",
     "text": [
      "Applying mask to /home/minyoungxi/MINYOUNGXI/XFL/Data/OASIS_MNI_to_TRs/volume_123.nii.gz\n",
      "Running FLIRT on /home/minyoungxi/MINYOUNGXI/XFL/Data/OASIS_MNI_to_TRs/masked_volume_123.nii.gz\n"
     ]
    },
    {
     "name": "stderr",
     "output_type": "stream",
     "text": [
      "Processing volumes for subject 30088:  76%|███████▌  | 124/164 [10:23<03:23,  5.08s/it]"
     ]
    },
    {
     "name": "stdout",
     "output_type": "stream",
     "text": [
      "Applying mask to /home/minyoungxi/MINYOUNGXI/XFL/Data/OASIS_MNI_to_TRs/volume_124.nii.gz\n",
      "Running FLIRT on /home/minyoungxi/MINYOUNGXI/XFL/Data/OASIS_MNI_to_TRs/masked_volume_124.nii.gz\n"
     ]
    },
    {
     "name": "stderr",
     "output_type": "stream",
     "text": [
      "Processing volumes for subject 30088:  76%|███████▌  | 125/164 [10:28<03:17,  5.06s/it]"
     ]
    },
    {
     "name": "stdout",
     "output_type": "stream",
     "text": [
      "Applying mask to /home/minyoungxi/MINYOUNGXI/XFL/Data/OASIS_MNI_to_TRs/volume_125.nii.gz\n",
      "Running FLIRT on /home/minyoungxi/MINYOUNGXI/XFL/Data/OASIS_MNI_to_TRs/masked_volume_125.nii.gz\n"
     ]
    },
    {
     "name": "stderr",
     "output_type": "stream",
     "text": [
      "Processing volumes for subject 30088:  77%|███████▋  | 126/164 [10:33<03:11,  5.05s/it]"
     ]
    },
    {
     "name": "stdout",
     "output_type": "stream",
     "text": [
      "Applying mask to /home/minyoungxi/MINYOUNGXI/XFL/Data/OASIS_MNI_to_TRs/volume_126.nii.gz\n",
      "Running FLIRT on /home/minyoungxi/MINYOUNGXI/XFL/Data/OASIS_MNI_to_TRs/masked_volume_126.nii.gz\n"
     ]
    },
    {
     "name": "stderr",
     "output_type": "stream",
     "text": [
      "Processing volumes for subject 30088:  77%|███████▋  | 127/164 [10:38<03:07,  5.07s/it]"
     ]
    },
    {
     "name": "stdout",
     "output_type": "stream",
     "text": [
      "Applying mask to /home/minyoungxi/MINYOUNGXI/XFL/Data/OASIS_MNI_to_TRs/volume_127.nii.gz\n",
      "Running FLIRT on /home/minyoungxi/MINYOUNGXI/XFL/Data/OASIS_MNI_to_TRs/masked_volume_127.nii.gz\n"
     ]
    },
    {
     "name": "stderr",
     "output_type": "stream",
     "text": [
      "Processing volumes for subject 30088:  78%|███████▊  | 128/164 [10:44<03:02,  5.08s/it]"
     ]
    },
    {
     "name": "stdout",
     "output_type": "stream",
     "text": [
      "Applying mask to /home/minyoungxi/MINYOUNGXI/XFL/Data/OASIS_MNI_to_TRs/volume_128.nii.gz\n",
      "Running FLIRT on /home/minyoungxi/MINYOUNGXI/XFL/Data/OASIS_MNI_to_TRs/masked_volume_128.nii.gz\n"
     ]
    },
    {
     "name": "stderr",
     "output_type": "stream",
     "text": [
      "Processing volumes for subject 30088:  79%|███████▊  | 129/164 [10:49<02:57,  5.07s/it]"
     ]
    },
    {
     "name": "stdout",
     "output_type": "stream",
     "text": [
      "Applying mask to /home/minyoungxi/MINYOUNGXI/XFL/Data/OASIS_MNI_to_TRs/volume_129.nii.gz\n",
      "Running FLIRT on /home/minyoungxi/MINYOUNGXI/XFL/Data/OASIS_MNI_to_TRs/masked_volume_129.nii.gz\n"
     ]
    },
    {
     "name": "stderr",
     "output_type": "stream",
     "text": [
      "Processing volumes for subject 30088:  79%|███████▉  | 130/164 [10:54<02:52,  5.06s/it]"
     ]
    },
    {
     "name": "stdout",
     "output_type": "stream",
     "text": [
      "Applying mask to /home/minyoungxi/MINYOUNGXI/XFL/Data/OASIS_MNI_to_TRs/volume_130.nii.gz\n",
      "Running FLIRT on /home/minyoungxi/MINYOUNGXI/XFL/Data/OASIS_MNI_to_TRs/masked_volume_130.nii.gz\n"
     ]
    },
    {
     "name": "stderr",
     "output_type": "stream",
     "text": [
      "Processing volumes for subject 30088:  80%|███████▉  | 131/164 [10:59<02:46,  5.06s/it]"
     ]
    },
    {
     "name": "stdout",
     "output_type": "stream",
     "text": [
      "Applying mask to /home/minyoungxi/MINYOUNGXI/XFL/Data/OASIS_MNI_to_TRs/volume_131.nii.gz\n",
      "Running FLIRT on /home/minyoungxi/MINYOUNGXI/XFL/Data/OASIS_MNI_to_TRs/masked_volume_131.nii.gz\n"
     ]
    },
    {
     "name": "stderr",
     "output_type": "stream",
     "text": [
      "Processing volumes for subject 30088:  80%|████████  | 132/164 [11:04<02:42,  5.08s/it]"
     ]
    },
    {
     "name": "stdout",
     "output_type": "stream",
     "text": [
      "Applying mask to /home/minyoungxi/MINYOUNGXI/XFL/Data/OASIS_MNI_to_TRs/volume_132.nii.gz\n",
      "Running FLIRT on /home/minyoungxi/MINYOUNGXI/XFL/Data/OASIS_MNI_to_TRs/masked_volume_132.nii.gz\n"
     ]
    },
    {
     "name": "stderr",
     "output_type": "stream",
     "text": [
      "Processing volumes for subject 30088:  81%|████████  | 133/164 [11:09<02:37,  5.08s/it]"
     ]
    },
    {
     "name": "stdout",
     "output_type": "stream",
     "text": [
      "Applying mask to /home/minyoungxi/MINYOUNGXI/XFL/Data/OASIS_MNI_to_TRs/volume_133.nii.gz\n",
      "Running FLIRT on /home/minyoungxi/MINYOUNGXI/XFL/Data/OASIS_MNI_to_TRs/masked_volume_133.nii.gz\n"
     ]
    },
    {
     "name": "stderr",
     "output_type": "stream",
     "text": [
      "Processing volumes for subject 30088:  82%|████████▏ | 134/164 [11:14<02:32,  5.09s/it]"
     ]
    },
    {
     "name": "stdout",
     "output_type": "stream",
     "text": [
      "Applying mask to /home/minyoungxi/MINYOUNGXI/XFL/Data/OASIS_MNI_to_TRs/volume_134.nii.gz\n",
      "Running FLIRT on /home/minyoungxi/MINYOUNGXI/XFL/Data/OASIS_MNI_to_TRs/masked_volume_134.nii.gz\n"
     ]
    },
    {
     "name": "stderr",
     "output_type": "stream",
     "text": [
      "Processing volumes for subject 30088:  82%|████████▏ | 135/164 [11:19<02:26,  5.07s/it]"
     ]
    },
    {
     "name": "stdout",
     "output_type": "stream",
     "text": [
      "Applying mask to /home/minyoungxi/MINYOUNGXI/XFL/Data/OASIS_MNI_to_TRs/volume_135.nii.gz\n",
      "Running FLIRT on /home/minyoungxi/MINYOUNGXI/XFL/Data/OASIS_MNI_to_TRs/masked_volume_135.nii.gz\n"
     ]
    },
    {
     "name": "stderr",
     "output_type": "stream",
     "text": [
      "Processing volumes for subject 30088:  83%|████████▎ | 136/164 [11:24<02:21,  5.06s/it]"
     ]
    },
    {
     "name": "stdout",
     "output_type": "stream",
     "text": [
      "Applying mask to /home/minyoungxi/MINYOUNGXI/XFL/Data/OASIS_MNI_to_TRs/volume_136.nii.gz\n",
      "Running FLIRT on /home/minyoungxi/MINYOUNGXI/XFL/Data/OASIS_MNI_to_TRs/masked_volume_136.nii.gz\n"
     ]
    },
    {
     "name": "stderr",
     "output_type": "stream",
     "text": [
      "Processing volumes for subject 30088:  84%|████████▎ | 137/164 [11:29<02:16,  5.04s/it]"
     ]
    },
    {
     "name": "stdout",
     "output_type": "stream",
     "text": [
      "Applying mask to /home/minyoungxi/MINYOUNGXI/XFL/Data/OASIS_MNI_to_TRs/volume_137.nii.gz\n",
      "Running FLIRT on /home/minyoungxi/MINYOUNGXI/XFL/Data/OASIS_MNI_to_TRs/masked_volume_137.nii.gz\n"
     ]
    },
    {
     "name": "stderr",
     "output_type": "stream",
     "text": [
      "Processing volumes for subject 30088:  84%|████████▍ | 138/164 [11:34<02:10,  5.03s/it]"
     ]
    },
    {
     "name": "stdout",
     "output_type": "stream",
     "text": [
      "Applying mask to /home/minyoungxi/MINYOUNGXI/XFL/Data/OASIS_MNI_to_TRs/volume_138.nii.gz\n",
      "Running FLIRT on /home/minyoungxi/MINYOUNGXI/XFL/Data/OASIS_MNI_to_TRs/masked_volume_138.nii.gz\n"
     ]
    },
    {
     "name": "stderr",
     "output_type": "stream",
     "text": [
      "Processing volumes for subject 30088:  85%|████████▍ | 139/164 [11:39<02:06,  5.05s/it]"
     ]
    },
    {
     "name": "stdout",
     "output_type": "stream",
     "text": [
      "Applying mask to /home/minyoungxi/MINYOUNGXI/XFL/Data/OASIS_MNI_to_TRs/volume_139.nii.gz\n",
      "Running FLIRT on /home/minyoungxi/MINYOUNGXI/XFL/Data/OASIS_MNI_to_TRs/masked_volume_139.nii.gz\n"
     ]
    },
    {
     "name": "stderr",
     "output_type": "stream",
     "text": [
      "Processing volumes for subject 30088:  85%|████████▌ | 140/164 [11:44<02:01,  5.07s/it]"
     ]
    },
    {
     "name": "stdout",
     "output_type": "stream",
     "text": [
      "Applying mask to /home/minyoungxi/MINYOUNGXI/XFL/Data/OASIS_MNI_to_TRs/volume_140.nii.gz\n",
      "Running FLIRT on /home/minyoungxi/MINYOUNGXI/XFL/Data/OASIS_MNI_to_TRs/masked_volume_140.nii.gz\n"
     ]
    },
    {
     "name": "stderr",
     "output_type": "stream",
     "text": [
      "Processing volumes for subject 30088:  86%|████████▌ | 141/164 [11:49<01:56,  5.06s/it]"
     ]
    },
    {
     "name": "stdout",
     "output_type": "stream",
     "text": [
      "Applying mask to /home/minyoungxi/MINYOUNGXI/XFL/Data/OASIS_MNI_to_TRs/volume_141.nii.gz\n",
      "Running FLIRT on /home/minyoungxi/MINYOUNGXI/XFL/Data/OASIS_MNI_to_TRs/masked_volume_141.nii.gz\n"
     ]
    },
    {
     "name": "stderr",
     "output_type": "stream",
     "text": [
      "Processing volumes for subject 30088:  87%|████████▋ | 142/164 [11:54<01:50,  5.04s/it]"
     ]
    },
    {
     "name": "stdout",
     "output_type": "stream",
     "text": [
      "Applying mask to /home/minyoungxi/MINYOUNGXI/XFL/Data/OASIS_MNI_to_TRs/volume_142.nii.gz\n",
      "Running FLIRT on /home/minyoungxi/MINYOUNGXI/XFL/Data/OASIS_MNI_to_TRs/masked_volume_142.nii.gz\n"
     ]
    },
    {
     "name": "stderr",
     "output_type": "stream",
     "text": [
      "Processing volumes for subject 30088:  87%|████████▋ | 143/164 [11:59<01:45,  5.04s/it]"
     ]
    },
    {
     "name": "stdout",
     "output_type": "stream",
     "text": [
      "Applying mask to /home/minyoungxi/MINYOUNGXI/XFL/Data/OASIS_MNI_to_TRs/volume_143.nii.gz\n",
      "Running FLIRT on /home/minyoungxi/MINYOUNGXI/XFL/Data/OASIS_MNI_to_TRs/masked_volume_143.nii.gz\n"
     ]
    },
    {
     "name": "stderr",
     "output_type": "stream",
     "text": [
      "Processing volumes for subject 30088:  88%|████████▊ | 144/164 [12:04<01:40,  5.04s/it]"
     ]
    },
    {
     "name": "stdout",
     "output_type": "stream",
     "text": [
      "Applying mask to /home/minyoungxi/MINYOUNGXI/XFL/Data/OASIS_MNI_to_TRs/volume_144.nii.gz\n",
      "Running FLIRT on /home/minyoungxi/MINYOUNGXI/XFL/Data/OASIS_MNI_to_TRs/masked_volume_144.nii.gz\n"
     ]
    },
    {
     "name": "stderr",
     "output_type": "stream",
     "text": [
      "Processing volumes for subject 30088:  88%|████████▊ | 145/164 [12:09<01:36,  5.06s/it]"
     ]
    },
    {
     "name": "stdout",
     "output_type": "stream",
     "text": [
      "Applying mask to /home/minyoungxi/MINYOUNGXI/XFL/Data/OASIS_MNI_to_TRs/volume_145.nii.gz\n",
      "Running FLIRT on /home/minyoungxi/MINYOUNGXI/XFL/Data/OASIS_MNI_to_TRs/masked_volume_145.nii.gz\n"
     ]
    },
    {
     "name": "stderr",
     "output_type": "stream",
     "text": [
      "Processing volumes for subject 30088:  89%|████████▉ | 146/164 [12:15<01:31,  5.07s/it]"
     ]
    },
    {
     "name": "stdout",
     "output_type": "stream",
     "text": [
      "Applying mask to /home/minyoungxi/MINYOUNGXI/XFL/Data/OASIS_MNI_to_TRs/volume_146.nii.gz\n",
      "Running FLIRT on /home/minyoungxi/MINYOUNGXI/XFL/Data/OASIS_MNI_to_TRs/masked_volume_146.nii.gz\n"
     ]
    },
    {
     "name": "stderr",
     "output_type": "stream",
     "text": [
      "Processing volumes for subject 30088:  90%|████████▉ | 147/164 [12:20<01:25,  5.05s/it]"
     ]
    },
    {
     "name": "stdout",
     "output_type": "stream",
     "text": [
      "Applying mask to /home/minyoungxi/MINYOUNGXI/XFL/Data/OASIS_MNI_to_TRs/volume_147.nii.gz\n",
      "Running FLIRT on /home/minyoungxi/MINYOUNGXI/XFL/Data/OASIS_MNI_to_TRs/masked_volume_147.nii.gz\n"
     ]
    },
    {
     "name": "stderr",
     "output_type": "stream",
     "text": [
      "Processing volumes for subject 30088:  90%|█████████ | 148/164 [12:25<01:20,  5.05s/it]"
     ]
    },
    {
     "name": "stdout",
     "output_type": "stream",
     "text": [
      "Applying mask to /home/minyoungxi/MINYOUNGXI/XFL/Data/OASIS_MNI_to_TRs/volume_148.nii.gz\n",
      "Running FLIRT on /home/minyoungxi/MINYOUNGXI/XFL/Data/OASIS_MNI_to_TRs/masked_volume_148.nii.gz\n"
     ]
    },
    {
     "name": "stderr",
     "output_type": "stream",
     "text": [
      "Processing volumes for subject 30088:  91%|█████████ | 149/164 [12:30<01:15,  5.06s/it]"
     ]
    },
    {
     "name": "stdout",
     "output_type": "stream",
     "text": [
      "Applying mask to /home/minyoungxi/MINYOUNGXI/XFL/Data/OASIS_MNI_to_TRs/volume_149.nii.gz\n",
      "Running FLIRT on /home/minyoungxi/MINYOUNGXI/XFL/Data/OASIS_MNI_to_TRs/masked_volume_149.nii.gz\n"
     ]
    },
    {
     "name": "stderr",
     "output_type": "stream",
     "text": [
      "Processing volumes for subject 30088:  91%|█████████▏| 150/164 [12:35<01:10,  5.02s/it]"
     ]
    },
    {
     "name": "stdout",
     "output_type": "stream",
     "text": [
      "Applying mask to /home/minyoungxi/MINYOUNGXI/XFL/Data/OASIS_MNI_to_TRs/volume_150.nii.gz\n",
      "Running FLIRT on /home/minyoungxi/MINYOUNGXI/XFL/Data/OASIS_MNI_to_TRs/masked_volume_150.nii.gz\n"
     ]
    },
    {
     "name": "stderr",
     "output_type": "stream",
     "text": [
      "Processing volumes for subject 30088:  92%|█████████▏| 151/164 [12:40<01:05,  5.05s/it]"
     ]
    },
    {
     "name": "stdout",
     "output_type": "stream",
     "text": [
      "Applying mask to /home/minyoungxi/MINYOUNGXI/XFL/Data/OASIS_MNI_to_TRs/volume_151.nii.gz\n",
      "Running FLIRT on /home/minyoungxi/MINYOUNGXI/XFL/Data/OASIS_MNI_to_TRs/masked_volume_151.nii.gz\n"
     ]
    },
    {
     "name": "stderr",
     "output_type": "stream",
     "text": [
      "Processing volumes for subject 30088:  93%|█████████▎| 152/164 [12:45<01:00,  5.05s/it]"
     ]
    },
    {
     "name": "stdout",
     "output_type": "stream",
     "text": [
      "Applying mask to /home/minyoungxi/MINYOUNGXI/XFL/Data/OASIS_MNI_to_TRs/volume_152.nii.gz\n",
      "Running FLIRT on /home/minyoungxi/MINYOUNGXI/XFL/Data/OASIS_MNI_to_TRs/masked_volume_152.nii.gz\n"
     ]
    },
    {
     "name": "stderr",
     "output_type": "stream",
     "text": [
      "Processing volumes for subject 30088:  93%|█████████▎| 153/164 [12:50<00:55,  5.06s/it]"
     ]
    },
    {
     "name": "stdout",
     "output_type": "stream",
     "text": [
      "Applying mask to /home/minyoungxi/MINYOUNGXI/XFL/Data/OASIS_MNI_to_TRs/volume_153.nii.gz\n",
      "Running FLIRT on /home/minyoungxi/MINYOUNGXI/XFL/Data/OASIS_MNI_to_TRs/masked_volume_153.nii.gz\n"
     ]
    },
    {
     "name": "stderr",
     "output_type": "stream",
     "text": [
      "Processing volumes for subject 30088:  94%|█████████▍| 154/164 [12:55<00:50,  5.10s/it]"
     ]
    },
    {
     "name": "stdout",
     "output_type": "stream",
     "text": [
      "Applying mask to /home/minyoungxi/MINYOUNGXI/XFL/Data/OASIS_MNI_to_TRs/volume_154.nii.gz\n",
      "Running FLIRT on /home/minyoungxi/MINYOUNGXI/XFL/Data/OASIS_MNI_to_TRs/masked_volume_154.nii.gz\n"
     ]
    },
    {
     "name": "stderr",
     "output_type": "stream",
     "text": [
      "Processing volumes for subject 30088:  95%|█████████▍| 155/164 [13:00<00:45,  5.10s/it]"
     ]
    },
    {
     "name": "stdout",
     "output_type": "stream",
     "text": [
      "Applying mask to /home/minyoungxi/MINYOUNGXI/XFL/Data/OASIS_MNI_to_TRs/volume_155.nii.gz\n",
      "Running FLIRT on /home/minyoungxi/MINYOUNGXI/XFL/Data/OASIS_MNI_to_TRs/masked_volume_155.nii.gz\n"
     ]
    },
    {
     "name": "stderr",
     "output_type": "stream",
     "text": [
      "Processing volumes for subject 30088:  95%|█████████▌| 156/164 [13:05<00:40,  5.10s/it]"
     ]
    },
    {
     "name": "stdout",
     "output_type": "stream",
     "text": [
      "Applying mask to /home/minyoungxi/MINYOUNGXI/XFL/Data/OASIS_MNI_to_TRs/volume_156.nii.gz\n",
      "Running FLIRT on /home/minyoungxi/MINYOUNGXI/XFL/Data/OASIS_MNI_to_TRs/masked_volume_156.nii.gz\n"
     ]
    },
    {
     "name": "stderr",
     "output_type": "stream",
     "text": [
      "Processing volumes for subject 30088:  96%|█████████▌| 157/164 [13:10<00:35,  5.11s/it]"
     ]
    },
    {
     "name": "stdout",
     "output_type": "stream",
     "text": [
      "Applying mask to /home/minyoungxi/MINYOUNGXI/XFL/Data/OASIS_MNI_to_TRs/volume_157.nii.gz\n",
      "Running FLIRT on /home/minyoungxi/MINYOUNGXI/XFL/Data/OASIS_MNI_to_TRs/masked_volume_157.nii.gz\n"
     ]
    },
    {
     "name": "stderr",
     "output_type": "stream",
     "text": [
      "Processing volumes for subject 30088:  96%|█████████▋| 158/164 [13:16<00:30,  5.10s/it]"
     ]
    },
    {
     "name": "stdout",
     "output_type": "stream",
     "text": [
      "Applying mask to /home/minyoungxi/MINYOUNGXI/XFL/Data/OASIS_MNI_to_TRs/volume_158.nii.gz\n",
      "Running FLIRT on /home/minyoungxi/MINYOUNGXI/XFL/Data/OASIS_MNI_to_TRs/masked_volume_158.nii.gz\n"
     ]
    },
    {
     "name": "stderr",
     "output_type": "stream",
     "text": [
      "Processing volumes for subject 30088:  97%|█████████▋| 159/164 [13:21<00:25,  5.10s/it]"
     ]
    },
    {
     "name": "stdout",
     "output_type": "stream",
     "text": [
      "Applying mask to /home/minyoungxi/MINYOUNGXI/XFL/Data/OASIS_MNI_to_TRs/volume_159.nii.gz\n",
      "Running FLIRT on /home/minyoungxi/MINYOUNGXI/XFL/Data/OASIS_MNI_to_TRs/masked_volume_159.nii.gz\n"
     ]
    },
    {
     "name": "stderr",
     "output_type": "stream",
     "text": [
      "Processing volumes for subject 30088:  98%|█████████▊| 160/164 [13:26<00:20,  5.10s/it]"
     ]
    },
    {
     "name": "stdout",
     "output_type": "stream",
     "text": [
      "Applying mask to /home/minyoungxi/MINYOUNGXI/XFL/Data/OASIS_MNI_to_TRs/volume_160.nii.gz\n",
      "Running FLIRT on /home/minyoungxi/MINYOUNGXI/XFL/Data/OASIS_MNI_to_TRs/masked_volume_160.nii.gz\n"
     ]
    },
    {
     "name": "stderr",
     "output_type": "stream",
     "text": [
      "Processing volumes for subject 30088:  98%|█████████▊| 161/164 [13:31<00:15,  5.10s/it]"
     ]
    },
    {
     "name": "stdout",
     "output_type": "stream",
     "text": [
      "Applying mask to /home/minyoungxi/MINYOUNGXI/XFL/Data/OASIS_MNI_to_TRs/volume_161.nii.gz\n",
      "Running FLIRT on /home/minyoungxi/MINYOUNGXI/XFL/Data/OASIS_MNI_to_TRs/masked_volume_161.nii.gz\n"
     ]
    },
    {
     "name": "stderr",
     "output_type": "stream",
     "text": [
      "Processing volumes for subject 30088:  99%|█████████▉| 162/164 [13:36<00:10,  5.11s/it]"
     ]
    },
    {
     "name": "stdout",
     "output_type": "stream",
     "text": [
      "Applying mask to /home/minyoungxi/MINYOUNGXI/XFL/Data/OASIS_MNI_to_TRs/volume_162.nii.gz\n",
      "Running FLIRT on /home/minyoungxi/MINYOUNGXI/XFL/Data/OASIS_MNI_to_TRs/masked_volume_162.nii.gz\n"
     ]
    },
    {
     "name": "stderr",
     "output_type": "stream",
     "text": [
      "Processing volumes for subject 30088:  99%|█████████▉| 163/164 [13:41<00:05,  5.10s/it]"
     ]
    },
    {
     "name": "stdout",
     "output_type": "stream",
     "text": [
      "Applying mask to /home/minyoungxi/MINYOUNGXI/XFL/Data/OASIS_MNI_to_TRs/volume_163.nii.gz\n",
      "Running FLIRT on /home/minyoungxi/MINYOUNGXI/XFL/Data/OASIS_MNI_to_TRs/masked_volume_163.nii.gz\n"
     ]
    },
    {
     "name": "stderr",
     "output_type": "stream",
     "text": [
      "Processing volumes for subject 30088: 100%|██████████| 164/164 [13:46<00:00,  5.04s/it]\n"
     ]
    },
    {
     "name": "stdout",
     "output_type": "stream",
     "text": [
      "Found functional file: /home/minyoungxi/MINYOUNGXI/XFL/Data/OASISSamples7.1/OAS30089_MR_d0001/func3/NIFTI/sub-OAS30089_ses-d0001_task-rest_run-02_bold.nii.gz\n",
      "Preprocessing fMRI data for subject 30089, session 0001\n",
      "Running BET on /home/minyoungxi/MINYOUNGXI/XFL/Data/OASIS_MNI_to_TRs/first_volume.nii.gz\n"
     ]
    },
    {
     "name": "stderr",
     "output_type": "stream",
     "text": [
      "Processing volumes for subject 30089:   0%|          | 0/164 [00:00<?, ?it/s]"
     ]
    },
    {
     "name": "stdout",
     "output_type": "stream",
     "text": [
      "Applying mask to /home/minyoungxi/MINYOUNGXI/XFL/Data/OASIS_MNI_to_TRs/volume_0.nii.gz\n",
      "Running FLIRT on /home/minyoungxi/MINYOUNGXI/XFL/Data/OASIS_MNI_to_TRs/masked_volume_0.nii.gz\n"
     ]
    },
    {
     "name": "stderr",
     "output_type": "stream",
     "text": [
      "Processing volumes for subject 30089:   1%|          | 1/164 [00:05<13:58,  5.14s/it]"
     ]
    },
    {
     "name": "stdout",
     "output_type": "stream",
     "text": [
      "Applying mask to /home/minyoungxi/MINYOUNGXI/XFL/Data/OASIS_MNI_to_TRs/volume_1.nii.gz\n",
      "Running FLIRT on /home/minyoungxi/MINYOUNGXI/XFL/Data/OASIS_MNI_to_TRs/masked_volume_1.nii.gz\n"
     ]
    },
    {
     "name": "stderr",
     "output_type": "stream",
     "text": [
      "Processing volumes for subject 30089:   1%|          | 2/164 [00:10<13:46,  5.10s/it]"
     ]
    },
    {
     "name": "stdout",
     "output_type": "stream",
     "text": [
      "Applying mask to /home/minyoungxi/MINYOUNGXI/XFL/Data/OASIS_MNI_to_TRs/volume_2.nii.gz\n",
      "Running FLIRT on /home/minyoungxi/MINYOUNGXI/XFL/Data/OASIS_MNI_to_TRs/masked_volume_2.nii.gz\n"
     ]
    },
    {
     "name": "stderr",
     "output_type": "stream",
     "text": [
      "Processing volumes for subject 30089:   2%|▏         | 3/164 [00:15<13:37,  5.08s/it]"
     ]
    },
    {
     "name": "stdout",
     "output_type": "stream",
     "text": [
      "Applying mask to /home/minyoungxi/MINYOUNGXI/XFL/Data/OASIS_MNI_to_TRs/volume_3.nii.gz\n",
      "Running FLIRT on /home/minyoungxi/MINYOUNGXI/XFL/Data/OASIS_MNI_to_TRs/masked_volume_3.nii.gz\n"
     ]
    },
    {
     "name": "stderr",
     "output_type": "stream",
     "text": [
      "Processing volumes for subject 30089:   2%|▏         | 4/164 [00:20<13:31,  5.07s/it]"
     ]
    },
    {
     "name": "stdout",
     "output_type": "stream",
     "text": [
      "Applying mask to /home/minyoungxi/MINYOUNGXI/XFL/Data/OASIS_MNI_to_TRs/volume_4.nii.gz\n",
      "Running FLIRT on /home/minyoungxi/MINYOUNGXI/XFL/Data/OASIS_MNI_to_TRs/masked_volume_4.nii.gz\n"
     ]
    },
    {
     "name": "stderr",
     "output_type": "stream",
     "text": [
      "Processing volumes for subject 30089:   3%|▎         | 5/164 [00:25<13:33,  5.12s/it]"
     ]
    },
    {
     "name": "stdout",
     "output_type": "stream",
     "text": [
      "Applying mask to /home/minyoungxi/MINYOUNGXI/XFL/Data/OASIS_MNI_to_TRs/volume_5.nii.gz\n",
      "Running FLIRT on /home/minyoungxi/MINYOUNGXI/XFL/Data/OASIS_MNI_to_TRs/masked_volume_5.nii.gz\n"
     ]
    },
    {
     "name": "stderr",
     "output_type": "stream",
     "text": [
      "Processing volumes for subject 30089:   4%|▎         | 6/164 [00:30<13:28,  5.12s/it]"
     ]
    },
    {
     "name": "stdout",
     "output_type": "stream",
     "text": [
      "Applying mask to /home/minyoungxi/MINYOUNGXI/XFL/Data/OASIS_MNI_to_TRs/volume_6.nii.gz\n",
      "Running FLIRT on /home/minyoungxi/MINYOUNGXI/XFL/Data/OASIS_MNI_to_TRs/masked_volume_6.nii.gz\n"
     ]
    },
    {
     "name": "stderr",
     "output_type": "stream",
     "text": [
      "Processing volumes for subject 30089:   4%|▍         | 7/164 [00:35<13:21,  5.10s/it]"
     ]
    },
    {
     "name": "stdout",
     "output_type": "stream",
     "text": [
      "Applying mask to /home/minyoungxi/MINYOUNGXI/XFL/Data/OASIS_MNI_to_TRs/volume_7.nii.gz\n",
      "Running FLIRT on /home/minyoungxi/MINYOUNGXI/XFL/Data/OASIS_MNI_to_TRs/masked_volume_7.nii.gz\n"
     ]
    },
    {
     "name": "stderr",
     "output_type": "stream",
     "text": [
      "Processing volumes for subject 30089:   5%|▍         | 8/164 [00:40<13:17,  5.11s/it]"
     ]
    },
    {
     "name": "stdout",
     "output_type": "stream",
     "text": [
      "Applying mask to /home/minyoungxi/MINYOUNGXI/XFL/Data/OASIS_MNI_to_TRs/volume_8.nii.gz\n",
      "Running FLIRT on /home/minyoungxi/MINYOUNGXI/XFL/Data/OASIS_MNI_to_TRs/masked_volume_8.nii.gz\n"
     ]
    },
    {
     "name": "stderr",
     "output_type": "stream",
     "text": [
      "Processing volumes for subject 30089:   5%|▌         | 9/164 [00:45<13:09,  5.09s/it]"
     ]
    },
    {
     "name": "stdout",
     "output_type": "stream",
     "text": [
      "Applying mask to /home/minyoungxi/MINYOUNGXI/XFL/Data/OASIS_MNI_to_TRs/volume_9.nii.gz\n",
      "Running FLIRT on /home/minyoungxi/MINYOUNGXI/XFL/Data/OASIS_MNI_to_TRs/masked_volume_9.nii.gz\n"
     ]
    },
    {
     "name": "stderr",
     "output_type": "stream",
     "text": [
      "Processing volumes for subject 30089:   6%|▌         | 10/164 [00:50<12:57,  5.05s/it]"
     ]
    },
    {
     "name": "stdout",
     "output_type": "stream",
     "text": [
      "Applying mask to /home/minyoungxi/MINYOUNGXI/XFL/Data/OASIS_MNI_to_TRs/volume_10.nii.gz\n",
      "Running FLIRT on /home/minyoungxi/MINYOUNGXI/XFL/Data/OASIS_MNI_to_TRs/masked_volume_10.nii.gz\n"
     ]
    },
    {
     "name": "stderr",
     "output_type": "stream",
     "text": [
      "Processing volumes for subject 30089:   7%|▋         | 11/164 [00:55<12:55,  5.07s/it]"
     ]
    },
    {
     "name": "stdout",
     "output_type": "stream",
     "text": [
      "Applying mask to /home/minyoungxi/MINYOUNGXI/XFL/Data/OASIS_MNI_to_TRs/volume_11.nii.gz\n",
      "Running FLIRT on /home/minyoungxi/MINYOUNGXI/XFL/Data/OASIS_MNI_to_TRs/masked_volume_11.nii.gz\n"
     ]
    },
    {
     "name": "stderr",
     "output_type": "stream",
     "text": [
      "Processing volumes for subject 30089:   7%|▋         | 12/164 [01:01<12:50,  5.07s/it]"
     ]
    },
    {
     "name": "stdout",
     "output_type": "stream",
     "text": [
      "Applying mask to /home/minyoungxi/MINYOUNGXI/XFL/Data/OASIS_MNI_to_TRs/volume_12.nii.gz\n",
      "Running FLIRT on /home/minyoungxi/MINYOUNGXI/XFL/Data/OASIS_MNI_to_TRs/masked_volume_12.nii.gz\n"
     ]
    },
    {
     "name": "stderr",
     "output_type": "stream",
     "text": [
      "Processing volumes for subject 30089:   8%|▊         | 13/164 [01:06<12:44,  5.07s/it]"
     ]
    },
    {
     "name": "stdout",
     "output_type": "stream",
     "text": [
      "Applying mask to /home/minyoungxi/MINYOUNGXI/XFL/Data/OASIS_MNI_to_TRs/volume_13.nii.gz\n",
      "Running FLIRT on /home/minyoungxi/MINYOUNGXI/XFL/Data/OASIS_MNI_to_TRs/masked_volume_13.nii.gz\n"
     ]
    },
    {
     "name": "stderr",
     "output_type": "stream",
     "text": [
      "Processing volumes for subject 30089:   9%|▊         | 14/164 [01:11<12:39,  5.06s/it]"
     ]
    },
    {
     "name": "stdout",
     "output_type": "stream",
     "text": [
      "Applying mask to /home/minyoungxi/MINYOUNGXI/XFL/Data/OASIS_MNI_to_TRs/volume_14.nii.gz\n",
      "Running FLIRT on /home/minyoungxi/MINYOUNGXI/XFL/Data/OASIS_MNI_to_TRs/masked_volume_14.nii.gz\n"
     ]
    },
    {
     "name": "stderr",
     "output_type": "stream",
     "text": [
      "Processing volumes for subject 30089:   9%|▉         | 15/164 [01:16<12:29,  5.03s/it]"
     ]
    },
    {
     "name": "stdout",
     "output_type": "stream",
     "text": [
      "Applying mask to /home/minyoungxi/MINYOUNGXI/XFL/Data/OASIS_MNI_to_TRs/volume_15.nii.gz\n",
      "Running FLIRT on /home/minyoungxi/MINYOUNGXI/XFL/Data/OASIS_MNI_to_TRs/masked_volume_15.nii.gz\n"
     ]
    },
    {
     "name": "stderr",
     "output_type": "stream",
     "text": [
      "Processing volumes for subject 30089:  10%|▉         | 16/164 [01:21<12:25,  5.04s/it]"
     ]
    },
    {
     "name": "stdout",
     "output_type": "stream",
     "text": [
      "Applying mask to /home/minyoungxi/MINYOUNGXI/XFL/Data/OASIS_MNI_to_TRs/volume_16.nii.gz\n",
      "Running FLIRT on /home/minyoungxi/MINYOUNGXI/XFL/Data/OASIS_MNI_to_TRs/masked_volume_16.nii.gz\n"
     ]
    },
    {
     "name": "stderr",
     "output_type": "stream",
     "text": [
      "Processing volumes for subject 30089:  10%|█         | 17/164 [01:26<12:20,  5.03s/it]"
     ]
    },
    {
     "name": "stdout",
     "output_type": "stream",
     "text": [
      "Applying mask to /home/minyoungxi/MINYOUNGXI/XFL/Data/OASIS_MNI_to_TRs/volume_17.nii.gz\n",
      "Running FLIRT on /home/minyoungxi/MINYOUNGXI/XFL/Data/OASIS_MNI_to_TRs/masked_volume_17.nii.gz\n"
     ]
    },
    {
     "name": "stderr",
     "output_type": "stream",
     "text": [
      "Processing volumes for subject 30089:  11%|█         | 18/164 [01:31<12:16,  5.04s/it]"
     ]
    },
    {
     "name": "stdout",
     "output_type": "stream",
     "text": [
      "Applying mask to /home/minyoungxi/MINYOUNGXI/XFL/Data/OASIS_MNI_to_TRs/volume_18.nii.gz\n",
      "Running FLIRT on /home/minyoungxi/MINYOUNGXI/XFL/Data/OASIS_MNI_to_TRs/masked_volume_18.nii.gz\n"
     ]
    },
    {
     "name": "stderr",
     "output_type": "stream",
     "text": [
      "Processing volumes for subject 30089:  12%|█▏        | 19/164 [01:36<12:08,  5.02s/it]"
     ]
    },
    {
     "name": "stdout",
     "output_type": "stream",
     "text": [
      "Applying mask to /home/minyoungxi/MINYOUNGXI/XFL/Data/OASIS_MNI_to_TRs/volume_19.nii.gz\n",
      "Running FLIRT on /home/minyoungxi/MINYOUNGXI/XFL/Data/OASIS_MNI_to_TRs/masked_volume_19.nii.gz\n"
     ]
    },
    {
     "name": "stderr",
     "output_type": "stream",
     "text": [
      "Processing volumes for subject 30089:  12%|█▏        | 20/164 [01:41<12:03,  5.02s/it]"
     ]
    },
    {
     "name": "stdout",
     "output_type": "stream",
     "text": [
      "Applying mask to /home/minyoungxi/MINYOUNGXI/XFL/Data/OASIS_MNI_to_TRs/volume_20.nii.gz\n",
      "Running FLIRT on /home/minyoungxi/MINYOUNGXI/XFL/Data/OASIS_MNI_to_TRs/masked_volume_20.nii.gz\n"
     ]
    },
    {
     "name": "stderr",
     "output_type": "stream",
     "text": [
      "Processing volumes for subject 30089:  13%|█▎        | 21/164 [01:46<11:58,  5.03s/it]"
     ]
    },
    {
     "name": "stdout",
     "output_type": "stream",
     "text": [
      "Applying mask to /home/minyoungxi/MINYOUNGXI/XFL/Data/OASIS_MNI_to_TRs/volume_21.nii.gz\n",
      "Running FLIRT on /home/minyoungxi/MINYOUNGXI/XFL/Data/OASIS_MNI_to_TRs/masked_volume_21.nii.gz\n"
     ]
    },
    {
     "name": "stderr",
     "output_type": "stream",
     "text": [
      "Processing volumes for subject 30089:  13%|█▎        | 22/164 [01:51<11:50,  5.00s/it]"
     ]
    },
    {
     "name": "stdout",
     "output_type": "stream",
     "text": [
      "Applying mask to /home/minyoungxi/MINYOUNGXI/XFL/Data/OASIS_MNI_to_TRs/volume_22.nii.gz\n",
      "Running FLIRT on /home/minyoungxi/MINYOUNGXI/XFL/Data/OASIS_MNI_to_TRs/masked_volume_22.nii.gz\n"
     ]
    },
    {
     "name": "stderr",
     "output_type": "stream",
     "text": [
      "Processing volumes for subject 30089:  14%|█▍        | 23/164 [01:56<11:45,  5.00s/it]"
     ]
    },
    {
     "name": "stdout",
     "output_type": "stream",
     "text": [
      "Applying mask to /home/minyoungxi/MINYOUNGXI/XFL/Data/OASIS_MNI_to_TRs/volume_23.nii.gz\n",
      "Running FLIRT on /home/minyoungxi/MINYOUNGXI/XFL/Data/OASIS_MNI_to_TRs/masked_volume_23.nii.gz\n"
     ]
    },
    {
     "name": "stderr",
     "output_type": "stream",
     "text": [
      "Processing volumes for subject 30089:  15%|█▍        | 24/164 [02:01<11:41,  5.01s/it]"
     ]
    },
    {
     "name": "stdout",
     "output_type": "stream",
     "text": [
      "Applying mask to /home/minyoungxi/MINYOUNGXI/XFL/Data/OASIS_MNI_to_TRs/volume_24.nii.gz\n",
      "Running FLIRT on /home/minyoungxi/MINYOUNGXI/XFL/Data/OASIS_MNI_to_TRs/masked_volume_24.nii.gz\n"
     ]
    },
    {
     "name": "stderr",
     "output_type": "stream",
     "text": [
      "Processing volumes for subject 30089:  15%|█▌        | 25/164 [02:06<11:34,  4.99s/it]"
     ]
    },
    {
     "name": "stdout",
     "output_type": "stream",
     "text": [
      "Applying mask to /home/minyoungxi/MINYOUNGXI/XFL/Data/OASIS_MNI_to_TRs/volume_25.nii.gz\n",
      "Running FLIRT on /home/minyoungxi/MINYOUNGXI/XFL/Data/OASIS_MNI_to_TRs/masked_volume_25.nii.gz\n"
     ]
    },
    {
     "name": "stderr",
     "output_type": "stream",
     "text": [
      "Processing volumes for subject 30089:  16%|█▌        | 26/164 [02:11<11:28,  4.99s/it]"
     ]
    },
    {
     "name": "stdout",
     "output_type": "stream",
     "text": [
      "Applying mask to /home/minyoungxi/MINYOUNGXI/XFL/Data/OASIS_MNI_to_TRs/volume_26.nii.gz\n",
      "Running FLIRT on /home/minyoungxi/MINYOUNGXI/XFL/Data/OASIS_MNI_to_TRs/masked_volume_26.nii.gz\n"
     ]
    },
    {
     "name": "stderr",
     "output_type": "stream",
     "text": [
      "Processing volumes for subject 30089:  16%|█▋        | 27/164 [02:16<11:25,  5.00s/it]"
     ]
    },
    {
     "name": "stdout",
     "output_type": "stream",
     "text": [
      "Applying mask to /home/minyoungxi/MINYOUNGXI/XFL/Data/OASIS_MNI_to_TRs/volume_27.nii.gz\n",
      "Running FLIRT on /home/minyoungxi/MINYOUNGXI/XFL/Data/OASIS_MNI_to_TRs/masked_volume_27.nii.gz\n"
     ]
    },
    {
     "name": "stderr",
     "output_type": "stream",
     "text": [
      "Processing volumes for subject 30089:  17%|█▋        | 28/164 [02:21<11:18,  4.99s/it]"
     ]
    },
    {
     "name": "stdout",
     "output_type": "stream",
     "text": [
      "Applying mask to /home/minyoungxi/MINYOUNGXI/XFL/Data/OASIS_MNI_to_TRs/volume_28.nii.gz\n",
      "Running FLIRT on /home/minyoungxi/MINYOUNGXI/XFL/Data/OASIS_MNI_to_TRs/masked_volume_28.nii.gz\n"
     ]
    },
    {
     "name": "stderr",
     "output_type": "stream",
     "text": [
      "Processing volumes for subject 30089:  18%|█▊        | 29/164 [02:26<11:13,  4.99s/it]"
     ]
    },
    {
     "name": "stdout",
     "output_type": "stream",
     "text": [
      "Applying mask to /home/minyoungxi/MINYOUNGXI/XFL/Data/OASIS_MNI_to_TRs/volume_29.nii.gz\n",
      "Running FLIRT on /home/minyoungxi/MINYOUNGXI/XFL/Data/OASIS_MNI_to_TRs/masked_volume_29.nii.gz\n"
     ]
    },
    {
     "name": "stderr",
     "output_type": "stream",
     "text": [
      "Processing volumes for subject 30089:  18%|█▊        | 30/164 [02:31<11:09,  5.00s/it]"
     ]
    },
    {
     "name": "stdout",
     "output_type": "stream",
     "text": [
      "Applying mask to /home/minyoungxi/MINYOUNGXI/XFL/Data/OASIS_MNI_to_TRs/volume_30.nii.gz\n",
      "Running FLIRT on /home/minyoungxi/MINYOUNGXI/XFL/Data/OASIS_MNI_to_TRs/masked_volume_30.nii.gz\n"
     ]
    },
    {
     "name": "stderr",
     "output_type": "stream",
     "text": [
      "Processing volumes for subject 30089:  19%|█▉        | 31/164 [02:36<11:02,  4.98s/it]"
     ]
    },
    {
     "name": "stdout",
     "output_type": "stream",
     "text": [
      "Applying mask to /home/minyoungxi/MINYOUNGXI/XFL/Data/OASIS_MNI_to_TRs/volume_31.nii.gz\n",
      "Running FLIRT on /home/minyoungxi/MINYOUNGXI/XFL/Data/OASIS_MNI_to_TRs/masked_volume_31.nii.gz\n"
     ]
    },
    {
     "name": "stderr",
     "output_type": "stream",
     "text": [
      "Processing volumes for subject 30089:  20%|█▉        | 32/164 [02:41<11:01,  5.01s/it]"
     ]
    },
    {
     "name": "stdout",
     "output_type": "stream",
     "text": [
      "Applying mask to /home/minyoungxi/MINYOUNGXI/XFL/Data/OASIS_MNI_to_TRs/volume_32.nii.gz\n",
      "Running FLIRT on /home/minyoungxi/MINYOUNGXI/XFL/Data/OASIS_MNI_to_TRs/masked_volume_32.nii.gz\n"
     ]
    },
    {
     "name": "stderr",
     "output_type": "stream",
     "text": [
      "Processing volumes for subject 30089:  20%|██        | 33/164 [02:46<10:52,  4.98s/it]"
     ]
    },
    {
     "name": "stdout",
     "output_type": "stream",
     "text": [
      "Applying mask to /home/minyoungxi/MINYOUNGXI/XFL/Data/OASIS_MNI_to_TRs/volume_33.nii.gz\n",
      "Running FLIRT on /home/minyoungxi/MINYOUNGXI/XFL/Data/OASIS_MNI_to_TRs/masked_volume_33.nii.gz\n"
     ]
    },
    {
     "name": "stderr",
     "output_type": "stream",
     "text": [
      "Processing volumes for subject 30089:  21%|██        | 34/164 [02:51<10:47,  4.98s/it]"
     ]
    },
    {
     "name": "stdout",
     "output_type": "stream",
     "text": [
      "Applying mask to /home/minyoungxi/MINYOUNGXI/XFL/Data/OASIS_MNI_to_TRs/volume_34.nii.gz\n",
      "Running FLIRT on /home/minyoungxi/MINYOUNGXI/XFL/Data/OASIS_MNI_to_TRs/masked_volume_34.nii.gz\n"
     ]
    },
    {
     "name": "stderr",
     "output_type": "stream",
     "text": [
      "Processing volumes for subject 30089:  21%|██▏       | 35/164 [02:56<10:42,  4.98s/it]"
     ]
    },
    {
     "name": "stdout",
     "output_type": "stream",
     "text": [
      "Applying mask to /home/minyoungxi/MINYOUNGXI/XFL/Data/OASIS_MNI_to_TRs/volume_35.nii.gz\n",
      "Running FLIRT on /home/minyoungxi/MINYOUNGXI/XFL/Data/OASIS_MNI_to_TRs/masked_volume_35.nii.gz\n"
     ]
    },
    {
     "name": "stderr",
     "output_type": "stream",
     "text": [
      "Processing volumes for subject 30089:  22%|██▏       | 36/164 [03:01<10:37,  4.98s/it]"
     ]
    },
    {
     "name": "stdout",
     "output_type": "stream",
     "text": [
      "Applying mask to /home/minyoungxi/MINYOUNGXI/XFL/Data/OASIS_MNI_to_TRs/volume_36.nii.gz\n",
      "Running FLIRT on /home/minyoungxi/MINYOUNGXI/XFL/Data/OASIS_MNI_to_TRs/masked_volume_36.nii.gz\n"
     ]
    },
    {
     "name": "stderr",
     "output_type": "stream",
     "text": [
      "Processing volumes for subject 30089:  23%|██▎       | 37/164 [03:06<10:31,  4.97s/it]"
     ]
    },
    {
     "name": "stdout",
     "output_type": "stream",
     "text": [
      "Applying mask to /home/minyoungxi/MINYOUNGXI/XFL/Data/OASIS_MNI_to_TRs/volume_37.nii.gz\n",
      "Running FLIRT on /home/minyoungxi/MINYOUNGXI/XFL/Data/OASIS_MNI_to_TRs/masked_volume_37.nii.gz\n"
     ]
    },
    {
     "name": "stderr",
     "output_type": "stream",
     "text": [
      "Processing volumes for subject 30089:  23%|██▎       | 38/164 [03:11<10:27,  4.98s/it]"
     ]
    },
    {
     "name": "stdout",
     "output_type": "stream",
     "text": [
      "Applying mask to /home/minyoungxi/MINYOUNGXI/XFL/Data/OASIS_MNI_to_TRs/volume_38.nii.gz\n",
      "Running FLIRT on /home/minyoungxi/MINYOUNGXI/XFL/Data/OASIS_MNI_to_TRs/masked_volume_38.nii.gz\n"
     ]
    },
    {
     "name": "stderr",
     "output_type": "stream",
     "text": [
      "Processing volumes for subject 30089:  24%|██▍       | 39/164 [03:16<10:22,  4.98s/it]"
     ]
    },
    {
     "name": "stdout",
     "output_type": "stream",
     "text": [
      "Applying mask to /home/minyoungxi/MINYOUNGXI/XFL/Data/OASIS_MNI_to_TRs/volume_39.nii.gz\n",
      "Running FLIRT on /home/minyoungxi/MINYOUNGXI/XFL/Data/OASIS_MNI_to_TRs/masked_volume_39.nii.gz\n"
     ]
    },
    {
     "name": "stderr",
     "output_type": "stream",
     "text": [
      "Processing volumes for subject 30089:  24%|██▍       | 40/164 [03:21<10:20,  5.01s/it]"
     ]
    },
    {
     "name": "stdout",
     "output_type": "stream",
     "text": [
      "Applying mask to /home/minyoungxi/MINYOUNGXI/XFL/Data/OASIS_MNI_to_TRs/volume_40.nii.gz\n",
      "Running FLIRT on /home/minyoungxi/MINYOUNGXI/XFL/Data/OASIS_MNI_to_TRs/masked_volume_40.nii.gz\n"
     ]
    },
    {
     "name": "stderr",
     "output_type": "stream",
     "text": [
      "Processing volumes for subject 30089:  25%|██▌       | 41/164 [03:26<10:16,  5.01s/it]"
     ]
    },
    {
     "name": "stdout",
     "output_type": "stream",
     "text": [
      "Applying mask to /home/minyoungxi/MINYOUNGXI/XFL/Data/OASIS_MNI_to_TRs/volume_41.nii.gz\n",
      "Running FLIRT on /home/minyoungxi/MINYOUNGXI/XFL/Data/OASIS_MNI_to_TRs/masked_volume_41.nii.gz\n"
     ]
    },
    {
     "name": "stderr",
     "output_type": "stream",
     "text": [
      "Processing volumes for subject 30089:  26%|██▌       | 42/164 [03:31<10:09,  4.99s/it]"
     ]
    },
    {
     "name": "stdout",
     "output_type": "stream",
     "text": [
      "Applying mask to /home/minyoungxi/MINYOUNGXI/XFL/Data/OASIS_MNI_to_TRs/volume_42.nii.gz\n",
      "Running FLIRT on /home/minyoungxi/MINYOUNGXI/XFL/Data/OASIS_MNI_to_TRs/masked_volume_42.nii.gz\n"
     ]
    },
    {
     "name": "stderr",
     "output_type": "stream",
     "text": [
      "Processing volumes for subject 30089:  26%|██▌       | 43/164 [03:36<10:04,  5.00s/it]"
     ]
    },
    {
     "name": "stdout",
     "output_type": "stream",
     "text": [
      "Applying mask to /home/minyoungxi/MINYOUNGXI/XFL/Data/OASIS_MNI_to_TRs/volume_43.nii.gz\n",
      "Running FLIRT on /home/minyoungxi/MINYOUNGXI/XFL/Data/OASIS_MNI_to_TRs/masked_volume_43.nii.gz\n"
     ]
    },
    {
     "name": "stderr",
     "output_type": "stream",
     "text": [
      "Processing volumes for subject 30089:  27%|██▋       | 44/164 [03:40<09:55,  4.97s/it]"
     ]
    },
    {
     "name": "stdout",
     "output_type": "stream",
     "text": [
      "Applying mask to /home/minyoungxi/MINYOUNGXI/XFL/Data/OASIS_MNI_to_TRs/volume_44.nii.gz\n",
      "Running FLIRT on /home/minyoungxi/MINYOUNGXI/XFL/Data/OASIS_MNI_to_TRs/masked_volume_44.nii.gz\n"
     ]
    },
    {
     "name": "stderr",
     "output_type": "stream",
     "text": [
      "Processing volumes for subject 30089:  27%|██▋       | 45/164 [03:45<09:53,  4.98s/it]"
     ]
    },
    {
     "name": "stdout",
     "output_type": "stream",
     "text": [
      "Applying mask to /home/minyoungxi/MINYOUNGXI/XFL/Data/OASIS_MNI_to_TRs/volume_45.nii.gz\n",
      "Running FLIRT on /home/minyoungxi/MINYOUNGXI/XFL/Data/OASIS_MNI_to_TRs/masked_volume_45.nii.gz\n"
     ]
    },
    {
     "name": "stderr",
     "output_type": "stream",
     "text": [
      "Processing volumes for subject 30089:  28%|██▊       | 46/164 [03:50<09:47,  4.98s/it]"
     ]
    },
    {
     "name": "stdout",
     "output_type": "stream",
     "text": [
      "Applying mask to /home/minyoungxi/MINYOUNGXI/XFL/Data/OASIS_MNI_to_TRs/volume_46.nii.gz\n",
      "Running FLIRT on /home/minyoungxi/MINYOUNGXI/XFL/Data/OASIS_MNI_to_TRs/masked_volume_46.nii.gz\n"
     ]
    },
    {
     "name": "stderr",
     "output_type": "stream",
     "text": [
      "Processing volumes for subject 30089:  29%|██▊       | 47/164 [03:55<09:42,  4.98s/it]"
     ]
    },
    {
     "name": "stdout",
     "output_type": "stream",
     "text": [
      "Applying mask to /home/minyoungxi/MINYOUNGXI/XFL/Data/OASIS_MNI_to_TRs/volume_47.nii.gz\n",
      "Running FLIRT on /home/minyoungxi/MINYOUNGXI/XFL/Data/OASIS_MNI_to_TRs/masked_volume_47.nii.gz\n"
     ]
    },
    {
     "name": "stderr",
     "output_type": "stream",
     "text": [
      "Processing volumes for subject 30089:  29%|██▉       | 48/164 [04:00<09:39,  4.99s/it]"
     ]
    },
    {
     "name": "stdout",
     "output_type": "stream",
     "text": [
      "Applying mask to /home/minyoungxi/MINYOUNGXI/XFL/Data/OASIS_MNI_to_TRs/volume_48.nii.gz\n",
      "Running FLIRT on /home/minyoungxi/MINYOUNGXI/XFL/Data/OASIS_MNI_to_TRs/masked_volume_48.nii.gz\n"
     ]
    },
    {
     "name": "stderr",
     "output_type": "stream",
     "text": [
      "Processing volumes for subject 30089:  30%|██▉       | 49/164 [04:05<09:32,  4.98s/it]"
     ]
    },
    {
     "name": "stdout",
     "output_type": "stream",
     "text": [
      "Applying mask to /home/minyoungxi/MINYOUNGXI/XFL/Data/OASIS_MNI_to_TRs/volume_49.nii.gz\n",
      "Running FLIRT on /home/minyoungxi/MINYOUNGXI/XFL/Data/OASIS_MNI_to_TRs/masked_volume_49.nii.gz\n"
     ]
    },
    {
     "name": "stderr",
     "output_type": "stream",
     "text": [
      "Processing volumes for subject 30089:  30%|███       | 50/164 [04:10<09:27,  4.98s/it]"
     ]
    },
    {
     "name": "stdout",
     "output_type": "stream",
     "text": [
      "Applying mask to /home/minyoungxi/MINYOUNGXI/XFL/Data/OASIS_MNI_to_TRs/volume_50.nii.gz\n",
      "Running FLIRT on /home/minyoungxi/MINYOUNGXI/XFL/Data/OASIS_MNI_to_TRs/masked_volume_50.nii.gz\n"
     ]
    },
    {
     "name": "stderr",
     "output_type": "stream",
     "text": [
      "Processing volumes for subject 30089:  31%|███       | 51/164 [04:15<09:22,  4.98s/it]"
     ]
    },
    {
     "name": "stdout",
     "output_type": "stream",
     "text": [
      "Applying mask to /home/minyoungxi/MINYOUNGXI/XFL/Data/OASIS_MNI_to_TRs/volume_51.nii.gz\n",
      "Running FLIRT on /home/minyoungxi/MINYOUNGXI/XFL/Data/OASIS_MNI_to_TRs/masked_volume_51.nii.gz\n"
     ]
    },
    {
     "name": "stderr",
     "output_type": "stream",
     "text": [
      "Processing volumes for subject 30089:  32%|███▏      | 52/164 [04:20<09:17,  4.98s/it]"
     ]
    },
    {
     "name": "stdout",
     "output_type": "stream",
     "text": [
      "Applying mask to /home/minyoungxi/MINYOUNGXI/XFL/Data/OASIS_MNI_to_TRs/volume_52.nii.gz\n",
      "Running FLIRT on /home/minyoungxi/MINYOUNGXI/XFL/Data/OASIS_MNI_to_TRs/masked_volume_52.nii.gz\n"
     ]
    },
    {
     "name": "stderr",
     "output_type": "stream",
     "text": [
      "Processing volumes for subject 30089:  32%|███▏      | 53/164 [04:25<09:11,  4.96s/it]"
     ]
    },
    {
     "name": "stdout",
     "output_type": "stream",
     "text": [
      "Applying mask to /home/minyoungxi/MINYOUNGXI/XFL/Data/OASIS_MNI_to_TRs/volume_53.nii.gz\n",
      "Running FLIRT on /home/minyoungxi/MINYOUNGXI/XFL/Data/OASIS_MNI_to_TRs/masked_volume_53.nii.gz\n"
     ]
    },
    {
     "name": "stderr",
     "output_type": "stream",
     "text": [
      "Processing volumes for subject 30089:  33%|███▎      | 54/164 [04:30<09:06,  4.97s/it]"
     ]
    },
    {
     "name": "stdout",
     "output_type": "stream",
     "text": [
      "Applying mask to /home/minyoungxi/MINYOUNGXI/XFL/Data/OASIS_MNI_to_TRs/volume_54.nii.gz\n",
      "Running FLIRT on /home/minyoungxi/MINYOUNGXI/XFL/Data/OASIS_MNI_to_TRs/masked_volume_54.nii.gz\n"
     ]
    },
    {
     "name": "stderr",
     "output_type": "stream",
     "text": [
      "Processing volumes for subject 30089:  34%|███▎      | 55/164 [04:35<08:59,  4.95s/it]"
     ]
    },
    {
     "name": "stdout",
     "output_type": "stream",
     "text": [
      "Applying mask to /home/minyoungxi/MINYOUNGXI/XFL/Data/OASIS_MNI_to_TRs/volume_55.nii.gz\n",
      "Running FLIRT on /home/minyoungxi/MINYOUNGXI/XFL/Data/OASIS_MNI_to_TRs/masked_volume_55.nii.gz\n"
     ]
    },
    {
     "name": "stderr",
     "output_type": "stream",
     "text": [
      "Processing volumes for subject 30089:  34%|███▍      | 56/164 [04:40<08:53,  4.94s/it]"
     ]
    },
    {
     "name": "stdout",
     "output_type": "stream",
     "text": [
      "Applying mask to /home/minyoungxi/MINYOUNGXI/XFL/Data/OASIS_MNI_to_TRs/volume_56.nii.gz\n",
      "Running FLIRT on /home/minyoungxi/MINYOUNGXI/XFL/Data/OASIS_MNI_to_TRs/masked_volume_56.nii.gz\n"
     ]
    },
    {
     "name": "stderr",
     "output_type": "stream",
     "text": [
      "Processing volumes for subject 30089:  35%|███▍      | 57/164 [04:45<08:48,  4.94s/it]"
     ]
    },
    {
     "name": "stdout",
     "output_type": "stream",
     "text": [
      "Applying mask to /home/minyoungxi/MINYOUNGXI/XFL/Data/OASIS_MNI_to_TRs/volume_57.nii.gz\n",
      "Running FLIRT on /home/minyoungxi/MINYOUNGXI/XFL/Data/OASIS_MNI_to_TRs/masked_volume_57.nii.gz\n"
     ]
    },
    {
     "name": "stderr",
     "output_type": "stream",
     "text": [
      "Processing volumes for subject 30089:  35%|███▌      | 58/164 [04:50<08:46,  4.96s/it]"
     ]
    },
    {
     "name": "stdout",
     "output_type": "stream",
     "text": [
      "Applying mask to /home/minyoungxi/MINYOUNGXI/XFL/Data/OASIS_MNI_to_TRs/volume_58.nii.gz\n",
      "Running FLIRT on /home/minyoungxi/MINYOUNGXI/XFL/Data/OASIS_MNI_to_TRs/masked_volume_58.nii.gz\n"
     ]
    },
    {
     "name": "stderr",
     "output_type": "stream",
     "text": [
      "Processing volumes for subject 30089:  36%|███▌      | 59/164 [04:55<08:41,  4.96s/it]"
     ]
    },
    {
     "name": "stdout",
     "output_type": "stream",
     "text": [
      "Applying mask to /home/minyoungxi/MINYOUNGXI/XFL/Data/OASIS_MNI_to_TRs/volume_59.nii.gz\n",
      "Running FLIRT on /home/minyoungxi/MINYOUNGXI/XFL/Data/OASIS_MNI_to_TRs/masked_volume_59.nii.gz\n"
     ]
    },
    {
     "name": "stderr",
     "output_type": "stream",
     "text": [
      "Processing volumes for subject 30089:  37%|███▋      | 60/164 [05:00<08:36,  4.97s/it]"
     ]
    },
    {
     "name": "stdout",
     "output_type": "stream",
     "text": [
      "Applying mask to /home/minyoungxi/MINYOUNGXI/XFL/Data/OASIS_MNI_to_TRs/volume_60.nii.gz\n",
      "Running FLIRT on /home/minyoungxi/MINYOUNGXI/XFL/Data/OASIS_MNI_to_TRs/masked_volume_60.nii.gz\n"
     ]
    },
    {
     "name": "stderr",
     "output_type": "stream",
     "text": [
      "Processing volumes for subject 30089:  37%|███▋      | 61/164 [05:05<08:31,  4.97s/it]"
     ]
    },
    {
     "name": "stdout",
     "output_type": "stream",
     "text": [
      "Applying mask to /home/minyoungxi/MINYOUNGXI/XFL/Data/OASIS_MNI_to_TRs/volume_61.nii.gz\n",
      "Running FLIRT on /home/minyoungxi/MINYOUNGXI/XFL/Data/OASIS_MNI_to_TRs/masked_volume_61.nii.gz\n"
     ]
    },
    {
     "name": "stderr",
     "output_type": "stream",
     "text": [
      "Processing volumes for subject 30089:  38%|███▊      | 62/164 [05:10<08:28,  4.98s/it]"
     ]
    },
    {
     "name": "stdout",
     "output_type": "stream",
     "text": [
      "Applying mask to /home/minyoungxi/MINYOUNGXI/XFL/Data/OASIS_MNI_to_TRs/volume_62.nii.gz\n",
      "Running FLIRT on /home/minyoungxi/MINYOUNGXI/XFL/Data/OASIS_MNI_to_TRs/masked_volume_62.nii.gz\n"
     ]
    },
    {
     "name": "stderr",
     "output_type": "stream",
     "text": [
      "Processing volumes for subject 30089:  38%|███▊      | 63/164 [05:15<08:22,  4.98s/it]"
     ]
    },
    {
     "name": "stdout",
     "output_type": "stream",
     "text": [
      "Applying mask to /home/minyoungxi/MINYOUNGXI/XFL/Data/OASIS_MNI_to_TRs/volume_63.nii.gz\n",
      "Running FLIRT on /home/minyoungxi/MINYOUNGXI/XFL/Data/OASIS_MNI_to_TRs/masked_volume_63.nii.gz\n"
     ]
    },
    {
     "name": "stderr",
     "output_type": "stream",
     "text": [
      "Processing volumes for subject 30089:  39%|███▉      | 64/164 [05:20<08:19,  4.99s/it]"
     ]
    },
    {
     "name": "stdout",
     "output_type": "stream",
     "text": [
      "Applying mask to /home/minyoungxi/MINYOUNGXI/XFL/Data/OASIS_MNI_to_TRs/volume_64.nii.gz\n",
      "Running FLIRT on /home/minyoungxi/MINYOUNGXI/XFL/Data/OASIS_MNI_to_TRs/masked_volume_64.nii.gz\n"
     ]
    },
    {
     "name": "stderr",
     "output_type": "stream",
     "text": [
      "Processing volumes for subject 30089:  40%|███▉      | 65/164 [05:25<08:13,  4.99s/it]"
     ]
    },
    {
     "name": "stdout",
     "output_type": "stream",
     "text": [
      "Applying mask to /home/minyoungxi/MINYOUNGXI/XFL/Data/OASIS_MNI_to_TRs/volume_65.nii.gz\n",
      "Running FLIRT on /home/minyoungxi/MINYOUNGXI/XFL/Data/OASIS_MNI_to_TRs/masked_volume_65.nii.gz\n"
     ]
    },
    {
     "name": "stderr",
     "output_type": "stream",
     "text": [
      "Processing volumes for subject 30089:  40%|████      | 66/164 [05:30<08:15,  5.05s/it]"
     ]
    },
    {
     "name": "stdout",
     "output_type": "stream",
     "text": [
      "Applying mask to /home/minyoungxi/MINYOUNGXI/XFL/Data/OASIS_MNI_to_TRs/volume_66.nii.gz\n",
      "Running FLIRT on /home/minyoungxi/MINYOUNGXI/XFL/Data/OASIS_MNI_to_TRs/masked_volume_66.nii.gz\n"
     ]
    },
    {
     "name": "stderr",
     "output_type": "stream",
     "text": [
      "Processing volumes for subject 30089:  41%|████      | 67/164 [05:35<08:07,  5.02s/it]"
     ]
    },
    {
     "name": "stdout",
     "output_type": "stream",
     "text": [
      "Applying mask to /home/minyoungxi/MINYOUNGXI/XFL/Data/OASIS_MNI_to_TRs/volume_67.nii.gz\n",
      "Running FLIRT on /home/minyoungxi/MINYOUNGXI/XFL/Data/OASIS_MNI_to_TRs/masked_volume_67.nii.gz\n"
     ]
    },
    {
     "name": "stderr",
     "output_type": "stream",
     "text": [
      "Processing volumes for subject 30089:  41%|████▏     | 68/164 [05:40<08:00,  5.01s/it]"
     ]
    },
    {
     "name": "stdout",
     "output_type": "stream",
     "text": [
      "Applying mask to /home/minyoungxi/MINYOUNGXI/XFL/Data/OASIS_MNI_to_TRs/volume_68.nii.gz\n",
      "Running FLIRT on /home/minyoungxi/MINYOUNGXI/XFL/Data/OASIS_MNI_to_TRs/masked_volume_68.nii.gz\n"
     ]
    },
    {
     "name": "stderr",
     "output_type": "stream",
     "text": [
      "Processing volumes for subject 30089:  42%|████▏     | 69/164 [05:45<07:56,  5.02s/it]"
     ]
    },
    {
     "name": "stdout",
     "output_type": "stream",
     "text": [
      "Applying mask to /home/minyoungxi/MINYOUNGXI/XFL/Data/OASIS_MNI_to_TRs/volume_69.nii.gz\n",
      "Running FLIRT on /home/minyoungxi/MINYOUNGXI/XFL/Data/OASIS_MNI_to_TRs/masked_volume_69.nii.gz\n"
     ]
    },
    {
     "name": "stderr",
     "output_type": "stream",
     "text": [
      "Processing volumes for subject 30089:  43%|████▎     | 70/164 [05:50<07:48,  4.99s/it]"
     ]
    },
    {
     "name": "stdout",
     "output_type": "stream",
     "text": [
      "Applying mask to /home/minyoungxi/MINYOUNGXI/XFL/Data/OASIS_MNI_to_TRs/volume_70.nii.gz\n",
      "Running FLIRT on /home/minyoungxi/MINYOUNGXI/XFL/Data/OASIS_MNI_to_TRs/masked_volume_70.nii.gz\n"
     ]
    },
    {
     "name": "stderr",
     "output_type": "stream",
     "text": [
      "Processing volumes for subject 30089:  43%|████▎     | 71/164 [05:55<07:44,  4.99s/it]"
     ]
    },
    {
     "name": "stdout",
     "output_type": "stream",
     "text": [
      "Applying mask to /home/minyoungxi/MINYOUNGXI/XFL/Data/OASIS_MNI_to_TRs/volume_71.nii.gz\n",
      "Running FLIRT on /home/minyoungxi/MINYOUNGXI/XFL/Data/OASIS_MNI_to_TRs/masked_volume_71.nii.gz\n"
     ]
    },
    {
     "name": "stderr",
     "output_type": "stream",
     "text": [
      "Processing volumes for subject 30089:  44%|████▍     | 72/164 [06:00<07:38,  4.99s/it]"
     ]
    },
    {
     "name": "stdout",
     "output_type": "stream",
     "text": [
      "Applying mask to /home/minyoungxi/MINYOUNGXI/XFL/Data/OASIS_MNI_to_TRs/volume_72.nii.gz\n",
      "Running FLIRT on /home/minyoungxi/MINYOUNGXI/XFL/Data/OASIS_MNI_to_TRs/masked_volume_72.nii.gz\n"
     ]
    },
    {
     "name": "stderr",
     "output_type": "stream",
     "text": [
      "Processing volumes for subject 30089:  45%|████▍     | 73/164 [06:05<07:31,  4.96s/it]"
     ]
    },
    {
     "name": "stdout",
     "output_type": "stream",
     "text": [
      "Applying mask to /home/minyoungxi/MINYOUNGXI/XFL/Data/OASIS_MNI_to_TRs/volume_73.nii.gz\n",
      "Running FLIRT on /home/minyoungxi/MINYOUNGXI/XFL/Data/OASIS_MNI_to_TRs/masked_volume_73.nii.gz\n"
     ]
    },
    {
     "name": "stderr",
     "output_type": "stream",
     "text": [
      "Processing volumes for subject 30089:  45%|████▌     | 74/164 [06:10<07:26,  4.96s/it]"
     ]
    },
    {
     "name": "stdout",
     "output_type": "stream",
     "text": [
      "Applying mask to /home/minyoungxi/MINYOUNGXI/XFL/Data/OASIS_MNI_to_TRs/volume_74.nii.gz\n",
      "Running FLIRT on /home/minyoungxi/MINYOUNGXI/XFL/Data/OASIS_MNI_to_TRs/masked_volume_74.nii.gz\n"
     ]
    },
    {
     "name": "stderr",
     "output_type": "stream",
     "text": [
      "Processing volumes for subject 30089:  46%|████▌     | 75/164 [06:15<07:20,  4.95s/it]"
     ]
    },
    {
     "name": "stdout",
     "output_type": "stream",
     "text": [
      "Applying mask to /home/minyoungxi/MINYOUNGXI/XFL/Data/OASIS_MNI_to_TRs/volume_75.nii.gz\n",
      "Running FLIRT on /home/minyoungxi/MINYOUNGXI/XFL/Data/OASIS_MNI_to_TRs/masked_volume_75.nii.gz\n"
     ]
    },
    {
     "name": "stderr",
     "output_type": "stream",
     "text": [
      "Processing volumes for subject 30089:  46%|████▋     | 76/164 [06:20<07:16,  4.96s/it]"
     ]
    },
    {
     "name": "stdout",
     "output_type": "stream",
     "text": [
      "Applying mask to /home/minyoungxi/MINYOUNGXI/XFL/Data/OASIS_MNI_to_TRs/volume_76.nii.gz\n",
      "Running FLIRT on /home/minyoungxi/MINYOUNGXI/XFL/Data/OASIS_MNI_to_TRs/masked_volume_76.nii.gz\n"
     ]
    },
    {
     "name": "stderr",
     "output_type": "stream",
     "text": [
      "Processing volumes for subject 30089:  47%|████▋     | 77/164 [06:25<07:11,  4.96s/it]"
     ]
    },
    {
     "name": "stdout",
     "output_type": "stream",
     "text": [
      "Applying mask to /home/minyoungxi/MINYOUNGXI/XFL/Data/OASIS_MNI_to_TRs/volume_77.nii.gz\n",
      "Running FLIRT on /home/minyoungxi/MINYOUNGXI/XFL/Data/OASIS_MNI_to_TRs/masked_volume_77.nii.gz\n"
     ]
    },
    {
     "name": "stderr",
     "output_type": "stream",
     "text": [
      "Processing volumes for subject 30089:  48%|████▊     | 78/164 [06:30<07:06,  4.96s/it]"
     ]
    },
    {
     "name": "stdout",
     "output_type": "stream",
     "text": [
      "Applying mask to /home/minyoungxi/MINYOUNGXI/XFL/Data/OASIS_MNI_to_TRs/volume_78.nii.gz\n",
      "Running FLIRT on /home/minyoungxi/MINYOUNGXI/XFL/Data/OASIS_MNI_to_TRs/masked_volume_78.nii.gz\n"
     ]
    },
    {
     "name": "stderr",
     "output_type": "stream",
     "text": [
      "Processing volumes for subject 30089:  48%|████▊     | 79/164 [06:35<06:59,  4.93s/it]"
     ]
    },
    {
     "name": "stdout",
     "output_type": "stream",
     "text": [
      "Applying mask to /home/minyoungxi/MINYOUNGXI/XFL/Data/OASIS_MNI_to_TRs/volume_79.nii.gz\n",
      "Running FLIRT on /home/minyoungxi/MINYOUNGXI/XFL/Data/OASIS_MNI_to_TRs/masked_volume_79.nii.gz\n"
     ]
    },
    {
     "name": "stderr",
     "output_type": "stream",
     "text": [
      "Processing volumes for subject 30089:  49%|████▉     | 80/164 [06:40<06:55,  4.94s/it]"
     ]
    },
    {
     "name": "stdout",
     "output_type": "stream",
     "text": [
      "Applying mask to /home/minyoungxi/MINYOUNGXI/XFL/Data/OASIS_MNI_to_TRs/volume_80.nii.gz\n",
      "Running FLIRT on /home/minyoungxi/MINYOUNGXI/XFL/Data/OASIS_MNI_to_TRs/masked_volume_80.nii.gz\n"
     ]
    },
    {
     "name": "stderr",
     "output_type": "stream",
     "text": [
      "Processing volumes for subject 30089:  49%|████▉     | 81/164 [06:45<06:52,  4.97s/it]"
     ]
    },
    {
     "name": "stdout",
     "output_type": "stream",
     "text": [
      "Applying mask to /home/minyoungxi/MINYOUNGXI/XFL/Data/OASIS_MNI_to_TRs/volume_81.nii.gz\n",
      "Running FLIRT on /home/minyoungxi/MINYOUNGXI/XFL/Data/OASIS_MNI_to_TRs/masked_volume_81.nii.gz\n"
     ]
    },
    {
     "name": "stderr",
     "output_type": "stream",
     "text": [
      "Processing volumes for subject 30089:  50%|█████     | 82/164 [06:50<06:49,  4.99s/it]"
     ]
    },
    {
     "name": "stdout",
     "output_type": "stream",
     "text": [
      "Applying mask to /home/minyoungxi/MINYOUNGXI/XFL/Data/OASIS_MNI_to_TRs/volume_82.nii.gz\n",
      "Running FLIRT on /home/minyoungxi/MINYOUNGXI/XFL/Data/OASIS_MNI_to_TRs/masked_volume_82.nii.gz\n"
     ]
    },
    {
     "name": "stderr",
     "output_type": "stream",
     "text": [
      "Processing volumes for subject 30089:  51%|█████     | 83/164 [06:55<06:43,  4.98s/it]"
     ]
    },
    {
     "name": "stdout",
     "output_type": "stream",
     "text": [
      "Applying mask to /home/minyoungxi/MINYOUNGXI/XFL/Data/OASIS_MNI_to_TRs/volume_83.nii.gz\n",
      "Running FLIRT on /home/minyoungxi/MINYOUNGXI/XFL/Data/OASIS_MNI_to_TRs/masked_volume_83.nii.gz\n"
     ]
    },
    {
     "name": "stderr",
     "output_type": "stream",
     "text": [
      "Processing volumes for subject 30089:  51%|█████     | 84/164 [07:00<06:39,  4.99s/it]"
     ]
    },
    {
     "name": "stdout",
     "output_type": "stream",
     "text": [
      "Applying mask to /home/minyoungxi/MINYOUNGXI/XFL/Data/OASIS_MNI_to_TRs/volume_84.nii.gz\n",
      "Running FLIRT on /home/minyoungxi/MINYOUNGXI/XFL/Data/OASIS_MNI_to_TRs/masked_volume_84.nii.gz\n"
     ]
    },
    {
     "name": "stderr",
     "output_type": "stream",
     "text": [
      "Processing volumes for subject 30089:  52%|█████▏    | 85/164 [07:05<06:34,  5.00s/it]"
     ]
    },
    {
     "name": "stdout",
     "output_type": "stream",
     "text": [
      "Applying mask to /home/minyoungxi/MINYOUNGXI/XFL/Data/OASIS_MNI_to_TRs/volume_85.nii.gz\n",
      "Running FLIRT on /home/minyoungxi/MINYOUNGXI/XFL/Data/OASIS_MNI_to_TRs/masked_volume_85.nii.gz\n"
     ]
    },
    {
     "name": "stderr",
     "output_type": "stream",
     "text": [
      "Processing volumes for subject 30089:  52%|█████▏    | 86/164 [07:10<06:30,  5.01s/it]"
     ]
    },
    {
     "name": "stdout",
     "output_type": "stream",
     "text": [
      "Applying mask to /home/minyoungxi/MINYOUNGXI/XFL/Data/OASIS_MNI_to_TRs/volume_86.nii.gz\n",
      "Running FLIRT on /home/minyoungxi/MINYOUNGXI/XFL/Data/OASIS_MNI_to_TRs/masked_volume_86.nii.gz\n"
     ]
    },
    {
     "name": "stderr",
     "output_type": "stream",
     "text": [
      "Processing volumes for subject 30089:  53%|█████▎    | 87/164 [07:15<06:24,  5.00s/it]"
     ]
    },
    {
     "name": "stdout",
     "output_type": "stream",
     "text": [
      "Applying mask to /home/minyoungxi/MINYOUNGXI/XFL/Data/OASIS_MNI_to_TRs/volume_87.nii.gz\n",
      "Running FLIRT on /home/minyoungxi/MINYOUNGXI/XFL/Data/OASIS_MNI_to_TRs/masked_volume_87.nii.gz\n"
     ]
    },
    {
     "name": "stderr",
     "output_type": "stream",
     "text": [
      "Processing volumes for subject 30089:  54%|█████▎    | 88/164 [07:20<06:19,  4.99s/it]"
     ]
    },
    {
     "name": "stdout",
     "output_type": "stream",
     "text": [
      "Applying mask to /home/minyoungxi/MINYOUNGXI/XFL/Data/OASIS_MNI_to_TRs/volume_88.nii.gz\n",
      "Running FLIRT on /home/minyoungxi/MINYOUNGXI/XFL/Data/OASIS_MNI_to_TRs/masked_volume_88.nii.gz\n"
     ]
    },
    {
     "name": "stderr",
     "output_type": "stream",
     "text": [
      "Processing volumes for subject 30089:  54%|█████▍    | 89/164 [07:25<06:12,  4.97s/it]"
     ]
    },
    {
     "name": "stdout",
     "output_type": "stream",
     "text": [
      "Applying mask to /home/minyoungxi/MINYOUNGXI/XFL/Data/OASIS_MNI_to_TRs/volume_89.nii.gz\n",
      "Running FLIRT on /home/minyoungxi/MINYOUNGXI/XFL/Data/OASIS_MNI_to_TRs/masked_volume_89.nii.gz\n"
     ]
    },
    {
     "name": "stderr",
     "output_type": "stream",
     "text": [
      "Processing volumes for subject 30089:  55%|█████▍    | 90/164 [07:30<06:08,  4.98s/it]"
     ]
    },
    {
     "name": "stdout",
     "output_type": "stream",
     "text": [
      "Applying mask to /home/minyoungxi/MINYOUNGXI/XFL/Data/OASIS_MNI_to_TRs/volume_90.nii.gz\n",
      "Running FLIRT on /home/minyoungxi/MINYOUNGXI/XFL/Data/OASIS_MNI_to_TRs/masked_volume_90.nii.gz\n"
     ]
    },
    {
     "name": "stderr",
     "output_type": "stream",
     "text": [
      "Processing volumes for subject 30089:  55%|█████▌    | 91/164 [07:34<06:03,  4.98s/it]"
     ]
    },
    {
     "name": "stdout",
     "output_type": "stream",
     "text": [
      "Applying mask to /home/minyoungxi/MINYOUNGXI/XFL/Data/OASIS_MNI_to_TRs/volume_91.nii.gz\n",
      "Running FLIRT on /home/minyoungxi/MINYOUNGXI/XFL/Data/OASIS_MNI_to_TRs/masked_volume_91.nii.gz\n"
     ]
    },
    {
     "name": "stderr",
     "output_type": "stream",
     "text": [
      "Processing volumes for subject 30089:  56%|█████▌    | 92/164 [07:39<05:58,  4.98s/it]"
     ]
    },
    {
     "name": "stdout",
     "output_type": "stream",
     "text": [
      "Applying mask to /home/minyoungxi/MINYOUNGXI/XFL/Data/OASIS_MNI_to_TRs/volume_92.nii.gz\n",
      "Running FLIRT on /home/minyoungxi/MINYOUNGXI/XFL/Data/OASIS_MNI_to_TRs/masked_volume_92.nii.gz\n"
     ]
    },
    {
     "name": "stderr",
     "output_type": "stream",
     "text": [
      "Processing volumes for subject 30089:  57%|█████▋    | 93/164 [07:45<05:55,  5.01s/it]"
     ]
    },
    {
     "name": "stdout",
     "output_type": "stream",
     "text": [
      "Applying mask to /home/minyoungxi/MINYOUNGXI/XFL/Data/OASIS_MNI_to_TRs/volume_93.nii.gz\n",
      "Running FLIRT on /home/minyoungxi/MINYOUNGXI/XFL/Data/OASIS_MNI_to_TRs/masked_volume_93.nii.gz\n"
     ]
    },
    {
     "name": "stderr",
     "output_type": "stream",
     "text": [
      "Processing volumes for subject 30089:  57%|█████▋    | 94/164 [07:50<05:51,  5.02s/it]"
     ]
    },
    {
     "name": "stdout",
     "output_type": "stream",
     "text": [
      "Applying mask to /home/minyoungxi/MINYOUNGXI/XFL/Data/OASIS_MNI_to_TRs/volume_94.nii.gz\n",
      "Running FLIRT on /home/minyoungxi/MINYOUNGXI/XFL/Data/OASIS_MNI_to_TRs/masked_volume_94.nii.gz\n"
     ]
    },
    {
     "name": "stderr",
     "output_type": "stream",
     "text": [
      "Processing volumes for subject 30089:  58%|█████▊    | 95/164 [07:55<05:46,  5.02s/it]"
     ]
    },
    {
     "name": "stdout",
     "output_type": "stream",
     "text": [
      "Applying mask to /home/minyoungxi/MINYOUNGXI/XFL/Data/OASIS_MNI_to_TRs/volume_95.nii.gz\n",
      "Running FLIRT on /home/minyoungxi/MINYOUNGXI/XFL/Data/OASIS_MNI_to_TRs/masked_volume_95.nii.gz\n"
     ]
    },
    {
     "name": "stderr",
     "output_type": "stream",
     "text": [
      "Processing volumes for subject 30089:  59%|█████▊    | 96/164 [08:00<05:41,  5.02s/it]"
     ]
    },
    {
     "name": "stdout",
     "output_type": "stream",
     "text": [
      "Applying mask to /home/minyoungxi/MINYOUNGXI/XFL/Data/OASIS_MNI_to_TRs/volume_96.nii.gz\n",
      "Running FLIRT on /home/minyoungxi/MINYOUNGXI/XFL/Data/OASIS_MNI_to_TRs/masked_volume_96.nii.gz\n"
     ]
    },
    {
     "name": "stderr",
     "output_type": "stream",
     "text": [
      "Processing volumes for subject 30089:  59%|█████▉    | 97/164 [08:05<05:34,  5.00s/it]"
     ]
    },
    {
     "name": "stdout",
     "output_type": "stream",
     "text": [
      "Applying mask to /home/minyoungxi/MINYOUNGXI/XFL/Data/OASIS_MNI_to_TRs/volume_97.nii.gz\n",
      "Running FLIRT on /home/minyoungxi/MINYOUNGXI/XFL/Data/OASIS_MNI_to_TRs/masked_volume_97.nii.gz\n"
     ]
    },
    {
     "name": "stderr",
     "output_type": "stream",
     "text": [
      "Processing volumes for subject 30089:  60%|█████▉    | 98/164 [08:10<05:30,  5.00s/it]"
     ]
    },
    {
     "name": "stdout",
     "output_type": "stream",
     "text": [
      "Applying mask to /home/minyoungxi/MINYOUNGXI/XFL/Data/OASIS_MNI_to_TRs/volume_98.nii.gz\n",
      "Running FLIRT on /home/minyoungxi/MINYOUNGXI/XFL/Data/OASIS_MNI_to_TRs/masked_volume_98.nii.gz\n"
     ]
    },
    {
     "name": "stderr",
     "output_type": "stream",
     "text": [
      "Processing volumes for subject 30089:  60%|██████    | 99/164 [08:15<05:23,  4.98s/it]"
     ]
    },
    {
     "name": "stdout",
     "output_type": "stream",
     "text": [
      "Applying mask to /home/minyoungxi/MINYOUNGXI/XFL/Data/OASIS_MNI_to_TRs/volume_99.nii.gz\n",
      "Running FLIRT on /home/minyoungxi/MINYOUNGXI/XFL/Data/OASIS_MNI_to_TRs/masked_volume_99.nii.gz\n"
     ]
    },
    {
     "name": "stderr",
     "output_type": "stream",
     "text": [
      "Processing volumes for subject 30089:  61%|██████    | 100/164 [08:19<05:17,  4.97s/it]"
     ]
    },
    {
     "name": "stdout",
     "output_type": "stream",
     "text": [
      "Applying mask to /home/minyoungxi/MINYOUNGXI/XFL/Data/OASIS_MNI_to_TRs/volume_100.nii.gz\n",
      "Running FLIRT on /home/minyoungxi/MINYOUNGXI/XFL/Data/OASIS_MNI_to_TRs/masked_volume_100.nii.gz\n"
     ]
    },
    {
     "name": "stderr",
     "output_type": "stream",
     "text": [
      "Processing volumes for subject 30089:  62%|██████▏   | 101/164 [08:24<05:13,  4.98s/it]"
     ]
    },
    {
     "name": "stdout",
     "output_type": "stream",
     "text": [
      "Applying mask to /home/minyoungxi/MINYOUNGXI/XFL/Data/OASIS_MNI_to_TRs/volume_101.nii.gz\n",
      "Running FLIRT on /home/minyoungxi/MINYOUNGXI/XFL/Data/OASIS_MNI_to_TRs/masked_volume_101.nii.gz\n"
     ]
    },
    {
     "name": "stderr",
     "output_type": "stream",
     "text": [
      "Processing volumes for subject 30089:  62%|██████▏   | 102/164 [08:29<05:08,  4.98s/it]"
     ]
    },
    {
     "name": "stdout",
     "output_type": "stream",
     "text": [
      "Applying mask to /home/minyoungxi/MINYOUNGXI/XFL/Data/OASIS_MNI_to_TRs/volume_102.nii.gz\n",
      "Running FLIRT on /home/minyoungxi/MINYOUNGXI/XFL/Data/OASIS_MNI_to_TRs/masked_volume_102.nii.gz\n"
     ]
    },
    {
     "name": "stderr",
     "output_type": "stream",
     "text": [
      "Processing volumes for subject 30089:  63%|██████▎   | 103/164 [08:35<05:12,  5.13s/it]"
     ]
    },
    {
     "name": "stdout",
     "output_type": "stream",
     "text": [
      "Applying mask to /home/minyoungxi/MINYOUNGXI/XFL/Data/OASIS_MNI_to_TRs/volume_103.nii.gz\n",
      "Running FLIRT on /home/minyoungxi/MINYOUNGXI/XFL/Data/OASIS_MNI_to_TRs/masked_volume_103.nii.gz\n"
     ]
    },
    {
     "name": "stderr",
     "output_type": "stream",
     "text": [
      "Processing volumes for subject 30089:  63%|██████▎   | 104/164 [08:40<05:06,  5.11s/it]"
     ]
    },
    {
     "name": "stdout",
     "output_type": "stream",
     "text": [
      "Applying mask to /home/minyoungxi/MINYOUNGXI/XFL/Data/OASIS_MNI_to_TRs/volume_104.nii.gz\n",
      "Running FLIRT on /home/minyoungxi/MINYOUNGXI/XFL/Data/OASIS_MNI_to_TRs/masked_volume_104.nii.gz\n"
     ]
    },
    {
     "name": "stderr",
     "output_type": "stream",
     "text": [
      "Processing volumes for subject 30089:  64%|██████▍   | 105/164 [08:45<04:59,  5.08s/it]"
     ]
    },
    {
     "name": "stdout",
     "output_type": "stream",
     "text": [
      "Applying mask to /home/minyoungxi/MINYOUNGXI/XFL/Data/OASIS_MNI_to_TRs/volume_105.nii.gz\n",
      "Running FLIRT on /home/minyoungxi/MINYOUNGXI/XFL/Data/OASIS_MNI_to_TRs/masked_volume_105.nii.gz\n"
     ]
    },
    {
     "name": "stderr",
     "output_type": "stream",
     "text": [
      "Processing volumes for subject 30089:  65%|██████▍   | 106/164 [08:50<04:55,  5.09s/it]"
     ]
    },
    {
     "name": "stdout",
     "output_type": "stream",
     "text": [
      "Applying mask to /home/minyoungxi/MINYOUNGXI/XFL/Data/OASIS_MNI_to_TRs/volume_106.nii.gz\n",
      "Running FLIRT on /home/minyoungxi/MINYOUNGXI/XFL/Data/OASIS_MNI_to_TRs/masked_volume_106.nii.gz\n"
     ]
    },
    {
     "name": "stderr",
     "output_type": "stream",
     "text": [
      "Processing volumes for subject 30089:  65%|██████▌   | 107/164 [08:55<04:48,  5.06s/it]"
     ]
    },
    {
     "name": "stdout",
     "output_type": "stream",
     "text": [
      "Applying mask to /home/minyoungxi/MINYOUNGXI/XFL/Data/OASIS_MNI_to_TRs/volume_107.nii.gz\n",
      "Running FLIRT on /home/minyoungxi/MINYOUNGXI/XFL/Data/OASIS_MNI_to_TRs/masked_volume_107.nii.gz\n"
     ]
    },
    {
     "name": "stderr",
     "output_type": "stream",
     "text": [
      "Processing volumes for subject 30089:  66%|██████▌   | 108/164 [09:00<04:41,  5.03s/it]"
     ]
    },
    {
     "name": "stdout",
     "output_type": "stream",
     "text": [
      "Applying mask to /home/minyoungxi/MINYOUNGXI/XFL/Data/OASIS_MNI_to_TRs/volume_108.nii.gz\n",
      "Running FLIRT on /home/minyoungxi/MINYOUNGXI/XFL/Data/OASIS_MNI_to_TRs/masked_volume_108.nii.gz\n"
     ]
    },
    {
     "name": "stderr",
     "output_type": "stream",
     "text": [
      "Processing volumes for subject 30089:  66%|██████▋   | 109/164 [09:05<04:36,  5.02s/it]"
     ]
    },
    {
     "name": "stdout",
     "output_type": "stream",
     "text": [
      "Applying mask to /home/minyoungxi/MINYOUNGXI/XFL/Data/OASIS_MNI_to_TRs/volume_109.nii.gz\n",
      "Running FLIRT on /home/minyoungxi/MINYOUNGXI/XFL/Data/OASIS_MNI_to_TRs/masked_volume_109.nii.gz\n"
     ]
    },
    {
     "name": "stderr",
     "output_type": "stream",
     "text": [
      "Processing volumes for subject 30089:  67%|██████▋   | 110/164 [09:10<04:31,  5.03s/it]"
     ]
    },
    {
     "name": "stdout",
     "output_type": "stream",
     "text": [
      "Applying mask to /home/minyoungxi/MINYOUNGXI/XFL/Data/OASIS_MNI_to_TRs/volume_110.nii.gz\n",
      "Running FLIRT on /home/minyoungxi/MINYOUNGXI/XFL/Data/OASIS_MNI_to_TRs/masked_volume_110.nii.gz\n"
     ]
    },
    {
     "name": "stderr",
     "output_type": "stream",
     "text": [
      "Processing volumes for subject 30089:  68%|██████▊   | 111/164 [09:15<04:26,  5.02s/it]"
     ]
    },
    {
     "name": "stdout",
     "output_type": "stream",
     "text": [
      "Applying mask to /home/minyoungxi/MINYOUNGXI/XFL/Data/OASIS_MNI_to_TRs/volume_111.nii.gz\n",
      "Running FLIRT on /home/minyoungxi/MINYOUNGXI/XFL/Data/OASIS_MNI_to_TRs/masked_volume_111.nii.gz\n"
     ]
    },
    {
     "name": "stderr",
     "output_type": "stream",
     "text": [
      "Processing volumes for subject 30089:  68%|██████▊   | 112/164 [09:20<04:21,  5.04s/it]"
     ]
    },
    {
     "name": "stdout",
     "output_type": "stream",
     "text": [
      "Applying mask to /home/minyoungxi/MINYOUNGXI/XFL/Data/OASIS_MNI_to_TRs/volume_112.nii.gz\n",
      "Running FLIRT on /home/minyoungxi/MINYOUNGXI/XFL/Data/OASIS_MNI_to_TRs/masked_volume_112.nii.gz\n"
     ]
    },
    {
     "name": "stderr",
     "output_type": "stream",
     "text": [
      "Processing volumes for subject 30089:  69%|██████▉   | 113/164 [09:25<04:17,  5.05s/it]"
     ]
    },
    {
     "name": "stdout",
     "output_type": "stream",
     "text": [
      "Applying mask to /home/minyoungxi/MINYOUNGXI/XFL/Data/OASIS_MNI_to_TRs/volume_113.nii.gz\n",
      "Running FLIRT on /home/minyoungxi/MINYOUNGXI/XFL/Data/OASIS_MNI_to_TRs/masked_volume_113.nii.gz\n"
     ]
    },
    {
     "name": "stderr",
     "output_type": "stream",
     "text": [
      "Processing volumes for subject 30089:  70%|██████▉   | 114/164 [09:30<04:11,  5.02s/it]"
     ]
    },
    {
     "name": "stdout",
     "output_type": "stream",
     "text": [
      "Applying mask to /home/minyoungxi/MINYOUNGXI/XFL/Data/OASIS_MNI_to_TRs/volume_114.nii.gz\n",
      "Running FLIRT on /home/minyoungxi/MINYOUNGXI/XFL/Data/OASIS_MNI_to_TRs/masked_volume_114.nii.gz\n"
     ]
    },
    {
     "name": "stderr",
     "output_type": "stream",
     "text": [
      "Processing volumes for subject 30089:  70%|███████   | 115/164 [09:35<04:04,  4.99s/it]"
     ]
    },
    {
     "name": "stdout",
     "output_type": "stream",
     "text": [
      "Applying mask to /home/minyoungxi/MINYOUNGXI/XFL/Data/OASIS_MNI_to_TRs/volume_115.nii.gz\n",
      "Running FLIRT on /home/minyoungxi/MINYOUNGXI/XFL/Data/OASIS_MNI_to_TRs/masked_volume_115.nii.gz\n"
     ]
    },
    {
     "name": "stderr",
     "output_type": "stream",
     "text": [
      "Processing volumes for subject 30089:  71%|███████   | 116/164 [09:40<03:59,  4.98s/it]"
     ]
    },
    {
     "name": "stdout",
     "output_type": "stream",
     "text": [
      "Applying mask to /home/minyoungxi/MINYOUNGXI/XFL/Data/OASIS_MNI_to_TRs/volume_116.nii.gz\n",
      "Running FLIRT on /home/minyoungxi/MINYOUNGXI/XFL/Data/OASIS_MNI_to_TRs/masked_volume_116.nii.gz\n"
     ]
    },
    {
     "name": "stderr",
     "output_type": "stream",
     "text": [
      "Processing volumes for subject 30089:  71%|███████▏  | 117/164 [09:45<03:55,  5.00s/it]"
     ]
    },
    {
     "name": "stdout",
     "output_type": "stream",
     "text": [
      "Applying mask to /home/minyoungxi/MINYOUNGXI/XFL/Data/OASIS_MNI_to_TRs/volume_117.nii.gz\n",
      "Running FLIRT on /home/minyoungxi/MINYOUNGXI/XFL/Data/OASIS_MNI_to_TRs/masked_volume_117.nii.gz\n"
     ]
    },
    {
     "name": "stderr",
     "output_type": "stream",
     "text": [
      "Processing volumes for subject 30089:  72%|███████▏  | 118/164 [09:50<03:50,  5.01s/it]"
     ]
    },
    {
     "name": "stdout",
     "output_type": "stream",
     "text": [
      "Applying mask to /home/minyoungxi/MINYOUNGXI/XFL/Data/OASIS_MNI_to_TRs/volume_118.nii.gz\n",
      "Running FLIRT on /home/minyoungxi/MINYOUNGXI/XFL/Data/OASIS_MNI_to_TRs/masked_volume_118.nii.gz\n"
     ]
    },
    {
     "name": "stderr",
     "output_type": "stream",
     "text": [
      "Processing volumes for subject 30089:  73%|███████▎  | 119/164 [09:55<03:45,  5.02s/it]"
     ]
    },
    {
     "name": "stdout",
     "output_type": "stream",
     "text": [
      "Applying mask to /home/minyoungxi/MINYOUNGXI/XFL/Data/OASIS_MNI_to_TRs/volume_119.nii.gz\n",
      "Running FLIRT on /home/minyoungxi/MINYOUNGXI/XFL/Data/OASIS_MNI_to_TRs/masked_volume_119.nii.gz\n"
     ]
    },
    {
     "name": "stderr",
     "output_type": "stream",
     "text": [
      "Processing volumes for subject 30089:  73%|███████▎  | 120/164 [10:00<03:41,  5.04s/it]"
     ]
    },
    {
     "name": "stdout",
     "output_type": "stream",
     "text": [
      "Applying mask to /home/minyoungxi/MINYOUNGXI/XFL/Data/OASIS_MNI_to_TRs/volume_120.nii.gz\n",
      "Running FLIRT on /home/minyoungxi/MINYOUNGXI/XFL/Data/OASIS_MNI_to_TRs/masked_volume_120.nii.gz\n"
     ]
    },
    {
     "name": "stderr",
     "output_type": "stream",
     "text": [
      "Processing volumes for subject 30089:  74%|███████▍  | 121/164 [10:05<03:37,  5.05s/it]"
     ]
    },
    {
     "name": "stdout",
     "output_type": "stream",
     "text": [
      "Applying mask to /home/minyoungxi/MINYOUNGXI/XFL/Data/OASIS_MNI_to_TRs/volume_121.nii.gz\n",
      "Running FLIRT on /home/minyoungxi/MINYOUNGXI/XFL/Data/OASIS_MNI_to_TRs/masked_volume_121.nii.gz\n"
     ]
    },
    {
     "name": "stderr",
     "output_type": "stream",
     "text": [
      "Processing volumes for subject 30089:  74%|███████▍  | 122/164 [10:10<03:31,  5.03s/it]"
     ]
    },
    {
     "name": "stdout",
     "output_type": "stream",
     "text": [
      "Applying mask to /home/minyoungxi/MINYOUNGXI/XFL/Data/OASIS_MNI_to_TRs/volume_122.nii.gz\n",
      "Running FLIRT on /home/minyoungxi/MINYOUNGXI/XFL/Data/OASIS_MNI_to_TRs/masked_volume_122.nii.gz\n"
     ]
    },
    {
     "name": "stderr",
     "output_type": "stream",
     "text": [
      "Processing volumes for subject 30089:  75%|███████▌  | 123/164 [10:15<03:26,  5.04s/it]"
     ]
    },
    {
     "name": "stdout",
     "output_type": "stream",
     "text": [
      "Applying mask to /home/minyoungxi/MINYOUNGXI/XFL/Data/OASIS_MNI_to_TRs/volume_123.nii.gz\n",
      "Running FLIRT on /home/minyoungxi/MINYOUNGXI/XFL/Data/OASIS_MNI_to_TRs/masked_volume_123.nii.gz\n"
     ]
    },
    {
     "name": "stderr",
     "output_type": "stream",
     "text": [
      "Processing volumes for subject 30089:  76%|███████▌  | 124/164 [10:20<03:20,  5.02s/it]"
     ]
    },
    {
     "name": "stdout",
     "output_type": "stream",
     "text": [
      "Applying mask to /home/minyoungxi/MINYOUNGXI/XFL/Data/OASIS_MNI_to_TRs/volume_124.nii.gz\n",
      "Running FLIRT on /home/minyoungxi/MINYOUNGXI/XFL/Data/OASIS_MNI_to_TRs/masked_volume_124.nii.gz\n"
     ]
    },
    {
     "name": "stderr",
     "output_type": "stream",
     "text": [
      "Processing volumes for subject 30089:  76%|███████▌  | 125/164 [10:25<03:15,  5.03s/it]"
     ]
    },
    {
     "name": "stdout",
     "output_type": "stream",
     "text": [
      "Applying mask to /home/minyoungxi/MINYOUNGXI/XFL/Data/OASIS_MNI_to_TRs/volume_125.nii.gz\n",
      "Running FLIRT on /home/minyoungxi/MINYOUNGXI/XFL/Data/OASIS_MNI_to_TRs/masked_volume_125.nii.gz\n"
     ]
    },
    {
     "name": "stderr",
     "output_type": "stream",
     "text": [
      "Processing volumes for subject 30089:  77%|███████▋  | 126/164 [10:30<03:10,  5.02s/it]"
     ]
    },
    {
     "name": "stdout",
     "output_type": "stream",
     "text": [
      "Applying mask to /home/minyoungxi/MINYOUNGXI/XFL/Data/OASIS_MNI_to_TRs/volume_126.nii.gz\n",
      "Running FLIRT on /home/minyoungxi/MINYOUNGXI/XFL/Data/OASIS_MNI_to_TRs/masked_volume_126.nii.gz\n"
     ]
    },
    {
     "name": "stderr",
     "output_type": "stream",
     "text": [
      "Processing volumes for subject 30089:  77%|███████▋  | 127/164 [10:35<03:05,  5.02s/it]"
     ]
    },
    {
     "name": "stdout",
     "output_type": "stream",
     "text": [
      "Applying mask to /home/minyoungxi/MINYOUNGXI/XFL/Data/OASIS_MNI_to_TRs/volume_127.nii.gz\n",
      "Running FLIRT on /home/minyoungxi/MINYOUNGXI/XFL/Data/OASIS_MNI_to_TRs/masked_volume_127.nii.gz\n"
     ]
    },
    {
     "name": "stderr",
     "output_type": "stream",
     "text": [
      "Processing volumes for subject 30089:  78%|███████▊  | 128/164 [10:41<03:01,  5.04s/it]"
     ]
    },
    {
     "name": "stdout",
     "output_type": "stream",
     "text": [
      "Applying mask to /home/minyoungxi/MINYOUNGXI/XFL/Data/OASIS_MNI_to_TRs/volume_128.nii.gz\n",
      "Running FLIRT on /home/minyoungxi/MINYOUNGXI/XFL/Data/OASIS_MNI_to_TRs/masked_volume_128.nii.gz\n"
     ]
    },
    {
     "name": "stderr",
     "output_type": "stream",
     "text": [
      "Processing volumes for subject 30089:  79%|███████▊  | 129/164 [10:46<02:55,  5.02s/it]"
     ]
    },
    {
     "name": "stdout",
     "output_type": "stream",
     "text": [
      "Applying mask to /home/minyoungxi/MINYOUNGXI/XFL/Data/OASIS_MNI_to_TRs/volume_129.nii.gz\n",
      "Running FLIRT on /home/minyoungxi/MINYOUNGXI/XFL/Data/OASIS_MNI_to_TRs/masked_volume_129.nii.gz\n"
     ]
    },
    {
     "name": "stderr",
     "output_type": "stream",
     "text": [
      "Processing volumes for subject 30089:  79%|███████▉  | 130/164 [10:51<02:51,  5.05s/it]"
     ]
    },
    {
     "name": "stdout",
     "output_type": "stream",
     "text": [
      "Applying mask to /home/minyoungxi/MINYOUNGXI/XFL/Data/OASIS_MNI_to_TRs/volume_130.nii.gz\n",
      "Running FLIRT on /home/minyoungxi/MINYOUNGXI/XFL/Data/OASIS_MNI_to_TRs/masked_volume_130.nii.gz\n"
     ]
    },
    {
     "name": "stderr",
     "output_type": "stream",
     "text": [
      "Processing volumes for subject 30089:  80%|███████▉  | 131/164 [10:56<02:46,  5.05s/it]"
     ]
    },
    {
     "name": "stdout",
     "output_type": "stream",
     "text": [
      "Applying mask to /home/minyoungxi/MINYOUNGXI/XFL/Data/OASIS_MNI_to_TRs/volume_131.nii.gz\n",
      "Running FLIRT on /home/minyoungxi/MINYOUNGXI/XFL/Data/OASIS_MNI_to_TRs/masked_volume_131.nii.gz\n"
     ]
    },
    {
     "name": "stderr",
     "output_type": "stream",
     "text": [
      "Processing volumes for subject 30089:  80%|████████  | 132/164 [11:01<02:41,  5.04s/it]"
     ]
    },
    {
     "name": "stdout",
     "output_type": "stream",
     "text": [
      "Applying mask to /home/minyoungxi/MINYOUNGXI/XFL/Data/OASIS_MNI_to_TRs/volume_132.nii.gz\n",
      "Running FLIRT on /home/minyoungxi/MINYOUNGXI/XFL/Data/OASIS_MNI_to_TRs/masked_volume_132.nii.gz\n"
     ]
    },
    {
     "name": "stderr",
     "output_type": "stream",
     "text": [
      "Processing volumes for subject 30089:  81%|████████  | 133/164 [11:06<02:37,  5.08s/it]"
     ]
    },
    {
     "name": "stdout",
     "output_type": "stream",
     "text": [
      "Applying mask to /home/minyoungxi/MINYOUNGXI/XFL/Data/OASIS_MNI_to_TRs/volume_133.nii.gz\n",
      "Running FLIRT on /home/minyoungxi/MINYOUNGXI/XFL/Data/OASIS_MNI_to_TRs/masked_volume_133.nii.gz\n"
     ]
    },
    {
     "name": "stderr",
     "output_type": "stream",
     "text": [
      "Processing volumes for subject 30089:  82%|████████▏ | 134/164 [11:11<02:32,  5.08s/it]"
     ]
    },
    {
     "name": "stdout",
     "output_type": "stream",
     "text": [
      "Applying mask to /home/minyoungxi/MINYOUNGXI/XFL/Data/OASIS_MNI_to_TRs/volume_134.nii.gz\n",
      "Running FLIRT on /home/minyoungxi/MINYOUNGXI/XFL/Data/OASIS_MNI_to_TRs/masked_volume_134.nii.gz\n"
     ]
    },
    {
     "name": "stderr",
     "output_type": "stream",
     "text": [
      "Processing volumes for subject 30089:  82%|████████▏ | 135/164 [11:16<02:26,  5.06s/it]"
     ]
    },
    {
     "name": "stdout",
     "output_type": "stream",
     "text": [
      "Applying mask to /home/minyoungxi/MINYOUNGXI/XFL/Data/OASIS_MNI_to_TRs/volume_135.nii.gz\n",
      "Running FLIRT on /home/minyoungxi/MINYOUNGXI/XFL/Data/OASIS_MNI_to_TRs/masked_volume_135.nii.gz\n"
     ]
    },
    {
     "name": "stderr",
     "output_type": "stream",
     "text": [
      "Processing volumes for subject 30089:  83%|████████▎ | 136/164 [11:21<02:21,  5.07s/it]"
     ]
    },
    {
     "name": "stdout",
     "output_type": "stream",
     "text": [
      "Applying mask to /home/minyoungxi/MINYOUNGXI/XFL/Data/OASIS_MNI_to_TRs/volume_136.nii.gz\n",
      "Running FLIRT on /home/minyoungxi/MINYOUNGXI/XFL/Data/OASIS_MNI_to_TRs/masked_volume_136.nii.gz\n"
     ]
    },
    {
     "name": "stderr",
     "output_type": "stream",
     "text": [
      "Processing volumes for subject 30089:  84%|████████▎ | 137/164 [11:26<02:16,  5.06s/it]"
     ]
    },
    {
     "name": "stdout",
     "output_type": "stream",
     "text": [
      "Applying mask to /home/minyoungxi/MINYOUNGXI/XFL/Data/OASIS_MNI_to_TRs/volume_137.nii.gz\n",
      "Running FLIRT on /home/minyoungxi/MINYOUNGXI/XFL/Data/OASIS_MNI_to_TRs/masked_volume_137.nii.gz\n"
     ]
    },
    {
     "name": "stderr",
     "output_type": "stream",
     "text": [
      "Processing volumes for subject 30089:  84%|████████▍ | 138/164 [11:31<02:11,  5.07s/it]"
     ]
    },
    {
     "name": "stdout",
     "output_type": "stream",
     "text": [
      "Applying mask to /home/minyoungxi/MINYOUNGXI/XFL/Data/OASIS_MNI_to_TRs/volume_138.nii.gz\n",
      "Running FLIRT on /home/minyoungxi/MINYOUNGXI/XFL/Data/OASIS_MNI_to_TRs/masked_volume_138.nii.gz\n"
     ]
    },
    {
     "name": "stderr",
     "output_type": "stream",
     "text": [
      "Processing volumes for subject 30089:  85%|████████▍ | 139/164 [11:36<02:06,  5.06s/it]"
     ]
    },
    {
     "name": "stdout",
     "output_type": "stream",
     "text": [
      "Applying mask to /home/minyoungxi/MINYOUNGXI/XFL/Data/OASIS_MNI_to_TRs/volume_139.nii.gz\n",
      "Running FLIRT on /home/minyoungxi/MINYOUNGXI/XFL/Data/OASIS_MNI_to_TRs/masked_volume_139.nii.gz\n"
     ]
    },
    {
     "name": "stderr",
     "output_type": "stream",
     "text": [
      "Processing volumes for subject 30089:  85%|████████▌ | 140/164 [11:41<02:01,  5.05s/it]"
     ]
    },
    {
     "name": "stdout",
     "output_type": "stream",
     "text": [
      "Applying mask to /home/minyoungxi/MINYOUNGXI/XFL/Data/OASIS_MNI_to_TRs/volume_140.nii.gz\n",
      "Running FLIRT on /home/minyoungxi/MINYOUNGXI/XFL/Data/OASIS_MNI_to_TRs/masked_volume_140.nii.gz\n"
     ]
    },
    {
     "name": "stderr",
     "output_type": "stream",
     "text": [
      "Processing volumes for subject 30089:  86%|████████▌ | 141/164 [11:46<01:56,  5.05s/it]"
     ]
    },
    {
     "name": "stdout",
     "output_type": "stream",
     "text": [
      "Applying mask to /home/minyoungxi/MINYOUNGXI/XFL/Data/OASIS_MNI_to_TRs/volume_141.nii.gz\n",
      "Running FLIRT on /home/minyoungxi/MINYOUNGXI/XFL/Data/OASIS_MNI_to_TRs/masked_volume_141.nii.gz\n"
     ]
    },
    {
     "name": "stderr",
     "output_type": "stream",
     "text": [
      "Processing volumes for subject 30089:  87%|████████▋ | 142/164 [11:51<01:51,  5.06s/it]"
     ]
    },
    {
     "name": "stdout",
     "output_type": "stream",
     "text": [
      "Applying mask to /home/minyoungxi/MINYOUNGXI/XFL/Data/OASIS_MNI_to_TRs/volume_142.nii.gz\n",
      "Running FLIRT on /home/minyoungxi/MINYOUNGXI/XFL/Data/OASIS_MNI_to_TRs/masked_volume_142.nii.gz\n"
     ]
    },
    {
     "name": "stderr",
     "output_type": "stream",
     "text": [
      "Processing volumes for subject 30089:  87%|████████▋ | 143/164 [11:56<01:46,  5.07s/it]"
     ]
    },
    {
     "name": "stdout",
     "output_type": "stream",
     "text": [
      "Applying mask to /home/minyoungxi/MINYOUNGXI/XFL/Data/OASIS_MNI_to_TRs/volume_143.nii.gz\n",
      "Running FLIRT on /home/minyoungxi/MINYOUNGXI/XFL/Data/OASIS_MNI_to_TRs/masked_volume_143.nii.gz\n"
     ]
    },
    {
     "name": "stderr",
     "output_type": "stream",
     "text": [
      "Processing volumes for subject 30089:  88%|████████▊ | 144/164 [12:02<01:41,  5.09s/it]"
     ]
    },
    {
     "name": "stdout",
     "output_type": "stream",
     "text": [
      "Applying mask to /home/minyoungxi/MINYOUNGXI/XFL/Data/OASIS_MNI_to_TRs/volume_144.nii.gz\n",
      "Running FLIRT on /home/minyoungxi/MINYOUNGXI/XFL/Data/OASIS_MNI_to_TRs/masked_volume_144.nii.gz\n"
     ]
    },
    {
     "name": "stderr",
     "output_type": "stream",
     "text": [
      "Processing volumes for subject 30089:  88%|████████▊ | 145/164 [12:07<01:36,  5.08s/it]"
     ]
    },
    {
     "name": "stdout",
     "output_type": "stream",
     "text": [
      "Applying mask to /home/minyoungxi/MINYOUNGXI/XFL/Data/OASIS_MNI_to_TRs/volume_145.nii.gz\n",
      "Running FLIRT on /home/minyoungxi/MINYOUNGXI/XFL/Data/OASIS_MNI_to_TRs/masked_volume_145.nii.gz\n"
     ]
    },
    {
     "name": "stderr",
     "output_type": "stream",
     "text": [
      "Processing volumes for subject 30089:  89%|████████▉ | 146/164 [12:12<01:31,  5.06s/it]"
     ]
    },
    {
     "name": "stdout",
     "output_type": "stream",
     "text": [
      "Applying mask to /home/minyoungxi/MINYOUNGXI/XFL/Data/OASIS_MNI_to_TRs/volume_146.nii.gz\n",
      "Running FLIRT on /home/minyoungxi/MINYOUNGXI/XFL/Data/OASIS_MNI_to_TRs/masked_volume_146.nii.gz\n"
     ]
    },
    {
     "name": "stderr",
     "output_type": "stream",
     "text": [
      "Processing volumes for subject 30089:  90%|████████▉ | 147/164 [12:17<01:26,  5.09s/it]"
     ]
    },
    {
     "name": "stdout",
     "output_type": "stream",
     "text": [
      "Applying mask to /home/minyoungxi/MINYOUNGXI/XFL/Data/OASIS_MNI_to_TRs/volume_147.nii.gz\n",
      "Running FLIRT on /home/minyoungxi/MINYOUNGXI/XFL/Data/OASIS_MNI_to_TRs/masked_volume_147.nii.gz\n"
     ]
    },
    {
     "name": "stderr",
     "output_type": "stream",
     "text": [
      "Processing volumes for subject 30089:  90%|█████████ | 148/164 [12:22<01:21,  5.09s/it]"
     ]
    },
    {
     "name": "stdout",
     "output_type": "stream",
     "text": [
      "Applying mask to /home/minyoungxi/MINYOUNGXI/XFL/Data/OASIS_MNI_to_TRs/volume_148.nii.gz\n",
      "Running FLIRT on /home/minyoungxi/MINYOUNGXI/XFL/Data/OASIS_MNI_to_TRs/masked_volume_148.nii.gz\n"
     ]
    },
    {
     "name": "stderr",
     "output_type": "stream",
     "text": [
      "Processing volumes for subject 30089:  91%|█████████ | 149/164 [12:27<01:16,  5.12s/it]"
     ]
    },
    {
     "name": "stdout",
     "output_type": "stream",
     "text": [
      "Applying mask to /home/minyoungxi/MINYOUNGXI/XFL/Data/OASIS_MNI_to_TRs/volume_149.nii.gz\n",
      "Running FLIRT on /home/minyoungxi/MINYOUNGXI/XFL/Data/OASIS_MNI_to_TRs/masked_volume_149.nii.gz\n"
     ]
    },
    {
     "name": "stderr",
     "output_type": "stream",
     "text": [
      "Processing volumes for subject 30089:  91%|█████████▏| 150/164 [12:32<01:11,  5.09s/it]"
     ]
    },
    {
     "name": "stdout",
     "output_type": "stream",
     "text": [
      "Applying mask to /home/minyoungxi/MINYOUNGXI/XFL/Data/OASIS_MNI_to_TRs/volume_150.nii.gz\n",
      "Running FLIRT on /home/minyoungxi/MINYOUNGXI/XFL/Data/OASIS_MNI_to_TRs/masked_volume_150.nii.gz\n"
     ]
    },
    {
     "name": "stderr",
     "output_type": "stream",
     "text": [
      "Processing volumes for subject 30089:  92%|█████████▏| 151/164 [12:37<01:06,  5.09s/it]"
     ]
    },
    {
     "name": "stdout",
     "output_type": "stream",
     "text": [
      "Applying mask to /home/minyoungxi/MINYOUNGXI/XFL/Data/OASIS_MNI_to_TRs/volume_151.nii.gz\n",
      "Running FLIRT on /home/minyoungxi/MINYOUNGXI/XFL/Data/OASIS_MNI_to_TRs/masked_volume_151.nii.gz\n"
     ]
    },
    {
     "name": "stderr",
     "output_type": "stream",
     "text": [
      "Processing volumes for subject 30089:  93%|█████████▎| 152/164 [12:42<01:01,  5.08s/it]"
     ]
    },
    {
     "name": "stdout",
     "output_type": "stream",
     "text": [
      "Applying mask to /home/minyoungxi/MINYOUNGXI/XFL/Data/OASIS_MNI_to_TRs/volume_152.nii.gz\n",
      "Running FLIRT on /home/minyoungxi/MINYOUNGXI/XFL/Data/OASIS_MNI_to_TRs/masked_volume_152.nii.gz\n"
     ]
    },
    {
     "name": "stderr",
     "output_type": "stream",
     "text": [
      "Processing volumes for subject 30089:  93%|█████████▎| 153/164 [12:47<00:55,  5.05s/it]"
     ]
    },
    {
     "name": "stdout",
     "output_type": "stream",
     "text": [
      "Applying mask to /home/minyoungxi/MINYOUNGXI/XFL/Data/OASIS_MNI_to_TRs/volume_153.nii.gz\n",
      "Running FLIRT on /home/minyoungxi/MINYOUNGXI/XFL/Data/OASIS_MNI_to_TRs/masked_volume_153.nii.gz\n"
     ]
    },
    {
     "name": "stderr",
     "output_type": "stream",
     "text": [
      "Processing volumes for subject 30089:  94%|█████████▍| 154/164 [12:52<00:50,  5.06s/it]"
     ]
    },
    {
     "name": "stdout",
     "output_type": "stream",
     "text": [
      "Applying mask to /home/minyoungxi/MINYOUNGXI/XFL/Data/OASIS_MNI_to_TRs/volume_154.nii.gz\n",
      "Running FLIRT on /home/minyoungxi/MINYOUNGXI/XFL/Data/OASIS_MNI_to_TRs/masked_volume_154.nii.gz\n"
     ]
    },
    {
     "name": "stderr",
     "output_type": "stream",
     "text": [
      "Processing volumes for subject 30089:  95%|█████████▍| 155/164 [12:58<00:45,  5.09s/it]"
     ]
    },
    {
     "name": "stdout",
     "output_type": "stream",
     "text": [
      "Applying mask to /home/minyoungxi/MINYOUNGXI/XFL/Data/OASIS_MNI_to_TRs/volume_155.nii.gz\n",
      "Running FLIRT on /home/minyoungxi/MINYOUNGXI/XFL/Data/OASIS_MNI_to_TRs/masked_volume_155.nii.gz\n"
     ]
    },
    {
     "name": "stderr",
     "output_type": "stream",
     "text": [
      "Processing volumes for subject 30089:  95%|█████████▌| 156/164 [13:03<00:40,  5.07s/it]"
     ]
    },
    {
     "name": "stdout",
     "output_type": "stream",
     "text": [
      "Applying mask to /home/minyoungxi/MINYOUNGXI/XFL/Data/OASIS_MNI_to_TRs/volume_156.nii.gz\n",
      "Running FLIRT on /home/minyoungxi/MINYOUNGXI/XFL/Data/OASIS_MNI_to_TRs/masked_volume_156.nii.gz\n"
     ]
    },
    {
     "name": "stderr",
     "output_type": "stream",
     "text": [
      "Processing volumes for subject 30089:  96%|█████████▌| 157/164 [13:08<00:35,  5.09s/it]"
     ]
    },
    {
     "name": "stdout",
     "output_type": "stream",
     "text": [
      "Applying mask to /home/minyoungxi/MINYOUNGXI/XFL/Data/OASIS_MNI_to_TRs/volume_157.nii.gz\n",
      "Running FLIRT on /home/minyoungxi/MINYOUNGXI/XFL/Data/OASIS_MNI_to_TRs/masked_volume_157.nii.gz\n"
     ]
    },
    {
     "name": "stderr",
     "output_type": "stream",
     "text": [
      "Processing volumes for subject 30089:  96%|█████████▋| 158/164 [13:13<00:30,  5.07s/it]"
     ]
    },
    {
     "name": "stdout",
     "output_type": "stream",
     "text": [
      "Applying mask to /home/minyoungxi/MINYOUNGXI/XFL/Data/OASIS_MNI_to_TRs/volume_158.nii.gz\n",
      "Running FLIRT on /home/minyoungxi/MINYOUNGXI/XFL/Data/OASIS_MNI_to_TRs/masked_volume_158.nii.gz\n"
     ]
    },
    {
     "name": "stderr",
     "output_type": "stream",
     "text": [
      "Processing volumes for subject 30089:  97%|█████████▋| 159/164 [13:18<00:25,  5.06s/it]"
     ]
    },
    {
     "name": "stdout",
     "output_type": "stream",
     "text": [
      "Applying mask to /home/minyoungxi/MINYOUNGXI/XFL/Data/OASIS_MNI_to_TRs/volume_159.nii.gz\n",
      "Running FLIRT on /home/minyoungxi/MINYOUNGXI/XFL/Data/OASIS_MNI_to_TRs/masked_volume_159.nii.gz\n"
     ]
    },
    {
     "name": "stderr",
     "output_type": "stream",
     "text": [
      "Processing volumes for subject 30089:  98%|█████████▊| 160/164 [13:23<00:20,  5.03s/it]"
     ]
    },
    {
     "name": "stdout",
     "output_type": "stream",
     "text": [
      "Applying mask to /home/minyoungxi/MINYOUNGXI/XFL/Data/OASIS_MNI_to_TRs/volume_160.nii.gz\n",
      "Running FLIRT on /home/minyoungxi/MINYOUNGXI/XFL/Data/OASIS_MNI_to_TRs/masked_volume_160.nii.gz\n"
     ]
    },
    {
     "name": "stderr",
     "output_type": "stream",
     "text": [
      "Processing volumes for subject 30089:  98%|█████████▊| 161/164 [13:28<00:15,  5.04s/it]"
     ]
    },
    {
     "name": "stdout",
     "output_type": "stream",
     "text": [
      "Applying mask to /home/minyoungxi/MINYOUNGXI/XFL/Data/OASIS_MNI_to_TRs/volume_161.nii.gz\n",
      "Running FLIRT on /home/minyoungxi/MINYOUNGXI/XFL/Data/OASIS_MNI_to_TRs/masked_volume_161.nii.gz\n"
     ]
    },
    {
     "name": "stderr",
     "output_type": "stream",
     "text": [
      "Processing volumes for subject 30089:  99%|█████████▉| 162/164 [13:33<00:10,  5.03s/it]"
     ]
    },
    {
     "name": "stdout",
     "output_type": "stream",
     "text": [
      "Applying mask to /home/minyoungxi/MINYOUNGXI/XFL/Data/OASIS_MNI_to_TRs/volume_162.nii.gz\n",
      "Running FLIRT on /home/minyoungxi/MINYOUNGXI/XFL/Data/OASIS_MNI_to_TRs/masked_volume_162.nii.gz\n"
     ]
    },
    {
     "name": "stderr",
     "output_type": "stream",
     "text": [
      "Processing volumes for subject 30089:  99%|█████████▉| 163/164 [13:38<00:05,  5.04s/it]"
     ]
    },
    {
     "name": "stdout",
     "output_type": "stream",
     "text": [
      "Applying mask to /home/minyoungxi/MINYOUNGXI/XFL/Data/OASIS_MNI_to_TRs/volume_163.nii.gz\n",
      "Running FLIRT on /home/minyoungxi/MINYOUNGXI/XFL/Data/OASIS_MNI_to_TRs/masked_volume_163.nii.gz\n"
     ]
    },
    {
     "name": "stderr",
     "output_type": "stream",
     "text": [
      "Processing volumes for subject 30089: 100%|██████████| 164/164 [13:43<00:00,  5.02s/it]\n"
     ]
    },
    {
     "name": "stdout",
     "output_type": "stream",
     "text": [
      "Found functional file: /home/minyoungxi/MINYOUNGXI/XFL/Data/OASISSamples7.1/OAS30016_MR_d0021/func1/NIFTI/sub-OAS30016_ses-d0021_task-rest_run-01_bold.nii.gz\n",
      "Preprocessing fMRI data for subject 30016, session 0021\n",
      "Running BET on /home/minyoungxi/MINYOUNGXI/XFL/Data/OASIS_MNI_to_TRs/first_volume.nii.gz\n"
     ]
    },
    {
     "name": "stderr",
     "output_type": "stream",
     "text": [
      "Processing volumes for subject 30016:   0%|          | 0/164 [00:00<?, ?it/s]"
     ]
    },
    {
     "name": "stdout",
     "output_type": "stream",
     "text": [
      "Applying mask to /home/minyoungxi/MINYOUNGXI/XFL/Data/OASIS_MNI_to_TRs/volume_0.nii.gz\n",
      "Running FLIRT on /home/minyoungxi/MINYOUNGXI/XFL/Data/OASIS_MNI_to_TRs/masked_volume_0.nii.gz\n"
     ]
    },
    {
     "name": "stderr",
     "output_type": "stream",
     "text": [
      "Processing volumes for subject 30016:   1%|          | 1/164 [00:04<13:07,  4.83s/it]"
     ]
    },
    {
     "name": "stdout",
     "output_type": "stream",
     "text": [
      "Applying mask to /home/minyoungxi/MINYOUNGXI/XFL/Data/OASIS_MNI_to_TRs/volume_1.nii.gz\n",
      "Running FLIRT on /home/minyoungxi/MINYOUNGXI/XFL/Data/OASIS_MNI_to_TRs/masked_volume_1.nii.gz\n"
     ]
    },
    {
     "name": "stderr",
     "output_type": "stream",
     "text": [
      "Processing volumes for subject 30016:   1%|          | 2/164 [00:09<13:03,  4.84s/it]"
     ]
    },
    {
     "name": "stdout",
     "output_type": "stream",
     "text": [
      "Applying mask to /home/minyoungxi/MINYOUNGXI/XFL/Data/OASIS_MNI_to_TRs/volume_2.nii.gz\n",
      "Running FLIRT on /home/minyoungxi/MINYOUNGXI/XFL/Data/OASIS_MNI_to_TRs/masked_volume_2.nii.gz\n"
     ]
    },
    {
     "name": "stderr",
     "output_type": "stream",
     "text": [
      "Processing volumes for subject 30016:   2%|▏         | 3/164 [00:14<13:03,  4.86s/it]"
     ]
    },
    {
     "name": "stdout",
     "output_type": "stream",
     "text": [
      "Applying mask to /home/minyoungxi/MINYOUNGXI/XFL/Data/OASIS_MNI_to_TRs/volume_3.nii.gz\n",
      "Running FLIRT on /home/minyoungxi/MINYOUNGXI/XFL/Data/OASIS_MNI_to_TRs/masked_volume_3.nii.gz\n"
     ]
    },
    {
     "name": "stderr",
     "output_type": "stream",
     "text": [
      "Processing volumes for subject 30016:   2%|▏         | 4/164 [00:19<12:52,  4.83s/it]"
     ]
    },
    {
     "name": "stdout",
     "output_type": "stream",
     "text": [
      "Applying mask to /home/minyoungxi/MINYOUNGXI/XFL/Data/OASIS_MNI_to_TRs/volume_4.nii.gz\n",
      "Running FLIRT on /home/minyoungxi/MINYOUNGXI/XFL/Data/OASIS_MNI_to_TRs/masked_volume_4.nii.gz\n"
     ]
    },
    {
     "name": "stderr",
     "output_type": "stream",
     "text": [
      "Processing volumes for subject 30016:   3%|▎         | 5/164 [00:24<12:45,  4.82s/it]"
     ]
    },
    {
     "name": "stdout",
     "output_type": "stream",
     "text": [
      "Applying mask to /home/minyoungxi/MINYOUNGXI/XFL/Data/OASIS_MNI_to_TRs/volume_5.nii.gz\n",
      "Running FLIRT on /home/minyoungxi/MINYOUNGXI/XFL/Data/OASIS_MNI_to_TRs/masked_volume_5.nii.gz\n"
     ]
    },
    {
     "name": "stderr",
     "output_type": "stream",
     "text": [
      "Processing volumes for subject 30016:   4%|▎         | 6/164 [00:28<12:42,  4.83s/it]"
     ]
    },
    {
     "name": "stdout",
     "output_type": "stream",
     "text": [
      "Applying mask to /home/minyoungxi/MINYOUNGXI/XFL/Data/OASIS_MNI_to_TRs/volume_6.nii.gz\n",
      "Running FLIRT on /home/minyoungxi/MINYOUNGXI/XFL/Data/OASIS_MNI_to_TRs/masked_volume_6.nii.gz\n"
     ]
    },
    {
     "name": "stderr",
     "output_type": "stream",
     "text": [
      "Processing volumes for subject 30016:   4%|▍         | 7/164 [00:33<12:40,  4.84s/it]"
     ]
    },
    {
     "name": "stdout",
     "output_type": "stream",
     "text": [
      "Applying mask to /home/minyoungxi/MINYOUNGXI/XFL/Data/OASIS_MNI_to_TRs/volume_7.nii.gz\n",
      "Running FLIRT on /home/minyoungxi/MINYOUNGXI/XFL/Data/OASIS_MNI_to_TRs/masked_volume_7.nii.gz\n"
     ]
    },
    {
     "name": "stderr",
     "output_type": "stream",
     "text": [
      "Processing volumes for subject 30016:   5%|▍         | 8/164 [00:38<12:34,  4.84s/it]"
     ]
    },
    {
     "name": "stdout",
     "output_type": "stream",
     "text": [
      "Applying mask to /home/minyoungxi/MINYOUNGXI/XFL/Data/OASIS_MNI_to_TRs/volume_8.nii.gz\n",
      "Running FLIRT on /home/minyoungxi/MINYOUNGXI/XFL/Data/OASIS_MNI_to_TRs/masked_volume_8.nii.gz\n"
     ]
    },
    {
     "name": "stderr",
     "output_type": "stream",
     "text": [
      "Processing volumes for subject 30016:   5%|▌         | 9/164 [00:43<12:30,  4.84s/it]"
     ]
    },
    {
     "name": "stdout",
     "output_type": "stream",
     "text": [
      "Applying mask to /home/minyoungxi/MINYOUNGXI/XFL/Data/OASIS_MNI_to_TRs/volume_9.nii.gz\n",
      "Running FLIRT on /home/minyoungxi/MINYOUNGXI/XFL/Data/OASIS_MNI_to_TRs/masked_volume_9.nii.gz\n"
     ]
    },
    {
     "name": "stderr",
     "output_type": "stream",
     "text": [
      "Processing volumes for subject 30016:   6%|▌         | 10/164 [00:48<12:25,  4.84s/it]"
     ]
    },
    {
     "name": "stdout",
     "output_type": "stream",
     "text": [
      "Applying mask to /home/minyoungxi/MINYOUNGXI/XFL/Data/OASIS_MNI_to_TRs/volume_10.nii.gz\n",
      "Running FLIRT on /home/minyoungxi/MINYOUNGXI/XFL/Data/OASIS_MNI_to_TRs/masked_volume_10.nii.gz\n"
     ]
    },
    {
     "name": "stderr",
     "output_type": "stream",
     "text": [
      "Processing volumes for subject 30016:   7%|▋         | 11/164 [00:53<12:22,  4.85s/it]"
     ]
    },
    {
     "name": "stdout",
     "output_type": "stream",
     "text": [
      "Applying mask to /home/minyoungxi/MINYOUNGXI/XFL/Data/OASIS_MNI_to_TRs/volume_11.nii.gz\n",
      "Running FLIRT on /home/minyoungxi/MINYOUNGXI/XFL/Data/OASIS_MNI_to_TRs/masked_volume_11.nii.gz\n"
     ]
    },
    {
     "name": "stderr",
     "output_type": "stream",
     "text": [
      "Processing volumes for subject 30016:   7%|▋         | 12/164 [00:58<12:18,  4.86s/it]"
     ]
    },
    {
     "name": "stdout",
     "output_type": "stream",
     "text": [
      "Applying mask to /home/minyoungxi/MINYOUNGXI/XFL/Data/OASIS_MNI_to_TRs/volume_12.nii.gz\n",
      "Running FLIRT on /home/minyoungxi/MINYOUNGXI/XFL/Data/OASIS_MNI_to_TRs/masked_volume_12.nii.gz\n"
     ]
    },
    {
     "name": "stderr",
     "output_type": "stream",
     "text": [
      "Processing volumes for subject 30016:   8%|▊         | 13/164 [01:02<12:12,  4.85s/it]"
     ]
    },
    {
     "name": "stdout",
     "output_type": "stream",
     "text": [
      "Applying mask to /home/minyoungxi/MINYOUNGXI/XFL/Data/OASIS_MNI_to_TRs/volume_13.nii.gz\n",
      "Running FLIRT on /home/minyoungxi/MINYOUNGXI/XFL/Data/OASIS_MNI_to_TRs/masked_volume_13.nii.gz\n"
     ]
    },
    {
     "name": "stderr",
     "output_type": "stream",
     "text": [
      "Processing volumes for subject 30016:   9%|▊         | 14/164 [01:07<12:08,  4.86s/it]"
     ]
    },
    {
     "name": "stdout",
     "output_type": "stream",
     "text": [
      "Applying mask to /home/minyoungxi/MINYOUNGXI/XFL/Data/OASIS_MNI_to_TRs/volume_14.nii.gz\n",
      "Running FLIRT on /home/minyoungxi/MINYOUNGXI/XFL/Data/OASIS_MNI_to_TRs/masked_volume_14.nii.gz\n"
     ]
    },
    {
     "name": "stderr",
     "output_type": "stream",
     "text": [
      "Processing volumes for subject 30016:   9%|▉         | 15/164 [01:12<12:01,  4.84s/it]"
     ]
    },
    {
     "name": "stdout",
     "output_type": "stream",
     "text": [
      "Applying mask to /home/minyoungxi/MINYOUNGXI/XFL/Data/OASIS_MNI_to_TRs/volume_15.nii.gz\n",
      "Running FLIRT on /home/minyoungxi/MINYOUNGXI/XFL/Data/OASIS_MNI_to_TRs/masked_volume_15.nii.gz\n"
     ]
    },
    {
     "name": "stderr",
     "output_type": "stream",
     "text": [
      "Processing volumes for subject 30016:  10%|▉         | 16/164 [01:17<11:59,  4.86s/it]"
     ]
    },
    {
     "name": "stdout",
     "output_type": "stream",
     "text": [
      "Applying mask to /home/minyoungxi/MINYOUNGXI/XFL/Data/OASIS_MNI_to_TRs/volume_16.nii.gz\n",
      "Running FLIRT on /home/minyoungxi/MINYOUNGXI/XFL/Data/OASIS_MNI_to_TRs/masked_volume_16.nii.gz\n"
     ]
    },
    {
     "name": "stderr",
     "output_type": "stream",
     "text": [
      "Processing volumes for subject 30016:  10%|█         | 17/164 [01:22<11:51,  4.84s/it]"
     ]
    },
    {
     "name": "stdout",
     "output_type": "stream",
     "text": [
      "Applying mask to /home/minyoungxi/MINYOUNGXI/XFL/Data/OASIS_MNI_to_TRs/volume_17.nii.gz\n",
      "Running FLIRT on /home/minyoungxi/MINYOUNGXI/XFL/Data/OASIS_MNI_to_TRs/masked_volume_17.nii.gz\n"
     ]
    },
    {
     "name": "stderr",
     "output_type": "stream",
     "text": [
      "Processing volumes for subject 30016:  11%|█         | 18/164 [01:27<11:48,  4.85s/it]"
     ]
    },
    {
     "name": "stdout",
     "output_type": "stream",
     "text": [
      "Applying mask to /home/minyoungxi/MINYOUNGXI/XFL/Data/OASIS_MNI_to_TRs/volume_18.nii.gz\n",
      "Running FLIRT on /home/minyoungxi/MINYOUNGXI/XFL/Data/OASIS_MNI_to_TRs/masked_volume_18.nii.gz\n"
     ]
    },
    {
     "name": "stderr",
     "output_type": "stream",
     "text": [
      "Processing volumes for subject 30016:  12%|█▏        | 19/164 [01:32<11:42,  4.84s/it]"
     ]
    },
    {
     "name": "stdout",
     "output_type": "stream",
     "text": [
      "Applying mask to /home/minyoungxi/MINYOUNGXI/XFL/Data/OASIS_MNI_to_TRs/volume_19.nii.gz\n",
      "Running FLIRT on /home/minyoungxi/MINYOUNGXI/XFL/Data/OASIS_MNI_to_TRs/masked_volume_19.nii.gz\n"
     ]
    },
    {
     "name": "stderr",
     "output_type": "stream",
     "text": [
      "Processing volumes for subject 30016:  12%|█▏        | 20/164 [01:36<11:39,  4.86s/it]"
     ]
    },
    {
     "name": "stdout",
     "output_type": "stream",
     "text": [
      "Applying mask to /home/minyoungxi/MINYOUNGXI/XFL/Data/OASIS_MNI_to_TRs/volume_20.nii.gz\n",
      "Running FLIRT on /home/minyoungxi/MINYOUNGXI/XFL/Data/OASIS_MNI_to_TRs/masked_volume_20.nii.gz\n"
     ]
    },
    {
     "name": "stderr",
     "output_type": "stream",
     "text": [
      "Processing volumes for subject 30016:  13%|█▎        | 21/164 [01:42<11:43,  4.92s/it]"
     ]
    },
    {
     "name": "stdout",
     "output_type": "stream",
     "text": [
      "Applying mask to /home/minyoungxi/MINYOUNGXI/XFL/Data/OASIS_MNI_to_TRs/volume_21.nii.gz\n",
      "Running FLIRT on /home/minyoungxi/MINYOUNGXI/XFL/Data/OASIS_MNI_to_TRs/masked_volume_21.nii.gz\n"
     ]
    },
    {
     "name": "stderr",
     "output_type": "stream",
     "text": [
      "Processing volumes for subject 30016:  13%|█▎        | 22/164 [01:46<11:37,  4.91s/it]"
     ]
    },
    {
     "name": "stdout",
     "output_type": "stream",
     "text": [
      "Applying mask to /home/minyoungxi/MINYOUNGXI/XFL/Data/OASIS_MNI_to_TRs/volume_22.nii.gz\n",
      "Running FLIRT on /home/minyoungxi/MINYOUNGXI/XFL/Data/OASIS_MNI_to_TRs/masked_volume_22.nii.gz\n"
     ]
    },
    {
     "name": "stderr",
     "output_type": "stream",
     "text": [
      "Processing volumes for subject 30016:  14%|█▍        | 23/164 [01:51<11:31,  4.90s/it]"
     ]
    },
    {
     "name": "stdout",
     "output_type": "stream",
     "text": [
      "Applying mask to /home/minyoungxi/MINYOUNGXI/XFL/Data/OASIS_MNI_to_TRs/volume_23.nii.gz\n",
      "Running FLIRT on /home/minyoungxi/MINYOUNGXI/XFL/Data/OASIS_MNI_to_TRs/masked_volume_23.nii.gz\n"
     ]
    },
    {
     "name": "stderr",
     "output_type": "stream",
     "text": [
      "Processing volumes for subject 30016:  15%|█▍        | 24/164 [01:56<11:24,  4.89s/it]"
     ]
    },
    {
     "name": "stdout",
     "output_type": "stream",
     "text": [
      "Applying mask to /home/minyoungxi/MINYOUNGXI/XFL/Data/OASIS_MNI_to_TRs/volume_24.nii.gz\n",
      "Running FLIRT on /home/minyoungxi/MINYOUNGXI/XFL/Data/OASIS_MNI_to_TRs/masked_volume_24.nii.gz\n"
     ]
    },
    {
     "name": "stderr",
     "output_type": "stream",
     "text": [
      "Processing volumes for subject 30016:  15%|█▌        | 25/164 [02:01<11:20,  4.90s/it]"
     ]
    },
    {
     "name": "stdout",
     "output_type": "stream",
     "text": [
      "Applying mask to /home/minyoungxi/MINYOUNGXI/XFL/Data/OASIS_MNI_to_TRs/volume_25.nii.gz\n",
      "Running FLIRT on /home/minyoungxi/MINYOUNGXI/XFL/Data/OASIS_MNI_to_TRs/masked_volume_25.nii.gz\n"
     ]
    },
    {
     "name": "stderr",
     "output_type": "stream",
     "text": [
      "Processing volumes for subject 30016:  16%|█▌        | 26/164 [02:06<11:14,  4.89s/it]"
     ]
    },
    {
     "name": "stdout",
     "output_type": "stream",
     "text": [
      "Applying mask to /home/minyoungxi/MINYOUNGXI/XFL/Data/OASIS_MNI_to_TRs/volume_26.nii.gz\n",
      "Running FLIRT on /home/minyoungxi/MINYOUNGXI/XFL/Data/OASIS_MNI_to_TRs/masked_volume_26.nii.gz\n"
     ]
    },
    {
     "name": "stderr",
     "output_type": "stream",
     "text": [
      "Processing volumes for subject 30016:  16%|█▋        | 27/164 [02:11<11:05,  4.86s/it]"
     ]
    },
    {
     "name": "stdout",
     "output_type": "stream",
     "text": [
      "Applying mask to /home/minyoungxi/MINYOUNGXI/XFL/Data/OASIS_MNI_to_TRs/volume_27.nii.gz\n",
      "Running FLIRT on /home/minyoungxi/MINYOUNGXI/XFL/Data/OASIS_MNI_to_TRs/masked_volume_27.nii.gz\n"
     ]
    },
    {
     "name": "stderr",
     "output_type": "stream",
     "text": [
      "Processing volumes for subject 30016:  17%|█▋        | 28/164 [02:16<10:59,  4.85s/it]"
     ]
    },
    {
     "name": "stdout",
     "output_type": "stream",
     "text": [
      "Applying mask to /home/minyoungxi/MINYOUNGXI/XFL/Data/OASIS_MNI_to_TRs/volume_28.nii.gz\n",
      "Running FLIRT on /home/minyoungxi/MINYOUNGXI/XFL/Data/OASIS_MNI_to_TRs/masked_volume_28.nii.gz\n"
     ]
    },
    {
     "name": "stderr",
     "output_type": "stream",
     "text": [
      "Processing volumes for subject 30016:  18%|█▊        | 29/164 [02:20<10:53,  4.84s/it]"
     ]
    },
    {
     "name": "stdout",
     "output_type": "stream",
     "text": [
      "Applying mask to /home/minyoungxi/MINYOUNGXI/XFL/Data/OASIS_MNI_to_TRs/volume_29.nii.gz\n",
      "Running FLIRT on /home/minyoungxi/MINYOUNGXI/XFL/Data/OASIS_MNI_to_TRs/masked_volume_29.nii.gz\n"
     ]
    },
    {
     "name": "stderr",
     "output_type": "stream",
     "text": [
      "Processing volumes for subject 30016:  18%|█▊        | 30/164 [02:25<10:48,  4.84s/it]"
     ]
    },
    {
     "name": "stdout",
     "output_type": "stream",
     "text": [
      "Applying mask to /home/minyoungxi/MINYOUNGXI/XFL/Data/OASIS_MNI_to_TRs/volume_30.nii.gz\n",
      "Running FLIRT on /home/minyoungxi/MINYOUNGXI/XFL/Data/OASIS_MNI_to_TRs/masked_volume_30.nii.gz\n"
     ]
    },
    {
     "name": "stderr",
     "output_type": "stream",
     "text": [
      "Processing volumes for subject 30016:  19%|█▉        | 31/164 [02:30<10:42,  4.83s/it]"
     ]
    },
    {
     "name": "stdout",
     "output_type": "stream",
     "text": [
      "Applying mask to /home/minyoungxi/MINYOUNGXI/XFL/Data/OASIS_MNI_to_TRs/volume_31.nii.gz\n",
      "Running FLIRT on /home/minyoungxi/MINYOUNGXI/XFL/Data/OASIS_MNI_to_TRs/masked_volume_31.nii.gz\n"
     ]
    },
    {
     "name": "stderr",
     "output_type": "stream",
     "text": [
      "Processing volumes for subject 30016:  20%|█▉        | 32/164 [02:35<10:37,  4.83s/it]"
     ]
    },
    {
     "name": "stdout",
     "output_type": "stream",
     "text": [
      "Applying mask to /home/minyoungxi/MINYOUNGXI/XFL/Data/OASIS_MNI_to_TRs/volume_32.nii.gz\n",
      "Running FLIRT on /home/minyoungxi/MINYOUNGXI/XFL/Data/OASIS_MNI_to_TRs/masked_volume_32.nii.gz\n"
     ]
    },
    {
     "name": "stderr",
     "output_type": "stream",
     "text": [
      "Processing volumes for subject 30016:  20%|██        | 33/164 [02:40<10:29,  4.81s/it]"
     ]
    },
    {
     "name": "stdout",
     "output_type": "stream",
     "text": [
      "Applying mask to /home/minyoungxi/MINYOUNGXI/XFL/Data/OASIS_MNI_to_TRs/volume_33.nii.gz\n",
      "Running FLIRT on /home/minyoungxi/MINYOUNGXI/XFL/Data/OASIS_MNI_to_TRs/masked_volume_33.nii.gz\n"
     ]
    },
    {
     "name": "stderr",
     "output_type": "stream",
     "text": [
      "Processing volumes for subject 30016:  21%|██        | 34/164 [02:44<10:24,  4.81s/it]"
     ]
    },
    {
     "name": "stdout",
     "output_type": "stream",
     "text": [
      "Applying mask to /home/minyoungxi/MINYOUNGXI/XFL/Data/OASIS_MNI_to_TRs/volume_34.nii.gz\n",
      "Running FLIRT on /home/minyoungxi/MINYOUNGXI/XFL/Data/OASIS_MNI_to_TRs/masked_volume_34.nii.gz\n"
     ]
    },
    {
     "name": "stderr",
     "output_type": "stream",
     "text": [
      "Processing volumes for subject 30016:  21%|██▏       | 35/164 [02:49<10:20,  4.81s/it]"
     ]
    },
    {
     "name": "stdout",
     "output_type": "stream",
     "text": [
      "Applying mask to /home/minyoungxi/MINYOUNGXI/XFL/Data/OASIS_MNI_to_TRs/volume_35.nii.gz\n",
      "Running FLIRT on /home/minyoungxi/MINYOUNGXI/XFL/Data/OASIS_MNI_to_TRs/masked_volume_35.nii.gz\n"
     ]
    },
    {
     "name": "stderr",
     "output_type": "stream",
     "text": [
      "Processing volumes for subject 30016:  22%|██▏       | 36/164 [02:54<10:17,  4.82s/it]"
     ]
    },
    {
     "name": "stdout",
     "output_type": "stream",
     "text": [
      "Applying mask to /home/minyoungxi/MINYOUNGXI/XFL/Data/OASIS_MNI_to_TRs/volume_36.nii.gz\n",
      "Running FLIRT on /home/minyoungxi/MINYOUNGXI/XFL/Data/OASIS_MNI_to_TRs/masked_volume_36.nii.gz\n"
     ]
    },
    {
     "name": "stderr",
     "output_type": "stream",
     "text": [
      "Processing volumes for subject 30016:  23%|██▎       | 37/164 [02:59<10:12,  4.82s/it]"
     ]
    },
    {
     "name": "stdout",
     "output_type": "stream",
     "text": [
      "Applying mask to /home/minyoungxi/MINYOUNGXI/XFL/Data/OASIS_MNI_to_TRs/volume_37.nii.gz\n",
      "Running FLIRT on /home/minyoungxi/MINYOUNGXI/XFL/Data/OASIS_MNI_to_TRs/masked_volume_37.nii.gz\n"
     ]
    },
    {
     "name": "stderr",
     "output_type": "stream",
     "text": [
      "Processing volumes for subject 30016:  23%|██▎       | 38/164 [03:04<10:06,  4.81s/it]"
     ]
    },
    {
     "name": "stdout",
     "output_type": "stream",
     "text": [
      "Applying mask to /home/minyoungxi/MINYOUNGXI/XFL/Data/OASIS_MNI_to_TRs/volume_38.nii.gz\n",
      "Running FLIRT on /home/minyoungxi/MINYOUNGXI/XFL/Data/OASIS_MNI_to_TRs/masked_volume_38.nii.gz\n"
     ]
    },
    {
     "name": "stderr",
     "output_type": "stream",
     "text": [
      "Processing volumes for subject 30016:  24%|██▍       | 39/164 [03:09<10:02,  4.82s/it]"
     ]
    },
    {
     "name": "stdout",
     "output_type": "stream",
     "text": [
      "Applying mask to /home/minyoungxi/MINYOUNGXI/XFL/Data/OASIS_MNI_to_TRs/volume_39.nii.gz\n",
      "Running FLIRT on /home/minyoungxi/MINYOUNGXI/XFL/Data/OASIS_MNI_to_TRs/masked_volume_39.nii.gz\n"
     ]
    },
    {
     "name": "stderr",
     "output_type": "stream",
     "text": [
      "Processing volumes for subject 30016:  24%|██▍       | 40/164 [03:13<09:57,  4.82s/it]"
     ]
    },
    {
     "name": "stdout",
     "output_type": "stream",
     "text": [
      "Applying mask to /home/minyoungxi/MINYOUNGXI/XFL/Data/OASIS_MNI_to_TRs/volume_40.nii.gz\n",
      "Running FLIRT on /home/minyoungxi/MINYOUNGXI/XFL/Data/OASIS_MNI_to_TRs/masked_volume_40.nii.gz\n"
     ]
    },
    {
     "name": "stderr",
     "output_type": "stream",
     "text": [
      "Processing volumes for subject 30016:  25%|██▌       | 41/164 [03:18<09:55,  4.84s/it]"
     ]
    },
    {
     "name": "stdout",
     "output_type": "stream",
     "text": [
      "Applying mask to /home/minyoungxi/MINYOUNGXI/XFL/Data/OASIS_MNI_to_TRs/volume_41.nii.gz\n",
      "Running FLIRT on /home/minyoungxi/MINYOUNGXI/XFL/Data/OASIS_MNI_to_TRs/masked_volume_41.nii.gz\n"
     ]
    },
    {
     "name": "stderr",
     "output_type": "stream",
     "text": [
      "Processing volumes for subject 30016:  26%|██▌       | 42/164 [03:23<09:48,  4.82s/it]"
     ]
    },
    {
     "name": "stdout",
     "output_type": "stream",
     "text": [
      "Applying mask to /home/minyoungxi/MINYOUNGXI/XFL/Data/OASIS_MNI_to_TRs/volume_42.nii.gz\n",
      "Running FLIRT on /home/minyoungxi/MINYOUNGXI/XFL/Data/OASIS_MNI_to_TRs/masked_volume_42.nii.gz\n"
     ]
    },
    {
     "name": "stderr",
     "output_type": "stream",
     "text": [
      "Processing volumes for subject 30016:  26%|██▌       | 43/164 [03:28<09:46,  4.85s/it]"
     ]
    },
    {
     "name": "stdout",
     "output_type": "stream",
     "text": [
      "Applying mask to /home/minyoungxi/MINYOUNGXI/XFL/Data/OASIS_MNI_to_TRs/volume_43.nii.gz\n",
      "Running FLIRT on /home/minyoungxi/MINYOUNGXI/XFL/Data/OASIS_MNI_to_TRs/masked_volume_43.nii.gz\n"
     ]
    },
    {
     "name": "stderr",
     "output_type": "stream",
     "text": [
      "Processing volumes for subject 30016:  27%|██▋       | 44/164 [03:33<09:41,  4.85s/it]"
     ]
    },
    {
     "name": "stdout",
     "output_type": "stream",
     "text": [
      "Applying mask to /home/minyoungxi/MINYOUNGXI/XFL/Data/OASIS_MNI_to_TRs/volume_44.nii.gz\n",
      "Running FLIRT on /home/minyoungxi/MINYOUNGXI/XFL/Data/OASIS_MNI_to_TRs/masked_volume_44.nii.gz\n"
     ]
    },
    {
     "name": "stderr",
     "output_type": "stream",
     "text": [
      "Processing volumes for subject 30016:  27%|██▋       | 45/164 [03:38<09:36,  4.84s/it]"
     ]
    },
    {
     "name": "stdout",
     "output_type": "stream",
     "text": [
      "Applying mask to /home/minyoungxi/MINYOUNGXI/XFL/Data/OASIS_MNI_to_TRs/volume_45.nii.gz\n",
      "Running FLIRT on /home/minyoungxi/MINYOUNGXI/XFL/Data/OASIS_MNI_to_TRs/masked_volume_45.nii.gz\n"
     ]
    },
    {
     "name": "stderr",
     "output_type": "stream",
     "text": [
      "Processing volumes for subject 30016:  28%|██▊       | 46/164 [03:42<09:30,  4.83s/it]"
     ]
    },
    {
     "name": "stdout",
     "output_type": "stream",
     "text": [
      "Applying mask to /home/minyoungxi/MINYOUNGXI/XFL/Data/OASIS_MNI_to_TRs/volume_46.nii.gz\n",
      "Running FLIRT on /home/minyoungxi/MINYOUNGXI/XFL/Data/OASIS_MNI_to_TRs/masked_volume_46.nii.gz\n"
     ]
    },
    {
     "name": "stderr",
     "output_type": "stream",
     "text": [
      "Processing volumes for subject 30016:  29%|██▊       | 47/164 [03:47<09:25,  4.83s/it]"
     ]
    },
    {
     "name": "stdout",
     "output_type": "stream",
     "text": [
      "Applying mask to /home/minyoungxi/MINYOUNGXI/XFL/Data/OASIS_MNI_to_TRs/volume_47.nii.gz\n",
      "Running FLIRT on /home/minyoungxi/MINYOUNGXI/XFL/Data/OASIS_MNI_to_TRs/masked_volume_47.nii.gz\n"
     ]
    },
    {
     "name": "stderr",
     "output_type": "stream",
     "text": [
      "Processing volumes for subject 30016:  29%|██▉       | 48/164 [03:52<09:21,  4.84s/it]"
     ]
    },
    {
     "name": "stdout",
     "output_type": "stream",
     "text": [
      "Applying mask to /home/minyoungxi/MINYOUNGXI/XFL/Data/OASIS_MNI_to_TRs/volume_48.nii.gz\n",
      "Running FLIRT on /home/minyoungxi/MINYOUNGXI/XFL/Data/OASIS_MNI_to_TRs/masked_volume_48.nii.gz\n"
     ]
    },
    {
     "name": "stderr",
     "output_type": "stream",
     "text": [
      "Processing volumes for subject 30016:  30%|██▉       | 49/164 [03:57<09:15,  4.83s/it]"
     ]
    },
    {
     "name": "stdout",
     "output_type": "stream",
     "text": [
      "Applying mask to /home/minyoungxi/MINYOUNGXI/XFL/Data/OASIS_MNI_to_TRs/volume_49.nii.gz\n",
      "Running FLIRT on /home/minyoungxi/MINYOUNGXI/XFL/Data/OASIS_MNI_to_TRs/masked_volume_49.nii.gz\n"
     ]
    },
    {
     "name": "stderr",
     "output_type": "stream",
     "text": [
      "Processing volumes for subject 30016:  30%|███       | 50/164 [04:02<09:09,  4.82s/it]"
     ]
    },
    {
     "name": "stdout",
     "output_type": "stream",
     "text": [
      "Applying mask to /home/minyoungxi/MINYOUNGXI/XFL/Data/OASIS_MNI_to_TRs/volume_50.nii.gz\n",
      "Running FLIRT on /home/minyoungxi/MINYOUNGXI/XFL/Data/OASIS_MNI_to_TRs/masked_volume_50.nii.gz\n"
     ]
    },
    {
     "name": "stderr",
     "output_type": "stream",
     "text": [
      "Processing volumes for subject 30016:  31%|███       | 51/164 [04:06<09:03,  4.81s/it]"
     ]
    },
    {
     "name": "stdout",
     "output_type": "stream",
     "text": [
      "Applying mask to /home/minyoungxi/MINYOUNGXI/XFL/Data/OASIS_MNI_to_TRs/volume_51.nii.gz\n",
      "Running FLIRT on /home/minyoungxi/MINYOUNGXI/XFL/Data/OASIS_MNI_to_TRs/masked_volume_51.nii.gz\n"
     ]
    },
    {
     "name": "stderr",
     "output_type": "stream",
     "text": [
      "Processing volumes for subject 30016:  32%|███▏      | 52/164 [04:11<08:59,  4.82s/it]"
     ]
    },
    {
     "name": "stdout",
     "output_type": "stream",
     "text": [
      "Applying mask to /home/minyoungxi/MINYOUNGXI/XFL/Data/OASIS_MNI_to_TRs/volume_52.nii.gz\n",
      "Running FLIRT on /home/minyoungxi/MINYOUNGXI/XFL/Data/OASIS_MNI_to_TRs/masked_volume_52.nii.gz\n"
     ]
    },
    {
     "name": "stderr",
     "output_type": "stream",
     "text": [
      "Processing volumes for subject 30016:  32%|███▏      | 53/164 [04:16<08:55,  4.82s/it]"
     ]
    },
    {
     "name": "stdout",
     "output_type": "stream",
     "text": [
      "Applying mask to /home/minyoungxi/MINYOUNGXI/XFL/Data/OASIS_MNI_to_TRs/volume_53.nii.gz\n",
      "Running FLIRT on /home/minyoungxi/MINYOUNGXI/XFL/Data/OASIS_MNI_to_TRs/masked_volume_53.nii.gz\n"
     ]
    },
    {
     "name": "stderr",
     "output_type": "stream",
     "text": [
      "Processing volumes for subject 30016:  33%|███▎      | 54/164 [04:21<08:50,  4.83s/it]"
     ]
    },
    {
     "name": "stdout",
     "output_type": "stream",
     "text": [
      "Applying mask to /home/minyoungxi/MINYOUNGXI/XFL/Data/OASIS_MNI_to_TRs/volume_54.nii.gz\n",
      "Running FLIRT on /home/minyoungxi/MINYOUNGXI/XFL/Data/OASIS_MNI_to_TRs/masked_volume_54.nii.gz\n"
     ]
    },
    {
     "name": "stderr",
     "output_type": "stream",
     "text": [
      "Processing volumes for subject 30016:  34%|███▎      | 55/164 [04:26<08:47,  4.84s/it]"
     ]
    },
    {
     "name": "stdout",
     "output_type": "stream",
     "text": [
      "Applying mask to /home/minyoungxi/MINYOUNGXI/XFL/Data/OASIS_MNI_to_TRs/volume_55.nii.gz\n",
      "Running FLIRT on /home/minyoungxi/MINYOUNGXI/XFL/Data/OASIS_MNI_to_TRs/masked_volume_55.nii.gz\n"
     ]
    },
    {
     "name": "stderr",
     "output_type": "stream",
     "text": [
      "Processing volumes for subject 30016:  34%|███▍      | 56/164 [04:31<08:43,  4.84s/it]"
     ]
    },
    {
     "name": "stdout",
     "output_type": "stream",
     "text": [
      "Applying mask to /home/minyoungxi/MINYOUNGXI/XFL/Data/OASIS_MNI_to_TRs/volume_56.nii.gz\n",
      "Running FLIRT on /home/minyoungxi/MINYOUNGXI/XFL/Data/OASIS_MNI_to_TRs/masked_volume_56.nii.gz\n"
     ]
    },
    {
     "name": "stderr",
     "output_type": "stream",
     "text": [
      "Processing volumes for subject 30016:  35%|███▍      | 57/164 [04:36<08:38,  4.85s/it]"
     ]
    },
    {
     "name": "stdout",
     "output_type": "stream",
     "text": [
      "Applying mask to /home/minyoungxi/MINYOUNGXI/XFL/Data/OASIS_MNI_to_TRs/volume_57.nii.gz\n",
      "Running FLIRT on /home/minyoungxi/MINYOUNGXI/XFL/Data/OASIS_MNI_to_TRs/masked_volume_57.nii.gz\n"
     ]
    },
    {
     "name": "stderr",
     "output_type": "stream",
     "text": [
      "Processing volumes for subject 30016:  35%|███▌      | 58/164 [04:40<08:33,  4.85s/it]"
     ]
    },
    {
     "name": "stdout",
     "output_type": "stream",
     "text": [
      "Applying mask to /home/minyoungxi/MINYOUNGXI/XFL/Data/OASIS_MNI_to_TRs/volume_58.nii.gz\n",
      "Running FLIRT on /home/minyoungxi/MINYOUNGXI/XFL/Data/OASIS_MNI_to_TRs/masked_volume_58.nii.gz\n"
     ]
    },
    {
     "name": "stderr",
     "output_type": "stream",
     "text": [
      "Processing volumes for subject 30016:  36%|███▌      | 59/164 [04:45<08:29,  4.85s/it]"
     ]
    },
    {
     "name": "stdout",
     "output_type": "stream",
     "text": [
      "Applying mask to /home/minyoungxi/MINYOUNGXI/XFL/Data/OASIS_MNI_to_TRs/volume_59.nii.gz\n",
      "Running FLIRT on /home/minyoungxi/MINYOUNGXI/XFL/Data/OASIS_MNI_to_TRs/masked_volume_59.nii.gz\n"
     ]
    },
    {
     "name": "stderr",
     "output_type": "stream",
     "text": [
      "Processing volumes for subject 30016:  37%|███▋      | 60/164 [04:50<08:27,  4.88s/it]"
     ]
    },
    {
     "name": "stdout",
     "output_type": "stream",
     "text": [
      "Applying mask to /home/minyoungxi/MINYOUNGXI/XFL/Data/OASIS_MNI_to_TRs/volume_60.nii.gz\n",
      "Running FLIRT on /home/minyoungxi/MINYOUNGXI/XFL/Data/OASIS_MNI_to_TRs/masked_volume_60.nii.gz\n"
     ]
    },
    {
     "name": "stderr",
     "output_type": "stream",
     "text": [
      "Processing volumes for subject 30016:  37%|███▋      | 61/164 [04:55<08:20,  4.86s/it]"
     ]
    },
    {
     "name": "stdout",
     "output_type": "stream",
     "text": [
      "Applying mask to /home/minyoungxi/MINYOUNGXI/XFL/Data/OASIS_MNI_to_TRs/volume_61.nii.gz\n",
      "Running FLIRT on /home/minyoungxi/MINYOUNGXI/XFL/Data/OASIS_MNI_to_TRs/masked_volume_61.nii.gz\n"
     ]
    },
    {
     "name": "stderr",
     "output_type": "stream",
     "text": [
      "Processing volumes for subject 30016:  38%|███▊      | 62/164 [05:00<08:14,  4.84s/it]"
     ]
    },
    {
     "name": "stdout",
     "output_type": "stream",
     "text": [
      "Applying mask to /home/minyoungxi/MINYOUNGXI/XFL/Data/OASIS_MNI_to_TRs/volume_62.nii.gz\n",
      "Running FLIRT on /home/minyoungxi/MINYOUNGXI/XFL/Data/OASIS_MNI_to_TRs/masked_volume_62.nii.gz\n"
     ]
    },
    {
     "name": "stderr",
     "output_type": "stream",
     "text": [
      "Processing volumes for subject 30016:  38%|███▊      | 63/164 [05:05<08:09,  4.84s/it]"
     ]
    },
    {
     "name": "stdout",
     "output_type": "stream",
     "text": [
      "Applying mask to /home/minyoungxi/MINYOUNGXI/XFL/Data/OASIS_MNI_to_TRs/volume_63.nii.gz\n",
      "Running FLIRT on /home/minyoungxi/MINYOUNGXI/XFL/Data/OASIS_MNI_to_TRs/masked_volume_63.nii.gz\n"
     ]
    },
    {
     "name": "stderr",
     "output_type": "stream",
     "text": [
      "Processing volumes for subject 30016:  39%|███▉      | 64/164 [05:09<08:03,  4.84s/it]"
     ]
    },
    {
     "name": "stdout",
     "output_type": "stream",
     "text": [
      "Applying mask to /home/minyoungxi/MINYOUNGXI/XFL/Data/OASIS_MNI_to_TRs/volume_64.nii.gz\n",
      "Running FLIRT on /home/minyoungxi/MINYOUNGXI/XFL/Data/OASIS_MNI_to_TRs/masked_volume_64.nii.gz\n"
     ]
    },
    {
     "name": "stderr",
     "output_type": "stream",
     "text": [
      "Processing volumes for subject 30016:  40%|███▉      | 65/164 [05:14<07:58,  4.83s/it]"
     ]
    },
    {
     "name": "stdout",
     "output_type": "stream",
     "text": [
      "Applying mask to /home/minyoungxi/MINYOUNGXI/XFL/Data/OASIS_MNI_to_TRs/volume_65.nii.gz\n",
      "Running FLIRT on /home/minyoungxi/MINYOUNGXI/XFL/Data/OASIS_MNI_to_TRs/masked_volume_65.nii.gz\n"
     ]
    },
    {
     "name": "stderr",
     "output_type": "stream",
     "text": [
      "Processing volumes for subject 30016:  40%|████      | 66/164 [05:19<07:53,  4.83s/it]"
     ]
    },
    {
     "name": "stdout",
     "output_type": "stream",
     "text": [
      "Applying mask to /home/minyoungxi/MINYOUNGXI/XFL/Data/OASIS_MNI_to_TRs/volume_66.nii.gz\n",
      "Running FLIRT on /home/minyoungxi/MINYOUNGXI/XFL/Data/OASIS_MNI_to_TRs/masked_volume_66.nii.gz\n"
     ]
    },
    {
     "name": "stderr",
     "output_type": "stream",
     "text": [
      "Processing volumes for subject 30016:  41%|████      | 67/164 [05:24<07:47,  4.82s/it]"
     ]
    },
    {
     "name": "stdout",
     "output_type": "stream",
     "text": [
      "Applying mask to /home/minyoungxi/MINYOUNGXI/XFL/Data/OASIS_MNI_to_TRs/volume_67.nii.gz\n",
      "Running FLIRT on /home/minyoungxi/MINYOUNGXI/XFL/Data/OASIS_MNI_to_TRs/masked_volume_67.nii.gz\n"
     ]
    },
    {
     "name": "stderr",
     "output_type": "stream",
     "text": [
      "Processing volumes for subject 30016:  41%|████▏     | 68/164 [05:29<07:43,  4.83s/it]"
     ]
    },
    {
     "name": "stdout",
     "output_type": "stream",
     "text": [
      "Applying mask to /home/minyoungxi/MINYOUNGXI/XFL/Data/OASIS_MNI_to_TRs/volume_68.nii.gz\n",
      "Running FLIRT on /home/minyoungxi/MINYOUNGXI/XFL/Data/OASIS_MNI_to_TRs/masked_volume_68.nii.gz\n"
     ]
    },
    {
     "name": "stderr",
     "output_type": "stream",
     "text": [
      "Processing volumes for subject 30016:  42%|████▏     | 69/164 [05:34<07:39,  4.84s/it]"
     ]
    },
    {
     "name": "stdout",
     "output_type": "stream",
     "text": [
      "Applying mask to /home/minyoungxi/MINYOUNGXI/XFL/Data/OASIS_MNI_to_TRs/volume_69.nii.gz\n",
      "Running FLIRT on /home/minyoungxi/MINYOUNGXI/XFL/Data/OASIS_MNI_to_TRs/masked_volume_69.nii.gz\n"
     ]
    },
    {
     "name": "stderr",
     "output_type": "stream",
     "text": [
      "Processing volumes for subject 30016:  43%|████▎     | 70/164 [05:39<07:36,  4.85s/it]"
     ]
    },
    {
     "name": "stdout",
     "output_type": "stream",
     "text": [
      "Applying mask to /home/minyoungxi/MINYOUNGXI/XFL/Data/OASIS_MNI_to_TRs/volume_70.nii.gz\n",
      "Running FLIRT on /home/minyoungxi/MINYOUNGXI/XFL/Data/OASIS_MNI_to_TRs/masked_volume_70.nii.gz\n"
     ]
    },
    {
     "name": "stderr",
     "output_type": "stream",
     "text": [
      "Processing volumes for subject 30016:  43%|████▎     | 71/164 [05:43<07:28,  4.83s/it]"
     ]
    },
    {
     "name": "stdout",
     "output_type": "stream",
     "text": [
      "Applying mask to /home/minyoungxi/MINYOUNGXI/XFL/Data/OASIS_MNI_to_TRs/volume_71.nii.gz\n",
      "Running FLIRT on /home/minyoungxi/MINYOUNGXI/XFL/Data/OASIS_MNI_to_TRs/masked_volume_71.nii.gz\n"
     ]
    },
    {
     "name": "stderr",
     "output_type": "stream",
     "text": [
      "Processing volumes for subject 30016:  44%|████▍     | 72/164 [05:48<07:25,  4.84s/it]"
     ]
    },
    {
     "name": "stdout",
     "output_type": "stream",
     "text": [
      "Applying mask to /home/minyoungxi/MINYOUNGXI/XFL/Data/OASIS_MNI_to_TRs/volume_72.nii.gz\n",
      "Running FLIRT on /home/minyoungxi/MINYOUNGXI/XFL/Data/OASIS_MNI_to_TRs/masked_volume_72.nii.gz\n"
     ]
    },
    {
     "name": "stderr",
     "output_type": "stream",
     "text": [
      "Processing volumes for subject 30016:  45%|████▍     | 73/164 [05:53<07:20,  4.84s/it]"
     ]
    },
    {
     "name": "stdout",
     "output_type": "stream",
     "text": [
      "Applying mask to /home/minyoungxi/MINYOUNGXI/XFL/Data/OASIS_MNI_to_TRs/volume_73.nii.gz\n",
      "Running FLIRT on /home/minyoungxi/MINYOUNGXI/XFL/Data/OASIS_MNI_to_TRs/masked_volume_73.nii.gz\n"
     ]
    },
    {
     "name": "stderr",
     "output_type": "stream",
     "text": [
      "Processing volumes for subject 30016:  45%|████▌     | 74/164 [05:58<07:14,  4.83s/it]"
     ]
    },
    {
     "name": "stdout",
     "output_type": "stream",
     "text": [
      "Applying mask to /home/minyoungxi/MINYOUNGXI/XFL/Data/OASIS_MNI_to_TRs/volume_74.nii.gz\n",
      "Running FLIRT on /home/minyoungxi/MINYOUNGXI/XFL/Data/OASIS_MNI_to_TRs/masked_volume_74.nii.gz\n"
     ]
    },
    {
     "name": "stderr",
     "output_type": "stream",
     "text": [
      "Processing volumes for subject 30016:  46%|████▌     | 75/164 [06:03<07:07,  4.81s/it]"
     ]
    },
    {
     "name": "stdout",
     "output_type": "stream",
     "text": [
      "Applying mask to /home/minyoungxi/MINYOUNGXI/XFL/Data/OASIS_MNI_to_TRs/volume_75.nii.gz\n",
      "Running FLIRT on /home/minyoungxi/MINYOUNGXI/XFL/Data/OASIS_MNI_to_TRs/masked_volume_75.nii.gz\n"
     ]
    },
    {
     "name": "stderr",
     "output_type": "stream",
     "text": [
      "Processing volumes for subject 30016:  46%|████▋     | 76/164 [06:07<07:03,  4.81s/it]"
     ]
    },
    {
     "name": "stdout",
     "output_type": "stream",
     "text": [
      "Applying mask to /home/minyoungxi/MINYOUNGXI/XFL/Data/OASIS_MNI_to_TRs/volume_76.nii.gz\n",
      "Running FLIRT on /home/minyoungxi/MINYOUNGXI/XFL/Data/OASIS_MNI_to_TRs/masked_volume_76.nii.gz\n"
     ]
    },
    {
     "name": "stderr",
     "output_type": "stream",
     "text": [
      "Processing volumes for subject 30016:  47%|████▋     | 77/164 [06:12<06:59,  4.82s/it]"
     ]
    },
    {
     "name": "stdout",
     "output_type": "stream",
     "text": [
      "Applying mask to /home/minyoungxi/MINYOUNGXI/XFL/Data/OASIS_MNI_to_TRs/volume_77.nii.gz\n",
      "Running FLIRT on /home/minyoungxi/MINYOUNGXI/XFL/Data/OASIS_MNI_to_TRs/masked_volume_77.nii.gz\n"
     ]
    },
    {
     "name": "stderr",
     "output_type": "stream",
     "text": [
      "Processing volumes for subject 30016:  48%|████▊     | 78/164 [06:17<06:56,  4.85s/it]"
     ]
    },
    {
     "name": "stdout",
     "output_type": "stream",
     "text": [
      "Applying mask to /home/minyoungxi/MINYOUNGXI/XFL/Data/OASIS_MNI_to_TRs/volume_78.nii.gz\n",
      "Running FLIRT on /home/minyoungxi/MINYOUNGXI/XFL/Data/OASIS_MNI_to_TRs/masked_volume_78.nii.gz\n"
     ]
    },
    {
     "name": "stderr",
     "output_type": "stream",
     "text": [
      "Processing volumes for subject 30016:  48%|████▊     | 79/164 [06:22<06:51,  4.84s/it]"
     ]
    },
    {
     "name": "stdout",
     "output_type": "stream",
     "text": [
      "Applying mask to /home/minyoungxi/MINYOUNGXI/XFL/Data/OASIS_MNI_to_TRs/volume_79.nii.gz\n",
      "Running FLIRT on /home/minyoungxi/MINYOUNGXI/XFL/Data/OASIS_MNI_to_TRs/masked_volume_79.nii.gz\n"
     ]
    },
    {
     "name": "stderr",
     "output_type": "stream",
     "text": [
      "Processing volumes for subject 30016:  49%|████▉     | 80/164 [06:27<06:47,  4.85s/it]"
     ]
    },
    {
     "name": "stdout",
     "output_type": "stream",
     "text": [
      "Applying mask to /home/minyoungxi/MINYOUNGXI/XFL/Data/OASIS_MNI_to_TRs/volume_80.nii.gz\n",
      "Running FLIRT on /home/minyoungxi/MINYOUNGXI/XFL/Data/OASIS_MNI_to_TRs/masked_volume_80.nii.gz\n"
     ]
    },
    {
     "name": "stderr",
     "output_type": "stream",
     "text": [
      "Processing volumes for subject 30016:  49%|████▉     | 81/164 [06:32<06:41,  4.83s/it]"
     ]
    },
    {
     "name": "stdout",
     "output_type": "stream",
     "text": [
      "Applying mask to /home/minyoungxi/MINYOUNGXI/XFL/Data/OASIS_MNI_to_TRs/volume_81.nii.gz\n",
      "Running FLIRT on /home/minyoungxi/MINYOUNGXI/XFL/Data/OASIS_MNI_to_TRs/masked_volume_81.nii.gz\n"
     ]
    },
    {
     "name": "stderr",
     "output_type": "stream",
     "text": [
      "Processing volumes for subject 30016:  50%|█████     | 82/164 [06:36<06:36,  4.84s/it]"
     ]
    },
    {
     "name": "stdout",
     "output_type": "stream",
     "text": [
      "Applying mask to /home/minyoungxi/MINYOUNGXI/XFL/Data/OASIS_MNI_to_TRs/volume_82.nii.gz\n",
      "Running FLIRT on /home/minyoungxi/MINYOUNGXI/XFL/Data/OASIS_MNI_to_TRs/masked_volume_82.nii.gz\n"
     ]
    },
    {
     "name": "stderr",
     "output_type": "stream",
     "text": [
      "Processing volumes for subject 30016:  51%|█████     | 83/164 [06:41<06:29,  4.81s/it]"
     ]
    },
    {
     "name": "stdout",
     "output_type": "stream",
     "text": [
      "Applying mask to /home/minyoungxi/MINYOUNGXI/XFL/Data/OASIS_MNI_to_TRs/volume_83.nii.gz\n",
      "Running FLIRT on /home/minyoungxi/MINYOUNGXI/XFL/Data/OASIS_MNI_to_TRs/masked_volume_83.nii.gz\n"
     ]
    },
    {
     "name": "stderr",
     "output_type": "stream",
     "text": [
      "Processing volumes for subject 30016:  51%|█████     | 84/164 [06:46<06:25,  4.82s/it]"
     ]
    },
    {
     "name": "stdout",
     "output_type": "stream",
     "text": [
      "Applying mask to /home/minyoungxi/MINYOUNGXI/XFL/Data/OASIS_MNI_to_TRs/volume_84.nii.gz\n",
      "Running FLIRT on /home/minyoungxi/MINYOUNGXI/XFL/Data/OASIS_MNI_to_TRs/masked_volume_84.nii.gz\n"
     ]
    },
    {
     "name": "stderr",
     "output_type": "stream",
     "text": [
      "Processing volumes for subject 30016:  52%|█████▏    | 85/164 [06:51<06:21,  4.83s/it]"
     ]
    },
    {
     "name": "stdout",
     "output_type": "stream",
     "text": [
      "Applying mask to /home/minyoungxi/MINYOUNGXI/XFL/Data/OASIS_MNI_to_TRs/volume_85.nii.gz\n",
      "Running FLIRT on /home/minyoungxi/MINYOUNGXI/XFL/Data/OASIS_MNI_to_TRs/masked_volume_85.nii.gz\n"
     ]
    },
    {
     "name": "stderr",
     "output_type": "stream",
     "text": [
      "Processing volumes for subject 30016:  52%|█████▏    | 86/164 [06:56<06:15,  4.81s/it]"
     ]
    },
    {
     "name": "stdout",
     "output_type": "stream",
     "text": [
      "Applying mask to /home/minyoungxi/MINYOUNGXI/XFL/Data/OASIS_MNI_to_TRs/volume_86.nii.gz\n",
      "Running FLIRT on /home/minyoungxi/MINYOUNGXI/XFL/Data/OASIS_MNI_to_TRs/masked_volume_86.nii.gz\n"
     ]
    },
    {
     "name": "stderr",
     "output_type": "stream",
     "text": [
      "Processing volumes for subject 30016:  53%|█████▎    | 87/164 [07:01<06:12,  4.84s/it]"
     ]
    },
    {
     "name": "stdout",
     "output_type": "stream",
     "text": [
      "Applying mask to /home/minyoungxi/MINYOUNGXI/XFL/Data/OASIS_MNI_to_TRs/volume_87.nii.gz\n",
      "Running FLIRT on /home/minyoungxi/MINYOUNGXI/XFL/Data/OASIS_MNI_to_TRs/masked_volume_87.nii.gz\n"
     ]
    },
    {
     "name": "stderr",
     "output_type": "stream",
     "text": [
      "Processing volumes for subject 30016:  54%|█████▎    | 88/164 [07:05<06:07,  4.84s/it]"
     ]
    },
    {
     "name": "stdout",
     "output_type": "stream",
     "text": [
      "Applying mask to /home/minyoungxi/MINYOUNGXI/XFL/Data/OASIS_MNI_to_TRs/volume_88.nii.gz\n",
      "Running FLIRT on /home/minyoungxi/MINYOUNGXI/XFL/Data/OASIS_MNI_to_TRs/masked_volume_88.nii.gz\n"
     ]
    },
    {
     "name": "stderr",
     "output_type": "stream",
     "text": [
      "Processing volumes for subject 30016:  54%|█████▍    | 89/164 [07:10<06:03,  4.85s/it]"
     ]
    },
    {
     "name": "stdout",
     "output_type": "stream",
     "text": [
      "Applying mask to /home/minyoungxi/MINYOUNGXI/XFL/Data/OASIS_MNI_to_TRs/volume_89.nii.gz\n",
      "Running FLIRT on /home/minyoungxi/MINYOUNGXI/XFL/Data/OASIS_MNI_to_TRs/masked_volume_89.nii.gz\n"
     ]
    },
    {
     "name": "stderr",
     "output_type": "stream",
     "text": [
      "Processing volumes for subject 30016:  55%|█████▍    | 90/164 [07:15<05:58,  4.84s/it]"
     ]
    },
    {
     "name": "stdout",
     "output_type": "stream",
     "text": [
      "Applying mask to /home/minyoungxi/MINYOUNGXI/XFL/Data/OASIS_MNI_to_TRs/volume_90.nii.gz\n",
      "Running FLIRT on /home/minyoungxi/MINYOUNGXI/XFL/Data/OASIS_MNI_to_TRs/masked_volume_90.nii.gz\n"
     ]
    },
    {
     "name": "stderr",
     "output_type": "stream",
     "text": [
      "Processing volumes for subject 30016:  55%|█████▌    | 91/164 [07:20<05:54,  4.86s/it]"
     ]
    },
    {
     "name": "stdout",
     "output_type": "stream",
     "text": [
      "Applying mask to /home/minyoungxi/MINYOUNGXI/XFL/Data/OASIS_MNI_to_TRs/volume_91.nii.gz\n",
      "Running FLIRT on /home/minyoungxi/MINYOUNGXI/XFL/Data/OASIS_MNI_to_TRs/masked_volume_91.nii.gz\n"
     ]
    },
    {
     "name": "stderr",
     "output_type": "stream",
     "text": [
      "Processing volumes for subject 30016:  56%|█████▌    | 92/164 [07:25<05:48,  4.83s/it]"
     ]
    },
    {
     "name": "stdout",
     "output_type": "stream",
     "text": [
      "Applying mask to /home/minyoungxi/MINYOUNGXI/XFL/Data/OASIS_MNI_to_TRs/volume_92.nii.gz\n",
      "Running FLIRT on /home/minyoungxi/MINYOUNGXI/XFL/Data/OASIS_MNI_to_TRs/masked_volume_92.nii.gz\n"
     ]
    },
    {
     "name": "stderr",
     "output_type": "stream",
     "text": [
      "Processing volumes for subject 30016:  57%|█████▋    | 93/164 [07:30<05:43,  4.83s/it]"
     ]
    },
    {
     "name": "stdout",
     "output_type": "stream",
     "text": [
      "Applying mask to /home/minyoungxi/MINYOUNGXI/XFL/Data/OASIS_MNI_to_TRs/volume_93.nii.gz\n",
      "Running FLIRT on /home/minyoungxi/MINYOUNGXI/XFL/Data/OASIS_MNI_to_TRs/masked_volume_93.nii.gz\n"
     ]
    },
    {
     "name": "stderr",
     "output_type": "stream",
     "text": [
      "Processing volumes for subject 30016:  57%|█████▋    | 94/164 [07:34<05:38,  4.84s/it]"
     ]
    },
    {
     "name": "stdout",
     "output_type": "stream",
     "text": [
      "Applying mask to /home/minyoungxi/MINYOUNGXI/XFL/Data/OASIS_MNI_to_TRs/volume_94.nii.gz\n",
      "Running FLIRT on /home/minyoungxi/MINYOUNGXI/XFL/Data/OASIS_MNI_to_TRs/masked_volume_94.nii.gz\n"
     ]
    },
    {
     "name": "stderr",
     "output_type": "stream",
     "text": [
      "Processing volumes for subject 30016:  58%|█████▊    | 95/164 [07:39<05:32,  4.82s/it]"
     ]
    },
    {
     "name": "stdout",
     "output_type": "stream",
     "text": [
      "Applying mask to /home/minyoungxi/MINYOUNGXI/XFL/Data/OASIS_MNI_to_TRs/volume_95.nii.gz\n",
      "Running FLIRT on /home/minyoungxi/MINYOUNGXI/XFL/Data/OASIS_MNI_to_TRs/masked_volume_95.nii.gz\n"
     ]
    },
    {
     "name": "stderr",
     "output_type": "stream",
     "text": [
      "Processing volumes for subject 30016:  59%|█████▊    | 96/164 [07:44<05:28,  4.83s/it]"
     ]
    },
    {
     "name": "stdout",
     "output_type": "stream",
     "text": [
      "Applying mask to /home/minyoungxi/MINYOUNGXI/XFL/Data/OASIS_MNI_to_TRs/volume_96.nii.gz\n",
      "Running FLIRT on /home/minyoungxi/MINYOUNGXI/XFL/Data/OASIS_MNI_to_TRs/masked_volume_96.nii.gz\n"
     ]
    },
    {
     "name": "stderr",
     "output_type": "stream",
     "text": [
      "Processing volumes for subject 30016:  59%|█████▉    | 97/164 [07:49<05:22,  4.82s/it]"
     ]
    },
    {
     "name": "stdout",
     "output_type": "stream",
     "text": [
      "Applying mask to /home/minyoungxi/MINYOUNGXI/XFL/Data/OASIS_MNI_to_TRs/volume_97.nii.gz\n",
      "Running FLIRT on /home/minyoungxi/MINYOUNGXI/XFL/Data/OASIS_MNI_to_TRs/masked_volume_97.nii.gz\n"
     ]
    },
    {
     "name": "stderr",
     "output_type": "stream",
     "text": [
      "Processing volumes for subject 30016:  60%|█████▉    | 98/164 [07:54<05:18,  4.82s/it]"
     ]
    },
    {
     "name": "stdout",
     "output_type": "stream",
     "text": [
      "Applying mask to /home/minyoungxi/MINYOUNGXI/XFL/Data/OASIS_MNI_to_TRs/volume_98.nii.gz\n",
      "Running FLIRT on /home/minyoungxi/MINYOUNGXI/XFL/Data/OASIS_MNI_to_TRs/masked_volume_98.nii.gz\n"
     ]
    },
    {
     "name": "stderr",
     "output_type": "stream",
     "text": [
      "Processing volumes for subject 30016:  60%|██████    | 99/164 [07:59<05:14,  4.83s/it]"
     ]
    },
    {
     "name": "stdout",
     "output_type": "stream",
     "text": [
      "Applying mask to /home/minyoungxi/MINYOUNGXI/XFL/Data/OASIS_MNI_to_TRs/volume_99.nii.gz\n",
      "Running FLIRT on /home/minyoungxi/MINYOUNGXI/XFL/Data/OASIS_MNI_to_TRs/masked_volume_99.nii.gz\n"
     ]
    },
    {
     "name": "stderr",
     "output_type": "stream",
     "text": [
      "Processing volumes for subject 30016:  61%|██████    | 100/164 [08:04<05:11,  4.87s/it]"
     ]
    },
    {
     "name": "stdout",
     "output_type": "stream",
     "text": [
      "Applying mask to /home/minyoungxi/MINYOUNGXI/XFL/Data/OASIS_MNI_to_TRs/volume_100.nii.gz\n",
      "Running FLIRT on /home/minyoungxi/MINYOUNGXI/XFL/Data/OASIS_MNI_to_TRs/masked_volume_100.nii.gz\n"
     ]
    },
    {
     "name": "stderr",
     "output_type": "stream",
     "text": [
      "Processing volumes for subject 30016:  62%|██████▏   | 101/164 [08:09<05:11,  4.95s/it]"
     ]
    },
    {
     "name": "stdout",
     "output_type": "stream",
     "text": [
      "Applying mask to /home/minyoungxi/MINYOUNGXI/XFL/Data/OASIS_MNI_to_TRs/volume_101.nii.gz\n",
      "Running FLIRT on /home/minyoungxi/MINYOUNGXI/XFL/Data/OASIS_MNI_to_TRs/masked_volume_101.nii.gz\n"
     ]
    },
    {
     "name": "stderr",
     "output_type": "stream",
     "text": [
      "Processing volumes for subject 30016:  62%|██████▏   | 102/164 [08:14<05:04,  4.91s/it]"
     ]
    },
    {
     "name": "stdout",
     "output_type": "stream",
     "text": [
      "Applying mask to /home/minyoungxi/MINYOUNGXI/XFL/Data/OASIS_MNI_to_TRs/volume_102.nii.gz\n",
      "Running FLIRT on /home/minyoungxi/MINYOUNGXI/XFL/Data/OASIS_MNI_to_TRs/masked_volume_102.nii.gz\n"
     ]
    },
    {
     "name": "stderr",
     "output_type": "stream",
     "text": [
      "Processing volumes for subject 30016:  63%|██████▎   | 103/164 [08:18<05:00,  4.93s/it]"
     ]
    },
    {
     "name": "stdout",
     "output_type": "stream",
     "text": [
      "Applying mask to /home/minyoungxi/MINYOUNGXI/XFL/Data/OASIS_MNI_to_TRs/volume_103.nii.gz\n",
      "Running FLIRT on /home/minyoungxi/MINYOUNGXI/XFL/Data/OASIS_MNI_to_TRs/masked_volume_103.nii.gz\n"
     ]
    },
    {
     "name": "stderr",
     "output_type": "stream",
     "text": [
      "Processing volumes for subject 30016:  63%|██████▎   | 104/164 [08:23<04:54,  4.91s/it]"
     ]
    },
    {
     "name": "stdout",
     "output_type": "stream",
     "text": [
      "Applying mask to /home/minyoungxi/MINYOUNGXI/XFL/Data/OASIS_MNI_to_TRs/volume_104.nii.gz\n",
      "Running FLIRT on /home/minyoungxi/MINYOUNGXI/XFL/Data/OASIS_MNI_to_TRs/masked_volume_104.nii.gz\n"
     ]
    },
    {
     "name": "stderr",
     "output_type": "stream",
     "text": [
      "Processing volumes for subject 30016:  64%|██████▍   | 105/164 [08:28<04:50,  4.92s/it]"
     ]
    },
    {
     "name": "stdout",
     "output_type": "stream",
     "text": [
      "Applying mask to /home/minyoungxi/MINYOUNGXI/XFL/Data/OASIS_MNI_to_TRs/volume_105.nii.gz\n",
      "Running FLIRT on /home/minyoungxi/MINYOUNGXI/XFL/Data/OASIS_MNI_to_TRs/masked_volume_105.nii.gz\n"
     ]
    },
    {
     "name": "stderr",
     "output_type": "stream",
     "text": [
      "Processing volumes for subject 30016:  65%|██████▍   | 106/164 [08:33<04:45,  4.92s/it]"
     ]
    },
    {
     "name": "stdout",
     "output_type": "stream",
     "text": [
      "Applying mask to /home/minyoungxi/MINYOUNGXI/XFL/Data/OASIS_MNI_to_TRs/volume_106.nii.gz\n",
      "Running FLIRT on /home/minyoungxi/MINYOUNGXI/XFL/Data/OASIS_MNI_to_TRs/masked_volume_106.nii.gz\n"
     ]
    },
    {
     "name": "stderr",
     "output_type": "stream",
     "text": [
      "Processing volumes for subject 30016:  65%|██████▌   | 107/164 [08:38<04:40,  4.92s/it]"
     ]
    },
    {
     "name": "stdout",
     "output_type": "stream",
     "text": [
      "Applying mask to /home/minyoungxi/MINYOUNGXI/XFL/Data/OASIS_MNI_to_TRs/volume_107.nii.gz\n",
      "Running FLIRT on /home/minyoungxi/MINYOUNGXI/XFL/Data/OASIS_MNI_to_TRs/masked_volume_107.nii.gz\n"
     ]
    },
    {
     "name": "stderr",
     "output_type": "stream",
     "text": [
      "Processing volumes for subject 30016:  66%|██████▌   | 108/164 [08:43<04:34,  4.90s/it]"
     ]
    },
    {
     "name": "stdout",
     "output_type": "stream",
     "text": [
      "Applying mask to /home/minyoungxi/MINYOUNGXI/XFL/Data/OASIS_MNI_to_TRs/volume_108.nii.gz\n",
      "Running FLIRT on /home/minyoungxi/MINYOUNGXI/XFL/Data/OASIS_MNI_to_TRs/masked_volume_108.nii.gz\n"
     ]
    },
    {
     "name": "stderr",
     "output_type": "stream",
     "text": [
      "Processing volumes for subject 30016:  66%|██████▋   | 109/164 [08:48<04:29,  4.89s/it]"
     ]
    },
    {
     "name": "stdout",
     "output_type": "stream",
     "text": [
      "Applying mask to /home/minyoungxi/MINYOUNGXI/XFL/Data/OASIS_MNI_to_TRs/volume_109.nii.gz\n",
      "Running FLIRT on /home/minyoungxi/MINYOUNGXI/XFL/Data/OASIS_MNI_to_TRs/masked_volume_109.nii.gz\n"
     ]
    },
    {
     "name": "stderr",
     "output_type": "stream",
     "text": [
      "Processing volumes for subject 30016:  67%|██████▋   | 110/164 [08:53<04:25,  4.92s/it]"
     ]
    },
    {
     "name": "stdout",
     "output_type": "stream",
     "text": [
      "Applying mask to /home/minyoungxi/MINYOUNGXI/XFL/Data/OASIS_MNI_to_TRs/volume_110.nii.gz\n",
      "Running FLIRT on /home/minyoungxi/MINYOUNGXI/XFL/Data/OASIS_MNI_to_TRs/masked_volume_110.nii.gz\n"
     ]
    },
    {
     "name": "stderr",
     "output_type": "stream",
     "text": [
      "Processing volumes for subject 30016:  68%|██████▊   | 111/164 [08:58<04:19,  4.90s/it]"
     ]
    },
    {
     "name": "stdout",
     "output_type": "stream",
     "text": [
      "Applying mask to /home/minyoungxi/MINYOUNGXI/XFL/Data/OASIS_MNI_to_TRs/volume_111.nii.gz\n",
      "Running FLIRT on /home/minyoungxi/MINYOUNGXI/XFL/Data/OASIS_MNI_to_TRs/masked_volume_111.nii.gz\n"
     ]
    },
    {
     "name": "stderr",
     "output_type": "stream",
     "text": [
      "Processing volumes for subject 30016:  68%|██████▊   | 112/164 [09:03<04:14,  4.90s/it]"
     ]
    },
    {
     "name": "stdout",
     "output_type": "stream",
     "text": [
      "Applying mask to /home/minyoungxi/MINYOUNGXI/XFL/Data/OASIS_MNI_to_TRs/volume_112.nii.gz\n",
      "Running FLIRT on /home/minyoungxi/MINYOUNGXI/XFL/Data/OASIS_MNI_to_TRs/masked_volume_112.nii.gz\n"
     ]
    },
    {
     "name": "stderr",
     "output_type": "stream",
     "text": [
      "Processing volumes for subject 30016:  69%|██████▉   | 113/164 [09:07<04:09,  4.89s/it]"
     ]
    },
    {
     "name": "stdout",
     "output_type": "stream",
     "text": [
      "Applying mask to /home/minyoungxi/MINYOUNGXI/XFL/Data/OASIS_MNI_to_TRs/volume_113.nii.gz\n",
      "Running FLIRT on /home/minyoungxi/MINYOUNGXI/XFL/Data/OASIS_MNI_to_TRs/masked_volume_113.nii.gz\n"
     ]
    },
    {
     "name": "stderr",
     "output_type": "stream",
     "text": [
      "Processing volumes for subject 30016:  70%|██████▉   | 114/164 [09:12<04:03,  4.88s/it]"
     ]
    },
    {
     "name": "stdout",
     "output_type": "stream",
     "text": [
      "Applying mask to /home/minyoungxi/MINYOUNGXI/XFL/Data/OASIS_MNI_to_TRs/volume_114.nii.gz\n",
      "Running FLIRT on /home/minyoungxi/MINYOUNGXI/XFL/Data/OASIS_MNI_to_TRs/masked_volume_114.nii.gz\n"
     ]
    },
    {
     "name": "stderr",
     "output_type": "stream",
     "text": [
      "Processing volumes for subject 30016:  70%|███████   | 115/164 [09:17<03:59,  4.89s/it]"
     ]
    },
    {
     "name": "stdout",
     "output_type": "stream",
     "text": [
      "Applying mask to /home/minyoungxi/MINYOUNGXI/XFL/Data/OASIS_MNI_to_TRs/volume_115.nii.gz\n",
      "Running FLIRT on /home/minyoungxi/MINYOUNGXI/XFL/Data/OASIS_MNI_to_TRs/masked_volume_115.nii.gz\n"
     ]
    },
    {
     "name": "stderr",
     "output_type": "stream",
     "text": [
      "Processing volumes for subject 30016:  71%|███████   | 116/164 [09:22<03:55,  4.91s/it]"
     ]
    },
    {
     "name": "stdout",
     "output_type": "stream",
     "text": [
      "Applying mask to /home/minyoungxi/MINYOUNGXI/XFL/Data/OASIS_MNI_to_TRs/volume_116.nii.gz\n",
      "Running FLIRT on /home/minyoungxi/MINYOUNGXI/XFL/Data/OASIS_MNI_to_TRs/masked_volume_116.nii.gz\n"
     ]
    },
    {
     "name": "stderr",
     "output_type": "stream",
     "text": [
      "Processing volumes for subject 30016:  71%|███████▏  | 117/164 [09:27<03:51,  4.93s/it]"
     ]
    },
    {
     "name": "stdout",
     "output_type": "stream",
     "text": [
      "Applying mask to /home/minyoungxi/MINYOUNGXI/XFL/Data/OASIS_MNI_to_TRs/volume_117.nii.gz\n",
      "Running FLIRT on /home/minyoungxi/MINYOUNGXI/XFL/Data/OASIS_MNI_to_TRs/masked_volume_117.nii.gz\n"
     ]
    },
    {
     "name": "stderr",
     "output_type": "stream",
     "text": [
      "Processing volumes for subject 30016:  72%|███████▏  | 118/164 [09:32<03:46,  4.93s/it]"
     ]
    },
    {
     "name": "stdout",
     "output_type": "stream",
     "text": [
      "Applying mask to /home/minyoungxi/MINYOUNGXI/XFL/Data/OASIS_MNI_to_TRs/volume_118.nii.gz\n",
      "Running FLIRT on /home/minyoungxi/MINYOUNGXI/XFL/Data/OASIS_MNI_to_TRs/masked_volume_118.nii.gz\n"
     ]
    },
    {
     "name": "stderr",
     "output_type": "stream",
     "text": [
      "Processing volumes for subject 30016:  73%|███████▎  | 119/164 [09:37<03:43,  4.97s/it]"
     ]
    },
    {
     "name": "stdout",
     "output_type": "stream",
     "text": [
      "Applying mask to /home/minyoungxi/MINYOUNGXI/XFL/Data/OASIS_MNI_to_TRs/volume_119.nii.gz\n",
      "Running FLIRT on /home/minyoungxi/MINYOUNGXI/XFL/Data/OASIS_MNI_to_TRs/masked_volume_119.nii.gz\n"
     ]
    },
    {
     "name": "stderr",
     "output_type": "stream",
     "text": [
      "Processing volumes for subject 30016:  73%|███████▎  | 120/164 [09:42<03:38,  4.96s/it]"
     ]
    },
    {
     "name": "stdout",
     "output_type": "stream",
     "text": [
      "Applying mask to /home/minyoungxi/MINYOUNGXI/XFL/Data/OASIS_MNI_to_TRs/volume_120.nii.gz\n",
      "Running FLIRT on /home/minyoungxi/MINYOUNGXI/XFL/Data/OASIS_MNI_to_TRs/masked_volume_120.nii.gz\n"
     ]
    },
    {
     "name": "stderr",
     "output_type": "stream",
     "text": [
      "Processing volumes for subject 30016:  74%|███████▍  | 121/164 [09:47<03:33,  4.96s/it]"
     ]
    },
    {
     "name": "stdout",
     "output_type": "stream",
     "text": [
      "Applying mask to /home/minyoungxi/MINYOUNGXI/XFL/Data/OASIS_MNI_to_TRs/volume_121.nii.gz\n",
      "Running FLIRT on /home/minyoungxi/MINYOUNGXI/XFL/Data/OASIS_MNI_to_TRs/masked_volume_121.nii.gz\n"
     ]
    },
    {
     "name": "stderr",
     "output_type": "stream",
     "text": [
      "Processing volumes for subject 30016:  74%|███████▍  | 122/164 [09:52<03:27,  4.95s/it]"
     ]
    },
    {
     "name": "stdout",
     "output_type": "stream",
     "text": [
      "Applying mask to /home/minyoungxi/MINYOUNGXI/XFL/Data/OASIS_MNI_to_TRs/volume_122.nii.gz\n",
      "Running FLIRT on /home/minyoungxi/MINYOUNGXI/XFL/Data/OASIS_MNI_to_TRs/masked_volume_122.nii.gz\n"
     ]
    },
    {
     "name": "stderr",
     "output_type": "stream",
     "text": [
      "Processing volumes for subject 30016:  75%|███████▌  | 123/164 [09:57<03:23,  4.97s/it]"
     ]
    },
    {
     "name": "stdout",
     "output_type": "stream",
     "text": [
      "Applying mask to /home/minyoungxi/MINYOUNGXI/XFL/Data/OASIS_MNI_to_TRs/volume_123.nii.gz\n",
      "Running FLIRT on /home/minyoungxi/MINYOUNGXI/XFL/Data/OASIS_MNI_to_TRs/masked_volume_123.nii.gz\n"
     ]
    },
    {
     "name": "stderr",
     "output_type": "stream",
     "text": [
      "Processing volumes for subject 30016:  76%|███████▌  | 124/164 [10:02<03:17,  4.93s/it]"
     ]
    },
    {
     "name": "stdout",
     "output_type": "stream",
     "text": [
      "Applying mask to /home/minyoungxi/MINYOUNGXI/XFL/Data/OASIS_MNI_to_TRs/volume_124.nii.gz\n",
      "Running FLIRT on /home/minyoungxi/MINYOUNGXI/XFL/Data/OASIS_MNI_to_TRs/masked_volume_124.nii.gz\n"
     ]
    },
    {
     "name": "stderr",
     "output_type": "stream",
     "text": [
      "Processing volumes for subject 30016:  76%|███████▌  | 125/164 [10:07<03:11,  4.90s/it]"
     ]
    },
    {
     "name": "stdout",
     "output_type": "stream",
     "text": [
      "Applying mask to /home/minyoungxi/MINYOUNGXI/XFL/Data/OASIS_MNI_to_TRs/volume_125.nii.gz\n",
      "Running FLIRT on /home/minyoungxi/MINYOUNGXI/XFL/Data/OASIS_MNI_to_TRs/masked_volume_125.nii.gz\n"
     ]
    },
    {
     "name": "stderr",
     "output_type": "stream",
     "text": [
      "Processing volumes for subject 30016:  77%|███████▋  | 126/164 [10:12<03:06,  4.90s/it]"
     ]
    },
    {
     "name": "stdout",
     "output_type": "stream",
     "text": [
      "Applying mask to /home/minyoungxi/MINYOUNGXI/XFL/Data/OASIS_MNI_to_TRs/volume_126.nii.gz\n",
      "Running FLIRT on /home/minyoungxi/MINYOUNGXI/XFL/Data/OASIS_MNI_to_TRs/masked_volume_126.nii.gz\n"
     ]
    },
    {
     "name": "stderr",
     "output_type": "stream",
     "text": [
      "Processing volumes for subject 30016:  77%|███████▋  | 127/164 [10:16<03:01,  4.90s/it]"
     ]
    },
    {
     "name": "stdout",
     "output_type": "stream",
     "text": [
      "Applying mask to /home/minyoungxi/MINYOUNGXI/XFL/Data/OASIS_MNI_to_TRs/volume_127.nii.gz\n",
      "Running FLIRT on /home/minyoungxi/MINYOUNGXI/XFL/Data/OASIS_MNI_to_TRs/masked_volume_127.nii.gz\n"
     ]
    },
    {
     "name": "stderr",
     "output_type": "stream",
     "text": [
      "Processing volumes for subject 30016:  78%|███████▊  | 128/164 [10:21<02:57,  4.92s/it]"
     ]
    },
    {
     "name": "stdout",
     "output_type": "stream",
     "text": [
      "Applying mask to /home/minyoungxi/MINYOUNGXI/XFL/Data/OASIS_MNI_to_TRs/volume_128.nii.gz\n",
      "Running FLIRT on /home/minyoungxi/MINYOUNGXI/XFL/Data/OASIS_MNI_to_TRs/masked_volume_128.nii.gz\n"
     ]
    },
    {
     "name": "stderr",
     "output_type": "stream",
     "text": [
      "Processing volumes for subject 30016:  79%|███████▊  | 129/164 [10:26<02:50,  4.88s/it]"
     ]
    },
    {
     "name": "stdout",
     "output_type": "stream",
     "text": [
      "Applying mask to /home/minyoungxi/MINYOUNGXI/XFL/Data/OASIS_MNI_to_TRs/volume_129.nii.gz\n",
      "Running FLIRT on /home/minyoungxi/MINYOUNGXI/XFL/Data/OASIS_MNI_to_TRs/masked_volume_129.nii.gz\n"
     ]
    },
    {
     "name": "stderr",
     "output_type": "stream",
     "text": [
      "Processing volumes for subject 30016:  79%|███████▉  | 130/164 [10:31<02:45,  4.85s/it]"
     ]
    },
    {
     "name": "stdout",
     "output_type": "stream",
     "text": [
      "Applying mask to /home/minyoungxi/MINYOUNGXI/XFL/Data/OASIS_MNI_to_TRs/volume_130.nii.gz\n",
      "Running FLIRT on /home/minyoungxi/MINYOUNGXI/XFL/Data/OASIS_MNI_to_TRs/masked_volume_130.nii.gz\n"
     ]
    },
    {
     "name": "stderr",
     "output_type": "stream",
     "text": [
      "Processing volumes for subject 30016:  80%|███████▉  | 131/164 [10:36<02:40,  4.86s/it]"
     ]
    },
    {
     "name": "stdout",
     "output_type": "stream",
     "text": [
      "Applying mask to /home/minyoungxi/MINYOUNGXI/XFL/Data/OASIS_MNI_to_TRs/volume_131.nii.gz\n",
      "Running FLIRT on /home/minyoungxi/MINYOUNGXI/XFL/Data/OASIS_MNI_to_TRs/masked_volume_131.nii.gz\n"
     ]
    },
    {
     "name": "stderr",
     "output_type": "stream",
     "text": [
      "Processing volumes for subject 30016:  80%|████████  | 132/164 [10:41<02:35,  4.86s/it]"
     ]
    },
    {
     "name": "stdout",
     "output_type": "stream",
     "text": [
      "Applying mask to /home/minyoungxi/MINYOUNGXI/XFL/Data/OASIS_MNI_to_TRs/volume_132.nii.gz\n",
      "Running FLIRT on /home/minyoungxi/MINYOUNGXI/XFL/Data/OASIS_MNI_to_TRs/masked_volume_132.nii.gz\n"
     ]
    },
    {
     "name": "stderr",
     "output_type": "stream",
     "text": [
      "Processing volumes for subject 30016:  81%|████████  | 133/164 [10:46<02:30,  4.85s/it]"
     ]
    },
    {
     "name": "stdout",
     "output_type": "stream",
     "text": [
      "Applying mask to /home/minyoungxi/MINYOUNGXI/XFL/Data/OASIS_MNI_to_TRs/volume_133.nii.gz\n",
      "Running FLIRT on /home/minyoungxi/MINYOUNGXI/XFL/Data/OASIS_MNI_to_TRs/masked_volume_133.nii.gz\n"
     ]
    },
    {
     "name": "stderr",
     "output_type": "stream",
     "text": [
      "Processing volumes for subject 30016:  82%|████████▏ | 134/164 [10:50<02:25,  4.85s/it]"
     ]
    },
    {
     "name": "stdout",
     "output_type": "stream",
     "text": [
      "Applying mask to /home/minyoungxi/MINYOUNGXI/XFL/Data/OASIS_MNI_to_TRs/volume_134.nii.gz\n",
      "Running FLIRT on /home/minyoungxi/MINYOUNGXI/XFL/Data/OASIS_MNI_to_TRs/masked_volume_134.nii.gz\n"
     ]
    },
    {
     "name": "stderr",
     "output_type": "stream",
     "text": [
      "Processing volumes for subject 30016:  82%|████████▏ | 135/164 [10:55<02:20,  4.85s/it]"
     ]
    },
    {
     "name": "stdout",
     "output_type": "stream",
     "text": [
      "Applying mask to /home/minyoungxi/MINYOUNGXI/XFL/Data/OASIS_MNI_to_TRs/volume_135.nii.gz\n",
      "Running FLIRT on /home/minyoungxi/MINYOUNGXI/XFL/Data/OASIS_MNI_to_TRs/masked_volume_135.nii.gz\n"
     ]
    },
    {
     "name": "stderr",
     "output_type": "stream",
     "text": [
      "Processing volumes for subject 30016:  83%|████████▎ | 136/164 [11:00<02:15,  4.83s/it]"
     ]
    },
    {
     "name": "stdout",
     "output_type": "stream",
     "text": [
      "Applying mask to /home/minyoungxi/MINYOUNGXI/XFL/Data/OASIS_MNI_to_TRs/volume_136.nii.gz\n",
      "Running FLIRT on /home/minyoungxi/MINYOUNGXI/XFL/Data/OASIS_MNI_to_TRs/masked_volume_136.nii.gz\n"
     ]
    },
    {
     "name": "stderr",
     "output_type": "stream",
     "text": [
      "Processing volumes for subject 30016:  84%|████████▎ | 137/164 [11:05<02:10,  4.82s/it]"
     ]
    },
    {
     "name": "stdout",
     "output_type": "stream",
     "text": [
      "Applying mask to /home/minyoungxi/MINYOUNGXI/XFL/Data/OASIS_MNI_to_TRs/volume_137.nii.gz\n",
      "Running FLIRT on /home/minyoungxi/MINYOUNGXI/XFL/Data/OASIS_MNI_to_TRs/masked_volume_137.nii.gz\n"
     ]
    },
    {
     "name": "stderr",
     "output_type": "stream",
     "text": [
      "Processing volumes for subject 30016:  84%|████████▍ | 138/164 [11:10<02:05,  4.81s/it]"
     ]
    },
    {
     "name": "stdout",
     "output_type": "stream",
     "text": [
      "Applying mask to /home/minyoungxi/MINYOUNGXI/XFL/Data/OASIS_MNI_to_TRs/volume_138.nii.gz\n",
      "Running FLIRT on /home/minyoungxi/MINYOUNGXI/XFL/Data/OASIS_MNI_to_TRs/masked_volume_138.nii.gz\n"
     ]
    },
    {
     "name": "stderr",
     "output_type": "stream",
     "text": [
      "Processing volumes for subject 30016:  85%|████████▍ | 139/164 [11:15<02:00,  4.83s/it]"
     ]
    },
    {
     "name": "stdout",
     "output_type": "stream",
     "text": [
      "Applying mask to /home/minyoungxi/MINYOUNGXI/XFL/Data/OASIS_MNI_to_TRs/volume_139.nii.gz\n",
      "Running FLIRT on /home/minyoungxi/MINYOUNGXI/XFL/Data/OASIS_MNI_to_TRs/masked_volume_139.nii.gz\n"
     ]
    },
    {
     "name": "stderr",
     "output_type": "stream",
     "text": [
      "Processing volumes for subject 30016:  85%|████████▌ | 140/164 [11:19<01:56,  4.84s/it]"
     ]
    },
    {
     "name": "stdout",
     "output_type": "stream",
     "text": [
      "Applying mask to /home/minyoungxi/MINYOUNGXI/XFL/Data/OASIS_MNI_to_TRs/volume_140.nii.gz\n",
      "Running FLIRT on /home/minyoungxi/MINYOUNGXI/XFL/Data/OASIS_MNI_to_TRs/masked_volume_140.nii.gz\n"
     ]
    },
    {
     "name": "stderr",
     "output_type": "stream",
     "text": [
      "Processing volumes for subject 30016:  86%|████████▌ | 141/164 [11:24<01:51,  4.83s/it]"
     ]
    },
    {
     "name": "stdout",
     "output_type": "stream",
     "text": [
      "Applying mask to /home/minyoungxi/MINYOUNGXI/XFL/Data/OASIS_MNI_to_TRs/volume_141.nii.gz\n",
      "Running FLIRT on /home/minyoungxi/MINYOUNGXI/XFL/Data/OASIS_MNI_to_TRs/masked_volume_141.nii.gz\n"
     ]
    },
    {
     "name": "stderr",
     "output_type": "stream",
     "text": [
      "Processing volumes for subject 30016:  87%|████████▋ | 142/164 [11:29<01:46,  4.85s/it]"
     ]
    },
    {
     "name": "stdout",
     "output_type": "stream",
     "text": [
      "Applying mask to /home/minyoungxi/MINYOUNGXI/XFL/Data/OASIS_MNI_to_TRs/volume_142.nii.gz\n",
      "Running FLIRT on /home/minyoungxi/MINYOUNGXI/XFL/Data/OASIS_MNI_to_TRs/masked_volume_142.nii.gz\n"
     ]
    },
    {
     "name": "stderr",
     "output_type": "stream",
     "text": [
      "Processing volumes for subject 30016:  87%|████████▋ | 143/164 [11:34<01:42,  4.86s/it]"
     ]
    },
    {
     "name": "stdout",
     "output_type": "stream",
     "text": [
      "Applying mask to /home/minyoungxi/MINYOUNGXI/XFL/Data/OASIS_MNI_to_TRs/volume_143.nii.gz\n",
      "Running FLIRT on /home/minyoungxi/MINYOUNGXI/XFL/Data/OASIS_MNI_to_TRs/masked_volume_143.nii.gz\n"
     ]
    },
    {
     "name": "stderr",
     "output_type": "stream",
     "text": [
      "Processing volumes for subject 30016:  88%|████████▊ | 144/164 [11:39<01:38,  4.90s/it]"
     ]
    },
    {
     "name": "stdout",
     "output_type": "stream",
     "text": [
      "Applying mask to /home/minyoungxi/MINYOUNGXI/XFL/Data/OASIS_MNI_to_TRs/volume_144.nii.gz\n",
      "Running FLIRT on /home/minyoungxi/MINYOUNGXI/XFL/Data/OASIS_MNI_to_TRs/masked_volume_144.nii.gz\n"
     ]
    },
    {
     "name": "stderr",
     "output_type": "stream",
     "text": [
      "Processing volumes for subject 30016:  88%|████████▊ | 145/164 [11:44<01:33,  4.93s/it]"
     ]
    },
    {
     "name": "stdout",
     "output_type": "stream",
     "text": [
      "Applying mask to /home/minyoungxi/MINYOUNGXI/XFL/Data/OASIS_MNI_to_TRs/volume_145.nii.gz\n",
      "Running FLIRT on /home/minyoungxi/MINYOUNGXI/XFL/Data/OASIS_MNI_to_TRs/masked_volume_145.nii.gz\n"
     ]
    },
    {
     "name": "stderr",
     "output_type": "stream",
     "text": [
      "Processing volumes for subject 30016:  89%|████████▉ | 146/164 [11:49<01:29,  4.96s/it]"
     ]
    },
    {
     "name": "stdout",
     "output_type": "stream",
     "text": [
      "Applying mask to /home/minyoungxi/MINYOUNGXI/XFL/Data/OASIS_MNI_to_TRs/volume_146.nii.gz\n",
      "Running FLIRT on /home/minyoungxi/MINYOUNGXI/XFL/Data/OASIS_MNI_to_TRs/masked_volume_146.nii.gz\n"
     ]
    },
    {
     "name": "stderr",
     "output_type": "stream",
     "text": [
      "Processing volumes for subject 30016:  90%|████████▉ | 147/164 [11:54<01:24,  4.96s/it]"
     ]
    },
    {
     "name": "stdout",
     "output_type": "stream",
     "text": [
      "Applying mask to /home/minyoungxi/MINYOUNGXI/XFL/Data/OASIS_MNI_to_TRs/volume_147.nii.gz\n",
      "Running FLIRT on /home/minyoungxi/MINYOUNGXI/XFL/Data/OASIS_MNI_to_TRs/masked_volume_147.nii.gz\n"
     ]
    },
    {
     "name": "stderr",
     "output_type": "stream",
     "text": [
      "Processing volumes for subject 30016:  90%|█████████ | 148/164 [11:59<01:18,  4.93s/it]"
     ]
    },
    {
     "name": "stdout",
     "output_type": "stream",
     "text": [
      "Applying mask to /home/minyoungxi/MINYOUNGXI/XFL/Data/OASIS_MNI_to_TRs/volume_148.nii.gz\n",
      "Running FLIRT on /home/minyoungxi/MINYOUNGXI/XFL/Data/OASIS_MNI_to_TRs/masked_volume_148.nii.gz\n"
     ]
    },
    {
     "name": "stderr",
     "output_type": "stream",
     "text": [
      "Processing volumes for subject 30016:  91%|█████████ | 149/164 [12:04<01:13,  4.91s/it]"
     ]
    },
    {
     "name": "stdout",
     "output_type": "stream",
     "text": [
      "Applying mask to /home/minyoungxi/MINYOUNGXI/XFL/Data/OASIS_MNI_to_TRs/volume_149.nii.gz\n",
      "Running FLIRT on /home/minyoungxi/MINYOUNGXI/XFL/Data/OASIS_MNI_to_TRs/masked_volume_149.nii.gz\n"
     ]
    },
    {
     "name": "stderr",
     "output_type": "stream",
     "text": [
      "Processing volumes for subject 30016:  91%|█████████▏| 150/164 [12:09<01:08,  4.91s/it]"
     ]
    },
    {
     "name": "stdout",
     "output_type": "stream",
     "text": [
      "Applying mask to /home/minyoungxi/MINYOUNGXI/XFL/Data/OASIS_MNI_to_TRs/volume_150.nii.gz\n",
      "Running FLIRT on /home/minyoungxi/MINYOUNGXI/XFL/Data/OASIS_MNI_to_TRs/masked_volume_150.nii.gz\n"
     ]
    },
    {
     "name": "stderr",
     "output_type": "stream",
     "text": [
      "Processing volumes for subject 30016:  92%|█████████▏| 151/164 [12:13<01:03,  4.90s/it]"
     ]
    },
    {
     "name": "stdout",
     "output_type": "stream",
     "text": [
      "Applying mask to /home/minyoungxi/MINYOUNGXI/XFL/Data/OASIS_MNI_to_TRs/volume_151.nii.gz\n",
      "Running FLIRT on /home/minyoungxi/MINYOUNGXI/XFL/Data/OASIS_MNI_to_TRs/masked_volume_151.nii.gz\n"
     ]
    },
    {
     "name": "stderr",
     "output_type": "stream",
     "text": [
      "Processing volumes for subject 30016:  93%|█████████▎| 152/164 [12:18<00:58,  4.92s/it]"
     ]
    },
    {
     "name": "stdout",
     "output_type": "stream",
     "text": [
      "Applying mask to /home/minyoungxi/MINYOUNGXI/XFL/Data/OASIS_MNI_to_TRs/volume_152.nii.gz\n",
      "Running FLIRT on /home/minyoungxi/MINYOUNGXI/XFL/Data/OASIS_MNI_to_TRs/masked_volume_152.nii.gz\n"
     ]
    },
    {
     "name": "stderr",
     "output_type": "stream",
     "text": [
      "Processing volumes for subject 30016:  93%|█████████▎| 153/164 [12:23<00:54,  4.91s/it]"
     ]
    },
    {
     "name": "stdout",
     "output_type": "stream",
     "text": [
      "Applying mask to /home/minyoungxi/MINYOUNGXI/XFL/Data/OASIS_MNI_to_TRs/volume_153.nii.gz\n",
      "Running FLIRT on /home/minyoungxi/MINYOUNGXI/XFL/Data/OASIS_MNI_to_TRs/masked_volume_153.nii.gz\n"
     ]
    },
    {
     "name": "stderr",
     "output_type": "stream",
     "text": [
      "Processing volumes for subject 30016:  94%|█████████▍| 154/164 [12:28<00:48,  4.89s/it]"
     ]
    },
    {
     "name": "stdout",
     "output_type": "stream",
     "text": [
      "Applying mask to /home/minyoungxi/MINYOUNGXI/XFL/Data/OASIS_MNI_to_TRs/volume_154.nii.gz\n",
      "Running FLIRT on /home/minyoungxi/MINYOUNGXI/XFL/Data/OASIS_MNI_to_TRs/masked_volume_154.nii.gz\n"
     ]
    },
    {
     "name": "stderr",
     "output_type": "stream",
     "text": [
      "Processing volumes for subject 30016:  95%|█████████▍| 155/164 [12:33<00:43,  4.88s/it]"
     ]
    },
    {
     "name": "stdout",
     "output_type": "stream",
     "text": [
      "Applying mask to /home/minyoungxi/MINYOUNGXI/XFL/Data/OASIS_MNI_to_TRs/volume_155.nii.gz\n",
      "Running FLIRT on /home/minyoungxi/MINYOUNGXI/XFL/Data/OASIS_MNI_to_TRs/masked_volume_155.nii.gz\n"
     ]
    },
    {
     "name": "stderr",
     "output_type": "stream",
     "text": [
      "Processing volumes for subject 30016:  95%|█████████▌| 156/164 [12:38<00:38,  4.85s/it]"
     ]
    },
    {
     "name": "stdout",
     "output_type": "stream",
     "text": [
      "Applying mask to /home/minyoungxi/MINYOUNGXI/XFL/Data/OASIS_MNI_to_TRs/volume_156.nii.gz\n",
      "Running FLIRT on /home/minyoungxi/MINYOUNGXI/XFL/Data/OASIS_MNI_to_TRs/masked_volume_156.nii.gz\n"
     ]
    },
    {
     "name": "stderr",
     "output_type": "stream",
     "text": [
      "Processing volumes for subject 30016:  96%|█████████▌| 157/164 [12:43<00:34,  4.86s/it]"
     ]
    },
    {
     "name": "stdout",
     "output_type": "stream",
     "text": [
      "Applying mask to /home/minyoungxi/MINYOUNGXI/XFL/Data/OASIS_MNI_to_TRs/volume_157.nii.gz\n",
      "Running FLIRT on /home/minyoungxi/MINYOUNGXI/XFL/Data/OASIS_MNI_to_TRs/masked_volume_157.nii.gz\n"
     ]
    },
    {
     "name": "stderr",
     "output_type": "stream",
     "text": [
      "Processing volumes for subject 30016:  96%|█████████▋| 158/164 [12:48<00:29,  4.87s/it]"
     ]
    },
    {
     "name": "stdout",
     "output_type": "stream",
     "text": [
      "Applying mask to /home/minyoungxi/MINYOUNGXI/XFL/Data/OASIS_MNI_to_TRs/volume_158.nii.gz\n",
      "Running FLIRT on /home/minyoungxi/MINYOUNGXI/XFL/Data/OASIS_MNI_to_TRs/masked_volume_158.nii.gz\n"
     ]
    },
    {
     "name": "stderr",
     "output_type": "stream",
     "text": [
      "Processing volumes for subject 30016:  97%|█████████▋| 159/164 [12:52<00:24,  4.85s/it]"
     ]
    },
    {
     "name": "stdout",
     "output_type": "stream",
     "text": [
      "Applying mask to /home/minyoungxi/MINYOUNGXI/XFL/Data/OASIS_MNI_to_TRs/volume_159.nii.gz\n",
      "Running FLIRT on /home/minyoungxi/MINYOUNGXI/XFL/Data/OASIS_MNI_to_TRs/masked_volume_159.nii.gz\n"
     ]
    },
    {
     "name": "stderr",
     "output_type": "stream",
     "text": [
      "Processing volumes for subject 30016:  98%|█████████▊| 160/164 [12:57<00:19,  4.86s/it]"
     ]
    },
    {
     "name": "stdout",
     "output_type": "stream",
     "text": [
      "Applying mask to /home/minyoungxi/MINYOUNGXI/XFL/Data/OASIS_MNI_to_TRs/volume_160.nii.gz\n",
      "Running FLIRT on /home/minyoungxi/MINYOUNGXI/XFL/Data/OASIS_MNI_to_TRs/masked_volume_160.nii.gz\n"
     ]
    },
    {
     "name": "stderr",
     "output_type": "stream",
     "text": [
      "Processing volumes for subject 30016:  98%|█████████▊| 161/164 [13:02<00:14,  4.86s/it]"
     ]
    },
    {
     "name": "stdout",
     "output_type": "stream",
     "text": [
      "Applying mask to /home/minyoungxi/MINYOUNGXI/XFL/Data/OASIS_MNI_to_TRs/volume_161.nii.gz\n",
      "Running FLIRT on /home/minyoungxi/MINYOUNGXI/XFL/Data/OASIS_MNI_to_TRs/masked_volume_161.nii.gz\n"
     ]
    },
    {
     "name": "stderr",
     "output_type": "stream",
     "text": [
      "Processing volumes for subject 30016:  99%|█████████▉| 162/164 [13:07<00:09,  4.87s/it]"
     ]
    },
    {
     "name": "stdout",
     "output_type": "stream",
     "text": [
      "Applying mask to /home/minyoungxi/MINYOUNGXI/XFL/Data/OASIS_MNI_to_TRs/volume_162.nii.gz\n",
      "Running FLIRT on /home/minyoungxi/MINYOUNGXI/XFL/Data/OASIS_MNI_to_TRs/masked_volume_162.nii.gz\n"
     ]
    },
    {
     "name": "stderr",
     "output_type": "stream",
     "text": [
      "Processing volumes for subject 30016:  99%|█████████▉| 163/164 [13:12<00:04,  4.86s/it]"
     ]
    },
    {
     "name": "stdout",
     "output_type": "stream",
     "text": [
      "Applying mask to /home/minyoungxi/MINYOUNGXI/XFL/Data/OASIS_MNI_to_TRs/volume_163.nii.gz\n",
      "Running FLIRT on /home/minyoungxi/MINYOUNGXI/XFL/Data/OASIS_MNI_to_TRs/masked_volume_163.nii.gz\n"
     ]
    },
    {
     "name": "stderr",
     "output_type": "stream",
     "text": [
      "Processing volumes for subject 30016: 100%|██████████| 164/164 [13:17<00:00,  4.86s/it]\n"
     ]
    },
    {
     "name": "stdout",
     "output_type": "stream",
     "text": [
      "Found functional file: /home/minyoungxi/MINYOUNGXI/XFL/Data/OASISSamples7.1/OAS30011_MR_d0055/func1/NIFTI/sub-OAS30011_ses-d0055_task-rest_run-01_bold.nii.gz\n",
      "Preprocessing fMRI data for subject 30011, session 0055\n",
      "Running BET on /home/minyoungxi/MINYOUNGXI/XFL/Data/OASIS_MNI_to_TRs/first_volume.nii.gz\n"
     ]
    },
    {
     "name": "stderr",
     "output_type": "stream",
     "text": [
      "Processing volumes for subject 30011:   0%|          | 0/164 [00:00<?, ?it/s]"
     ]
    },
    {
     "name": "stdout",
     "output_type": "stream",
     "text": [
      "Applying mask to /home/minyoungxi/MINYOUNGXI/XFL/Data/OASIS_MNI_to_TRs/volume_0.nii.gz\n",
      "Running FLIRT on /home/minyoungxi/MINYOUNGXI/XFL/Data/OASIS_MNI_to_TRs/masked_volume_0.nii.gz\n"
     ]
    },
    {
     "name": "stderr",
     "output_type": "stream",
     "text": [
      "Processing volumes for subject 30011:   1%|          | 1/164 [00:05<13:55,  5.12s/it]"
     ]
    },
    {
     "name": "stdout",
     "output_type": "stream",
     "text": [
      "Applying mask to /home/minyoungxi/MINYOUNGXI/XFL/Data/OASIS_MNI_to_TRs/volume_1.nii.gz\n",
      "Running FLIRT on /home/minyoungxi/MINYOUNGXI/XFL/Data/OASIS_MNI_to_TRs/masked_volume_1.nii.gz\n"
     ]
    },
    {
     "name": "stderr",
     "output_type": "stream",
     "text": [
      "Processing volumes for subject 30011:   1%|          | 2/164 [00:10<13:51,  5.13s/it]"
     ]
    },
    {
     "name": "stdout",
     "output_type": "stream",
     "text": [
      "Applying mask to /home/minyoungxi/MINYOUNGXI/XFL/Data/OASIS_MNI_to_TRs/volume_2.nii.gz\n",
      "Running FLIRT on /home/minyoungxi/MINYOUNGXI/XFL/Data/OASIS_MNI_to_TRs/masked_volume_2.nii.gz\n"
     ]
    },
    {
     "name": "stderr",
     "output_type": "stream",
     "text": [
      "Processing volumes for subject 30011:   2%|▏         | 3/164 [00:15<13:46,  5.13s/it]"
     ]
    },
    {
     "name": "stdout",
     "output_type": "stream",
     "text": [
      "Applying mask to /home/minyoungxi/MINYOUNGXI/XFL/Data/OASIS_MNI_to_TRs/volume_3.nii.gz\n",
      "Running FLIRT on /home/minyoungxi/MINYOUNGXI/XFL/Data/OASIS_MNI_to_TRs/masked_volume_3.nii.gz\n"
     ]
    },
    {
     "name": "stderr",
     "output_type": "stream",
     "text": [
      "Processing volumes for subject 30011:   2%|▏         | 4/164 [00:20<13:43,  5.15s/it]"
     ]
    },
    {
     "name": "stdout",
     "output_type": "stream",
     "text": [
      "Applying mask to /home/minyoungxi/MINYOUNGXI/XFL/Data/OASIS_MNI_to_TRs/volume_4.nii.gz\n",
      "Running FLIRT on /home/minyoungxi/MINYOUNGXI/XFL/Data/OASIS_MNI_to_TRs/masked_volume_4.nii.gz\n"
     ]
    },
    {
     "name": "stderr",
     "output_type": "stream",
     "text": [
      "Processing volumes for subject 30011:   3%|▎         | 5/164 [00:25<13:36,  5.13s/it]"
     ]
    },
    {
     "name": "stdout",
     "output_type": "stream",
     "text": [
      "Applying mask to /home/minyoungxi/MINYOUNGXI/XFL/Data/OASIS_MNI_to_TRs/volume_5.nii.gz\n",
      "Running FLIRT on /home/minyoungxi/MINYOUNGXI/XFL/Data/OASIS_MNI_to_TRs/masked_volume_5.nii.gz\n"
     ]
    },
    {
     "name": "stderr",
     "output_type": "stream",
     "text": [
      "Processing volumes for subject 30011:   4%|▎         | 6/164 [00:30<13:27,  5.11s/it]"
     ]
    },
    {
     "name": "stdout",
     "output_type": "stream",
     "text": [
      "Applying mask to /home/minyoungxi/MINYOUNGXI/XFL/Data/OASIS_MNI_to_TRs/volume_6.nii.gz\n",
      "Running FLIRT on /home/minyoungxi/MINYOUNGXI/XFL/Data/OASIS_MNI_to_TRs/masked_volume_6.nii.gz\n"
     ]
    },
    {
     "name": "stderr",
     "output_type": "stream",
     "text": [
      "Processing volumes for subject 30011:   4%|▍         | 7/164 [00:35<13:20,  5.10s/it]"
     ]
    },
    {
     "name": "stdout",
     "output_type": "stream",
     "text": [
      "Applying mask to /home/minyoungxi/MINYOUNGXI/XFL/Data/OASIS_MNI_to_TRs/volume_7.nii.gz\n",
      "Running FLIRT on /home/minyoungxi/MINYOUNGXI/XFL/Data/OASIS_MNI_to_TRs/masked_volume_7.nii.gz\n"
     ]
    },
    {
     "name": "stderr",
     "output_type": "stream",
     "text": [
      "Processing volumes for subject 30011:   5%|▍         | 8/164 [00:40<13:14,  5.09s/it]"
     ]
    },
    {
     "name": "stdout",
     "output_type": "stream",
     "text": [
      "Applying mask to /home/minyoungxi/MINYOUNGXI/XFL/Data/OASIS_MNI_to_TRs/volume_8.nii.gz\n",
      "Running FLIRT on /home/minyoungxi/MINYOUNGXI/XFL/Data/OASIS_MNI_to_TRs/masked_volume_8.nii.gz\n"
     ]
    },
    {
     "name": "stderr",
     "output_type": "stream",
     "text": [
      "Processing volumes for subject 30011:   5%|▌         | 9/164 [00:46<13:12,  5.11s/it]"
     ]
    },
    {
     "name": "stdout",
     "output_type": "stream",
     "text": [
      "Applying mask to /home/minyoungxi/MINYOUNGXI/XFL/Data/OASIS_MNI_to_TRs/volume_9.nii.gz\n",
      "Running FLIRT on /home/minyoungxi/MINYOUNGXI/XFL/Data/OASIS_MNI_to_TRs/masked_volume_9.nii.gz\n"
     ]
    },
    {
     "name": "stderr",
     "output_type": "stream",
     "text": [
      "Processing volumes for subject 30011:   6%|▌         | 10/164 [00:51<13:08,  5.12s/it]"
     ]
    },
    {
     "name": "stdout",
     "output_type": "stream",
     "text": [
      "Applying mask to /home/minyoungxi/MINYOUNGXI/XFL/Data/OASIS_MNI_to_TRs/volume_10.nii.gz\n",
      "Running FLIRT on /home/minyoungxi/MINYOUNGXI/XFL/Data/OASIS_MNI_to_TRs/masked_volume_10.nii.gz\n"
     ]
    },
    {
     "name": "stderr",
     "output_type": "stream",
     "text": [
      "Processing volumes for subject 30011:   7%|▋         | 11/164 [00:56<13:10,  5.17s/it]"
     ]
    },
    {
     "name": "stdout",
     "output_type": "stream",
     "text": [
      "Applying mask to /home/minyoungxi/MINYOUNGXI/XFL/Data/OASIS_MNI_to_TRs/volume_11.nii.gz\n",
      "Running FLIRT on /home/minyoungxi/MINYOUNGXI/XFL/Data/OASIS_MNI_to_TRs/masked_volume_11.nii.gz\n"
     ]
    },
    {
     "name": "stderr",
     "output_type": "stream",
     "text": [
      "Processing volumes for subject 30011:   7%|▋         | 12/164 [01:01<13:06,  5.17s/it]"
     ]
    },
    {
     "name": "stdout",
     "output_type": "stream",
     "text": [
      "Applying mask to /home/minyoungxi/MINYOUNGXI/XFL/Data/OASIS_MNI_to_TRs/volume_12.nii.gz\n",
      "Running FLIRT on /home/minyoungxi/MINYOUNGXI/XFL/Data/OASIS_MNI_to_TRs/masked_volume_12.nii.gz\n"
     ]
    },
    {
     "name": "stderr",
     "output_type": "stream",
     "text": [
      "Processing volumes for subject 30011:   8%|▊         | 13/164 [01:06<13:01,  5.17s/it]"
     ]
    },
    {
     "name": "stdout",
     "output_type": "stream",
     "text": [
      "Applying mask to /home/minyoungxi/MINYOUNGXI/XFL/Data/OASIS_MNI_to_TRs/volume_13.nii.gz\n",
      "Running FLIRT on /home/minyoungxi/MINYOUNGXI/XFL/Data/OASIS_MNI_to_TRs/masked_volume_13.nii.gz\n"
     ]
    },
    {
     "name": "stderr",
     "output_type": "stream",
     "text": [
      "Processing volumes for subject 30011:   9%|▊         | 14/164 [01:11<12:51,  5.14s/it]"
     ]
    },
    {
     "name": "stdout",
     "output_type": "stream",
     "text": [
      "Applying mask to /home/minyoungxi/MINYOUNGXI/XFL/Data/OASIS_MNI_to_TRs/volume_14.nii.gz\n",
      "Running FLIRT on /home/minyoungxi/MINYOUNGXI/XFL/Data/OASIS_MNI_to_TRs/masked_volume_14.nii.gz\n"
     ]
    },
    {
     "name": "stderr",
     "output_type": "stream",
     "text": [
      "Processing volumes for subject 30011:   9%|▉         | 15/164 [01:16<12:43,  5.12s/it]"
     ]
    },
    {
     "name": "stdout",
     "output_type": "stream",
     "text": [
      "Applying mask to /home/minyoungxi/MINYOUNGXI/XFL/Data/OASIS_MNI_to_TRs/volume_15.nii.gz\n",
      "Running FLIRT on /home/minyoungxi/MINYOUNGXI/XFL/Data/OASIS_MNI_to_TRs/masked_volume_15.nii.gz\n"
     ]
    },
    {
     "name": "stderr",
     "output_type": "stream",
     "text": [
      "Processing volumes for subject 30011:  10%|▉         | 16/164 [01:22<12:39,  5.13s/it]"
     ]
    },
    {
     "name": "stdout",
     "output_type": "stream",
     "text": [
      "Applying mask to /home/minyoungxi/MINYOUNGXI/XFL/Data/OASIS_MNI_to_TRs/volume_16.nii.gz\n",
      "Running FLIRT on /home/minyoungxi/MINYOUNGXI/XFL/Data/OASIS_MNI_to_TRs/masked_volume_16.nii.gz\n"
     ]
    },
    {
     "name": "stderr",
     "output_type": "stream",
     "text": [
      "Processing volumes for subject 30011:  10%|█         | 17/164 [01:27<12:37,  5.15s/it]"
     ]
    },
    {
     "name": "stdout",
     "output_type": "stream",
     "text": [
      "Applying mask to /home/minyoungxi/MINYOUNGXI/XFL/Data/OASIS_MNI_to_TRs/volume_17.nii.gz\n",
      "Running FLIRT on /home/minyoungxi/MINYOUNGXI/XFL/Data/OASIS_MNI_to_TRs/masked_volume_17.nii.gz\n"
     ]
    },
    {
     "name": "stderr",
     "output_type": "stream",
     "text": [
      "Processing volumes for subject 30011:  11%|█         | 18/164 [01:32<12:33,  5.16s/it]"
     ]
    },
    {
     "name": "stdout",
     "output_type": "stream",
     "text": [
      "Applying mask to /home/minyoungxi/MINYOUNGXI/XFL/Data/OASIS_MNI_to_TRs/volume_18.nii.gz\n",
      "Running FLIRT on /home/minyoungxi/MINYOUNGXI/XFL/Data/OASIS_MNI_to_TRs/masked_volume_18.nii.gz\n"
     ]
    },
    {
     "name": "stderr",
     "output_type": "stream",
     "text": [
      "Processing volumes for subject 30011:  12%|█▏        | 19/164 [01:37<12:26,  5.15s/it]"
     ]
    },
    {
     "name": "stdout",
     "output_type": "stream",
     "text": [
      "Applying mask to /home/minyoungxi/MINYOUNGXI/XFL/Data/OASIS_MNI_to_TRs/volume_19.nii.gz\n",
      "Running FLIRT on /home/minyoungxi/MINYOUNGXI/XFL/Data/OASIS_MNI_to_TRs/masked_volume_19.nii.gz\n"
     ]
    },
    {
     "name": "stderr",
     "output_type": "stream",
     "text": [
      "Processing volumes for subject 30011:  12%|█▏        | 20/164 [01:42<12:18,  5.13s/it]"
     ]
    },
    {
     "name": "stdout",
     "output_type": "stream",
     "text": [
      "Applying mask to /home/minyoungxi/MINYOUNGXI/XFL/Data/OASIS_MNI_to_TRs/volume_20.nii.gz\n",
      "Running FLIRT on /home/minyoungxi/MINYOUNGXI/XFL/Data/OASIS_MNI_to_TRs/masked_volume_20.nii.gz\n"
     ]
    },
    {
     "name": "stderr",
     "output_type": "stream",
     "text": [
      "Processing volumes for subject 30011:  13%|█▎        | 21/164 [01:47<12:13,  5.13s/it]"
     ]
    },
    {
     "name": "stdout",
     "output_type": "stream",
     "text": [
      "Applying mask to /home/minyoungxi/MINYOUNGXI/XFL/Data/OASIS_MNI_to_TRs/volume_21.nii.gz\n",
      "Running FLIRT on /home/minyoungxi/MINYOUNGXI/XFL/Data/OASIS_MNI_to_TRs/masked_volume_21.nii.gz\n"
     ]
    },
    {
     "name": "stderr",
     "output_type": "stream",
     "text": [
      "Processing volumes for subject 30011:  13%|█▎        | 22/164 [01:52<12:06,  5.12s/it]"
     ]
    },
    {
     "name": "stdout",
     "output_type": "stream",
     "text": [
      "Applying mask to /home/minyoungxi/MINYOUNGXI/XFL/Data/OASIS_MNI_to_TRs/volume_22.nii.gz\n",
      "Running FLIRT on /home/minyoungxi/MINYOUNGXI/XFL/Data/OASIS_MNI_to_TRs/masked_volume_22.nii.gz\n"
     ]
    },
    {
     "name": "stderr",
     "output_type": "stream",
     "text": [
      "Processing volumes for subject 30011:  14%|█▍        | 23/164 [01:58<12:00,  5.11s/it]"
     ]
    },
    {
     "name": "stdout",
     "output_type": "stream",
     "text": [
      "Applying mask to /home/minyoungxi/MINYOUNGXI/XFL/Data/OASIS_MNI_to_TRs/volume_23.nii.gz\n",
      "Running FLIRT on /home/minyoungxi/MINYOUNGXI/XFL/Data/OASIS_MNI_to_TRs/masked_volume_23.nii.gz\n"
     ]
    },
    {
     "name": "stderr",
     "output_type": "stream",
     "text": [
      "Processing volumes for subject 30011:  15%|█▍        | 24/164 [02:03<11:55,  5.11s/it]"
     ]
    },
    {
     "name": "stdout",
     "output_type": "stream",
     "text": [
      "Applying mask to /home/minyoungxi/MINYOUNGXI/XFL/Data/OASIS_MNI_to_TRs/volume_24.nii.gz\n",
      "Running FLIRT on /home/minyoungxi/MINYOUNGXI/XFL/Data/OASIS_MNI_to_TRs/masked_volume_24.nii.gz\n"
     ]
    },
    {
     "name": "stderr",
     "output_type": "stream",
     "text": [
      "Processing volumes for subject 30011:  15%|█▌        | 25/164 [02:08<11:49,  5.11s/it]"
     ]
    },
    {
     "name": "stdout",
     "output_type": "stream",
     "text": [
      "Applying mask to /home/minyoungxi/MINYOUNGXI/XFL/Data/OASIS_MNI_to_TRs/volume_25.nii.gz\n",
      "Running FLIRT on /home/minyoungxi/MINYOUNGXI/XFL/Data/OASIS_MNI_to_TRs/masked_volume_25.nii.gz\n"
     ]
    },
    {
     "name": "stderr",
     "output_type": "stream",
     "text": [
      "Processing volumes for subject 30011:  16%|█▌        | 26/164 [02:13<11:46,  5.12s/it]"
     ]
    },
    {
     "name": "stdout",
     "output_type": "stream",
     "text": [
      "Applying mask to /home/minyoungxi/MINYOUNGXI/XFL/Data/OASIS_MNI_to_TRs/volume_26.nii.gz\n",
      "Running FLIRT on /home/minyoungxi/MINYOUNGXI/XFL/Data/OASIS_MNI_to_TRs/masked_volume_26.nii.gz\n"
     ]
    },
    {
     "name": "stderr",
     "output_type": "stream",
     "text": [
      "Processing volumes for subject 30011:  16%|█▋        | 27/164 [02:18<11:40,  5.11s/it]"
     ]
    },
    {
     "name": "stdout",
     "output_type": "stream",
     "text": [
      "Applying mask to /home/minyoungxi/MINYOUNGXI/XFL/Data/OASIS_MNI_to_TRs/volume_27.nii.gz\n",
      "Running FLIRT on /home/minyoungxi/MINYOUNGXI/XFL/Data/OASIS_MNI_to_TRs/masked_volume_27.nii.gz\n"
     ]
    },
    {
     "name": "stderr",
     "output_type": "stream",
     "text": [
      "Processing volumes for subject 30011:  17%|█▋        | 28/164 [02:23<11:32,  5.09s/it]"
     ]
    },
    {
     "name": "stdout",
     "output_type": "stream",
     "text": [
      "Applying mask to /home/minyoungxi/MINYOUNGXI/XFL/Data/OASIS_MNI_to_TRs/volume_28.nii.gz\n",
      "Running FLIRT on /home/minyoungxi/MINYOUNGXI/XFL/Data/OASIS_MNI_to_TRs/masked_volume_28.nii.gz\n"
     ]
    },
    {
     "name": "stderr",
     "output_type": "stream",
     "text": [
      "Processing volumes for subject 30011:  18%|█▊        | 29/164 [02:28<11:25,  5.08s/it]"
     ]
    },
    {
     "name": "stdout",
     "output_type": "stream",
     "text": [
      "Applying mask to /home/minyoungxi/MINYOUNGXI/XFL/Data/OASIS_MNI_to_TRs/volume_29.nii.gz\n",
      "Running FLIRT on /home/minyoungxi/MINYOUNGXI/XFL/Data/OASIS_MNI_to_TRs/masked_volume_29.nii.gz\n"
     ]
    },
    {
     "name": "stderr",
     "output_type": "stream",
     "text": [
      "Processing volumes for subject 30011:  18%|█▊        | 30/164 [02:33<11:23,  5.10s/it]"
     ]
    },
    {
     "name": "stdout",
     "output_type": "stream",
     "text": [
      "Applying mask to /home/minyoungxi/MINYOUNGXI/XFL/Data/OASIS_MNI_to_TRs/volume_30.nii.gz\n",
      "Running FLIRT on /home/minyoungxi/MINYOUNGXI/XFL/Data/OASIS_MNI_to_TRs/masked_volume_30.nii.gz\n"
     ]
    },
    {
     "name": "stderr",
     "output_type": "stream",
     "text": [
      "Processing volumes for subject 30011:  19%|█▉        | 31/164 [02:38<11:17,  5.09s/it]"
     ]
    },
    {
     "name": "stdout",
     "output_type": "stream",
     "text": [
      "Applying mask to /home/minyoungxi/MINYOUNGXI/XFL/Data/OASIS_MNI_to_TRs/volume_31.nii.gz\n",
      "Running FLIRT on /home/minyoungxi/MINYOUNGXI/XFL/Data/OASIS_MNI_to_TRs/masked_volume_31.nii.gz\n"
     ]
    },
    {
     "name": "stderr",
     "output_type": "stream",
     "text": [
      "Processing volumes for subject 30011:  20%|█▉        | 32/164 [02:43<11:13,  5.11s/it]"
     ]
    },
    {
     "name": "stdout",
     "output_type": "stream",
     "text": [
      "Applying mask to /home/minyoungxi/MINYOUNGXI/XFL/Data/OASIS_MNI_to_TRs/volume_32.nii.gz\n",
      "Running FLIRT on /home/minyoungxi/MINYOUNGXI/XFL/Data/OASIS_MNI_to_TRs/masked_volume_32.nii.gz\n"
     ]
    },
    {
     "name": "stderr",
     "output_type": "stream",
     "text": [
      "Processing volumes for subject 30011:  20%|██        | 33/164 [02:49<11:08,  5.10s/it]"
     ]
    },
    {
     "name": "stdout",
     "output_type": "stream",
     "text": [
      "Applying mask to /home/minyoungxi/MINYOUNGXI/XFL/Data/OASIS_MNI_to_TRs/volume_33.nii.gz\n",
      "Running FLIRT on /home/minyoungxi/MINYOUNGXI/XFL/Data/OASIS_MNI_to_TRs/masked_volume_33.nii.gz\n"
     ]
    },
    {
     "name": "stderr",
     "output_type": "stream",
     "text": [
      "Processing volumes for subject 30011:  21%|██        | 34/164 [02:54<11:05,  5.12s/it]"
     ]
    },
    {
     "name": "stdout",
     "output_type": "stream",
     "text": [
      "Applying mask to /home/minyoungxi/MINYOUNGXI/XFL/Data/OASIS_MNI_to_TRs/volume_34.nii.gz\n",
      "Running FLIRT on /home/minyoungxi/MINYOUNGXI/XFL/Data/OASIS_MNI_to_TRs/masked_volume_34.nii.gz\n"
     ]
    },
    {
     "name": "stderr",
     "output_type": "stream",
     "text": [
      "Processing volumes for subject 30011:  21%|██▏       | 35/164 [02:59<11:03,  5.15s/it]"
     ]
    },
    {
     "name": "stdout",
     "output_type": "stream",
     "text": [
      "Applying mask to /home/minyoungxi/MINYOUNGXI/XFL/Data/OASIS_MNI_to_TRs/volume_35.nii.gz\n",
      "Running FLIRT on /home/minyoungxi/MINYOUNGXI/XFL/Data/OASIS_MNI_to_TRs/masked_volume_35.nii.gz\n"
     ]
    },
    {
     "name": "stderr",
     "output_type": "stream",
     "text": [
      "Processing volumes for subject 30011:  22%|██▏       | 36/164 [03:04<10:59,  5.15s/it]"
     ]
    },
    {
     "name": "stdout",
     "output_type": "stream",
     "text": [
      "Applying mask to /home/minyoungxi/MINYOUNGXI/XFL/Data/OASIS_MNI_to_TRs/volume_36.nii.gz\n",
      "Running FLIRT on /home/minyoungxi/MINYOUNGXI/XFL/Data/OASIS_MNI_to_TRs/masked_volume_36.nii.gz\n"
     ]
    },
    {
     "name": "stderr",
     "output_type": "stream",
     "text": [
      "Processing volumes for subject 30011:  23%|██▎       | 37/164 [03:09<10:52,  5.14s/it]"
     ]
    },
    {
     "name": "stdout",
     "output_type": "stream",
     "text": [
      "Applying mask to /home/minyoungxi/MINYOUNGXI/XFL/Data/OASIS_MNI_to_TRs/volume_37.nii.gz\n",
      "Running FLIRT on /home/minyoungxi/MINYOUNGXI/XFL/Data/OASIS_MNI_to_TRs/masked_volume_37.nii.gz\n"
     ]
    },
    {
     "name": "stderr",
     "output_type": "stream",
     "text": [
      "Processing volumes for subject 30011:  23%|██▎       | 38/164 [03:14<10:48,  5.15s/it]"
     ]
    },
    {
     "name": "stdout",
     "output_type": "stream",
     "text": [
      "Applying mask to /home/minyoungxi/MINYOUNGXI/XFL/Data/OASIS_MNI_to_TRs/volume_38.nii.gz\n",
      "Running FLIRT on /home/minyoungxi/MINYOUNGXI/XFL/Data/OASIS_MNI_to_TRs/masked_volume_38.nii.gz\n"
     ]
    },
    {
     "name": "stderr",
     "output_type": "stream",
     "text": [
      "Processing volumes for subject 30011:  24%|██▍       | 39/164 [03:20<10:49,  5.19s/it]"
     ]
    },
    {
     "name": "stdout",
     "output_type": "stream",
     "text": [
      "Applying mask to /home/minyoungxi/MINYOUNGXI/XFL/Data/OASIS_MNI_to_TRs/volume_39.nii.gz\n",
      "Running FLIRT on /home/minyoungxi/MINYOUNGXI/XFL/Data/OASIS_MNI_to_TRs/masked_volume_39.nii.gz\n"
     ]
    },
    {
     "name": "stderr",
     "output_type": "stream",
     "text": [
      "Processing volumes for subject 30011:  24%|██▍       | 40/164 [03:25<10:45,  5.20s/it]"
     ]
    },
    {
     "name": "stdout",
     "output_type": "stream",
     "text": [
      "Applying mask to /home/minyoungxi/MINYOUNGXI/XFL/Data/OASIS_MNI_to_TRs/volume_40.nii.gz\n",
      "Running FLIRT on /home/minyoungxi/MINYOUNGXI/XFL/Data/OASIS_MNI_to_TRs/masked_volume_40.nii.gz\n"
     ]
    },
    {
     "name": "stderr",
     "output_type": "stream",
     "text": [
      "Processing volumes for subject 30011:  25%|██▌       | 41/164 [03:30<10:39,  5.20s/it]"
     ]
    },
    {
     "name": "stdout",
     "output_type": "stream",
     "text": [
      "Applying mask to /home/minyoungxi/MINYOUNGXI/XFL/Data/OASIS_MNI_to_TRs/volume_41.nii.gz\n",
      "Running FLIRT on /home/minyoungxi/MINYOUNGXI/XFL/Data/OASIS_MNI_to_TRs/masked_volume_41.nii.gz\n"
     ]
    },
    {
     "name": "stderr",
     "output_type": "stream",
     "text": [
      "Processing volumes for subject 30011:  26%|██▌       | 42/164 [03:35<10:40,  5.25s/it]"
     ]
    },
    {
     "name": "stdout",
     "output_type": "stream",
     "text": [
      "Applying mask to /home/minyoungxi/MINYOUNGXI/XFL/Data/OASIS_MNI_to_TRs/volume_42.nii.gz\n",
      "Running FLIRT on /home/minyoungxi/MINYOUNGXI/XFL/Data/OASIS_MNI_to_TRs/masked_volume_42.nii.gz\n"
     ]
    },
    {
     "name": "stderr",
     "output_type": "stream",
     "text": [
      "Processing volumes for subject 30011:  26%|██▌       | 43/164 [03:41<10:33,  5.24s/it]"
     ]
    },
    {
     "name": "stdout",
     "output_type": "stream",
     "text": [
      "Applying mask to /home/minyoungxi/MINYOUNGXI/XFL/Data/OASIS_MNI_to_TRs/volume_43.nii.gz\n",
      "Running FLIRT on /home/minyoungxi/MINYOUNGXI/XFL/Data/OASIS_MNI_to_TRs/masked_volume_43.nii.gz\n"
     ]
    },
    {
     "name": "stderr",
     "output_type": "stream",
     "text": [
      "Processing volumes for subject 30011:  27%|██▋       | 44/164 [03:46<10:25,  5.22s/it]"
     ]
    },
    {
     "name": "stdout",
     "output_type": "stream",
     "text": [
      "Applying mask to /home/minyoungxi/MINYOUNGXI/XFL/Data/OASIS_MNI_to_TRs/volume_44.nii.gz\n",
      "Running FLIRT on /home/minyoungxi/MINYOUNGXI/XFL/Data/OASIS_MNI_to_TRs/masked_volume_44.nii.gz\n"
     ]
    },
    {
     "name": "stderr",
     "output_type": "stream",
     "text": [
      "Processing volumes for subject 30011:  27%|██▋       | 45/164 [03:51<10:18,  5.20s/it]"
     ]
    },
    {
     "name": "stdout",
     "output_type": "stream",
     "text": [
      "Applying mask to /home/minyoungxi/MINYOUNGXI/XFL/Data/OASIS_MNI_to_TRs/volume_45.nii.gz\n",
      "Running FLIRT on /home/minyoungxi/MINYOUNGXI/XFL/Data/OASIS_MNI_to_TRs/masked_volume_45.nii.gz\n"
     ]
    },
    {
     "name": "stderr",
     "output_type": "stream",
     "text": [
      "Processing volumes for subject 30011:  28%|██▊       | 46/164 [03:56<10:09,  5.17s/it]"
     ]
    },
    {
     "name": "stdout",
     "output_type": "stream",
     "text": [
      "Applying mask to /home/minyoungxi/MINYOUNGXI/XFL/Data/OASIS_MNI_to_TRs/volume_46.nii.gz\n",
      "Running FLIRT on /home/minyoungxi/MINYOUNGXI/XFL/Data/OASIS_MNI_to_TRs/masked_volume_46.nii.gz\n"
     ]
    },
    {
     "name": "stderr",
     "output_type": "stream",
     "text": [
      "Processing volumes for subject 30011:  29%|██▊       | 47/164 [04:01<10:04,  5.16s/it]"
     ]
    },
    {
     "name": "stdout",
     "output_type": "stream",
     "text": [
      "Applying mask to /home/minyoungxi/MINYOUNGXI/XFL/Data/OASIS_MNI_to_TRs/volume_47.nii.gz\n",
      "Running FLIRT on /home/minyoungxi/MINYOUNGXI/XFL/Data/OASIS_MNI_to_TRs/masked_volume_47.nii.gz\n"
     ]
    },
    {
     "name": "stderr",
     "output_type": "stream",
     "text": [
      "Processing volumes for subject 30011:  29%|██▉       | 48/164 [04:06<10:02,  5.19s/it]"
     ]
    },
    {
     "name": "stdout",
     "output_type": "stream",
     "text": [
      "Applying mask to /home/minyoungxi/MINYOUNGXI/XFL/Data/OASIS_MNI_to_TRs/volume_48.nii.gz\n",
      "Running FLIRT on /home/minyoungxi/MINYOUNGXI/XFL/Data/OASIS_MNI_to_TRs/masked_volume_48.nii.gz\n"
     ]
    },
    {
     "name": "stderr",
     "output_type": "stream",
     "text": [
      "Processing volumes for subject 30011:  30%|██▉       | 49/164 [04:12<10:01,  5.23s/it]"
     ]
    },
    {
     "name": "stdout",
     "output_type": "stream",
     "text": [
      "Applying mask to /home/minyoungxi/MINYOUNGXI/XFL/Data/OASIS_MNI_to_TRs/volume_49.nii.gz\n",
      "Running FLIRT on /home/minyoungxi/MINYOUNGXI/XFL/Data/OASIS_MNI_to_TRs/masked_volume_49.nii.gz\n"
     ]
    },
    {
     "name": "stderr",
     "output_type": "stream",
     "text": [
      "Processing volumes for subject 30011:  30%|███       | 50/164 [04:17<09:56,  5.23s/it]"
     ]
    },
    {
     "name": "stdout",
     "output_type": "stream",
     "text": [
      "Applying mask to /home/minyoungxi/MINYOUNGXI/XFL/Data/OASIS_MNI_to_TRs/volume_50.nii.gz\n",
      "Running FLIRT on /home/minyoungxi/MINYOUNGXI/XFL/Data/OASIS_MNI_to_TRs/masked_volume_50.nii.gz\n"
     ]
    },
    {
     "name": "stderr",
     "output_type": "stream",
     "text": [
      "Processing volumes for subject 30011:  31%|███       | 51/164 [04:22<09:54,  5.26s/it]"
     ]
    },
    {
     "name": "stdout",
     "output_type": "stream",
     "text": [
      "Applying mask to /home/minyoungxi/MINYOUNGXI/XFL/Data/OASIS_MNI_to_TRs/volume_51.nii.gz\n",
      "Running FLIRT on /home/minyoungxi/MINYOUNGXI/XFL/Data/OASIS_MNI_to_TRs/masked_volume_51.nii.gz\n"
     ]
    },
    {
     "name": "stderr",
     "output_type": "stream",
     "text": [
      "Processing volumes for subject 30011:  32%|███▏      | 52/164 [04:28<09:48,  5.26s/it]"
     ]
    },
    {
     "name": "stdout",
     "output_type": "stream",
     "text": [
      "Applying mask to /home/minyoungxi/MINYOUNGXI/XFL/Data/OASIS_MNI_to_TRs/volume_52.nii.gz\n",
      "Running FLIRT on /home/minyoungxi/MINYOUNGXI/XFL/Data/OASIS_MNI_to_TRs/masked_volume_52.nii.gz\n"
     ]
    },
    {
     "name": "stderr",
     "output_type": "stream",
     "text": [
      "Processing volumes for subject 30011:  32%|███▏      | 53/164 [04:33<09:42,  5.25s/it]"
     ]
    },
    {
     "name": "stdout",
     "output_type": "stream",
     "text": [
      "Applying mask to /home/minyoungxi/MINYOUNGXI/XFL/Data/OASIS_MNI_to_TRs/volume_53.nii.gz\n",
      "Running FLIRT on /home/minyoungxi/MINYOUNGXI/XFL/Data/OASIS_MNI_to_TRs/masked_volume_53.nii.gz\n"
     ]
    },
    {
     "name": "stderr",
     "output_type": "stream",
     "text": [
      "Processing volumes for subject 30011:  33%|███▎      | 54/164 [04:38<09:34,  5.22s/it]"
     ]
    },
    {
     "name": "stdout",
     "output_type": "stream",
     "text": [
      "Applying mask to /home/minyoungxi/MINYOUNGXI/XFL/Data/OASIS_MNI_to_TRs/volume_54.nii.gz\n",
      "Running FLIRT on /home/minyoungxi/MINYOUNGXI/XFL/Data/OASIS_MNI_to_TRs/masked_volume_54.nii.gz\n"
     ]
    },
    {
     "name": "stderr",
     "output_type": "stream",
     "text": [
      "Processing volumes for subject 30011:  34%|███▎      | 55/164 [04:43<09:27,  5.20s/it]"
     ]
    },
    {
     "name": "stdout",
     "output_type": "stream",
     "text": [
      "Applying mask to /home/minyoungxi/MINYOUNGXI/XFL/Data/OASIS_MNI_to_TRs/volume_55.nii.gz\n",
      "Running FLIRT on /home/minyoungxi/MINYOUNGXI/XFL/Data/OASIS_MNI_to_TRs/masked_volume_55.nii.gz\n"
     ]
    },
    {
     "name": "stderr",
     "output_type": "stream",
     "text": [
      "Processing volumes for subject 30011:  34%|███▍      | 56/164 [04:48<09:21,  5.20s/it]"
     ]
    },
    {
     "name": "stdout",
     "output_type": "stream",
     "text": [
      "Applying mask to /home/minyoungxi/MINYOUNGXI/XFL/Data/OASIS_MNI_to_TRs/volume_56.nii.gz\n",
      "Running FLIRT on /home/minyoungxi/MINYOUNGXI/XFL/Data/OASIS_MNI_to_TRs/masked_volume_56.nii.gz\n"
     ]
    },
    {
     "name": "stderr",
     "output_type": "stream",
     "text": [
      "Processing volumes for subject 30011:  35%|███▍      | 57/164 [04:54<09:17,  5.21s/it]"
     ]
    },
    {
     "name": "stdout",
     "output_type": "stream",
     "text": [
      "Applying mask to /home/minyoungxi/MINYOUNGXI/XFL/Data/OASIS_MNI_to_TRs/volume_57.nii.gz\n",
      "Running FLIRT on /home/minyoungxi/MINYOUNGXI/XFL/Data/OASIS_MNI_to_TRs/masked_volume_57.nii.gz\n"
     ]
    },
    {
     "name": "stderr",
     "output_type": "stream",
     "text": [
      "Processing volumes for subject 30011:  35%|███▌      | 58/164 [04:59<09:07,  5.16s/it]"
     ]
    },
    {
     "name": "stdout",
     "output_type": "stream",
     "text": [
      "Applying mask to /home/minyoungxi/MINYOUNGXI/XFL/Data/OASIS_MNI_to_TRs/volume_58.nii.gz\n",
      "Running FLIRT on /home/minyoungxi/MINYOUNGXI/XFL/Data/OASIS_MNI_to_TRs/masked_volume_58.nii.gz\n"
     ]
    },
    {
     "name": "stderr",
     "output_type": "stream",
     "text": [
      "Processing volumes for subject 30011:  36%|███▌      | 59/164 [05:04<08:55,  5.10s/it]"
     ]
    },
    {
     "name": "stdout",
     "output_type": "stream",
     "text": [
      "Applying mask to /home/minyoungxi/MINYOUNGXI/XFL/Data/OASIS_MNI_to_TRs/volume_59.nii.gz\n",
      "Running FLIRT on /home/minyoungxi/MINYOUNGXI/XFL/Data/OASIS_MNI_to_TRs/masked_volume_59.nii.gz\n"
     ]
    },
    {
     "name": "stderr",
     "output_type": "stream",
     "text": [
      "Processing volumes for subject 30011:  37%|███▋      | 60/164 [05:09<08:48,  5.08s/it]"
     ]
    },
    {
     "name": "stdout",
     "output_type": "stream",
     "text": [
      "Applying mask to /home/minyoungxi/MINYOUNGXI/XFL/Data/OASIS_MNI_to_TRs/volume_60.nii.gz\n",
      "Running FLIRT on /home/minyoungxi/MINYOUNGXI/XFL/Data/OASIS_MNI_to_TRs/masked_volume_60.nii.gz\n"
     ]
    },
    {
     "name": "stderr",
     "output_type": "stream",
     "text": [
      "Processing volumes for subject 30011:  37%|███▋      | 61/164 [05:14<08:41,  5.06s/it]"
     ]
    },
    {
     "name": "stdout",
     "output_type": "stream",
     "text": [
      "Applying mask to /home/minyoungxi/MINYOUNGXI/XFL/Data/OASIS_MNI_to_TRs/volume_61.nii.gz\n",
      "Running FLIRT on /home/minyoungxi/MINYOUNGXI/XFL/Data/OASIS_MNI_to_TRs/masked_volume_61.nii.gz\n"
     ]
    },
    {
     "name": "stderr",
     "output_type": "stream",
     "text": [
      "Processing volumes for subject 30011:  38%|███▊      | 62/164 [05:19<08:38,  5.08s/it]"
     ]
    },
    {
     "name": "stdout",
     "output_type": "stream",
     "text": [
      "Applying mask to /home/minyoungxi/MINYOUNGXI/XFL/Data/OASIS_MNI_to_TRs/volume_62.nii.gz\n",
      "Running FLIRT on /home/minyoungxi/MINYOUNGXI/XFL/Data/OASIS_MNI_to_TRs/masked_volume_62.nii.gz\n"
     ]
    },
    {
     "name": "stderr",
     "output_type": "stream",
     "text": [
      "Processing volumes for subject 30011:  38%|███▊      | 63/164 [05:24<08:33,  5.08s/it]"
     ]
    },
    {
     "name": "stdout",
     "output_type": "stream",
     "text": [
      "Applying mask to /home/minyoungxi/MINYOUNGXI/XFL/Data/OASIS_MNI_to_TRs/volume_63.nii.gz\n",
      "Running FLIRT on /home/minyoungxi/MINYOUNGXI/XFL/Data/OASIS_MNI_to_TRs/masked_volume_63.nii.gz\n"
     ]
    },
    {
     "name": "stderr",
     "output_type": "stream",
     "text": [
      "Processing volumes for subject 30011:  39%|███▉      | 64/164 [05:29<08:29,  5.10s/it]"
     ]
    },
    {
     "name": "stdout",
     "output_type": "stream",
     "text": [
      "Applying mask to /home/minyoungxi/MINYOUNGXI/XFL/Data/OASIS_MNI_to_TRs/volume_64.nii.gz\n",
      "Running FLIRT on /home/minyoungxi/MINYOUNGXI/XFL/Data/OASIS_MNI_to_TRs/masked_volume_64.nii.gz\n"
     ]
    },
    {
     "name": "stderr",
     "output_type": "stream",
     "text": [
      "Processing volumes for subject 30011:  40%|███▉      | 65/164 [05:34<08:22,  5.08s/it]"
     ]
    },
    {
     "name": "stdout",
     "output_type": "stream",
     "text": [
      "Applying mask to /home/minyoungxi/MINYOUNGXI/XFL/Data/OASIS_MNI_to_TRs/volume_65.nii.gz\n",
      "Running FLIRT on /home/minyoungxi/MINYOUNGXI/XFL/Data/OASIS_MNI_to_TRs/masked_volume_65.nii.gz\n"
     ]
    },
    {
     "name": "stderr",
     "output_type": "stream",
     "text": [
      "Processing volumes for subject 30011:  40%|████      | 66/164 [05:39<08:17,  5.07s/it]"
     ]
    },
    {
     "name": "stdout",
     "output_type": "stream",
     "text": [
      "Applying mask to /home/minyoungxi/MINYOUNGXI/XFL/Data/OASIS_MNI_to_TRs/volume_66.nii.gz\n",
      "Running FLIRT on /home/minyoungxi/MINYOUNGXI/XFL/Data/OASIS_MNI_to_TRs/masked_volume_66.nii.gz\n"
     ]
    },
    {
     "name": "stderr",
     "output_type": "stream",
     "text": [
      "Processing volumes for subject 30011:  41%|████      | 67/164 [05:44<08:13,  5.09s/it]"
     ]
    },
    {
     "name": "stdout",
     "output_type": "stream",
     "text": [
      "Applying mask to /home/minyoungxi/MINYOUNGXI/XFL/Data/OASIS_MNI_to_TRs/volume_67.nii.gz\n",
      "Running FLIRT on /home/minyoungxi/MINYOUNGXI/XFL/Data/OASIS_MNI_to_TRs/masked_volume_67.nii.gz\n"
     ]
    },
    {
     "name": "stderr",
     "output_type": "stream",
     "text": [
      "Processing volumes for subject 30011:  41%|████▏     | 68/164 [05:49<08:11,  5.12s/it]"
     ]
    },
    {
     "name": "stdout",
     "output_type": "stream",
     "text": [
      "Applying mask to /home/minyoungxi/MINYOUNGXI/XFL/Data/OASIS_MNI_to_TRs/volume_68.nii.gz\n",
      "Running FLIRT on /home/minyoungxi/MINYOUNGXI/XFL/Data/OASIS_MNI_to_TRs/masked_volume_68.nii.gz\n"
     ]
    },
    {
     "name": "stderr",
     "output_type": "stream",
     "text": [
      "Processing volumes for subject 30011:  42%|████▏     | 69/164 [05:54<08:04,  5.10s/it]"
     ]
    },
    {
     "name": "stdout",
     "output_type": "stream",
     "text": [
      "Applying mask to /home/minyoungxi/MINYOUNGXI/XFL/Data/OASIS_MNI_to_TRs/volume_69.nii.gz\n",
      "Running FLIRT on /home/minyoungxi/MINYOUNGXI/XFL/Data/OASIS_MNI_to_TRs/masked_volume_69.nii.gz\n"
     ]
    },
    {
     "name": "stderr",
     "output_type": "stream",
     "text": [
      "Processing volumes for subject 30011:  43%|████▎     | 70/164 [05:59<07:57,  5.08s/it]"
     ]
    },
    {
     "name": "stdout",
     "output_type": "stream",
     "text": [
      "Applying mask to /home/minyoungxi/MINYOUNGXI/XFL/Data/OASIS_MNI_to_TRs/volume_70.nii.gz\n",
      "Running FLIRT on /home/minyoungxi/MINYOUNGXI/XFL/Data/OASIS_MNI_to_TRs/masked_volume_70.nii.gz\n"
     ]
    },
    {
     "name": "stderr",
     "output_type": "stream",
     "text": [
      "Processing volumes for subject 30011:  43%|████▎     | 71/164 [06:05<07:51,  5.07s/it]"
     ]
    },
    {
     "name": "stdout",
     "output_type": "stream",
     "text": [
      "Applying mask to /home/minyoungxi/MINYOUNGXI/XFL/Data/OASIS_MNI_to_TRs/volume_71.nii.gz\n",
      "Running FLIRT on /home/minyoungxi/MINYOUNGXI/XFL/Data/OASIS_MNI_to_TRs/masked_volume_71.nii.gz\n"
     ]
    },
    {
     "name": "stderr",
     "output_type": "stream",
     "text": [
      "Processing volumes for subject 30011:  44%|████▍     | 72/164 [06:10<07:45,  5.06s/it]"
     ]
    },
    {
     "name": "stdout",
     "output_type": "stream",
     "text": [
      "Applying mask to /home/minyoungxi/MINYOUNGXI/XFL/Data/OASIS_MNI_to_TRs/volume_72.nii.gz\n",
      "Running FLIRT on /home/minyoungxi/MINYOUNGXI/XFL/Data/OASIS_MNI_to_TRs/masked_volume_72.nii.gz\n"
     ]
    },
    {
     "name": "stderr",
     "output_type": "stream",
     "text": [
      "Processing volumes for subject 30011:  45%|████▍     | 73/164 [06:15<07:41,  5.07s/it]"
     ]
    },
    {
     "name": "stdout",
     "output_type": "stream",
     "text": [
      "Applying mask to /home/minyoungxi/MINYOUNGXI/XFL/Data/OASIS_MNI_to_TRs/volume_73.nii.gz\n",
      "Running FLIRT on /home/minyoungxi/MINYOUNGXI/XFL/Data/OASIS_MNI_to_TRs/masked_volume_73.nii.gz\n"
     ]
    },
    {
     "name": "stderr",
     "output_type": "stream",
     "text": [
      "Processing volumes for subject 30011:  45%|████▌     | 74/164 [06:20<07:47,  5.20s/it]"
     ]
    },
    {
     "name": "stdout",
     "output_type": "stream",
     "text": [
      "Applying mask to /home/minyoungxi/MINYOUNGXI/XFL/Data/OASIS_MNI_to_TRs/volume_74.nii.gz\n",
      "Running FLIRT on /home/minyoungxi/MINYOUNGXI/XFL/Data/OASIS_MNI_to_TRs/masked_volume_74.nii.gz\n"
     ]
    },
    {
     "name": "stderr",
     "output_type": "stream",
     "text": [
      "Processing volumes for subject 30011:  46%|████▌     | 75/164 [06:25<07:41,  5.19s/it]"
     ]
    },
    {
     "name": "stdout",
     "output_type": "stream",
     "text": [
      "Applying mask to /home/minyoungxi/MINYOUNGXI/XFL/Data/OASIS_MNI_to_TRs/volume_75.nii.gz\n",
      "Running FLIRT on /home/minyoungxi/MINYOUNGXI/XFL/Data/OASIS_MNI_to_TRs/masked_volume_75.nii.gz\n"
     ]
    },
    {
     "name": "stderr",
     "output_type": "stream",
     "text": [
      "Processing volumes for subject 30011:  46%|████▋     | 76/164 [06:30<07:33,  5.15s/it]"
     ]
    },
    {
     "name": "stdout",
     "output_type": "stream",
     "text": [
      "Applying mask to /home/minyoungxi/MINYOUNGXI/XFL/Data/OASIS_MNI_to_TRs/volume_76.nii.gz\n",
      "Running FLIRT on /home/minyoungxi/MINYOUNGXI/XFL/Data/OASIS_MNI_to_TRs/masked_volume_76.nii.gz\n"
     ]
    },
    {
     "name": "stderr",
     "output_type": "stream",
     "text": [
      "Processing volumes for subject 30011:  47%|████▋     | 77/164 [06:35<07:24,  5.11s/it]"
     ]
    },
    {
     "name": "stdout",
     "output_type": "stream",
     "text": [
      "Applying mask to /home/minyoungxi/MINYOUNGXI/XFL/Data/OASIS_MNI_to_TRs/volume_77.nii.gz\n",
      "Running FLIRT on /home/minyoungxi/MINYOUNGXI/XFL/Data/OASIS_MNI_to_TRs/masked_volume_77.nii.gz\n"
     ]
    },
    {
     "name": "stderr",
     "output_type": "stream",
     "text": [
      "Processing volumes for subject 30011:  48%|████▊     | 78/164 [06:40<07:18,  5.10s/it]"
     ]
    },
    {
     "name": "stdout",
     "output_type": "stream",
     "text": [
      "Applying mask to /home/minyoungxi/MINYOUNGXI/XFL/Data/OASIS_MNI_to_TRs/volume_78.nii.gz\n",
      "Running FLIRT on /home/minyoungxi/MINYOUNGXI/XFL/Data/OASIS_MNI_to_TRs/masked_volume_78.nii.gz\n"
     ]
    },
    {
     "name": "stderr",
     "output_type": "stream",
     "text": [
      "Processing volumes for subject 30011:  48%|████▊     | 79/164 [06:46<07:12,  5.08s/it]"
     ]
    },
    {
     "name": "stdout",
     "output_type": "stream",
     "text": [
      "Applying mask to /home/minyoungxi/MINYOUNGXI/XFL/Data/OASIS_MNI_to_TRs/volume_79.nii.gz\n",
      "Running FLIRT on /home/minyoungxi/MINYOUNGXI/XFL/Data/OASIS_MNI_to_TRs/masked_volume_79.nii.gz\n"
     ]
    },
    {
     "name": "stderr",
     "output_type": "stream",
     "text": [
      "Processing volumes for subject 30011:  49%|████▉     | 80/164 [06:51<07:06,  5.07s/it]"
     ]
    },
    {
     "name": "stdout",
     "output_type": "stream",
     "text": [
      "Applying mask to /home/minyoungxi/MINYOUNGXI/XFL/Data/OASIS_MNI_to_TRs/volume_80.nii.gz\n",
      "Running FLIRT on /home/minyoungxi/MINYOUNGXI/XFL/Data/OASIS_MNI_to_TRs/masked_volume_80.nii.gz\n"
     ]
    },
    {
     "name": "stderr",
     "output_type": "stream",
     "text": [
      "Processing volumes for subject 30011:  49%|████▉     | 81/164 [06:56<07:01,  5.07s/it]"
     ]
    },
    {
     "name": "stdout",
     "output_type": "stream",
     "text": [
      "Applying mask to /home/minyoungxi/MINYOUNGXI/XFL/Data/OASIS_MNI_to_TRs/volume_81.nii.gz\n",
      "Running FLIRT on /home/minyoungxi/MINYOUNGXI/XFL/Data/OASIS_MNI_to_TRs/masked_volume_81.nii.gz\n"
     ]
    },
    {
     "name": "stderr",
     "output_type": "stream",
     "text": [
      "Processing volumes for subject 30011:  50%|█████     | 82/164 [07:01<06:57,  5.09s/it]"
     ]
    },
    {
     "name": "stdout",
     "output_type": "stream",
     "text": [
      "Applying mask to /home/minyoungxi/MINYOUNGXI/XFL/Data/OASIS_MNI_to_TRs/volume_82.nii.gz\n",
      "Running FLIRT on /home/minyoungxi/MINYOUNGXI/XFL/Data/OASIS_MNI_to_TRs/masked_volume_82.nii.gz\n"
     ]
    },
    {
     "name": "stderr",
     "output_type": "stream",
     "text": [
      "Processing volumes for subject 30011:  51%|█████     | 83/164 [07:06<06:51,  5.08s/it]"
     ]
    },
    {
     "name": "stdout",
     "output_type": "stream",
     "text": [
      "Applying mask to /home/minyoungxi/MINYOUNGXI/XFL/Data/OASIS_MNI_to_TRs/volume_83.nii.gz\n",
      "Running FLIRT on /home/minyoungxi/MINYOUNGXI/XFL/Data/OASIS_MNI_to_TRs/masked_volume_83.nii.gz\n"
     ]
    },
    {
     "name": "stderr",
     "output_type": "stream",
     "text": [
      "Processing volumes for subject 30011:  51%|█████     | 84/164 [07:11<06:46,  5.08s/it]"
     ]
    },
    {
     "name": "stdout",
     "output_type": "stream",
     "text": [
      "Applying mask to /home/minyoungxi/MINYOUNGXI/XFL/Data/OASIS_MNI_to_TRs/volume_84.nii.gz\n",
      "Running FLIRT on /home/minyoungxi/MINYOUNGXI/XFL/Data/OASIS_MNI_to_TRs/masked_volume_84.nii.gz\n"
     ]
    },
    {
     "name": "stderr",
     "output_type": "stream",
     "text": [
      "Processing volumes for subject 30011:  52%|█████▏    | 85/164 [07:16<06:44,  5.12s/it]"
     ]
    },
    {
     "name": "stdout",
     "output_type": "stream",
     "text": [
      "Applying mask to /home/minyoungxi/MINYOUNGXI/XFL/Data/OASIS_MNI_to_TRs/volume_85.nii.gz\n",
      "Running FLIRT on /home/minyoungxi/MINYOUNGXI/XFL/Data/OASIS_MNI_to_TRs/masked_volume_85.nii.gz\n"
     ]
    },
    {
     "name": "stderr",
     "output_type": "stream",
     "text": [
      "Processing volumes for subject 30011:  52%|█████▏    | 86/164 [07:21<06:37,  5.09s/it]"
     ]
    },
    {
     "name": "stdout",
     "output_type": "stream",
     "text": [
      "Applying mask to /home/minyoungxi/MINYOUNGXI/XFL/Data/OASIS_MNI_to_TRs/volume_86.nii.gz\n",
      "Running FLIRT on /home/minyoungxi/MINYOUNGXI/XFL/Data/OASIS_MNI_to_TRs/masked_volume_86.nii.gz\n"
     ]
    },
    {
     "name": "stderr",
     "output_type": "stream",
     "text": [
      "Processing volumes for subject 30011:  53%|█████▎    | 87/164 [07:26<06:30,  5.07s/it]"
     ]
    },
    {
     "name": "stdout",
     "output_type": "stream",
     "text": [
      "Applying mask to /home/minyoungxi/MINYOUNGXI/XFL/Data/OASIS_MNI_to_TRs/volume_87.nii.gz\n",
      "Running FLIRT on /home/minyoungxi/MINYOUNGXI/XFL/Data/OASIS_MNI_to_TRs/masked_volume_87.nii.gz\n"
     ]
    },
    {
     "name": "stderr",
     "output_type": "stream",
     "text": [
      "Processing volumes for subject 30011:  54%|█████▎    | 88/164 [07:31<06:29,  5.12s/it]"
     ]
    },
    {
     "name": "stdout",
     "output_type": "stream",
     "text": [
      "Applying mask to /home/minyoungxi/MINYOUNGXI/XFL/Data/OASIS_MNI_to_TRs/volume_88.nii.gz\n",
      "Running FLIRT on /home/minyoungxi/MINYOUNGXI/XFL/Data/OASIS_MNI_to_TRs/masked_volume_88.nii.gz\n"
     ]
    },
    {
     "name": "stderr",
     "output_type": "stream",
     "text": [
      "Processing volumes for subject 30011:  54%|█████▍    | 89/164 [07:37<06:28,  5.18s/it]"
     ]
    },
    {
     "name": "stdout",
     "output_type": "stream",
     "text": [
      "Applying mask to /home/minyoungxi/MINYOUNGXI/XFL/Data/OASIS_MNI_to_TRs/volume_89.nii.gz\n",
      "Running FLIRT on /home/minyoungxi/MINYOUNGXI/XFL/Data/OASIS_MNI_to_TRs/masked_volume_89.nii.gz\n"
     ]
    },
    {
     "name": "stderr",
     "output_type": "stream",
     "text": [
      "Processing volumes for subject 30011:  55%|█████▍    | 90/164 [07:42<06:22,  5.16s/it]"
     ]
    },
    {
     "name": "stdout",
     "output_type": "stream",
     "text": [
      "Applying mask to /home/minyoungxi/MINYOUNGXI/XFL/Data/OASIS_MNI_to_TRs/volume_90.nii.gz\n",
      "Running FLIRT on /home/minyoungxi/MINYOUNGXI/XFL/Data/OASIS_MNI_to_TRs/masked_volume_90.nii.gz\n"
     ]
    },
    {
     "name": "stderr",
     "output_type": "stream",
     "text": [
      "Processing volumes for subject 30011:  55%|█████▌    | 91/164 [07:47<06:17,  5.18s/it]"
     ]
    },
    {
     "name": "stdout",
     "output_type": "stream",
     "text": [
      "Applying mask to /home/minyoungxi/MINYOUNGXI/XFL/Data/OASIS_MNI_to_TRs/volume_91.nii.gz\n",
      "Running FLIRT on /home/minyoungxi/MINYOUNGXI/XFL/Data/OASIS_MNI_to_TRs/masked_volume_91.nii.gz\n"
     ]
    },
    {
     "name": "stderr",
     "output_type": "stream",
     "text": [
      "Processing volumes for subject 30011:  56%|█████▌    | 92/164 [07:52<06:11,  5.15s/it]"
     ]
    },
    {
     "name": "stdout",
     "output_type": "stream",
     "text": [
      "Applying mask to /home/minyoungxi/MINYOUNGXI/XFL/Data/OASIS_MNI_to_TRs/volume_92.nii.gz\n",
      "Running FLIRT on /home/minyoungxi/MINYOUNGXI/XFL/Data/OASIS_MNI_to_TRs/masked_volume_92.nii.gz\n"
     ]
    },
    {
     "name": "stderr",
     "output_type": "stream",
     "text": [
      "Processing volumes for subject 30011:  57%|█████▋    | 93/164 [07:57<06:04,  5.14s/it]"
     ]
    },
    {
     "name": "stdout",
     "output_type": "stream",
     "text": [
      "Applying mask to /home/minyoungxi/MINYOUNGXI/XFL/Data/OASIS_MNI_to_TRs/volume_93.nii.gz\n",
      "Running FLIRT on /home/minyoungxi/MINYOUNGXI/XFL/Data/OASIS_MNI_to_TRs/masked_volume_93.nii.gz\n"
     ]
    },
    {
     "name": "stderr",
     "output_type": "stream",
     "text": [
      "Processing volumes for subject 30011:  57%|█████▋    | 94/164 [08:02<05:57,  5.11s/it]"
     ]
    },
    {
     "name": "stdout",
     "output_type": "stream",
     "text": [
      "Applying mask to /home/minyoungxi/MINYOUNGXI/XFL/Data/OASIS_MNI_to_TRs/volume_94.nii.gz\n",
      "Running FLIRT on /home/minyoungxi/MINYOUNGXI/XFL/Data/OASIS_MNI_to_TRs/masked_volume_94.nii.gz\n"
     ]
    },
    {
     "name": "stderr",
     "output_type": "stream",
     "text": [
      "Processing volumes for subject 30011:  58%|█████▊    | 95/164 [08:07<05:51,  5.10s/it]"
     ]
    },
    {
     "name": "stdout",
     "output_type": "stream",
     "text": [
      "Applying mask to /home/minyoungxi/MINYOUNGXI/XFL/Data/OASIS_MNI_to_TRs/volume_95.nii.gz\n",
      "Running FLIRT on /home/minyoungxi/MINYOUNGXI/XFL/Data/OASIS_MNI_to_TRs/masked_volume_95.nii.gz\n"
     ]
    },
    {
     "name": "stderr",
     "output_type": "stream",
     "text": [
      "Processing volumes for subject 30011:  59%|█████▊    | 96/164 [08:12<05:45,  5.07s/it]"
     ]
    },
    {
     "name": "stdout",
     "output_type": "stream",
     "text": [
      "Applying mask to /home/minyoungxi/MINYOUNGXI/XFL/Data/OASIS_MNI_to_TRs/volume_96.nii.gz\n",
      "Running FLIRT on /home/minyoungxi/MINYOUNGXI/XFL/Data/OASIS_MNI_to_TRs/masked_volume_96.nii.gz\n"
     ]
    },
    {
     "name": "stderr",
     "output_type": "stream",
     "text": [
      "Processing volumes for subject 30011:  59%|█████▉    | 97/164 [08:17<05:38,  5.05s/it]"
     ]
    },
    {
     "name": "stdout",
     "output_type": "stream",
     "text": [
      "Applying mask to /home/minyoungxi/MINYOUNGXI/XFL/Data/OASIS_MNI_to_TRs/volume_97.nii.gz\n",
      "Running FLIRT on /home/minyoungxi/MINYOUNGXI/XFL/Data/OASIS_MNI_to_TRs/masked_volume_97.nii.gz\n"
     ]
    },
    {
     "name": "stderr",
     "output_type": "stream",
     "text": [
      "Processing volumes for subject 30011:  60%|█████▉    | 98/164 [08:22<05:33,  5.06s/it]"
     ]
    },
    {
     "name": "stdout",
     "output_type": "stream",
     "text": [
      "Applying mask to /home/minyoungxi/MINYOUNGXI/XFL/Data/OASIS_MNI_to_TRs/volume_98.nii.gz\n",
      "Running FLIRT on /home/minyoungxi/MINYOUNGXI/XFL/Data/OASIS_MNI_to_TRs/masked_volume_98.nii.gz\n"
     ]
    },
    {
     "name": "stderr",
     "output_type": "stream",
     "text": [
      "Processing volumes for subject 30011:  60%|██████    | 99/164 [08:27<05:27,  5.04s/it]"
     ]
    },
    {
     "name": "stdout",
     "output_type": "stream",
     "text": [
      "Applying mask to /home/minyoungxi/MINYOUNGXI/XFL/Data/OASIS_MNI_to_TRs/volume_99.nii.gz\n",
      "Running FLIRT on /home/minyoungxi/MINYOUNGXI/XFL/Data/OASIS_MNI_to_TRs/masked_volume_99.nii.gz\n"
     ]
    },
    {
     "name": "stderr",
     "output_type": "stream",
     "text": [
      "Processing volumes for subject 30011:  61%|██████    | 100/164 [08:32<05:21,  5.02s/it]"
     ]
    },
    {
     "name": "stdout",
     "output_type": "stream",
     "text": [
      "Applying mask to /home/minyoungxi/MINYOUNGXI/XFL/Data/OASIS_MNI_to_TRs/volume_100.nii.gz\n",
      "Running FLIRT on /home/minyoungxi/MINYOUNGXI/XFL/Data/OASIS_MNI_to_TRs/masked_volume_100.nii.gz\n"
     ]
    },
    {
     "name": "stderr",
     "output_type": "stream",
     "text": [
      "Processing volumes for subject 30011:  62%|██████▏   | 101/164 [08:37<05:15,  5.00s/it]"
     ]
    },
    {
     "name": "stdout",
     "output_type": "stream",
     "text": [
      "Applying mask to /home/minyoungxi/MINYOUNGXI/XFL/Data/OASIS_MNI_to_TRs/volume_101.nii.gz\n",
      "Running FLIRT on /home/minyoungxi/MINYOUNGXI/XFL/Data/OASIS_MNI_to_TRs/masked_volume_101.nii.gz\n"
     ]
    },
    {
     "name": "stderr",
     "output_type": "stream",
     "text": [
      "Processing volumes for subject 30011:  62%|██████▏   | 102/164 [08:42<05:10,  5.01s/it]"
     ]
    },
    {
     "name": "stdout",
     "output_type": "stream",
     "text": [
      "Applying mask to /home/minyoungxi/MINYOUNGXI/XFL/Data/OASIS_MNI_to_TRs/volume_102.nii.gz\n",
      "Running FLIRT on /home/minyoungxi/MINYOUNGXI/XFL/Data/OASIS_MNI_to_TRs/masked_volume_102.nii.gz\n"
     ]
    },
    {
     "name": "stderr",
     "output_type": "stream",
     "text": [
      "Processing volumes for subject 30011:  63%|██████▎   | 103/164 [08:47<05:06,  5.02s/it]"
     ]
    },
    {
     "name": "stdout",
     "output_type": "stream",
     "text": [
      "Applying mask to /home/minyoungxi/MINYOUNGXI/XFL/Data/OASIS_MNI_to_TRs/volume_103.nii.gz\n",
      "Running FLIRT on /home/minyoungxi/MINYOUNGXI/XFL/Data/OASIS_MNI_to_TRs/masked_volume_103.nii.gz\n"
     ]
    },
    {
     "name": "stderr",
     "output_type": "stream",
     "text": [
      "Processing volumes for subject 30011:  63%|██████▎   | 104/164 [08:52<05:00,  5.01s/it]"
     ]
    },
    {
     "name": "stdout",
     "output_type": "stream",
     "text": [
      "Applying mask to /home/minyoungxi/MINYOUNGXI/XFL/Data/OASIS_MNI_to_TRs/volume_104.nii.gz\n",
      "Running FLIRT on /home/minyoungxi/MINYOUNGXI/XFL/Data/OASIS_MNI_to_TRs/masked_volume_104.nii.gz\n"
     ]
    },
    {
     "name": "stderr",
     "output_type": "stream",
     "text": [
      "Processing volumes for subject 30011:  64%|██████▍   | 105/164 [08:57<04:55,  5.01s/it]"
     ]
    },
    {
     "name": "stdout",
     "output_type": "stream",
     "text": [
      "Applying mask to /home/minyoungxi/MINYOUNGXI/XFL/Data/OASIS_MNI_to_TRs/volume_105.nii.gz\n",
      "Running FLIRT on /home/minyoungxi/MINYOUNGXI/XFL/Data/OASIS_MNI_to_TRs/masked_volume_105.nii.gz\n"
     ]
    },
    {
     "name": "stderr",
     "output_type": "stream",
     "text": [
      "Processing volumes for subject 30011:  65%|██████▍   | 106/164 [09:02<04:49,  4.99s/it]"
     ]
    },
    {
     "name": "stdout",
     "output_type": "stream",
     "text": [
      "Applying mask to /home/minyoungxi/MINYOUNGXI/XFL/Data/OASIS_MNI_to_TRs/volume_106.nii.gz\n",
      "Running FLIRT on /home/minyoungxi/MINYOUNGXI/XFL/Data/OASIS_MNI_to_TRs/masked_volume_106.nii.gz\n"
     ]
    },
    {
     "name": "stderr",
     "output_type": "stream",
     "text": [
      "Processing volumes for subject 30011:  65%|██████▌   | 107/164 [09:07<04:44,  4.98s/it]"
     ]
    },
    {
     "name": "stdout",
     "output_type": "stream",
     "text": [
      "Applying mask to /home/minyoungxi/MINYOUNGXI/XFL/Data/OASIS_MNI_to_TRs/volume_107.nii.gz\n",
      "Running FLIRT on /home/minyoungxi/MINYOUNGXI/XFL/Data/OASIS_MNI_to_TRs/masked_volume_107.nii.gz\n"
     ]
    },
    {
     "name": "stderr",
     "output_type": "stream",
     "text": [
      "Processing volumes for subject 30011:  66%|██████▌   | 108/164 [09:12<04:39,  4.98s/it]"
     ]
    },
    {
     "name": "stdout",
     "output_type": "stream",
     "text": [
      "Applying mask to /home/minyoungxi/MINYOUNGXI/XFL/Data/OASIS_MNI_to_TRs/volume_108.nii.gz\n",
      "Running FLIRT on /home/minyoungxi/MINYOUNGXI/XFL/Data/OASIS_MNI_to_TRs/masked_volume_108.nii.gz\n"
     ]
    },
    {
     "name": "stderr",
     "output_type": "stream",
     "text": [
      "Processing volumes for subject 30011:  66%|██████▋   | 109/164 [09:17<04:35,  5.01s/it]"
     ]
    },
    {
     "name": "stdout",
     "output_type": "stream",
     "text": [
      "Applying mask to /home/minyoungxi/MINYOUNGXI/XFL/Data/OASIS_MNI_to_TRs/volume_109.nii.gz\n",
      "Running FLIRT on /home/minyoungxi/MINYOUNGXI/XFL/Data/OASIS_MNI_to_TRs/masked_volume_109.nii.gz\n"
     ]
    },
    {
     "name": "stderr",
     "output_type": "stream",
     "text": [
      "Processing volumes for subject 30011:  67%|██████▋   | 110/164 [09:22<04:30,  5.01s/it]"
     ]
    },
    {
     "name": "stdout",
     "output_type": "stream",
     "text": [
      "Applying mask to /home/minyoungxi/MINYOUNGXI/XFL/Data/OASIS_MNI_to_TRs/volume_110.nii.gz\n",
      "Running FLIRT on /home/minyoungxi/MINYOUNGXI/XFL/Data/OASIS_MNI_to_TRs/masked_volume_110.nii.gz\n"
     ]
    },
    {
     "name": "stderr",
     "output_type": "stream",
     "text": [
      "Processing volumes for subject 30011:  68%|██████▊   | 111/164 [09:27<04:25,  5.00s/it]"
     ]
    },
    {
     "name": "stdout",
     "output_type": "stream",
     "text": [
      "Applying mask to /home/minyoungxi/MINYOUNGXI/XFL/Data/OASIS_MNI_to_TRs/volume_111.nii.gz\n",
      "Running FLIRT on /home/minyoungxi/MINYOUNGXI/XFL/Data/OASIS_MNI_to_TRs/masked_volume_111.nii.gz\n"
     ]
    },
    {
     "name": "stderr",
     "output_type": "stream",
     "text": [
      "Processing volumes for subject 30011:  68%|██████▊   | 112/164 [09:32<04:20,  5.02s/it]"
     ]
    },
    {
     "name": "stdout",
     "output_type": "stream",
     "text": [
      "Applying mask to /home/minyoungxi/MINYOUNGXI/XFL/Data/OASIS_MNI_to_TRs/volume_112.nii.gz\n",
      "Running FLIRT on /home/minyoungxi/MINYOUNGXI/XFL/Data/OASIS_MNI_to_TRs/masked_volume_112.nii.gz\n"
     ]
    },
    {
     "name": "stderr",
     "output_type": "stream",
     "text": [
      "Processing volumes for subject 30011:  69%|██████▉   | 113/164 [09:38<04:17,  5.05s/it]"
     ]
    },
    {
     "name": "stdout",
     "output_type": "stream",
     "text": [
      "Applying mask to /home/minyoungxi/MINYOUNGXI/XFL/Data/OASIS_MNI_to_TRs/volume_113.nii.gz\n",
      "Running FLIRT on /home/minyoungxi/MINYOUNGXI/XFL/Data/OASIS_MNI_to_TRs/masked_volume_113.nii.gz\n"
     ]
    },
    {
     "name": "stderr",
     "output_type": "stream",
     "text": [
      "Processing volumes for subject 30011:  70%|██████▉   | 114/164 [09:43<04:12,  5.05s/it]"
     ]
    },
    {
     "name": "stdout",
     "output_type": "stream",
     "text": [
      "Applying mask to /home/minyoungxi/MINYOUNGXI/XFL/Data/OASIS_MNI_to_TRs/volume_114.nii.gz\n",
      "Running FLIRT on /home/minyoungxi/MINYOUNGXI/XFL/Data/OASIS_MNI_to_TRs/masked_volume_114.nii.gz\n"
     ]
    },
    {
     "name": "stderr",
     "output_type": "stream",
     "text": [
      "Processing volumes for subject 30011:  70%|███████   | 115/164 [09:48<04:06,  5.03s/it]"
     ]
    },
    {
     "name": "stdout",
     "output_type": "stream",
     "text": [
      "Applying mask to /home/minyoungxi/MINYOUNGXI/XFL/Data/OASIS_MNI_to_TRs/volume_115.nii.gz\n",
      "Running FLIRT on /home/minyoungxi/MINYOUNGXI/XFL/Data/OASIS_MNI_to_TRs/masked_volume_115.nii.gz\n"
     ]
    },
    {
     "name": "stderr",
     "output_type": "stream",
     "text": [
      "Processing volumes for subject 30011:  71%|███████   | 116/164 [09:53<04:02,  5.05s/it]"
     ]
    },
    {
     "name": "stdout",
     "output_type": "stream",
     "text": [
      "Applying mask to /home/minyoungxi/MINYOUNGXI/XFL/Data/OASIS_MNI_to_TRs/volume_116.nii.gz\n",
      "Running FLIRT on /home/minyoungxi/MINYOUNGXI/XFL/Data/OASIS_MNI_to_TRs/masked_volume_116.nii.gz\n"
     ]
    },
    {
     "name": "stderr",
     "output_type": "stream",
     "text": [
      "Processing volumes for subject 30011:  71%|███████▏  | 117/164 [09:58<03:56,  5.04s/it]"
     ]
    },
    {
     "name": "stdout",
     "output_type": "stream",
     "text": [
      "Applying mask to /home/minyoungxi/MINYOUNGXI/XFL/Data/OASIS_MNI_to_TRs/volume_117.nii.gz\n",
      "Running FLIRT on /home/minyoungxi/MINYOUNGXI/XFL/Data/OASIS_MNI_to_TRs/masked_volume_117.nii.gz\n"
     ]
    },
    {
     "name": "stderr",
     "output_type": "stream",
     "text": [
      "Processing volumes for subject 30011:  72%|███████▏  | 118/164 [10:03<03:50,  5.02s/it]"
     ]
    },
    {
     "name": "stdout",
     "output_type": "stream",
     "text": [
      "Applying mask to /home/minyoungxi/MINYOUNGXI/XFL/Data/OASIS_MNI_to_TRs/volume_118.nii.gz\n",
      "Running FLIRT on /home/minyoungxi/MINYOUNGXI/XFL/Data/OASIS_MNI_to_TRs/masked_volume_118.nii.gz\n"
     ]
    },
    {
     "name": "stderr",
     "output_type": "stream",
     "text": [
      "Processing volumes for subject 30011:  73%|███████▎  | 119/164 [10:08<03:45,  5.02s/it]"
     ]
    },
    {
     "name": "stdout",
     "output_type": "stream",
     "text": [
      "Applying mask to /home/minyoungxi/MINYOUNGXI/XFL/Data/OASIS_MNI_to_TRs/volume_119.nii.gz\n",
      "Running FLIRT on /home/minyoungxi/MINYOUNGXI/XFL/Data/OASIS_MNI_to_TRs/masked_volume_119.nii.gz\n"
     ]
    },
    {
     "name": "stderr",
     "output_type": "stream",
     "text": [
      "Processing volumes for subject 30011:  73%|███████▎  | 120/164 [10:13<03:40,  5.00s/it]"
     ]
    },
    {
     "name": "stdout",
     "output_type": "stream",
     "text": [
      "Applying mask to /home/minyoungxi/MINYOUNGXI/XFL/Data/OASIS_MNI_to_TRs/volume_120.nii.gz\n",
      "Running FLIRT on /home/minyoungxi/MINYOUNGXI/XFL/Data/OASIS_MNI_to_TRs/masked_volume_120.nii.gz\n"
     ]
    },
    {
     "name": "stderr",
     "output_type": "stream",
     "text": [
      "Processing volumes for subject 30011:  74%|███████▍  | 121/164 [10:18<03:34,  5.00s/it]"
     ]
    },
    {
     "name": "stdout",
     "output_type": "stream",
     "text": [
      "Applying mask to /home/minyoungxi/MINYOUNGXI/XFL/Data/OASIS_MNI_to_TRs/volume_121.nii.gz\n",
      "Running FLIRT on /home/minyoungxi/MINYOUNGXI/XFL/Data/OASIS_MNI_to_TRs/masked_volume_121.nii.gz\n"
     ]
    },
    {
     "name": "stderr",
     "output_type": "stream",
     "text": [
      "Processing volumes for subject 30011:  74%|███████▍  | 122/164 [10:23<03:30,  5.01s/it]"
     ]
    },
    {
     "name": "stdout",
     "output_type": "stream",
     "text": [
      "Applying mask to /home/minyoungxi/MINYOUNGXI/XFL/Data/OASIS_MNI_to_TRs/volume_122.nii.gz\n",
      "Running FLIRT on /home/minyoungxi/MINYOUNGXI/XFL/Data/OASIS_MNI_to_TRs/masked_volume_122.nii.gz\n"
     ]
    },
    {
     "name": "stderr",
     "output_type": "stream",
     "text": [
      "Processing volumes for subject 30011:  75%|███████▌  | 123/164 [10:28<03:25,  5.00s/it]"
     ]
    },
    {
     "name": "stdout",
     "output_type": "stream",
     "text": [
      "Applying mask to /home/minyoungxi/MINYOUNGXI/XFL/Data/OASIS_MNI_to_TRs/volume_123.nii.gz\n",
      "Running FLIRT on /home/minyoungxi/MINYOUNGXI/XFL/Data/OASIS_MNI_to_TRs/masked_volume_123.nii.gz\n"
     ]
    },
    {
     "name": "stderr",
     "output_type": "stream",
     "text": [
      "Processing volumes for subject 30011:  76%|███████▌  | 124/164 [10:33<03:20,  5.01s/it]"
     ]
    },
    {
     "name": "stdout",
     "output_type": "stream",
     "text": [
      "Applying mask to /home/minyoungxi/MINYOUNGXI/XFL/Data/OASIS_MNI_to_TRs/volume_124.nii.gz\n",
      "Running FLIRT on /home/minyoungxi/MINYOUNGXI/XFL/Data/OASIS_MNI_to_TRs/masked_volume_124.nii.gz\n"
     ]
    },
    {
     "name": "stderr",
     "output_type": "stream",
     "text": [
      "Processing volumes for subject 30011:  76%|███████▌  | 125/164 [10:38<03:14,  4.99s/it]"
     ]
    },
    {
     "name": "stdout",
     "output_type": "stream",
     "text": [
      "Applying mask to /home/minyoungxi/MINYOUNGXI/XFL/Data/OASIS_MNI_to_TRs/volume_125.nii.gz\n",
      "Running FLIRT on /home/minyoungxi/MINYOUNGXI/XFL/Data/OASIS_MNI_to_TRs/masked_volume_125.nii.gz\n"
     ]
    },
    {
     "name": "stderr",
     "output_type": "stream",
     "text": [
      "Processing volumes for subject 30011:  77%|███████▋  | 126/164 [10:43<03:09,  5.00s/it]"
     ]
    },
    {
     "name": "stdout",
     "output_type": "stream",
     "text": [
      "Applying mask to /home/minyoungxi/MINYOUNGXI/XFL/Data/OASIS_MNI_to_TRs/volume_126.nii.gz\n",
      "Running FLIRT on /home/minyoungxi/MINYOUNGXI/XFL/Data/OASIS_MNI_to_TRs/masked_volume_126.nii.gz\n"
     ]
    },
    {
     "name": "stderr",
     "output_type": "stream",
     "text": [
      "Processing volumes for subject 30011:  77%|███████▋  | 127/164 [10:48<03:04,  5.00s/it]"
     ]
    },
    {
     "name": "stdout",
     "output_type": "stream",
     "text": [
      "Applying mask to /home/minyoungxi/MINYOUNGXI/XFL/Data/OASIS_MNI_to_TRs/volume_127.nii.gz\n",
      "Running FLIRT on /home/minyoungxi/MINYOUNGXI/XFL/Data/OASIS_MNI_to_TRs/masked_volume_127.nii.gz\n"
     ]
    },
    {
     "name": "stderr",
     "output_type": "stream",
     "text": [
      "Processing volumes for subject 30011:  78%|███████▊  | 128/164 [10:53<02:59,  5.00s/it]"
     ]
    },
    {
     "name": "stdout",
     "output_type": "stream",
     "text": [
      "Applying mask to /home/minyoungxi/MINYOUNGXI/XFL/Data/OASIS_MNI_to_TRs/volume_128.nii.gz\n",
      "Running FLIRT on /home/minyoungxi/MINYOUNGXI/XFL/Data/OASIS_MNI_to_TRs/masked_volume_128.nii.gz\n"
     ]
    },
    {
     "name": "stderr",
     "output_type": "stream",
     "text": [
      "Processing volumes for subject 30011:  79%|███████▊  | 129/164 [10:58<02:55,  5.00s/it]"
     ]
    },
    {
     "name": "stdout",
     "output_type": "stream",
     "text": [
      "Applying mask to /home/minyoungxi/MINYOUNGXI/XFL/Data/OASIS_MNI_to_TRs/volume_129.nii.gz\n",
      "Running FLIRT on /home/minyoungxi/MINYOUNGXI/XFL/Data/OASIS_MNI_to_TRs/masked_volume_129.nii.gz\n"
     ]
    },
    {
     "name": "stderr",
     "output_type": "stream",
     "text": [
      "Processing volumes for subject 30011:  79%|███████▉  | 130/164 [11:03<02:49,  4.99s/it]"
     ]
    },
    {
     "name": "stdout",
     "output_type": "stream",
     "text": [
      "Applying mask to /home/minyoungxi/MINYOUNGXI/XFL/Data/OASIS_MNI_to_TRs/volume_130.nii.gz\n",
      "Running FLIRT on /home/minyoungxi/MINYOUNGXI/XFL/Data/OASIS_MNI_to_TRs/masked_volume_130.nii.gz\n"
     ]
    },
    {
     "name": "stderr",
     "output_type": "stream",
     "text": [
      "Processing volumes for subject 30011:  80%|███████▉  | 131/164 [11:08<02:46,  5.03s/it]"
     ]
    },
    {
     "name": "stdout",
     "output_type": "stream",
     "text": [
      "Applying mask to /home/minyoungxi/MINYOUNGXI/XFL/Data/OASIS_MNI_to_TRs/volume_131.nii.gz\n",
      "Running FLIRT on /home/minyoungxi/MINYOUNGXI/XFL/Data/OASIS_MNI_to_TRs/masked_volume_131.nii.gz\n"
     ]
    },
    {
     "name": "stderr",
     "output_type": "stream",
     "text": [
      "Processing volumes for subject 30011:  80%|████████  | 132/164 [11:13<02:40,  5.03s/it]"
     ]
    },
    {
     "name": "stdout",
     "output_type": "stream",
     "text": [
      "Applying mask to /home/minyoungxi/MINYOUNGXI/XFL/Data/OASIS_MNI_to_TRs/volume_132.nii.gz\n",
      "Running FLIRT on /home/minyoungxi/MINYOUNGXI/XFL/Data/OASIS_MNI_to_TRs/masked_volume_132.nii.gz\n"
     ]
    },
    {
     "name": "stderr",
     "output_type": "stream",
     "text": [
      "Processing volumes for subject 30011:  81%|████████  | 133/164 [11:18<02:36,  5.04s/it]"
     ]
    },
    {
     "name": "stdout",
     "output_type": "stream",
     "text": [
      "Applying mask to /home/minyoungxi/MINYOUNGXI/XFL/Data/OASIS_MNI_to_TRs/volume_133.nii.gz\n",
      "Running FLIRT on /home/minyoungxi/MINYOUNGXI/XFL/Data/OASIS_MNI_to_TRs/masked_volume_133.nii.gz\n"
     ]
    },
    {
     "name": "stderr",
     "output_type": "stream",
     "text": [
      "Processing volumes for subject 30011:  82%|████████▏ | 134/164 [11:23<02:31,  5.06s/it]"
     ]
    },
    {
     "name": "stdout",
     "output_type": "stream",
     "text": [
      "Applying mask to /home/minyoungxi/MINYOUNGXI/XFL/Data/OASIS_MNI_to_TRs/volume_134.nii.gz\n",
      "Running FLIRT on /home/minyoungxi/MINYOUNGXI/XFL/Data/OASIS_MNI_to_TRs/masked_volume_134.nii.gz\n"
     ]
    },
    {
     "name": "stderr",
     "output_type": "stream",
     "text": [
      "Processing volumes for subject 30011:  82%|████████▏ | 135/164 [11:28<02:26,  5.05s/it]"
     ]
    },
    {
     "name": "stdout",
     "output_type": "stream",
     "text": [
      "Applying mask to /home/minyoungxi/MINYOUNGXI/XFL/Data/OASIS_MNI_to_TRs/volume_135.nii.gz\n",
      "Running FLIRT on /home/minyoungxi/MINYOUNGXI/XFL/Data/OASIS_MNI_to_TRs/masked_volume_135.nii.gz\n"
     ]
    },
    {
     "name": "stderr",
     "output_type": "stream",
     "text": [
      "Processing volumes for subject 30011:  83%|████████▎ | 136/164 [11:33<02:21,  5.07s/it]"
     ]
    },
    {
     "name": "stdout",
     "output_type": "stream",
     "text": [
      "Applying mask to /home/minyoungxi/MINYOUNGXI/XFL/Data/OASIS_MNI_to_TRs/volume_136.nii.gz\n",
      "Running FLIRT on /home/minyoungxi/MINYOUNGXI/XFL/Data/OASIS_MNI_to_TRs/masked_volume_136.nii.gz\n"
     ]
    },
    {
     "name": "stderr",
     "output_type": "stream",
     "text": [
      "Processing volumes for subject 30011:  84%|████████▎ | 137/164 [11:38<02:16,  5.06s/it]"
     ]
    },
    {
     "name": "stdout",
     "output_type": "stream",
     "text": [
      "Applying mask to /home/minyoungxi/MINYOUNGXI/XFL/Data/OASIS_MNI_to_TRs/volume_137.nii.gz\n",
      "Running FLIRT on /home/minyoungxi/MINYOUNGXI/XFL/Data/OASIS_MNI_to_TRs/masked_volume_137.nii.gz\n"
     ]
    },
    {
     "name": "stderr",
     "output_type": "stream",
     "text": [
      "Processing volumes for subject 30011:  84%|████████▍ | 138/164 [11:43<02:11,  5.05s/it]"
     ]
    },
    {
     "name": "stdout",
     "output_type": "stream",
     "text": [
      "Applying mask to /home/minyoungxi/MINYOUNGXI/XFL/Data/OASIS_MNI_to_TRs/volume_138.nii.gz\n",
      "Running FLIRT on /home/minyoungxi/MINYOUNGXI/XFL/Data/OASIS_MNI_to_TRs/masked_volume_138.nii.gz\n"
     ]
    },
    {
     "name": "stderr",
     "output_type": "stream",
     "text": [
      "Processing volumes for subject 30011:  85%|████████▍ | 139/164 [11:48<02:05,  5.03s/it]"
     ]
    },
    {
     "name": "stdout",
     "output_type": "stream",
     "text": [
      "Applying mask to /home/minyoungxi/MINYOUNGXI/XFL/Data/OASIS_MNI_to_TRs/volume_139.nii.gz\n",
      "Running FLIRT on /home/minyoungxi/MINYOUNGXI/XFL/Data/OASIS_MNI_to_TRs/masked_volume_139.nii.gz\n"
     ]
    },
    {
     "name": "stderr",
     "output_type": "stream",
     "text": [
      "Processing volumes for subject 30011:  85%|████████▌ | 140/164 [11:53<02:00,  5.04s/it]"
     ]
    },
    {
     "name": "stdout",
     "output_type": "stream",
     "text": [
      "Applying mask to /home/minyoungxi/MINYOUNGXI/XFL/Data/OASIS_MNI_to_TRs/volume_140.nii.gz\n",
      "Running FLIRT on /home/minyoungxi/MINYOUNGXI/XFL/Data/OASIS_MNI_to_TRs/masked_volume_140.nii.gz\n"
     ]
    },
    {
     "name": "stderr",
     "output_type": "stream",
     "text": [
      "Processing volumes for subject 30011:  86%|████████▌ | 141/164 [11:58<01:55,  5.04s/it]"
     ]
    },
    {
     "name": "stdout",
     "output_type": "stream",
     "text": [
      "Applying mask to /home/minyoungxi/MINYOUNGXI/XFL/Data/OASIS_MNI_to_TRs/volume_141.nii.gz\n",
      "Running FLIRT on /home/minyoungxi/MINYOUNGXI/XFL/Data/OASIS_MNI_to_TRs/masked_volume_141.nii.gz\n"
     ]
    },
    {
     "name": "stderr",
     "output_type": "stream",
     "text": [
      "Processing volumes for subject 30011:  87%|████████▋ | 142/164 [12:03<01:50,  5.04s/it]"
     ]
    },
    {
     "name": "stdout",
     "output_type": "stream",
     "text": [
      "Applying mask to /home/minyoungxi/MINYOUNGXI/XFL/Data/OASIS_MNI_to_TRs/volume_142.nii.gz\n",
      "Running FLIRT on /home/minyoungxi/MINYOUNGXI/XFL/Data/OASIS_MNI_to_TRs/masked_volume_142.nii.gz\n"
     ]
    },
    {
     "name": "stderr",
     "output_type": "stream",
     "text": [
      "Processing volumes for subject 30011:  87%|████████▋ | 143/164 [12:08<01:45,  5.03s/it]"
     ]
    },
    {
     "name": "stdout",
     "output_type": "stream",
     "text": [
      "Applying mask to /home/minyoungxi/MINYOUNGXI/XFL/Data/OASIS_MNI_to_TRs/volume_143.nii.gz\n",
      "Running FLIRT on /home/minyoungxi/MINYOUNGXI/XFL/Data/OASIS_MNI_to_TRs/masked_volume_143.nii.gz\n"
     ]
    },
    {
     "name": "stderr",
     "output_type": "stream",
     "text": [
      "Processing volumes for subject 30011:  88%|████████▊ | 144/164 [12:13<01:40,  5.02s/it]"
     ]
    },
    {
     "name": "stdout",
     "output_type": "stream",
     "text": [
      "Applying mask to /home/minyoungxi/MINYOUNGXI/XFL/Data/OASIS_MNI_to_TRs/volume_144.nii.gz\n",
      "Running FLIRT on /home/minyoungxi/MINYOUNGXI/XFL/Data/OASIS_MNI_to_TRs/masked_volume_144.nii.gz\n"
     ]
    },
    {
     "name": "stderr",
     "output_type": "stream",
     "text": [
      "Processing volumes for subject 30011:  88%|████████▊ | 145/164 [12:18<01:35,  5.04s/it]"
     ]
    },
    {
     "name": "stdout",
     "output_type": "stream",
     "text": [
      "Applying mask to /home/minyoungxi/MINYOUNGXI/XFL/Data/OASIS_MNI_to_TRs/volume_145.nii.gz\n",
      "Running FLIRT on /home/minyoungxi/MINYOUNGXI/XFL/Data/OASIS_MNI_to_TRs/masked_volume_145.nii.gz\n"
     ]
    },
    {
     "name": "stderr",
     "output_type": "stream",
     "text": [
      "Processing volumes for subject 30011:  89%|████████▉ | 146/164 [12:23<01:30,  5.04s/it]"
     ]
    },
    {
     "name": "stdout",
     "output_type": "stream",
     "text": [
      "Applying mask to /home/minyoungxi/MINYOUNGXI/XFL/Data/OASIS_MNI_to_TRs/volume_146.nii.gz\n",
      "Running FLIRT on /home/minyoungxi/MINYOUNGXI/XFL/Data/OASIS_MNI_to_TRs/masked_volume_146.nii.gz\n"
     ]
    },
    {
     "name": "stderr",
     "output_type": "stream",
     "text": [
      "Processing volumes for subject 30011:  90%|████████▉ | 147/164 [12:28<01:25,  5.03s/it]"
     ]
    },
    {
     "name": "stdout",
     "output_type": "stream",
     "text": [
      "Applying mask to /home/minyoungxi/MINYOUNGXI/XFL/Data/OASIS_MNI_to_TRs/volume_147.nii.gz\n",
      "Running FLIRT on /home/minyoungxi/MINYOUNGXI/XFL/Data/OASIS_MNI_to_TRs/masked_volume_147.nii.gz\n"
     ]
    },
    {
     "name": "stderr",
     "output_type": "stream",
     "text": [
      "Processing volumes for subject 30011:  90%|█████████ | 148/164 [12:33<01:20,  5.03s/it]"
     ]
    },
    {
     "name": "stdout",
     "output_type": "stream",
     "text": [
      "Applying mask to /home/minyoungxi/MINYOUNGXI/XFL/Data/OASIS_MNI_to_TRs/volume_148.nii.gz\n",
      "Running FLIRT on /home/minyoungxi/MINYOUNGXI/XFL/Data/OASIS_MNI_to_TRs/masked_volume_148.nii.gz\n"
     ]
    },
    {
     "name": "stderr",
     "output_type": "stream",
     "text": [
      "Processing volumes for subject 30011:  91%|█████████ | 149/164 [12:38<01:15,  5.01s/it]"
     ]
    },
    {
     "name": "stdout",
     "output_type": "stream",
     "text": [
      "Applying mask to /home/minyoungxi/MINYOUNGXI/XFL/Data/OASIS_MNI_to_TRs/volume_149.nii.gz\n",
      "Running FLIRT on /home/minyoungxi/MINYOUNGXI/XFL/Data/OASIS_MNI_to_TRs/masked_volume_149.nii.gz\n"
     ]
    },
    {
     "name": "stderr",
     "output_type": "stream",
     "text": [
      "Processing volumes for subject 30011:  91%|█████████▏| 150/164 [12:44<01:10,  5.04s/it]"
     ]
    },
    {
     "name": "stdout",
     "output_type": "stream",
     "text": [
      "Applying mask to /home/minyoungxi/MINYOUNGXI/XFL/Data/OASIS_MNI_to_TRs/volume_150.nii.gz\n",
      "Running FLIRT on /home/minyoungxi/MINYOUNGXI/XFL/Data/OASIS_MNI_to_TRs/masked_volume_150.nii.gz\n"
     ]
    },
    {
     "name": "stderr",
     "output_type": "stream",
     "text": [
      "Processing volumes for subject 30011:  92%|█████████▏| 151/164 [12:49<01:05,  5.03s/it]"
     ]
    },
    {
     "name": "stdout",
     "output_type": "stream",
     "text": [
      "Applying mask to /home/minyoungxi/MINYOUNGXI/XFL/Data/OASIS_MNI_to_TRs/volume_151.nii.gz\n",
      "Running FLIRT on /home/minyoungxi/MINYOUNGXI/XFL/Data/OASIS_MNI_to_TRs/masked_volume_151.nii.gz\n"
     ]
    },
    {
     "name": "stderr",
     "output_type": "stream",
     "text": [
      "Processing volumes for subject 30011:  93%|█████████▎| 152/164 [12:54<01:00,  5.04s/it]"
     ]
    },
    {
     "name": "stdout",
     "output_type": "stream",
     "text": [
      "Applying mask to /home/minyoungxi/MINYOUNGXI/XFL/Data/OASIS_MNI_to_TRs/volume_152.nii.gz\n",
      "Running FLIRT on /home/minyoungxi/MINYOUNGXI/XFL/Data/OASIS_MNI_to_TRs/masked_volume_152.nii.gz\n"
     ]
    },
    {
     "name": "stderr",
     "output_type": "stream",
     "text": [
      "Processing volumes for subject 30011:  93%|█████████▎| 153/164 [12:59<00:55,  5.02s/it]"
     ]
    },
    {
     "name": "stdout",
     "output_type": "stream",
     "text": [
      "Applying mask to /home/minyoungxi/MINYOUNGXI/XFL/Data/OASIS_MNI_to_TRs/volume_153.nii.gz\n",
      "Running FLIRT on /home/minyoungxi/MINYOUNGXI/XFL/Data/OASIS_MNI_to_TRs/masked_volume_153.nii.gz\n"
     ]
    },
    {
     "name": "stderr",
     "output_type": "stream",
     "text": [
      "Processing volumes for subject 30011:  94%|█████████▍| 154/164 [13:04<00:50,  5.02s/it]"
     ]
    },
    {
     "name": "stdout",
     "output_type": "stream",
     "text": [
      "Applying mask to /home/minyoungxi/MINYOUNGXI/XFL/Data/OASIS_MNI_to_TRs/volume_154.nii.gz\n",
      "Running FLIRT on /home/minyoungxi/MINYOUNGXI/XFL/Data/OASIS_MNI_to_TRs/masked_volume_154.nii.gz\n"
     ]
    },
    {
     "name": "stderr",
     "output_type": "stream",
     "text": [
      "Processing volumes for subject 30011:  95%|█████████▍| 155/164 [13:09<00:45,  5.11s/it]"
     ]
    },
    {
     "name": "stdout",
     "output_type": "stream",
     "text": [
      "Applying mask to /home/minyoungxi/MINYOUNGXI/XFL/Data/OASIS_MNI_to_TRs/volume_155.nii.gz\n",
      "Running FLIRT on /home/minyoungxi/MINYOUNGXI/XFL/Data/OASIS_MNI_to_TRs/masked_volume_155.nii.gz\n"
     ]
    },
    {
     "name": "stderr",
     "output_type": "stream",
     "text": [
      "Processing volumes for subject 30011:  95%|█████████▌| 156/164 [13:14<00:40,  5.11s/it]"
     ]
    },
    {
     "name": "stdout",
     "output_type": "stream",
     "text": [
      "Applying mask to /home/minyoungxi/MINYOUNGXI/XFL/Data/OASIS_MNI_to_TRs/volume_156.nii.gz\n",
      "Running FLIRT on /home/minyoungxi/MINYOUNGXI/XFL/Data/OASIS_MNI_to_TRs/masked_volume_156.nii.gz\n"
     ]
    },
    {
     "name": "stderr",
     "output_type": "stream",
     "text": [
      "Processing volumes for subject 30011:  96%|█████████▌| 157/164 [13:19<00:36,  5.16s/it]"
     ]
    },
    {
     "name": "stdout",
     "output_type": "stream",
     "text": [
      "Applying mask to /home/minyoungxi/MINYOUNGXI/XFL/Data/OASIS_MNI_to_TRs/volume_157.nii.gz\n",
      "Running FLIRT on /home/minyoungxi/MINYOUNGXI/XFL/Data/OASIS_MNI_to_TRs/masked_volume_157.nii.gz\n"
     ]
    },
    {
     "name": "stderr",
     "output_type": "stream",
     "text": [
      "Processing volumes for subject 30011:  96%|█████████▋| 158/164 [13:24<00:30,  5.14s/it]"
     ]
    },
    {
     "name": "stdout",
     "output_type": "stream",
     "text": [
      "Applying mask to /home/minyoungxi/MINYOUNGXI/XFL/Data/OASIS_MNI_to_TRs/volume_158.nii.gz\n",
      "Running FLIRT on /home/minyoungxi/MINYOUNGXI/XFL/Data/OASIS_MNI_to_TRs/masked_volume_158.nii.gz\n"
     ]
    },
    {
     "name": "stderr",
     "output_type": "stream",
     "text": [
      "Processing volumes for subject 30011:  97%|█████████▋| 159/164 [13:30<00:25,  5.14s/it]"
     ]
    },
    {
     "name": "stdout",
     "output_type": "stream",
     "text": [
      "Applying mask to /home/minyoungxi/MINYOUNGXI/XFL/Data/OASIS_MNI_to_TRs/volume_159.nii.gz\n",
      "Running FLIRT on /home/minyoungxi/MINYOUNGXI/XFL/Data/OASIS_MNI_to_TRs/masked_volume_159.nii.gz\n"
     ]
    },
    {
     "name": "stderr",
     "output_type": "stream",
     "text": [
      "Processing volumes for subject 30011:  98%|█████████▊| 160/164 [13:35<00:20,  5.18s/it]"
     ]
    },
    {
     "name": "stdout",
     "output_type": "stream",
     "text": [
      "Applying mask to /home/minyoungxi/MINYOUNGXI/XFL/Data/OASIS_MNI_to_TRs/volume_160.nii.gz\n",
      "Running FLIRT on /home/minyoungxi/MINYOUNGXI/XFL/Data/OASIS_MNI_to_TRs/masked_volume_160.nii.gz\n"
     ]
    },
    {
     "name": "stderr",
     "output_type": "stream",
     "text": [
      "Processing volumes for subject 30011:  98%|█████████▊| 161/164 [13:40<00:15,  5.18s/it]"
     ]
    },
    {
     "name": "stdout",
     "output_type": "stream",
     "text": [
      "Applying mask to /home/minyoungxi/MINYOUNGXI/XFL/Data/OASIS_MNI_to_TRs/volume_161.nii.gz\n",
      "Running FLIRT on /home/minyoungxi/MINYOUNGXI/XFL/Data/OASIS_MNI_to_TRs/masked_volume_161.nii.gz\n"
     ]
    },
    {
     "name": "stderr",
     "output_type": "stream",
     "text": [
      "Processing volumes for subject 30011:  99%|█████████▉| 162/164 [13:45<00:10,  5.21s/it]"
     ]
    },
    {
     "name": "stdout",
     "output_type": "stream",
     "text": [
      "Applying mask to /home/minyoungxi/MINYOUNGXI/XFL/Data/OASIS_MNI_to_TRs/volume_162.nii.gz\n",
      "Running FLIRT on /home/minyoungxi/MINYOUNGXI/XFL/Data/OASIS_MNI_to_TRs/masked_volume_162.nii.gz\n"
     ]
    },
    {
     "name": "stderr",
     "output_type": "stream",
     "text": [
      "Processing volumes for subject 30011:  99%|█████████▉| 163/164 [13:51<00:05,  5.21s/it]"
     ]
    },
    {
     "name": "stdout",
     "output_type": "stream",
     "text": [
      "Applying mask to /home/minyoungxi/MINYOUNGXI/XFL/Data/OASIS_MNI_to_TRs/volume_163.nii.gz\n",
      "Running FLIRT on /home/minyoungxi/MINYOUNGXI/XFL/Data/OASIS_MNI_to_TRs/masked_volume_163.nii.gz\n"
     ]
    },
    {
     "name": "stderr",
     "output_type": "stream",
     "text": [
      "Processing volumes for subject 30011: 100%|██████████| 164/164 [13:56<00:00,  5.10s/it]\n"
     ]
    },
    {
     "name": "stdout",
     "output_type": "stream",
     "text": [
      "Found functional file: /home/minyoungxi/MINYOUNGXI/XFL/Data/OASISSamples7.1/OAS30087_MR_d0260/func1/NIFTI/sub-OAS30087_ses-d0260_task-rest_run-01_bold.nii.gz\n",
      "Preprocessing fMRI data for subject 30087, session 0260\n",
      "Running BET on /home/minyoungxi/MINYOUNGXI/XFL/Data/OASIS_MNI_to_TRs/first_volume.nii.gz\n"
     ]
    },
    {
     "name": "stderr",
     "output_type": "stream",
     "text": [
      "Processing volumes for subject 30087:   0%|          | 0/164 [00:00<?, ?it/s]"
     ]
    },
    {
     "name": "stdout",
     "output_type": "stream",
     "text": [
      "Applying mask to /home/minyoungxi/MINYOUNGXI/XFL/Data/OASIS_MNI_to_TRs/volume_0.nii.gz\n",
      "Running FLIRT on /home/minyoungxi/MINYOUNGXI/XFL/Data/OASIS_MNI_to_TRs/masked_volume_0.nii.gz\n"
     ]
    },
    {
     "name": "stderr",
     "output_type": "stream",
     "text": [
      "Processing volumes for subject 30087:   1%|          | 1/164 [00:05<13:54,  5.12s/it]"
     ]
    },
    {
     "name": "stdout",
     "output_type": "stream",
     "text": [
      "Applying mask to /home/minyoungxi/MINYOUNGXI/XFL/Data/OASIS_MNI_to_TRs/volume_1.nii.gz\n",
      "Running FLIRT on /home/minyoungxi/MINYOUNGXI/XFL/Data/OASIS_MNI_to_TRs/masked_volume_1.nii.gz\n"
     ]
    },
    {
     "name": "stderr",
     "output_type": "stream",
     "text": [
      "Processing volumes for subject 30087:   1%|          | 2/164 [00:10<14:00,  5.19s/it]"
     ]
    },
    {
     "name": "stdout",
     "output_type": "stream",
     "text": [
      "Applying mask to /home/minyoungxi/MINYOUNGXI/XFL/Data/OASIS_MNI_to_TRs/volume_2.nii.gz\n",
      "Running FLIRT on /home/minyoungxi/MINYOUNGXI/XFL/Data/OASIS_MNI_to_TRs/masked_volume_2.nii.gz\n"
     ]
    },
    {
     "name": "stderr",
     "output_type": "stream",
     "text": [
      "Processing volumes for subject 30087:   2%|▏         | 3/164 [00:15<13:59,  5.21s/it]"
     ]
    },
    {
     "name": "stdout",
     "output_type": "stream",
     "text": [
      "Applying mask to /home/minyoungxi/MINYOUNGXI/XFL/Data/OASIS_MNI_to_TRs/volume_3.nii.gz\n",
      "Running FLIRT on /home/minyoungxi/MINYOUNGXI/XFL/Data/OASIS_MNI_to_TRs/masked_volume_3.nii.gz\n"
     ]
    },
    {
     "name": "stderr",
     "output_type": "stream",
     "text": [
      "Processing volumes for subject 30087:   2%|▏         | 4/164 [00:20<13:54,  5.22s/it]"
     ]
    },
    {
     "name": "stdout",
     "output_type": "stream",
     "text": [
      "Applying mask to /home/minyoungxi/MINYOUNGXI/XFL/Data/OASIS_MNI_to_TRs/volume_4.nii.gz\n",
      "Running FLIRT on /home/minyoungxi/MINYOUNGXI/XFL/Data/OASIS_MNI_to_TRs/masked_volume_4.nii.gz\n"
     ]
    },
    {
     "name": "stderr",
     "output_type": "stream",
     "text": [
      "Processing volumes for subject 30087:   3%|▎         | 5/164 [00:25<13:47,  5.20s/it]"
     ]
    },
    {
     "name": "stdout",
     "output_type": "stream",
     "text": [
      "Applying mask to /home/minyoungxi/MINYOUNGXI/XFL/Data/OASIS_MNI_to_TRs/volume_5.nii.gz\n",
      "Running FLIRT on /home/minyoungxi/MINYOUNGXI/XFL/Data/OASIS_MNI_to_TRs/masked_volume_5.nii.gz\n"
     ]
    },
    {
     "name": "stderr",
     "output_type": "stream",
     "text": [
      "Processing volumes for subject 30087:   4%|▎         | 6/164 [00:31<13:39,  5.19s/it]"
     ]
    },
    {
     "name": "stdout",
     "output_type": "stream",
     "text": [
      "Applying mask to /home/minyoungxi/MINYOUNGXI/XFL/Data/OASIS_MNI_to_TRs/volume_6.nii.gz\n",
      "Running FLIRT on /home/minyoungxi/MINYOUNGXI/XFL/Data/OASIS_MNI_to_TRs/masked_volume_6.nii.gz\n"
     ]
    },
    {
     "name": "stderr",
     "output_type": "stream",
     "text": [
      "Processing volumes for subject 30087:   4%|▍         | 7/164 [00:36<13:33,  5.18s/it]"
     ]
    },
    {
     "name": "stdout",
     "output_type": "stream",
     "text": [
      "Applying mask to /home/minyoungxi/MINYOUNGXI/XFL/Data/OASIS_MNI_to_TRs/volume_7.nii.gz\n",
      "Running FLIRT on /home/minyoungxi/MINYOUNGXI/XFL/Data/OASIS_MNI_to_TRs/masked_volume_7.nii.gz\n"
     ]
    },
    {
     "name": "stderr",
     "output_type": "stream",
     "text": [
      "Processing volumes for subject 30087:   5%|▍         | 8/164 [00:41<13:19,  5.13s/it]"
     ]
    },
    {
     "name": "stdout",
     "output_type": "stream",
     "text": [
      "Applying mask to /home/minyoungxi/MINYOUNGXI/XFL/Data/OASIS_MNI_to_TRs/volume_8.nii.gz\n",
      "Running FLIRT on /home/minyoungxi/MINYOUNGXI/XFL/Data/OASIS_MNI_to_TRs/masked_volume_8.nii.gz\n"
     ]
    },
    {
     "name": "stderr",
     "output_type": "stream",
     "text": [
      "Processing volumes for subject 30087:   5%|▌         | 9/164 [00:46<13:12,  5.11s/it]"
     ]
    },
    {
     "name": "stdout",
     "output_type": "stream",
     "text": [
      "Applying mask to /home/minyoungxi/MINYOUNGXI/XFL/Data/OASIS_MNI_to_TRs/volume_9.nii.gz\n",
      "Running FLIRT on /home/minyoungxi/MINYOUNGXI/XFL/Data/OASIS_MNI_to_TRs/masked_volume_9.nii.gz\n"
     ]
    },
    {
     "name": "stderr",
     "output_type": "stream",
     "text": [
      "Processing volumes for subject 30087:   6%|▌         | 10/164 [00:51<13:02,  5.08s/it]"
     ]
    },
    {
     "name": "stdout",
     "output_type": "stream",
     "text": [
      "Applying mask to /home/minyoungxi/MINYOUNGXI/XFL/Data/OASIS_MNI_to_TRs/volume_10.nii.gz\n",
      "Running FLIRT on /home/minyoungxi/MINYOUNGXI/XFL/Data/OASIS_MNI_to_TRs/masked_volume_10.nii.gz\n"
     ]
    },
    {
     "name": "stderr",
     "output_type": "stream",
     "text": [
      "Processing volumes for subject 30087:   7%|▋         | 11/164 [00:56<13:02,  5.11s/it]"
     ]
    },
    {
     "name": "stdout",
     "output_type": "stream",
     "text": [
      "Applying mask to /home/minyoungxi/MINYOUNGXI/XFL/Data/OASIS_MNI_to_TRs/volume_11.nii.gz\n",
      "Running FLIRT on /home/minyoungxi/MINYOUNGXI/XFL/Data/OASIS_MNI_to_TRs/masked_volume_11.nii.gz\n"
     ]
    },
    {
     "name": "stderr",
     "output_type": "stream",
     "text": [
      "Processing volumes for subject 30087:   7%|▋         | 12/164 [01:01<12:58,  5.12s/it]"
     ]
    },
    {
     "name": "stdout",
     "output_type": "stream",
     "text": [
      "Applying mask to /home/minyoungxi/MINYOUNGXI/XFL/Data/OASIS_MNI_to_TRs/volume_12.nii.gz\n",
      "Running FLIRT on /home/minyoungxi/MINYOUNGXI/XFL/Data/OASIS_MNI_to_TRs/masked_volume_12.nii.gz\n"
     ]
    },
    {
     "name": "stderr",
     "output_type": "stream",
     "text": [
      "Processing volumes for subject 30087:   8%|▊         | 13/164 [01:06<12:58,  5.15s/it]"
     ]
    },
    {
     "name": "stdout",
     "output_type": "stream",
     "text": [
      "Applying mask to /home/minyoungxi/MINYOUNGXI/XFL/Data/OASIS_MNI_to_TRs/volume_13.nii.gz\n",
      "Running FLIRT on /home/minyoungxi/MINYOUNGXI/XFL/Data/OASIS_MNI_to_TRs/masked_volume_13.nii.gz\n"
     ]
    },
    {
     "name": "stderr",
     "output_type": "stream",
     "text": [
      "Processing volumes for subject 30087:   9%|▊         | 14/164 [01:12<12:50,  5.14s/it]"
     ]
    },
    {
     "name": "stdout",
     "output_type": "stream",
     "text": [
      "Applying mask to /home/minyoungxi/MINYOUNGXI/XFL/Data/OASIS_MNI_to_TRs/volume_14.nii.gz\n",
      "Running FLIRT on /home/minyoungxi/MINYOUNGXI/XFL/Data/OASIS_MNI_to_TRs/masked_volume_14.nii.gz\n"
     ]
    },
    {
     "name": "stderr",
     "output_type": "stream",
     "text": [
      "Processing volumes for subject 30087:   9%|▉         | 15/164 [01:17<12:45,  5.14s/it]"
     ]
    },
    {
     "name": "stdout",
     "output_type": "stream",
     "text": [
      "Applying mask to /home/minyoungxi/MINYOUNGXI/XFL/Data/OASIS_MNI_to_TRs/volume_15.nii.gz\n",
      "Running FLIRT on /home/minyoungxi/MINYOUNGXI/XFL/Data/OASIS_MNI_to_TRs/masked_volume_15.nii.gz\n"
     ]
    },
    {
     "name": "stderr",
     "output_type": "stream",
     "text": [
      "Processing volumes for subject 30087:  10%|▉         | 16/164 [01:22<12:38,  5.12s/it]"
     ]
    },
    {
     "name": "stdout",
     "output_type": "stream",
     "text": [
      "Applying mask to /home/minyoungxi/MINYOUNGXI/XFL/Data/OASIS_MNI_to_TRs/volume_16.nii.gz\n",
      "Running FLIRT on /home/minyoungxi/MINYOUNGXI/XFL/Data/OASIS_MNI_to_TRs/masked_volume_16.nii.gz\n"
     ]
    },
    {
     "name": "stderr",
     "output_type": "stream",
     "text": [
      "Processing volumes for subject 30087:  10%|█         | 17/164 [01:27<12:32,  5.12s/it]"
     ]
    },
    {
     "name": "stdout",
     "output_type": "stream",
     "text": [
      "Applying mask to /home/minyoungxi/MINYOUNGXI/XFL/Data/OASIS_MNI_to_TRs/volume_17.nii.gz\n",
      "Running FLIRT on /home/minyoungxi/MINYOUNGXI/XFL/Data/OASIS_MNI_to_TRs/masked_volume_17.nii.gz\n"
     ]
    },
    {
     "name": "stderr",
     "output_type": "stream",
     "text": [
      "Processing volumes for subject 30087:  11%|█         | 18/164 [01:32<12:24,  5.10s/it]"
     ]
    },
    {
     "name": "stdout",
     "output_type": "stream",
     "text": [
      "Applying mask to /home/minyoungxi/MINYOUNGXI/XFL/Data/OASIS_MNI_to_TRs/volume_18.nii.gz\n",
      "Running FLIRT on /home/minyoungxi/MINYOUNGXI/XFL/Data/OASIS_MNI_to_TRs/masked_volume_18.nii.gz\n"
     ]
    },
    {
     "name": "stderr",
     "output_type": "stream",
     "text": [
      "Processing volumes for subject 30087:  12%|█▏        | 19/164 [01:37<12:19,  5.10s/it]"
     ]
    },
    {
     "name": "stdout",
     "output_type": "stream",
     "text": [
      "Applying mask to /home/minyoungxi/MINYOUNGXI/XFL/Data/OASIS_MNI_to_TRs/volume_19.nii.gz\n",
      "Running FLIRT on /home/minyoungxi/MINYOUNGXI/XFL/Data/OASIS_MNI_to_TRs/masked_volume_19.nii.gz\n"
     ]
    },
    {
     "name": "stderr",
     "output_type": "stream",
     "text": [
      "Processing volumes for subject 30087:  12%|█▏        | 20/164 [01:42<12:16,  5.12s/it]"
     ]
    },
    {
     "name": "stdout",
     "output_type": "stream",
     "text": [
      "Applying mask to /home/minyoungxi/MINYOUNGXI/XFL/Data/OASIS_MNI_to_TRs/volume_20.nii.gz\n",
      "Running FLIRT on /home/minyoungxi/MINYOUNGXI/XFL/Data/OASIS_MNI_to_TRs/masked_volume_20.nii.gz\n"
     ]
    },
    {
     "name": "stderr",
     "output_type": "stream",
     "text": [
      "Processing volumes for subject 30087:  13%|█▎        | 21/164 [01:47<12:07,  5.09s/it]"
     ]
    },
    {
     "name": "stdout",
     "output_type": "stream",
     "text": [
      "Applying mask to /home/minyoungxi/MINYOUNGXI/XFL/Data/OASIS_MNI_to_TRs/volume_21.nii.gz\n",
      "Running FLIRT on /home/minyoungxi/MINYOUNGXI/XFL/Data/OASIS_MNI_to_TRs/masked_volume_21.nii.gz\n"
     ]
    },
    {
     "name": "stderr",
     "output_type": "stream",
     "text": [
      "Processing volumes for subject 30087:  13%|█▎        | 22/164 [01:52<12:01,  5.08s/it]"
     ]
    },
    {
     "name": "stdout",
     "output_type": "stream",
     "text": [
      "Applying mask to /home/minyoungxi/MINYOUNGXI/XFL/Data/OASIS_MNI_to_TRs/volume_22.nii.gz\n",
      "Running FLIRT on /home/minyoungxi/MINYOUNGXI/XFL/Data/OASIS_MNI_to_TRs/masked_volume_22.nii.gz\n"
     ]
    },
    {
     "name": "stderr",
     "output_type": "stream",
     "text": [
      "Processing volumes for subject 30087:  14%|█▍        | 23/164 [01:57<11:57,  5.09s/it]"
     ]
    },
    {
     "name": "stdout",
     "output_type": "stream",
     "text": [
      "Applying mask to /home/minyoungxi/MINYOUNGXI/XFL/Data/OASIS_MNI_to_TRs/volume_23.nii.gz\n",
      "Running FLIRT on /home/minyoungxi/MINYOUNGXI/XFL/Data/OASIS_MNI_to_TRs/masked_volume_23.nii.gz\n"
     ]
    },
    {
     "name": "stderr",
     "output_type": "stream",
     "text": [
      "Processing volumes for subject 30087:  15%|█▍        | 24/164 [02:02<11:50,  5.08s/it]"
     ]
    },
    {
     "name": "stdout",
     "output_type": "stream",
     "text": [
      "Applying mask to /home/minyoungxi/MINYOUNGXI/XFL/Data/OASIS_MNI_to_TRs/volume_24.nii.gz\n",
      "Running FLIRT on /home/minyoungxi/MINYOUNGXI/XFL/Data/OASIS_MNI_to_TRs/masked_volume_24.nii.gz\n"
     ]
    },
    {
     "name": "stderr",
     "output_type": "stream",
     "text": [
      "Processing volumes for subject 30087:  15%|█▌        | 25/164 [02:08<11:46,  5.08s/it]"
     ]
    },
    {
     "name": "stdout",
     "output_type": "stream",
     "text": [
      "Applying mask to /home/minyoungxi/MINYOUNGXI/XFL/Data/OASIS_MNI_to_TRs/volume_25.nii.gz\n",
      "Running FLIRT on /home/minyoungxi/MINYOUNGXI/XFL/Data/OASIS_MNI_to_TRs/masked_volume_25.nii.gz\n"
     ]
    },
    {
     "name": "stderr",
     "output_type": "stream",
     "text": [
      "Processing volumes for subject 30087:  16%|█▌        | 26/164 [02:13<11:41,  5.09s/it]"
     ]
    },
    {
     "name": "stdout",
     "output_type": "stream",
     "text": [
      "Applying mask to /home/minyoungxi/MINYOUNGXI/XFL/Data/OASIS_MNI_to_TRs/volume_26.nii.gz\n",
      "Running FLIRT on /home/minyoungxi/MINYOUNGXI/XFL/Data/OASIS_MNI_to_TRs/masked_volume_26.nii.gz\n"
     ]
    },
    {
     "name": "stderr",
     "output_type": "stream",
     "text": [
      "Processing volumes for subject 30087:  16%|█▋        | 27/164 [02:18<11:33,  5.06s/it]"
     ]
    },
    {
     "name": "stdout",
     "output_type": "stream",
     "text": [
      "Applying mask to /home/minyoungxi/MINYOUNGXI/XFL/Data/OASIS_MNI_to_TRs/volume_27.nii.gz\n",
      "Running FLIRT on /home/minyoungxi/MINYOUNGXI/XFL/Data/OASIS_MNI_to_TRs/masked_volume_27.nii.gz\n"
     ]
    },
    {
     "name": "stderr",
     "output_type": "stream",
     "text": [
      "Processing volumes for subject 30087:  17%|█▋        | 28/164 [02:23<11:28,  5.06s/it]"
     ]
    },
    {
     "name": "stdout",
     "output_type": "stream",
     "text": [
      "Applying mask to /home/minyoungxi/MINYOUNGXI/XFL/Data/OASIS_MNI_to_TRs/volume_28.nii.gz\n",
      "Running FLIRT on /home/minyoungxi/MINYOUNGXI/XFL/Data/OASIS_MNI_to_TRs/masked_volume_28.nii.gz\n"
     ]
    },
    {
     "name": "stderr",
     "output_type": "stream",
     "text": [
      "Processing volumes for subject 30087:  18%|█▊        | 29/164 [02:28<11:27,  5.09s/it]"
     ]
    },
    {
     "name": "stdout",
     "output_type": "stream",
     "text": [
      "Applying mask to /home/minyoungxi/MINYOUNGXI/XFL/Data/OASIS_MNI_to_TRs/volume_29.nii.gz\n",
      "Running FLIRT on /home/minyoungxi/MINYOUNGXI/XFL/Data/OASIS_MNI_to_TRs/masked_volume_29.nii.gz\n"
     ]
    },
    {
     "name": "stderr",
     "output_type": "stream",
     "text": [
      "Processing volumes for subject 30087:  18%|█▊        | 30/164 [02:33<11:29,  5.14s/it]"
     ]
    },
    {
     "name": "stdout",
     "output_type": "stream",
     "text": [
      "Applying mask to /home/minyoungxi/MINYOUNGXI/XFL/Data/OASIS_MNI_to_TRs/volume_30.nii.gz\n",
      "Running FLIRT on /home/minyoungxi/MINYOUNGXI/XFL/Data/OASIS_MNI_to_TRs/masked_volume_30.nii.gz\n"
     ]
    },
    {
     "name": "stderr",
     "output_type": "stream",
     "text": [
      "Processing volumes for subject 30087:  19%|█▉        | 31/164 [02:38<11:27,  5.17s/it]"
     ]
    },
    {
     "name": "stdout",
     "output_type": "stream",
     "text": [
      "Applying mask to /home/minyoungxi/MINYOUNGXI/XFL/Data/OASIS_MNI_to_TRs/volume_31.nii.gz\n",
      "Running FLIRT on /home/minyoungxi/MINYOUNGXI/XFL/Data/OASIS_MNI_to_TRs/masked_volume_31.nii.gz\n"
     ]
    },
    {
     "name": "stderr",
     "output_type": "stream",
     "text": [
      "Processing volumes for subject 30087:  20%|█▉        | 32/164 [02:44<11:26,  5.20s/it]"
     ]
    },
    {
     "name": "stdout",
     "output_type": "stream",
     "text": [
      "Applying mask to /home/minyoungxi/MINYOUNGXI/XFL/Data/OASIS_MNI_to_TRs/volume_32.nii.gz\n",
      "Running FLIRT on /home/minyoungxi/MINYOUNGXI/XFL/Data/OASIS_MNI_to_TRs/masked_volume_32.nii.gz\n"
     ]
    },
    {
     "name": "stderr",
     "output_type": "stream",
     "text": [
      "Processing volumes for subject 30087:  20%|██        | 33/164 [02:49<11:22,  5.21s/it]"
     ]
    },
    {
     "name": "stdout",
     "output_type": "stream",
     "text": [
      "Applying mask to /home/minyoungxi/MINYOUNGXI/XFL/Data/OASIS_MNI_to_TRs/volume_33.nii.gz\n",
      "Running FLIRT on /home/minyoungxi/MINYOUNGXI/XFL/Data/OASIS_MNI_to_TRs/masked_volume_33.nii.gz\n"
     ]
    },
    {
     "name": "stderr",
     "output_type": "stream",
     "text": [
      "Processing volumes for subject 30087:  21%|██        | 34/164 [02:54<11:20,  5.24s/it]"
     ]
    },
    {
     "name": "stdout",
     "output_type": "stream",
     "text": [
      "Applying mask to /home/minyoungxi/MINYOUNGXI/XFL/Data/OASIS_MNI_to_TRs/volume_34.nii.gz\n",
      "Running FLIRT on /home/minyoungxi/MINYOUNGXI/XFL/Data/OASIS_MNI_to_TRs/masked_volume_34.nii.gz\n"
     ]
    },
    {
     "name": "stderr",
     "output_type": "stream",
     "text": [
      "Processing volumes for subject 30087:  21%|██▏       | 35/164 [02:59<11:16,  5.24s/it]"
     ]
    },
    {
     "name": "stdout",
     "output_type": "stream",
     "text": [
      "Applying mask to /home/minyoungxi/MINYOUNGXI/XFL/Data/OASIS_MNI_to_TRs/volume_35.nii.gz\n",
      "Running FLIRT on /home/minyoungxi/MINYOUNGXI/XFL/Data/OASIS_MNI_to_TRs/masked_volume_35.nii.gz\n"
     ]
    },
    {
     "name": "stderr",
     "output_type": "stream",
     "text": [
      "Processing volumes for subject 30087:  22%|██▏       | 36/164 [03:05<11:11,  5.25s/it]"
     ]
    },
    {
     "name": "stdout",
     "output_type": "stream",
     "text": [
      "Applying mask to /home/minyoungxi/MINYOUNGXI/XFL/Data/OASIS_MNI_to_TRs/volume_36.nii.gz\n",
      "Running FLIRT on /home/minyoungxi/MINYOUNGXI/XFL/Data/OASIS_MNI_to_TRs/masked_volume_36.nii.gz\n"
     ]
    },
    {
     "name": "stderr",
     "output_type": "stream",
     "text": [
      "Processing volumes for subject 30087:  23%|██▎       | 37/164 [03:10<11:07,  5.26s/it]"
     ]
    },
    {
     "name": "stdout",
     "output_type": "stream",
     "text": [
      "Applying mask to /home/minyoungxi/MINYOUNGXI/XFL/Data/OASIS_MNI_to_TRs/volume_37.nii.gz\n",
      "Running FLIRT on /home/minyoungxi/MINYOUNGXI/XFL/Data/OASIS_MNI_to_TRs/masked_volume_37.nii.gz\n"
     ]
    },
    {
     "name": "stderr",
     "output_type": "stream",
     "text": [
      "Processing volumes for subject 30087:  23%|██▎       | 38/164 [03:15<11:06,  5.29s/it]"
     ]
    },
    {
     "name": "stdout",
     "output_type": "stream",
     "text": [
      "Applying mask to /home/minyoungxi/MINYOUNGXI/XFL/Data/OASIS_MNI_to_TRs/volume_38.nii.gz\n",
      "Running FLIRT on /home/minyoungxi/MINYOUNGXI/XFL/Data/OASIS_MNI_to_TRs/masked_volume_38.nii.gz\n"
     ]
    },
    {
     "name": "stderr",
     "output_type": "stream",
     "text": [
      "Processing volumes for subject 30087:  24%|██▍       | 39/164 [03:21<11:01,  5.29s/it]"
     ]
    },
    {
     "name": "stdout",
     "output_type": "stream",
     "text": [
      "Applying mask to /home/minyoungxi/MINYOUNGXI/XFL/Data/OASIS_MNI_to_TRs/volume_39.nii.gz\n",
      "Running FLIRT on /home/minyoungxi/MINYOUNGXI/XFL/Data/OASIS_MNI_to_TRs/masked_volume_39.nii.gz\n"
     ]
    },
    {
     "name": "stderr",
     "output_type": "stream",
     "text": [
      "Processing volumes for subject 30087:  24%|██▍       | 40/164 [03:26<10:52,  5.26s/it]"
     ]
    },
    {
     "name": "stdout",
     "output_type": "stream",
     "text": [
      "Applying mask to /home/minyoungxi/MINYOUNGXI/XFL/Data/OASIS_MNI_to_TRs/volume_40.nii.gz\n",
      "Running FLIRT on /home/minyoungxi/MINYOUNGXI/XFL/Data/OASIS_MNI_to_TRs/masked_volume_40.nii.gz\n"
     ]
    },
    {
     "name": "stderr",
     "output_type": "stream",
     "text": [
      "Processing volumes for subject 30087:  25%|██▌       | 41/164 [03:31<10:42,  5.22s/it]"
     ]
    },
    {
     "name": "stdout",
     "output_type": "stream",
     "text": [
      "Applying mask to /home/minyoungxi/MINYOUNGXI/XFL/Data/OASIS_MNI_to_TRs/volume_41.nii.gz\n",
      "Running FLIRT on /home/minyoungxi/MINYOUNGXI/XFL/Data/OASIS_MNI_to_TRs/masked_volume_41.nii.gz\n"
     ]
    },
    {
     "name": "stderr",
     "output_type": "stream",
     "text": [
      "Processing volumes for subject 30087:  26%|██▌       | 42/164 [03:36<10:34,  5.20s/it]"
     ]
    },
    {
     "name": "stdout",
     "output_type": "stream",
     "text": [
      "Applying mask to /home/minyoungxi/MINYOUNGXI/XFL/Data/OASIS_MNI_to_TRs/volume_42.nii.gz\n",
      "Running FLIRT on /home/minyoungxi/MINYOUNGXI/XFL/Data/OASIS_MNI_to_TRs/masked_volume_42.nii.gz\n"
     ]
    },
    {
     "name": "stderr",
     "output_type": "stream",
     "text": [
      "Processing volumes for subject 30087:  26%|██▌       | 43/164 [03:41<10:29,  5.20s/it]"
     ]
    },
    {
     "name": "stdout",
     "output_type": "stream",
     "text": [
      "Applying mask to /home/minyoungxi/MINYOUNGXI/XFL/Data/OASIS_MNI_to_TRs/volume_43.nii.gz\n",
      "Running FLIRT on /home/minyoungxi/MINYOUNGXI/XFL/Data/OASIS_MNI_to_TRs/masked_volume_43.nii.gz\n"
     ]
    },
    {
     "name": "stderr",
     "output_type": "stream",
     "text": [
      "Processing volumes for subject 30087:  27%|██▋       | 44/164 [03:47<10:24,  5.21s/it]"
     ]
    },
    {
     "name": "stdout",
     "output_type": "stream",
     "text": [
      "Applying mask to /home/minyoungxi/MINYOUNGXI/XFL/Data/OASIS_MNI_to_TRs/volume_44.nii.gz\n",
      "Running FLIRT on /home/minyoungxi/MINYOUNGXI/XFL/Data/OASIS_MNI_to_TRs/masked_volume_44.nii.gz\n"
     ]
    },
    {
     "name": "stderr",
     "output_type": "stream",
     "text": [
      "Processing volumes for subject 30087:  27%|██▋       | 45/164 [03:52<10:19,  5.21s/it]"
     ]
    },
    {
     "name": "stdout",
     "output_type": "stream",
     "text": [
      "Applying mask to /home/minyoungxi/MINYOUNGXI/XFL/Data/OASIS_MNI_to_TRs/volume_45.nii.gz\n",
      "Running FLIRT on /home/minyoungxi/MINYOUNGXI/XFL/Data/OASIS_MNI_to_TRs/masked_volume_45.nii.gz\n"
     ]
    },
    {
     "name": "stderr",
     "output_type": "stream",
     "text": [
      "Processing volumes for subject 30087:  28%|██▊       | 46/164 [03:57<10:13,  5.20s/it]"
     ]
    },
    {
     "name": "stdout",
     "output_type": "stream",
     "text": [
      "Applying mask to /home/minyoungxi/MINYOUNGXI/XFL/Data/OASIS_MNI_to_TRs/volume_46.nii.gz\n",
      "Running FLIRT on /home/minyoungxi/MINYOUNGXI/XFL/Data/OASIS_MNI_to_TRs/masked_volume_46.nii.gz\n"
     ]
    },
    {
     "name": "stderr",
     "output_type": "stream",
     "text": [
      "Processing volumes for subject 30087:  29%|██▊       | 47/164 [04:02<10:07,  5.19s/it]"
     ]
    },
    {
     "name": "stdout",
     "output_type": "stream",
     "text": [
      "Applying mask to /home/minyoungxi/MINYOUNGXI/XFL/Data/OASIS_MNI_to_TRs/volume_47.nii.gz\n",
      "Running FLIRT on /home/minyoungxi/MINYOUNGXI/XFL/Data/OASIS_MNI_to_TRs/masked_volume_47.nii.gz\n"
     ]
    },
    {
     "name": "stderr",
     "output_type": "stream",
     "text": [
      "Processing volumes for subject 30087:  29%|██▉       | 48/164 [04:07<09:58,  5.16s/it]"
     ]
    },
    {
     "name": "stdout",
     "output_type": "stream",
     "text": [
      "Applying mask to /home/minyoungxi/MINYOUNGXI/XFL/Data/OASIS_MNI_to_TRs/volume_48.nii.gz\n",
      "Running FLIRT on /home/minyoungxi/MINYOUNGXI/XFL/Data/OASIS_MNI_to_TRs/masked_volume_48.nii.gz\n"
     ]
    },
    {
     "name": "stderr",
     "output_type": "stream",
     "text": [
      "Processing volumes for subject 30087:  30%|██▉       | 49/164 [04:12<09:54,  5.17s/it]"
     ]
    },
    {
     "name": "stdout",
     "output_type": "stream",
     "text": [
      "Applying mask to /home/minyoungxi/MINYOUNGXI/XFL/Data/OASIS_MNI_to_TRs/volume_49.nii.gz\n",
      "Running FLIRT on /home/minyoungxi/MINYOUNGXI/XFL/Data/OASIS_MNI_to_TRs/masked_volume_49.nii.gz\n"
     ]
    },
    {
     "name": "stderr",
     "output_type": "stream",
     "text": [
      "Processing volumes for subject 30087:  30%|███       | 50/164 [04:18<09:53,  5.20s/it]"
     ]
    },
    {
     "name": "stdout",
     "output_type": "stream",
     "text": [
      "Applying mask to /home/minyoungxi/MINYOUNGXI/XFL/Data/OASIS_MNI_to_TRs/volume_50.nii.gz\n",
      "Running FLIRT on /home/minyoungxi/MINYOUNGXI/XFL/Data/OASIS_MNI_to_TRs/masked_volume_50.nii.gz\n"
     ]
    },
    {
     "name": "stderr",
     "output_type": "stream",
     "text": [
      "Processing volumes for subject 30087:  31%|███       | 51/164 [04:23<09:47,  5.20s/it]"
     ]
    },
    {
     "name": "stdout",
     "output_type": "stream",
     "text": [
      "Applying mask to /home/minyoungxi/MINYOUNGXI/XFL/Data/OASIS_MNI_to_TRs/volume_51.nii.gz\n",
      "Running FLIRT on /home/minyoungxi/MINYOUNGXI/XFL/Data/OASIS_MNI_to_TRs/masked_volume_51.nii.gz\n"
     ]
    },
    {
     "name": "stderr",
     "output_type": "stream",
     "text": [
      "Processing volumes for subject 30087:  32%|███▏      | 52/164 [04:28<09:41,  5.19s/it]"
     ]
    },
    {
     "name": "stdout",
     "output_type": "stream",
     "text": [
      "Applying mask to /home/minyoungxi/MINYOUNGXI/XFL/Data/OASIS_MNI_to_TRs/volume_52.nii.gz\n",
      "Running FLIRT on /home/minyoungxi/MINYOUNGXI/XFL/Data/OASIS_MNI_to_TRs/masked_volume_52.nii.gz\n"
     ]
    },
    {
     "name": "stderr",
     "output_type": "stream",
     "text": [
      "Processing volumes for subject 30087:  32%|███▏      | 53/164 [04:33<09:35,  5.18s/it]"
     ]
    },
    {
     "name": "stdout",
     "output_type": "stream",
     "text": [
      "Applying mask to /home/minyoungxi/MINYOUNGXI/XFL/Data/OASIS_MNI_to_TRs/volume_53.nii.gz\n",
      "Running FLIRT on /home/minyoungxi/MINYOUNGXI/XFL/Data/OASIS_MNI_to_TRs/masked_volume_53.nii.gz\n"
     ]
    },
    {
     "name": "stderr",
     "output_type": "stream",
     "text": [
      "Processing volumes for subject 30087:  33%|███▎      | 54/164 [04:38<09:29,  5.18s/it]"
     ]
    },
    {
     "name": "stdout",
     "output_type": "stream",
     "text": [
      "Applying mask to /home/minyoungxi/MINYOUNGXI/XFL/Data/OASIS_MNI_to_TRs/volume_54.nii.gz\n",
      "Running FLIRT on /home/minyoungxi/MINYOUNGXI/XFL/Data/OASIS_MNI_to_TRs/masked_volume_54.nii.gz\n"
     ]
    },
    {
     "name": "stderr",
     "output_type": "stream",
     "text": [
      "Processing volumes for subject 30087:  34%|███▎      | 55/164 [04:43<09:22,  5.16s/it]"
     ]
    },
    {
     "name": "stdout",
     "output_type": "stream",
     "text": [
      "Applying mask to /home/minyoungxi/MINYOUNGXI/XFL/Data/OASIS_MNI_to_TRs/volume_55.nii.gz\n",
      "Running FLIRT on /home/minyoungxi/MINYOUNGXI/XFL/Data/OASIS_MNI_to_TRs/masked_volume_55.nii.gz\n"
     ]
    },
    {
     "name": "stderr",
     "output_type": "stream",
     "text": [
      "Processing volumes for subject 30087:  34%|███▍      | 56/164 [04:49<09:15,  5.14s/it]"
     ]
    },
    {
     "name": "stdout",
     "output_type": "stream",
     "text": [
      "Applying mask to /home/minyoungxi/MINYOUNGXI/XFL/Data/OASIS_MNI_to_TRs/volume_56.nii.gz\n",
      "Running FLIRT on /home/minyoungxi/MINYOUNGXI/XFL/Data/OASIS_MNI_to_TRs/masked_volume_56.nii.gz\n"
     ]
    },
    {
     "name": "stderr",
     "output_type": "stream",
     "text": [
      "Processing volumes for subject 30087:  35%|███▍      | 57/164 [04:54<09:10,  5.15s/it]"
     ]
    },
    {
     "name": "stdout",
     "output_type": "stream",
     "text": [
      "Applying mask to /home/minyoungxi/MINYOUNGXI/XFL/Data/OASIS_MNI_to_TRs/volume_57.nii.gz\n",
      "Running FLIRT on /home/minyoungxi/MINYOUNGXI/XFL/Data/OASIS_MNI_to_TRs/masked_volume_57.nii.gz\n"
     ]
    },
    {
     "name": "stderr",
     "output_type": "stream",
     "text": [
      "Processing volumes for subject 30087:  35%|███▌      | 58/164 [04:59<09:03,  5.13s/it]"
     ]
    },
    {
     "name": "stdout",
     "output_type": "stream",
     "text": [
      "Applying mask to /home/minyoungxi/MINYOUNGXI/XFL/Data/OASIS_MNI_to_TRs/volume_58.nii.gz\n",
      "Running FLIRT on /home/minyoungxi/MINYOUNGXI/XFL/Data/OASIS_MNI_to_TRs/masked_volume_58.nii.gz\n"
     ]
    },
    {
     "name": "stderr",
     "output_type": "stream",
     "text": [
      "Processing volumes for subject 30087:  36%|███▌      | 59/164 [05:04<08:59,  5.13s/it]"
     ]
    },
    {
     "name": "stdout",
     "output_type": "stream",
     "text": [
      "Applying mask to /home/minyoungxi/MINYOUNGXI/XFL/Data/OASIS_MNI_to_TRs/volume_59.nii.gz\n",
      "Running FLIRT on /home/minyoungxi/MINYOUNGXI/XFL/Data/OASIS_MNI_to_TRs/masked_volume_59.nii.gz\n"
     ]
    },
    {
     "name": "stderr",
     "output_type": "stream",
     "text": [
      "Processing volumes for subject 30087:  37%|███▋      | 60/164 [05:09<08:56,  5.16s/it]"
     ]
    },
    {
     "name": "stdout",
     "output_type": "stream",
     "text": [
      "Applying mask to /home/minyoungxi/MINYOUNGXI/XFL/Data/OASIS_MNI_to_TRs/volume_60.nii.gz\n",
      "Running FLIRT on /home/minyoungxi/MINYOUNGXI/XFL/Data/OASIS_MNI_to_TRs/masked_volume_60.nii.gz\n"
     ]
    },
    {
     "name": "stderr",
     "output_type": "stream",
     "text": [
      "Processing volumes for subject 30087:  37%|███▋      | 61/164 [05:14<08:51,  5.16s/it]"
     ]
    },
    {
     "name": "stdout",
     "output_type": "stream",
     "text": [
      "Applying mask to /home/minyoungxi/MINYOUNGXI/XFL/Data/OASIS_MNI_to_TRs/volume_61.nii.gz\n",
      "Running FLIRT on /home/minyoungxi/MINYOUNGXI/XFL/Data/OASIS_MNI_to_TRs/masked_volume_61.nii.gz\n"
     ]
    },
    {
     "name": "stderr",
     "output_type": "stream",
     "text": [
      "Processing volumes for subject 30087:  38%|███▊      | 62/164 [05:20<08:46,  5.16s/it]"
     ]
    },
    {
     "name": "stdout",
     "output_type": "stream",
     "text": [
      "Applying mask to /home/minyoungxi/MINYOUNGXI/XFL/Data/OASIS_MNI_to_TRs/volume_62.nii.gz\n",
      "Running FLIRT on /home/minyoungxi/MINYOUNGXI/XFL/Data/OASIS_MNI_to_TRs/masked_volume_62.nii.gz\n"
     ]
    },
    {
     "name": "stderr",
     "output_type": "stream",
     "text": [
      "Processing volumes for subject 30087:  38%|███▊      | 63/164 [05:25<08:41,  5.16s/it]"
     ]
    },
    {
     "name": "stdout",
     "output_type": "stream",
     "text": [
      "Applying mask to /home/minyoungxi/MINYOUNGXI/XFL/Data/OASIS_MNI_to_TRs/volume_63.nii.gz\n",
      "Running FLIRT on /home/minyoungxi/MINYOUNGXI/XFL/Data/OASIS_MNI_to_TRs/masked_volume_63.nii.gz\n"
     ]
    },
    {
     "name": "stderr",
     "output_type": "stream",
     "text": [
      "Processing volumes for subject 30087:  39%|███▉      | 64/164 [05:30<08:38,  5.19s/it]"
     ]
    },
    {
     "name": "stdout",
     "output_type": "stream",
     "text": [
      "Applying mask to /home/minyoungxi/MINYOUNGXI/XFL/Data/OASIS_MNI_to_TRs/volume_64.nii.gz\n",
      "Running FLIRT on /home/minyoungxi/MINYOUNGXI/XFL/Data/OASIS_MNI_to_TRs/masked_volume_64.nii.gz\n"
     ]
    },
    {
     "name": "stderr",
     "output_type": "stream",
     "text": [
      "Processing volumes for subject 30087:  40%|███▉      | 65/164 [05:35<08:33,  5.19s/it]"
     ]
    },
    {
     "name": "stdout",
     "output_type": "stream",
     "text": [
      "Applying mask to /home/minyoungxi/MINYOUNGXI/XFL/Data/OASIS_MNI_to_TRs/volume_65.nii.gz\n",
      "Running FLIRT on /home/minyoungxi/MINYOUNGXI/XFL/Data/OASIS_MNI_to_TRs/masked_volume_65.nii.gz\n"
     ]
    },
    {
     "name": "stderr",
     "output_type": "stream",
     "text": [
      "Processing volumes for subject 30087:  40%|████      | 66/164 [05:40<08:30,  5.21s/it]"
     ]
    },
    {
     "name": "stdout",
     "output_type": "stream",
     "text": [
      "Applying mask to /home/minyoungxi/MINYOUNGXI/XFL/Data/OASIS_MNI_to_TRs/volume_66.nii.gz\n",
      "Running FLIRT on /home/minyoungxi/MINYOUNGXI/XFL/Data/OASIS_MNI_to_TRs/masked_volume_66.nii.gz\n"
     ]
    },
    {
     "name": "stderr",
     "output_type": "stream",
     "text": [
      "Processing volumes for subject 30087:  41%|████      | 67/164 [05:46<08:24,  5.20s/it]"
     ]
    },
    {
     "name": "stdout",
     "output_type": "stream",
     "text": [
      "Applying mask to /home/minyoungxi/MINYOUNGXI/XFL/Data/OASIS_MNI_to_TRs/volume_67.nii.gz\n",
      "Running FLIRT on /home/minyoungxi/MINYOUNGXI/XFL/Data/OASIS_MNI_to_TRs/masked_volume_67.nii.gz\n"
     ]
    },
    {
     "name": "stderr",
     "output_type": "stream",
     "text": [
      "Processing volumes for subject 30087:  41%|████▏     | 68/164 [05:51<08:18,  5.19s/it]"
     ]
    },
    {
     "name": "stdout",
     "output_type": "stream",
     "text": [
      "Applying mask to /home/minyoungxi/MINYOUNGXI/XFL/Data/OASIS_MNI_to_TRs/volume_68.nii.gz\n",
      "Running FLIRT on /home/minyoungxi/MINYOUNGXI/XFL/Data/OASIS_MNI_to_TRs/masked_volume_68.nii.gz\n"
     ]
    },
    {
     "name": "stderr",
     "output_type": "stream",
     "text": [
      "Processing volumes for subject 30087:  42%|████▏     | 69/164 [05:56<08:11,  5.18s/it]"
     ]
    },
    {
     "name": "stdout",
     "output_type": "stream",
     "text": [
      "Applying mask to /home/minyoungxi/MINYOUNGXI/XFL/Data/OASIS_MNI_to_TRs/volume_69.nii.gz\n",
      "Running FLIRT on /home/minyoungxi/MINYOUNGXI/XFL/Data/OASIS_MNI_to_TRs/masked_volume_69.nii.gz\n"
     ]
    },
    {
     "name": "stderr",
     "output_type": "stream",
     "text": [
      "Processing volumes for subject 30087:  43%|████▎     | 70/164 [06:01<08:08,  5.20s/it]"
     ]
    },
    {
     "name": "stdout",
     "output_type": "stream",
     "text": [
      "Applying mask to /home/minyoungxi/MINYOUNGXI/XFL/Data/OASIS_MNI_to_TRs/volume_70.nii.gz\n",
      "Running FLIRT on /home/minyoungxi/MINYOUNGXI/XFL/Data/OASIS_MNI_to_TRs/masked_volume_70.nii.gz\n"
     ]
    },
    {
     "name": "stderr",
     "output_type": "stream",
     "text": [
      "Processing volumes for subject 30087:  43%|████▎     | 71/164 [06:06<08:02,  5.18s/it]"
     ]
    },
    {
     "name": "stdout",
     "output_type": "stream",
     "text": [
      "Applying mask to /home/minyoungxi/MINYOUNGXI/XFL/Data/OASIS_MNI_to_TRs/volume_71.nii.gz\n",
      "Running FLIRT on /home/minyoungxi/MINYOUNGXI/XFL/Data/OASIS_MNI_to_TRs/masked_volume_71.nii.gz\n"
     ]
    },
    {
     "name": "stderr",
     "output_type": "stream",
     "text": [
      "Processing volumes for subject 30087:  44%|████▍     | 72/164 [06:11<07:54,  5.15s/it]"
     ]
    },
    {
     "name": "stdout",
     "output_type": "stream",
     "text": [
      "Applying mask to /home/minyoungxi/MINYOUNGXI/XFL/Data/OASIS_MNI_to_TRs/volume_72.nii.gz\n",
      "Running FLIRT on /home/minyoungxi/MINYOUNGXI/XFL/Data/OASIS_MNI_to_TRs/masked_volume_72.nii.gz\n"
     ]
    },
    {
     "name": "stderr",
     "output_type": "stream",
     "text": [
      "Processing volumes for subject 30087:  45%|████▍     | 73/164 [06:16<07:47,  5.13s/it]"
     ]
    },
    {
     "name": "stdout",
     "output_type": "stream",
     "text": [
      "Applying mask to /home/minyoungxi/MINYOUNGXI/XFL/Data/OASIS_MNI_to_TRs/volume_73.nii.gz\n",
      "Running FLIRT on /home/minyoungxi/MINYOUNGXI/XFL/Data/OASIS_MNI_to_TRs/masked_volume_73.nii.gz\n"
     ]
    },
    {
     "name": "stderr",
     "output_type": "stream",
     "text": [
      "Processing volumes for subject 30087:  45%|████▌     | 74/164 [06:22<07:43,  5.15s/it]"
     ]
    },
    {
     "name": "stdout",
     "output_type": "stream",
     "text": [
      "Applying mask to /home/minyoungxi/MINYOUNGXI/XFL/Data/OASIS_MNI_to_TRs/volume_74.nii.gz\n",
      "Running FLIRT on /home/minyoungxi/MINYOUNGXI/XFL/Data/OASIS_MNI_to_TRs/masked_volume_74.nii.gz\n"
     ]
    },
    {
     "name": "stderr",
     "output_type": "stream",
     "text": [
      "Processing volumes for subject 30087:  46%|████▌     | 75/164 [06:27<07:34,  5.11s/it]"
     ]
    },
    {
     "name": "stdout",
     "output_type": "stream",
     "text": [
      "Applying mask to /home/minyoungxi/MINYOUNGXI/XFL/Data/OASIS_MNI_to_TRs/volume_75.nii.gz\n",
      "Running FLIRT on /home/minyoungxi/MINYOUNGXI/XFL/Data/OASIS_MNI_to_TRs/masked_volume_75.nii.gz\n"
     ]
    },
    {
     "name": "stderr",
     "output_type": "stream",
     "text": [
      "Processing volumes for subject 30087:  46%|████▋     | 76/164 [06:32<07:27,  5.08s/it]"
     ]
    },
    {
     "name": "stdout",
     "output_type": "stream",
     "text": [
      "Applying mask to /home/minyoungxi/MINYOUNGXI/XFL/Data/OASIS_MNI_to_TRs/volume_76.nii.gz\n",
      "Running FLIRT on /home/minyoungxi/MINYOUNGXI/XFL/Data/OASIS_MNI_to_TRs/masked_volume_76.nii.gz\n"
     ]
    },
    {
     "name": "stderr",
     "output_type": "stream",
     "text": [
      "Processing volumes for subject 30087:  47%|████▋     | 77/164 [06:37<07:18,  5.04s/it]"
     ]
    },
    {
     "name": "stdout",
     "output_type": "stream",
     "text": [
      "Applying mask to /home/minyoungxi/MINYOUNGXI/XFL/Data/OASIS_MNI_to_TRs/volume_77.nii.gz\n",
      "Running FLIRT on /home/minyoungxi/MINYOUNGXI/XFL/Data/OASIS_MNI_to_TRs/masked_volume_77.nii.gz\n"
     ]
    },
    {
     "name": "stderr",
     "output_type": "stream",
     "text": [
      "Processing volumes for subject 30087:  48%|████▊     | 78/164 [06:42<07:14,  5.05s/it]"
     ]
    },
    {
     "name": "stdout",
     "output_type": "stream",
     "text": [
      "Applying mask to /home/minyoungxi/MINYOUNGXI/XFL/Data/OASIS_MNI_to_TRs/volume_78.nii.gz\n",
      "Running FLIRT on /home/minyoungxi/MINYOUNGXI/XFL/Data/OASIS_MNI_to_TRs/masked_volume_78.nii.gz\n"
     ]
    },
    {
     "name": "stderr",
     "output_type": "stream",
     "text": [
      "Processing volumes for subject 30087:  48%|████▊     | 79/164 [06:47<07:09,  5.06s/it]"
     ]
    },
    {
     "name": "stdout",
     "output_type": "stream",
     "text": [
      "Applying mask to /home/minyoungxi/MINYOUNGXI/XFL/Data/OASIS_MNI_to_TRs/volume_79.nii.gz\n",
      "Running FLIRT on /home/minyoungxi/MINYOUNGXI/XFL/Data/OASIS_MNI_to_TRs/masked_volume_79.nii.gz\n"
     ]
    },
    {
     "name": "stderr",
     "output_type": "stream",
     "text": [
      "Processing volumes for subject 30087:  49%|████▉     | 80/164 [06:52<07:05,  5.06s/it]"
     ]
    },
    {
     "name": "stdout",
     "output_type": "stream",
     "text": [
      "Applying mask to /home/minyoungxi/MINYOUNGXI/XFL/Data/OASIS_MNI_to_TRs/volume_80.nii.gz\n",
      "Running FLIRT on /home/minyoungxi/MINYOUNGXI/XFL/Data/OASIS_MNI_to_TRs/masked_volume_80.nii.gz\n"
     ]
    },
    {
     "name": "stderr",
     "output_type": "stream",
     "text": [
      "Processing volumes for subject 30087:  49%|████▉     | 81/164 [06:57<07:00,  5.06s/it]"
     ]
    },
    {
     "name": "stdout",
     "output_type": "stream",
     "text": [
      "Applying mask to /home/minyoungxi/MINYOUNGXI/XFL/Data/OASIS_MNI_to_TRs/volume_81.nii.gz\n",
      "Running FLIRT on /home/minyoungxi/MINYOUNGXI/XFL/Data/OASIS_MNI_to_TRs/masked_volume_81.nii.gz\n"
     ]
    },
    {
     "name": "stderr",
     "output_type": "stream",
     "text": [
      "Processing volumes for subject 30087:  50%|█████     | 82/164 [07:02<06:55,  5.06s/it]"
     ]
    },
    {
     "name": "stdout",
     "output_type": "stream",
     "text": [
      "Applying mask to /home/minyoungxi/MINYOUNGXI/XFL/Data/OASIS_MNI_to_TRs/volume_82.nii.gz\n",
      "Running FLIRT on /home/minyoungxi/MINYOUNGXI/XFL/Data/OASIS_MNI_to_TRs/masked_volume_82.nii.gz\n"
     ]
    },
    {
     "name": "stderr",
     "output_type": "stream",
     "text": [
      "Processing volumes for subject 30087:  51%|█████     | 83/164 [07:07<06:49,  5.06s/it]"
     ]
    },
    {
     "name": "stdout",
     "output_type": "stream",
     "text": [
      "Applying mask to /home/minyoungxi/MINYOUNGXI/XFL/Data/OASIS_MNI_to_TRs/volume_83.nii.gz\n",
      "Running FLIRT on /home/minyoungxi/MINYOUNGXI/XFL/Data/OASIS_MNI_to_TRs/masked_volume_83.nii.gz\n"
     ]
    },
    {
     "name": "stderr",
     "output_type": "stream",
     "text": [
      "Processing volumes for subject 30087:  51%|█████     | 84/164 [07:12<06:44,  5.06s/it]"
     ]
    },
    {
     "name": "stdout",
     "output_type": "stream",
     "text": [
      "Applying mask to /home/minyoungxi/MINYOUNGXI/XFL/Data/OASIS_MNI_to_TRs/volume_84.nii.gz\n",
      "Running FLIRT on /home/minyoungxi/MINYOUNGXI/XFL/Data/OASIS_MNI_to_TRs/masked_volume_84.nii.gz\n"
     ]
    },
    {
     "name": "stderr",
     "output_type": "stream",
     "text": [
      "Processing volumes for subject 30087:  52%|█████▏    | 85/164 [07:17<06:41,  5.08s/it]"
     ]
    },
    {
     "name": "stdout",
     "output_type": "stream",
     "text": [
      "Applying mask to /home/minyoungxi/MINYOUNGXI/XFL/Data/OASIS_MNI_to_TRs/volume_85.nii.gz\n",
      "Running FLIRT on /home/minyoungxi/MINYOUNGXI/XFL/Data/OASIS_MNI_to_TRs/masked_volume_85.nii.gz\n"
     ]
    },
    {
     "name": "stderr",
     "output_type": "stream",
     "text": [
      "Processing volumes for subject 30087:  52%|█████▏    | 86/164 [07:22<06:36,  5.09s/it]"
     ]
    },
    {
     "name": "stdout",
     "output_type": "stream",
     "text": [
      "Applying mask to /home/minyoungxi/MINYOUNGXI/XFL/Data/OASIS_MNI_to_TRs/volume_86.nii.gz\n",
      "Running FLIRT on /home/minyoungxi/MINYOUNGXI/XFL/Data/OASIS_MNI_to_TRs/masked_volume_86.nii.gz\n"
     ]
    },
    {
     "name": "stderr",
     "output_type": "stream",
     "text": [
      "Processing volumes for subject 30087:  53%|█████▎    | 87/164 [07:27<06:29,  5.06s/it]"
     ]
    },
    {
     "name": "stdout",
     "output_type": "stream",
     "text": [
      "Applying mask to /home/minyoungxi/MINYOUNGXI/XFL/Data/OASIS_MNI_to_TRs/volume_87.nii.gz\n",
      "Running FLIRT on /home/minyoungxi/MINYOUNGXI/XFL/Data/OASIS_MNI_to_TRs/masked_volume_87.nii.gz\n"
     ]
    },
    {
     "name": "stderr",
     "output_type": "stream",
     "text": [
      "Processing volumes for subject 30087:  54%|█████▎    | 88/164 [07:32<06:24,  5.05s/it]"
     ]
    },
    {
     "name": "stdout",
     "output_type": "stream",
     "text": [
      "Applying mask to /home/minyoungxi/MINYOUNGXI/XFL/Data/OASIS_MNI_to_TRs/volume_88.nii.gz\n",
      "Running FLIRT on /home/minyoungxi/MINYOUNGXI/XFL/Data/OASIS_MNI_to_TRs/masked_volume_88.nii.gz\n"
     ]
    },
    {
     "name": "stderr",
     "output_type": "stream",
     "text": [
      "Processing volumes for subject 30087:  54%|█████▍    | 89/164 [07:37<06:18,  5.05s/it]"
     ]
    },
    {
     "name": "stdout",
     "output_type": "stream",
     "text": [
      "Applying mask to /home/minyoungxi/MINYOUNGXI/XFL/Data/OASIS_MNI_to_TRs/volume_89.nii.gz\n",
      "Running FLIRT on /home/minyoungxi/MINYOUNGXI/XFL/Data/OASIS_MNI_to_TRs/masked_volume_89.nii.gz\n"
     ]
    },
    {
     "name": "stderr",
     "output_type": "stream",
     "text": [
      "Processing volumes for subject 30087:  55%|█████▍    | 90/164 [07:42<06:12,  5.04s/it]"
     ]
    },
    {
     "name": "stdout",
     "output_type": "stream",
     "text": [
      "Applying mask to /home/minyoungxi/MINYOUNGXI/XFL/Data/OASIS_MNI_to_TRs/volume_90.nii.gz\n",
      "Running FLIRT on /home/minyoungxi/MINYOUNGXI/XFL/Data/OASIS_MNI_to_TRs/masked_volume_90.nii.gz\n"
     ]
    },
    {
     "name": "stderr",
     "output_type": "stream",
     "text": [
      "Processing volumes for subject 30087:  55%|█████▌    | 91/164 [07:47<06:08,  5.04s/it]"
     ]
    },
    {
     "name": "stdout",
     "output_type": "stream",
     "text": [
      "Applying mask to /home/minyoungxi/MINYOUNGXI/XFL/Data/OASIS_MNI_to_TRs/volume_91.nii.gz\n",
      "Running FLIRT on /home/minyoungxi/MINYOUNGXI/XFL/Data/OASIS_MNI_to_TRs/masked_volume_91.nii.gz\n"
     ]
    },
    {
     "name": "stderr",
     "output_type": "stream",
     "text": [
      "Processing volumes for subject 30087:  56%|█████▌    | 92/164 [07:53<06:04,  5.06s/it]"
     ]
    },
    {
     "name": "stdout",
     "output_type": "stream",
     "text": [
      "Applying mask to /home/minyoungxi/MINYOUNGXI/XFL/Data/OASIS_MNI_to_TRs/volume_92.nii.gz\n",
      "Running FLIRT on /home/minyoungxi/MINYOUNGXI/XFL/Data/OASIS_MNI_to_TRs/masked_volume_92.nii.gz\n"
     ]
    },
    {
     "name": "stderr",
     "output_type": "stream",
     "text": [
      "Processing volumes for subject 30087:  57%|█████▋    | 93/164 [07:57<05:56,  5.02s/it]"
     ]
    },
    {
     "name": "stdout",
     "output_type": "stream",
     "text": [
      "Applying mask to /home/minyoungxi/MINYOUNGXI/XFL/Data/OASIS_MNI_to_TRs/volume_93.nii.gz\n",
      "Running FLIRT on /home/minyoungxi/MINYOUNGXI/XFL/Data/OASIS_MNI_to_TRs/masked_volume_93.nii.gz\n"
     ]
    },
    {
     "name": "stderr",
     "output_type": "stream",
     "text": [
      "Processing volumes for subject 30087:  57%|█████▋    | 94/164 [08:02<05:50,  5.01s/it]"
     ]
    },
    {
     "name": "stdout",
     "output_type": "stream",
     "text": [
      "Applying mask to /home/minyoungxi/MINYOUNGXI/XFL/Data/OASIS_MNI_to_TRs/volume_94.nii.gz\n",
      "Running FLIRT on /home/minyoungxi/MINYOUNGXI/XFL/Data/OASIS_MNI_to_TRs/masked_volume_94.nii.gz\n"
     ]
    },
    {
     "name": "stderr",
     "output_type": "stream",
     "text": [
      "Processing volumes for subject 30087:  58%|█████▊    | 95/164 [08:07<05:46,  5.02s/it]"
     ]
    },
    {
     "name": "stdout",
     "output_type": "stream",
     "text": [
      "Applying mask to /home/minyoungxi/MINYOUNGXI/XFL/Data/OASIS_MNI_to_TRs/volume_95.nii.gz\n",
      "Running FLIRT on /home/minyoungxi/MINYOUNGXI/XFL/Data/OASIS_MNI_to_TRs/masked_volume_95.nii.gz\n"
     ]
    },
    {
     "name": "stderr",
     "output_type": "stream",
     "text": [
      "Processing volumes for subject 30087:  59%|█████▊    | 96/164 [08:13<05:41,  5.02s/it]"
     ]
    },
    {
     "name": "stdout",
     "output_type": "stream",
     "text": [
      "Applying mask to /home/minyoungxi/MINYOUNGXI/XFL/Data/OASIS_MNI_to_TRs/volume_96.nii.gz\n",
      "Running FLIRT on /home/minyoungxi/MINYOUNGXI/XFL/Data/OASIS_MNI_to_TRs/masked_volume_96.nii.gz\n"
     ]
    },
    {
     "name": "stderr",
     "output_type": "stream",
     "text": [
      "Processing volumes for subject 30087:  59%|█████▉    | 97/164 [08:18<05:37,  5.04s/it]"
     ]
    },
    {
     "name": "stdout",
     "output_type": "stream",
     "text": [
      "Applying mask to /home/minyoungxi/MINYOUNGXI/XFL/Data/OASIS_MNI_to_TRs/volume_97.nii.gz\n",
      "Running FLIRT on /home/minyoungxi/MINYOUNGXI/XFL/Data/OASIS_MNI_to_TRs/masked_volume_97.nii.gz\n"
     ]
    },
    {
     "name": "stderr",
     "output_type": "stream",
     "text": [
      "Processing volumes for subject 30087:  60%|█████▉    | 98/164 [08:23<05:31,  5.02s/it]"
     ]
    },
    {
     "name": "stdout",
     "output_type": "stream",
     "text": [
      "Applying mask to /home/minyoungxi/MINYOUNGXI/XFL/Data/OASIS_MNI_to_TRs/volume_98.nii.gz\n",
      "Running FLIRT on /home/minyoungxi/MINYOUNGXI/XFL/Data/OASIS_MNI_to_TRs/masked_volume_98.nii.gz\n"
     ]
    },
    {
     "name": "stderr",
     "output_type": "stream",
     "text": [
      "Processing volumes for subject 30087:  60%|██████    | 99/164 [08:28<05:26,  5.03s/it]"
     ]
    },
    {
     "name": "stdout",
     "output_type": "stream",
     "text": [
      "Applying mask to /home/minyoungxi/MINYOUNGXI/XFL/Data/OASIS_MNI_to_TRs/volume_99.nii.gz\n",
      "Running FLIRT on /home/minyoungxi/MINYOUNGXI/XFL/Data/OASIS_MNI_to_TRs/masked_volume_99.nii.gz\n"
     ]
    },
    {
     "name": "stderr",
     "output_type": "stream",
     "text": [
      "Processing volumes for subject 30087:  61%|██████    | 100/164 [08:33<05:22,  5.04s/it]"
     ]
    },
    {
     "name": "stdout",
     "output_type": "stream",
     "text": [
      "Applying mask to /home/minyoungxi/MINYOUNGXI/XFL/Data/OASIS_MNI_to_TRs/volume_100.nii.gz\n",
      "Running FLIRT on /home/minyoungxi/MINYOUNGXI/XFL/Data/OASIS_MNI_to_TRs/masked_volume_100.nii.gz\n"
     ]
    },
    {
     "name": "stderr",
     "output_type": "stream",
     "text": [
      "Processing volumes for subject 30087:  62%|██████▏   | 101/164 [08:38<05:16,  5.03s/it]"
     ]
    },
    {
     "name": "stdout",
     "output_type": "stream",
     "text": [
      "Applying mask to /home/minyoungxi/MINYOUNGXI/XFL/Data/OASIS_MNI_to_TRs/volume_101.nii.gz\n",
      "Running FLIRT on /home/minyoungxi/MINYOUNGXI/XFL/Data/OASIS_MNI_to_TRs/masked_volume_101.nii.gz\n"
     ]
    },
    {
     "name": "stderr",
     "output_type": "stream",
     "text": [
      "Processing volumes for subject 30087:  62%|██████▏   | 102/164 [08:43<05:12,  5.03s/it]"
     ]
    },
    {
     "name": "stdout",
     "output_type": "stream",
     "text": [
      "Applying mask to /home/minyoungxi/MINYOUNGXI/XFL/Data/OASIS_MNI_to_TRs/volume_102.nii.gz\n",
      "Running FLIRT on /home/minyoungxi/MINYOUNGXI/XFL/Data/OASIS_MNI_to_TRs/masked_volume_102.nii.gz\n"
     ]
    },
    {
     "name": "stderr",
     "output_type": "stream",
     "text": [
      "Processing volumes for subject 30087:  63%|██████▎   | 103/164 [08:48<05:06,  5.02s/it]"
     ]
    },
    {
     "name": "stdout",
     "output_type": "stream",
     "text": [
      "Applying mask to /home/minyoungxi/MINYOUNGXI/XFL/Data/OASIS_MNI_to_TRs/volume_103.nii.gz\n",
      "Running FLIRT on /home/minyoungxi/MINYOUNGXI/XFL/Data/OASIS_MNI_to_TRs/masked_volume_103.nii.gz\n"
     ]
    },
    {
     "name": "stderr",
     "output_type": "stream",
     "text": [
      "Processing volumes for subject 30087:  63%|██████▎   | 104/164 [08:53<05:00,  5.02s/it]"
     ]
    },
    {
     "name": "stdout",
     "output_type": "stream",
     "text": [
      "Applying mask to /home/minyoungxi/MINYOUNGXI/XFL/Data/OASIS_MNI_to_TRs/volume_104.nii.gz\n",
      "Running FLIRT on /home/minyoungxi/MINYOUNGXI/XFL/Data/OASIS_MNI_to_TRs/masked_volume_104.nii.gz\n"
     ]
    },
    {
     "name": "stderr",
     "output_type": "stream",
     "text": [
      "Processing volumes for subject 30087:  64%|██████▍   | 105/164 [08:58<04:54,  4.99s/it]"
     ]
    },
    {
     "name": "stdout",
     "output_type": "stream",
     "text": [
      "Applying mask to /home/minyoungxi/MINYOUNGXI/XFL/Data/OASIS_MNI_to_TRs/volume_105.nii.gz\n",
      "Running FLIRT on /home/minyoungxi/MINYOUNGXI/XFL/Data/OASIS_MNI_to_TRs/masked_volume_105.nii.gz\n"
     ]
    },
    {
     "name": "stderr",
     "output_type": "stream",
     "text": [
      "Processing volumes for subject 30087:  65%|██████▍   | 106/164 [09:03<04:51,  5.03s/it]"
     ]
    },
    {
     "name": "stdout",
     "output_type": "stream",
     "text": [
      "Applying mask to /home/minyoungxi/MINYOUNGXI/XFL/Data/OASIS_MNI_to_TRs/volume_106.nii.gz\n",
      "Running FLIRT on /home/minyoungxi/MINYOUNGXI/XFL/Data/OASIS_MNI_to_TRs/masked_volume_106.nii.gz\n"
     ]
    },
    {
     "name": "stderr",
     "output_type": "stream",
     "text": [
      "Processing volumes for subject 30087:  65%|██████▌   | 107/164 [09:08<04:47,  5.04s/it]"
     ]
    },
    {
     "name": "stdout",
     "output_type": "stream",
     "text": [
      "Applying mask to /home/minyoungxi/MINYOUNGXI/XFL/Data/OASIS_MNI_to_TRs/volume_107.nii.gz\n",
      "Running FLIRT on /home/minyoungxi/MINYOUNGXI/XFL/Data/OASIS_MNI_to_TRs/masked_volume_107.nii.gz\n"
     ]
    },
    {
     "name": "stderr",
     "output_type": "stream",
     "text": [
      "Processing volumes for subject 30087:  66%|██████▌   | 108/164 [09:13<04:42,  5.04s/it]"
     ]
    },
    {
     "name": "stdout",
     "output_type": "stream",
     "text": [
      "Applying mask to /home/minyoungxi/MINYOUNGXI/XFL/Data/OASIS_MNI_to_TRs/volume_108.nii.gz\n",
      "Running FLIRT on /home/minyoungxi/MINYOUNGXI/XFL/Data/OASIS_MNI_to_TRs/masked_volume_108.nii.gz\n"
     ]
    },
    {
     "name": "stderr",
     "output_type": "stream",
     "text": [
      "Processing volumes for subject 30087:  66%|██████▋   | 109/164 [09:18<04:37,  5.05s/it]"
     ]
    },
    {
     "name": "stdout",
     "output_type": "stream",
     "text": [
      "Applying mask to /home/minyoungxi/MINYOUNGXI/XFL/Data/OASIS_MNI_to_TRs/volume_109.nii.gz\n",
      "Running FLIRT on /home/minyoungxi/MINYOUNGXI/XFL/Data/OASIS_MNI_to_TRs/masked_volume_109.nii.gz\n"
     ]
    },
    {
     "name": "stderr",
     "output_type": "stream",
     "text": [
      "Processing volumes for subject 30087:  67%|██████▋   | 110/164 [09:23<04:32,  5.04s/it]"
     ]
    },
    {
     "name": "stdout",
     "output_type": "stream",
     "text": [
      "Applying mask to /home/minyoungxi/MINYOUNGXI/XFL/Data/OASIS_MNI_to_TRs/volume_110.nii.gz\n",
      "Running FLIRT on /home/minyoungxi/MINYOUNGXI/XFL/Data/OASIS_MNI_to_TRs/masked_volume_110.nii.gz\n"
     ]
    },
    {
     "name": "stderr",
     "output_type": "stream",
     "text": [
      "Processing volumes for subject 30087:  68%|██████▊   | 111/164 [09:28<04:27,  5.06s/it]"
     ]
    },
    {
     "name": "stdout",
     "output_type": "stream",
     "text": [
      "Applying mask to /home/minyoungxi/MINYOUNGXI/XFL/Data/OASIS_MNI_to_TRs/volume_111.nii.gz\n",
      "Running FLIRT on /home/minyoungxi/MINYOUNGXI/XFL/Data/OASIS_MNI_to_TRs/masked_volume_111.nii.gz\n"
     ]
    },
    {
     "name": "stderr",
     "output_type": "stream",
     "text": [
      "Processing volumes for subject 30087:  68%|██████▊   | 112/164 [09:33<04:23,  5.07s/it]"
     ]
    },
    {
     "name": "stdout",
     "output_type": "stream",
     "text": [
      "Applying mask to /home/minyoungxi/MINYOUNGXI/XFL/Data/OASIS_MNI_to_TRs/volume_112.nii.gz\n",
      "Running FLIRT on /home/minyoungxi/MINYOUNGXI/XFL/Data/OASIS_MNI_to_TRs/masked_volume_112.nii.gz\n"
     ]
    },
    {
     "name": "stderr",
     "output_type": "stream",
     "text": [
      "Processing volumes for subject 30087:  69%|██████▉   | 113/164 [09:38<04:18,  5.08s/it]"
     ]
    },
    {
     "name": "stdout",
     "output_type": "stream",
     "text": [
      "Applying mask to /home/minyoungxi/MINYOUNGXI/XFL/Data/OASIS_MNI_to_TRs/volume_113.nii.gz\n",
      "Running FLIRT on /home/minyoungxi/MINYOUNGXI/XFL/Data/OASIS_MNI_to_TRs/masked_volume_113.nii.gz\n"
     ]
    },
    {
     "name": "stderr",
     "output_type": "stream",
     "text": [
      "Processing volumes for subject 30087:  70%|██████▉   | 114/164 [09:43<04:13,  5.07s/it]"
     ]
    },
    {
     "name": "stdout",
     "output_type": "stream",
     "text": [
      "Applying mask to /home/minyoungxi/MINYOUNGXI/XFL/Data/OASIS_MNI_to_TRs/volume_114.nii.gz\n",
      "Running FLIRT on /home/minyoungxi/MINYOUNGXI/XFL/Data/OASIS_MNI_to_TRs/masked_volume_114.nii.gz\n"
     ]
    },
    {
     "name": "stderr",
     "output_type": "stream",
     "text": [
      "Processing volumes for subject 30087:  70%|███████   | 115/164 [09:48<04:06,  5.03s/it]"
     ]
    },
    {
     "name": "stdout",
     "output_type": "stream",
     "text": [
      "Applying mask to /home/minyoungxi/MINYOUNGXI/XFL/Data/OASIS_MNI_to_TRs/volume_115.nii.gz\n",
      "Running FLIRT on /home/minyoungxi/MINYOUNGXI/XFL/Data/OASIS_MNI_to_TRs/masked_volume_115.nii.gz\n"
     ]
    },
    {
     "name": "stderr",
     "output_type": "stream",
     "text": [
      "Processing volumes for subject 30087:  71%|███████   | 116/164 [09:53<04:02,  5.04s/it]"
     ]
    },
    {
     "name": "stdout",
     "output_type": "stream",
     "text": [
      "Applying mask to /home/minyoungxi/MINYOUNGXI/XFL/Data/OASIS_MNI_to_TRs/volume_116.nii.gz\n",
      "Running FLIRT on /home/minyoungxi/MINYOUNGXI/XFL/Data/OASIS_MNI_to_TRs/masked_volume_116.nii.gz\n"
     ]
    },
    {
     "name": "stderr",
     "output_type": "stream",
     "text": [
      "Processing volumes for subject 30087:  71%|███████▏  | 117/164 [09:58<03:57,  5.05s/it]"
     ]
    },
    {
     "name": "stdout",
     "output_type": "stream",
     "text": [
      "Applying mask to /home/minyoungxi/MINYOUNGXI/XFL/Data/OASIS_MNI_to_TRs/volume_117.nii.gz\n",
      "Running FLIRT on /home/minyoungxi/MINYOUNGXI/XFL/Data/OASIS_MNI_to_TRs/masked_volume_117.nii.gz\n"
     ]
    },
    {
     "name": "stderr",
     "output_type": "stream",
     "text": [
      "Processing volumes for subject 30087:  72%|███████▏  | 118/164 [10:03<03:49,  5.00s/it]"
     ]
    },
    {
     "name": "stdout",
     "output_type": "stream",
     "text": [
      "Applying mask to /home/minyoungxi/MINYOUNGXI/XFL/Data/OASIS_MNI_to_TRs/volume_118.nii.gz\n",
      "Running FLIRT on /home/minyoungxi/MINYOUNGXI/XFL/Data/OASIS_MNI_to_TRs/masked_volume_118.nii.gz\n"
     ]
    },
    {
     "name": "stderr",
     "output_type": "stream",
     "text": [
      "Processing volumes for subject 30087:  73%|███████▎  | 119/164 [10:08<03:44,  4.98s/it]"
     ]
    },
    {
     "name": "stdout",
     "output_type": "stream",
     "text": [
      "Applying mask to /home/minyoungxi/MINYOUNGXI/XFL/Data/OASIS_MNI_to_TRs/volume_119.nii.gz\n",
      "Running FLIRT on /home/minyoungxi/MINYOUNGXI/XFL/Data/OASIS_MNI_to_TRs/masked_volume_119.nii.gz\n"
     ]
    },
    {
     "name": "stderr",
     "output_type": "stream",
     "text": [
      "Processing volumes for subject 30087:  73%|███████▎  | 120/164 [10:13<03:39,  4.99s/it]"
     ]
    },
    {
     "name": "stdout",
     "output_type": "stream",
     "text": [
      "Applying mask to /home/minyoungxi/MINYOUNGXI/XFL/Data/OASIS_MNI_to_TRs/volume_120.nii.gz\n",
      "Running FLIRT on /home/minyoungxi/MINYOUNGXI/XFL/Data/OASIS_MNI_to_TRs/masked_volume_120.nii.gz\n"
     ]
    },
    {
     "name": "stderr",
     "output_type": "stream",
     "text": [
      "Processing volumes for subject 30087:  74%|███████▍  | 121/164 [10:18<03:34,  5.00s/it]"
     ]
    },
    {
     "name": "stdout",
     "output_type": "stream",
     "text": [
      "Applying mask to /home/minyoungxi/MINYOUNGXI/XFL/Data/OASIS_MNI_to_TRs/volume_121.nii.gz\n",
      "Running FLIRT on /home/minyoungxi/MINYOUNGXI/XFL/Data/OASIS_MNI_to_TRs/masked_volume_121.nii.gz\n"
     ]
    },
    {
     "name": "stderr",
     "output_type": "stream",
     "text": [
      "Processing volumes for subject 30087:  74%|███████▍  | 122/164 [10:23<03:30,  5.02s/it]"
     ]
    },
    {
     "name": "stdout",
     "output_type": "stream",
     "text": [
      "Applying mask to /home/minyoungxi/MINYOUNGXI/XFL/Data/OASIS_MNI_to_TRs/volume_122.nii.gz\n",
      "Running FLIRT on /home/minyoungxi/MINYOUNGXI/XFL/Data/OASIS_MNI_to_TRs/masked_volume_122.nii.gz\n"
     ]
    },
    {
     "name": "stderr",
     "output_type": "stream",
     "text": [
      "Processing volumes for subject 30087:  75%|███████▌  | 123/164 [10:28<03:25,  5.02s/it]"
     ]
    },
    {
     "name": "stdout",
     "output_type": "stream",
     "text": [
      "Applying mask to /home/minyoungxi/MINYOUNGXI/XFL/Data/OASIS_MNI_to_TRs/volume_123.nii.gz\n",
      "Running FLIRT on /home/minyoungxi/MINYOUNGXI/XFL/Data/OASIS_MNI_to_TRs/masked_volume_123.nii.gz\n"
     ]
    },
    {
     "name": "stderr",
     "output_type": "stream",
     "text": [
      "Processing volumes for subject 30087:  76%|███████▌  | 124/164 [10:33<03:21,  5.03s/it]"
     ]
    },
    {
     "name": "stdout",
     "output_type": "stream",
     "text": [
      "Applying mask to /home/minyoungxi/MINYOUNGXI/XFL/Data/OASIS_MNI_to_TRs/volume_124.nii.gz\n",
      "Running FLIRT on /home/minyoungxi/MINYOUNGXI/XFL/Data/OASIS_MNI_to_TRs/masked_volume_124.nii.gz\n"
     ]
    },
    {
     "name": "stderr",
     "output_type": "stream",
     "text": [
      "Processing volumes for subject 30087:  76%|███████▌  | 125/164 [10:38<03:15,  5.02s/it]"
     ]
    },
    {
     "name": "stdout",
     "output_type": "stream",
     "text": [
      "Applying mask to /home/minyoungxi/MINYOUNGXI/XFL/Data/OASIS_MNI_to_TRs/volume_125.nii.gz\n",
      "Running FLIRT on /home/minyoungxi/MINYOUNGXI/XFL/Data/OASIS_MNI_to_TRs/masked_volume_125.nii.gz\n"
     ]
    },
    {
     "name": "stderr",
     "output_type": "stream",
     "text": [
      "Processing volumes for subject 30087:  77%|███████▋  | 126/164 [10:43<03:10,  5.02s/it]"
     ]
    },
    {
     "name": "stdout",
     "output_type": "stream",
     "text": [
      "Applying mask to /home/minyoungxi/MINYOUNGXI/XFL/Data/OASIS_MNI_to_TRs/volume_126.nii.gz\n",
      "Running FLIRT on /home/minyoungxi/MINYOUNGXI/XFL/Data/OASIS_MNI_to_TRs/masked_volume_126.nii.gz\n"
     ]
    },
    {
     "name": "stderr",
     "output_type": "stream",
     "text": [
      "Processing volumes for subject 30087:  77%|███████▋  | 127/164 [10:48<03:05,  5.01s/it]"
     ]
    },
    {
     "name": "stdout",
     "output_type": "stream",
     "text": [
      "Applying mask to /home/minyoungxi/MINYOUNGXI/XFL/Data/OASIS_MNI_to_TRs/volume_127.nii.gz\n",
      "Running FLIRT on /home/minyoungxi/MINYOUNGXI/XFL/Data/OASIS_MNI_to_TRs/masked_volume_127.nii.gz\n"
     ]
    },
    {
     "name": "stderr",
     "output_type": "stream",
     "text": [
      "Processing volumes for subject 30087:  78%|███████▊  | 128/164 [10:53<03:00,  5.02s/it]"
     ]
    },
    {
     "name": "stdout",
     "output_type": "stream",
     "text": [
      "Applying mask to /home/minyoungxi/MINYOUNGXI/XFL/Data/OASIS_MNI_to_TRs/volume_128.nii.gz\n",
      "Running FLIRT on /home/minyoungxi/MINYOUNGXI/XFL/Data/OASIS_MNI_to_TRs/masked_volume_128.nii.gz\n"
     ]
    },
    {
     "name": "stderr",
     "output_type": "stream",
     "text": [
      "Processing volumes for subject 30087:  79%|███████▊  | 129/164 [10:58<02:55,  5.01s/it]"
     ]
    },
    {
     "name": "stdout",
     "output_type": "stream",
     "text": [
      "Applying mask to /home/minyoungxi/MINYOUNGXI/XFL/Data/OASIS_MNI_to_TRs/volume_129.nii.gz\n",
      "Running FLIRT on /home/minyoungxi/MINYOUNGXI/XFL/Data/OASIS_MNI_to_TRs/masked_volume_129.nii.gz\n"
     ]
    },
    {
     "name": "stderr",
     "output_type": "stream",
     "text": [
      "Processing volumes for subject 30087:  79%|███████▉  | 130/164 [11:04<02:51,  5.03s/it]"
     ]
    },
    {
     "name": "stdout",
     "output_type": "stream",
     "text": [
      "Applying mask to /home/minyoungxi/MINYOUNGXI/XFL/Data/OASIS_MNI_to_TRs/volume_130.nii.gz\n",
      "Running FLIRT on /home/minyoungxi/MINYOUNGXI/XFL/Data/OASIS_MNI_to_TRs/masked_volume_130.nii.gz\n"
     ]
    },
    {
     "name": "stderr",
     "output_type": "stream",
     "text": [
      "Processing volumes for subject 30087:  80%|███████▉  | 131/164 [11:09<02:46,  5.05s/it]"
     ]
    },
    {
     "name": "stdout",
     "output_type": "stream",
     "text": [
      "Applying mask to /home/minyoungxi/MINYOUNGXI/XFL/Data/OASIS_MNI_to_TRs/volume_131.nii.gz\n",
      "Running FLIRT on /home/minyoungxi/MINYOUNGXI/XFL/Data/OASIS_MNI_to_TRs/masked_volume_131.nii.gz\n"
     ]
    },
    {
     "name": "stderr",
     "output_type": "stream",
     "text": [
      "Processing volumes for subject 30087:  80%|████████  | 132/164 [11:14<02:40,  5.02s/it]"
     ]
    },
    {
     "name": "stdout",
     "output_type": "stream",
     "text": [
      "Applying mask to /home/minyoungxi/MINYOUNGXI/XFL/Data/OASIS_MNI_to_TRs/volume_132.nii.gz\n",
      "Running FLIRT on /home/minyoungxi/MINYOUNGXI/XFL/Data/OASIS_MNI_to_TRs/masked_volume_132.nii.gz\n"
     ]
    },
    {
     "name": "stderr",
     "output_type": "stream",
     "text": [
      "Processing volumes for subject 30087:  81%|████████  | 133/164 [11:19<02:35,  5.03s/it]"
     ]
    },
    {
     "name": "stdout",
     "output_type": "stream",
     "text": [
      "Applying mask to /home/minyoungxi/MINYOUNGXI/XFL/Data/OASIS_MNI_to_TRs/volume_133.nii.gz\n",
      "Running FLIRT on /home/minyoungxi/MINYOUNGXI/XFL/Data/OASIS_MNI_to_TRs/masked_volume_133.nii.gz\n"
     ]
    },
    {
     "name": "stderr",
     "output_type": "stream",
     "text": [
      "Processing volumes for subject 30087:  82%|████████▏ | 134/164 [11:24<02:31,  5.05s/it]"
     ]
    },
    {
     "name": "stdout",
     "output_type": "stream",
     "text": [
      "Applying mask to /home/minyoungxi/MINYOUNGXI/XFL/Data/OASIS_MNI_to_TRs/volume_134.nii.gz\n",
      "Running FLIRT on /home/minyoungxi/MINYOUNGXI/XFL/Data/OASIS_MNI_to_TRs/masked_volume_134.nii.gz\n"
     ]
    },
    {
     "name": "stderr",
     "output_type": "stream",
     "text": [
      "Processing volumes for subject 30087:  82%|████████▏ | 135/164 [11:29<02:26,  5.04s/it]"
     ]
    },
    {
     "name": "stdout",
     "output_type": "stream",
     "text": [
      "Applying mask to /home/minyoungxi/MINYOUNGXI/XFL/Data/OASIS_MNI_to_TRs/volume_135.nii.gz\n",
      "Running FLIRT on /home/minyoungxi/MINYOUNGXI/XFL/Data/OASIS_MNI_to_TRs/masked_volume_135.nii.gz\n"
     ]
    },
    {
     "name": "stderr",
     "output_type": "stream",
     "text": [
      "Processing volumes for subject 30087:  83%|████████▎ | 136/164 [11:34<02:20,  5.03s/it]"
     ]
    },
    {
     "name": "stdout",
     "output_type": "stream",
     "text": [
      "Applying mask to /home/minyoungxi/MINYOUNGXI/XFL/Data/OASIS_MNI_to_TRs/volume_136.nii.gz\n",
      "Running FLIRT on /home/minyoungxi/MINYOUNGXI/XFL/Data/OASIS_MNI_to_TRs/masked_volume_136.nii.gz\n"
     ]
    },
    {
     "name": "stderr",
     "output_type": "stream",
     "text": [
      "Processing volumes for subject 30087:  84%|████████▎ | 137/164 [11:39<02:16,  5.04s/it]"
     ]
    },
    {
     "name": "stdout",
     "output_type": "stream",
     "text": [
      "Applying mask to /home/minyoungxi/MINYOUNGXI/XFL/Data/OASIS_MNI_to_TRs/volume_137.nii.gz\n",
      "Running FLIRT on /home/minyoungxi/MINYOUNGXI/XFL/Data/OASIS_MNI_to_TRs/masked_volume_137.nii.gz\n"
     ]
    },
    {
     "name": "stderr",
     "output_type": "stream",
     "text": [
      "Processing volumes for subject 30087:  84%|████████▍ | 138/164 [11:44<02:10,  5.04s/it]"
     ]
    },
    {
     "name": "stdout",
     "output_type": "stream",
     "text": [
      "Applying mask to /home/minyoungxi/MINYOUNGXI/XFL/Data/OASIS_MNI_to_TRs/volume_138.nii.gz\n",
      "Running FLIRT on /home/minyoungxi/MINYOUNGXI/XFL/Data/OASIS_MNI_to_TRs/masked_volume_138.nii.gz\n"
     ]
    },
    {
     "name": "stderr",
     "output_type": "stream",
     "text": [
      "Processing volumes for subject 30087:  85%|████████▍ | 139/164 [11:49<02:04,  5.00s/it]"
     ]
    },
    {
     "name": "stdout",
     "output_type": "stream",
     "text": [
      "Applying mask to /home/minyoungxi/MINYOUNGXI/XFL/Data/OASIS_MNI_to_TRs/volume_139.nii.gz\n",
      "Running FLIRT on /home/minyoungxi/MINYOUNGXI/XFL/Data/OASIS_MNI_to_TRs/masked_volume_139.nii.gz\n"
     ]
    },
    {
     "name": "stderr",
     "output_type": "stream",
     "text": [
      "Processing volumes for subject 30087:  85%|████████▌ | 140/164 [11:54<02:00,  5.01s/it]"
     ]
    },
    {
     "name": "stdout",
     "output_type": "stream",
     "text": [
      "Applying mask to /home/minyoungxi/MINYOUNGXI/XFL/Data/OASIS_MNI_to_TRs/volume_140.nii.gz\n",
      "Running FLIRT on /home/minyoungxi/MINYOUNGXI/XFL/Data/OASIS_MNI_to_TRs/masked_volume_140.nii.gz\n"
     ]
    },
    {
     "name": "stderr",
     "output_type": "stream",
     "text": [
      "Processing volumes for subject 30087:  86%|████████▌ | 141/164 [11:59<01:55,  5.00s/it]"
     ]
    },
    {
     "name": "stdout",
     "output_type": "stream",
     "text": [
      "Applying mask to /home/minyoungxi/MINYOUNGXI/XFL/Data/OASIS_MNI_to_TRs/volume_141.nii.gz\n",
      "Running FLIRT on /home/minyoungxi/MINYOUNGXI/XFL/Data/OASIS_MNI_to_TRs/masked_volume_141.nii.gz\n"
     ]
    },
    {
     "name": "stderr",
     "output_type": "stream",
     "text": [
      "Processing volumes for subject 30087:  87%|████████▋ | 142/164 [12:04<01:50,  5.01s/it]"
     ]
    },
    {
     "name": "stdout",
     "output_type": "stream",
     "text": [
      "Applying mask to /home/minyoungxi/MINYOUNGXI/XFL/Data/OASIS_MNI_to_TRs/volume_142.nii.gz\n",
      "Running FLIRT on /home/minyoungxi/MINYOUNGXI/XFL/Data/OASIS_MNI_to_TRs/masked_volume_142.nii.gz\n"
     ]
    },
    {
     "name": "stderr",
     "output_type": "stream",
     "text": [
      "Processing volumes for subject 30087:  87%|████████▋ | 143/164 [12:09<01:45,  5.02s/it]"
     ]
    },
    {
     "name": "stdout",
     "output_type": "stream",
     "text": [
      "Applying mask to /home/minyoungxi/MINYOUNGXI/XFL/Data/OASIS_MNI_to_TRs/volume_143.nii.gz\n",
      "Running FLIRT on /home/minyoungxi/MINYOUNGXI/XFL/Data/OASIS_MNI_to_TRs/masked_volume_143.nii.gz\n"
     ]
    },
    {
     "name": "stderr",
     "output_type": "stream",
     "text": [
      "Processing volumes for subject 30087:  88%|████████▊ | 144/164 [12:14<01:40,  5.00s/it]"
     ]
    },
    {
     "name": "stdout",
     "output_type": "stream",
     "text": [
      "Applying mask to /home/minyoungxi/MINYOUNGXI/XFL/Data/OASIS_MNI_to_TRs/volume_144.nii.gz\n",
      "Running FLIRT on /home/minyoungxi/MINYOUNGXI/XFL/Data/OASIS_MNI_to_TRs/masked_volume_144.nii.gz\n"
     ]
    },
    {
     "name": "stderr",
     "output_type": "stream",
     "text": [
      "Processing volumes for subject 30087:  88%|████████▊ | 145/164 [12:19<01:35,  5.01s/it]"
     ]
    },
    {
     "name": "stdout",
     "output_type": "stream",
     "text": [
      "Applying mask to /home/minyoungxi/MINYOUNGXI/XFL/Data/OASIS_MNI_to_TRs/volume_145.nii.gz\n",
      "Running FLIRT on /home/minyoungxi/MINYOUNGXI/XFL/Data/OASIS_MNI_to_TRs/masked_volume_145.nii.gz\n"
     ]
    },
    {
     "name": "stderr",
     "output_type": "stream",
     "text": [
      "Processing volumes for subject 30087:  89%|████████▉ | 146/164 [12:24<01:30,  5.01s/it]"
     ]
    },
    {
     "name": "stdout",
     "output_type": "stream",
     "text": [
      "Applying mask to /home/minyoungxi/MINYOUNGXI/XFL/Data/OASIS_MNI_to_TRs/volume_146.nii.gz\n",
      "Running FLIRT on /home/minyoungxi/MINYOUNGXI/XFL/Data/OASIS_MNI_to_TRs/masked_volume_146.nii.gz\n"
     ]
    },
    {
     "name": "stderr",
     "output_type": "stream",
     "text": [
      "Processing volumes for subject 30087:  90%|████████▉ | 147/164 [12:29<01:25,  5.01s/it]"
     ]
    },
    {
     "name": "stdout",
     "output_type": "stream",
     "text": [
      "Applying mask to /home/minyoungxi/MINYOUNGXI/XFL/Data/OASIS_MNI_to_TRs/volume_147.nii.gz\n",
      "Running FLIRT on /home/minyoungxi/MINYOUNGXI/XFL/Data/OASIS_MNI_to_TRs/masked_volume_147.nii.gz\n"
     ]
    },
    {
     "name": "stderr",
     "output_type": "stream",
     "text": [
      "Processing volumes for subject 30087:  90%|█████████ | 148/164 [12:34<01:20,  5.02s/it]"
     ]
    },
    {
     "name": "stdout",
     "output_type": "stream",
     "text": [
      "Applying mask to /home/minyoungxi/MINYOUNGXI/XFL/Data/OASIS_MNI_to_TRs/volume_148.nii.gz\n",
      "Running FLIRT on /home/minyoungxi/MINYOUNGXI/XFL/Data/OASIS_MNI_to_TRs/masked_volume_148.nii.gz\n"
     ]
    },
    {
     "name": "stderr",
     "output_type": "stream",
     "text": [
      "Processing volumes for subject 30087:  91%|█████████ | 149/164 [12:39<01:15,  5.04s/it]"
     ]
    },
    {
     "name": "stdout",
     "output_type": "stream",
     "text": [
      "Applying mask to /home/minyoungxi/MINYOUNGXI/XFL/Data/OASIS_MNI_to_TRs/volume_149.nii.gz\n",
      "Running FLIRT on /home/minyoungxi/MINYOUNGXI/XFL/Data/OASIS_MNI_to_TRs/masked_volume_149.nii.gz\n"
     ]
    },
    {
     "name": "stderr",
     "output_type": "stream",
     "text": [
      "Processing volumes for subject 30087:  91%|█████████▏| 150/164 [12:44<01:10,  5.03s/it]"
     ]
    },
    {
     "name": "stdout",
     "output_type": "stream",
     "text": [
      "Applying mask to /home/minyoungxi/MINYOUNGXI/XFL/Data/OASIS_MNI_to_TRs/volume_150.nii.gz\n",
      "Running FLIRT on /home/minyoungxi/MINYOUNGXI/XFL/Data/OASIS_MNI_to_TRs/masked_volume_150.nii.gz\n"
     ]
    },
    {
     "name": "stderr",
     "output_type": "stream",
     "text": [
      "Processing volumes for subject 30087:  92%|█████████▏| 151/164 [12:49<01:05,  5.02s/it]"
     ]
    },
    {
     "name": "stdout",
     "output_type": "stream",
     "text": [
      "Applying mask to /home/minyoungxi/MINYOUNGXI/XFL/Data/OASIS_MNI_to_TRs/volume_151.nii.gz\n",
      "Running FLIRT on /home/minyoungxi/MINYOUNGXI/XFL/Data/OASIS_MNI_to_TRs/masked_volume_151.nii.gz\n"
     ]
    },
    {
     "name": "stderr",
     "output_type": "stream",
     "text": [
      "Processing volumes for subject 30087:  93%|█████████▎| 152/164 [12:54<01:00,  5.03s/it]"
     ]
    },
    {
     "name": "stdout",
     "output_type": "stream",
     "text": [
      "Applying mask to /home/minyoungxi/MINYOUNGXI/XFL/Data/OASIS_MNI_to_TRs/volume_152.nii.gz\n",
      "Running FLIRT on /home/minyoungxi/MINYOUNGXI/XFL/Data/OASIS_MNI_to_TRs/masked_volume_152.nii.gz\n"
     ]
    },
    {
     "name": "stderr",
     "output_type": "stream",
     "text": [
      "Processing volumes for subject 30087:  93%|█████████▎| 153/164 [12:59<00:55,  5.03s/it]"
     ]
    },
    {
     "name": "stdout",
     "output_type": "stream",
     "text": [
      "Applying mask to /home/minyoungxi/MINYOUNGXI/XFL/Data/OASIS_MNI_to_TRs/volume_153.nii.gz\n",
      "Running FLIRT on /home/minyoungxi/MINYOUNGXI/XFL/Data/OASIS_MNI_to_TRs/masked_volume_153.nii.gz\n"
     ]
    },
    {
     "name": "stderr",
     "output_type": "stream",
     "text": [
      "Processing volumes for subject 30087:  94%|█████████▍| 154/164 [13:04<00:50,  5.05s/it]"
     ]
    },
    {
     "name": "stdout",
     "output_type": "stream",
     "text": [
      "Applying mask to /home/minyoungxi/MINYOUNGXI/XFL/Data/OASIS_MNI_to_TRs/volume_154.nii.gz\n",
      "Running FLIRT on /home/minyoungxi/MINYOUNGXI/XFL/Data/OASIS_MNI_to_TRs/masked_volume_154.nii.gz\n"
     ]
    },
    {
     "name": "stderr",
     "output_type": "stream",
     "text": [
      "Processing volumes for subject 30087:  95%|█████████▍| 155/164 [13:09<00:45,  5.04s/it]"
     ]
    },
    {
     "name": "stdout",
     "output_type": "stream",
     "text": [
      "Applying mask to /home/minyoungxi/MINYOUNGXI/XFL/Data/OASIS_MNI_to_TRs/volume_155.nii.gz\n",
      "Running FLIRT on /home/minyoungxi/MINYOUNGXI/XFL/Data/OASIS_MNI_to_TRs/masked_volume_155.nii.gz\n"
     ]
    },
    {
     "name": "stderr",
     "output_type": "stream",
     "text": [
      "Processing volumes for subject 30087:  95%|█████████▌| 156/164 [13:14<00:40,  5.04s/it]"
     ]
    },
    {
     "name": "stdout",
     "output_type": "stream",
     "text": [
      "Applying mask to /home/minyoungxi/MINYOUNGXI/XFL/Data/OASIS_MNI_to_TRs/volume_156.nii.gz\n",
      "Running FLIRT on /home/minyoungxi/MINYOUNGXI/XFL/Data/OASIS_MNI_to_TRs/masked_volume_156.nii.gz\n"
     ]
    },
    {
     "name": "stderr",
     "output_type": "stream",
     "text": [
      "Processing volumes for subject 30087:  96%|█████████▌| 157/164 [13:19<00:35,  5.06s/it]"
     ]
    },
    {
     "name": "stdout",
     "output_type": "stream",
     "text": [
      "Applying mask to /home/minyoungxi/MINYOUNGXI/XFL/Data/OASIS_MNI_to_TRs/volume_157.nii.gz\n",
      "Running FLIRT on /home/minyoungxi/MINYOUNGXI/XFL/Data/OASIS_MNI_to_TRs/masked_volume_157.nii.gz\n"
     ]
    },
    {
     "name": "stderr",
     "output_type": "stream",
     "text": [
      "Processing volumes for subject 30087:  96%|█████████▋| 158/164 [13:24<00:30,  5.05s/it]"
     ]
    },
    {
     "name": "stdout",
     "output_type": "stream",
     "text": [
      "Applying mask to /home/minyoungxi/MINYOUNGXI/XFL/Data/OASIS_MNI_to_TRs/volume_158.nii.gz\n",
      "Running FLIRT on /home/minyoungxi/MINYOUNGXI/XFL/Data/OASIS_MNI_to_TRs/masked_volume_158.nii.gz\n"
     ]
    },
    {
     "name": "stderr",
     "output_type": "stream",
     "text": [
      "Processing volumes for subject 30087:  97%|█████████▋| 159/164 [13:29<00:25,  5.05s/it]"
     ]
    },
    {
     "name": "stdout",
     "output_type": "stream",
     "text": [
      "Applying mask to /home/minyoungxi/MINYOUNGXI/XFL/Data/OASIS_MNI_to_TRs/volume_159.nii.gz\n",
      "Running FLIRT on /home/minyoungxi/MINYOUNGXI/XFL/Data/OASIS_MNI_to_TRs/masked_volume_159.nii.gz\n"
     ]
    },
    {
     "name": "stderr",
     "output_type": "stream",
     "text": [
      "Processing volumes for subject 30087:  98%|█████████▊| 160/164 [13:34<00:20,  5.04s/it]"
     ]
    },
    {
     "name": "stdout",
     "output_type": "stream",
     "text": [
      "Applying mask to /home/minyoungxi/MINYOUNGXI/XFL/Data/OASIS_MNI_to_TRs/volume_160.nii.gz\n",
      "Running FLIRT on /home/minyoungxi/MINYOUNGXI/XFL/Data/OASIS_MNI_to_TRs/masked_volume_160.nii.gz\n"
     ]
    },
    {
     "name": "stderr",
     "output_type": "stream",
     "text": [
      "Processing volumes for subject 30087:  98%|█████████▊| 161/164 [13:39<00:15,  5.04s/it]"
     ]
    },
    {
     "name": "stdout",
     "output_type": "stream",
     "text": [
      "Applying mask to /home/minyoungxi/MINYOUNGXI/XFL/Data/OASIS_MNI_to_TRs/volume_161.nii.gz\n",
      "Running FLIRT on /home/minyoungxi/MINYOUNGXI/XFL/Data/OASIS_MNI_to_TRs/masked_volume_161.nii.gz\n"
     ]
    },
    {
     "name": "stderr",
     "output_type": "stream",
     "text": [
      "Processing volumes for subject 30087:  99%|█████████▉| 162/164 [13:44<00:10,  5.03s/it]"
     ]
    },
    {
     "name": "stdout",
     "output_type": "stream",
     "text": [
      "Applying mask to /home/minyoungxi/MINYOUNGXI/XFL/Data/OASIS_MNI_to_TRs/volume_162.nii.gz\n",
      "Running FLIRT on /home/minyoungxi/MINYOUNGXI/XFL/Data/OASIS_MNI_to_TRs/masked_volume_162.nii.gz\n"
     ]
    },
    {
     "name": "stderr",
     "output_type": "stream",
     "text": [
      "Processing volumes for subject 30087:  99%|█████████▉| 163/164 [13:49<00:05,  5.02s/it]"
     ]
    },
    {
     "name": "stdout",
     "output_type": "stream",
     "text": [
      "Applying mask to /home/minyoungxi/MINYOUNGXI/XFL/Data/OASIS_MNI_to_TRs/volume_163.nii.gz\n",
      "Running FLIRT on /home/minyoungxi/MINYOUNGXI/XFL/Data/OASIS_MNI_to_TRs/masked_volume_163.nii.gz\n"
     ]
    },
    {
     "name": "stderr",
     "output_type": "stream",
     "text": [
      "Processing volumes for subject 30087: 100%|██████████| 164/164 [13:54<00:00,  5.09s/it]\n"
     ]
    },
    {
     "name": "stdout",
     "output_type": "stream",
     "text": [
      "Found functional file: /home/minyoungxi/MINYOUNGXI/XFL/Data/OASISSamples7.1/OAS30061_MR_d0035/func1/NIFTI/sub-OAS30061_ses-d0035_task-rest_run-01_bold.nii.gz\n",
      "Preprocessing fMRI data for subject 30061, session 0035\n",
      "Running BET on /home/minyoungxi/MINYOUNGXI/XFL/Data/OASIS_MNI_to_TRs/first_volume.nii.gz\n"
     ]
    },
    {
     "name": "stderr",
     "output_type": "stream",
     "text": [
      "Processing volumes for subject 30061:   0%|          | 0/164 [00:00<?, ?it/s]"
     ]
    },
    {
     "name": "stdout",
     "output_type": "stream",
     "text": [
      "Applying mask to /home/minyoungxi/MINYOUNGXI/XFL/Data/OASIS_MNI_to_TRs/volume_0.nii.gz\n",
      "Running FLIRT on /home/minyoungxi/MINYOUNGXI/XFL/Data/OASIS_MNI_to_TRs/masked_volume_0.nii.gz\n"
     ]
    },
    {
     "name": "stderr",
     "output_type": "stream",
     "text": [
      "Processing volumes for subject 30061:   1%|          | 1/164 [00:05<14:09,  5.21s/it]"
     ]
    },
    {
     "name": "stdout",
     "output_type": "stream",
     "text": [
      "Applying mask to /home/minyoungxi/MINYOUNGXI/XFL/Data/OASIS_MNI_to_TRs/volume_1.nii.gz\n",
      "Running FLIRT on /home/minyoungxi/MINYOUNGXI/XFL/Data/OASIS_MNI_to_TRs/masked_volume_1.nii.gz\n"
     ]
    },
    {
     "name": "stderr",
     "output_type": "stream",
     "text": [
      "Processing volumes for subject 30061:   1%|          | 2/164 [00:10<14:27,  5.35s/it]"
     ]
    },
    {
     "name": "stdout",
     "output_type": "stream",
     "text": [
      "Applying mask to /home/minyoungxi/MINYOUNGXI/XFL/Data/OASIS_MNI_to_TRs/volume_2.nii.gz\n",
      "Running FLIRT on /home/minyoungxi/MINYOUNGXI/XFL/Data/OASIS_MNI_to_TRs/masked_volume_2.nii.gz\n"
     ]
    },
    {
     "name": "stderr",
     "output_type": "stream",
     "text": [
      "Processing volumes for subject 30061:   2%|▏         | 3/164 [00:15<14:08,  5.27s/it]"
     ]
    },
    {
     "name": "stdout",
     "output_type": "stream",
     "text": [
      "Applying mask to /home/minyoungxi/MINYOUNGXI/XFL/Data/OASIS_MNI_to_TRs/volume_3.nii.gz\n",
      "Running FLIRT on /home/minyoungxi/MINYOUNGXI/XFL/Data/OASIS_MNI_to_TRs/masked_volume_3.nii.gz\n"
     ]
    },
    {
     "name": "stderr",
     "output_type": "stream",
     "text": [
      "Processing volumes for subject 30061:   2%|▏         | 4/164 [00:20<13:47,  5.17s/it]"
     ]
    },
    {
     "name": "stdout",
     "output_type": "stream",
     "text": [
      "Applying mask to /home/minyoungxi/MINYOUNGXI/XFL/Data/OASIS_MNI_to_TRs/volume_4.nii.gz\n",
      "Running FLIRT on /home/minyoungxi/MINYOUNGXI/XFL/Data/OASIS_MNI_to_TRs/masked_volume_4.nii.gz\n"
     ]
    },
    {
     "name": "stderr",
     "output_type": "stream",
     "text": [
      "Processing volumes for subject 30061:   3%|▎         | 5/164 [00:25<13:35,  5.13s/it]"
     ]
    },
    {
     "name": "stdout",
     "output_type": "stream",
     "text": [
      "Applying mask to /home/minyoungxi/MINYOUNGXI/XFL/Data/OASIS_MNI_to_TRs/volume_5.nii.gz\n",
      "Running FLIRT on /home/minyoungxi/MINYOUNGXI/XFL/Data/OASIS_MNI_to_TRs/masked_volume_5.nii.gz\n"
     ]
    },
    {
     "name": "stderr",
     "output_type": "stream",
     "text": [
      "Processing volumes for subject 30061:   4%|▎         | 6/164 [00:30<13:26,  5.11s/it]"
     ]
    },
    {
     "name": "stdout",
     "output_type": "stream",
     "text": [
      "Applying mask to /home/minyoungxi/MINYOUNGXI/XFL/Data/OASIS_MNI_to_TRs/volume_6.nii.gz\n",
      "Running FLIRT on /home/minyoungxi/MINYOUNGXI/XFL/Data/OASIS_MNI_to_TRs/masked_volume_6.nii.gz\n"
     ]
    },
    {
     "name": "stderr",
     "output_type": "stream",
     "text": [
      "Processing volumes for subject 30061:   4%|▍         | 7/164 [00:36<13:20,  5.10s/it]"
     ]
    },
    {
     "name": "stdout",
     "output_type": "stream",
     "text": [
      "Applying mask to /home/minyoungxi/MINYOUNGXI/XFL/Data/OASIS_MNI_to_TRs/volume_7.nii.gz\n",
      "Running FLIRT on /home/minyoungxi/MINYOUNGXI/XFL/Data/OASIS_MNI_to_TRs/masked_volume_7.nii.gz\n"
     ]
    },
    {
     "name": "stderr",
     "output_type": "stream",
     "text": [
      "Processing volumes for subject 30061:   5%|▍         | 8/164 [00:41<13:14,  5.09s/it]"
     ]
    },
    {
     "name": "stdout",
     "output_type": "stream",
     "text": [
      "Applying mask to /home/minyoungxi/MINYOUNGXI/XFL/Data/OASIS_MNI_to_TRs/volume_8.nii.gz\n",
      "Running FLIRT on /home/minyoungxi/MINYOUNGXI/XFL/Data/OASIS_MNI_to_TRs/masked_volume_8.nii.gz\n"
     ]
    },
    {
     "name": "stderr",
     "output_type": "stream",
     "text": [
      "Processing volumes for subject 30061:   5%|▌         | 9/164 [00:46<13:09,  5.09s/it]"
     ]
    },
    {
     "name": "stdout",
     "output_type": "stream",
     "text": [
      "Applying mask to /home/minyoungxi/MINYOUNGXI/XFL/Data/OASIS_MNI_to_TRs/volume_9.nii.gz\n",
      "Running FLIRT on /home/minyoungxi/MINYOUNGXI/XFL/Data/OASIS_MNI_to_TRs/masked_volume_9.nii.gz\n"
     ]
    },
    {
     "name": "stderr",
     "output_type": "stream",
     "text": [
      "Processing volumes for subject 30061:   6%|▌         | 10/164 [00:51<13:06,  5.11s/it]"
     ]
    },
    {
     "name": "stdout",
     "output_type": "stream",
     "text": [
      "Applying mask to /home/minyoungxi/MINYOUNGXI/XFL/Data/OASIS_MNI_to_TRs/volume_10.nii.gz\n",
      "Running FLIRT on /home/minyoungxi/MINYOUNGXI/XFL/Data/OASIS_MNI_to_TRs/masked_volume_10.nii.gz\n"
     ]
    },
    {
     "name": "stderr",
     "output_type": "stream",
     "text": [
      "Processing volumes for subject 30061:   7%|▋         | 11/164 [00:56<13:01,  5.11s/it]"
     ]
    },
    {
     "name": "stdout",
     "output_type": "stream",
     "text": [
      "Applying mask to /home/minyoungxi/MINYOUNGXI/XFL/Data/OASIS_MNI_to_TRs/volume_11.nii.gz\n",
      "Running FLIRT on /home/minyoungxi/MINYOUNGXI/XFL/Data/OASIS_MNI_to_TRs/masked_volume_11.nii.gz\n"
     ]
    },
    {
     "name": "stderr",
     "output_type": "stream",
     "text": [
      "Processing volumes for subject 30061:   7%|▋         | 12/164 [01:01<12:56,  5.11s/it]"
     ]
    },
    {
     "name": "stdout",
     "output_type": "stream",
     "text": [
      "Applying mask to /home/minyoungxi/MINYOUNGXI/XFL/Data/OASIS_MNI_to_TRs/volume_12.nii.gz\n",
      "Running FLIRT on /home/minyoungxi/MINYOUNGXI/XFL/Data/OASIS_MNI_to_TRs/masked_volume_12.nii.gz\n"
     ]
    },
    {
     "name": "stderr",
     "output_type": "stream",
     "text": [
      "Processing volumes for subject 30061:   8%|▊         | 13/164 [01:06<12:49,  5.10s/it]"
     ]
    },
    {
     "name": "stdout",
     "output_type": "stream",
     "text": [
      "Applying mask to /home/minyoungxi/MINYOUNGXI/XFL/Data/OASIS_MNI_to_TRs/volume_13.nii.gz\n",
      "Running FLIRT on /home/minyoungxi/MINYOUNGXI/XFL/Data/OASIS_MNI_to_TRs/masked_volume_13.nii.gz\n"
     ]
    },
    {
     "name": "stderr",
     "output_type": "stream",
     "text": [
      "Processing volumes for subject 30061:   9%|▊         | 14/164 [01:11<12:45,  5.10s/it]"
     ]
    },
    {
     "name": "stdout",
     "output_type": "stream",
     "text": [
      "Applying mask to /home/minyoungxi/MINYOUNGXI/XFL/Data/OASIS_MNI_to_TRs/volume_14.nii.gz\n",
      "Running FLIRT on /home/minyoungxi/MINYOUNGXI/XFL/Data/OASIS_MNI_to_TRs/masked_volume_14.nii.gz\n"
     ]
    },
    {
     "name": "stderr",
     "output_type": "stream",
     "text": [
      "Processing volumes for subject 30061:   9%|▉         | 15/164 [01:16<12:39,  5.10s/it]"
     ]
    },
    {
     "name": "stdout",
     "output_type": "stream",
     "text": [
      "Applying mask to /home/minyoungxi/MINYOUNGXI/XFL/Data/OASIS_MNI_to_TRs/volume_15.nii.gz\n",
      "Running FLIRT on /home/minyoungxi/MINYOUNGXI/XFL/Data/OASIS_MNI_to_TRs/masked_volume_15.nii.gz\n"
     ]
    },
    {
     "name": "stderr",
     "output_type": "stream",
     "text": [
      "Processing volumes for subject 30061:  10%|▉         | 16/164 [01:21<12:34,  5.10s/it]"
     ]
    },
    {
     "name": "stdout",
     "output_type": "stream",
     "text": [
      "Applying mask to /home/minyoungxi/MINYOUNGXI/XFL/Data/OASIS_MNI_to_TRs/volume_16.nii.gz\n",
      "Running FLIRT on /home/minyoungxi/MINYOUNGXI/XFL/Data/OASIS_MNI_to_TRs/masked_volume_16.nii.gz\n"
     ]
    },
    {
     "name": "stderr",
     "output_type": "stream",
     "text": [
      "Processing volumes for subject 30061:  10%|█         | 17/164 [01:27<12:29,  5.10s/it]"
     ]
    },
    {
     "name": "stdout",
     "output_type": "stream",
     "text": [
      "Applying mask to /home/minyoungxi/MINYOUNGXI/XFL/Data/OASIS_MNI_to_TRs/volume_17.nii.gz\n",
      "Running FLIRT on /home/minyoungxi/MINYOUNGXI/XFL/Data/OASIS_MNI_to_TRs/masked_volume_17.nii.gz\n"
     ]
    },
    {
     "name": "stderr",
     "output_type": "stream",
     "text": [
      "Processing volumes for subject 30061:  11%|█         | 18/164 [01:32<12:23,  5.09s/it]"
     ]
    },
    {
     "name": "stdout",
     "output_type": "stream",
     "text": [
      "Applying mask to /home/minyoungxi/MINYOUNGXI/XFL/Data/OASIS_MNI_to_TRs/volume_18.nii.gz\n",
      "Running FLIRT on /home/minyoungxi/MINYOUNGXI/XFL/Data/OASIS_MNI_to_TRs/masked_volume_18.nii.gz\n"
     ]
    },
    {
     "name": "stderr",
     "output_type": "stream",
     "text": [
      "Processing volumes for subject 30061:  12%|█▏        | 19/164 [01:37<12:18,  5.09s/it]"
     ]
    },
    {
     "name": "stdout",
     "output_type": "stream",
     "text": [
      "Applying mask to /home/minyoungxi/MINYOUNGXI/XFL/Data/OASIS_MNI_to_TRs/volume_19.nii.gz\n",
      "Running FLIRT on /home/minyoungxi/MINYOUNGXI/XFL/Data/OASIS_MNI_to_TRs/masked_volume_19.nii.gz\n"
     ]
    },
    {
     "name": "stderr",
     "output_type": "stream",
     "text": [
      "Processing volumes for subject 30061:  12%|█▏        | 20/164 [01:42<12:09,  5.07s/it]"
     ]
    },
    {
     "name": "stdout",
     "output_type": "stream",
     "text": [
      "Applying mask to /home/minyoungxi/MINYOUNGXI/XFL/Data/OASIS_MNI_to_TRs/volume_20.nii.gz\n",
      "Running FLIRT on /home/minyoungxi/MINYOUNGXI/XFL/Data/OASIS_MNI_to_TRs/masked_volume_20.nii.gz\n"
     ]
    },
    {
     "name": "stderr",
     "output_type": "stream",
     "text": [
      "Processing volumes for subject 30061:  13%|█▎        | 21/164 [01:47<12:02,  5.06s/it]"
     ]
    },
    {
     "name": "stdout",
     "output_type": "stream",
     "text": [
      "Applying mask to /home/minyoungxi/MINYOUNGXI/XFL/Data/OASIS_MNI_to_TRs/volume_21.nii.gz\n",
      "Running FLIRT on /home/minyoungxi/MINYOUNGXI/XFL/Data/OASIS_MNI_to_TRs/masked_volume_21.nii.gz\n"
     ]
    },
    {
     "name": "stderr",
     "output_type": "stream",
     "text": [
      "Processing volumes for subject 30061:  13%|█▎        | 22/164 [01:52<11:57,  5.05s/it]"
     ]
    },
    {
     "name": "stdout",
     "output_type": "stream",
     "text": [
      "Applying mask to /home/minyoungxi/MINYOUNGXI/XFL/Data/OASIS_MNI_to_TRs/volume_22.nii.gz\n",
      "Running FLIRT on /home/minyoungxi/MINYOUNGXI/XFL/Data/OASIS_MNI_to_TRs/masked_volume_22.nii.gz\n"
     ]
    },
    {
     "name": "stderr",
     "output_type": "stream",
     "text": [
      "Processing volumes for subject 30061:  14%|█▍        | 23/164 [01:57<11:53,  5.06s/it]"
     ]
    },
    {
     "name": "stdout",
     "output_type": "stream",
     "text": [
      "Applying mask to /home/minyoungxi/MINYOUNGXI/XFL/Data/OASIS_MNI_to_TRs/volume_23.nii.gz\n",
      "Running FLIRT on /home/minyoungxi/MINYOUNGXI/XFL/Data/OASIS_MNI_to_TRs/masked_volume_23.nii.gz\n"
     ]
    },
    {
     "name": "stderr",
     "output_type": "stream",
     "text": [
      "Processing volumes for subject 30061:  15%|█▍        | 24/164 [02:02<11:49,  5.06s/it]"
     ]
    },
    {
     "name": "stdout",
     "output_type": "stream",
     "text": [
      "Applying mask to /home/minyoungxi/MINYOUNGXI/XFL/Data/OASIS_MNI_to_TRs/volume_24.nii.gz\n",
      "Running FLIRT on /home/minyoungxi/MINYOUNGXI/XFL/Data/OASIS_MNI_to_TRs/masked_volume_24.nii.gz\n"
     ]
    },
    {
     "name": "stderr",
     "output_type": "stream",
     "text": [
      "Processing volumes for subject 30061:  15%|█▌        | 25/164 [02:07<11:44,  5.07s/it]"
     ]
    },
    {
     "name": "stdout",
     "output_type": "stream",
     "text": [
      "Applying mask to /home/minyoungxi/MINYOUNGXI/XFL/Data/OASIS_MNI_to_TRs/volume_25.nii.gz\n",
      "Running FLIRT on /home/minyoungxi/MINYOUNGXI/XFL/Data/OASIS_MNI_to_TRs/masked_volume_25.nii.gz\n"
     ]
    },
    {
     "name": "stderr",
     "output_type": "stream",
     "text": [
      "Processing volumes for subject 30061:  16%|█▌        | 26/164 [02:12<11:37,  5.05s/it]"
     ]
    },
    {
     "name": "stdout",
     "output_type": "stream",
     "text": [
      "Applying mask to /home/minyoungxi/MINYOUNGXI/XFL/Data/OASIS_MNI_to_TRs/volume_26.nii.gz\n",
      "Running FLIRT on /home/minyoungxi/MINYOUNGXI/XFL/Data/OASIS_MNI_to_TRs/masked_volume_26.nii.gz\n"
     ]
    },
    {
     "name": "stderr",
     "output_type": "stream",
     "text": [
      "Processing volumes for subject 30061:  16%|█▋        | 27/164 [02:17<11:32,  5.05s/it]"
     ]
    },
    {
     "name": "stdout",
     "output_type": "stream",
     "text": [
      "Applying mask to /home/minyoungxi/MINYOUNGXI/XFL/Data/OASIS_MNI_to_TRs/volume_27.nii.gz\n",
      "Running FLIRT on /home/minyoungxi/MINYOUNGXI/XFL/Data/OASIS_MNI_to_TRs/masked_volume_27.nii.gz\n"
     ]
    },
    {
     "name": "stderr",
     "output_type": "stream",
     "text": [
      "Processing volumes for subject 30061:  17%|█▋        | 28/164 [02:22<11:28,  5.06s/it]"
     ]
    },
    {
     "name": "stdout",
     "output_type": "stream",
     "text": [
      "Applying mask to /home/minyoungxi/MINYOUNGXI/XFL/Data/OASIS_MNI_to_TRs/volume_28.nii.gz\n",
      "Running FLIRT on /home/minyoungxi/MINYOUNGXI/XFL/Data/OASIS_MNI_to_TRs/masked_volume_28.nii.gz\n"
     ]
    },
    {
     "name": "stderr",
     "output_type": "stream",
     "text": [
      "Processing volumes for subject 30061:  18%|█▊        | 29/164 [02:27<11:25,  5.08s/it]"
     ]
    },
    {
     "name": "stdout",
     "output_type": "stream",
     "text": [
      "Applying mask to /home/minyoungxi/MINYOUNGXI/XFL/Data/OASIS_MNI_to_TRs/volume_29.nii.gz\n",
      "Running FLIRT on /home/minyoungxi/MINYOUNGXI/XFL/Data/OASIS_MNI_to_TRs/masked_volume_29.nii.gz\n"
     ]
    },
    {
     "name": "stderr",
     "output_type": "stream",
     "text": [
      "Processing volumes for subject 30061:  18%|█▊        | 30/164 [02:33<11:25,  5.11s/it]"
     ]
    },
    {
     "name": "stdout",
     "output_type": "stream",
     "text": [
      "Applying mask to /home/minyoungxi/MINYOUNGXI/XFL/Data/OASIS_MNI_to_TRs/volume_30.nii.gz\n",
      "Running FLIRT on /home/minyoungxi/MINYOUNGXI/XFL/Data/OASIS_MNI_to_TRs/masked_volume_30.nii.gz\n"
     ]
    },
    {
     "name": "stderr",
     "output_type": "stream",
     "text": [
      "Processing volumes for subject 30061:  19%|█▉        | 31/164 [02:38<11:22,  5.13s/it]"
     ]
    },
    {
     "name": "stdout",
     "output_type": "stream",
     "text": [
      "Applying mask to /home/minyoungxi/MINYOUNGXI/XFL/Data/OASIS_MNI_to_TRs/volume_31.nii.gz\n",
      "Running FLIRT on /home/minyoungxi/MINYOUNGXI/XFL/Data/OASIS_MNI_to_TRs/masked_volume_31.nii.gz\n"
     ]
    },
    {
     "name": "stderr",
     "output_type": "stream",
     "text": [
      "Processing volumes for subject 30061:  20%|█▉        | 32/164 [02:43<11:13,  5.10s/it]"
     ]
    },
    {
     "name": "stdout",
     "output_type": "stream",
     "text": [
      "Applying mask to /home/minyoungxi/MINYOUNGXI/XFL/Data/OASIS_MNI_to_TRs/volume_32.nii.gz\n",
      "Running FLIRT on /home/minyoungxi/MINYOUNGXI/XFL/Data/OASIS_MNI_to_TRs/masked_volume_32.nii.gz\n"
     ]
    },
    {
     "name": "stderr",
     "output_type": "stream",
     "text": [
      "Processing volumes for subject 30061:  20%|██        | 33/164 [02:48<11:03,  5.06s/it]"
     ]
    },
    {
     "name": "stdout",
     "output_type": "stream",
     "text": [
      "Applying mask to /home/minyoungxi/MINYOUNGXI/XFL/Data/OASIS_MNI_to_TRs/volume_33.nii.gz\n",
      "Running FLIRT on /home/minyoungxi/MINYOUNGXI/XFL/Data/OASIS_MNI_to_TRs/masked_volume_33.nii.gz\n"
     ]
    },
    {
     "name": "stderr",
     "output_type": "stream",
     "text": [
      "Processing volumes for subject 30061:  21%|██        | 34/164 [02:53<10:59,  5.07s/it]"
     ]
    },
    {
     "name": "stdout",
     "output_type": "stream",
     "text": [
      "Applying mask to /home/minyoungxi/MINYOUNGXI/XFL/Data/OASIS_MNI_to_TRs/volume_34.nii.gz\n",
      "Running FLIRT on /home/minyoungxi/MINYOUNGXI/XFL/Data/OASIS_MNI_to_TRs/masked_volume_34.nii.gz\n"
     ]
    },
    {
     "name": "stderr",
     "output_type": "stream",
     "text": [
      "Processing volumes for subject 30061:  21%|██▏       | 35/164 [02:58<10:56,  5.09s/it]"
     ]
    },
    {
     "name": "stdout",
     "output_type": "stream",
     "text": [
      "Applying mask to /home/minyoungxi/MINYOUNGXI/XFL/Data/OASIS_MNI_to_TRs/volume_35.nii.gz\n",
      "Running FLIRT on /home/minyoungxi/MINYOUNGXI/XFL/Data/OASIS_MNI_to_TRs/masked_volume_35.nii.gz\n"
     ]
    },
    {
     "name": "stderr",
     "output_type": "stream",
     "text": [
      "Processing volumes for subject 30061:  22%|██▏       | 36/164 [03:03<10:51,  5.09s/it]"
     ]
    },
    {
     "name": "stdout",
     "output_type": "stream",
     "text": [
      "Applying mask to /home/minyoungxi/MINYOUNGXI/XFL/Data/OASIS_MNI_to_TRs/volume_36.nii.gz\n",
      "Running FLIRT on /home/minyoungxi/MINYOUNGXI/XFL/Data/OASIS_MNI_to_TRs/masked_volume_36.nii.gz\n"
     ]
    },
    {
     "name": "stderr",
     "output_type": "stream",
     "text": [
      "Processing volumes for subject 30061:  23%|██▎       | 37/164 [03:08<10:43,  5.06s/it]"
     ]
    },
    {
     "name": "stdout",
     "output_type": "stream",
     "text": [
      "Applying mask to /home/minyoungxi/MINYOUNGXI/XFL/Data/OASIS_MNI_to_TRs/volume_37.nii.gz\n",
      "Running FLIRT on /home/minyoungxi/MINYOUNGXI/XFL/Data/OASIS_MNI_to_TRs/masked_volume_37.nii.gz\n"
     ]
    },
    {
     "name": "stderr",
     "output_type": "stream",
     "text": [
      "Processing volumes for subject 30061:  23%|██▎       | 38/164 [03:13<10:38,  5.07s/it]"
     ]
    },
    {
     "name": "stdout",
     "output_type": "stream",
     "text": [
      "Applying mask to /home/minyoungxi/MINYOUNGXI/XFL/Data/OASIS_MNI_to_TRs/volume_38.nii.gz\n",
      "Running FLIRT on /home/minyoungxi/MINYOUNGXI/XFL/Data/OASIS_MNI_to_TRs/masked_volume_38.nii.gz\n"
     ]
    },
    {
     "name": "stderr",
     "output_type": "stream",
     "text": [
      "Processing volumes for subject 30061:  24%|██▍       | 39/164 [03:18<10:31,  5.05s/it]"
     ]
    },
    {
     "name": "stdout",
     "output_type": "stream",
     "text": [
      "Applying mask to /home/minyoungxi/MINYOUNGXI/XFL/Data/OASIS_MNI_to_TRs/volume_39.nii.gz\n",
      "Running FLIRT on /home/minyoungxi/MINYOUNGXI/XFL/Data/OASIS_MNI_to_TRs/masked_volume_39.nii.gz\n"
     ]
    },
    {
     "name": "stderr",
     "output_type": "stream",
     "text": [
      "Processing volumes for subject 30061:  24%|██▍       | 40/164 [03:23<10:28,  5.07s/it]"
     ]
    },
    {
     "name": "stdout",
     "output_type": "stream",
     "text": [
      "Applying mask to /home/minyoungxi/MINYOUNGXI/XFL/Data/OASIS_MNI_to_TRs/volume_40.nii.gz\n",
      "Running FLIRT on /home/minyoungxi/MINYOUNGXI/XFL/Data/OASIS_MNI_to_TRs/masked_volume_40.nii.gz\n"
     ]
    },
    {
     "name": "stderr",
     "output_type": "stream",
     "text": [
      "Processing volumes for subject 30061:  25%|██▌       | 41/164 [03:28<10:22,  5.06s/it]"
     ]
    },
    {
     "name": "stdout",
     "output_type": "stream",
     "text": [
      "Applying mask to /home/minyoungxi/MINYOUNGXI/XFL/Data/OASIS_MNI_to_TRs/volume_41.nii.gz\n",
      "Running FLIRT on /home/minyoungxi/MINYOUNGXI/XFL/Data/OASIS_MNI_to_TRs/masked_volume_41.nii.gz\n"
     ]
    },
    {
     "name": "stderr",
     "output_type": "stream",
     "text": [
      "Processing volumes for subject 30061:  26%|██▌       | 42/164 [03:33<10:15,  5.05s/it]"
     ]
    },
    {
     "name": "stdout",
     "output_type": "stream",
     "text": [
      "Applying mask to /home/minyoungxi/MINYOUNGXI/XFL/Data/OASIS_MNI_to_TRs/volume_42.nii.gz\n",
      "Running FLIRT on /home/minyoungxi/MINYOUNGXI/XFL/Data/OASIS_MNI_to_TRs/masked_volume_42.nii.gz\n"
     ]
    },
    {
     "name": "stderr",
     "output_type": "stream",
     "text": [
      "Processing volumes for subject 30061:  26%|██▌       | 43/164 [03:38<10:10,  5.04s/it]"
     ]
    },
    {
     "name": "stdout",
     "output_type": "stream",
     "text": [
      "Applying mask to /home/minyoungxi/MINYOUNGXI/XFL/Data/OASIS_MNI_to_TRs/volume_43.nii.gz\n",
      "Running FLIRT on /home/minyoungxi/MINYOUNGXI/XFL/Data/OASIS_MNI_to_TRs/masked_volume_43.nii.gz\n"
     ]
    },
    {
     "name": "stderr",
     "output_type": "stream",
     "text": [
      "Processing volumes for subject 30061:  27%|██▋       | 44/164 [03:43<10:06,  5.05s/it]"
     ]
    },
    {
     "name": "stdout",
     "output_type": "stream",
     "text": [
      "Applying mask to /home/minyoungxi/MINYOUNGXI/XFL/Data/OASIS_MNI_to_TRs/volume_44.nii.gz\n",
      "Running FLIRT on /home/minyoungxi/MINYOUNGXI/XFL/Data/OASIS_MNI_to_TRs/masked_volume_44.nii.gz\n"
     ]
    },
    {
     "name": "stderr",
     "output_type": "stream",
     "text": [
      "Processing volumes for subject 30061:  27%|██▋       | 45/164 [03:48<10:01,  5.05s/it]"
     ]
    },
    {
     "name": "stdout",
     "output_type": "stream",
     "text": [
      "Applying mask to /home/minyoungxi/MINYOUNGXI/XFL/Data/OASIS_MNI_to_TRs/volume_45.nii.gz\n",
      "Running FLIRT on /home/minyoungxi/MINYOUNGXI/XFL/Data/OASIS_MNI_to_TRs/masked_volume_45.nii.gz\n"
     ]
    },
    {
     "name": "stderr",
     "output_type": "stream",
     "text": [
      "Processing volumes for subject 30061:  28%|██▊       | 46/164 [03:54<09:58,  5.08s/it]"
     ]
    },
    {
     "name": "stdout",
     "output_type": "stream",
     "text": [
      "Applying mask to /home/minyoungxi/MINYOUNGXI/XFL/Data/OASIS_MNI_to_TRs/volume_46.nii.gz\n",
      "Running FLIRT on /home/minyoungxi/MINYOUNGXI/XFL/Data/OASIS_MNI_to_TRs/masked_volume_46.nii.gz\n"
     ]
    },
    {
     "name": "stderr",
     "output_type": "stream",
     "text": [
      "Processing volumes for subject 30061:  29%|██▊       | 47/164 [03:59<09:53,  5.07s/it]"
     ]
    },
    {
     "name": "stdout",
     "output_type": "stream",
     "text": [
      "Applying mask to /home/minyoungxi/MINYOUNGXI/XFL/Data/OASIS_MNI_to_TRs/volume_47.nii.gz\n",
      "Running FLIRT on /home/minyoungxi/MINYOUNGXI/XFL/Data/OASIS_MNI_to_TRs/masked_volume_47.nii.gz\n"
     ]
    },
    {
     "name": "stderr",
     "output_type": "stream",
     "text": [
      "Processing volumes for subject 30061:  29%|██▉       | 48/164 [04:04<09:46,  5.06s/it]"
     ]
    },
    {
     "name": "stdout",
     "output_type": "stream",
     "text": [
      "Applying mask to /home/minyoungxi/MINYOUNGXI/XFL/Data/OASIS_MNI_to_TRs/volume_48.nii.gz\n",
      "Running FLIRT on /home/minyoungxi/MINYOUNGXI/XFL/Data/OASIS_MNI_to_TRs/masked_volume_48.nii.gz\n"
     ]
    },
    {
     "name": "stderr",
     "output_type": "stream",
     "text": [
      "Processing volumes for subject 30061:  30%|██▉       | 49/164 [04:09<09:43,  5.07s/it]"
     ]
    },
    {
     "name": "stdout",
     "output_type": "stream",
     "text": [
      "Applying mask to /home/minyoungxi/MINYOUNGXI/XFL/Data/OASIS_MNI_to_TRs/volume_49.nii.gz\n",
      "Running FLIRT on /home/minyoungxi/MINYOUNGXI/XFL/Data/OASIS_MNI_to_TRs/masked_volume_49.nii.gz\n"
     ]
    },
    {
     "name": "stderr",
     "output_type": "stream",
     "text": [
      "Processing volumes for subject 30061:  30%|███       | 50/164 [04:14<09:39,  5.08s/it]"
     ]
    },
    {
     "name": "stdout",
     "output_type": "stream",
     "text": [
      "Applying mask to /home/minyoungxi/MINYOUNGXI/XFL/Data/OASIS_MNI_to_TRs/volume_50.nii.gz\n",
      "Running FLIRT on /home/minyoungxi/MINYOUNGXI/XFL/Data/OASIS_MNI_to_TRs/masked_volume_50.nii.gz\n"
     ]
    },
    {
     "name": "stderr",
     "output_type": "stream",
     "text": [
      "Processing volumes for subject 30061:  31%|███       | 51/164 [04:19<09:36,  5.10s/it]"
     ]
    },
    {
     "name": "stdout",
     "output_type": "stream",
     "text": [
      "Applying mask to /home/minyoungxi/MINYOUNGXI/XFL/Data/OASIS_MNI_to_TRs/volume_51.nii.gz\n",
      "Running FLIRT on /home/minyoungxi/MINYOUNGXI/XFL/Data/OASIS_MNI_to_TRs/masked_volume_51.nii.gz\n"
     ]
    },
    {
     "name": "stderr",
     "output_type": "stream",
     "text": [
      "Processing volumes for subject 30061:  32%|███▏      | 52/164 [04:24<09:30,  5.09s/it]"
     ]
    },
    {
     "name": "stdout",
     "output_type": "stream",
     "text": [
      "Applying mask to /home/minyoungxi/MINYOUNGXI/XFL/Data/OASIS_MNI_to_TRs/volume_52.nii.gz\n",
      "Running FLIRT on /home/minyoungxi/MINYOUNGXI/XFL/Data/OASIS_MNI_to_TRs/masked_volume_52.nii.gz\n"
     ]
    },
    {
     "name": "stderr",
     "output_type": "stream",
     "text": [
      "Processing volumes for subject 30061:  32%|███▏      | 53/164 [04:29<09:23,  5.08s/it]"
     ]
    },
    {
     "name": "stdout",
     "output_type": "stream",
     "text": [
      "Applying mask to /home/minyoungxi/MINYOUNGXI/XFL/Data/OASIS_MNI_to_TRs/volume_53.nii.gz\n",
      "Running FLIRT on /home/minyoungxi/MINYOUNGXI/XFL/Data/OASIS_MNI_to_TRs/masked_volume_53.nii.gz\n"
     ]
    },
    {
     "name": "stderr",
     "output_type": "stream",
     "text": [
      "Processing volumes for subject 30061:  33%|███▎      | 54/164 [04:34<09:18,  5.08s/it]"
     ]
    },
    {
     "name": "stdout",
     "output_type": "stream",
     "text": [
      "Applying mask to /home/minyoungxi/MINYOUNGXI/XFL/Data/OASIS_MNI_to_TRs/volume_54.nii.gz\n",
      "Running FLIRT on /home/minyoungxi/MINYOUNGXI/XFL/Data/OASIS_MNI_to_TRs/masked_volume_54.nii.gz\n"
     ]
    },
    {
     "name": "stderr",
     "output_type": "stream",
     "text": [
      "Processing volumes for subject 30061:  34%|███▎      | 55/164 [04:39<09:13,  5.07s/it]"
     ]
    },
    {
     "name": "stdout",
     "output_type": "stream",
     "text": [
      "Applying mask to /home/minyoungxi/MINYOUNGXI/XFL/Data/OASIS_MNI_to_TRs/volume_55.nii.gz\n",
      "Running FLIRT on /home/minyoungxi/MINYOUNGXI/XFL/Data/OASIS_MNI_to_TRs/masked_volume_55.nii.gz\n"
     ]
    },
    {
     "name": "stderr",
     "output_type": "stream",
     "text": [
      "Processing volumes for subject 30061:  34%|███▍      | 56/164 [04:44<09:10,  5.09s/it]"
     ]
    },
    {
     "name": "stdout",
     "output_type": "stream",
     "text": [
      "Applying mask to /home/minyoungxi/MINYOUNGXI/XFL/Data/OASIS_MNI_to_TRs/volume_56.nii.gz\n",
      "Running FLIRT on /home/minyoungxi/MINYOUNGXI/XFL/Data/OASIS_MNI_to_TRs/masked_volume_56.nii.gz\n"
     ]
    },
    {
     "name": "stderr",
     "output_type": "stream",
     "text": [
      "Processing volumes for subject 30061:  35%|███▍      | 57/164 [04:49<09:04,  5.09s/it]"
     ]
    },
    {
     "name": "stdout",
     "output_type": "stream",
     "text": [
      "Applying mask to /home/minyoungxi/MINYOUNGXI/XFL/Data/OASIS_MNI_to_TRs/volume_57.nii.gz\n",
      "Running FLIRT on /home/minyoungxi/MINYOUNGXI/XFL/Data/OASIS_MNI_to_TRs/masked_volume_57.nii.gz\n"
     ]
    },
    {
     "name": "stderr",
     "output_type": "stream",
     "text": [
      "Processing volumes for subject 30061:  35%|███▌      | 58/164 [04:55<08:58,  5.08s/it]"
     ]
    },
    {
     "name": "stdout",
     "output_type": "stream",
     "text": [
      "Applying mask to /home/minyoungxi/MINYOUNGXI/XFL/Data/OASIS_MNI_to_TRs/volume_58.nii.gz\n",
      "Running FLIRT on /home/minyoungxi/MINYOUNGXI/XFL/Data/OASIS_MNI_to_TRs/masked_volume_58.nii.gz\n"
     ]
    },
    {
     "name": "stderr",
     "output_type": "stream",
     "text": [
      "Processing volumes for subject 30061:  36%|███▌      | 59/164 [05:00<08:53,  5.08s/it]"
     ]
    },
    {
     "name": "stdout",
     "output_type": "stream",
     "text": [
      "Applying mask to /home/minyoungxi/MINYOUNGXI/XFL/Data/OASIS_MNI_to_TRs/volume_59.nii.gz\n",
      "Running FLIRT on /home/minyoungxi/MINYOUNGXI/XFL/Data/OASIS_MNI_to_TRs/masked_volume_59.nii.gz\n"
     ]
    },
    {
     "name": "stderr",
     "output_type": "stream",
     "text": [
      "Processing volumes for subject 30061:  37%|███▋      | 60/164 [05:05<08:47,  5.07s/it]"
     ]
    },
    {
     "name": "stdout",
     "output_type": "stream",
     "text": [
      "Applying mask to /home/minyoungxi/MINYOUNGXI/XFL/Data/OASIS_MNI_to_TRs/volume_60.nii.gz\n",
      "Running FLIRT on /home/minyoungxi/MINYOUNGXI/XFL/Data/OASIS_MNI_to_TRs/masked_volume_60.nii.gz\n"
     ]
    },
    {
     "name": "stderr",
     "output_type": "stream",
     "text": [
      "Processing volumes for subject 30061:  37%|███▋      | 61/164 [05:10<08:42,  5.07s/it]"
     ]
    },
    {
     "name": "stdout",
     "output_type": "stream",
     "text": [
      "Applying mask to /home/minyoungxi/MINYOUNGXI/XFL/Data/OASIS_MNI_to_TRs/volume_61.nii.gz\n",
      "Running FLIRT on /home/minyoungxi/MINYOUNGXI/XFL/Data/OASIS_MNI_to_TRs/masked_volume_61.nii.gz\n"
     ]
    },
    {
     "name": "stderr",
     "output_type": "stream",
     "text": [
      "Processing volumes for subject 30061:  38%|███▊      | 62/164 [05:15<08:37,  5.07s/it]"
     ]
    },
    {
     "name": "stdout",
     "output_type": "stream",
     "text": [
      "Applying mask to /home/minyoungxi/MINYOUNGXI/XFL/Data/OASIS_MNI_to_TRs/volume_62.nii.gz\n",
      "Running FLIRT on /home/minyoungxi/MINYOUNGXI/XFL/Data/OASIS_MNI_to_TRs/masked_volume_62.nii.gz\n"
     ]
    },
    {
     "name": "stderr",
     "output_type": "stream",
     "text": [
      "Processing volumes for subject 30061:  38%|███▊      | 63/164 [05:20<08:30,  5.05s/it]"
     ]
    },
    {
     "name": "stdout",
     "output_type": "stream",
     "text": [
      "Applying mask to /home/minyoungxi/MINYOUNGXI/XFL/Data/OASIS_MNI_to_TRs/volume_63.nii.gz\n",
      "Running FLIRT on /home/minyoungxi/MINYOUNGXI/XFL/Data/OASIS_MNI_to_TRs/masked_volume_63.nii.gz\n"
     ]
    },
    {
     "name": "stderr",
     "output_type": "stream",
     "text": [
      "Processing volumes for subject 30061:  39%|███▉      | 64/164 [05:25<08:25,  5.06s/it]"
     ]
    },
    {
     "name": "stdout",
     "output_type": "stream",
     "text": [
      "Applying mask to /home/minyoungxi/MINYOUNGXI/XFL/Data/OASIS_MNI_to_TRs/volume_64.nii.gz\n",
      "Running FLIRT on /home/minyoungxi/MINYOUNGXI/XFL/Data/OASIS_MNI_to_TRs/masked_volume_64.nii.gz\n"
     ]
    },
    {
     "name": "stderr",
     "output_type": "stream",
     "text": [
      "Processing volumes for subject 30061:  40%|███▉      | 65/164 [05:30<08:22,  5.08s/it]"
     ]
    },
    {
     "name": "stdout",
     "output_type": "stream",
     "text": [
      "Applying mask to /home/minyoungxi/MINYOUNGXI/XFL/Data/OASIS_MNI_to_TRs/volume_65.nii.gz\n",
      "Running FLIRT on /home/minyoungxi/MINYOUNGXI/XFL/Data/OASIS_MNI_to_TRs/masked_volume_65.nii.gz\n"
     ]
    },
    {
     "name": "stderr",
     "output_type": "stream",
     "text": [
      "Processing volumes for subject 30061:  40%|████      | 66/164 [05:35<08:16,  5.07s/it]"
     ]
    },
    {
     "name": "stdout",
     "output_type": "stream",
     "text": [
      "Applying mask to /home/minyoungxi/MINYOUNGXI/XFL/Data/OASIS_MNI_to_TRs/volume_66.nii.gz\n",
      "Running FLIRT on /home/minyoungxi/MINYOUNGXI/XFL/Data/OASIS_MNI_to_TRs/masked_volume_66.nii.gz\n"
     ]
    },
    {
     "name": "stderr",
     "output_type": "stream",
     "text": [
      "Processing volumes for subject 30061:  41%|████      | 67/164 [05:40<08:08,  5.04s/it]"
     ]
    },
    {
     "name": "stdout",
     "output_type": "stream",
     "text": [
      "Applying mask to /home/minyoungxi/MINYOUNGXI/XFL/Data/OASIS_MNI_to_TRs/volume_67.nii.gz\n",
      "Running FLIRT on /home/minyoungxi/MINYOUNGXI/XFL/Data/OASIS_MNI_to_TRs/masked_volume_67.nii.gz\n"
     ]
    },
    {
     "name": "stderr",
     "output_type": "stream",
     "text": [
      "Processing volumes for subject 30061:  41%|████▏     | 68/164 [05:45<08:06,  5.07s/it]"
     ]
    },
    {
     "name": "stdout",
     "output_type": "stream",
     "text": [
      "Applying mask to /home/minyoungxi/MINYOUNGXI/XFL/Data/OASIS_MNI_to_TRs/volume_68.nii.gz\n",
      "Running FLIRT on /home/minyoungxi/MINYOUNGXI/XFL/Data/OASIS_MNI_to_TRs/masked_volume_68.nii.gz\n"
     ]
    },
    {
     "name": "stderr",
     "output_type": "stream",
     "text": [
      "Processing volumes for subject 30061:  42%|████▏     | 69/164 [05:50<08:04,  5.11s/it]"
     ]
    },
    {
     "name": "stdout",
     "output_type": "stream",
     "text": [
      "Applying mask to /home/minyoungxi/MINYOUNGXI/XFL/Data/OASIS_MNI_to_TRs/volume_69.nii.gz\n",
      "Running FLIRT on /home/minyoungxi/MINYOUNGXI/XFL/Data/OASIS_MNI_to_TRs/masked_volume_69.nii.gz\n"
     ]
    },
    {
     "name": "stderr",
     "output_type": "stream",
     "text": [
      "Processing volumes for subject 30061:  43%|████▎     | 70/164 [05:55<07:57,  5.08s/it]"
     ]
    },
    {
     "name": "stdout",
     "output_type": "stream",
     "text": [
      "Applying mask to /home/minyoungxi/MINYOUNGXI/XFL/Data/OASIS_MNI_to_TRs/volume_70.nii.gz\n",
      "Running FLIRT on /home/minyoungxi/MINYOUNGXI/XFL/Data/OASIS_MNI_to_TRs/masked_volume_70.nii.gz\n"
     ]
    },
    {
     "name": "stderr",
     "output_type": "stream",
     "text": [
      "Processing volumes for subject 30061:  43%|████▎     | 71/164 [06:00<07:51,  5.07s/it]"
     ]
    },
    {
     "name": "stdout",
     "output_type": "stream",
     "text": [
      "Applying mask to /home/minyoungxi/MINYOUNGXI/XFL/Data/OASIS_MNI_to_TRs/volume_71.nii.gz\n",
      "Running FLIRT on /home/minyoungxi/MINYOUNGXI/XFL/Data/OASIS_MNI_to_TRs/masked_volume_71.nii.gz\n"
     ]
    },
    {
     "name": "stderr",
     "output_type": "stream",
     "text": [
      "Processing volumes for subject 30061:  44%|████▍     | 72/164 [06:05<07:46,  5.08s/it]"
     ]
    },
    {
     "name": "stdout",
     "output_type": "stream",
     "text": [
      "Applying mask to /home/minyoungxi/MINYOUNGXI/XFL/Data/OASIS_MNI_to_TRs/volume_72.nii.gz\n",
      "Running FLIRT on /home/minyoungxi/MINYOUNGXI/XFL/Data/OASIS_MNI_to_TRs/masked_volume_72.nii.gz\n"
     ]
    },
    {
     "name": "stderr",
     "output_type": "stream",
     "text": [
      "Processing volumes for subject 30061:  45%|████▍     | 73/164 [06:11<07:41,  5.07s/it]"
     ]
    },
    {
     "name": "stdout",
     "output_type": "stream",
     "text": [
      "Applying mask to /home/minyoungxi/MINYOUNGXI/XFL/Data/OASIS_MNI_to_TRs/volume_73.nii.gz\n",
      "Running FLIRT on /home/minyoungxi/MINYOUNGXI/XFL/Data/OASIS_MNI_to_TRs/masked_volume_73.nii.gz\n"
     ]
    },
    {
     "name": "stderr",
     "output_type": "stream",
     "text": [
      "Processing volumes for subject 30061:  45%|████▌     | 74/164 [06:16<07:37,  5.08s/it]"
     ]
    },
    {
     "name": "stdout",
     "output_type": "stream",
     "text": [
      "Applying mask to /home/minyoungxi/MINYOUNGXI/XFL/Data/OASIS_MNI_to_TRs/volume_74.nii.gz\n",
      "Running FLIRT on /home/minyoungxi/MINYOUNGXI/XFL/Data/OASIS_MNI_to_TRs/masked_volume_74.nii.gz\n"
     ]
    },
    {
     "name": "stderr",
     "output_type": "stream",
     "text": [
      "Processing volumes for subject 30061:  46%|████▌     | 75/164 [06:21<07:31,  5.08s/it]"
     ]
    },
    {
     "name": "stdout",
     "output_type": "stream",
     "text": [
      "Applying mask to /home/minyoungxi/MINYOUNGXI/XFL/Data/OASIS_MNI_to_TRs/volume_75.nii.gz\n",
      "Running FLIRT on /home/minyoungxi/MINYOUNGXI/XFL/Data/OASIS_MNI_to_TRs/masked_volume_75.nii.gz\n"
     ]
    },
    {
     "name": "stderr",
     "output_type": "stream",
     "text": [
      "Processing volumes for subject 30061:  46%|████▋     | 76/164 [06:26<07:27,  5.09s/it]"
     ]
    },
    {
     "name": "stdout",
     "output_type": "stream",
     "text": [
      "Applying mask to /home/minyoungxi/MINYOUNGXI/XFL/Data/OASIS_MNI_to_TRs/volume_76.nii.gz\n",
      "Running FLIRT on /home/minyoungxi/MINYOUNGXI/XFL/Data/OASIS_MNI_to_TRs/masked_volume_76.nii.gz\n"
     ]
    },
    {
     "name": "stderr",
     "output_type": "stream",
     "text": [
      "Processing volumes for subject 30061:  47%|████▋     | 77/164 [06:31<07:21,  5.07s/it]"
     ]
    },
    {
     "name": "stdout",
     "output_type": "stream",
     "text": [
      "Applying mask to /home/minyoungxi/MINYOUNGXI/XFL/Data/OASIS_MNI_to_TRs/volume_77.nii.gz\n",
      "Running FLIRT on /home/minyoungxi/MINYOUNGXI/XFL/Data/OASIS_MNI_to_TRs/masked_volume_77.nii.gz\n"
     ]
    },
    {
     "name": "stderr",
     "output_type": "stream",
     "text": [
      "Processing volumes for subject 30061:  48%|████▊     | 78/164 [06:36<07:17,  5.08s/it]"
     ]
    },
    {
     "name": "stdout",
     "output_type": "stream",
     "text": [
      "Applying mask to /home/minyoungxi/MINYOUNGXI/XFL/Data/OASIS_MNI_to_TRs/volume_78.nii.gz\n",
      "Running FLIRT on /home/minyoungxi/MINYOUNGXI/XFL/Data/OASIS_MNI_to_TRs/masked_volume_78.nii.gz\n"
     ]
    },
    {
     "name": "stderr",
     "output_type": "stream",
     "text": [
      "Processing volumes for subject 30061:  48%|████▊     | 79/164 [06:41<07:12,  5.08s/it]"
     ]
    },
    {
     "name": "stdout",
     "output_type": "stream",
     "text": [
      "Applying mask to /home/minyoungxi/MINYOUNGXI/XFL/Data/OASIS_MNI_to_TRs/volume_79.nii.gz\n",
      "Running FLIRT on /home/minyoungxi/MINYOUNGXI/XFL/Data/OASIS_MNI_to_TRs/masked_volume_79.nii.gz\n"
     ]
    },
    {
     "name": "stderr",
     "output_type": "stream",
     "text": [
      "Processing volumes for subject 30061:  49%|████▉     | 80/164 [06:46<07:08,  5.10s/it]"
     ]
    },
    {
     "name": "stdout",
     "output_type": "stream",
     "text": [
      "Applying mask to /home/minyoungxi/MINYOUNGXI/XFL/Data/OASIS_MNI_to_TRs/volume_80.nii.gz\n",
      "Running FLIRT on /home/minyoungxi/MINYOUNGXI/XFL/Data/OASIS_MNI_to_TRs/masked_volume_80.nii.gz\n"
     ]
    },
    {
     "name": "stderr",
     "output_type": "stream",
     "text": [
      "Processing volumes for subject 30061:  49%|████▉     | 81/164 [06:51<07:04,  5.12s/it]"
     ]
    },
    {
     "name": "stdout",
     "output_type": "stream",
     "text": [
      "Applying mask to /home/minyoungxi/MINYOUNGXI/XFL/Data/OASIS_MNI_to_TRs/volume_81.nii.gz\n",
      "Running FLIRT on /home/minyoungxi/MINYOUNGXI/XFL/Data/OASIS_MNI_to_TRs/masked_volume_81.nii.gz\n"
     ]
    },
    {
     "name": "stderr",
     "output_type": "stream",
     "text": [
      "Processing volumes for subject 30061:  50%|█████     | 82/164 [06:57<07:00,  5.12s/it]"
     ]
    },
    {
     "name": "stdout",
     "output_type": "stream",
     "text": [
      "Applying mask to /home/minyoungxi/MINYOUNGXI/XFL/Data/OASIS_MNI_to_TRs/volume_82.nii.gz\n",
      "Running FLIRT on /home/minyoungxi/MINYOUNGXI/XFL/Data/OASIS_MNI_to_TRs/masked_volume_82.nii.gz\n"
     ]
    },
    {
     "name": "stderr",
     "output_type": "stream",
     "text": [
      "Processing volumes for subject 30061:  51%|█████     | 83/164 [07:02<06:55,  5.13s/it]"
     ]
    },
    {
     "name": "stdout",
     "output_type": "stream",
     "text": [
      "Applying mask to /home/minyoungxi/MINYOUNGXI/XFL/Data/OASIS_MNI_to_TRs/volume_83.nii.gz\n",
      "Running FLIRT on /home/minyoungxi/MINYOUNGXI/XFL/Data/OASIS_MNI_to_TRs/masked_volume_83.nii.gz\n"
     ]
    },
    {
     "name": "stderr",
     "output_type": "stream",
     "text": [
      "Processing volumes for subject 30061:  51%|█████     | 84/164 [07:07<06:47,  5.09s/it]"
     ]
    },
    {
     "name": "stdout",
     "output_type": "stream",
     "text": [
      "Applying mask to /home/minyoungxi/MINYOUNGXI/XFL/Data/OASIS_MNI_to_TRs/volume_84.nii.gz\n",
      "Running FLIRT on /home/minyoungxi/MINYOUNGXI/XFL/Data/OASIS_MNI_to_TRs/masked_volume_84.nii.gz\n"
     ]
    },
    {
     "name": "stderr",
     "output_type": "stream",
     "text": [
      "Processing volumes for subject 30061:  52%|█████▏    | 85/164 [07:12<06:40,  5.07s/it]"
     ]
    },
    {
     "name": "stdout",
     "output_type": "stream",
     "text": [
      "Applying mask to /home/minyoungxi/MINYOUNGXI/XFL/Data/OASIS_MNI_to_TRs/volume_85.nii.gz\n",
      "Running FLIRT on /home/minyoungxi/MINYOUNGXI/XFL/Data/OASIS_MNI_to_TRs/masked_volume_85.nii.gz\n"
     ]
    },
    {
     "name": "stderr",
     "output_type": "stream",
     "text": [
      "Processing volumes for subject 30061:  52%|█████▏    | 86/164 [07:17<06:34,  5.06s/it]"
     ]
    },
    {
     "name": "stdout",
     "output_type": "stream",
     "text": [
      "Applying mask to /home/minyoungxi/MINYOUNGXI/XFL/Data/OASIS_MNI_to_TRs/volume_86.nii.gz\n",
      "Running FLIRT on /home/minyoungxi/MINYOUNGXI/XFL/Data/OASIS_MNI_to_TRs/masked_volume_86.nii.gz\n"
     ]
    },
    {
     "name": "stderr",
     "output_type": "stream",
     "text": [
      "Processing volumes for subject 30061:  53%|█████▎    | 87/164 [07:22<06:30,  5.07s/it]"
     ]
    },
    {
     "name": "stdout",
     "output_type": "stream",
     "text": [
      "Applying mask to /home/minyoungxi/MINYOUNGXI/XFL/Data/OASIS_MNI_to_TRs/volume_87.nii.gz\n",
      "Running FLIRT on /home/minyoungxi/MINYOUNGXI/XFL/Data/OASIS_MNI_to_TRs/masked_volume_87.nii.gz\n"
     ]
    },
    {
     "name": "stderr",
     "output_type": "stream",
     "text": [
      "Processing volumes for subject 30061:  54%|█████▎    | 88/164 [07:27<06:26,  5.08s/it]"
     ]
    },
    {
     "name": "stdout",
     "output_type": "stream",
     "text": [
      "Applying mask to /home/minyoungxi/MINYOUNGXI/XFL/Data/OASIS_MNI_to_TRs/volume_88.nii.gz\n",
      "Running FLIRT on /home/minyoungxi/MINYOUNGXI/XFL/Data/OASIS_MNI_to_TRs/masked_volume_88.nii.gz\n"
     ]
    },
    {
     "name": "stderr",
     "output_type": "stream",
     "text": [
      "Processing volumes for subject 30061:  54%|█████▍    | 89/164 [07:32<06:19,  5.06s/it]"
     ]
    },
    {
     "name": "stdout",
     "output_type": "stream",
     "text": [
      "Applying mask to /home/minyoungxi/MINYOUNGXI/XFL/Data/OASIS_MNI_to_TRs/volume_89.nii.gz\n",
      "Running FLIRT on /home/minyoungxi/MINYOUNGXI/XFL/Data/OASIS_MNI_to_TRs/masked_volume_89.nii.gz\n"
     ]
    },
    {
     "name": "stderr",
     "output_type": "stream",
     "text": [
      "Processing volumes for subject 30061:  55%|█████▍    | 90/164 [07:37<06:14,  5.07s/it]"
     ]
    },
    {
     "name": "stdout",
     "output_type": "stream",
     "text": [
      "Applying mask to /home/minyoungxi/MINYOUNGXI/XFL/Data/OASIS_MNI_to_TRs/volume_90.nii.gz\n",
      "Running FLIRT on /home/minyoungxi/MINYOUNGXI/XFL/Data/OASIS_MNI_to_TRs/masked_volume_90.nii.gz\n"
     ]
    },
    {
     "name": "stderr",
     "output_type": "stream",
     "text": [
      "Processing volumes for subject 30061:  55%|█████▌    | 91/164 [07:42<06:09,  5.07s/it]"
     ]
    },
    {
     "name": "stdout",
     "output_type": "stream",
     "text": [
      "Applying mask to /home/minyoungxi/MINYOUNGXI/XFL/Data/OASIS_MNI_to_TRs/volume_91.nii.gz\n",
      "Running FLIRT on /home/minyoungxi/MINYOUNGXI/XFL/Data/OASIS_MNI_to_TRs/masked_volume_91.nii.gz\n"
     ]
    },
    {
     "name": "stderr",
     "output_type": "stream",
     "text": [
      "Processing volumes for subject 30061:  56%|█████▌    | 92/164 [07:47<06:05,  5.08s/it]"
     ]
    },
    {
     "name": "stdout",
     "output_type": "stream",
     "text": [
      "Applying mask to /home/minyoungxi/MINYOUNGXI/XFL/Data/OASIS_MNI_to_TRs/volume_92.nii.gz\n",
      "Running FLIRT on /home/minyoungxi/MINYOUNGXI/XFL/Data/OASIS_MNI_to_TRs/masked_volume_92.nii.gz\n"
     ]
    },
    {
     "name": "stderr",
     "output_type": "stream",
     "text": [
      "Processing volumes for subject 30061:  57%|█████▋    | 93/164 [07:52<06:01,  5.09s/it]"
     ]
    },
    {
     "name": "stdout",
     "output_type": "stream",
     "text": [
      "Applying mask to /home/minyoungxi/MINYOUNGXI/XFL/Data/OASIS_MNI_to_TRs/volume_93.nii.gz\n",
      "Running FLIRT on /home/minyoungxi/MINYOUNGXI/XFL/Data/OASIS_MNI_to_TRs/masked_volume_93.nii.gz\n"
     ]
    },
    {
     "name": "stderr",
     "output_type": "stream",
     "text": [
      "Processing volumes for subject 30061:  57%|█████▋    | 94/164 [07:57<05:55,  5.08s/it]"
     ]
    },
    {
     "name": "stdout",
     "output_type": "stream",
     "text": [
      "Applying mask to /home/minyoungxi/MINYOUNGXI/XFL/Data/OASIS_MNI_to_TRs/volume_94.nii.gz\n",
      "Running FLIRT on /home/minyoungxi/MINYOUNGXI/XFL/Data/OASIS_MNI_to_TRs/masked_volume_94.nii.gz\n"
     ]
    },
    {
     "name": "stderr",
     "output_type": "stream",
     "text": [
      "Processing volumes for subject 30061:  58%|█████▊    | 95/164 [08:02<05:50,  5.07s/it]"
     ]
    },
    {
     "name": "stdout",
     "output_type": "stream",
     "text": [
      "Applying mask to /home/minyoungxi/MINYOUNGXI/XFL/Data/OASIS_MNI_to_TRs/volume_95.nii.gz\n",
      "Running FLIRT on /home/minyoungxi/MINYOUNGXI/XFL/Data/OASIS_MNI_to_TRs/masked_volume_95.nii.gz\n"
     ]
    },
    {
     "name": "stderr",
     "output_type": "stream",
     "text": [
      "Processing volumes for subject 30061:  59%|█████▊    | 96/164 [08:07<05:45,  5.08s/it]"
     ]
    },
    {
     "name": "stdout",
     "output_type": "stream",
     "text": [
      "Applying mask to /home/minyoungxi/MINYOUNGXI/XFL/Data/OASIS_MNI_to_TRs/volume_96.nii.gz\n",
      "Running FLIRT on /home/minyoungxi/MINYOUNGXI/XFL/Data/OASIS_MNI_to_TRs/masked_volume_96.nii.gz\n"
     ]
    },
    {
     "name": "stderr",
     "output_type": "stream",
     "text": [
      "Processing volumes for subject 30061:  59%|█████▉    | 97/164 [08:13<05:43,  5.13s/it]"
     ]
    },
    {
     "name": "stdout",
     "output_type": "stream",
     "text": [
      "Applying mask to /home/minyoungxi/MINYOUNGXI/XFL/Data/OASIS_MNI_to_TRs/volume_97.nii.gz\n",
      "Running FLIRT on /home/minyoungxi/MINYOUNGXI/XFL/Data/OASIS_MNI_to_TRs/masked_volume_97.nii.gz\n"
     ]
    },
    {
     "name": "stderr",
     "output_type": "stream",
     "text": [
      "Processing volumes for subject 30061:  60%|█████▉    | 98/164 [08:18<05:39,  5.14s/it]"
     ]
    },
    {
     "name": "stdout",
     "output_type": "stream",
     "text": [
      "Applying mask to /home/minyoungxi/MINYOUNGXI/XFL/Data/OASIS_MNI_to_TRs/volume_98.nii.gz\n",
      "Running FLIRT on /home/minyoungxi/MINYOUNGXI/XFL/Data/OASIS_MNI_to_TRs/masked_volume_98.nii.gz\n"
     ]
    },
    {
     "name": "stderr",
     "output_type": "stream",
     "text": [
      "Processing volumes for subject 30061:  60%|██████    | 99/164 [08:23<05:33,  5.14s/it]"
     ]
    },
    {
     "name": "stdout",
     "output_type": "stream",
     "text": [
      "Applying mask to /home/minyoungxi/MINYOUNGXI/XFL/Data/OASIS_MNI_to_TRs/volume_99.nii.gz\n",
      "Running FLIRT on /home/minyoungxi/MINYOUNGXI/XFL/Data/OASIS_MNI_to_TRs/masked_volume_99.nii.gz\n"
     ]
    },
    {
     "name": "stderr",
     "output_type": "stream",
     "text": [
      "Processing volumes for subject 30061:  61%|██████    | 100/164 [08:28<05:28,  5.13s/it]"
     ]
    },
    {
     "name": "stdout",
     "output_type": "stream",
     "text": [
      "Applying mask to /home/minyoungxi/MINYOUNGXI/XFL/Data/OASIS_MNI_to_TRs/volume_100.nii.gz\n",
      "Running FLIRT on /home/minyoungxi/MINYOUNGXI/XFL/Data/OASIS_MNI_to_TRs/masked_volume_100.nii.gz\n"
     ]
    },
    {
     "name": "stderr",
     "output_type": "stream",
     "text": [
      "Processing volumes for subject 30061:  62%|██████▏   | 101/164 [08:33<05:23,  5.14s/it]"
     ]
    },
    {
     "name": "stdout",
     "output_type": "stream",
     "text": [
      "Applying mask to /home/minyoungxi/MINYOUNGXI/XFL/Data/OASIS_MNI_to_TRs/volume_101.nii.gz\n",
      "Running FLIRT on /home/minyoungxi/MINYOUNGXI/XFL/Data/OASIS_MNI_to_TRs/masked_volume_101.nii.gz\n"
     ]
    },
    {
     "name": "stderr",
     "output_type": "stream",
     "text": [
      "Processing volumes for subject 30061:  62%|██████▏   | 102/164 [08:38<05:18,  5.14s/it]"
     ]
    },
    {
     "name": "stdout",
     "output_type": "stream",
     "text": [
      "Applying mask to /home/minyoungxi/MINYOUNGXI/XFL/Data/OASIS_MNI_to_TRs/volume_102.nii.gz\n",
      "Running FLIRT on /home/minyoungxi/MINYOUNGXI/XFL/Data/OASIS_MNI_to_TRs/masked_volume_102.nii.gz\n"
     ]
    },
    {
     "name": "stderr",
     "output_type": "stream",
     "text": [
      "Processing volumes for subject 30061:  63%|██████▎   | 103/164 [08:44<05:12,  5.12s/it]"
     ]
    },
    {
     "name": "stdout",
     "output_type": "stream",
     "text": [
      "Applying mask to /home/minyoungxi/MINYOUNGXI/XFL/Data/OASIS_MNI_to_TRs/volume_103.nii.gz\n",
      "Running FLIRT on /home/minyoungxi/MINYOUNGXI/XFL/Data/OASIS_MNI_to_TRs/masked_volume_103.nii.gz\n"
     ]
    },
    {
     "name": "stderr",
     "output_type": "stream",
     "text": [
      "Processing volumes for subject 30061:  63%|██████▎   | 104/164 [08:49<05:07,  5.13s/it]"
     ]
    },
    {
     "name": "stdout",
     "output_type": "stream",
     "text": [
      "Applying mask to /home/minyoungxi/MINYOUNGXI/XFL/Data/OASIS_MNI_to_TRs/volume_104.nii.gz\n",
      "Running FLIRT on /home/minyoungxi/MINYOUNGXI/XFL/Data/OASIS_MNI_to_TRs/masked_volume_104.nii.gz\n"
     ]
    },
    {
     "name": "stderr",
     "output_type": "stream",
     "text": [
      "Processing volumes for subject 30061:  64%|██████▍   | 105/164 [08:54<05:02,  5.13s/it]"
     ]
    },
    {
     "name": "stdout",
     "output_type": "stream",
     "text": [
      "Applying mask to /home/minyoungxi/MINYOUNGXI/XFL/Data/OASIS_MNI_to_TRs/volume_105.nii.gz\n",
      "Running FLIRT on /home/minyoungxi/MINYOUNGXI/XFL/Data/OASIS_MNI_to_TRs/masked_volume_105.nii.gz\n"
     ]
    },
    {
     "name": "stderr",
     "output_type": "stream",
     "text": [
      "Processing volumes for subject 30061:  65%|██████▍   | 106/164 [08:59<04:56,  5.12s/it]"
     ]
    },
    {
     "name": "stdout",
     "output_type": "stream",
     "text": [
      "Applying mask to /home/minyoungxi/MINYOUNGXI/XFL/Data/OASIS_MNI_to_TRs/volume_106.nii.gz\n",
      "Running FLIRT on /home/minyoungxi/MINYOUNGXI/XFL/Data/OASIS_MNI_to_TRs/masked_volume_106.nii.gz\n"
     ]
    },
    {
     "name": "stderr",
     "output_type": "stream",
     "text": [
      "Processing volumes for subject 30061:  65%|██████▌   | 107/164 [09:04<04:51,  5.11s/it]"
     ]
    },
    {
     "name": "stdout",
     "output_type": "stream",
     "text": [
      "Applying mask to /home/minyoungxi/MINYOUNGXI/XFL/Data/OASIS_MNI_to_TRs/volume_107.nii.gz\n",
      "Running FLIRT on /home/minyoungxi/MINYOUNGXI/XFL/Data/OASIS_MNI_to_TRs/masked_volume_107.nii.gz\n"
     ]
    },
    {
     "name": "stderr",
     "output_type": "stream",
     "text": [
      "Processing volumes for subject 30061:  66%|██████▌   | 108/164 [09:09<04:48,  5.15s/it]"
     ]
    },
    {
     "name": "stdout",
     "output_type": "stream",
     "text": [
      "Applying mask to /home/minyoungxi/MINYOUNGXI/XFL/Data/OASIS_MNI_to_TRs/volume_108.nii.gz\n",
      "Running FLIRT on /home/minyoungxi/MINYOUNGXI/XFL/Data/OASIS_MNI_to_TRs/masked_volume_108.nii.gz\n"
     ]
    },
    {
     "name": "stderr",
     "output_type": "stream",
     "text": [
      "Processing volumes for subject 30061:  66%|██████▋   | 109/164 [09:14<04:42,  5.14s/it]"
     ]
    },
    {
     "name": "stdout",
     "output_type": "stream",
     "text": [
      "Applying mask to /home/minyoungxi/MINYOUNGXI/XFL/Data/OASIS_MNI_to_TRs/volume_109.nii.gz\n",
      "Running FLIRT on /home/minyoungxi/MINYOUNGXI/XFL/Data/OASIS_MNI_to_TRs/masked_volume_109.nii.gz\n"
     ]
    },
    {
     "name": "stderr",
     "output_type": "stream",
     "text": [
      "Processing volumes for subject 30061:  67%|██████▋   | 110/164 [09:19<04:37,  5.13s/it]"
     ]
    },
    {
     "name": "stdout",
     "output_type": "stream",
     "text": [
      "Applying mask to /home/minyoungxi/MINYOUNGXI/XFL/Data/OASIS_MNI_to_TRs/volume_110.nii.gz\n",
      "Running FLIRT on /home/minyoungxi/MINYOUNGXI/XFL/Data/OASIS_MNI_to_TRs/masked_volume_110.nii.gz\n"
     ]
    },
    {
     "name": "stderr",
     "output_type": "stream",
     "text": [
      "Processing volumes for subject 30061:  68%|██████▊   | 111/164 [09:25<04:31,  5.13s/it]"
     ]
    },
    {
     "name": "stdout",
     "output_type": "stream",
     "text": [
      "Applying mask to /home/minyoungxi/MINYOUNGXI/XFL/Data/OASIS_MNI_to_TRs/volume_111.nii.gz\n",
      "Running FLIRT on /home/minyoungxi/MINYOUNGXI/XFL/Data/OASIS_MNI_to_TRs/masked_volume_111.nii.gz\n"
     ]
    },
    {
     "name": "stderr",
     "output_type": "stream",
     "text": [
      "Processing volumes for subject 30061:  68%|██████▊   | 112/164 [09:30<04:25,  5.11s/it]"
     ]
    },
    {
     "name": "stdout",
     "output_type": "stream",
     "text": [
      "Applying mask to /home/minyoungxi/MINYOUNGXI/XFL/Data/OASIS_MNI_to_TRs/volume_112.nii.gz\n",
      "Running FLIRT on /home/minyoungxi/MINYOUNGXI/XFL/Data/OASIS_MNI_to_TRs/masked_volume_112.nii.gz\n"
     ]
    },
    {
     "name": "stderr",
     "output_type": "stream",
     "text": [
      "Processing volumes for subject 30061:  69%|██████▉   | 113/164 [09:35<04:20,  5.11s/it]"
     ]
    },
    {
     "name": "stdout",
     "output_type": "stream",
     "text": [
      "Applying mask to /home/minyoungxi/MINYOUNGXI/XFL/Data/OASIS_MNI_to_TRs/volume_113.nii.gz\n",
      "Running FLIRT on /home/minyoungxi/MINYOUNGXI/XFL/Data/OASIS_MNI_to_TRs/masked_volume_113.nii.gz\n"
     ]
    },
    {
     "name": "stderr",
     "output_type": "stream",
     "text": [
      "Processing volumes for subject 30061:  70%|██████▉   | 114/164 [09:40<04:15,  5.11s/it]"
     ]
    },
    {
     "name": "stdout",
     "output_type": "stream",
     "text": [
      "Applying mask to /home/minyoungxi/MINYOUNGXI/XFL/Data/OASIS_MNI_to_TRs/volume_114.nii.gz\n",
      "Running FLIRT on /home/minyoungxi/MINYOUNGXI/XFL/Data/OASIS_MNI_to_TRs/masked_volume_114.nii.gz\n"
     ]
    },
    {
     "name": "stderr",
     "output_type": "stream",
     "text": [
      "Processing volumes for subject 30061:  70%|███████   | 115/164 [09:45<04:11,  5.13s/it]"
     ]
    },
    {
     "name": "stdout",
     "output_type": "stream",
     "text": [
      "Applying mask to /home/minyoungxi/MINYOUNGXI/XFL/Data/OASIS_MNI_to_TRs/volume_115.nii.gz\n",
      "Running FLIRT on /home/minyoungxi/MINYOUNGXI/XFL/Data/OASIS_MNI_to_TRs/masked_volume_115.nii.gz\n"
     ]
    },
    {
     "name": "stderr",
     "output_type": "stream",
     "text": [
      "Processing volumes for subject 30061:  71%|███████   | 116/164 [09:50<04:07,  5.16s/it]"
     ]
    },
    {
     "name": "stdout",
     "output_type": "stream",
     "text": [
      "Applying mask to /home/minyoungxi/MINYOUNGXI/XFL/Data/OASIS_MNI_to_TRs/volume_116.nii.gz\n",
      "Running FLIRT on /home/minyoungxi/MINYOUNGXI/XFL/Data/OASIS_MNI_to_TRs/masked_volume_116.nii.gz\n"
     ]
    },
    {
     "name": "stderr",
     "output_type": "stream",
     "text": [
      "Processing volumes for subject 30061:  71%|███████▏  | 117/164 [09:56<04:04,  5.20s/it]"
     ]
    },
    {
     "name": "stdout",
     "output_type": "stream",
     "text": [
      "Applying mask to /home/minyoungxi/MINYOUNGXI/XFL/Data/OASIS_MNI_to_TRs/volume_117.nii.gz\n",
      "Running FLIRT on /home/minyoungxi/MINYOUNGXI/XFL/Data/OASIS_MNI_to_TRs/masked_volume_117.nii.gz\n"
     ]
    },
    {
     "name": "stderr",
     "output_type": "stream",
     "text": [
      "Processing volumes for subject 30061:  72%|███████▏  | 118/164 [10:01<03:58,  5.19s/it]"
     ]
    },
    {
     "name": "stdout",
     "output_type": "stream",
     "text": [
      "Applying mask to /home/minyoungxi/MINYOUNGXI/XFL/Data/OASIS_MNI_to_TRs/volume_118.nii.gz\n",
      "Running FLIRT on /home/minyoungxi/MINYOUNGXI/XFL/Data/OASIS_MNI_to_TRs/masked_volume_118.nii.gz\n"
     ]
    },
    {
     "name": "stderr",
     "output_type": "stream",
     "text": [
      "Processing volumes for subject 30061:  73%|███████▎  | 119/164 [10:06<03:54,  5.21s/it]"
     ]
    },
    {
     "name": "stdout",
     "output_type": "stream",
     "text": [
      "Applying mask to /home/minyoungxi/MINYOUNGXI/XFL/Data/OASIS_MNI_to_TRs/volume_119.nii.gz\n",
      "Running FLIRT on /home/minyoungxi/MINYOUNGXI/XFL/Data/OASIS_MNI_to_TRs/masked_volume_119.nii.gz\n"
     ]
    },
    {
     "name": "stderr",
     "output_type": "stream",
     "text": [
      "Processing volumes for subject 30061:  73%|███████▎  | 120/164 [10:11<03:48,  5.20s/it]"
     ]
    },
    {
     "name": "stdout",
     "output_type": "stream",
     "text": [
      "Applying mask to /home/minyoungxi/MINYOUNGXI/XFL/Data/OASIS_MNI_to_TRs/volume_120.nii.gz\n",
      "Running FLIRT on /home/minyoungxi/MINYOUNGXI/XFL/Data/OASIS_MNI_to_TRs/masked_volume_120.nii.gz\n"
     ]
    },
    {
     "name": "stderr",
     "output_type": "stream",
     "text": [
      "Processing volumes for subject 30061:  74%|███████▍  | 121/164 [10:16<03:44,  5.21s/it]"
     ]
    },
    {
     "name": "stdout",
     "output_type": "stream",
     "text": [
      "Applying mask to /home/minyoungxi/MINYOUNGXI/XFL/Data/OASIS_MNI_to_TRs/volume_121.nii.gz\n",
      "Running FLIRT on /home/minyoungxi/MINYOUNGXI/XFL/Data/OASIS_MNI_to_TRs/masked_volume_121.nii.gz\n"
     ]
    },
    {
     "name": "stderr",
     "output_type": "stream",
     "text": [
      "Processing volumes for subject 30061:  74%|███████▍  | 122/164 [10:22<03:39,  5.23s/it]"
     ]
    },
    {
     "name": "stdout",
     "output_type": "stream",
     "text": [
      "Applying mask to /home/minyoungxi/MINYOUNGXI/XFL/Data/OASIS_MNI_to_TRs/volume_122.nii.gz\n",
      "Running FLIRT on /home/minyoungxi/MINYOUNGXI/XFL/Data/OASIS_MNI_to_TRs/masked_volume_122.nii.gz\n"
     ]
    },
    {
     "name": "stderr",
     "output_type": "stream",
     "text": [
      "Processing volumes for subject 30061:  75%|███████▌  | 123/164 [10:27<03:36,  5.28s/it]"
     ]
    },
    {
     "name": "stdout",
     "output_type": "stream",
     "text": [
      "Applying mask to /home/minyoungxi/MINYOUNGXI/XFL/Data/OASIS_MNI_to_TRs/volume_123.nii.gz\n",
      "Running FLIRT on /home/minyoungxi/MINYOUNGXI/XFL/Data/OASIS_MNI_to_TRs/masked_volume_123.nii.gz\n"
     ]
    },
    {
     "name": "stderr",
     "output_type": "stream",
     "text": [
      "Processing volumes for subject 30061:  76%|███████▌  | 124/164 [10:32<03:31,  5.30s/it]"
     ]
    },
    {
     "name": "stdout",
     "output_type": "stream",
     "text": [
      "Applying mask to /home/minyoungxi/MINYOUNGXI/XFL/Data/OASIS_MNI_to_TRs/volume_124.nii.gz\n",
      "Running FLIRT on /home/minyoungxi/MINYOUNGXI/XFL/Data/OASIS_MNI_to_TRs/masked_volume_124.nii.gz\n"
     ]
    },
    {
     "name": "stderr",
     "output_type": "stream",
     "text": [
      "Processing volumes for subject 30061:  76%|███████▌  | 125/164 [10:38<03:27,  5.32s/it]"
     ]
    },
    {
     "name": "stdout",
     "output_type": "stream",
     "text": [
      "Applying mask to /home/minyoungxi/MINYOUNGXI/XFL/Data/OASIS_MNI_to_TRs/volume_125.nii.gz\n",
      "Running FLIRT on /home/minyoungxi/MINYOUNGXI/XFL/Data/OASIS_MNI_to_TRs/masked_volume_125.nii.gz\n"
     ]
    },
    {
     "name": "stderr",
     "output_type": "stream",
     "text": [
      "Processing volumes for subject 30061:  77%|███████▋  | 126/164 [10:43<03:21,  5.31s/it]"
     ]
    },
    {
     "name": "stdout",
     "output_type": "stream",
     "text": [
      "Applying mask to /home/minyoungxi/MINYOUNGXI/XFL/Data/OASIS_MNI_to_TRs/volume_126.nii.gz\n",
      "Running FLIRT on /home/minyoungxi/MINYOUNGXI/XFL/Data/OASIS_MNI_to_TRs/masked_volume_126.nii.gz\n"
     ]
    },
    {
     "name": "stderr",
     "output_type": "stream",
     "text": [
      "Processing volumes for subject 30061:  77%|███████▋  | 127/164 [10:48<03:16,  5.31s/it]"
     ]
    },
    {
     "name": "stdout",
     "output_type": "stream",
     "text": [
      "Applying mask to /home/minyoungxi/MINYOUNGXI/XFL/Data/OASIS_MNI_to_TRs/volume_127.nii.gz\n",
      "Running FLIRT on /home/minyoungxi/MINYOUNGXI/XFL/Data/OASIS_MNI_to_TRs/masked_volume_127.nii.gz\n"
     ]
    },
    {
     "name": "stderr",
     "output_type": "stream",
     "text": [
      "Processing volumes for subject 30061:  78%|███████▊  | 128/164 [10:54<03:11,  5.31s/it]"
     ]
    },
    {
     "name": "stdout",
     "output_type": "stream",
     "text": [
      "Applying mask to /home/minyoungxi/MINYOUNGXI/XFL/Data/OASIS_MNI_to_TRs/volume_128.nii.gz\n",
      "Running FLIRT on /home/minyoungxi/MINYOUNGXI/XFL/Data/OASIS_MNI_to_TRs/masked_volume_128.nii.gz\n"
     ]
    },
    {
     "name": "stderr",
     "output_type": "stream",
     "text": [
      "Processing volumes for subject 30061:  79%|███████▊  | 129/164 [10:59<03:06,  5.31s/it]"
     ]
    },
    {
     "name": "stdout",
     "output_type": "stream",
     "text": [
      "Applying mask to /home/minyoungxi/MINYOUNGXI/XFL/Data/OASIS_MNI_to_TRs/volume_129.nii.gz\n",
      "Running FLIRT on /home/minyoungxi/MINYOUNGXI/XFL/Data/OASIS_MNI_to_TRs/masked_volume_129.nii.gz\n"
     ]
    },
    {
     "name": "stderr",
     "output_type": "stream",
     "text": [
      "Processing volumes for subject 30061:  79%|███████▉  | 130/164 [11:04<02:59,  5.27s/it]"
     ]
    },
    {
     "name": "stdout",
     "output_type": "stream",
     "text": [
      "Applying mask to /home/minyoungxi/MINYOUNGXI/XFL/Data/OASIS_MNI_to_TRs/volume_130.nii.gz\n",
      "Running FLIRT on /home/minyoungxi/MINYOUNGXI/XFL/Data/OASIS_MNI_to_TRs/masked_volume_130.nii.gz\n"
     ]
    },
    {
     "name": "stderr",
     "output_type": "stream",
     "text": [
      "Processing volumes for subject 30061:  80%|███████▉  | 131/164 [11:09<02:53,  5.26s/it]"
     ]
    },
    {
     "name": "stdout",
     "output_type": "stream",
     "text": [
      "Applying mask to /home/minyoungxi/MINYOUNGXI/XFL/Data/OASIS_MNI_to_TRs/volume_131.nii.gz\n",
      "Running FLIRT on /home/minyoungxi/MINYOUNGXI/XFL/Data/OASIS_MNI_to_TRs/masked_volume_131.nii.gz\n"
     ]
    },
    {
     "name": "stderr",
     "output_type": "stream",
     "text": [
      "Processing volumes for subject 30061:  80%|████████  | 132/164 [11:15<02:48,  5.27s/it]"
     ]
    },
    {
     "name": "stdout",
     "output_type": "stream",
     "text": [
      "Applying mask to /home/minyoungxi/MINYOUNGXI/XFL/Data/OASIS_MNI_to_TRs/volume_132.nii.gz\n",
      "Running FLIRT on /home/minyoungxi/MINYOUNGXI/XFL/Data/OASIS_MNI_to_TRs/masked_volume_132.nii.gz\n"
     ]
    },
    {
     "name": "stderr",
     "output_type": "stream",
     "text": [
      "Processing volumes for subject 30061:  81%|████████  | 133/164 [11:20<02:43,  5.26s/it]"
     ]
    },
    {
     "name": "stdout",
     "output_type": "stream",
     "text": [
      "Applying mask to /home/minyoungxi/MINYOUNGXI/XFL/Data/OASIS_MNI_to_TRs/volume_133.nii.gz\n",
      "Running FLIRT on /home/minyoungxi/MINYOUNGXI/XFL/Data/OASIS_MNI_to_TRs/masked_volume_133.nii.gz\n"
     ]
    },
    {
     "name": "stderr",
     "output_type": "stream",
     "text": [
      "Processing volumes for subject 30061:  82%|████████▏ | 134/164 [11:25<02:38,  5.28s/it]"
     ]
    },
    {
     "name": "stdout",
     "output_type": "stream",
     "text": [
      "Applying mask to /home/minyoungxi/MINYOUNGXI/XFL/Data/OASIS_MNI_to_TRs/volume_134.nii.gz\n",
      "Running FLIRT on /home/minyoungxi/MINYOUNGXI/XFL/Data/OASIS_MNI_to_TRs/masked_volume_134.nii.gz\n"
     ]
    },
    {
     "name": "stderr",
     "output_type": "stream",
     "text": [
      "Processing volumes for subject 30061:  82%|████████▏ | 135/164 [11:30<02:32,  5.26s/it]"
     ]
    },
    {
     "name": "stdout",
     "output_type": "stream",
     "text": [
      "Applying mask to /home/minyoungxi/MINYOUNGXI/XFL/Data/OASIS_MNI_to_TRs/volume_135.nii.gz\n",
      "Running FLIRT on /home/minyoungxi/MINYOUNGXI/XFL/Data/OASIS_MNI_to_TRs/masked_volume_135.nii.gz\n"
     ]
    },
    {
     "name": "stderr",
     "output_type": "stream",
     "text": [
      "Processing volumes for subject 30061:  83%|████████▎ | 136/164 [11:36<02:27,  5.26s/it]"
     ]
    },
    {
     "name": "stdout",
     "output_type": "stream",
     "text": [
      "Applying mask to /home/minyoungxi/MINYOUNGXI/XFL/Data/OASIS_MNI_to_TRs/volume_136.nii.gz\n",
      "Running FLIRT on /home/minyoungxi/MINYOUNGXI/XFL/Data/OASIS_MNI_to_TRs/masked_volume_136.nii.gz\n"
     ]
    },
    {
     "name": "stderr",
     "output_type": "stream",
     "text": [
      "Processing volumes for subject 30061:  84%|████████▎ | 137/164 [11:41<02:22,  5.27s/it]"
     ]
    },
    {
     "name": "stdout",
     "output_type": "stream",
     "text": [
      "Applying mask to /home/minyoungxi/MINYOUNGXI/XFL/Data/OASIS_MNI_to_TRs/volume_137.nii.gz\n",
      "Running FLIRT on /home/minyoungxi/MINYOUNGXI/XFL/Data/OASIS_MNI_to_TRs/masked_volume_137.nii.gz\n"
     ]
    },
    {
     "name": "stderr",
     "output_type": "stream",
     "text": [
      "Processing volumes for subject 30061:  84%|████████▍ | 138/164 [11:46<02:16,  5.25s/it]"
     ]
    },
    {
     "name": "stdout",
     "output_type": "stream",
     "text": [
      "Applying mask to /home/minyoungxi/MINYOUNGXI/XFL/Data/OASIS_MNI_to_TRs/volume_138.nii.gz\n",
      "Running FLIRT on /home/minyoungxi/MINYOUNGXI/XFL/Data/OASIS_MNI_to_TRs/masked_volume_138.nii.gz\n"
     ]
    },
    {
     "name": "stderr",
     "output_type": "stream",
     "text": [
      "Processing volumes for subject 30061:  85%|████████▍ | 139/164 [11:51<02:10,  5.22s/it]"
     ]
    },
    {
     "name": "stdout",
     "output_type": "stream",
     "text": [
      "Applying mask to /home/minyoungxi/MINYOUNGXI/XFL/Data/OASIS_MNI_to_TRs/volume_139.nii.gz\n",
      "Running FLIRT on /home/minyoungxi/MINYOUNGXI/XFL/Data/OASIS_MNI_to_TRs/masked_volume_139.nii.gz\n"
     ]
    },
    {
     "name": "stderr",
     "output_type": "stream",
     "text": [
      "Processing volumes for subject 30061:  85%|████████▌ | 140/164 [11:57<02:06,  5.28s/it]"
     ]
    },
    {
     "name": "stdout",
     "output_type": "stream",
     "text": [
      "Applying mask to /home/minyoungxi/MINYOUNGXI/XFL/Data/OASIS_MNI_to_TRs/volume_140.nii.gz\n",
      "Running FLIRT on /home/minyoungxi/MINYOUNGXI/XFL/Data/OASIS_MNI_to_TRs/masked_volume_140.nii.gz\n"
     ]
    },
    {
     "name": "stderr",
     "output_type": "stream",
     "text": [
      "Processing volumes for subject 30061:  86%|████████▌ | 141/164 [12:02<02:01,  5.28s/it]"
     ]
    },
    {
     "name": "stdout",
     "output_type": "stream",
     "text": [
      "Applying mask to /home/minyoungxi/MINYOUNGXI/XFL/Data/OASIS_MNI_to_TRs/volume_141.nii.gz\n",
      "Running FLIRT on /home/minyoungxi/MINYOUNGXI/XFL/Data/OASIS_MNI_to_TRs/masked_volume_141.nii.gz\n"
     ]
    },
    {
     "name": "stderr",
     "output_type": "stream",
     "text": [
      "Processing volumes for subject 30061:  87%|████████▋ | 142/164 [12:07<01:56,  5.29s/it]"
     ]
    },
    {
     "name": "stdout",
     "output_type": "stream",
     "text": [
      "Applying mask to /home/minyoungxi/MINYOUNGXI/XFL/Data/OASIS_MNI_to_TRs/volume_142.nii.gz\n",
      "Running FLIRT on /home/minyoungxi/MINYOUNGXI/XFL/Data/OASIS_MNI_to_TRs/masked_volume_142.nii.gz\n"
     ]
    },
    {
     "name": "stderr",
     "output_type": "stream",
     "text": [
      "Processing volumes for subject 30061:  87%|████████▋ | 143/164 [12:13<01:51,  5.30s/it]"
     ]
    },
    {
     "name": "stdout",
     "output_type": "stream",
     "text": [
      "Applying mask to /home/minyoungxi/MINYOUNGXI/XFL/Data/OASIS_MNI_to_TRs/volume_143.nii.gz\n",
      "Running FLIRT on /home/minyoungxi/MINYOUNGXI/XFL/Data/OASIS_MNI_to_TRs/masked_volume_143.nii.gz\n"
     ]
    },
    {
     "name": "stderr",
     "output_type": "stream",
     "text": [
      "Processing volumes for subject 30061:  88%|████████▊ | 144/164 [12:18<01:46,  5.32s/it]"
     ]
    },
    {
     "name": "stdout",
     "output_type": "stream",
     "text": [
      "Applying mask to /home/minyoungxi/MINYOUNGXI/XFL/Data/OASIS_MNI_to_TRs/volume_144.nii.gz\n",
      "Running FLIRT on /home/minyoungxi/MINYOUNGXI/XFL/Data/OASIS_MNI_to_TRs/masked_volume_144.nii.gz\n"
     ]
    },
    {
     "name": "stderr",
     "output_type": "stream",
     "text": [
      "Processing volumes for subject 30061:  88%|████████▊ | 145/164 [12:24<01:42,  5.37s/it]"
     ]
    },
    {
     "name": "stdout",
     "output_type": "stream",
     "text": [
      "Applying mask to /home/minyoungxi/MINYOUNGXI/XFL/Data/OASIS_MNI_to_TRs/volume_145.nii.gz\n",
      "Running FLIRT on /home/minyoungxi/MINYOUNGXI/XFL/Data/OASIS_MNI_to_TRs/masked_volume_145.nii.gz\n"
     ]
    },
    {
     "name": "stderr",
     "output_type": "stream",
     "text": [
      "Processing volumes for subject 30061:  89%|████████▉ | 146/164 [12:29<01:36,  5.37s/it]"
     ]
    },
    {
     "name": "stdout",
     "output_type": "stream",
     "text": [
      "Applying mask to /home/minyoungxi/MINYOUNGXI/XFL/Data/OASIS_MNI_to_TRs/volume_146.nii.gz\n",
      "Running FLIRT on /home/minyoungxi/MINYOUNGXI/XFL/Data/OASIS_MNI_to_TRs/masked_volume_146.nii.gz\n"
     ]
    },
    {
     "name": "stderr",
     "output_type": "stream",
     "text": [
      "Processing volumes for subject 30061:  90%|████████▉ | 147/164 [12:34<01:30,  5.33s/it]"
     ]
    },
    {
     "name": "stdout",
     "output_type": "stream",
     "text": [
      "Applying mask to /home/minyoungxi/MINYOUNGXI/XFL/Data/OASIS_MNI_to_TRs/volume_147.nii.gz\n",
      "Running FLIRT on /home/minyoungxi/MINYOUNGXI/XFL/Data/OASIS_MNI_to_TRs/masked_volume_147.nii.gz\n"
     ]
    },
    {
     "name": "stderr",
     "output_type": "stream",
     "text": [
      "Processing volumes for subject 30061:  90%|█████████ | 148/164 [12:40<01:25,  5.34s/it]"
     ]
    },
    {
     "name": "stdout",
     "output_type": "stream",
     "text": [
      "Applying mask to /home/minyoungxi/MINYOUNGXI/XFL/Data/OASIS_MNI_to_TRs/volume_148.nii.gz\n",
      "Running FLIRT on /home/minyoungxi/MINYOUNGXI/XFL/Data/OASIS_MNI_to_TRs/masked_volume_148.nii.gz\n"
     ]
    },
    {
     "name": "stderr",
     "output_type": "stream",
     "text": [
      "Processing volumes for subject 30061:  91%|█████████ | 149/164 [12:45<01:20,  5.39s/it]"
     ]
    },
    {
     "name": "stdout",
     "output_type": "stream",
     "text": [
      "Applying mask to /home/minyoungxi/MINYOUNGXI/XFL/Data/OASIS_MNI_to_TRs/volume_149.nii.gz\n",
      "Running FLIRT on /home/minyoungxi/MINYOUNGXI/XFL/Data/OASIS_MNI_to_TRs/masked_volume_149.nii.gz\n"
     ]
    },
    {
     "name": "stderr",
     "output_type": "stream",
     "text": [
      "Processing volumes for subject 30061:  91%|█████████▏| 150/164 [12:50<01:15,  5.39s/it]"
     ]
    },
    {
     "name": "stdout",
     "output_type": "stream",
     "text": [
      "Applying mask to /home/minyoungxi/MINYOUNGXI/XFL/Data/OASIS_MNI_to_TRs/volume_150.nii.gz\n",
      "Running FLIRT on /home/minyoungxi/MINYOUNGXI/XFL/Data/OASIS_MNI_to_TRs/masked_volume_150.nii.gz\n"
     ]
    },
    {
     "name": "stderr",
     "output_type": "stream",
     "text": [
      "Processing volumes for subject 30061:  92%|█████████▏| 151/164 [12:56<01:10,  5.40s/it]"
     ]
    },
    {
     "name": "stdout",
     "output_type": "stream",
     "text": [
      "Applying mask to /home/minyoungxi/MINYOUNGXI/XFL/Data/OASIS_MNI_to_TRs/volume_151.nii.gz\n",
      "Running FLIRT on /home/minyoungxi/MINYOUNGXI/XFL/Data/OASIS_MNI_to_TRs/masked_volume_151.nii.gz\n"
     ]
    },
    {
     "name": "stderr",
     "output_type": "stream",
     "text": [
      "Processing volumes for subject 30061:  93%|█████████▎| 152/164 [13:01<01:04,  5.36s/it]"
     ]
    },
    {
     "name": "stdout",
     "output_type": "stream",
     "text": [
      "Applying mask to /home/minyoungxi/MINYOUNGXI/XFL/Data/OASIS_MNI_to_TRs/volume_152.nii.gz\n",
      "Running FLIRT on /home/minyoungxi/MINYOUNGXI/XFL/Data/OASIS_MNI_to_TRs/masked_volume_152.nii.gz\n"
     ]
    },
    {
     "name": "stderr",
     "output_type": "stream",
     "text": [
      "Processing volumes for subject 30061:  93%|█████████▎| 153/164 [13:07<00:59,  5.40s/it]"
     ]
    },
    {
     "name": "stdout",
     "output_type": "stream",
     "text": [
      "Applying mask to /home/minyoungxi/MINYOUNGXI/XFL/Data/OASIS_MNI_to_TRs/volume_153.nii.gz\n",
      "Running FLIRT on /home/minyoungxi/MINYOUNGXI/XFL/Data/OASIS_MNI_to_TRs/masked_volume_153.nii.gz\n"
     ]
    },
    {
     "name": "stderr",
     "output_type": "stream",
     "text": [
      "Processing volumes for subject 30061:  94%|█████████▍| 154/164 [13:12<00:53,  5.36s/it]"
     ]
    },
    {
     "name": "stdout",
     "output_type": "stream",
     "text": [
      "Applying mask to /home/minyoungxi/MINYOUNGXI/XFL/Data/OASIS_MNI_to_TRs/volume_154.nii.gz\n",
      "Running FLIRT on /home/minyoungxi/MINYOUNGXI/XFL/Data/OASIS_MNI_to_TRs/masked_volume_154.nii.gz\n"
     ]
    },
    {
     "name": "stderr",
     "output_type": "stream",
     "text": [
      "Processing volumes for subject 30061:  95%|█████████▍| 155/164 [13:17<00:47,  5.31s/it]"
     ]
    },
    {
     "name": "stdout",
     "output_type": "stream",
     "text": [
      "Applying mask to /home/minyoungxi/MINYOUNGXI/XFL/Data/OASIS_MNI_to_TRs/volume_155.nii.gz\n",
      "Running FLIRT on /home/minyoungxi/MINYOUNGXI/XFL/Data/OASIS_MNI_to_TRs/masked_volume_155.nii.gz\n"
     ]
    },
    {
     "name": "stderr",
     "output_type": "stream",
     "text": [
      "Processing volumes for subject 30061:  95%|█████████▌| 156/164 [13:22<00:42,  5.26s/it]"
     ]
    },
    {
     "name": "stdout",
     "output_type": "stream",
     "text": [
      "Applying mask to /home/minyoungxi/MINYOUNGXI/XFL/Data/OASIS_MNI_to_TRs/volume_156.nii.gz\n",
      "Running FLIRT on /home/minyoungxi/MINYOUNGXI/XFL/Data/OASIS_MNI_to_TRs/masked_volume_156.nii.gz\n"
     ]
    },
    {
     "name": "stderr",
     "output_type": "stream",
     "text": [
      "Processing volumes for subject 30061:  96%|█████████▌| 157/164 [13:27<00:36,  5.24s/it]"
     ]
    },
    {
     "name": "stdout",
     "output_type": "stream",
     "text": [
      "Applying mask to /home/minyoungxi/MINYOUNGXI/XFL/Data/OASIS_MNI_to_TRs/volume_157.nii.gz\n",
      "Running FLIRT on /home/minyoungxi/MINYOUNGXI/XFL/Data/OASIS_MNI_to_TRs/masked_volume_157.nii.gz\n"
     ]
    },
    {
     "name": "stderr",
     "output_type": "stream",
     "text": [
      "Processing volumes for subject 30061:  96%|█████████▋| 158/164 [13:33<00:31,  5.23s/it]"
     ]
    },
    {
     "name": "stdout",
     "output_type": "stream",
     "text": [
      "Applying mask to /home/minyoungxi/MINYOUNGXI/XFL/Data/OASIS_MNI_to_TRs/volume_158.nii.gz\n",
      "Running FLIRT on /home/minyoungxi/MINYOUNGXI/XFL/Data/OASIS_MNI_to_TRs/masked_volume_158.nii.gz\n"
     ]
    },
    {
     "name": "stderr",
     "output_type": "stream",
     "text": [
      "Processing volumes for subject 30061:  97%|█████████▋| 159/164 [13:38<00:25,  5.19s/it]"
     ]
    },
    {
     "name": "stdout",
     "output_type": "stream",
     "text": [
      "Applying mask to /home/minyoungxi/MINYOUNGXI/XFL/Data/OASIS_MNI_to_TRs/volume_159.nii.gz\n",
      "Running FLIRT on /home/minyoungxi/MINYOUNGXI/XFL/Data/OASIS_MNI_to_TRs/masked_volume_159.nii.gz\n"
     ]
    },
    {
     "name": "stderr",
     "output_type": "stream",
     "text": [
      "Processing volumes for subject 30061:  98%|█████████▊| 160/164 [13:43<00:20,  5.18s/it]"
     ]
    },
    {
     "name": "stdout",
     "output_type": "stream",
     "text": [
      "Applying mask to /home/minyoungxi/MINYOUNGXI/XFL/Data/OASIS_MNI_to_TRs/volume_160.nii.gz\n",
      "Running FLIRT on /home/minyoungxi/MINYOUNGXI/XFL/Data/OASIS_MNI_to_TRs/masked_volume_160.nii.gz\n"
     ]
    },
    {
     "name": "stderr",
     "output_type": "stream",
     "text": [
      "Processing volumes for subject 30061:  98%|█████████▊| 161/164 [13:48<00:15,  5.20s/it]"
     ]
    },
    {
     "name": "stdout",
     "output_type": "stream",
     "text": [
      "Applying mask to /home/minyoungxi/MINYOUNGXI/XFL/Data/OASIS_MNI_to_TRs/volume_161.nii.gz\n",
      "Running FLIRT on /home/minyoungxi/MINYOUNGXI/XFL/Data/OASIS_MNI_to_TRs/masked_volume_161.nii.gz\n"
     ]
    },
    {
     "name": "stderr",
     "output_type": "stream",
     "text": [
      "Processing volumes for subject 30061:  99%|█████████▉| 162/164 [13:53<00:10,  5.19s/it]"
     ]
    },
    {
     "name": "stdout",
     "output_type": "stream",
     "text": [
      "Applying mask to /home/minyoungxi/MINYOUNGXI/XFL/Data/OASIS_MNI_to_TRs/volume_162.nii.gz\n",
      "Running FLIRT on /home/minyoungxi/MINYOUNGXI/XFL/Data/OASIS_MNI_to_TRs/masked_volume_162.nii.gz\n"
     ]
    },
    {
     "name": "stderr",
     "output_type": "stream",
     "text": [
      "Processing volumes for subject 30061:  99%|█████████▉| 163/164 [13:59<00:05,  5.20s/it]"
     ]
    },
    {
     "name": "stdout",
     "output_type": "stream",
     "text": [
      "Applying mask to /home/minyoungxi/MINYOUNGXI/XFL/Data/OASIS_MNI_to_TRs/volume_163.nii.gz\n",
      "Running FLIRT on /home/minyoungxi/MINYOUNGXI/XFL/Data/OASIS_MNI_to_TRs/masked_volume_163.nii.gz\n"
     ]
    },
    {
     "name": "stderr",
     "output_type": "stream",
     "text": [
      "Processing volumes for subject 30061: 100%|██████████| 164/164 [14:04<00:00,  5.15s/it]"
     ]
    },
    {
     "name": "stdout",
     "output_type": "stream",
     "text": [
      "Preprocessing completed. 10 subjects processed.\n",
      "Preprocessing and data structuring completed.\n"
     ]
    },
    {
     "name": "stderr",
     "output_type": "stream",
     "text": [
      "\n"
     ]
    }
   ],
   "source": [
    "import os\n",
    "import re\n",
    "import nibabel as nib\n",
    "import numpy as np\n",
    "import torch\n",
    "from nipype.interfaces import fsl\n",
    "from tqdm import tqdm\n",
    "import glob\n",
    "\n",
    "def find_func_file(patient_dir):\n",
    "    for root, dirs, files in os.walk(patient_dir):\n",
    "        for file in files:\n",
    "            if file.endswith('_bold.nii.gz'):\n",
    "                return os.path.join(root, file)\n",
    "    return None\n",
    "\n",
    "def run_bet(in_file, out_file, mask_file):\n",
    "    print(f\"Running BET on {in_file}\")\n",
    "    bet = fsl.BET(in_file=in_file, out_file=out_file, mask=True, frac=0.3)\n",
    "    result = bet.run()\n",
    "    \n",
    "    possible_mask_files = glob.glob(out_file.replace('.nii.gz', '') + '*mask.nii.gz')\n",
    "    \n",
    "    if possible_mask_files:\n",
    "        os.rename(possible_mask_files[0], mask_file)\n",
    "    else:\n",
    "        bet_img = nib.load(out_file)\n",
    "        bet_data = bet_img.get_fdata()\n",
    "        mask_data = (bet_data > 0).astype(np.int16)\n",
    "        mask_img = nib.Nifti1Image(mask_data, bet_img.affine, bet_img.header)\n",
    "        nib.save(mask_img, mask_file)\n",
    "    \n",
    "    return result\n",
    "\n",
    "def run_flirt(in_file, ref_file, out_file, out_matrix_file, dof=12):\n",
    "    print(f\"Running FLIRT on {in_file}\")\n",
    "    flirt = fsl.FLIRT()\n",
    "    flirt.inputs.in_file = in_file\n",
    "    flirt.inputs.reference = ref_file\n",
    "    flirt.inputs.out_file = out_file\n",
    "    flirt.inputs.out_matrix_file = out_matrix_file\n",
    "    flirt.inputs.dof = dof\n",
    "    flirt.inputs.cost = 'corratio'\n",
    "    return flirt.run()\n",
    "\n",
    "def apply_mask(in_file, mask_file, out_file):\n",
    "    print(f\"Applying mask to {in_file}\")\n",
    "    apply_mask = fsl.ApplyMask()\n",
    "    apply_mask.inputs.in_file = in_file\n",
    "    apply_mask.inputs.mask_file = mask_file\n",
    "    apply_mask.inputs.out_file = out_file\n",
    "    return apply_mask.run()\n",
    "\n",
    "def preprocess_fmri_3d_pointing(func_file, standard_file, output_dir, subject_id, session_id):\n",
    "    print(f\"Preprocessing fMRI data for subject {subject_id}, session {session_id}\")\n",
    "    os.makedirs(output_dir, exist_ok=True)\n",
    "\n",
    "    func_img = nib.load(func_file)\n",
    "    func_data = func_img.get_fdata()\n",
    "    num_volumes = func_data.shape[3]\n",
    "\n",
    "    subject_output_dir = os.path.join(output_dir, 'img', f\"sub-{subject_id}_ses-{session_id}\")\n",
    "    os.makedirs(subject_output_dir, exist_ok=True)\n",
    "\n",
    "    # Extract first volume and run BET\n",
    "    first_volume = func_data[:,:,:,0]\n",
    "    first_volume_img = nib.Nifti1Image(first_volume, func_img.affine)\n",
    "    first_volume_file = os.path.join(output_dir, \"first_volume.nii.gz\")\n",
    "    nib.save(first_volume_img, first_volume_file)\n",
    "\n",
    "    bet_output = os.path.join(output_dir, \"bet_first_volume.nii.gz\")\n",
    "    mask_file = os.path.join(output_dir, \"brain_mask.nii.gz\")\n",
    "    run_bet(first_volume_file, bet_output, mask_file)\n",
    "\n",
    "    for i in tqdm(range(num_volumes), desc=f\"Processing volumes for subject {subject_id}\"):\n",
    "        volume = func_data[:,:,:,i]\n",
    "        volume_img = nib.Nifti1Image(volume, func_img.affine)\n",
    "        volume_file = os.path.join(output_dir, f\"volume_{i}.nii.gz\")\n",
    "        nib.save(volume_img, volume_file)\n",
    "\n",
    "        # Apply mask\n",
    "        masked_volume = os.path.join(output_dir, f\"masked_volume_{i}.nii.gz\")\n",
    "        apply_mask(volume_file, mask_file, masked_volume)\n",
    "\n",
    "        # Register to MNI space\n",
    "        mni_output = os.path.join(output_dir, f\"mni_volume_{i}.nii.gz\")\n",
    "        mni_matrix = os.path.join(output_dir, f\"mni_matrix_{i}.mat\")\n",
    "        run_flirt(masked_volume, standard_file, mni_output, mni_matrix, dof=12)\n",
    "\n",
    "        mni_volume = nib.load(mni_output).get_fdata()\n",
    "        mni_volume_norm = (mni_volume - np.mean(mni_volume)) / np.std(mni_volume)\n",
    "\n",
    "        # Save as .pt file\n",
    "        torch.save(torch.from_numpy(mni_volume_norm).float(), \n",
    "                   os.path.join(subject_output_dir, f\"frame_{i:04d}.pt\"))\n",
    "\n",
    "        for file in [volume_file, masked_volume, mni_output, mni_matrix]:\n",
    "            if os.path.exists(file):\n",
    "                os.remove(file)\n",
    "\n",
    "    # Clean up\n",
    "    os.remove(first_volume_file)\n",
    "    os.remove(bet_output)\n",
    "    os.remove(mask_file)\n",
    "\n",
    "def process_subject(patient_dir, output_dir, standard_file):\n",
    "    subject_id = os.path.basename(patient_dir).split('_')[0].replace('OAS', '')\n",
    "    session_id = os.path.basename(patient_dir).split('_')[2].replace('d', '')\n",
    "    \n",
    "    func_file = find_func_file(patient_dir)\n",
    "    \n",
    "    if func_file:\n",
    "        print(f\"Found functional file: {func_file}\")\n",
    "        preprocess_fmri_3d_pointing(func_file, standard_file, output_dir, subject_id, session_id)\n",
    "        return subject_id, session_id\n",
    "    else:\n",
    "        print(f\"No matching functional file found for subject {subject_id}, session {session_id}\")\n",
    "        return None\n",
    "\n",
    "def process_all_subjects(base_dir, output_dir, standard_file):\n",
    "    subjects_processed = []\n",
    "\n",
    "    for patient_folder in os.listdir(base_dir):\n",
    "        patient_dir = os.path.join(base_dir, patient_folder)\n",
    "        if not os.path.isdir(patient_dir):\n",
    "            continue\n",
    "        \n",
    "        result = process_subject(patient_dir, output_dir, standard_file)\n",
    "        if result:\n",
    "            subjects_processed.append(result)\n",
    "\n",
    "    return subjects_processed\n",
    "\n",
    "# 메인 실행 셀\n",
    "base_dir = \"/home/minyoungxi/MINYOUNGXI/XFL/Data/OASISSamples7.1\"\n",
    "output_dir = \"/home/minyoungxi/MINYOUNGXI/XFL/Data/OASIS_MNI_to_TRs\"\n",
    "standard_file = os.path.join(os.environ['FSLDIR'], 'data', 'standard', 'MNI152_T1_1mm_brain.nii.gz')\n",
    "\n",
    "print(\"Starting preprocessing...\")\n",
    "subjects_processed = process_all_subjects(base_dir, output_dir, standard_file)\n",
    "print(f\"Preprocessing completed. {len(subjects_processed)} subjects processed.\")\n",
    "\n",
    "print(\"Preprocessing and data structuring completed.\")"
   ]
  },
  {
   "cell_type": "code",
   "execution_count": null,
   "metadata": {},
   "outputs": [],
   "source": []
  }
 ],
 "metadata": {
  "kernelspec": {
   "display_name": "TorchEnv",
   "language": "python",
   "name": "python3"
  },
  "language_info": {
   "codemirror_mode": {
    "name": "ipython",
    "version": 3
   },
   "file_extension": ".py",
   "mimetype": "text/x-python",
   "name": "python",
   "nbconvert_exporter": "python",
   "pygments_lexer": "ipython3",
   "version": "3.8.16"
  }
 },
 "nbformat": 4,
 "nbformat_minor": 2
}
