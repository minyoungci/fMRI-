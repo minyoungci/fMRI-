{
 "cells": [
  {
   "cell_type": "code",
   "execution_count": 5,
   "metadata": {},
   "outputs": [
    {
     "ename": "ValueError",
     "evalue": "all the input arrays must have same number of dimensions, but the array at index 0 has 3 dimension(s) and the array at index 1 has 4 dimension(s)",
     "output_type": "error",
     "traceback": [
      "\u001b[0;31m---------------------------------------------------------------------------\u001b[0m",
      "\u001b[0;31mValueError\u001b[0m                                Traceback (most recent call last)",
      "Cell \u001b[0;32mIn[5], line 55\u001b[0m\n\u001b[1;32m     52\u001b[0m original_path \u001b[38;5;241m=\u001b[39m \u001b[38;5;124m'\u001b[39m\u001b[38;5;124m/home/minyoungxi/MINYOUNGXI/XFL/Data/OASIS_615_fmriprep_output/sub-OAS30078/ses-d0210/func/sub-OAS30078_ses-d0210_task-rest_space-MNI152NLin2009cAsym_desc-preproc_bold.nii.gz\u001b[39m\u001b[38;5;124m'\u001b[39m\n\u001b[1;32m     53\u001b[0m processed_dir \u001b[38;5;241m=\u001b[39m \u001b[38;5;124m'\u001b[39m\u001b[38;5;124m/home/minyoungxi/MINYOUNGXI/XFL/Data/OASIS_MNI_to_TRs_znorm/img/sub-OAS30078_ses-d0210\u001b[39m\u001b[38;5;124m'\u001b[39m\n\u001b[0;32m---> 55\u001b[0m \u001b[43mcompare_data\u001b[49m\u001b[43m(\u001b[49m\u001b[43moriginal_path\u001b[49m\u001b[43m,\u001b[49m\u001b[43m \u001b[49m\u001b[43mprocessed_dir\u001b[49m\u001b[43m)\u001b[49m\n",
      "Cell \u001b[0;32mIn[5], line 18\u001b[0m, in \u001b[0;36mcompare_data\u001b[0;34m(original_path, processed_dir)\u001b[0m\n\u001b[1;32m     16\u001b[0m         frame \u001b[38;5;241m=\u001b[39m torch\u001b[38;5;241m.\u001b[39mload(os\u001b[38;5;241m.\u001b[39mpath\u001b[38;5;241m.\u001b[39mjoin(processed_dir, file))\n\u001b[1;32m     17\u001b[0m         processed_data\u001b[38;5;241m.\u001b[39mappend(frame\u001b[38;5;241m.\u001b[39mnumpy())\n\u001b[0;32m---> 18\u001b[0m processed_data \u001b[38;5;241m=\u001b[39m \u001b[43mnp\u001b[49m\u001b[38;5;241;43m.\u001b[39;49m\u001b[43mconcatenate\u001b[49m\u001b[43m(\u001b[49m\u001b[43mprocessed_data\u001b[49m\u001b[43m,\u001b[49m\u001b[43m \u001b[49m\u001b[43maxis\u001b[49m\u001b[38;5;241;43m=\u001b[39;49m\u001b[38;5;241;43m-\u001b[39;49m\u001b[38;5;241;43m1\u001b[39;49m\u001b[43m)\u001b[49m\n\u001b[1;32m     20\u001b[0m \u001b[38;5;28mprint\u001b[39m(\u001b[38;5;124mf\u001b[39m\u001b[38;5;124m\"\u001b[39m\u001b[38;5;124mOriginal shape: \u001b[39m\u001b[38;5;132;01m{\u001b[39;00moriginal_data\u001b[38;5;241m.\u001b[39mshape\u001b[38;5;132;01m}\u001b[39;00m\u001b[38;5;124m\"\u001b[39m)\n\u001b[1;32m     21\u001b[0m \u001b[38;5;28mprint\u001b[39m(\u001b[38;5;124mf\u001b[39m\u001b[38;5;124m\"\u001b[39m\u001b[38;5;124mProcessed shape: \u001b[39m\u001b[38;5;132;01m{\u001b[39;00mprocessed_data\u001b[38;5;241m.\u001b[39mshape\u001b[38;5;132;01m}\u001b[39;00m\u001b[38;5;124m\"\u001b[39m)\n",
      "File \u001b[0;32m<__array_function__ internals>:180\u001b[0m, in \u001b[0;36mconcatenate\u001b[0;34m(*args, **kwargs)\u001b[0m\n",
      "\u001b[0;31mValueError\u001b[0m: all the input arrays must have same number of dimensions, but the array at index 0 has 3 dimension(s) and the array at index 1 has 4 dimension(s)"
     ]
    }
   ],
   "source": [
    "import os\n",
    "import nibabel as nib\n",
    "import torch\n",
    "import numpy as np\n",
    "from scipy import stats\n",
    "\n",
    "def compare_data(original_path, processed_dir):\n",
    "    # 원본 데이터 로드\n",
    "    original_img = nib.load(original_path)\n",
    "    original_data = original_img.get_fdata()\n",
    "\n",
    "    # 처리된 데이터 로드\n",
    "    processed_data = []\n",
    "    for file in sorted(os.listdir(processed_dir)):\n",
    "        if file.endswith('.pt'):\n",
    "            frame = torch.load(os.path.join(processed_dir, file))\n",
    "            processed_data.append(frame.numpy())\n",
    "    processed_data = np.concatenate(processed_data, axis=-1)\n",
    "\n",
    "    print(f\"Original shape: {original_data.shape}\")\n",
    "    print(f\"Processed shape: {processed_data.shape}\")\n",
    "\n",
    "    # 기본 통계 비교\n",
    "    print(\"\\nOriginal data statistics:\")\n",
    "    print(f\"Mean: {np.mean(original_data)}\")\n",
    "    print(f\"Std: {np.std(original_data)}\")\n",
    "    print(f\"Min: {np.min(original_data)}\")\n",
    "    print(f\"Max: {np.max(original_data)}\")\n",
    "\n",
    "    print(\"\\nProcessed data statistics:\")\n",
    "    print(f\"Mean: {np.mean(processed_data)}\")\n",
    "    print(f\"Std: {np.std(processed_data)}\")\n",
    "    print(f\"Min: {np.min(processed_data)}\")\n",
    "    print(f\"Max: {np.max(processed_data)}\")\n",
    "\n",
    "    # 상관관계 계산\n",
    "    correlation, _ = stats.pearsonr(original_data.flatten(), processed_data.flatten())\n",
    "    print(f\"\\nCorrelation between original and processed data: {correlation}\")\n",
    "\n",
    "    # 절대 차이\n",
    "    abs_diff = np.abs(original_data - processed_data)\n",
    "    print(f\"\\nMean absolute difference: {np.mean(abs_diff)}\")\n",
    "    print(f\"Max absolute difference: {np.max(abs_diff)}\")\n",
    "\n",
    "    # 상대 차이\n",
    "    rel_diff = np.abs((original_data - processed_data) / original_data)\n",
    "    rel_diff = rel_diff[~np.isnan(rel_diff) & ~np.isinf(rel_diff)]  # Remove NaN and Inf\n",
    "    print(f\"Mean relative difference: {np.mean(rel_diff)}\")\n",
    "    print(f\"Max relative difference: {np.max(rel_diff)}\")\n",
    "\n",
    "# 사용 예:\n",
    "original_path = '/home/minyoungxi/MINYOUNGXI/XFL/Data/OASIS_615_fmriprep_output/sub-OAS30078/ses-d0210/func/sub-OAS30078_ses-d0210_task-rest_space-MNI152NLin2009cAsym_desc-preproc_bold.nii.gz'\n",
    "processed_dir = '/home/minyoungxi/MINYOUNGXI/XFL/Data/OASIS_MNI_to_TRs_znorm/img/sub-OAS30078_ses-d0210'\n",
    "\n",
    "compare_data(original_path, processed_dir)"
   ]
  }
 ],
 "metadata": {
  "kernelspec": {
   "display_name": "TorchEnv",
   "language": "python",
   "name": "python3"
  },
  "language_info": {
   "codemirror_mode": {
    "name": "ipython",
    "version": 3
   },
   "file_extension": ".py",
   "mimetype": "text/x-python",
   "name": "python",
   "nbconvert_exporter": "python",
   "pygments_lexer": "ipython3",
   "version": "3.8.16"
  }
 },
 "nbformat": 4,
 "nbformat_minor": 2
}
