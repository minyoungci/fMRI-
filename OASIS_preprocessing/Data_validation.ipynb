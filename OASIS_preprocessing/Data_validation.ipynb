{
 "cells": [
  {
   "cell_type": "code",
   "execution_count": 9,
   "metadata": {},
   "outputs": [
    {
     "name": "stdout",
     "output_type": "stream",
     "text": [
      "Original shape: (41, 50, 43, 164)\n",
      "Processed shape: (41, 50, 43, 164)\n",
      "\n",
      "Original data statistics:\n",
      "Mean: 198.2925294230934\n",
      "Std: 243.19485968007677\n",
      "Min: -60.71564865112305\n",
      "Max: 1146.4359130859375\n",
      "\n",
      "Processed data statistics:\n",
      "Mean: -0.10833740234375\n",
      "Std: inf\n",
      "Min: -1.1376953125\n",
      "Max: 3.73828125\n",
      "\n",
      "Correlation between original and processed data: 0.998157888025222\n",
      "\n",
      "Mean absolute difference: 198.49307047343163\n",
      "Max absolute difference: 1142.6976318359375\n",
      "Mean relative difference: 1.1855376465452405\n",
      "Max relative difference: 313494.6474238557\n"
     ]
    },
    {
     "name": "stderr",
     "output_type": "stream",
     "text": [
      "/tmp/ipykernel_24501/1946683529.py:46: RuntimeWarning: divide by zero encountered in divide\n",
      "  rel_diff = np.abs((original_data - processed_data) / original_data)\n"
     ]
    }
   ],
   "source": [
    "import os\n",
    "import nibabel as nib\n",
    "import torch\n",
    "import numpy as np\n",
    "from scipy import stats\n",
    "\n",
    "def compare_data(original_path, processed_dir):\n",
    "    # 원본 데이터 로드\n",
    "    original_img = nib.load(original_path)\n",
    "    original_data = original_img.get_fdata()\n",
    "\n",
    "    # 처리된 데이터 로드\n",
    "    processed_data = []\n",
    "    for file in sorted(os.listdir(processed_dir)):\n",
    "        if file.endswith('.pt'):\n",
    "            frame = torch.load(os.path.join(processed_dir, file))\n",
    "            processed_data.append(frame.numpy())\n",
    "    processed_data = np.concatenate(processed_data, axis=-1)\n",
    "\n",
    "    print(f\"Original shape: {original_data.shape}\")\n",
    "    print(f\"Processed shape: {processed_data.shape}\")\n",
    "\n",
    "    # 기본 통계 비교\n",
    "    print(\"\\nOriginal data statistics:\")\n",
    "    print(f\"Mean: {np.mean(original_data)}\")\n",
    "    print(f\"Std: {np.std(original_data)}\")\n",
    "    print(f\"Min: {np.min(original_data)}\")\n",
    "    print(f\"Max: {np.max(original_data)}\")\n",
    "\n",
    "    print(\"\\nProcessed data statistics:\")\n",
    "    print(f\"Mean: {np.mean(processed_data)}\")\n",
    "    print(f\"Std: {np.std(processed_data)}\")\n",
    "    print(f\"Min: {np.min(processed_data)}\")\n",
    "    print(f\"Max: {np.max(processed_data)}\")\n",
    "\n",
    "    # 상관관계 계산\n",
    "    correlation, _ = stats.pearsonr(original_data.flatten(), processed_data.flatten())\n",
    "    print(f\"\\nCorrelation between original and processed data: {correlation}\")\n",
    "\n",
    "    # 절대 차이\n",
    "    abs_diff = np.abs(original_data - processed_data)\n",
    "    print(f\"\\nMean absolute difference: {np.mean(abs_diff)}\")\n",
    "    print(f\"Max absolute difference: {np.max(abs_diff)}\")\n",
    "\n",
    "    # 상대 차이\n",
    "    rel_diff = np.abs((original_data - processed_data) / original_data)\n",
    "    rel_diff = rel_diff[~np.isnan(rel_diff) & ~np.isinf(rel_diff)]  # Remove NaN and Inf\n",
    "    print(f\"Mean relative difference: {np.mean(rel_diff)}\")\n",
    "    print(f\"Max relative difference: {np.max(rel_diff)}\")\n",
    "    \n",
    "\n",
    "# 사용 예:\n",
    "original_path = '/home/minyoungxi/MINYOUNGXI/XFL/Data/OASIS_615_fmriprep_output/sub-OAS30078/ses-d0210/func/sub-OAS30078_ses-d0210_task-rest_space-MNI152NLin2009cAsym_desc-preproc_bold.nii.gz'\n",
    "processed_dir = '/home/minyoungxi/MINYOUNGXI/XFL/Data/OASIS_MNI_to_TRs_znorm/img/sub-OAS30078_ses-d0210'\n",
    "\n",
    "compare_data(original_path, processed_dir)"
   ]
  },
  {
   "cell_type": "code",
   "execution_count": null,
   "metadata": {},
   "outputs": [],
   "source": []
  }
 ],
 "metadata": {
  "kernelspec": {
   "display_name": "TorchEnv",
   "language": "python",
   "name": "python3"
  },
  "language_info": {
   "codemirror_mode": {
    "name": "ipython",
    "version": 3
   },
   "file_extension": ".py",
   "mimetype": "text/x-python",
   "name": "python",
   "nbconvert_exporter": "python",
   "pygments_lexer": "ipython3",
   "version": "3.8.16"
  }
 },
 "nbformat": 4,
 "nbformat_minor": 2
}
