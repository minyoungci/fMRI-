{
 "cells": [
  {
   "cell_type": "code",
   "execution_count": null,
   "metadata": {},
   "outputs": [],
   "source": []
  },
  {
   "cell_type": "code",
   "execution_count": 1,
   "metadata": {},
   "outputs": [
    {
     "name": "stdout",
     "output_type": "stream",
     "text": [
      "    OASISID  Subject_accession  AgeatEntry  AgeatDeath  GENDER  EDUC  SES  \\\n",
      "0  OAS30001                NaN     65.1945         NaN       2  12.0  4.0   \n",
      "1  OAS30002                NaN     67.2521     76.9397       1  18.0  2.0   \n",
      "2  OAS30003                NaN     58.8137         NaN       2  18.0  1.0   \n",
      "3  OAS30004                NaN     55.1342         NaN       2  17.0  1.0   \n",
      "4  OAS30005                NaN     48.0630         NaN       2  16.0  3.0   \n",
      "\n",
      "   racecode   race  ETHNIC  AIAN  NHPI  ASIAN   AA  WHITE  daddem  momdem  \\\n",
      "0         5  White     0.0   0.0   0.0    0.0  0.0    1.0     5.0     1.0   \n",
      "1         5  White     0.0   0.0   0.0    0.0  0.0    1.0     0.0     1.0   \n",
      "2         5  White     0.0   0.0   0.0    0.0  0.0    1.0     0.0     0.0   \n",
      "3         5  White     0.0   0.0   0.0    0.0  0.0    1.0     1.0     1.0   \n",
      "4         2  ASIAN     NaN   0.0   0.0    1.0  0.0    0.0     0.0     0.0   \n",
      "\n",
      "  HAND  APOE  \n",
      "0    R  23.0  \n",
      "1    R  34.0  \n",
      "2    R  33.0  \n",
      "3    L  23.0  \n",
      "4    R  33.0  \n",
      "Index(['OASISID', 'Subject_accession', 'AgeatEntry', 'AgeatDeath', 'GENDER',\n",
      "       'EDUC', 'SES', 'racecode', 'race', 'ETHNIC', 'AIAN', 'NHPI', 'ASIAN',\n",
      "       'AA', 'WHITE', 'daddem', 'momdem', 'HAND', 'APOE'],\n",
      "      dtype='object')\n"
     ]
    }
   ],
   "source": [
    "import pandas as pd\n",
    "\n",
    "clinical_Data = pd.read_csv(\"/home/minyoungxi/MINYOUNGXI/XFL/Data/Clinical_data/20240429_csv_OASIS3_all_files_XNAT_download_Suji_to_XFL_Share_240606/Suji-20240429_111322_OASIS3_Actions_Download Images_Whole_csv/OASIS3_data_files/demo/csv/OASIS3_demographics.csv\")\n",
    "\n",
    "print(clinical_Data.head())\n",
    "print(clinical_Data.columns)"
   ]
  },
  {
   "cell_type": "code",
   "execution_count": 2,
   "metadata": {},
   "outputs": [
    {
     "name": "stdout",
     "output_type": "stream",
     "text": [
      "An error occurred: [Errno 2] No such file or directory: '/home/minyoungxi/MINYOUNGXI/XFL/Data/OASIS_MNI_to_TRs_znorm/img'\n",
      "Please check the file paths and data structure.\n"
     ]
    }
   ],
   "source": [
    "import pandas as pd\n",
    "import os\n",
    "import glob\n",
    "\n",
    "def create_subject_dict(csv_file, img_dir):\n",
    "    # 이미지 디렉토리에 있는 실제 피험자 목록 가져오기\n",
    "    available_subjects = [d.split('_')[0].replace('sub-', '') for d in os.listdir(img_dir)]\n",
    "    print(f\"Available subjects: {len(available_subjects)}\")\n",
    "    print(f\"Sample subjects: {available_subjects[:5]}\")\n",
    "\n",
    "    print(f\"Reading CSV file: {csv_file}\")\n",
    "\n",
    "    # CSV 파일 읽기\n",
    "    if not os.path.exists(csv_file):\n",
    "        raise FileNotFoundError(f\"CSV file not found: {csv_file}\")\n",
    "\n",
    "    demo_df = pd.read_csv(csv_file)\n",
    "    print(f\"Loaded data shape: {demo_df.shape}\")\n",
    "    print(f\"Columns in the CSV: {demo_df.columns.tolist()}\")\n",
    "\n",
    "    subject_dict = {}\n",
    "    for subject in available_subjects:\n",
    "        # demo CSV에서 정보 추출\n",
    "        subject_info = demo_df[demo_df['OASISID'] == subject]\n",
    "        \n",
    "        if subject_info.empty:\n",
    "            print(f\"Warning: No information found for subject {subject}\")\n",
    "            continue\n",
    "\n",
    "        subject_info = subject_info.iloc[0]\n",
    "\n",
    "        # 필요한 정보 추출\n",
    "        age = subject_info['AgeatEntry']\n",
    "        gender = subject_info['GENDER']\n",
    "        education = subject_info['EDUC']\n",
    "        apoe = subject_info['APOE']\n",
    "\n",
    "        # 타겟 값 설정 (예: APOE4 유무에 따라)\n",
    "        target = 1 if '4' in str(apoe) else 0\n",
    "\n",
    "        subject_dict[subject] = {\n",
    "            'sex': 0 if gender == 2 else 1,  # 2는 여성, 1은 남성으로 가정\n",
    "            'age': age,\n",
    "            'education': education,\n",
    "            'apoe': apoe,\n",
    "            'target': target\n",
    "        }\n",
    "\n",
    "    print(f\"Created subject_dict with {len(subject_dict)} entries\")\n",
    "    return subject_dict\n",
    "\n",
    "# 사용 예:\n",
    "csv_file = '/home/minyoungxi/MINYOUNGXI/XFL/Data/Clinical_data/20240429_csv_OASIS3_all_files_XNAT_download_Suji_to_XFL_Share_240606/Suji-20240429_111322_OASIS3_Actions_Download Images_Whole_csv/OASIS3_data_files/demo/csv/OASIS3_demographics.csv'\n",
    "img_dir = '/home/minyoungxi/MINYOUNGXI/XFL/Data/OASIS_MNI_to_TRs_znorm/img'\n",
    "\n",
    "try:\n",
    "    subject_dict = create_subject_dict(csv_file, img_dir)\n",
    "\n",
    "    # 결과 확인\n",
    "    for subject, info in list(subject_dict.items())[:5]:  # 처음 5개 항목만 출력\n",
    "        print(f\"Subject: {subject}\")\n",
    "        print(f\"Info: {info}\")\n",
    "        print()\n",
    "\n",
    "except Exception as e:\n",
    "    print(f\"An error occurred: {e}\")\n",
    "    print(\"Please check the file paths and data structure.\")"
   ]
  },
  {
   "cell_type": "code",
   "execution_count": 3,
   "metadata": {},
   "outputs": [
    {
     "ename": "NameError",
     "evalue": "name 'subject_dict' is not defined",
     "output_type": "error",
     "traceback": [
      "\u001b[0;31m---------------------------------------------------------------------------\u001b[0m",
      "\u001b[0;31mNameError\u001b[0m                                 Traceback (most recent call last)",
      "Cell \u001b[0;32mIn[3], line 9\u001b[0m\n\u001b[1;32m      7\u001b[0m metadata_file \u001b[38;5;241m=\u001b[39m os\u001b[38;5;241m.\u001b[39mpath\u001b[38;5;241m.\u001b[39mjoin(metadata_dir, \u001b[38;5;124m'\u001b[39m\u001b[38;5;124msubject_metadata.json\u001b[39m\u001b[38;5;124m'\u001b[39m)\n\u001b[1;32m      8\u001b[0m \u001b[38;5;28;01mwith\u001b[39;00m \u001b[38;5;28mopen\u001b[39m(metadata_file, \u001b[38;5;124m'\u001b[39m\u001b[38;5;124mw\u001b[39m\u001b[38;5;124m'\u001b[39m) \u001b[38;5;28;01mas\u001b[39;00m f:\n\u001b[0;32m----> 9\u001b[0m     json\u001b[38;5;241m.\u001b[39mdump(\u001b[43msubject_dict\u001b[49m, f)\n\u001b[1;32m     11\u001b[0m \u001b[38;5;28mprint\u001b[39m(\u001b[38;5;124mf\u001b[39m\u001b[38;5;124m\"\u001b[39m\u001b[38;5;124mMetadata saved to \u001b[39m\u001b[38;5;132;01m{\u001b[39;00mmetadata_file\u001b[38;5;132;01m}\u001b[39;00m\u001b[38;5;124m\"\u001b[39m)\n",
      "\u001b[0;31mNameError\u001b[0m: name 'subject_dict' is not defined"
     ]
    }
   ],
   "source": [
    "import json\n",
    "import os\n",
    "\n",
    "metadata_dir = '/home/minyoungxi/MINYOUNGXI/XFL/Data/OASIS_MNI_to_TRs_znorm/metadata'\n",
    "os.makedirs(metadata_dir, exist_ok=True)\n",
    "\n",
    "metadata_file = os.path.join(metadata_dir, 'subject_metadata.json')\n",
    "with open(metadata_file, 'w') as f:\n",
    "    json.dump(subject_dict, f)\n",
    "\n",
    "print(f\"Metadata saved to {metadata_file}\")"
   ]
  },
  {
   "cell_type": "code",
   "execution_count": null,
   "metadata": {},
   "outputs": [
    {
     "data": {
      "text/plain": [
       "dict_keys(['OAS30206', 'OAS30078', 'OAS31164', 'OAS30954', 'OAS30983', 'OAS30173', 'OAS30145', 'OAS30828', 'OAS31024', 'OAS30778', 'OAS30193', 'OAS31032', 'OAS30745', 'OAS30478', 'OAS30774', 'OAS30597', 'OAS30525', 'OAS30788', 'OAS30392', 'OAS30545'])"
      ]
     },
     "execution_count": 5,
     "metadata": {},
     "output_type": "execute_result"
    }
   ],
   "source": [
    "subject_dict.keys()"
   ]
  },
  {
   "cell_type": "code",
   "execution_count": null,
   "metadata": {},
   "outputs": [],
   "source": [
    "filtered_data = clinical_Data[(clinical_Data['AgeatEntry'] >= 76) & (clinical_Data['AgeatEntry'] <= 80)]"
   ]
  },
  {
   "cell_type": "code",
   "execution_count": null,
   "metadata": {},
   "outputs": [
    {
     "data": {
      "text/plain": [
       "array(['OAS30011', 'OAS30016', 'OAS30024', 'OAS30033', 'OAS30035',\n",
       "       'OAS30061', 'OAS30064', 'OAS30084', 'OAS30087', 'OAS30088',\n",
       "       'OAS30089', 'OAS30124', 'OAS30128', 'OAS30133', 'OAS30136',\n",
       "       'OAS30138', 'OAS30149', 'OAS30159', 'OAS30179', 'OAS30180',\n",
       "       'OAS30197', 'OAS30205', 'OAS30206', 'OAS30208', 'OAS30212',\n",
       "       'OAS30217', 'OAS30218', 'OAS30225', 'OAS30226', 'OAS30234',\n",
       "       'OAS30237', 'OAS30238', 'OAS30239', 'OAS30247', 'OAS30252',\n",
       "       'OAS30254', 'OAS30255', 'OAS30298', 'OAS30299', 'OAS30307',\n",
       "       'OAS30312', 'OAS30315', 'OAS30329', 'OAS30332', 'OAS30334',\n",
       "       'OAS30342', 'OAS30347', 'OAS30374', 'OAS30376', 'OAS30388',\n",
       "       'OAS30399', 'OAS30406', 'OAS30407', 'OAS30408', 'OAS30416',\n",
       "       'OAS30422', 'OAS30423', 'OAS30428', 'OAS30434', 'OAS30435',\n",
       "       'OAS30440', 'OAS30463', 'OAS30471', 'OAS30474', 'OAS30477',\n",
       "       'OAS30479', 'OAS30491', 'OAS30506', 'OAS30515', 'OAS30525',\n",
       "       'OAS30532', 'OAS30533', 'OAS30547', 'OAS30549', 'OAS30563',\n",
       "       'OAS30576', 'OAS30578', 'OAS30598', 'OAS30599', 'OAS30605',\n",
       "       'OAS30610', 'OAS30616', 'OAS30617', 'OAS30622', 'OAS30628',\n",
       "       'OAS30650', 'OAS30662', 'OAS30665', 'OAS30672', 'OAS30682',\n",
       "       'OAS30689', 'OAS30700', 'OAS30718', 'OAS30728', 'OAS30736',\n",
       "       'OAS30737', 'OAS30746', 'OAS30761', 'OAS30774', 'OAS30779',\n",
       "       'OAS30780', 'OAS30784', 'OAS30785', 'OAS30788', 'OAS30796',\n",
       "       'OAS30804', 'OAS30806', 'OAS30837', 'OAS30841', 'OAS30843',\n",
       "       'OAS30847', 'OAS30848', 'OAS30849', 'OAS30853', 'OAS30861',\n",
       "       'OAS30866', 'OAS30867', 'OAS30878', 'OAS30883', 'OAS30893',\n",
       "       'OAS30895', 'OAS30898', 'OAS30903', 'OAS30918', 'OAS30926',\n",
       "       'OAS30930', 'OAS30931', 'OAS30948', 'OAS30983', 'OAS30991',\n",
       "       'OAS30999', 'OAS31000', 'OAS31013', 'OAS31022', 'OAS31024',\n",
       "       'OAS31026', 'OAS31030', 'OAS31041', 'OAS31044', 'OAS31050',\n",
       "       'OAS31051', 'OAS31052', 'OAS31060', 'OAS31067', 'OAS31086',\n",
       "       'OAS31134', 'OAS31143', 'OAS31149', 'OAS31154', 'OAS31177',\n",
       "       'OAS31181', 'OAS31214', 'OAS31227', 'OAS31230', 'OAS31231',\n",
       "       'OAS31238', 'OAS31249', 'OAS31272', 'OAS31273', 'OAS31276',\n",
       "       'OAS31281', 'OAS31290', 'OAS31303', 'OAS31304', 'OAS31311',\n",
       "       'OAS31314', 'OAS31319', 'OAS31320', 'OAS31323', 'OAS31330',\n",
       "       'OAS31336', 'OAS31340', 'OAS31348', 'OAS31349', 'OAS31384',\n",
       "       'OAS31386', 'OAS31389', 'OAS31397', 'OAS31401', 'OAS31408',\n",
       "       'OAS31418', 'OAS31420', 'OAS31427', 'OAS31428', 'OAS31433',\n",
       "       'OAS31439', 'OAS31450', 'OAS31464'], dtype=object)"
      ]
     },
     "execution_count": 67,
     "metadata": {},
     "output_type": "execute_result"
    }
   ],
   "source": [
    "filtered_id = filtered_data.OASISID.unique()\n",
    "filtered_id"
   ]
  },
  {
   "cell_type": "markdown",
   "metadata": {},
   "source": [
    "75 ~ 80 세 , T1W bold , BIDS NIFTI format , freesurfer x "
   ]
  }
 ],
 "metadata": {
  "kernelspec": {
   "display_name": "TorchEnv",
   "language": "python",
   "name": "python3"
  },
  "language_info": {
   "codemirror_mode": {
    "name": "ipython",
    "version": 3
   },
   "file_extension": ".py",
   "mimetype": "text/x-python",
   "name": "python",
   "nbconvert_exporter": "python",
   "pygments_lexer": "ipython3",
   "version": "3.8.16"
  }
 },
 "nbformat": 4,
 "nbformat_minor": 2
}
