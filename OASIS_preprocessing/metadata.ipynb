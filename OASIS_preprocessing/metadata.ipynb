{
 "cells": [
  {
   "cell_type": "code",
   "execution_count": null,
   "metadata": {},
   "outputs": [],
   "source": []
  },
  {
   "cell_type": "code",
   "execution_count": 4,
   "metadata": {},
   "outputs": [
    {
     "name": "stdout",
     "output_type": "stream",
     "text": [
      "    OASISID  Subject_accession  AgeatEntry  AgeatDeath  GENDER  EDUC  SES  \\\n",
      "0  OAS30001                NaN     65.1945         NaN       2  12.0  4.0   \n",
      "1  OAS30002                NaN     67.2521     76.9397       1  18.0  2.0   \n",
      "2  OAS30003                NaN     58.8137         NaN       2  18.0  1.0   \n",
      "3  OAS30004                NaN     55.1342         NaN       2  17.0  1.0   \n",
      "4  OAS30005                NaN     48.0630         NaN       2  16.0  3.0   \n",
      "\n",
      "   racecode   race  ETHNIC  AIAN  NHPI  ASIAN   AA  WHITE  daddem  momdem  \\\n",
      "0         5  White     0.0   0.0   0.0    0.0  0.0    1.0     5.0     1.0   \n",
      "1         5  White     0.0   0.0   0.0    0.0  0.0    1.0     0.0     1.0   \n",
      "2         5  White     0.0   0.0   0.0    0.0  0.0    1.0     0.0     0.0   \n",
      "3         5  White     0.0   0.0   0.0    0.0  0.0    1.0     1.0     1.0   \n",
      "4         2  ASIAN     NaN   0.0   0.0    1.0  0.0    0.0     0.0     0.0   \n",
      "\n",
      "  HAND  APOE  \n",
      "0    R  23.0  \n",
      "1    R  34.0  \n",
      "2    R  33.0  \n",
      "3    L  23.0  \n",
      "4    R  33.0  \n",
      "Index(['OASISID', 'Subject_accession', 'AgeatEntry', 'AgeatDeath', 'GENDER',\n",
      "       'EDUC', 'SES', 'racecode', 'race', 'ETHNIC', 'AIAN', 'NHPI', 'ASIAN',\n",
      "       'AA', 'WHITE', 'daddem', 'momdem', 'HAND', 'APOE'],\n",
      "      dtype='object')\n"
     ]
    }
   ],
   "source": [
    "import pandas as pd\n",
    "\n",
    "clinical_Data = pd.read_csv(\"/home/minyoungxi/MINYOUNGXI/XFL/Data/Clinical_data/20240429_csv_OASIS3_all_files_XNAT_download_Suji_to_XFL_Share_240606/Suji-20240429_111322_OASIS3_Actions_Download Images_Whole_csv/OASIS3_data_files/demo/csv/OASIS3_demographics.csv\")\n",
    "\n",
    "print(clinical_Data.head())\n",
    "print(clinical_Data.columns)"
   ]
  },
  {
   "cell_type": "code",
   "execution_count": 8,
   "metadata": {},
   "outputs": [
    {
     "data": {
      "text/html": [
       "<div>\n",
       "<style scoped>\n",
       "    .dataframe tbody tr th:only-of-type {\n",
       "        vertical-align: middle;\n",
       "    }\n",
       "\n",
       "    .dataframe tbody tr th {\n",
       "        vertical-align: top;\n",
       "    }\n",
       "\n",
       "    .dataframe thead th {\n",
       "        text-align: right;\n",
       "    }\n",
       "</style>\n",
       "<table border=\"1\" class=\"dataframe\">\n",
       "  <thead>\n",
       "    <tr style=\"text-align: right;\">\n",
       "      <th></th>\n",
       "      <th>OASISID</th>\n",
       "      <th>Subject_accession</th>\n",
       "      <th>AgeatEntry</th>\n",
       "      <th>AgeatDeath</th>\n",
       "      <th>GENDER</th>\n",
       "      <th>EDUC</th>\n",
       "      <th>SES</th>\n",
       "      <th>racecode</th>\n",
       "      <th>race</th>\n",
       "      <th>ETHNIC</th>\n",
       "      <th>AIAN</th>\n",
       "      <th>NHPI</th>\n",
       "      <th>ASIAN</th>\n",
       "      <th>AA</th>\n",
       "      <th>WHITE</th>\n",
       "      <th>daddem</th>\n",
       "      <th>momdem</th>\n",
       "      <th>HAND</th>\n",
       "      <th>APOE</th>\n",
       "    </tr>\n",
       "  </thead>\n",
       "  <tbody>\n",
       "    <tr>\n",
       "      <th>72</th>\n",
       "      <td>OAS30078</td>\n",
       "      <td>NaN</td>\n",
       "      <td>71.8904</td>\n",
       "      <td>83.0877</td>\n",
       "      <td>2</td>\n",
       "      <td>15.0</td>\n",
       "      <td>2.0</td>\n",
       "      <td>5</td>\n",
       "      <td>White</td>\n",
       "      <td>NaN</td>\n",
       "      <td>NaN</td>\n",
       "      <td>NaN</td>\n",
       "      <td>NaN</td>\n",
       "      <td>NaN</td>\n",
       "      <td>1.0</td>\n",
       "      <td>NaN</td>\n",
       "      <td>1.0</td>\n",
       "      <td>R</td>\n",
       "      <td>44.0</td>\n",
       "    </tr>\n",
       "  </tbody>\n",
       "</table>\n",
       "</div>"
      ],
      "text/plain": [
       "     OASISID  Subject_accession  AgeatEntry  AgeatDeath  GENDER  EDUC  SES  \\\n",
       "72  OAS30078                NaN     71.8904     83.0877       2  15.0  2.0   \n",
       "\n",
       "    racecode   race  ETHNIC  AIAN  NHPI  ASIAN  AA  WHITE  daddem  momdem  \\\n",
       "72         5  White     NaN   NaN   NaN    NaN NaN    1.0     NaN     1.0   \n",
       "\n",
       "   HAND  APOE  \n",
       "72    R  44.0  "
      ]
     },
     "execution_count": 8,
     "metadata": {},
     "output_type": "execute_result"
    }
   ],
   "source": [
    "clinical_Data[clinical_Data['OASISID'] == 'OAS30078']"
   ]
  },
  {
   "cell_type": "code",
   "execution_count": 11,
   "metadata": {},
   "outputs": [
    {
     "name": "stdout",
     "output_type": "stream",
     "text": [
      "Available subjects: 20\n",
      "Sample subjects: ['OAS30206', 'OAS30078', 'OAS31164', 'OAS30954', 'OAS30983']\n",
      "Reading CSV file: /home/minyoungxi/MINYOUNGXI/XFL/Data/Clinical_data/20240429_csv_OASIS3_all_files_XNAT_download_Suji_to_XFL_Share_240606/Suji-20240429_111322_OASIS3_Actions_Download Images_Whole_csv/OASIS3_data_files/demo/csv/OASIS3_demographics.csv\n",
      "Loaded data shape: (1378, 19)\n",
      "Columns in the CSV: ['OASISID', 'Subject_accession', 'AgeatEntry', 'AgeatDeath', 'GENDER', 'EDUC', 'SES', 'racecode', 'race', 'ETHNIC', 'AIAN', 'NHPI', 'ASIAN', 'AA', 'WHITE', 'daddem', 'momdem', 'HAND', 'APOE']\n",
      "Created subject_dict with 20 entries\n",
      "Subject: OAS30206\n",
      "Info: {'sex': 1, 'age': 79.1342, 'education': 16.0, 'apoe': 33.0, 'target': 0}\n",
      "\n",
      "Subject: OAS30078\n",
      "Info: {'sex': 0, 'age': 71.8904, 'education': 15.0, 'apoe': 44.0, 'target': 1}\n",
      "\n",
      "Subject: OAS31164\n",
      "Info: {'sex': 0, 'age': 80.463, 'education': 15.0, 'apoe': 34.0, 'target': 1}\n",
      "\n",
      "Subject: OAS30954\n",
      "Info: {'sex': 0, 'age': 80.1233, 'education': 12.0, 'apoe': 33.0, 'target': 0}\n",
      "\n",
      "Subject: OAS30983\n",
      "Info: {'sex': 0, 'age': 79.2986, 'education': 16.0, 'apoe': 34.0, 'target': 1}\n",
      "\n"
     ]
    }
   ],
   "source": [
    "import pandas as pd\n",
    "import os\n",
    "import glob\n",
    "\n",
    "def create_subject_dict(csv_file, img_dir):\n",
    "    # 이미지 디렉토리에 있는 실제 피험자 목록 가져오기\n",
    "    available_subjects = [d.split('_')[0].replace('sub-', '') for d in os.listdir(img_dir)]\n",
    "    print(f\"Available subjects: {len(available_subjects)}\")\n",
    "    print(f\"Sample subjects: {available_subjects[:5]}\")\n",
    "\n",
    "    print(f\"Reading CSV file: {csv_file}\")\n",
    "\n",
    "    # CSV 파일 읽기\n",
    "    if not os.path.exists(csv_file):\n",
    "        raise FileNotFoundError(f\"CSV file not found: {csv_file}\")\n",
    "\n",
    "    demo_df = pd.read_csv(csv_file)\n",
    "    print(f\"Loaded data shape: {demo_df.shape}\")\n",
    "    print(f\"Columns in the CSV: {demo_df.columns.tolist()}\")\n",
    "\n",
    "    subject_dict = {}\n",
    "    for subject in available_subjects:\n",
    "        # demo CSV에서 정보 추출\n",
    "        subject_info = demo_df[demo_df['OASISID'] == subject]\n",
    "        \n",
    "        if subject_info.empty:\n",
    "            print(f\"Warning: No information found for subject {subject}\")\n",
    "            continue\n",
    "\n",
    "        subject_info = subject_info.iloc[0]\n",
    "\n",
    "        # 필요한 정보 추출\n",
    "        age = subject_info['AgeatEntry']\n",
    "        gender = subject_info['GENDER']\n",
    "        education = subject_info['EDUC']\n",
    "        apoe = subject_info['APOE']\n",
    "\n",
    "        # 타겟 값 설정 (예: APOE4 유무에 따라)\n",
    "        target = 1 if '4' in str(apoe) else 0\n",
    "\n",
    "        subject_dict[subject] = {\n",
    "            'sex': 0 if gender == 2 else 1,  # 2는 여성, 1은 남성으로 가정\n",
    "            'age': age,\n",
    "            'education': education,\n",
    "            'apoe': apoe,\n",
    "            'target': target\n",
    "        }\n",
    "\n",
    "    print(f\"Created subject_dict with {len(subject_dict)} entries\")\n",
    "    return subject_dict\n",
    "\n",
    "# 사용 예:\n",
    "csv_file = '/home/minyoungxi/MINYOUNGXI/XFL/Data/Clinical_data/20240429_csv_OASIS3_all_files_XNAT_download_Suji_to_XFL_Share_240606/Suji-20240429_111322_OASIS3_Actions_Download Images_Whole_csv/OASIS3_data_files/demo/csv/OASIS3_demographics.csv'\n",
    "img_dir = '/home/minyoungxi/MINYOUNGXI/XFL/Data/OASIS_MNI_to_TRs_znorm/img'\n",
    "\n",
    "try:\n",
    "    subject_dict = create_subject_dict(csv_file, img_dir)\n",
    "\n",
    "    # 결과 확인\n",
    "    for subject, info in list(subject_dict.items())[:5]:  # 처음 5개 항목만 출력\n",
    "        print(f\"Subject: {subject}\")\n",
    "        print(f\"Info: {info}\")\n",
    "        print()\n",
    "\n",
    "except Exception as e:\n",
    "    print(f\"An error occurred: {e}\")\n",
    "    print(\"Please check the file paths and data structure.\")"
   ]
  },
  {
   "cell_type": "code",
   "execution_count": 12,
   "metadata": {},
   "outputs": [
    {
     "name": "stdout",
     "output_type": "stream",
     "text": [
      "Metadata saved to /home/minyoungxi/MINYOUNGXI/XFL/Data/OASIS_MNI_to_TRs_znorm/metadata/subject_metadata.json\n"
     ]
    }
   ],
   "source": [
    "import json\n",
    "import os\n",
    "\n",
    "metadata_dir = '/home/minyoungxi/MINYOUNGXI/XFL/Data/OASIS_MNI_to_TRs_znorm/metadata'\n",
    "os.makedirs(metadata_dir, exist_ok=True)\n",
    "\n",
    "metadata_file = os.path.join(metadata_dir, 'subject_metadata.json')\n",
    "with open(metadata_file, 'w') as f:\n",
    "    json.dump(subject_dict, f)\n",
    "\n",
    "print(f\"Metadata saved to {metadata_file}\")"
   ]
  },
  {
   "cell_type": "code",
   "execution_count": 14,
   "metadata": {},
   "outputs": [
    {
     "data": {
      "text/plain": [
       "dict_keys(['OAS30206', 'OAS30078', 'OAS31164', 'OAS30954', 'OAS30983', 'OAS30173', 'OAS30145', 'OAS30828', 'OAS31024', 'OAS30778', 'OAS30193', 'OAS31032', 'OAS30745', 'OAS30478', 'OAS30774', 'OAS30597', 'OAS30525', 'OAS30788', 'OAS30392', 'OAS30545'])"
      ]
     },
     "execution_count": 14,
     "metadata": {},
     "output_type": "execute_result"
    }
   ],
   "source": [
    "subject_dict.keys()"
   ]
  }
 ],
 "metadata": {
  "kernelspec": {
   "display_name": "TorchEnv",
   "language": "python",
   "name": "python3"
  },
  "language_info": {
   "codemirror_mode": {
    "name": "ipython",
    "version": 3
   },
   "file_extension": ".py",
   "mimetype": "text/x-python",
   "name": "python",
   "nbconvert_exporter": "python",
   "pygments_lexer": "ipython3",
   "version": "3.8.16"
  }
 },
 "nbformat": 4,
 "nbformat_minor": 2
}
