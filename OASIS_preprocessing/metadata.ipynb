{
 "cells": [
  {
   "cell_type": "code",
   "execution_count": 15,
   "metadata": {},
   "outputs": [
    {
     "name": "stdout",
     "output_type": "stream",
     "text": [
      "    OASISID   OASIS_session_label  days_to_visit  age at visit  MMSE  memory  \\\n",
      "0  OAS30001  OAS30001_UDSb4_d0000              0         65.19  28.0     0.0   \n",
      "1  OAS30001  OAS30001_UDSb4_d0339            339         66.12  28.0     0.0   \n",
      "2  OAS30001  OAS30001_UDSb4_d0722            722         67.17  30.0     0.0   \n",
      "3  OAS30001  OAS30001_UDSb4_d1106           1106         68.22  30.0     0.0   \n",
      "4  OAS30001  OAS30001_UDSb4_d1456           1456         69.18  30.0     0.0   \n",
      "\n",
      "   orient  judgment  commun  homehobb  ...  dx1_code  dx2_code  dx3_code  \\\n",
      "0     0.0       0.0     0.0       0.0  ...       1.0       NaN       NaN   \n",
      "1     0.0       0.0     0.0       0.0  ...       1.0       NaN       NaN   \n",
      "2     0.0       0.0     0.0       0.0  ...       1.0       NaN       NaN   \n",
      "3     0.0       0.0     0.0       0.0  ...       1.0       NaN       NaN   \n",
      "4     0.0       0.0     0.0       0.0  ...       1.0       NaN       NaN   \n",
      "\n",
      "   dx4_code  dx5_code                 dx1  dx2  dx3 dx4 dx5  \n",
      "0       NaN       NaN  Cognitively normal    .    .   .   .  \n",
      "1       NaN       NaN  Cognitively normal    .    .   .   .  \n",
      "2       NaN       NaN  Cognitively normal    .    .   .   .  \n",
      "3       NaN       NaN  Cognitively normal    .    .   .   .  \n",
      "4       NaN       NaN  Cognitively normal    .    .   .   .  \n",
      "\n",
      "[5 rows x 23 columns]\n",
      "Index(['OASISID', 'OASIS_session_label', 'days_to_visit', 'age at visit',\n",
      "       'MMSE', 'memory', 'orient', 'judgment', 'commun', 'homehobb',\n",
      "       'perscare', 'CDRSUM', 'CDRTOT', 'dx1_code', 'dx2_code', 'dx3_code',\n",
      "       'dx4_code', 'dx5_code', 'dx1', 'dx2', 'dx3', 'dx4', 'dx5'],\n",
      "      dtype='object')\n"
     ]
    }
   ],
   "source": [
    "import pandas as pd\n",
    "\n",
    "clinical_Data = pd.read_csv(\"/home/minyoungxi/MINYOUNGXI/XFL/Data/Clinical_data/20240429_csv_OASIS3_all_files_XNAT_download_Suji_to_XFL_Share_240606/Suji-20240429_111322_OASIS3_Actions_Download Images_Whole_csv/OASIS3_data_files/UDSb4/csv/OASIS3_UDSb4_cdr.csv\")\n",
    "\n",
    "print(clinical_Data.head())\n",
    "print(clinical_Data.columns)"
   ]
  },
  {
   "cell_type": "code",
   "execution_count": 16,
   "metadata": {},
   "outputs": [
    {
     "ename": "NameError",
     "evalue": "name 'process_all_subjects' is not defined",
     "output_type": "error",
     "traceback": [
      "\u001b[0;31m---------------------------------------------------------------------------\u001b[0m",
      "\u001b[0;31mNameError\u001b[0m                                 Traceback (most recent call last)",
      "Cell \u001b[0;32mIn[16], line 32\u001b[0m\n\u001b[1;32m     29\u001b[0m     \u001b[38;5;28mprint\u001b[39m(final_metadata[\u001b[38;5;124m'\u001b[39m\u001b[38;5;124mdx1\u001b[39m\u001b[38;5;124m'\u001b[39m]\u001b[38;5;241m.\u001b[39mvalue_counts(dropna\u001b[38;5;241m=\u001b[39m\u001b[38;5;28;01mFalse\u001b[39;00m))\n\u001b[1;32m     31\u001b[0m clinical_data_path \u001b[38;5;241m=\u001b[39m \u001b[38;5;124m\"\u001b[39m\u001b[38;5;124m/home/minyoungxi/MINYOUNGXI/XFL/Data/Clinical_data/20240429_csv_OASIS3_all_files_XNAT_download_Suji_to_XFL_Share_240606/Suji-20240429_111322_OASIS3_Actions_Download Images_Whole_csv/OASIS3_data_files/UDSb4/csv/OASIS3_UDSb4_cdr.csv\u001b[39m\u001b[38;5;124m\"\u001b[39m  \u001b[38;5;66;03m# Clinical 데이터 파일 경로\u001b[39;00m\n\u001b[0;32m---> 32\u001b[0m subjects_processed \u001b[38;5;241m=\u001b[39m \u001b[43mprocess_all_subjects\u001b[49m(base_dir, output_dir, standard_file)\n\u001b[1;32m     33\u001b[0m create_metadata_file(subjects_processed, output_dir, clinical_data_path)\n",
      "\u001b[0;31mNameError\u001b[0m: name 'process_all_subjects' is not defined"
     ]
    }
   ],
   "source": [
    "def create_metadata_file(subjects_processed, output_dir, clinical_data_path):\n",
    "\n",
    "    clinical_data = pd.read_csv(clinical_data_path)\n",
    "    \n",
    "    processed_metadata = pd.DataFrame(subjects_processed, columns=['subject_id', 'session_id'])\n",
    "    \n",
    "    merged_data = pd.merge(\n",
    "        processed_metadata,\n",
    "        clinical_data,\n",
    "        left_on=['subject_id', 'session_id'],\n",
    "        right_on=['OASISID', 'OASIS_session_label'],\n",
    "        how='left'\n",
    "    )\n",
    "    \n",
    "    merged_data['target'] = merged_data['CDRTOT']\n",
    "    \n",
    "    final_metadata = merged_data[['subject_id', 'session_id', 'target', 'age at visit', 'MMSE', 'dx1', 'CDRSUM']]\n",
    "    \n",
    "    final_metadata = final_metadata.fillna(-1)\n",
    "    \n",
    "    metadata_file = os.path.join(output_dir, 'metadata', 'metafile.csv')\n",
    "    os.makedirs(os.path.join(output_dir, 'metadata'), exist_ok=True)\n",
    "    final_metadata.to_csv(metadata_file, index=False)\n",
    "    print(f\"Metadata file created: {metadata_file}\")\n",
    "    \n",
    "    print(\"\\nCDR Distribution:\")\n",
    "    print(final_metadata['target'].value_counts(dropna=False))\n",
    "    print(\"\\nDiagnosis Distribution:\")\n",
    "    print(final_metadata['dx1'].value_counts(dropna=False))\n",
    "\n",
    "clinical_data_path = \"/home/minyoungxi/MINYOUNGXI/XFL/Data/Clinical_data/20240429_csv_OASIS3_all_files_XNAT_download_Suji_to_XFL_Share_240606/Suji-20240429_111322_OASIS3_Actions_Download Images_Whole_csv/OASIS3_data_files/UDSb4/csv/OASIS3_UDSb4_cdr.csv\"  # Clinical 데이터 파일 경로\n",
    "subjects_processed = process_all_subjects(base_dir, output_dir, standard_file)\n",
    "create_metadata_file(subjects_processed, output_dir, clinical_data_path)"
   ]
  },
  {
   "cell_type": "markdown",
   "metadata": {},
   "source": [
    "75 ~ 80 세 , T1W bold , BIDS NIFTI format , freesurfer x "
   ]
  }
 ],
 "metadata": {
  "kernelspec": {
   "display_name": "TorchEnv",
   "language": "python",
   "name": "python3"
  },
  "language_info": {
   "codemirror_mode": {
    "name": "ipython",
    "version": 3
   },
   "file_extension": ".py",
   "mimetype": "text/x-python",
   "name": "python",
   "nbconvert_exporter": "python",
   "pygments_lexer": "ipython3",
   "version": "3.8.16"
  }
 },
 "nbformat": 4,
 "nbformat_minor": 2
}
