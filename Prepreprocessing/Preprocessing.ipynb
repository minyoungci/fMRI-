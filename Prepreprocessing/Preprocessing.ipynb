{
 "cells": [
  {
   "cell_type": "code",
   "execution_count": 5,
   "metadata": {},
   "outputs": [
    {
     "name": "stdout",
     "output_type": "stream",
     "text": [
      "Processing subject OAS30033, session d0133\n"
     ]
    },
    {
     "name": "stderr",
     "output_type": "stream",
     "text": [
      "Processing volumes for subject OAS30033: 100%|██████████| 164/164 [13:52<00:00,  5.07s/it]\n"
     ]
    },
    {
     "name": "stdout",
     "output_type": "stream",
     "text": [
      "Processing subject OAS30124, session d0046\n"
     ]
    },
    {
     "name": "stderr",
     "output_type": "stream",
     "text": [
      "Processing volumes for subject OAS30124: 100%|██████████| 164/164 [13:23<00:00,  4.90s/it]\n"
     ]
    },
    {
     "name": "stdout",
     "output_type": "stream",
     "text": [
      "Processing subject OAS30064, session d0687\n"
     ]
    },
    {
     "name": "stderr",
     "output_type": "stream",
     "text": [
      "Processing volumes for subject OAS30064:  18%|█▊        | 29/164 [02:25<11:16,  5.01s/it]\n"
     ]
    },
    {
     "ename": "KeyboardInterrupt",
     "evalue": "",
     "output_type": "error",
     "traceback": [
      "\u001b[0;31m---------------------------------------------------------------------------\u001b[0m",
      "\u001b[0;31mKeyboardInterrupt\u001b[0m                         Traceback (most recent call last)",
      "Cell \u001b[0;32mIn[5], line 115\u001b[0m\n\u001b[1;32m    112\u001b[0m output_dir \u001b[38;5;241m=\u001b[39m \u001b[38;5;124m\"\u001b[39m\u001b[38;5;124m/home/minyoungxi/MINYOUNGXI/XFL/Data/OASIS_MNI_to_TRs\u001b[39m\u001b[38;5;124m\"\u001b[39m\n\u001b[1;32m    113\u001b[0m standard_file \u001b[38;5;241m=\u001b[39m os\u001b[38;5;241m.\u001b[39mpath\u001b[38;5;241m.\u001b[39mjoin(os\u001b[38;5;241m.\u001b[39menviron[\u001b[38;5;124m'\u001b[39m\u001b[38;5;124mFSLDIR\u001b[39m\u001b[38;5;124m'\u001b[39m], \u001b[38;5;124m'\u001b[39m\u001b[38;5;124mdata\u001b[39m\u001b[38;5;124m'\u001b[39m, \u001b[38;5;124m'\u001b[39m\u001b[38;5;124mstandard\u001b[39m\u001b[38;5;124m'\u001b[39m, \u001b[38;5;124m'\u001b[39m\u001b[38;5;124mMNI152_T1_1mm_brain.nii.gz\u001b[39m\u001b[38;5;124m'\u001b[39m)\n\u001b[0;32m--> 115\u001b[0m subjects_processed \u001b[38;5;241m=\u001b[39m \u001b[43mprocess_all_subjects\u001b[49m\u001b[43m(\u001b[49m\u001b[43mbase_dir\u001b[49m\u001b[43m,\u001b[49m\u001b[43m \u001b[49m\u001b[43moutput_dir\u001b[49m\u001b[43m,\u001b[49m\u001b[43m \u001b[49m\u001b[43mstandard_file\u001b[49m\u001b[43m)\u001b[49m\n\u001b[1;32m    116\u001b[0m create_metadata_file(subjects_processed, output_dir)\n\u001b[1;32m    118\u001b[0m \u001b[38;5;28mprint\u001b[39m(\u001b[38;5;124m\"\u001b[39m\u001b[38;5;124mPreprocessing and data structuring completed.\u001b[39m\u001b[38;5;124m\"\u001b[39m)\n",
      "Cell \u001b[0;32mIn[5], line 106\u001b[0m, in \u001b[0;36mprocess_all_subjects\u001b[0;34m(base_dir, output_dir, standard_file)\u001b[0m\n\u001b[1;32m    104\u001b[0m     \u001b[38;5;28;01mif\u001b[39;00m os\u001b[38;5;241m.\u001b[39mpath\u001b[38;5;241m.\u001b[39mexists(func_file):\n\u001b[1;32m    105\u001b[0m         \u001b[38;5;28mprint\u001b[39m(\u001b[38;5;124mf\u001b[39m\u001b[38;5;124m\"\u001b[39m\u001b[38;5;124mProcessing subject \u001b[39m\u001b[38;5;132;01m{\u001b[39;00msubject_id\u001b[38;5;132;01m}\u001b[39;00m\u001b[38;5;124m, session \u001b[39m\u001b[38;5;132;01m{\u001b[39;00msession_id\u001b[38;5;132;01m}\u001b[39;00m\u001b[38;5;124m\"\u001b[39m)\n\u001b[0;32m--> 106\u001b[0m         \u001b[43mpreprocess_fmri_3d_pointing\u001b[49m\u001b[43m(\u001b[49m\u001b[43mfunc_file\u001b[49m\u001b[43m,\u001b[49m\u001b[43m \u001b[49m\u001b[43mstandard_file\u001b[49m\u001b[43m,\u001b[49m\u001b[43m \u001b[49m\u001b[43moutput_dir\u001b[49m\u001b[43m,\u001b[49m\u001b[43m \u001b[49m\u001b[43msubject_id\u001b[49m\u001b[43m,\u001b[49m\u001b[43m \u001b[49m\u001b[43msession_id\u001b[49m\u001b[43m)\u001b[49m\n\u001b[1;32m    107\u001b[0m         subjects_processed\u001b[38;5;241m.\u001b[39mappend((subject_id, session_id))\n\u001b[1;32m    109\u001b[0m \u001b[38;5;28;01mreturn\u001b[39;00m subjects_processed\n",
      "Cell \u001b[0;32mIn[5], line 76\u001b[0m, in \u001b[0;36mpreprocess_fmri_3d_pointing\u001b[0;34m(func_file, standard_file, output_dir, subject_id, session_id)\u001b[0m\n\u001b[1;32m     74\u001b[0m mni_output \u001b[38;5;241m=\u001b[39m os\u001b[38;5;241m.\u001b[39mpath\u001b[38;5;241m.\u001b[39mjoin(output_dir, \u001b[38;5;124mf\u001b[39m\u001b[38;5;124m\"\u001b[39m\u001b[38;5;124mmni_volume_\u001b[39m\u001b[38;5;132;01m{\u001b[39;00mi\u001b[38;5;132;01m}\u001b[39;00m\u001b[38;5;124m.nii.gz\u001b[39m\u001b[38;5;124m\"\u001b[39m)\n\u001b[1;32m     75\u001b[0m mni_matrix \u001b[38;5;241m=\u001b[39m os\u001b[38;5;241m.\u001b[39mpath\u001b[38;5;241m.\u001b[39mjoin(output_dir, \u001b[38;5;124mf\u001b[39m\u001b[38;5;124m\"\u001b[39m\u001b[38;5;124mmni_matrix_\u001b[39m\u001b[38;5;132;01m{\u001b[39;00mi\u001b[38;5;132;01m}\u001b[39;00m\u001b[38;5;124m.mat\u001b[39m\u001b[38;5;124m\"\u001b[39m)\n\u001b[0;32m---> 76\u001b[0m \u001b[43mrun_flirt\u001b[49m\u001b[43m(\u001b[49m\u001b[43mmasked_volume\u001b[49m\u001b[43m,\u001b[49m\u001b[43m \u001b[49m\u001b[43mstandard_file\u001b[49m\u001b[43m,\u001b[49m\u001b[43m \u001b[49m\u001b[43mmni_output\u001b[49m\u001b[43m,\u001b[49m\u001b[43m \u001b[49m\u001b[43mmni_matrix\u001b[49m\u001b[43m,\u001b[49m\u001b[43m \u001b[49m\u001b[43mdof\u001b[49m\u001b[38;5;241;43m=\u001b[39;49m\u001b[38;5;241;43m12\u001b[39;49m\u001b[43m)\u001b[49m\n\u001b[1;32m     78\u001b[0m mni_volume \u001b[38;5;241m=\u001b[39m nib\u001b[38;5;241m.\u001b[39mload(mni_output)\u001b[38;5;241m.\u001b[39mget_fdata()\n\u001b[1;32m     79\u001b[0m mni_volume_norm \u001b[38;5;241m=\u001b[39m (mni_volume \u001b[38;5;241m-\u001b[39m np\u001b[38;5;241m.\u001b[39mmean(mni_volume)) \u001b[38;5;241m/\u001b[39m np\u001b[38;5;241m.\u001b[39mstd(mni_volume)\n",
      "Cell \u001b[0;32mIn[5], line 34\u001b[0m, in \u001b[0;36mrun_flirt\u001b[0;34m(in_file, ref_file, out_file, out_matrix_file, dof)\u001b[0m\n\u001b[1;32m     32\u001b[0m flirt\u001b[38;5;241m.\u001b[39minputs\u001b[38;5;241m.\u001b[39mdof \u001b[38;5;241m=\u001b[39m dof\n\u001b[1;32m     33\u001b[0m flirt\u001b[38;5;241m.\u001b[39minputs\u001b[38;5;241m.\u001b[39mcost \u001b[38;5;241m=\u001b[39m \u001b[38;5;124m'\u001b[39m\u001b[38;5;124mcorratio\u001b[39m\u001b[38;5;124m'\u001b[39m\n\u001b[0;32m---> 34\u001b[0m \u001b[38;5;28;01mreturn\u001b[39;00m \u001b[43mflirt\u001b[49m\u001b[38;5;241;43m.\u001b[39;49m\u001b[43mrun\u001b[49m\u001b[43m(\u001b[49m\u001b[43m)\u001b[49m\n",
      "File \u001b[0;32m~/anaconda3/envs/TorchEnv/lib/python3.8/site-packages/nipype/interfaces/base/core.py:397\u001b[0m, in \u001b[0;36mBaseInterface.run\u001b[0;34m(self, cwd, ignore_exception, **inputs)\u001b[0m\n\u001b[1;32m    395\u001b[0m \u001b[38;5;66;03m# Run interface\u001b[39;00m\n\u001b[1;32m    396\u001b[0m runtime \u001b[38;5;241m=\u001b[39m \u001b[38;5;28mself\u001b[39m\u001b[38;5;241m.\u001b[39m_pre_run_hook(runtime)\n\u001b[0;32m--> 397\u001b[0m runtime \u001b[38;5;241m=\u001b[39m \u001b[38;5;28;43mself\u001b[39;49m\u001b[38;5;241;43m.\u001b[39;49m\u001b[43m_run_interface\u001b[49m\u001b[43m(\u001b[49m\u001b[43mruntime\u001b[49m\u001b[43m)\u001b[49m\n\u001b[1;32m    398\u001b[0m runtime \u001b[38;5;241m=\u001b[39m \u001b[38;5;28mself\u001b[39m\u001b[38;5;241m.\u001b[39m_post_run_hook(runtime)\n\u001b[1;32m    399\u001b[0m \u001b[38;5;66;03m# Collect outputs\u001b[39;00m\n",
      "File \u001b[0;32m~/anaconda3/envs/TorchEnv/lib/python3.8/site-packages/nipype/interfaces/base/core.py:764\u001b[0m, in \u001b[0;36mCommandLine._run_interface\u001b[0;34m(self, runtime, correct_return_codes)\u001b[0m\n\u001b[1;32m    758\u001b[0m runtime\u001b[38;5;241m.\u001b[39mcommand_path \u001b[38;5;241m=\u001b[39m cmd_path\n\u001b[1;32m    759\u001b[0m runtime\u001b[38;5;241m.\u001b[39mdependencies \u001b[38;5;241m=\u001b[39m (\n\u001b[1;32m    760\u001b[0m     get_dependencies(executable_name, runtime\u001b[38;5;241m.\u001b[39menviron)\n\u001b[1;32m    761\u001b[0m     \u001b[38;5;28;01mif\u001b[39;00m \u001b[38;5;28mself\u001b[39m\u001b[38;5;241m.\u001b[39m_ldd\n\u001b[1;32m    762\u001b[0m     \u001b[38;5;28;01melse\u001b[39;00m \u001b[38;5;124m\"\u001b[39m\u001b[38;5;124m<skipped>\u001b[39m\u001b[38;5;124m\"\u001b[39m\n\u001b[1;32m    763\u001b[0m )\n\u001b[0;32m--> 764\u001b[0m runtime \u001b[38;5;241m=\u001b[39m \u001b[43mrun_command\u001b[49m\u001b[43m(\u001b[49m\n\u001b[1;32m    765\u001b[0m \u001b[43m    \u001b[49m\u001b[43mruntime\u001b[49m\u001b[43m,\u001b[49m\n\u001b[1;32m    766\u001b[0m \u001b[43m    \u001b[49m\u001b[43moutput\u001b[49m\u001b[38;5;241;43m=\u001b[39;49m\u001b[38;5;28;43mself\u001b[39;49m\u001b[38;5;241;43m.\u001b[39;49m\u001b[43mterminal_output\u001b[49m\u001b[43m,\u001b[49m\n\u001b[1;32m    767\u001b[0m \u001b[43m    \u001b[49m\u001b[43mwrite_cmdline\u001b[49m\u001b[38;5;241;43m=\u001b[39;49m\u001b[38;5;28;43mself\u001b[39;49m\u001b[38;5;241;43m.\u001b[39;49m\u001b[43mwrite_cmdline\u001b[49m\u001b[43m,\u001b[49m\n\u001b[1;32m    768\u001b[0m \u001b[43m\u001b[49m\u001b[43m)\u001b[49m\n\u001b[1;32m    769\u001b[0m \u001b[38;5;28;01mreturn\u001b[39;00m runtime\n",
      "File \u001b[0;32m~/anaconda3/envs/TorchEnv/lib/python3.8/site-packages/nipype/utils/subprocess.py:141\u001b[0m, in \u001b[0;36mrun_command\u001b[0;34m(runtime, output, timeout, write_cmdline)\u001b[0m\n\u001b[1;32m    139\u001b[0m \u001b[38;5;28;01mwhile\u001b[39;00m proc\u001b[38;5;241m.\u001b[39mreturncode \u001b[38;5;129;01mis\u001b[39;00m \u001b[38;5;28;01mNone\u001b[39;00m:\n\u001b[1;32m    140\u001b[0m     proc\u001b[38;5;241m.\u001b[39mpoll()\n\u001b[0;32m--> 141\u001b[0m     \u001b[43m_process\u001b[49m\u001b[43m(\u001b[49m\u001b[43m)\u001b[49m\n\u001b[1;32m    143\u001b[0m _process(drain\u001b[38;5;241m=\u001b[39m\u001b[38;5;241m1\u001b[39m)\n\u001b[1;32m    145\u001b[0m \u001b[38;5;66;03m# collect results, merge and return\u001b[39;00m\n",
      "File \u001b[0;32m~/anaconda3/envs/TorchEnv/lib/python3.8/site-packages/nipype/utils/subprocess.py:128\u001b[0m, in \u001b[0;36mrun_command.<locals>._process\u001b[0;34m(drain)\u001b[0m\n\u001b[1;32m    126\u001b[0m \u001b[38;5;28;01mdef\u001b[39;00m \u001b[38;5;21m_process\u001b[39m(drain\u001b[38;5;241m=\u001b[39m\u001b[38;5;241m0\u001b[39m):\n\u001b[1;32m    127\u001b[0m     \u001b[38;5;28;01mtry\u001b[39;00m:\n\u001b[0;32m--> 128\u001b[0m         res \u001b[38;5;241m=\u001b[39m \u001b[43mselect\u001b[49m\u001b[38;5;241;43m.\u001b[39;49m\u001b[43mselect\u001b[49m\u001b[43m(\u001b[49m\u001b[43mstreams\u001b[49m\u001b[43m,\u001b[49m\u001b[43m \u001b[49m\u001b[43m[\u001b[49m\u001b[43m]\u001b[49m\u001b[43m,\u001b[49m\u001b[43m \u001b[49m\u001b[43m[\u001b[49m\u001b[43m]\u001b[49m\u001b[43m,\u001b[49m\u001b[43m \u001b[49m\u001b[43mtimeout\u001b[49m\u001b[43m)\u001b[49m\n\u001b[1;32m    129\u001b[0m     \u001b[38;5;28;01mexcept\u001b[39;00m select\u001b[38;5;241m.\u001b[39merror \u001b[38;5;28;01mas\u001b[39;00m e:\n\u001b[1;32m    130\u001b[0m         iflogger\u001b[38;5;241m.\u001b[39minfo(e)\n",
      "\u001b[0;31mKeyboardInterrupt\u001b[0m: "
     ]
    }
   ],
   "source": [
    "import os\n",
    "import nibabel as nib\n",
    "import numpy as np\n",
    "import torch\n",
    "from nipype.interfaces import fsl\n",
    "from tqdm import tqdm\n",
    "import pandas as pd\n",
    "import glob\n",
    "\n",
    "def run_bet(in_file, out_file, mask_file):\n",
    "    bet = fsl.BET(in_file=in_file, out_file=out_file, mask=True, frac=0.3)\n",
    "    result = bet.run()\n",
    "    \n",
    "    possible_mask_files = glob.glob(out_file.replace('.nii.gz', '') + '*mask.nii.gz')\n",
    "    \n",
    "    if possible_mask_files:\n",
    "        os.rename(possible_mask_files[0], mask_file)\n",
    "    else:\n",
    "        bet_img = nib.load(out_file)\n",
    "        bet_data = bet_img.get_fdata()\n",
    "        mask_data = (bet_data > 0).astype(np.int16)\n",
    "        mask_img = nib.Nifti1Image(mask_data, bet_img.affine, bet_img.header)\n",
    "        nib.save(mask_img, mask_file)\n",
    "    \n",
    "    return result\n",
    "def run_flirt(in_file, ref_file, out_file, out_matrix_file, dof=12):\n",
    "    flirt = fsl.FLIRT()\n",
    "    flirt.inputs.in_file = in_file\n",
    "    flirt.inputs.reference = ref_file\n",
    "    flirt.inputs.out_file = out_file\n",
    "    flirt.inputs.out_matrix_file = out_matrix_file\n",
    "    flirt.inputs.dof = dof\n",
    "    flirt.inputs.cost = 'corratio'\n",
    "    return flirt.run()\n",
    "\n",
    "def apply_mask(in_file, mask_file, out_file):\n",
    "    apply_mask = fsl.ApplyMask()\n",
    "    apply_mask.inputs.in_file = in_file\n",
    "    apply_mask.inputs.mask_file = mask_file\n",
    "    apply_mask.inputs.out_file = out_file\n",
    "    return apply_mask.run()\n",
    "\n",
    "def preprocess_fmri_3d_pointing(func_file, standard_file, output_dir, subject_id, session_id):\n",
    "    os.makedirs(output_dir, exist_ok=True)\n",
    "\n",
    "    func_img = nib.load(func_file)\n",
    "    func_data = func_img.get_fdata()\n",
    "    num_volumes = func_data.shape[3]\n",
    "\n",
    "    subject_output_dir = os.path.join(output_dir, 'img', f\"sub-{subject_id}_ses-{session_id}\")\n",
    "    os.makedirs(subject_output_dir, exist_ok=True)\n",
    "\n",
    "    # Extract first volume and run BET\n",
    "    first_volume = func_data[:,:,:,0]\n",
    "    first_volume_img = nib.Nifti1Image(first_volume, func_img.affine)\n",
    "    first_volume_file = os.path.join(output_dir, \"first_volume.nii.gz\")\n",
    "    nib.save(first_volume_img, first_volume_file)\n",
    "\n",
    "    bet_output = os.path.join(output_dir, \"bet_first_volume.nii.gz\")\n",
    "    mask_file = os.path.join(output_dir, \"brain_mask.nii.gz\")\n",
    "    run_bet(first_volume_file, bet_output, mask_file)\n",
    "\n",
    "    for i in tqdm(range(num_volumes), desc=f\"Processing volumes for subject {subject_id}\"):\n",
    "        volume = func_data[:,:,:,i]\n",
    "        volume_img = nib.Nifti1Image(volume, func_img.affine)\n",
    "        volume_file = os.path.join(output_dir, f\"volume_{i}.nii.gz\")\n",
    "        nib.save(volume_img, volume_file)\n",
    "\n",
    "        # Apply mask\n",
    "        masked_volume = os.path.join(output_dir, f\"masked_volume_{i}.nii.gz\")\n",
    "        apply_mask(volume_file, mask_file, masked_volume)\n",
    "\n",
    "        # Register to MNI space\n",
    "        mni_output = os.path.join(output_dir, f\"mni_volume_{i}.nii.gz\")\n",
    "        mni_matrix = os.path.join(output_dir, f\"mni_matrix_{i}.mat\")\n",
    "        run_flirt(masked_volume, standard_file, mni_output, mni_matrix, dof=12)\n",
    "\n",
    "        mni_volume = nib.load(mni_output).get_fdata()\n",
    "        mni_volume_norm = (mni_volume - np.mean(mni_volume)) / np.std(mni_volume)\n",
    "\n",
    "        # Save as .pt file\n",
    "        torch.save(torch.from_numpy(mni_volume_norm).float(), \n",
    "                   os.path.join(subject_output_dir, f\"frame_{i:04d}.pt\"))\n",
    "\n",
    "        for file in [volume_file, masked_volume, mni_output, mni_matrix]:\n",
    "            if os.path.exists(file):\n",
    "                os.remove(file)\n",
    "\n",
    "    # Clean up\n",
    "    os.remove(first_volume_file)\n",
    "    os.remove(bet_output)\n",
    "    os.remove(mask_file)\n",
    "\n",
    "\n",
    "def process_all_subjects(base_dir, output_dir, standard_file):\n",
    "    subjects_processed = []\n",
    "\n",
    "    for subject_folder in os.listdir(base_dir):\n",
    "        subject_id = subject_folder.split('_')[0]\n",
    "        session_id = subject_folder.split('_')[2]\n",
    "        \n",
    "        func_file = os.path.join(base_dir, subject_folder, \"func2\", \"NIFTI\", f\"sub-{subject_id}_ses-{session_id}_task-rest_run-02_bold.nii.gz\")\n",
    "        \n",
    "        if os.path.exists(func_file):\n",
    "            print(f\"Processing subject {subject_id}, session {session_id}\")\n",
    "            preprocess_fmri_3d_pointing(func_file, standard_file, output_dir, subject_id, session_id)\n",
    "            subjects_processed.append((subject_id, session_id))\n",
    "\n",
    "    return subjects_processed\n",
    "    \n",
    "base_dir = \"/home/minyoungxi/MINYOUNGXI/XFL/Data/OASISSamples7.1\"\n",
    "output_dir = \"/home/minyoungxi/MINYOUNGXI/XFL/Data/OASIS_MNI_to_TRs\"\n",
    "standard_file = os.path.join(os.environ['FSLDIR'], 'data', 'standard', 'MNI152_T1_1mm_brain.nii.gz')\n",
    "\n",
    "subjects_processed = process_all_subjects(base_dir, output_dir, standard_file)\n",
    "create_metadata_file(subjects_processed, output_dir)\n",
    "\n",
    "print(\"Preprocessing and data structuring completed.\")"
   ]
  },
  {
   "cell_type": "markdown",
   "metadata": {},
   "source": [
    "# Clinical data"
   ]
  },
  {
   "cell_type": "code",
   "execution_count": 4,
   "metadata": {},
   "outputs": [
    {
     "name": "stdout",
     "output_type": "stream",
     "text": [
      "Processing subject OAS30033, session d0133\n"
     ]
    },
    {
     "name": "stderr",
     "output_type": "stream",
     "text": [
      "Processing volumes for subject OAS30033: 100%|██████████| 164/164 [13:29<00:00,  4.94s/it]\n"
     ]
    },
    {
     "name": "stdout",
     "output_type": "stream",
     "text": [
      "Processing subject OAS30124, session d0046\n"
     ]
    },
    {
     "name": "stderr",
     "output_type": "stream",
     "text": [
      "Processing volumes for subject OAS30124: 100%|██████████| 164/164 [13:08<00:00,  4.81s/it]\n"
     ]
    },
    {
     "name": "stdout",
     "output_type": "stream",
     "text": [
      "Processing subject OAS30064, session d0687\n"
     ]
    },
    {
     "name": "stderr",
     "output_type": "stream",
     "text": [
      "Processing volumes for subject OAS30064: 100%|██████████| 164/164 [13:32<00:00,  4.95s/it]\n"
     ]
    },
    {
     "name": "stdout",
     "output_type": "stream",
     "text": [
      "Processing subject OAS30084, session d0470\n"
     ]
    },
    {
     "name": "stderr",
     "output_type": "stream",
     "text": [
      "Processing volumes for subject OAS30084: 100%|██████████| 164/164 [13:33<00:00,  4.96s/it]\n"
     ]
    },
    {
     "name": "stdout",
     "output_type": "stream",
     "text": [
      "Processing subject OAS30088, session d0093\n"
     ]
    },
    {
     "name": "stderr",
     "output_type": "stream",
     "text": [
      "Processing volumes for subject OAS30088: 100%|██████████| 164/164 [13:56<00:00,  5.10s/it]\n"
     ]
    },
    {
     "name": "stdout",
     "output_type": "stream",
     "text": [
      "Processing subject OAS30016, session d0021\n"
     ]
    },
    {
     "name": "stderr",
     "output_type": "stream",
     "text": [
      "Processing volumes for subject OAS30016: 100%|██████████| 164/164 [13:05<00:00,  4.79s/it]\n"
     ]
    },
    {
     "name": "stdout",
     "output_type": "stream",
     "text": [
      "Processing subject OAS30011, session d0055\n"
     ]
    },
    {
     "name": "stderr",
     "output_type": "stream",
     "text": [
      "Processing volumes for subject OAS30011: 100%|██████████| 164/164 [8:58:29<00:00, 197.01s/it]    \n"
     ]
    },
    {
     "name": "stdout",
     "output_type": "stream",
     "text": [
      "Processing subject OAS30087, session d0260\n"
     ]
    },
    {
     "name": "stderr",
     "output_type": "stream",
     "text": [
      "Processing volumes for subject OAS30087: 100%|██████████| 164/164 [13:45<00:00,  5.03s/it]\n"
     ]
    },
    {
     "name": "stdout",
     "output_type": "stream",
     "text": [
      "Processing subject OAS30061, session d0035\n"
     ]
    },
    {
     "name": "stderr",
     "output_type": "stream",
     "text": [
      "Processing volumes for subject OAS30061: 100%|██████████| 164/164 [14:03<00:00,  5.14s/it]"
     ]
    },
    {
     "name": "stdout",
     "output_type": "stream",
     "text": [
      "Metadata file created: /home/minyoungxi/MINYOUNGXI/XFL/Data/OASIS_MNI_to_TRs/metadata/metafile.csv\n",
      "\n",
      "CDR Distribution:\n",
      "target\n",
      "-1.0    9\n",
      "Name: count, dtype: int64\n",
      "\n",
      "Diagnosis Distribution:\n",
      "dx1\n",
      "-1    9\n",
      "Name: count, dtype: int64\n"
     ]
    },
    {
     "name": "stderr",
     "output_type": "stream",
     "text": [
      "\n"
     ]
    }
   ],
   "source": [
    "def create_metadata_file(subjects_processed, output_dir, clinical_data_path):\n",
    "\n",
    "    clinical_data = pd.read_csv(clinical_data_path)\n",
    "    \n",
    "    processed_metadata = pd.DataFrame(subjects_processed, columns=['subject_id', 'session_id'])\n",
    "    \n",
    "    merged_data = pd.merge(\n",
    "        processed_metadata,\n",
    "        clinical_data,\n",
    "        left_on=['subject_id', 'session_id'],\n",
    "        right_on=['OASISID', 'OASIS_session_label'],\n",
    "        how='left'\n",
    "    )\n",
    "    \n",
    "    merged_data['target'] = merged_data['CDRTOT']\n",
    "    \n",
    "    final_metadata = merged_data[['subject_id', 'session_id', 'target', 'age at visit', 'MMSE', 'dx1', 'CDRSUM']]\n",
    "    \n",
    "    final_metadata = final_metadata.fillna(-1)\n",
    "    \n",
    "    metadata_file = os.path.join(output_dir, 'metadata', 'metafile.csv')\n",
    "    os.makedirs(os.path.join(output_dir, 'metadata'), exist_ok=True)\n",
    "    final_metadata.to_csv(metadata_file, index=False)\n",
    "    print(f\"Metadata file created: {metadata_file}\")\n",
    "    \n",
    "    print(\"\\nCDR Distribution:\")\n",
    "    print(final_metadata['target'].value_counts(dropna=False))\n",
    "    print(\"\\nDiagnosis Distribution:\")\n",
    "    print(final_metadata['dx1'].value_counts(dropna=False))\n",
    "\n",
    "clinical_data_path = \"/home/minyoungxi/MINYOUNGXI/XFL/Data/Clinical_data/20240429_csv_OASIS3_all_files_XNAT_download_Suji_to_XFL_Share_240606/Suji-20240429_111322_OASIS3_Actions_Download Images_Whole_csv/OASIS3_data_files/UDSb4/csv/OASIS3_UDSb4_cdr.csv\"  # Clinical 데이터 파일 경로\n",
    "subjects_processed = process_all_subjects(base_dir, output_dir, standard_file)\n",
    "create_metadata_file(subjects_processed, output_dir, clinical_data_path)"
   ]
  },
  {
   "cell_type": "code",
   "execution_count": null,
   "metadata": {},
   "outputs": [],
   "source": []
  }
 ],
 "metadata": {
  "kernelspec": {
   "display_name": "TorchEnv",
   "language": "python",
   "name": "python3"
  },
  "language_info": {
   "codemirror_mode": {
    "name": "ipython",
    "version": 3
   },
   "file_extension": ".py",
   "mimetype": "text/x-python",
   "name": "python",
   "nbconvert_exporter": "python",
   "pygments_lexer": "ipython3",
   "version": "3.8.16"
  }
 },
 "nbformat": 4,
 "nbformat_minor": 2
}
