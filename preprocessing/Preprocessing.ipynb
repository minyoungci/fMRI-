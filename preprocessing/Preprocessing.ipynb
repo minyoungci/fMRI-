{
 "cells": [
  {
   "cell_type": "code",
   "execution_count": 3,
   "metadata": {},
   "outputs": [
    {
     "name": "stdout",
     "output_type": "stream",
     "text": [
      "Processing subject OAS30033, session d0133\n"
     ]
    },
    {
     "name": "stderr",
     "output_type": "stream",
     "text": [
      "Processing volumes for subject OAS30033: 100%|██████████| 164/164 [13:43<00:00,  5.02s/it]\n"
     ]
    },
    {
     "name": "stdout",
     "output_type": "stream",
     "text": [
      "Processing subject OAS30124, session d0046\n"
     ]
    },
    {
     "name": "stderr",
     "output_type": "stream",
     "text": [
      "Processing volumes for subject OAS30124: 100%|██████████| 164/164 [13:22<00:00,  4.89s/it]\n"
     ]
    },
    {
     "name": "stdout",
     "output_type": "stream",
     "text": [
      "Processing subject OAS30064, session d0687\n"
     ]
    },
    {
     "name": "stderr",
     "output_type": "stream",
     "text": [
      "Processing volumes for subject OAS30064: 100%|██████████| 164/164 [13:28<00:00,  4.93s/it]\n"
     ]
    },
    {
     "name": "stdout",
     "output_type": "stream",
     "text": [
      "Processing subject OAS30084, session d0470\n"
     ]
    },
    {
     "name": "stderr",
     "output_type": "stream",
     "text": [
      "Processing volumes for subject OAS30084: 100%|██████████| 164/164 [13:19<00:00,  4.88s/it]\n"
     ]
    },
    {
     "name": "stdout",
     "output_type": "stream",
     "text": [
      "Processing subject OAS30088, session d0093\n"
     ]
    },
    {
     "name": "stderr",
     "output_type": "stream",
     "text": [
      "Processing volumes for subject OAS30088: 100%|██████████| 164/164 [13:33<00:00,  4.96s/it]\n"
     ]
    },
    {
     "name": "stdout",
     "output_type": "stream",
     "text": [
      "Processing subject OAS30016, session d0021\n"
     ]
    },
    {
     "name": "stderr",
     "output_type": "stream",
     "text": [
      "Processing volumes for subject OAS30016: 100%|██████████| 164/164 [12:44<00:00,  4.66s/it]\n"
     ]
    },
    {
     "name": "stdout",
     "output_type": "stream",
     "text": [
      "Processing subject OAS30011, session d0055\n"
     ]
    },
    {
     "name": "stderr",
     "output_type": "stream",
     "text": [
      "Processing volumes for subject OAS30011: 100%|██████████| 164/164 [13:55<00:00,  5.09s/it]\n"
     ]
    },
    {
     "name": "stdout",
     "output_type": "stream",
     "text": [
      "Processing subject OAS30087, session d0260\n"
     ]
    },
    {
     "name": "stderr",
     "output_type": "stream",
     "text": [
      "Processing volumes for subject OAS30087: 100%|██████████| 164/164 [13:35<00:00,  4.97s/it]\n"
     ]
    },
    {
     "name": "stdout",
     "output_type": "stream",
     "text": [
      "Processing subject OAS30061, session d0035\n"
     ]
    },
    {
     "name": "stderr",
     "output_type": "stream",
     "text": [
      "Processing volumes for subject OAS30061: 100%|██████████| 164/164 [13:48<00:00,  5.05s/it]"
     ]
    },
    {
     "name": "stdout",
     "output_type": "stream",
     "text": [
      "Metadata file created: /home/minyoungxi/MINYOUNGXI/XFL/Data/OASIS_MNI_to_TRs/metadata/metafile.csv\n",
      "Preprocessing and data structuring completed.\n"
     ]
    },
    {
     "name": "stderr",
     "output_type": "stream",
     "text": [
      "\n"
     ]
    }
   ],
   "source": [
    "import os\n",
    "import nibabel as nib\n",
    "import numpy as np\n",
    "import torch\n",
    "from nipype.interfaces import fsl\n",
    "from tqdm import tqdm\n",
    "import pandas as pd\n",
    "\n",
    "def run_bet(in_file, out_file):\n",
    "    bet = fsl.BET(in_file=in_file, out_file=out_file, frac=0.3)\n",
    "    return bet.run()\n",
    "\n",
    "def run_flirt(in_file, ref_file, out_file, out_matrix_file, dof=12):\n",
    "    flirt = fsl.FLIRT()\n",
    "    flirt.inputs.in_file = in_file\n",
    "    flirt.inputs.reference = ref_file\n",
    "    flirt.inputs.out_file = out_file\n",
    "    flirt.inputs.out_matrix_file = out_matrix_file\n",
    "    flirt.inputs.dof = dof\n",
    "    flirt.inputs.cost = 'corratio'\n",
    "    return flirt.run()\n",
    "\n",
    "def preprocess_fmri_3d_pointing(func_file, standard_file, output_dir, subject_id, session_id):\n",
    "    os.makedirs(output_dir, exist_ok=True)\n",
    "\n",
    "    func_img = nib.load(func_file)\n",
    "    func_data = func_img.get_fdata()\n",
    "    num_volumes = func_data.shape[3]\n",
    "\n",
    "    subject_output_dir = os.path.join(output_dir, 'img', f\"sub-{subject_id}_ses-{session_id}\")\n",
    "    os.makedirs(subject_output_dir, exist_ok=True)\n",
    "\n",
    "    for i in tqdm(range(num_volumes), desc=f\"Processing volumes for subject {subject_id}\"):\n",
    "        volume = func_data[:,:,:,i]\n",
    "        volume_img = nib.Nifti1Image(volume, func_img.affine)\n",
    "        volume_file = os.path.join(output_dir, f\"volume_{i}.nii.gz\")\n",
    "        nib.save(volume_img, volume_file)\n",
    "\n",
    "        bet_output = os.path.join(output_dir, f\"bet_volume_{i}.nii.gz\")\n",
    "        run_bet(volume_file, bet_output)\n",
    "\n",
    "        mni_output = os.path.join(output_dir, f\"mni_volume_{i}.nii.gz\")\n",
    "        mni_matrix = os.path.join(output_dir, f\"mni_matrix_{i}.mat\")\n",
    "        run_flirt(bet_output, standard_file, mni_output, mni_matrix, dof=12)\n",
    "\n",
    "        mni_volume = nib.load(mni_output).get_fdata()\n",
    "        mni_volume_norm = (mni_volume - np.mean(mni_volume)) / np.std(mni_volume)\n",
    "\n",
    "        # Save as .pt file\n",
    "        torch.save(torch.from_numpy(mni_volume_norm).float(), \n",
    "                   os.path.join(subject_output_dir, f\"frame_{i:04d}.pt\"))\n",
    "\n",
    "        for file in [volume_file, bet_output, mni_output, mni_matrix]:\n",
    "            if os.path.exists(file):\n",
    "                os.remove(file)\n",
    "\n",
    "def process_all_subjects(base_dir, output_dir, standard_file):\n",
    "    subjects_processed = []\n",
    "\n",
    "    for subject_folder in os.listdir(base_dir):\n",
    "        subject_id = subject_folder.split('_')[0]\n",
    "        session_id = subject_folder.split('_')[2]\n",
    "        \n",
    "        func_file = os.path.join(base_dir, subject_folder, \"func2\", \"NIFTI\", f\"sub-{subject_id}_ses-{session_id}_task-rest_run-02_bold.nii.gz\")\n",
    "        \n",
    "        if os.path.exists(func_file):\n",
    "            print(f\"Processing subject {subject_id}, session {session_id}\")\n",
    "            preprocess_fmri_3d_pointing(func_file, standard_file, output_dir, subject_id, session_id)\n",
    "            subjects_processed.append((subject_id, session_id))\n",
    "\n",
    "    return subjects_processed\n",
    "\n",
    "def create_metadata_file(subjects_processed, output_dir):\n",
    "    metadata = pd.DataFrame(subjects_processed, columns=['subject_id', 'session_id'])\n",
    "    metadata['target'] = 0  # 여기에 실제 타겟 값을 설정해야 합니다\n",
    "    metadata_file = os.path.join(output_dir, 'metadata', 'metafile.csv')\n",
    "    os.makedirs(os.path.join(output_dir, 'metadata'), exist_ok=True)\n",
    "    metadata.to_csv(metadata_file, index=False)\n",
    "    print(f\"Metadata file created: {metadata_file}\")\n",
    "\n",
    "# 메인 실행 코드\n",
    "base_dir = \"/home/minyoungxi/MINYOUNGXI/XFL/Data/OASISSamples7.1\"\n",
    "output_dir = \"/home/minyoungxi/MINYOUNGXI/XFL/Data/OASIS_MNI_to_TRs\"\n",
    "standard_file = os.path.join(os.environ['FSLDIR'], 'data', 'standard', 'MNI152_T1_1mm_brain.nii.gz')\n",
    "\n",
    "subjects_processed = process_all_subjects(base_dir, output_dir, standard_file)\n",
    "create_metadata_file(subjects_processed, output_dir)\n",
    "\n",
    "print(\"Preprocessing and data structuring completed.\")"
   ]
  },
  {
   "cell_type": "markdown",
   "metadata": {},
   "source": [
    "# Clinical data"
   ]
  },
  {
   "cell_type": "code",
   "execution_count": 4,
   "metadata": {},
   "outputs": [
    {
     "name": "stdout",
     "output_type": "stream",
     "text": [
      "Processing subject OAS30033, session d0133\n"
     ]
    },
    {
     "name": "stderr",
     "output_type": "stream",
     "text": [
      "Processing volumes for subject OAS30033: 100%|██████████| 164/164 [13:29<00:00,  4.94s/it]\n"
     ]
    },
    {
     "name": "stdout",
     "output_type": "stream",
     "text": [
      "Processing subject OAS30124, session d0046\n"
     ]
    },
    {
     "name": "stderr",
     "output_type": "stream",
     "text": [
      "Processing volumes for subject OAS30124: 100%|██████████| 164/164 [13:08<00:00,  4.81s/it]\n"
     ]
    },
    {
     "name": "stdout",
     "output_type": "stream",
     "text": [
      "Processing subject OAS30064, session d0687\n"
     ]
    },
    {
     "name": "stderr",
     "output_type": "stream",
     "text": [
      "Processing volumes for subject OAS30064: 100%|██████████| 164/164 [13:32<00:00,  4.95s/it]\n"
     ]
    },
    {
     "name": "stdout",
     "output_type": "stream",
     "text": [
      "Processing subject OAS30084, session d0470\n"
     ]
    },
    {
     "name": "stderr",
     "output_type": "stream",
     "text": [
      "Processing volumes for subject OAS30084: 100%|██████████| 164/164 [13:33<00:00,  4.96s/it]\n"
     ]
    },
    {
     "name": "stdout",
     "output_type": "stream",
     "text": [
      "Processing subject OAS30088, session d0093\n"
     ]
    },
    {
     "name": "stderr",
     "output_type": "stream",
     "text": [
      "Processing volumes for subject OAS30088: 100%|██████████| 164/164 [13:56<00:00,  5.10s/it]\n"
     ]
    },
    {
     "name": "stdout",
     "output_type": "stream",
     "text": [
      "Processing subject OAS30016, session d0021\n"
     ]
    },
    {
     "name": "stderr",
     "output_type": "stream",
     "text": [
      "Processing volumes for subject OAS30016: 100%|██████████| 164/164 [13:05<00:00,  4.79s/it]\n"
     ]
    },
    {
     "name": "stdout",
     "output_type": "stream",
     "text": [
      "Processing subject OAS30011, session d0055\n"
     ]
    },
    {
     "name": "stderr",
     "output_type": "stream",
     "text": [
      "Processing volumes for subject OAS30011: 100%|██████████| 164/164 [8:58:29<00:00, 197.01s/it]    \n"
     ]
    },
    {
     "name": "stdout",
     "output_type": "stream",
     "text": [
      "Processing subject OAS30087, session d0260\n"
     ]
    },
    {
     "name": "stderr",
     "output_type": "stream",
     "text": [
      "Processing volumes for subject OAS30087: 100%|██████████| 164/164 [13:45<00:00,  5.03s/it]\n"
     ]
    },
    {
     "name": "stdout",
     "output_type": "stream",
     "text": [
      "Processing subject OAS30061, session d0035\n"
     ]
    },
    {
     "name": "stderr",
     "output_type": "stream",
     "text": [
      "Processing volumes for subject OAS30061: 100%|██████████| 164/164 [14:03<00:00,  5.14s/it]"
     ]
    },
    {
     "name": "stdout",
     "output_type": "stream",
     "text": [
      "Metadata file created: /home/minyoungxi/MINYOUNGXI/XFL/Data/OASIS_MNI_to_TRs/metadata/metafile.csv\n",
      "\n",
      "CDR Distribution:\n",
      "target\n",
      "-1.0    9\n",
      "Name: count, dtype: int64\n",
      "\n",
      "Diagnosis Distribution:\n",
      "dx1\n",
      "-1    9\n",
      "Name: count, dtype: int64\n"
     ]
    },
    {
     "name": "stderr",
     "output_type": "stream",
     "text": [
      "\n"
     ]
    }
   ],
   "source": [
    "def create_metadata_file(subjects_processed, output_dir, clinical_data_path):\n",
    "\n",
    "    clinical_data = pd.read_csv(clinical_data_path)\n",
    "    \n",
    "    processed_metadata = pd.DataFrame(subjects_processed, columns=['subject_id', 'session_id'])\n",
    "    \n",
    "    merged_data = pd.merge(\n",
    "        processed_metadata,\n",
    "        clinical_data,\n",
    "        left_on=['subject_id', 'session_id'],\n",
    "        right_on=['OASISID', 'OASIS_session_label'],\n",
    "        how='left'\n",
    "    )\n",
    "    \n",
    "    merged_data['target'] = merged_data['CDRTOT']\n",
    "    \n",
    "    final_metadata = merged_data[['subject_id', 'session_id', 'target', 'age at visit', 'MMSE', 'dx1', 'CDRSUM']]\n",
    "    \n",
    "    final_metadata = final_metadata.fillna(-1)\n",
    "    \n",
    "    metadata_file = os.path.join(output_dir, 'metadata', 'metafile.csv')\n",
    "    os.makedirs(os.path.join(output_dir, 'metadata'), exist_ok=True)\n",
    "    final_metadata.to_csv(metadata_file, index=False)\n",
    "    print(f\"Metadata file created: {metadata_file}\")\n",
    "    \n",
    "    print(\"\\nCDR Distribution:\")\n",
    "    print(final_metadata['target'].value_counts(dropna=False))\n",
    "    print(\"\\nDiagnosis Distribution:\")\n",
    "    print(final_metadata['dx1'].value_counts(dropna=False))\n",
    "\n",
    "clinical_data_path = \"/home/minyoungxi/MINYOUNGXI/XFL/Data/Clinical_data/20240429_csv_OASIS3_all_files_XNAT_download_Suji_to_XFL_Share_240606/Suji-20240429_111322_OASIS3_Actions_Download Images_Whole_csv/OASIS3_data_files/UDSb4/csv/OASIS3_UDSb4_cdr.csv\"  # Clinical 데이터 파일 경로\n",
    "subjects_processed = process_all_subjects(base_dir, output_dir, standard_file)\n",
    "create_metadata_file(subjects_processed, output_dir, clinical_data_path)"
   ]
  },
  {
   "cell_type": "code",
   "execution_count": null,
   "metadata": {},
   "outputs": [],
   "source": []
  }
 ],
 "metadata": {
  "kernelspec": {
   "display_name": "TorchEnv",
   "language": "python",
   "name": "python3"
  },
  "language_info": {
   "codemirror_mode": {
    "name": "ipython",
    "version": 3
   },
   "file_extension": ".py",
   "mimetype": "text/x-python",
   "name": "python",
   "nbconvert_exporter": "python",
   "pygments_lexer": "ipython3",
   "version": "3.8.16"
  }
 },
 "nbformat": 4,
 "nbformat_minor": 2
}
