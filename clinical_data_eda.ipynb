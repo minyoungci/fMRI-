{
 "cells": [
  {
   "cell_type": "code",
   "execution_count": 8,
   "metadata": {},
   "outputs": [],
   "source": [
    "import pandas as pd \n",
    "\n",
    "csv_file_path = 'final_y_nii_4class_unisex_65to75_only_ad_and_nc.csv'\n",
    "\n",
    "data = pd.read_csv(csv_file_path)\n",
    "\n",
    "# 나이 범위 필터링\n",
    "age_filtered_data = data[data['Age'] >= 75]"
   ]
  },
  {
   "cell_type": "code",
   "execution_count": 10,
   "metadata": {},
   "outputs": [
    {
     "data": {
      "text/plain": [
       "Age\n",
       "75    144\n",
       "Name: count, dtype: int64"
      ]
     },
     "execution_count": 10,
     "metadata": {},
     "output_type": "execute_result"
    }
   ],
   "source": [
    "age_filtered_data['Age'].value_counts()"
   ]
  },
  {
   "cell_type": "code",
   "execution_count": 25,
   "metadata": {},
   "outputs": [
    {
     "data": {
      "text/html": [
       "<div>\n",
       "<style scoped>\n",
       "    .dataframe tbody tr th:only-of-type {\n",
       "        vertical-align: middle;\n",
       "    }\n",
       "\n",
       "    .dataframe tbody tr th {\n",
       "        vertical-align: top;\n",
       "    }\n",
       "\n",
       "    .dataframe thead th {\n",
       "        text-align: right;\n",
       "    }\n",
       "</style>\n",
       "<table border=\"1\" class=\"dataframe\">\n",
       "  <thead>\n",
       "    <tr style=\"text-align: right;\">\n",
       "      <th></th>\n",
       "      <th>MR session ID</th>\n",
       "      <th>file name</th>\n",
       "      <th>MR ID</th>\n",
       "      <th>Subject_x</th>\n",
       "      <th>Age</th>\n",
       "      <th>Age 2</th>\n",
       "      <th>M/F</th>\n",
       "      <th>cdr</th>\n",
       "      <th>Diagnosis</th>\n",
       "      <th>Class</th>\n",
       "      <th>...</th>\n",
       "      <th>homehobb</th>\n",
       "      <th>judgment</th>\n",
       "      <th>memory</th>\n",
       "      <th>orient</th>\n",
       "      <th>perscare</th>\n",
       "      <th>apoe</th>\n",
       "      <th>sumbox</th>\n",
       "      <th>height</th>\n",
       "      <th>weight</th>\n",
       "      <th>Race_y</th>\n",
       "    </tr>\n",
       "  </thead>\n",
       "  <tbody>\n",
       "  </tbody>\n",
       "</table>\n",
       "<p>0 rows × 39 columns</p>\n",
       "</div>"
      ],
      "text/plain": [
       "Empty DataFrame\n",
       "Columns: [MR session ID, file name, MR ID, Subject_x, Age, Age 2, M/F, cdr, Diagnosis, Class, Race_x, Session, Visit ID, Scanner, Scans, FreeSurfers, Inserted, Education, LABEL, ADRC_ADRCCLINICALDATA ID, Subject_y, dx1, dx2, dx3, dx4, dx5, mmse, ageAtEntry, commun, homehobb, judgment, memory, orient, perscare, apoe, sumbox, height, weight, Race_y]\n",
       "Index: []\n",
       "\n",
       "[0 rows x 39 columns]"
      ]
     },
     "execution_count": 25,
     "metadata": {},
     "output_type": "execute_result"
    }
   ],
   "source": [
    "import os\n",
    "import pandas as pd\n",
    "\n",
    "# CSV 파일 로드\n",
    "csv_file_path = 'final_y_nii_4class_unisex_65to75_only_ad_and_nc.csv'\n",
    "data = pd.read_csv(csv_file_path)\n",
    "\n",
    "# 1. Age > 75 필터링\n",
    "age_filtered_data = data[data['Age'] > 75]\n",
    "age_filtered_data"
   ]
  },
  {
   "cell_type": "code",
   "execution_count": null,
   "metadata": {},
   "outputs": [],
   "source": []
  }
 ],
 "metadata": {
  "kernelspec": {
   "display_name": "TorchEnv",
   "language": "python",
   "name": "python3"
  },
  "language_info": {
   "codemirror_mode": {
    "name": "ipython",
    "version": 3
   },
   "file_extension": ".py",
   "mimetype": "text/x-python",
   "name": "python",
   "nbconvert_exporter": "python",
   "pygments_lexer": "ipython3",
   "version": "3.8.16"
  }
 },
 "nbformat": 4,
 "nbformat_minor": 2
}
