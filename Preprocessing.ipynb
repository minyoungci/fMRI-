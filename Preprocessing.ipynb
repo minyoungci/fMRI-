{
 "cells": [
  {
   "cell_type": "code",
   "execution_count": 9,
   "metadata": {},
   "outputs": [],
   "source": [
    "import nibabel as nib\n",
    "\n",
    "# 1. NIfTI 파일 읽기\n",
    "fmri_img_path = '/home/minyoungxi/MINYOUNGXI/XFL/UKB_Over_75_resting_functional_MRI/1002051_20227_2_0/fMRI/rfMRI.nii.gz'\n",
    "sbref_img_path = '/home/minyoungxi/MINYOUNGXI/XFL/UKB_Over_75_resting_functional_MRI/1002051_20227_2_0/fMRI/rfMRI_SBREF.nii.gz'"
   ]
  },
  {
   "cell_type": "code",
   "execution_count": 10,
   "metadata": {},
   "outputs": [
    {
     "name": "stdout",
     "output_type": "stream",
     "text": [
      "<class 'nibabel.nifti1.Nifti1Header'> object, endian='<'\n",
      "sizeof_hdr      : 348\n",
      "data_type       : b''\n",
      "db_name         : b''\n",
      "extents         : 0\n",
      "session_error   : 0\n",
      "regular         : b'r'\n",
      "dim_info        : 57\n",
      "dim             : [  4  88  88  64 490   0   0   0]\n",
      "intent_p1       : 0.0\n",
      "intent_p2       : 0.0\n",
      "intent_p3       : 0.0\n",
      "intent_code     : none\n",
      "datatype        : int16\n",
      "bitpix          : 16\n",
      "slice_start     : 0\n",
      "pixdim          : [-1.         2.3863637  2.3863637  2.4        0.735      0.\n",
      "  0.         0.       ]\n",
      "vox_offset      : 0.0\n",
      "scl_slope       : nan\n",
      "scl_inter       : nan\n",
      "slice_end       : 0\n",
      "slice_code      : unknown\n",
      "xyzt_units      : 10\n",
      "cal_max         : 0.0\n",
      "cal_min         : 0.0\n",
      "slice_duration  : 0.0\n",
      "toffset         : 0.0\n",
      "glmax           : 0\n",
      "glmin           : 0\n",
      "descrip         : b'TE=42;Time=130453.405;phase=1;dwell=0.640'\n",
      "aux_file        : b'Unaliased_MB8_PE3_SENSE'\n",
      "qform_code      : scanner\n",
      "sform_code      : scanner\n",
      "quatern_b       : 0.047405\n",
      "quatern_c       : -0.9827322\n",
      "quatern_d       : -0.17638627\n",
      "qoffset_x       : 112.528595\n",
      "qoffset_y       : -80.33722\n",
      "qoffset_z       : -154.10968\n",
      "srow_x          : [ -2.3714473   -0.19739799   0.17991772 112.528595  ]\n",
      "srow_y          : [ -0.24729063   2.2271488   -0.8252915  -80.33722   ]\n",
      "srow_z          : [ 9.9080272e-02  8.3401132e-01  2.2464471e+00 -1.5410968e+02]\n",
      "intent_name     : b''\n",
      "magic           : b'n+1'\n",
      "<class 'nibabel.nifti1.Nifti1Header'> object, endian='<'\n",
      "sizeof_hdr      : 348\n",
      "data_type       : b''\n",
      "db_name         : b''\n",
      "extents         : 0\n",
      "session_error   : 0\n",
      "regular         : b'r'\n",
      "dim_info        : 57\n",
      "dim             : [ 3 88 88 64  1  0  0  0]\n",
      "intent_p1       : 0.0\n",
      "intent_p2       : 0.0\n",
      "intent_p3       : 0.0\n",
      "intent_code     : none\n",
      "datatype        : uint16\n",
      "bitpix          : 16\n",
      "slice_start     : 0\n",
      "pixdim          : [-1.         2.3863637  2.3863637  2.4        0.735      0.\n",
      "  0.         0.       ]\n",
      "vox_offset      : 0.0\n",
      "scl_slope       : nan\n",
      "scl_inter       : nan\n",
      "slice_end       : 0\n",
      "slice_code      : sequential increasing\n",
      "xyzt_units      : 10\n",
      "cal_max         : 0.0\n",
      "cal_min         : 0.0\n",
      "slice_duration  : 0.0\n",
      "toffset         : 0.0\n",
      "glmax           : 0\n",
      "glmin           : 0\n",
      "descrip         : b'TE=42;Time=130443.850;phase=1;dwell=0.640'\n",
      "aux_file        : b'Single-band_reference_S'\n",
      "qform_code      : scanner\n",
      "sform_code      : scanner\n",
      "quatern_b       : 0.047405\n",
      "quatern_c       : -0.9827322\n",
      "quatern_d       : -0.17638627\n",
      "qoffset_x       : 112.528595\n",
      "qoffset_y       : -80.33722\n",
      "qoffset_z       : -154.10968\n",
      "srow_x          : [ -2.3714473   -0.19739799   0.17991772 112.528595  ]\n",
      "srow_y          : [ -0.24729063   2.2271488   -0.8252915  -80.33722   ]\n",
      "srow_z          : [ 9.9080272e-02  8.3401132e-01  2.2464471e+00 -1.5410968e+02]\n",
      "intent_name     : b''\n",
      "magic           : b'n+1'\n"
     ]
    }
   ],
   "source": [
    "fmri_img = nib.load(fmri_img_path)\n",
    "sbref_img = nib.load(sbref_img_path)\n",
    "print(fmri_img.header)\n",
    "print(sbref_img.header)"
   ]
  },
  {
   "cell_type": "code",
   "execution_count": 12,
   "metadata": {},
   "outputs": [
    {
     "data": {
      "text/plain": [
       "<nibabel.nifti1.Nifti1Image at 0x7fbe8665cb20>"
      ]
     },
     "execution_count": 12,
     "metadata": {},
     "output_type": "execute_result"
    }
   ],
   "source": [
    "fmri_img"
   ]
  },
  {
   "cell_type": "code",
   "execution_count": null,
   "metadata": {},
   "outputs": [],
   "source": []
  }
 ],
 "metadata": {
  "kernelspec": {
   "display_name": "TorchEnv",
   "language": "python",
   "name": "python3"
  },
  "language_info": {
   "codemirror_mode": {
    "name": "ipython",
    "version": 3
   },
   "file_extension": ".py",
   "mimetype": "text/x-python",
   "name": "python",
   "nbconvert_exporter": "python",
   "pygments_lexer": "ipython3",
   "version": "3.8.16"
  }
 },
 "nbformat": 4,
 "nbformat_minor": 2
}
